{
  "nbformat": 4,
  "nbformat_minor": 0,
  "metadata": {
    "colab": {
      "provenance": [],
      "authorship_tag": "ABX9TyOIkKDePk5YpgAmkS2E1m8q",
      "include_colab_link": true
    },
    "kernelspec": {
      "name": "python3",
      "display_name": "Python 3"
    },
    "language_info": {
      "name": "python"
    }
  },
  "cells": [
    {
      "cell_type": "markdown",
      "metadata": {
        "id": "view-in-github",
        "colab_type": "text"
      },
      "source": [
        "<a href=\"https://colab.research.google.com/github/ebamberg/research-projects-ml/blob/main/utilities/examples_MLFlow_InColab_with_NGROK.ipynb\" target=\"_parent\"><img src=\"https://colab.research.google.com/assets/colab-badge.svg\" alt=\"Open In Colab\"/></a>"
      ]
    },
    {
      "cell_type": "markdown",
      "source": [
        "Import our helper Library"
      ],
      "metadata": {
        "id": "9FYmO7yvU9OJ"
      }
    },
    {
      "cell_type": "code",
      "source": [
        "%load_ext autoreload\n",
        "%autoreload 2\n",
        "\n",
        "!pip install mlflow --quiet\n",
        "!pip install pyngrok --quiet\n",
        "\n",
        "from google.colab import drive\n",
        "drive.mount('/content/drive', force_remount=True)\n",
        "\n",
        "# add the path to the python library path\n",
        "import sys\n",
        "sys.path.insert(0,\"/content/drive/My Drive/Colab Notebooks\")"
      ],
      "metadata": {
        "id": "3MvtuUIYUoPI"
      },
      "execution_count": null,
      "outputs": []
    },
    {
      "cell_type": "markdown",
      "source": [
        "Start our MLFlow server in the background and expose the endpoint using nGROk"
      ],
      "metadata": {
        "id": "gAAYWr_KXKWP"
      }
    },
    {
      "cell_type": "code",
      "source": [
        "import ColabLibrary\n",
        "\n",
        "url_mlflow=ColabLibrary.startMLFlowUI()\n",
        "print (url_mlflow)"
      ],
      "metadata": {
        "id": "gfvMPbgmMkO5"
      },
      "execution_count": null,
      "outputs": []
    },
    {
      "cell_type": "code",
      "source": [
        "import mlflow\n",
        "\n",
        "mlflow.set_tracking_uri(uri=url_mlflow)\n",
        "\n",
        "# Create a new MLflow Experiment\n",
        "mlflow.set_experiment(\"ColabLibrary example\")"
      ],
      "metadata": {
        "id": "Z9dcgtaSYngm"
      },
      "execution_count": null,
      "outputs": []
    },
    {
      "cell_type": "markdown",
      "source": [
        "Now we can just implement a quick small test.Lets train the wellknown IRIS model:\n"
      ],
      "metadata": {
        "id": "7Sf74VACZp_w"
      }
    },
    {
      "cell_type": "code",
      "source": [
        "import pandas as pd\n",
        "from sklearn import datasets\n",
        "from sklearn.model_selection import train_test_split\n",
        "from sklearn.linear_model import LogisticRegression\n",
        "from sklearn.metrics import accuracy_score, precision_score, recall_score, f1_score\n",
        "\n",
        "\n",
        "# Load the Iris dataset\n",
        "X, y = datasets.load_iris(return_X_y=True)\n",
        "\n",
        "# Split the data into training and test sets\n",
        "X_train, X_test, y_train, y_test = train_test_split(\n",
        "    X, y, test_size=0.2, random_state=42\n",
        ")\n",
        "\n",
        "# Define the model hyperparameters\n",
        "params = {\n",
        "    \"solver\": \"lbfgs\",\n",
        "    \"max_iter\": 1000,\n",
        "   #  \"multi_class\": \"auto\",\n",
        "    \"random_state\": 8888,\n",
        "}\n",
        "\n",
        "# Train the model\n",
        "model = LogisticRegression(**params)\n",
        "model.fit(X_train, y_train)\n",
        "\n",
        "# Predict on the test set\n",
        "y_pred = model.predict(X_test)\n",
        "\n",
        "# Calculate metrics\n",
        "accuracy = accuracy_score(y_test, y_pred)\n",
        "\n"
      ],
      "metadata": {
        "id": "SRoDLyMnZyqV"
      },
      "execution_count": null,
      "outputs": []
    },
    {
      "cell_type": "markdown",
      "source": [
        "Now we can upload the metrics and the model to mlflow"
      ],
      "metadata": {
        "id": "P_PsjsV0aHV5"
      }
    },
    {
      "cell_type": "code",
      "source": [
        "from mlflow.models import infer_signature\n",
        "\n",
        "mlflow.set_experiment(\"IRIS Logistic Regression\")\n",
        "\n",
        "# Start an MLflow run\n",
        "with mlflow.start_run():\n",
        "    # Log the hyperparameters\n",
        "    mlflow.log_params(params)\n",
        "\n",
        "    # Log the loss metric\n",
        "    mlflow.log_metric(\"accuracy\", accuracy)\n",
        "\n",
        "    # Set a tag that we can use to remind ourselves what this run was for\n",
        "    mlflow.set_tag(\"Training Info\", \"Basic LR model for iris data\")\n",
        "\n",
        "    # Infer the model signature\n",
        "    signature = infer_signature(X_train, model.predict(X_train))\n",
        "\n",
        "    # Log the model\n",
        "    model_info = mlflow.sklearn.log_model(\n",
        "        sk_model=model,\n",
        "        artifact_path=\"iris_model\",\n",
        "        signature=signature,\n",
        "        input_example=X_train,\n",
        "        registered_model_name=\"Iris-Dataset-Logistic-Regression-test\",\n",
        "    )"
      ],
      "metadata": {
        "id": "mI4EP6gmaMjA"
      },
      "execution_count": null,
      "outputs": []
    }
  ]
}