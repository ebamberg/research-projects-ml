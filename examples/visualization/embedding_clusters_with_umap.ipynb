{
  "nbformat": 4,
  "nbformat_minor": 0,
  "metadata": {
    "colab": {
      "provenance": [],
      "gpuType": "T4",
      "authorship_tag": "ABX9TyOQzYXQh6eT9F7hPyKPVhvM",
      "include_colab_link": true
    },
    "kernelspec": {
      "name": "python3",
      "display_name": "Python 3"
    },
    "language_info": {
      "name": "python"
    },
    "accelerator": "GPU"
  },
  "cells": [
    {
      "cell_type": "markdown",
      "metadata": {
        "id": "view-in-github",
        "colab_type": "text"
      },
      "source": [
        "<a href=\"https://colab.research.google.com/github/ebamberg/research-projects-ml/blob/main/examples/visualization/embedding_clusters_with_umap.ipynb\" target=\"_parent\"><img src=\"https://colab.research.google.com/assets/colab-badge.svg\" alt=\"Open In Colab\"/></a>"
      ]
    },
    {
      "cell_type": "code",
      "source": [
        "!pip install umap-learn plotly pandas numpy sentence-transformers hdbscan tqdm ollama langchain_community --quiet\n",
        "\n",
        "!curl -L -o ./news-headlines-2024.zip https://www.kaggle.com/api/v1/datasets/download/dylanjcastillo/news-headlines-2024\n",
        "!unzip -o ./news-headlines-2024.zip"
      ],
      "metadata": {
        "colab": {
          "base_uri": "https://localhost:8080/"
        },
        "id": "aMXfZ4NAeKpu",
        "outputId": "7998f745-591b-4637-aef2-8b2e258982a2"
      },
      "execution_count": 8,
      "outputs": [
        {
          "output_type": "stream",
          "name": "stdout",
          "text": [
            "  % Total    % Received % Xferd  Average Speed   Time    Time     Time  Current\n",
            "                                 Dload  Upload   Total   Spent    Left  Speed\n",
            "  0     0    0     0    0     0      0      0 --:--:-- --:--:-- --:--:--     0\n",
            "100  225k  100  225k    0     0   409k      0 --:--:-- --:--:-- --:--:--  409k\n",
            "Archive:  ./news-headlines-2024.zip\n",
            "  inflating: news_data_dedup.csv     \n"
          ]
        }
      ]
    },
    {
      "cell_type": "code",
      "source": [
        "#modelid=\"llama3.1:8b-instruct-q4_0\"\n",
        "#modelid=\"llama3.1:8b-text-q4_0\"\n",
        "modelid=\"llama3.1\"\n",
        "emb_modelid=\"mxbai-embed-large\"\n",
        "\n",
        "get_ipython().system_raw(\"curl -fsSL https://ollama.com/install.sh | sh\")\n",
        "get_ipython().system_raw(\"ollama serve &\")\n",
        "get_ipython().system_raw(f\"ollama pull {modelid}\")\n",
        "get_ipython().system_raw(f\"ollama pull {emb_modelid}\")"
      ],
      "metadata": {
        "id": "VlWYaGo_vZJ3"
      },
      "execution_count": 9,
      "outputs": []
    },
    {
      "cell_type": "code",
      "source": [
        "import pandas as pd\n",
        "\n",
        "df = pd.read_csv(\"./news_data_dedup.csv\")\n",
        "docs = [\n",
        "    f\"{title}\\n{description}\"\n",
        "    for title, description in zip(df.title, df.description)\n",
        "]\n",
        "\n"
      ],
      "metadata": {
        "id": "tCg-JKxjgfwv"
      },
      "execution_count": 10,
      "outputs": []
    },
    {
      "cell_type": "code",
      "source": [
        "from google.colab import userdata\n",
        "from sentence_transformers import SentenceTransformer\n",
        "from umap import UMAP\n",
        "import pandas as pd\n",
        "import numpy as np\n",
        "import plotly.express as px\n",
        "import hdbscan\n",
        "from ollama import embeddings as createEmbeddings\n",
        "miniLMembeddings=False\n",
        "\n",
        "if miniLMembeddings:\n",
        "  model_id = \"sentence-transformers/all-MiniLM-L6-v2\"\n",
        "  hf_token = userdata.get('HF_TOKEN')\n",
        "\n",
        "  model = SentenceTransformer(model_id)\n",
        "\n",
        "  embeddings = model.encode(docs)\n",
        "\n",
        "  embeddings\n",
        "else:\n",
        "  embeddings = [ createEmbeddings(model=emb_modelid,prompt=doc).embedding for doc in docs ]\n"
      ],
      "metadata": {
        "id": "YxW3Uu9ve5Bs"
      },
      "execution_count": 13,
      "outputs": []
    },
    {
      "cell_type": "code",
      "source": [
        "hdb = hdbscan.HDBSCAN(min_samples=10, min_cluster_size=3 ).fit(embeddings)\n",
        "df=df.assign(cluster=lambda df: hdb.labels_.astype(str))\n",
        "df"
      ],
      "metadata": {
        "colab": {
          "base_uri": "https://localhost:8080/",
          "height": 1000
        },
        "id": "ktjm_2fHhcmD",
        "outputId": "407927e9-2eb5-4568-cbab-d9a20842abf0"
      },
      "execution_count": 14,
      "outputs": [
        {
          "output_type": "stream",
          "name": "stderr",
          "text": [
            "/usr/local/lib/python3.11/dist-packages/sklearn/utils/deprecation.py:151: FutureWarning: 'force_all_finite' was renamed to 'ensure_all_finite' in 1.6 and will be removed in 1.8.\n",
            "  warnings.warn(\n",
            "/usr/local/lib/python3.11/dist-packages/sklearn/utils/deprecation.py:151: FutureWarning: 'force_all_finite' was renamed to 'ensure_all_finite' in 1.6 and will be removed in 1.8.\n",
            "  warnings.warn(\n"
          ]
        },
        {
          "output_type": "execute_result",
          "data": {
            "text/plain": [
              "                                 guid  \\\n",
              "0    e3dc5caa18f9a16d7edcc09f8d5c2bb4   \n",
              "1    297b7152cd95e80dd200a8e1997e10d9   \n",
              "2    170bd18d1635c44b9339bdbaf1e62123   \n",
              "3    e696224ac208878a5cec8bdc9f97c632   \n",
              "4    733f744b006fb13033d264efcaf8edad   \n",
              "..                                ...   \n",
              "865  b26b379233ad059cd7b2098fa7bad86b   \n",
              "866  ad3948cb67434a9d6b7acf6beaab44fe   \n",
              "867  efe3f14a916d7d187c42662dff1d8167   \n",
              "868  89be6f3e8a2f8d75ce401e3c6c72648e   \n",
              "869  1123929cfbd9e11b3999d7116f4c1d05   \n",
              "\n",
              "                                                 title  \\\n",
              "0    Harvey Weinstein's 2020 rape conviction overtu...   \n",
              "1    Police and activists clash on Atlanta campus a...   \n",
              "2    Haiti PM resigns as transitional council sworn in   \n",
              "3    Europe risks dying and faces big decisions - M...   \n",
              "4    Prosecutors ask for halt to case against Spain...   \n",
              "..                                                 ...   \n",
              "865  A celebration ‘of the immigrant, the foreigner...   \n",
              "866  Part protest, part rave: the Indigenous artist...   \n",
              "867  The photography studio with four wheels and a ...   \n",
              "868  Lost New York: remembering the city’s forgotte...   \n",
              "869  ‘Distressing’: British newscast pulled mid-bul...   \n",
              "\n",
              "                                           description         venue  \\\n",
              "0    Victims group describes the New York appeal co...           BBC   \n",
              "1    Meanwhile, hundreds of students march in Washi...           BBC   \n",
              "2    The council will try to restore order and form...           BBC   \n",
              "3    The French president delivers a stark warning ...           BBC   \n",
              "4    Pedro Sánchez is deciding whether to resign af...           BBC   \n",
              "..                                                 ...           ...   \n",
              "865  The grand gathering of contemporary art celebr...       El Pais   \n",
              "866  From Gold Lion winner Archie Moore to Brazilia...  The Guardian   \n",
              "867  ‘The sun trickled in just as we were coming do...  The Guardian   \n",
              "868  A new exhibition at the New-York Historical So...  The Guardian   \n",
              "869  UK presenter Rageh Omaar – a veteran in the ne...   News.com.au   \n",
              "\n",
              "                                                   url  \\\n",
              "0    https://www.bbc.co.uk/news/world-us-canada-688...   \n",
              "1    https://www.bbc.co.uk/news/live/world-us-canad...   \n",
              "2    https://www.bbc.co.uk/news/world-latin-america...   \n",
              "3     https://www.bbc.co.uk/news/world-europe-68898887   \n",
              "4     https://www.bbc.co.uk/news/world-europe-68895727   \n",
              "..                                                 ...   \n",
              "865  https://english.elpais.com/culture/2024-04-19/...   \n",
              "866  https://www.theguardian.com/artanddesign/2024/...   \n",
              "867  https://www.theguardian.com/artanddesign/2024/...   \n",
              "868  https://www.theguardian.com/artanddesign/2024/...   \n",
              "869  https://www.news.com.au/world/europe/distressi...   \n",
              "\n",
              "                     published_at                     updated_at cluster  \n",
              "0          2024-04-25 18:24:04+00  2024-04-26 20:03:00.628113+00       8  \n",
              "1          2024-04-25 13:40:25+00  2024-04-26 20:03:00.654819+00       7  \n",
              "2          2024-04-25 18:11:02+00  2024-04-26 20:03:00.663393+00      -1  \n",
              "3          2024-04-25 14:51:15+00  2024-04-26 20:03:00.672106+00      -1  \n",
              "4          2024-04-25 13:07:42+00  2024-04-26 20:03:00.682205+00       3  \n",
              "..                            ...                            ...     ...  \n",
              "865        2024-04-19 21:48:57+00  2024-04-26 13:02:53.612335+00      -1  \n",
              "866        2024-04-25 10:55:43+00  2024-04-26 13:02:54.537243+00      -1  \n",
              "867        2024-04-24 12:33:27+00  2024-04-26 13:02:54.756821+00      -1  \n",
              "868        2024-04-25 14:30:06+00  2024-04-26 13:02:54.827138+00      -1  \n",
              "869  2024-04-27 06:31:59.16726+00  2024-04-27 06:32:45.714458+00      -1  \n",
              "\n",
              "[870 rows x 8 columns]"
            ],
            "text/html": [
              "\n",
              "  <div id=\"df-05df2a07-f195-4139-9352-2ffa6311bf3c\" class=\"colab-df-container\">\n",
              "    <div>\n",
              "<style scoped>\n",
              "    .dataframe tbody tr th:only-of-type {\n",
              "        vertical-align: middle;\n",
              "    }\n",
              "\n",
              "    .dataframe tbody tr th {\n",
              "        vertical-align: top;\n",
              "    }\n",
              "\n",
              "    .dataframe thead th {\n",
              "        text-align: right;\n",
              "    }\n",
              "</style>\n",
              "<table border=\"1\" class=\"dataframe\">\n",
              "  <thead>\n",
              "    <tr style=\"text-align: right;\">\n",
              "      <th></th>\n",
              "      <th>guid</th>\n",
              "      <th>title</th>\n",
              "      <th>description</th>\n",
              "      <th>venue</th>\n",
              "      <th>url</th>\n",
              "      <th>published_at</th>\n",
              "      <th>updated_at</th>\n",
              "      <th>cluster</th>\n",
              "    </tr>\n",
              "  </thead>\n",
              "  <tbody>\n",
              "    <tr>\n",
              "      <th>0</th>\n",
              "      <td>e3dc5caa18f9a16d7edcc09f8d5c2bb4</td>\n",
              "      <td>Harvey Weinstein's 2020 rape conviction overtu...</td>\n",
              "      <td>Victims group describes the New York appeal co...</td>\n",
              "      <td>BBC</td>\n",
              "      <td>https://www.bbc.co.uk/news/world-us-canada-688...</td>\n",
              "      <td>2024-04-25 18:24:04+00</td>\n",
              "      <td>2024-04-26 20:03:00.628113+00</td>\n",
              "      <td>8</td>\n",
              "    </tr>\n",
              "    <tr>\n",
              "      <th>1</th>\n",
              "      <td>297b7152cd95e80dd200a8e1997e10d9</td>\n",
              "      <td>Police and activists clash on Atlanta campus a...</td>\n",
              "      <td>Meanwhile, hundreds of students march in Washi...</td>\n",
              "      <td>BBC</td>\n",
              "      <td>https://www.bbc.co.uk/news/live/world-us-canad...</td>\n",
              "      <td>2024-04-25 13:40:25+00</td>\n",
              "      <td>2024-04-26 20:03:00.654819+00</td>\n",
              "      <td>7</td>\n",
              "    </tr>\n",
              "    <tr>\n",
              "      <th>2</th>\n",
              "      <td>170bd18d1635c44b9339bdbaf1e62123</td>\n",
              "      <td>Haiti PM resigns as transitional council sworn in</td>\n",
              "      <td>The council will try to restore order and form...</td>\n",
              "      <td>BBC</td>\n",
              "      <td>https://www.bbc.co.uk/news/world-latin-america...</td>\n",
              "      <td>2024-04-25 18:11:02+00</td>\n",
              "      <td>2024-04-26 20:03:00.663393+00</td>\n",
              "      <td>-1</td>\n",
              "    </tr>\n",
              "    <tr>\n",
              "      <th>3</th>\n",
              "      <td>e696224ac208878a5cec8bdc9f97c632</td>\n",
              "      <td>Europe risks dying and faces big decisions - M...</td>\n",
              "      <td>The French president delivers a stark warning ...</td>\n",
              "      <td>BBC</td>\n",
              "      <td>https://www.bbc.co.uk/news/world-europe-68898887</td>\n",
              "      <td>2024-04-25 14:51:15+00</td>\n",
              "      <td>2024-04-26 20:03:00.672106+00</td>\n",
              "      <td>-1</td>\n",
              "    </tr>\n",
              "    <tr>\n",
              "      <th>4</th>\n",
              "      <td>733f744b006fb13033d264efcaf8edad</td>\n",
              "      <td>Prosecutors ask for halt to case against Spain...</td>\n",
              "      <td>Pedro Sánchez is deciding whether to resign af...</td>\n",
              "      <td>BBC</td>\n",
              "      <td>https://www.bbc.co.uk/news/world-europe-68895727</td>\n",
              "      <td>2024-04-25 13:07:42+00</td>\n",
              "      <td>2024-04-26 20:03:00.682205+00</td>\n",
              "      <td>3</td>\n",
              "    </tr>\n",
              "    <tr>\n",
              "      <th>...</th>\n",
              "      <td>...</td>\n",
              "      <td>...</td>\n",
              "      <td>...</td>\n",
              "      <td>...</td>\n",
              "      <td>...</td>\n",
              "      <td>...</td>\n",
              "      <td>...</td>\n",
              "      <td>...</td>\n",
              "    </tr>\n",
              "    <tr>\n",
              "      <th>865</th>\n",
              "      <td>b26b379233ad059cd7b2098fa7bad86b</td>\n",
              "      <td>A celebration ‘of the immigrant, the foreigner...</td>\n",
              "      <td>The grand gathering of contemporary art celebr...</td>\n",
              "      <td>El Pais</td>\n",
              "      <td>https://english.elpais.com/culture/2024-04-19/...</td>\n",
              "      <td>2024-04-19 21:48:57+00</td>\n",
              "      <td>2024-04-26 13:02:53.612335+00</td>\n",
              "      <td>-1</td>\n",
              "    </tr>\n",
              "    <tr>\n",
              "      <th>866</th>\n",
              "      <td>ad3948cb67434a9d6b7acf6beaab44fe</td>\n",
              "      <td>Part protest, part rave: the Indigenous artist...</td>\n",
              "      <td>From Gold Lion winner Archie Moore to Brazilia...</td>\n",
              "      <td>The Guardian</td>\n",
              "      <td>https://www.theguardian.com/artanddesign/2024/...</td>\n",
              "      <td>2024-04-25 10:55:43+00</td>\n",
              "      <td>2024-04-26 13:02:54.537243+00</td>\n",
              "      <td>-1</td>\n",
              "    </tr>\n",
              "    <tr>\n",
              "      <th>867</th>\n",
              "      <td>efe3f14a916d7d187c42662dff1d8167</td>\n",
              "      <td>The photography studio with four wheels and a ...</td>\n",
              "      <td>‘The sun trickled in just as we were coming do...</td>\n",
              "      <td>The Guardian</td>\n",
              "      <td>https://www.theguardian.com/artanddesign/2024/...</td>\n",
              "      <td>2024-04-24 12:33:27+00</td>\n",
              "      <td>2024-04-26 13:02:54.756821+00</td>\n",
              "      <td>-1</td>\n",
              "    </tr>\n",
              "    <tr>\n",
              "      <th>868</th>\n",
              "      <td>89be6f3e8a2f8d75ce401e3c6c72648e</td>\n",
              "      <td>Lost New York: remembering the city’s forgotte...</td>\n",
              "      <td>A new exhibition at the New-York Historical So...</td>\n",
              "      <td>The Guardian</td>\n",
              "      <td>https://www.theguardian.com/artanddesign/2024/...</td>\n",
              "      <td>2024-04-25 14:30:06+00</td>\n",
              "      <td>2024-04-26 13:02:54.827138+00</td>\n",
              "      <td>-1</td>\n",
              "    </tr>\n",
              "    <tr>\n",
              "      <th>869</th>\n",
              "      <td>1123929cfbd9e11b3999d7116f4c1d05</td>\n",
              "      <td>‘Distressing’: British newscast pulled mid-bul...</td>\n",
              "      <td>UK presenter Rageh Omaar – a veteran in the ne...</td>\n",
              "      <td>News.com.au</td>\n",
              "      <td>https://www.news.com.au/world/europe/distressi...</td>\n",
              "      <td>2024-04-27 06:31:59.16726+00</td>\n",
              "      <td>2024-04-27 06:32:45.714458+00</td>\n",
              "      <td>-1</td>\n",
              "    </tr>\n",
              "  </tbody>\n",
              "</table>\n",
              "<p>870 rows × 8 columns</p>\n",
              "</div>\n",
              "    <div class=\"colab-df-buttons\">\n",
              "\n",
              "  <div class=\"colab-df-container\">\n",
              "    <button class=\"colab-df-convert\" onclick=\"convertToInteractive('df-05df2a07-f195-4139-9352-2ffa6311bf3c')\"\n",
              "            title=\"Convert this dataframe to an interactive table.\"\n",
              "            style=\"display:none;\">\n",
              "\n",
              "  <svg xmlns=\"http://www.w3.org/2000/svg\" height=\"24px\" viewBox=\"0 -960 960 960\">\n",
              "    <path d=\"M120-120v-720h720v720H120Zm60-500h600v-160H180v160Zm220 220h160v-160H400v160Zm0 220h160v-160H400v160ZM180-400h160v-160H180v160Zm440 0h160v-160H620v160ZM180-180h160v-160H180v160Zm440 0h160v-160H620v160Z\"/>\n",
              "  </svg>\n",
              "    </button>\n",
              "\n",
              "  <style>\n",
              "    .colab-df-container {\n",
              "      display:flex;\n",
              "      gap: 12px;\n",
              "    }\n",
              "\n",
              "    .colab-df-convert {\n",
              "      background-color: #E8F0FE;\n",
              "      border: none;\n",
              "      border-radius: 50%;\n",
              "      cursor: pointer;\n",
              "      display: none;\n",
              "      fill: #1967D2;\n",
              "      height: 32px;\n",
              "      padding: 0 0 0 0;\n",
              "      width: 32px;\n",
              "    }\n",
              "\n",
              "    .colab-df-convert:hover {\n",
              "      background-color: #E2EBFA;\n",
              "      box-shadow: 0px 1px 2px rgba(60, 64, 67, 0.3), 0px 1px 3px 1px rgba(60, 64, 67, 0.15);\n",
              "      fill: #174EA6;\n",
              "    }\n",
              "\n",
              "    .colab-df-buttons div {\n",
              "      margin-bottom: 4px;\n",
              "    }\n",
              "\n",
              "    [theme=dark] .colab-df-convert {\n",
              "      background-color: #3B4455;\n",
              "      fill: #D2E3FC;\n",
              "    }\n",
              "\n",
              "    [theme=dark] .colab-df-convert:hover {\n",
              "      background-color: #434B5C;\n",
              "      box-shadow: 0px 1px 3px 1px rgba(0, 0, 0, 0.15);\n",
              "      filter: drop-shadow(0px 1px 2px rgba(0, 0, 0, 0.3));\n",
              "      fill: #FFFFFF;\n",
              "    }\n",
              "  </style>\n",
              "\n",
              "    <script>\n",
              "      const buttonEl =\n",
              "        document.querySelector('#df-05df2a07-f195-4139-9352-2ffa6311bf3c button.colab-df-convert');\n",
              "      buttonEl.style.display =\n",
              "        google.colab.kernel.accessAllowed ? 'block' : 'none';\n",
              "\n",
              "      async function convertToInteractive(key) {\n",
              "        const element = document.querySelector('#df-05df2a07-f195-4139-9352-2ffa6311bf3c');\n",
              "        const dataTable =\n",
              "          await google.colab.kernel.invokeFunction('convertToInteractive',\n",
              "                                                    [key], {});\n",
              "        if (!dataTable) return;\n",
              "\n",
              "        const docLinkHtml = 'Like what you see? Visit the ' +\n",
              "          '<a target=\"_blank\" href=https://colab.research.google.com/notebooks/data_table.ipynb>data table notebook</a>'\n",
              "          + ' to learn more about interactive tables.';\n",
              "        element.innerHTML = '';\n",
              "        dataTable['output_type'] = 'display_data';\n",
              "        await google.colab.output.renderOutput(dataTable, element);\n",
              "        const docLink = document.createElement('div');\n",
              "        docLink.innerHTML = docLinkHtml;\n",
              "        element.appendChild(docLink);\n",
              "      }\n",
              "    </script>\n",
              "  </div>\n",
              "\n",
              "\n",
              "<div id=\"df-d95c9a5c-e753-46fb-85e5-4b65fc4e889e\">\n",
              "  <button class=\"colab-df-quickchart\" onclick=\"quickchart('df-d95c9a5c-e753-46fb-85e5-4b65fc4e889e')\"\n",
              "            title=\"Suggest charts\"\n",
              "            style=\"display:none;\">\n",
              "\n",
              "<svg xmlns=\"http://www.w3.org/2000/svg\" height=\"24px\"viewBox=\"0 0 24 24\"\n",
              "     width=\"24px\">\n",
              "    <g>\n",
              "        <path d=\"M19 3H5c-1.1 0-2 .9-2 2v14c0 1.1.9 2 2 2h14c1.1 0 2-.9 2-2V5c0-1.1-.9-2-2-2zM9 17H7v-7h2v7zm4 0h-2V7h2v10zm4 0h-2v-4h2v4z\"/>\n",
              "    </g>\n",
              "</svg>\n",
              "  </button>\n",
              "\n",
              "<style>\n",
              "  .colab-df-quickchart {\n",
              "      --bg-color: #E8F0FE;\n",
              "      --fill-color: #1967D2;\n",
              "      --hover-bg-color: #E2EBFA;\n",
              "      --hover-fill-color: #174EA6;\n",
              "      --disabled-fill-color: #AAA;\n",
              "      --disabled-bg-color: #DDD;\n",
              "  }\n",
              "\n",
              "  [theme=dark] .colab-df-quickchart {\n",
              "      --bg-color: #3B4455;\n",
              "      --fill-color: #D2E3FC;\n",
              "      --hover-bg-color: #434B5C;\n",
              "      --hover-fill-color: #FFFFFF;\n",
              "      --disabled-bg-color: #3B4455;\n",
              "      --disabled-fill-color: #666;\n",
              "  }\n",
              "\n",
              "  .colab-df-quickchart {\n",
              "    background-color: var(--bg-color);\n",
              "    border: none;\n",
              "    border-radius: 50%;\n",
              "    cursor: pointer;\n",
              "    display: none;\n",
              "    fill: var(--fill-color);\n",
              "    height: 32px;\n",
              "    padding: 0;\n",
              "    width: 32px;\n",
              "  }\n",
              "\n",
              "  .colab-df-quickchart:hover {\n",
              "    background-color: var(--hover-bg-color);\n",
              "    box-shadow: 0 1px 2px rgba(60, 64, 67, 0.3), 0 1px 3px 1px rgba(60, 64, 67, 0.15);\n",
              "    fill: var(--button-hover-fill-color);\n",
              "  }\n",
              "\n",
              "  .colab-df-quickchart-complete:disabled,\n",
              "  .colab-df-quickchart-complete:disabled:hover {\n",
              "    background-color: var(--disabled-bg-color);\n",
              "    fill: var(--disabled-fill-color);\n",
              "    box-shadow: none;\n",
              "  }\n",
              "\n",
              "  .colab-df-spinner {\n",
              "    border: 2px solid var(--fill-color);\n",
              "    border-color: transparent;\n",
              "    border-bottom-color: var(--fill-color);\n",
              "    animation:\n",
              "      spin 1s steps(1) infinite;\n",
              "  }\n",
              "\n",
              "  @keyframes spin {\n",
              "    0% {\n",
              "      border-color: transparent;\n",
              "      border-bottom-color: var(--fill-color);\n",
              "      border-left-color: var(--fill-color);\n",
              "    }\n",
              "    20% {\n",
              "      border-color: transparent;\n",
              "      border-left-color: var(--fill-color);\n",
              "      border-top-color: var(--fill-color);\n",
              "    }\n",
              "    30% {\n",
              "      border-color: transparent;\n",
              "      border-left-color: var(--fill-color);\n",
              "      border-top-color: var(--fill-color);\n",
              "      border-right-color: var(--fill-color);\n",
              "    }\n",
              "    40% {\n",
              "      border-color: transparent;\n",
              "      border-right-color: var(--fill-color);\n",
              "      border-top-color: var(--fill-color);\n",
              "    }\n",
              "    60% {\n",
              "      border-color: transparent;\n",
              "      border-right-color: var(--fill-color);\n",
              "    }\n",
              "    80% {\n",
              "      border-color: transparent;\n",
              "      border-right-color: var(--fill-color);\n",
              "      border-bottom-color: var(--fill-color);\n",
              "    }\n",
              "    90% {\n",
              "      border-color: transparent;\n",
              "      border-bottom-color: var(--fill-color);\n",
              "    }\n",
              "  }\n",
              "</style>\n",
              "\n",
              "  <script>\n",
              "    async function quickchart(key) {\n",
              "      const quickchartButtonEl =\n",
              "        document.querySelector('#' + key + ' button');\n",
              "      quickchartButtonEl.disabled = true;  // To prevent multiple clicks.\n",
              "      quickchartButtonEl.classList.add('colab-df-spinner');\n",
              "      try {\n",
              "        const charts = await google.colab.kernel.invokeFunction(\n",
              "            'suggestCharts', [key], {});\n",
              "      } catch (error) {\n",
              "        console.error('Error during call to suggestCharts:', error);\n",
              "      }\n",
              "      quickchartButtonEl.classList.remove('colab-df-spinner');\n",
              "      quickchartButtonEl.classList.add('colab-df-quickchart-complete');\n",
              "    }\n",
              "    (() => {\n",
              "      let quickchartButtonEl =\n",
              "        document.querySelector('#df-d95c9a5c-e753-46fb-85e5-4b65fc4e889e button');\n",
              "      quickchartButtonEl.style.display =\n",
              "        google.colab.kernel.accessAllowed ? 'block' : 'none';\n",
              "    })();\n",
              "  </script>\n",
              "</div>\n",
              "\n",
              "  <div id=\"id_2b81215b-68c9-4f97-a159-8967f72c921b\">\n",
              "    <style>\n",
              "      .colab-df-generate {\n",
              "        background-color: #E8F0FE;\n",
              "        border: none;\n",
              "        border-radius: 50%;\n",
              "        cursor: pointer;\n",
              "        display: none;\n",
              "        fill: #1967D2;\n",
              "        height: 32px;\n",
              "        padding: 0 0 0 0;\n",
              "        width: 32px;\n",
              "      }\n",
              "\n",
              "      .colab-df-generate:hover {\n",
              "        background-color: #E2EBFA;\n",
              "        box-shadow: 0px 1px 2px rgba(60, 64, 67, 0.3), 0px 1px 3px 1px rgba(60, 64, 67, 0.15);\n",
              "        fill: #174EA6;\n",
              "      }\n",
              "\n",
              "      [theme=dark] .colab-df-generate {\n",
              "        background-color: #3B4455;\n",
              "        fill: #D2E3FC;\n",
              "      }\n",
              "\n",
              "      [theme=dark] .colab-df-generate:hover {\n",
              "        background-color: #434B5C;\n",
              "        box-shadow: 0px 1px 3px 1px rgba(0, 0, 0, 0.15);\n",
              "        filter: drop-shadow(0px 1px 2px rgba(0, 0, 0, 0.3));\n",
              "        fill: #FFFFFF;\n",
              "      }\n",
              "    </style>\n",
              "    <button class=\"colab-df-generate\" onclick=\"generateWithVariable('df')\"\n",
              "            title=\"Generate code using this dataframe.\"\n",
              "            style=\"display:none;\">\n",
              "\n",
              "  <svg xmlns=\"http://www.w3.org/2000/svg\" height=\"24px\"viewBox=\"0 0 24 24\"\n",
              "       width=\"24px\">\n",
              "    <path d=\"M7,19H8.4L18.45,9,17,7.55,7,17.6ZM5,21V16.75L18.45,3.32a2,2,0,0,1,2.83,0l1.4,1.43a1.91,1.91,0,0,1,.58,1.4,1.91,1.91,0,0,1-.58,1.4L9.25,21ZM18.45,9,17,7.55Zm-12,3A5.31,5.31,0,0,0,4.9,8.1,5.31,5.31,0,0,0,1,6.5,5.31,5.31,0,0,0,4.9,4.9,5.31,5.31,0,0,0,6.5,1,5.31,5.31,0,0,0,8.1,4.9,5.31,5.31,0,0,0,12,6.5,5.46,5.46,0,0,0,6.5,12Z\"/>\n",
              "  </svg>\n",
              "    </button>\n",
              "    <script>\n",
              "      (() => {\n",
              "      const buttonEl =\n",
              "        document.querySelector('#id_2b81215b-68c9-4f97-a159-8967f72c921b button.colab-df-generate');\n",
              "      buttonEl.style.display =\n",
              "        google.colab.kernel.accessAllowed ? 'block' : 'none';\n",
              "\n",
              "      buttonEl.onclick = () => {\n",
              "        google.colab.notebook.generateWithVariable('df');\n",
              "      }\n",
              "      })();\n",
              "    </script>\n",
              "  </div>\n",
              "\n",
              "    </div>\n",
              "  </div>\n"
            ],
            "application/vnd.google.colaboratory.intrinsic+json": {
              "type": "dataframe",
              "variable_name": "df",
              "summary": "{\n  \"name\": \"df\",\n  \"rows\": 870,\n  \"fields\": [\n    {\n      \"column\": \"guid\",\n      \"properties\": {\n        \"dtype\": \"string\",\n        \"num_unique_values\": 870,\n        \"samples\": [\n          \"e56cc9bfd61bda3d4d334d79cf633b23\",\n          \"c90410416b05af4e43da24249ff23a8a\",\n          \"6a7fa2fb009dbe69065ccbc6f0dc2698\"\n        ],\n        \"semantic_type\": \"\",\n        \"description\": \"\"\n      }\n    },\n    {\n      \"column\": \"title\",\n      \"properties\": {\n        \"dtype\": \"string\",\n        \"num_unique_values\": 841,\n        \"samples\": [\n          \"Palestinian baby rescued from mother\\u2019s womb dies in Gaza hospital\",\n          \"Jack Draper finds positives despite humbling by Hurkacz at Madrid Open\",\n          \"More arrests as US campus protests continue to spread\"\n        ],\n        \"semantic_type\": \"\",\n        \"description\": \"\"\n      }\n    },\n    {\n      \"column\": \"description\",\n      \"properties\": {\n        \"dtype\": \"string\",\n        \"num_unique_values\": 845,\n        \"samples\": [\n          \"New rules are designed to eliminate fossil-fuel power plants. Energy scarcity is sure to result.\",\n          \"Trial will see more questions for publisher following his testimony about \\u2018catch and kill\\u2019 schemes to buy up negative storiesMy colleague Sam Levine was at the Manhattan courthouse yesterday to see Pecker\\u2019s testimony firsthand. Here are his main takeaways:Welcome back.Bove traced Pecker\\u2019s long relationship with Trump, showing how he helped his friend long before the presidential election. Pecker spoke about how he gave Trump a heads up about a negative story about Trump\\u2019s then wife, Marla Maples.Trump addressed the media as he left the courtroom, describing Pecker\\u2019s testimony as \\u201cbreathtaking and amazing\\u201d. \\u201cThis is a trial that should\\u2019ve never happened, this is a case that should\\u2019ve never been filed and it was really an incredible, an incredible day,\\u201d he told reporters.Pecker said he agreed to buy a story from the Playboy model Karen McDougal specifically to bury it so that it did not \\u201cembarrass or hurt the [Trump] campaign\\u201d. He said a $150,000 payment he agreed to make to McDougal in August 2016 was so his publication could \\u201ckill\\u201d McDougal\\u2019s story about a 10-month affair she says she had with Trump a decade earlier. The jury was shown records of the $150,000 payment, including an invoice from McDougal\\u2019s lawyer.Pecker said Trump called him for advice after he became a presidential candidate, telling him \\u201cKaren is a nice girl\\u201d, and that he was worried news of the affair would hurt his campaign. \\u201cI think you should buy the story and take it off the market,\\u201d Pecker recalled telling Trump.Pecker said he worked with the former National Enquirer editor-in-chief, Dylan Howard, and Trump\\u2019s lawyer Michael Cohen to facilitate the payment. Pecker admitted that the goal of the paper\\u2019s publisher American Media Inc (AMI) was to try to prevent the story from interfering with the Trump campaign, and that he was concerned the payment could violate federal campaign finance law.But Pecker said things turned sour when he ultimately backed out of the agreement. Pecker confirmed that AMI consulted with an election law attorney, and that Cohen was \\u201cvery, very angry, screaming basically\\u201d about it.Pecker said he received a frantic call from Howard in early October 2016, saying Stormy Daniels was trying to sell a story about her sexual relationship with Trump. He said Howard claimed Daniels wanted $120,000 for the story. Pecker said he did not want to be involved with a porn star, and that Cohen told him \\u201cthe boss will be very angry with you\\u201d.Prosecutor Joshua Steinglass repeatedly tied Trump\\u2019s motive for quashing the story to protecting his presidential campaign. The prosecution\\u2019s case is that it was interference in the 2016 election, which Trump won. \\u201cI made the assumption that his concern was the campaign,\\u201d Pecker said when asked if Trump ever expressed any concern for his wife and children. Continue reading...\",\n          \"Stocks and government bonds fell sharply after fresh data showed the U.S. economy slowed in the first quarter.\"\n        ],\n        \"semantic_type\": \"\",\n        \"description\": \"\"\n      }\n    },\n    {\n      \"column\": \"venue\",\n      \"properties\": {\n        \"dtype\": \"category\",\n        \"num_unique_values\": 12,\n        \"samples\": [\n          \"Washington Post\",\n          \"Times of India\",\n          \"BBC\"\n        ],\n        \"semantic_type\": \"\",\n        \"description\": \"\"\n      }\n    },\n    {\n      \"column\": \"url\",\n      \"properties\": {\n        \"dtype\": \"string\",\n        \"num_unique_values\": 851,\n        \"samples\": [\n          \"https://www.france24.com/en/europe/20240425-us-secretly-sent-ukraine-long-range-atacms-missiles\",\n          \"https://www.wsj.com/articles/blinken-meets-with-xi-as-u-s-pressures-china-to-end-support-for-russia-96e831e0\",\n          \"https://www.wsj.com/business/retail/remy-cointreau-sales-decline-as-u-s-woes-persist-e0cad36c\"\n        ],\n        \"semantic_type\": \"\",\n        \"description\": \"\"\n      }\n    },\n    {\n      \"column\": \"published_at\",\n      \"properties\": {\n        \"dtype\": \"string\",\n        \"num_unique_values\": 783,\n        \"samples\": [\n          \"2024-04-25 19:17:00+00\",\n          \"2024-04-27 22:50:47+00\",\n          \"2024-04-26 09:11:17+00\"\n        ],\n        \"semantic_type\": \"\",\n        \"description\": \"\"\n      }\n    },\n    {\n      \"column\": \"updated_at\",\n      \"properties\": {\n        \"dtype\": \"object\",\n        \"num_unique_values\": 870,\n        \"samples\": [\n          \"2024-04-27 01:32:46.027846+00\",\n          \"2024-04-26 20:03:01.215267+00\",\n          \"2024-04-27 17:32:52.759049+00\"\n        ],\n        \"semantic_type\": \"\",\n        \"description\": \"\"\n      }\n    },\n    {\n      \"column\": \"cluster\",\n      \"properties\": {\n        \"dtype\": \"category\",\n        \"num_unique_values\": 11,\n        \"samples\": [\n          \"5\",\n          \"8\",\n          \"4\"\n        ],\n        \"semantic_type\": \"\",\n        \"description\": \"\"\n      }\n    }\n  ]\n}"
            }
          },
          "metadata": {},
          "execution_count": 14
        }
      ]
    },
    {
      "cell_type": "markdown",
      "source": [
        "# Visualize the cluster result using UMAP"
      ],
      "metadata": {
        "id": "F8dNpsvz5Pt4"
      }
    },
    {
      "cell_type": "code",
      "source": [
        "umap = UMAP(n_components=2,  n_neighbors=80, min_dist=0.2)\n",
        "\n",
        "df_umap = (\n",
        "    pd.DataFrame(umap.fit_transform(np.array(embeddings)), columns=['x', 'y'])\n",
        "    .assign(cluster=lambda df: hdb.labels_.astype(str))\n",
        "    .query('cluster != \"-1\"')\n",
        "    .sort_values(by='cluster')\n",
        ")\n",
        "\n",
        "fig = px.scatter(df_umap, x='x', y='y', color='cluster')\n",
        "fig.show()"
      ],
      "metadata": {
        "id": "sKOmAZ9f5Mbv",
        "colab": {
          "base_uri": "https://localhost:8080/",
          "height": 597
        },
        "outputId": "c535190f-9d4d-4c9c-982c-7021835f9fab"
      },
      "execution_count": 15,
      "outputs": [
        {
          "output_type": "stream",
          "name": "stderr",
          "text": [
            "/usr/local/lib/python3.11/dist-packages/sklearn/utils/deprecation.py:151: FutureWarning: 'force_all_finite' was renamed to 'ensure_all_finite' in 1.6 and will be removed in 1.8.\n",
            "  warnings.warn(\n"
          ]
        },
        {
          "output_type": "display_data",
          "data": {
            "text/html": [
              "<html>\n",
              "<head><meta charset=\"utf-8\" /></head>\n",
              "<body>\n",
              "    <div>            <script src=\"https://cdnjs.cloudflare.com/ajax/libs/mathjax/2.7.5/MathJax.js?config=TeX-AMS-MML_SVG\"></script><script type=\"text/javascript\">if (window.MathJax && window.MathJax.Hub && window.MathJax.Hub.Config) {window.MathJax.Hub.Config({SVG: {font: \"STIX-Web\"}});}</script>                <script type=\"text/javascript\">window.PlotlyConfig = {MathJaxConfig: 'local'};</script>\n",
              "        <script charset=\"utf-8\" src=\"https://cdn.plot.ly/plotly-2.35.2.min.js\"></script>                <div id=\"3ff3668c-0b3d-470c-92db-d9c8506406ca\" class=\"plotly-graph-div\" style=\"height:525px; width:100%;\"></div>            <script type=\"text/javascript\">                                    window.PLOTLYENV=window.PLOTLYENV || {};                                    if (document.getElementById(\"3ff3668c-0b3d-470c-92db-d9c8506406ca\")) {                    Plotly.newPlot(                        \"3ff3668c-0b3d-470c-92db-d9c8506406ca\",                        [{\"hovertemplate\":\"cluster=0\\u003cbr\\u003ex=%{x}\\u003cbr\\u003ey=%{y}\\u003cextra\\u003e\\u003c\\u002fextra\\u003e\",\"legendgroup\":\"0\",\"marker\":{\"color\":\"#636efa\",\"symbol\":\"circle\"},\"mode\":\"markers\",\"name\":\"0\",\"orientation\":\"v\",\"showlegend\":true,\"x\":[2.3981152,2.605323,2.345151,2.3067367,2.3134592,2.197451,2.275196,2.4165761,2.3853586,2.157648,2.6406693,2.2473059,2.564771,2.0610785,2.4496243,2.6031888,2.2088563,1.9661014,2.3013651,2.4284153,2.2408764,2.5670364,2.3076663,2.2720196,2.5871284,2.2882242,1.9941661,2.0060422,2.1758335,2.3294804,2.1715832,2.4799464,2.3779016,2.0475013,2.1577382,2.1784616,2.2900887,2.431598,2.4211316,2.3373637,2.3155832,2.4526596,2.5163414,2.26164],\"xaxis\":\"x\",\"y\":[8.896105,8.683109,8.13879,8.754497,8.128123,8.150759,8.416633,8.569223,8.237746,8.300914,8.531,8.074448,8.883255,8.310482,8.51763,8.505835,8.316907,8.476487,8.196883,8.065608,8.747429,8.701783,8.308903,8.224234,8.779344,8.332722,8.64016,8.757848,8.176319,8.333978,8.1887,8.737372,8.280568,8.487022,8.27837,8.016505,8.398211,8.986775,8.817556,8.978721,8.529409,8.342676,8.93141,8.491954],\"yaxis\":\"y\",\"type\":\"scatter\"},{\"hovertemplate\":\"cluster=1\\u003cbr\\u003ex=%{x}\\u003cbr\\u003ey=%{y}\\u003cextra\\u003e\\u003c\\u002fextra\\u003e\",\"legendgroup\":\"1\",\"marker\":{\"color\":\"#EF553B\",\"symbol\":\"circle\"},\"mode\":\"markers\",\"name\":\"1\",\"orientation\":\"v\",\"showlegend\":true,\"x\":[9.163843,9.350351,9.179082,9.136907],\"xaxis\":\"x\",\"y\":[10.1481905,9.994306,10.175404,10.770311],\"yaxis\":\"y\",\"type\":\"scatter\"},{\"hovertemplate\":\"cluster=2\\u003cbr\\u003ex=%{x}\\u003cbr\\u003ey=%{y}\\u003cextra\\u003e\\u003c\\u002fextra\\u003e\",\"legendgroup\":\"2\",\"marker\":{\"color\":\"#00cc96\",\"symbol\":\"circle\"},\"mode\":\"markers\",\"name\":\"2\",\"orientation\":\"v\",\"showlegend\":true,\"x\":[8.269129,8.151985,8.233633,8.355507,8.342919,8.655475,8.2937,8.382948,8.137143,8.297803,8.537784,8.702566,8.402071,8.153256],\"xaxis\":\"x\",\"y\":[10.5255785,10.654792,10.756344,10.623575,10.593997,10.533287,10.870906,10.949384,10.779121,10.6138,10.83913,10.420577,11.027695,10.620879],\"yaxis\":\"y\",\"type\":\"scatter\"},{\"hovertemplate\":\"cluster=3\\u003cbr\\u003ex=%{x}\\u003cbr\\u003ey=%{y}\\u003cextra\\u003e\\u003c\\u002fextra\\u003e\",\"legendgroup\":\"3\",\"marker\":{\"color\":\"#ab63fa\",\"symbol\":\"circle\"},\"mode\":\"markers\",\"name\":\"3\",\"orientation\":\"v\",\"showlegend\":true,\"x\":[5.5590835,5.860669,5.7833724,5.7571635,5.830575,5.674515,5.6757684,5.7558227,5.821625,5.7538238,5.504254],\"xaxis\":\"x\",\"y\":[12.041624,11.917923,12.010239,11.973556,12.032785,12.086928,12.033689,12.058973,12.030072,11.916307,12.064209],\"yaxis\":\"y\",\"type\":\"scatter\"},{\"hovertemplate\":\"cluster=4\\u003cbr\\u003ex=%{x}\\u003cbr\\u003ey=%{y}\\u003cextra\\u003e\\u003c\\u002fextra\\u003e\",\"legendgroup\":\"4\",\"marker\":{\"color\":\"#FFA15A\",\"symbol\":\"circle\"},\"mode\":\"markers\",\"name\":\"4\",\"orientation\":\"v\",\"showlegend\":true,\"x\":[9.164458,8.926653,9.160423,9.004104],\"xaxis\":\"x\",\"y\":[11.264806,11.444431,11.3833275,11.320159],\"yaxis\":\"y\",\"type\":\"scatter\"},{\"hovertemplate\":\"cluster=5\\u003cbr\\u003ex=%{x}\\u003cbr\\u003ey=%{y}\\u003cextra\\u003e\\u003c\\u002fextra\\u003e\",\"legendgroup\":\"5\",\"marker\":{\"color\":\"#19d3f3\",\"symbol\":\"circle\"},\"mode\":\"markers\",\"name\":\"5\",\"orientation\":\"v\",\"showlegend\":true,\"x\":[7.250702,7.040355,7.225072,7.0363545,7.1029315,7.047586,6.9731393,7.018469,6.8711557,7.187412,7.0817394,6.9276166,6.7203894],\"xaxis\":\"x\",\"y\":[10.272745,10.176751,10.399693,10.337817,10.380837,10.331775,10.354547,10.05477,10.381172,10.318586,10.275446,10.279652,10.368555],\"yaxis\":\"y\",\"type\":\"scatter\"},{\"hovertemplate\":\"cluster=6\\u003cbr\\u003ex=%{x}\\u003cbr\\u003ey=%{y}\\u003cextra\\u003e\\u003c\\u002fextra\\u003e\",\"legendgroup\":\"6\",\"marker\":{\"color\":\"#FF6692\",\"symbol\":\"circle\"},\"mode\":\"markers\",\"name\":\"6\",\"orientation\":\"v\",\"showlegend\":true,\"x\":[4.6715646,4.631649,4.7693286],\"xaxis\":\"x\",\"y\":[11.528728,11.733498,11.702955],\"yaxis\":\"y\",\"type\":\"scatter\"},{\"hovertemplate\":\"cluster=7\\u003cbr\\u003ex=%{x}\\u003cbr\\u003ey=%{y}\\u003cextra\\u003e\\u003c\\u002fextra\\u003e\",\"legendgroup\":\"7\",\"marker\":{\"color\":\"#B6E880\",\"symbol\":\"circle\"},\"mode\":\"markers\",\"name\":\"7\",\"orientation\":\"v\",\"showlegend\":true,\"x\":[3.9139526,4.4492927,6.694702,4.1289506,3.9245048,6.3026824,2.626851,4.189727,3.5266945,3.9647229,6.7253647,3.37577,3.9338272,6.6984754,7.5982203,6.204107,2.8933108,2.2158275,2.223297,6.530336,3.7892194,4.0031576,4.1675167,2.9318264,7.915325,7.7630825,6.199543,3.7380688,6.1751976,2.5935006,3.7639642,2.9049857,2.680883,2.1322086,4.6120048,4.2164445,4.6081715,6.9589076,3.6970375,7.8639517,4.11091,2.127596,4.141584,2.9164712,4.2296267,2.3088295,3.7026093,3.864154,6.5181365,2.8494422,5.6477733,6.158915,6.8120613,6.569656,6.6538215,7.6826105,3.6638486,6.5975227,2.8960605,4.1380568,4.294217,7.616598,4.1031427,2.7293959,6.930853,3.840085,4.2680407,6.5686374,2.4489264,4.271177,2.8976386,6.7272544,4.0491457,3.8218048,6.220808,7.645548,3.987384,4.561812,4.588225,7.778937,4.0194893,6.8168845,3.4911222,2.4519136,3.787997,2.3739898,2.6272166,2.435842,3.5928783,4.6650057,4.638314,6.303716,2.4309158,4.8892903,7.748634,4.6620083,4.1877594,3.6803646,8.007719,2.7291298,2.6528044,6.865789,6.5233254,6.419601,2.0158098,6.3613696,6.7049623,6.659663,6.492623,6.9429936,2.778068,6.4873233,7.572057,2.306158,2.4913008,2.1892989,2.6104407,6.389705,6.3762107,2.4711971,1.9447951,2.272378,7.5933604,8.042291,6.957959,7.974759,6.3483944,2.5507689,2.30527,2.0544083,7.955067,7.584087,6.369783,2.4892602,6.8433466,7.6916633,8.0313015,4.5450478,7.8524804,6.2970514,3.642249,6.712155,2.3644094,7.6953597,2.571969,2.6968427,8.0541,2.3569374,2.1936352,2.0969517,3.42904,6.5053215,7.7895045,6.224959,8.162366,4.6507177,4.1471243,3.837048,2.149214,2.4128244,6.592671,4.71206,3.687755,2.4645662,4.621144,4.8201,2.927378,4.0599365,4.0372787,4.5578394,7.730828,4.2196045,4.43051,6.658469,2.583956,2.096742,6.839569,8.087001,6.5227966,6.194609,8.004224,7.2426577,7.695925,2.785614,2.48391,2.8356936,6.409504,2.739452,2.5198975,3.0287933,2.6898417,2.5608876,2.8138635,2.8877456,4.805378,2.260906,7.849593,4.0252275,2.3161476,2.5439298,2.4080243,4.01902,2.2565234,6.631642],\"xaxis\":\"x\",\"y\":[13.652617,14.33827,14.546115,14.522962,14.517336,14.220815,13.716238,14.321332,14.32128,13.908138,13.868147,13.540882,14.66737,14.1259985,13.203179,13.817366,13.142278,13.561026,12.942209,14.735389,14.352999,14.052312,14.113295,12.967689,12.969885,13.059235,13.958781,14.620811,14.130876,13.458353,13.852607,13.695635,12.779557,13.0842495,14.019079,14.233284,14.729358,14.212561,14.7209835,13.414323,14.180063,13.327345,13.876657,13.35126,14.2775545,12.860015,14.639303,14.482291,14.252325,13.126394,14.62045,14.161223,13.441837,14.590716,13.568742,13.167487,13.953103,14.269056,12.850511,14.533277,13.9202795,13.424449,14.441371,12.978522,9.133227,14.412589,14.352411,14.33651,13.176627,14.655815,13.306689,14.624398,14.588215,14.649802,14.055544,13.242577,14.649588,14.141337,14.772294,13.142617,14.585342,13.972949,13.475895,13.555051,13.503447,13.022952,13.079683,13.483847,14.20451,14.891538,14.818895,14.307675,13.568548,14.016213,13.448987,13.937356,13.839141,13.964845,13.007617,13.606996,13.053724,14.444643,14.115023,13.739272,13.239894,14.224531,14.29117,14.626595,14.651447,14.555939,13.214158,14.643643,12.994744,13.613439,13.140754,13.473533,13.113794,13.656783,14.241555,13.030241,13.363932,13.119996,13.4784,13.192336,14.4784,13.193394,13.669711,12.937972,13.0636425,13.212647,13.166802,13.201809,14.366644,13.591053,14.67671,13.176956,13.261314,13.981592,13.054269,14.130607,14.475983,14.507409,13.057714,13.462875,12.97632,13.355654,13.259262,13.243303,13.478054,13.30712,14.244004,14.331703,13.344912,14.204002,13.122332,13.840412,14.395748,14.418206,13.219289,13.521886,14.348073,13.944789,13.069098,13.090502,13.807398,14.306232,13.54602,13.808245,14.498658,13.88655,13.400724,14.268787,10.956333,13.83392,13.4655905,13.305776,14.576534,12.396125,14.435198,14.35159,13.043453,13.663761,13.065736,12.893157,13.340108,13.675022,13.891751,13.496062,13.418694,13.3576975,13.758474,13.388937,13.451128,12.759451,13.937759,13.167262,13.153473,14.513167,13.606616,13.596214,13.708353,13.84252,13.576416,14.53926],\"yaxis\":\"y\",\"type\":\"scatter\"},{\"hovertemplate\":\"cluster=8\\u003cbr\\u003ex=%{x}\\u003cbr\\u003ey=%{y}\\u003cextra\\u003e\\u003c\\u002fextra\\u003e\",\"legendgroup\":\"8\",\"marker\":{\"color\":\"#FF97FF\",\"symbol\":\"circle\"},\"mode\":\"markers\",\"name\":\"8\",\"orientation\":\"v\",\"showlegend\":true,\"x\":[5.3503747,5.353906,5.4757004,5.272778,5.300522,5.5638056,5.243813,5.2825594,5.401756,5.440259,5.30966,5.3831716,5.463163,5.3782625,5.3894315,5.473576,5.473134,5.4211707],\"xaxis\":\"x\",\"y\":[8.051541,8.335667,8.326331,8.063366,8.234888,8.2501335,8.094302,8.067112,8.140157,8.132597,8.404096,8.192322,8.2154875,8.117339,8.073009,8.226407,8.142869,8.298769],\"yaxis\":\"y\",\"type\":\"scatter\"},{\"hovertemplate\":\"cluster=9\\u003cbr\\u003ex=%{x}\\u003cbr\\u003ey=%{y}\\u003cextra\\u003e\\u003c\\u002fextra\\u003e\",\"legendgroup\":\"9\",\"marker\":{\"color\":\"#FECB52\",\"symbol\":\"circle\"},\"mode\":\"markers\",\"name\":\"9\",\"orientation\":\"v\",\"showlegend\":true,\"x\":[7.416528,7.3780475,7.370879,7.27207,7.0501657,7.2618012,6.554522,7.42524,7.543156,7.4940586,7.456788,7.4426064,7.46062,7.3919587,7.2956905,7.3171096,7.2920446,6.206422,6.2029643,7.5203724,7.253203,6.3002234,7.4619684,7.570463,6.598518,7.4200807,7.5426183],\"xaxis\":\"x\",\"y\":[8.215232,8.145563,8.036518,8.229713,8.159906,8.293571,8.371779,8.017142,8.168604,8.255788,8.165582,8.215732,7.9955354,8.261781,7.9529796,8.0876255,8.100574,8.716012,8.463387,8.028858,8.128537,8.467112,8.069297,8.03685,8.258415,7.9886227,7.932097],\"yaxis\":\"y\",\"type\":\"scatter\"}],                        {\"template\":{\"data\":{\"histogram2dcontour\":[{\"type\":\"histogram2dcontour\",\"colorbar\":{\"outlinewidth\":0,\"ticks\":\"\"},\"colorscale\":[[0.0,\"#0d0887\"],[0.1111111111111111,\"#46039f\"],[0.2222222222222222,\"#7201a8\"],[0.3333333333333333,\"#9c179e\"],[0.4444444444444444,\"#bd3786\"],[0.5555555555555556,\"#d8576b\"],[0.6666666666666666,\"#ed7953\"],[0.7777777777777778,\"#fb9f3a\"],[0.8888888888888888,\"#fdca26\"],[1.0,\"#f0f921\"]]}],\"choropleth\":[{\"type\":\"choropleth\",\"colorbar\":{\"outlinewidth\":0,\"ticks\":\"\"}}],\"histogram2d\":[{\"type\":\"histogram2d\",\"colorbar\":{\"outlinewidth\":0,\"ticks\":\"\"},\"colorscale\":[[0.0,\"#0d0887\"],[0.1111111111111111,\"#46039f\"],[0.2222222222222222,\"#7201a8\"],[0.3333333333333333,\"#9c179e\"],[0.4444444444444444,\"#bd3786\"],[0.5555555555555556,\"#d8576b\"],[0.6666666666666666,\"#ed7953\"],[0.7777777777777778,\"#fb9f3a\"],[0.8888888888888888,\"#fdca26\"],[1.0,\"#f0f921\"]]}],\"heatmap\":[{\"type\":\"heatmap\",\"colorbar\":{\"outlinewidth\":0,\"ticks\":\"\"},\"colorscale\":[[0.0,\"#0d0887\"],[0.1111111111111111,\"#46039f\"],[0.2222222222222222,\"#7201a8\"],[0.3333333333333333,\"#9c179e\"],[0.4444444444444444,\"#bd3786\"],[0.5555555555555556,\"#d8576b\"],[0.6666666666666666,\"#ed7953\"],[0.7777777777777778,\"#fb9f3a\"],[0.8888888888888888,\"#fdca26\"],[1.0,\"#f0f921\"]]}],\"heatmapgl\":[{\"type\":\"heatmapgl\",\"colorbar\":{\"outlinewidth\":0,\"ticks\":\"\"},\"colorscale\":[[0.0,\"#0d0887\"],[0.1111111111111111,\"#46039f\"],[0.2222222222222222,\"#7201a8\"],[0.3333333333333333,\"#9c179e\"],[0.4444444444444444,\"#bd3786\"],[0.5555555555555556,\"#d8576b\"],[0.6666666666666666,\"#ed7953\"],[0.7777777777777778,\"#fb9f3a\"],[0.8888888888888888,\"#fdca26\"],[1.0,\"#f0f921\"]]}],\"contourcarpet\":[{\"type\":\"contourcarpet\",\"colorbar\":{\"outlinewidth\":0,\"ticks\":\"\"}}],\"contour\":[{\"type\":\"contour\",\"colorbar\":{\"outlinewidth\":0,\"ticks\":\"\"},\"colorscale\":[[0.0,\"#0d0887\"],[0.1111111111111111,\"#46039f\"],[0.2222222222222222,\"#7201a8\"],[0.3333333333333333,\"#9c179e\"],[0.4444444444444444,\"#bd3786\"],[0.5555555555555556,\"#d8576b\"],[0.6666666666666666,\"#ed7953\"],[0.7777777777777778,\"#fb9f3a\"],[0.8888888888888888,\"#fdca26\"],[1.0,\"#f0f921\"]]}],\"surface\":[{\"type\":\"surface\",\"colorbar\":{\"outlinewidth\":0,\"ticks\":\"\"},\"colorscale\":[[0.0,\"#0d0887\"],[0.1111111111111111,\"#46039f\"],[0.2222222222222222,\"#7201a8\"],[0.3333333333333333,\"#9c179e\"],[0.4444444444444444,\"#bd3786\"],[0.5555555555555556,\"#d8576b\"],[0.6666666666666666,\"#ed7953\"],[0.7777777777777778,\"#fb9f3a\"],[0.8888888888888888,\"#fdca26\"],[1.0,\"#f0f921\"]]}],\"mesh3d\":[{\"type\":\"mesh3d\",\"colorbar\":{\"outlinewidth\":0,\"ticks\":\"\"}}],\"scatter\":[{\"fillpattern\":{\"fillmode\":\"overlay\",\"size\":10,\"solidity\":0.2},\"type\":\"scatter\"}],\"parcoords\":[{\"type\":\"parcoords\",\"line\":{\"colorbar\":{\"outlinewidth\":0,\"ticks\":\"\"}}}],\"scatterpolargl\":[{\"type\":\"scatterpolargl\",\"marker\":{\"colorbar\":{\"outlinewidth\":0,\"ticks\":\"\"}}}],\"bar\":[{\"error_x\":{\"color\":\"#2a3f5f\"},\"error_y\":{\"color\":\"#2a3f5f\"},\"marker\":{\"line\":{\"color\":\"#E5ECF6\",\"width\":0.5},\"pattern\":{\"fillmode\":\"overlay\",\"size\":10,\"solidity\":0.2}},\"type\":\"bar\"}],\"scattergeo\":[{\"type\":\"scattergeo\",\"marker\":{\"colorbar\":{\"outlinewidth\":0,\"ticks\":\"\"}}}],\"scatterpolar\":[{\"type\":\"scatterpolar\",\"marker\":{\"colorbar\":{\"outlinewidth\":0,\"ticks\":\"\"}}}],\"histogram\":[{\"marker\":{\"pattern\":{\"fillmode\":\"overlay\",\"size\":10,\"solidity\":0.2}},\"type\":\"histogram\"}],\"scattergl\":[{\"type\":\"scattergl\",\"marker\":{\"colorbar\":{\"outlinewidth\":0,\"ticks\":\"\"}}}],\"scatter3d\":[{\"type\":\"scatter3d\",\"line\":{\"colorbar\":{\"outlinewidth\":0,\"ticks\":\"\"}},\"marker\":{\"colorbar\":{\"outlinewidth\":0,\"ticks\":\"\"}}}],\"scattermapbox\":[{\"type\":\"scattermapbox\",\"marker\":{\"colorbar\":{\"outlinewidth\":0,\"ticks\":\"\"}}}],\"scatterternary\":[{\"type\":\"scatterternary\",\"marker\":{\"colorbar\":{\"outlinewidth\":0,\"ticks\":\"\"}}}],\"scattercarpet\":[{\"type\":\"scattercarpet\",\"marker\":{\"colorbar\":{\"outlinewidth\":0,\"ticks\":\"\"}}}],\"carpet\":[{\"aaxis\":{\"endlinecolor\":\"#2a3f5f\",\"gridcolor\":\"white\",\"linecolor\":\"white\",\"minorgridcolor\":\"white\",\"startlinecolor\":\"#2a3f5f\"},\"baxis\":{\"endlinecolor\":\"#2a3f5f\",\"gridcolor\":\"white\",\"linecolor\":\"white\",\"minorgridcolor\":\"white\",\"startlinecolor\":\"#2a3f5f\"},\"type\":\"carpet\"}],\"table\":[{\"cells\":{\"fill\":{\"color\":\"#EBF0F8\"},\"line\":{\"color\":\"white\"}},\"header\":{\"fill\":{\"color\":\"#C8D4E3\"},\"line\":{\"color\":\"white\"}},\"type\":\"table\"}],\"barpolar\":[{\"marker\":{\"line\":{\"color\":\"#E5ECF6\",\"width\":0.5},\"pattern\":{\"fillmode\":\"overlay\",\"size\":10,\"solidity\":0.2}},\"type\":\"barpolar\"}],\"pie\":[{\"automargin\":true,\"type\":\"pie\"}]},\"layout\":{\"autotypenumbers\":\"strict\",\"colorway\":[\"#636efa\",\"#EF553B\",\"#00cc96\",\"#ab63fa\",\"#FFA15A\",\"#19d3f3\",\"#FF6692\",\"#B6E880\",\"#FF97FF\",\"#FECB52\"],\"font\":{\"color\":\"#2a3f5f\"},\"hovermode\":\"closest\",\"hoverlabel\":{\"align\":\"left\"},\"paper_bgcolor\":\"white\",\"plot_bgcolor\":\"#E5ECF6\",\"polar\":{\"bgcolor\":\"#E5ECF6\",\"angularaxis\":{\"gridcolor\":\"white\",\"linecolor\":\"white\",\"ticks\":\"\"},\"radialaxis\":{\"gridcolor\":\"white\",\"linecolor\":\"white\",\"ticks\":\"\"}},\"ternary\":{\"bgcolor\":\"#E5ECF6\",\"aaxis\":{\"gridcolor\":\"white\",\"linecolor\":\"white\",\"ticks\":\"\"},\"baxis\":{\"gridcolor\":\"white\",\"linecolor\":\"white\",\"ticks\":\"\"},\"caxis\":{\"gridcolor\":\"white\",\"linecolor\":\"white\",\"ticks\":\"\"}},\"coloraxis\":{\"colorbar\":{\"outlinewidth\":0,\"ticks\":\"\"}},\"colorscale\":{\"sequential\":[[0.0,\"#0d0887\"],[0.1111111111111111,\"#46039f\"],[0.2222222222222222,\"#7201a8\"],[0.3333333333333333,\"#9c179e\"],[0.4444444444444444,\"#bd3786\"],[0.5555555555555556,\"#d8576b\"],[0.6666666666666666,\"#ed7953\"],[0.7777777777777778,\"#fb9f3a\"],[0.8888888888888888,\"#fdca26\"],[1.0,\"#f0f921\"]],\"sequentialminus\":[[0.0,\"#0d0887\"],[0.1111111111111111,\"#46039f\"],[0.2222222222222222,\"#7201a8\"],[0.3333333333333333,\"#9c179e\"],[0.4444444444444444,\"#bd3786\"],[0.5555555555555556,\"#d8576b\"],[0.6666666666666666,\"#ed7953\"],[0.7777777777777778,\"#fb9f3a\"],[0.8888888888888888,\"#fdca26\"],[1.0,\"#f0f921\"]],\"diverging\":[[0,\"#8e0152\"],[0.1,\"#c51b7d\"],[0.2,\"#de77ae\"],[0.3,\"#f1b6da\"],[0.4,\"#fde0ef\"],[0.5,\"#f7f7f7\"],[0.6,\"#e6f5d0\"],[0.7,\"#b8e186\"],[0.8,\"#7fbc41\"],[0.9,\"#4d9221\"],[1,\"#276419\"]]},\"xaxis\":{\"gridcolor\":\"white\",\"linecolor\":\"white\",\"ticks\":\"\",\"title\":{\"standoff\":15},\"zerolinecolor\":\"white\",\"automargin\":true,\"zerolinewidth\":2},\"yaxis\":{\"gridcolor\":\"white\",\"linecolor\":\"white\",\"ticks\":\"\",\"title\":{\"standoff\":15},\"zerolinecolor\":\"white\",\"automargin\":true,\"zerolinewidth\":2},\"scene\":{\"xaxis\":{\"backgroundcolor\":\"#E5ECF6\",\"gridcolor\":\"white\",\"linecolor\":\"white\",\"showbackground\":true,\"ticks\":\"\",\"zerolinecolor\":\"white\",\"gridwidth\":2},\"yaxis\":{\"backgroundcolor\":\"#E5ECF6\",\"gridcolor\":\"white\",\"linecolor\":\"white\",\"showbackground\":true,\"ticks\":\"\",\"zerolinecolor\":\"white\",\"gridwidth\":2},\"zaxis\":{\"backgroundcolor\":\"#E5ECF6\",\"gridcolor\":\"white\",\"linecolor\":\"white\",\"showbackground\":true,\"ticks\":\"\",\"zerolinecolor\":\"white\",\"gridwidth\":2}},\"shapedefaults\":{\"line\":{\"color\":\"#2a3f5f\"}},\"annotationdefaults\":{\"arrowcolor\":\"#2a3f5f\",\"arrowhead\":0,\"arrowwidth\":1},\"geo\":{\"bgcolor\":\"white\",\"landcolor\":\"#E5ECF6\",\"subunitcolor\":\"white\",\"showland\":true,\"showlakes\":true,\"lakecolor\":\"white\"},\"title\":{\"x\":0.05},\"mapbox\":{\"style\":\"light\"}}},\"xaxis\":{\"anchor\":\"y\",\"domain\":[0.0,1.0],\"title\":{\"text\":\"x\"}},\"yaxis\":{\"anchor\":\"x\",\"domain\":[0.0,1.0],\"title\":{\"text\":\"y\"}},\"legend\":{\"title\":{\"text\":\"cluster\"},\"tracegroupgap\":0},\"margin\":{\"t\":60}},                        {\"responsive\": true}                    ).then(function(){\n",
              "                            \n",
              "var gd = document.getElementById('3ff3668c-0b3d-470c-92db-d9c8506406ca');\n",
              "var x = new MutationObserver(function (mutations, observer) {{\n",
              "        var display = window.getComputedStyle(gd).display;\n",
              "        if (!display || display === 'none') {{\n",
              "            console.log([gd, 'removed!']);\n",
              "            Plotly.purge(gd);\n",
              "            observer.disconnect();\n",
              "        }}\n",
              "}});\n",
              "\n",
              "// Listen for the removal of the full notebook cells\n",
              "var notebookContainer = gd.closest('#notebook-container');\n",
              "if (notebookContainer) {{\n",
              "    x.observe(notebookContainer, {childList: true});\n",
              "}}\n",
              "\n",
              "// Listen for the clearing of the current output cell\n",
              "var outputEl = gd.closest('.output');\n",
              "if (outputEl) {{\n",
              "    x.observe(outputEl, {childList: true});\n",
              "}}\n",
              "\n",
              "                        })                };                            </script>        </div>\n",
              "</body>\n",
              "</html>"
            ]
          },
          "metadata": {}
        }
      ]
    },
    {
      "cell_type": "markdown",
      "source": [
        "# Generate Cluster Titles using LLM\n"
      ],
      "metadata": {
        "id": "SMbTTpMAJ709"
      }
    },
    {
      "cell_type": "markdown",
      "source": [
        "curl -fsSL https://ollama.com/install.sh | sh\n",
        "\n",
        "then we can pull and start the llama3.1 model\n",
        "\n",
        "ollama serve & ollama pull llama3.1:8b-instruct-fp16"
      ],
      "metadata": {
        "id": "oUqys7OxKXod"
      }
    },
    {
      "cell_type": "code",
      "source": [
        "\n",
        "from langchain_community.llms import Ollama\n",
        "from langchain_core.prompts import PromptTemplate, ChatPromptTemplate\n",
        "from tqdm import tqdm\n",
        "\n",
        "# Initialize an instance of the Ollama model\n",
        "llm = Ollama(model=modelid)\n",
        "# Invoke the model to generate responses\n",
        "#response = llm.invoke(\"What is the capital of Florida?\")\n",
        "# response = llm.invoke([{\"role\": \"user\", \"content\": \"What is the capital of Florida?\"}])\n",
        "#print(response)\n",
        "\n",
        "\n",
        "prompt_template = ChatPromptTemplate([\n",
        "    (\"system\", \"You're an expert journalist. You're helping me write short but compelling topic titles for groups of news articles.\"),\n",
        "    ( \"user\", '''\n",
        "Write a 4 to 5 word title that summarizes the following articles. Find a common sense in all the articles. Output the first option if you find more then 1 option. Surround the title output with <title></title> tags.\n",
        "\n",
        "ARTICLES:{articles}\n",
        "\n",
        "TOPIC TITLE:\n",
        "''')]\n",
        ")\n",
        "\n",
        "topicTitleChain = prompt_template | llm\n",
        "\n",
        "df[\"cluster_name\"] = \"Uncategorized\"\n",
        "\n",
        "def generate_topic_titles():\n",
        "    result = {}\n",
        "\n",
        "    for c in tqdm(df.query('cluster != \"-1\"').cluster.unique()):\n",
        "        sample_articles = df.query(f\"cluster == '{c}'\").to_dict(orient=\"records\")\n",
        "\n",
        "        articles_str = \"\\n\\n\".join(\n",
        "            [\n",
        "                f\"[{i}] {article['title']}\\n{article['description'][:200]}{'...' if len(article['description']) > 200 else ''}\"\n",
        "                for i, article in enumerate(\n",
        "                    sample_articles, start=1\n",
        "                )\n",
        "            ]\n",
        "        )\n",
        "        topic_title=topicTitleChain.invoke({\"articles\":articles_str},options={\"temperature\": 0.0})\n",
        "        if topic_title.find(\"<title>\")>-1:\n",
        "          topic_title=topic_title.split(\"<title>\")[1].split(\"</title>\")[0].strip()\n",
        "        else:\n",
        "          topic_title=f\"unknown/{c}\"\n",
        "          # print (f\"\\n\\n{articles_str}\\n\\n\")\n",
        "        print (topic_title)\n",
        "        df.loc[df.cluster == c, \"cluster_name\"] = topic_title\n",
        "        result[c]=topic_title\n",
        "    return result\n",
        "\n",
        "topic_titles=generate_topic_titles()\n",
        "topic_titles\n",
        "\n",
        "#c = 6\n",
        "#with pd.option_context(\"display.max_colwidth\", None):\n",
        "#    print(df.query(f\"cluster == '{c}'\").topic_title.values[0])\n",
        "#    display(df.query(f\"cluster == '{c}'\").drop(columns=[\"topic_title\"]).head())"
      ],
      "metadata": {
        "colab": {
          "base_uri": "https://localhost:8080/"
        },
        "id": "NYjTgpcbD9iv",
        "outputId": "390d20df-b236-46fd-96f0-9e44e9d73816"
      },
      "execution_count": 17,
      "outputs": [
        {
          "output_type": "stream",
          "name": "stdout",
          "text": [
            "Collecting langchain_community\n",
            "  Downloading langchain_community-0.3.15-py3-none-any.whl.metadata (2.9 kB)\n",
            "Requirement already satisfied: PyYAML>=5.3 in /usr/local/lib/python3.11/dist-packages (from langchain_community) (6.0.2)\n",
            "Requirement already satisfied: SQLAlchemy<3,>=1.4 in /usr/local/lib/python3.11/dist-packages (from langchain_community) (2.0.37)\n",
            "Requirement already satisfied: aiohttp<4.0.0,>=3.8.3 in /usr/local/lib/python3.11/dist-packages (from langchain_community) (3.11.11)\n",
            "Collecting dataclasses-json<0.7,>=0.5.7 (from langchain_community)\n",
            "  Downloading dataclasses_json-0.6.7-py3-none-any.whl.metadata (25 kB)\n",
            "Collecting httpx-sse<0.5.0,>=0.4.0 (from langchain_community)\n",
            "  Downloading httpx_sse-0.4.0-py3-none-any.whl.metadata (9.0 kB)\n",
            "Requirement already satisfied: langchain<0.4.0,>=0.3.15 in /usr/local/lib/python3.11/dist-packages (from langchain_community) (0.3.15)\n",
            "Requirement already satisfied: langchain-core<0.4.0,>=0.3.31 in /usr/local/lib/python3.11/dist-packages (from langchain_community) (0.3.31)\n",
            "Requirement already satisfied: langsmith<0.4,>=0.1.125 in /usr/local/lib/python3.11/dist-packages (from langchain_community) (0.3.0)\n",
            "Requirement already satisfied: numpy<2,>=1.22.4 in /usr/local/lib/python3.11/dist-packages (from langchain_community) (1.26.4)\n",
            "Collecting pydantic-settings<3.0.0,>=2.4.0 (from langchain_community)\n",
            "  Downloading pydantic_settings-2.7.1-py3-none-any.whl.metadata (3.5 kB)\n",
            "Requirement already satisfied: requests<3,>=2 in /usr/local/lib/python3.11/dist-packages (from langchain_community) (2.32.3)\n",
            "Requirement already satisfied: tenacity!=8.4.0,<10,>=8.1.0 in /usr/local/lib/python3.11/dist-packages (from langchain_community) (9.0.0)\n",
            "Requirement already satisfied: aiohappyeyeballs>=2.3.0 in /usr/local/lib/python3.11/dist-packages (from aiohttp<4.0.0,>=3.8.3->langchain_community) (2.4.4)\n",
            "Requirement already satisfied: aiosignal>=1.1.2 in /usr/local/lib/python3.11/dist-packages (from aiohttp<4.0.0,>=3.8.3->langchain_community) (1.3.2)\n",
            "Requirement already satisfied: attrs>=17.3.0 in /usr/local/lib/python3.11/dist-packages (from aiohttp<4.0.0,>=3.8.3->langchain_community) (24.3.0)\n",
            "Requirement already satisfied: frozenlist>=1.1.1 in /usr/local/lib/python3.11/dist-packages (from aiohttp<4.0.0,>=3.8.3->langchain_community) (1.5.0)\n",
            "Requirement already satisfied: multidict<7.0,>=4.5 in /usr/local/lib/python3.11/dist-packages (from aiohttp<4.0.0,>=3.8.3->langchain_community) (6.1.0)\n",
            "Requirement already satisfied: propcache>=0.2.0 in /usr/local/lib/python3.11/dist-packages (from aiohttp<4.0.0,>=3.8.3->langchain_community) (0.2.1)\n",
            "Requirement already satisfied: yarl<2.0,>=1.17.0 in /usr/local/lib/python3.11/dist-packages (from aiohttp<4.0.0,>=3.8.3->langchain_community) (1.18.3)\n",
            "Collecting marshmallow<4.0.0,>=3.18.0 (from dataclasses-json<0.7,>=0.5.7->langchain_community)\n",
            "  Downloading marshmallow-3.26.0-py3-none-any.whl.metadata (7.3 kB)\n",
            "Collecting typing-inspect<1,>=0.4.0 (from dataclasses-json<0.7,>=0.5.7->langchain_community)\n",
            "  Downloading typing_inspect-0.9.0-py3-none-any.whl.metadata (1.5 kB)\n",
            "Requirement already satisfied: langchain-text-splitters<0.4.0,>=0.3.3 in /usr/local/lib/python3.11/dist-packages (from langchain<0.4.0,>=0.3.15->langchain_community) (0.3.5)\n",
            "Requirement already satisfied: pydantic<3.0.0,>=2.7.4 in /usr/local/lib/python3.11/dist-packages (from langchain<0.4.0,>=0.3.15->langchain_community) (2.10.5)\n",
            "Requirement already satisfied: jsonpatch<2.0,>=1.33 in /usr/local/lib/python3.11/dist-packages (from langchain-core<0.4.0,>=0.3.31->langchain_community) (1.33)\n",
            "Requirement already satisfied: packaging<25,>=23.2 in /usr/local/lib/python3.11/dist-packages (from langchain-core<0.4.0,>=0.3.31->langchain_community) (24.2)\n",
            "Requirement already satisfied: typing-extensions>=4.7 in /usr/local/lib/python3.11/dist-packages (from langchain-core<0.4.0,>=0.3.31->langchain_community) (4.12.2)\n",
            "Requirement already satisfied: httpx<1,>=0.23.0 in /usr/local/lib/python3.11/dist-packages (from langsmith<0.4,>=0.1.125->langchain_community) (0.28.1)\n",
            "Requirement already satisfied: orjson<4.0.0,>=3.9.14 in /usr/local/lib/python3.11/dist-packages (from langsmith<0.4,>=0.1.125->langchain_community) (3.10.15)\n",
            "Requirement already satisfied: requests-toolbelt<2.0.0,>=1.0.0 in /usr/local/lib/python3.11/dist-packages (from langsmith<0.4,>=0.1.125->langchain_community) (1.0.0)\n",
            "Requirement already satisfied: zstandard<0.24.0,>=0.23.0 in /usr/local/lib/python3.11/dist-packages (from langsmith<0.4,>=0.1.125->langchain_community) (0.23.0)\n",
            "Collecting python-dotenv>=0.21.0 (from pydantic-settings<3.0.0,>=2.4.0->langchain_community)\n",
            "  Downloading python_dotenv-1.0.1-py3-none-any.whl.metadata (23 kB)\n",
            "Requirement already satisfied: charset-normalizer<4,>=2 in /usr/local/lib/python3.11/dist-packages (from requests<3,>=2->langchain_community) (3.4.1)\n",
            "Requirement already satisfied: idna<4,>=2.5 in /usr/local/lib/python3.11/dist-packages (from requests<3,>=2->langchain_community) (3.10)\n",
            "Requirement already satisfied: urllib3<3,>=1.21.1 in /usr/local/lib/python3.11/dist-packages (from requests<3,>=2->langchain_community) (2.3.0)\n",
            "Requirement already satisfied: certifi>=2017.4.17 in /usr/local/lib/python3.11/dist-packages (from requests<3,>=2->langchain_community) (2024.12.14)\n",
            "Requirement already satisfied: greenlet!=0.4.17 in /usr/local/lib/python3.11/dist-packages (from SQLAlchemy<3,>=1.4->langchain_community) (3.1.1)\n",
            "Requirement already satisfied: anyio in /usr/local/lib/python3.11/dist-packages (from httpx<1,>=0.23.0->langsmith<0.4,>=0.1.125->langchain_community) (3.7.1)\n",
            "Requirement already satisfied: httpcore==1.* in /usr/local/lib/python3.11/dist-packages (from httpx<1,>=0.23.0->langsmith<0.4,>=0.1.125->langchain_community) (1.0.7)\n",
            "Requirement already satisfied: h11<0.15,>=0.13 in /usr/local/lib/python3.11/dist-packages (from httpcore==1.*->httpx<1,>=0.23.0->langsmith<0.4,>=0.1.125->langchain_community) (0.14.0)\n",
            "Requirement already satisfied: jsonpointer>=1.9 in /usr/local/lib/python3.11/dist-packages (from jsonpatch<2.0,>=1.33->langchain-core<0.4.0,>=0.3.31->langchain_community) (3.0.0)\n",
            "Requirement already satisfied: annotated-types>=0.6.0 in /usr/local/lib/python3.11/dist-packages (from pydantic<3.0.0,>=2.7.4->langchain<0.4.0,>=0.3.15->langchain_community) (0.7.0)\n",
            "Requirement already satisfied: pydantic-core==2.27.2 in /usr/local/lib/python3.11/dist-packages (from pydantic<3.0.0,>=2.7.4->langchain<0.4.0,>=0.3.15->langchain_community) (2.27.2)\n",
            "Collecting mypy-extensions>=0.3.0 (from typing-inspect<1,>=0.4.0->dataclasses-json<0.7,>=0.5.7->langchain_community)\n",
            "  Downloading mypy_extensions-1.0.0-py3-none-any.whl.metadata (1.1 kB)\n",
            "Requirement already satisfied: sniffio>=1.1 in /usr/local/lib/python3.11/dist-packages (from anyio->httpx<1,>=0.23.0->langsmith<0.4,>=0.1.125->langchain_community) (1.3.1)\n",
            "Downloading langchain_community-0.3.15-py3-none-any.whl (2.5 MB)\n",
            "\u001b[2K   \u001b[90m━━━━━━━━━━━━━━━━━━━━━━━━━━━━━━━━━━━━━━━━\u001b[0m \u001b[32m2.5/2.5 MB\u001b[0m \u001b[31m36.5 MB/s\u001b[0m eta \u001b[36m0:00:00\u001b[0m\n",
            "\u001b[?25hDownloading dataclasses_json-0.6.7-py3-none-any.whl (28 kB)\n",
            "Downloading httpx_sse-0.4.0-py3-none-any.whl (7.8 kB)\n",
            "Downloading pydantic_settings-2.7.1-py3-none-any.whl (29 kB)\n",
            "Downloading marshmallow-3.26.0-py3-none-any.whl (50 kB)\n",
            "\u001b[2K   \u001b[90m━━━━━━━━━━━━━━━━━━━━━━━━━━━━━━━━━━━━━━━━\u001b[0m \u001b[32m50.8/50.8 kB\u001b[0m \u001b[31m4.8 MB/s\u001b[0m eta \u001b[36m0:00:00\u001b[0m\n",
            "\u001b[?25hDownloading python_dotenv-1.0.1-py3-none-any.whl (19 kB)\n",
            "Downloading typing_inspect-0.9.0-py3-none-any.whl (8.8 kB)\n",
            "Downloading mypy_extensions-1.0.0-py3-none-any.whl (4.7 kB)\n",
            "Installing collected packages: python-dotenv, mypy-extensions, marshmallow, httpx-sse, typing-inspect, pydantic-settings, dataclasses-json, langchain_community\n",
            "Successfully installed dataclasses-json-0.6.7 httpx-sse-0.4.0 langchain_community-0.3.15 marshmallow-3.26.0 mypy-extensions-1.0.0 pydantic-settings-2.7.1 python-dotenv-1.0.1 typing-inspect-0.9.0\n"
          ]
        },
        {
          "output_type": "stream",
          "name": "stderr",
          "text": [
            "<ipython-input-17-3d7f0b99b855>:7: LangChainDeprecationWarning:\n",
            "\n",
            "The class `Ollama` was deprecated in LangChain 0.3.1 and will be removed in 1.0.0. An updated version of the class exists in the :class:`~langchain-ollama package and should be used instead. To use it run `pip install -U :class:`~langchain-ollama` and import as `from :class:`~langchain_ollama import OllamaLLM``.\n",
            "\n",
            " 10%|█         | 1/10 [00:26<03:54, 26.04s/it]"
          ]
        },
        {
          "output_type": "stream",
          "name": "stdout",
          "text": [
            "Weinstein's Rape Conviction Overturned\n"
          ]
        },
        {
          "output_type": "stream",
          "name": "stderr",
          "text": [
            "\r 20%|██        | 2/10 [00:31<01:49, 13.69s/it]"
          ]
        },
        {
          "output_type": "stream",
          "name": "stdout",
          "text": [
            "unknown/7\n"
          ]
        },
        {
          "output_type": "stream",
          "name": "stderr",
          "text": [
            "\r 30%|███       | 3/10 [00:34<01:01,  8.77s/it]"
          ]
        },
        {
          "output_type": "stream",
          "name": "stdout",
          "text": [
            "Spain's PM in Corruption Crisis\n"
          ]
        },
        {
          "output_type": "stream",
          "name": "stderr",
          "text": [
            "\r 40%|████      | 4/10 [00:40<00:46,  7.78s/it]"
          ]
        },
        {
          "output_type": "stream",
          "name": "stdout",
          "text": [
            "Trump's Immunity at Stake\n"
          ]
        },
        {
          "output_type": "stream",
          "name": "stderr",
          "text": [
            "\r 50%|█████     | 5/10 [00:46<00:35,  7.13s/it]"
          ]
        },
        {
          "output_type": "stream",
          "name": "stdout",
          "text": [
            "TikTok Under Fire: Data Security Concerns\n"
          ]
        },
        {
          "output_type": "stream",
          "name": "stderr",
          "text": [
            "\r 60%|██████    | 6/10 [00:46<00:19,  4.92s/it]"
          ]
        },
        {
          "output_type": "stream",
          "name": "stdout",
          "text": [
            "BHP Pursues Copper Mining Dominance\n"
          ]
        },
        {
          "output_type": "stream",
          "name": "stderr",
          "text": [
            "\r 70%|███████   | 7/10 [00:50<00:13,  4.38s/it]"
          ]
        },
        {
          "output_type": "stream",
          "name": "stdout",
          "text": [
            "Big Tech bets on Artificial Intelligence\n"
          ]
        },
        {
          "output_type": "stream",
          "name": "stderr",
          "text": [
            "\r 80%|████████  | 8/10 [00:59<00:11,  5.88s/it]"
          ]
        },
        {
          "output_type": "stream",
          "name": "stdout",
          "text": [
            "unknown/0\n"
          ]
        },
        {
          "output_type": "stream",
          "name": "stderr",
          "text": [
            "\r 90%|█████████ | 9/10 [01:01<00:04,  4.63s/it]"
          ]
        },
        {
          "output_type": "stream",
          "name": "stdout",
          "text": [
            "Slowing Growth Fuels Inflation Worries\n"
          ]
        },
        {
          "output_type": "stream",
          "name": "stderr",
          "text": [
            "100%|██████████| 10/10 [01:01<00:00,  6.18s/it]"
          ]
        },
        {
          "output_type": "stream",
          "name": "stdout",
          "text": [
            "Rwanda Plan Shifts Migrant Route\n"
          ]
        },
        {
          "output_type": "stream",
          "name": "stderr",
          "text": [
            "\n"
          ]
        },
        {
          "output_type": "execute_result",
          "data": {
            "text/plain": [
              "{'8': \"Weinstein's Rape Conviction Overturned\",\n",
              " '7': 'unknown/7',\n",
              " '3': \"Spain's PM in Corruption Crisis\",\n",
              " '9': \"Trump's Immunity at Stake\",\n",
              " '5': 'TikTok Under Fire: Data Security Concerns',\n",
              " '1': 'BHP Pursues Copper Mining Dominance',\n",
              " '2': 'Big Tech bets on Artificial Intelligence',\n",
              " '0': 'unknown/0',\n",
              " '4': 'Slowing Growth Fuels Inflation Worries',\n",
              " '6': 'Rwanda Plan Shifts Migrant Route'}"
            ]
          },
          "metadata": {},
          "execution_count": 17
        }
      ]
    },
    {
      "cell_type": "code",
      "execution_count": 18,
      "metadata": {
        "id": "-Y8XzgAPdm9R",
        "colab": {
          "base_uri": "https://localhost:8080/",
          "height": 716
        },
        "outputId": "16bb1479-d75b-4666-e47e-e2ae6edcb0a3"
      },
      "outputs": [
        {
          "output_type": "stream",
          "name": "stderr",
          "text": [
            "/usr/local/lib/python3.11/dist-packages/sklearn/utils/deprecation.py:151: FutureWarning:\n",
            "\n",
            "'force_all_finite' was renamed to 'ensure_all_finite' in 1.6 and will be removed in 1.8.\n",
            "\n"
          ]
        },
        {
          "output_type": "stream",
          "name": "stdout",
          "text": [
            "            x          y    cluster\n",
            "585  3.001894  11.257051  unknown/0\n",
            "788  2.951823  10.958114  unknown/0\n",
            "180  2.578838  10.652979  unknown/0\n",
            "405  3.036710  10.750828  unknown/0\n",
            "587  2.663144  10.505581  unknown/0\n"
          ]
        },
        {
          "output_type": "display_data",
          "data": {
            "text/html": [
              "<html>\n",
              "<head><meta charset=\"utf-8\" /></head>\n",
              "<body>\n",
              "    <div>            <script src=\"https://cdnjs.cloudflare.com/ajax/libs/mathjax/2.7.5/MathJax.js?config=TeX-AMS-MML_SVG\"></script><script type=\"text/javascript\">if (window.MathJax && window.MathJax.Hub && window.MathJax.Hub.Config) {window.MathJax.Hub.Config({SVG: {font: \"STIX-Web\"}});}</script>                <script type=\"text/javascript\">window.PlotlyConfig = {MathJaxConfig: 'local'};</script>\n",
              "        <script charset=\"utf-8\" src=\"https://cdn.plot.ly/plotly-2.35.2.min.js\"></script>                <div id=\"d56cc407-bbfc-40b6-a630-4fdae8768f57\" class=\"plotly-graph-div\" style=\"height:525px; width:100%;\"></div>            <script type=\"text/javascript\">                                    window.PLOTLYENV=window.PLOTLYENV || {};                                    if (document.getElementById(\"d56cc407-bbfc-40b6-a630-4fdae8768f57\")) {                    Plotly.newPlot(                        \"d56cc407-bbfc-40b6-a630-4fdae8768f57\",                        [{\"hovertemplate\":\"cluster=unknown\\u002f0\\u003cbr\\u003ex=%{x}\\u003cbr\\u003ey=%{y}\\u003cextra\\u003e\\u003c\\u002fextra\\u003e\",\"legendgroup\":\"unknown\\u002f0\",\"marker\":{\"color\":\"#636efa\",\"symbol\":\"circle\"},\"mode\":\"markers\",\"name\":\"unknown\\u002f0\",\"orientation\":\"v\",\"showlegend\":true,\"x\":[3.001894,2.9518235,2.5788383,3.0367098,2.6631439,2.6729307,2.7878444,2.824769,2.6306741,2.4033103,2.9155512,2.6907678,3.1983547,2.501945,3.0682654,3.0408435,2.6413407,2.5346477,2.7198224,2.5736768,2.977921,3.1225698,2.7838764,2.581991,2.9964242,2.4509745,2.3461745,2.3965967,2.5354483,2.5740683,2.6541843,3.101623,2.9769943,2.655513,2.6115484,2.6527092,2.7972922,2.9926088,3.1089332,2.858981,2.9495451,2.8320732,2.9876707,2.6575375],\"xaxis\":\"x\",\"y\":[11.2570505,10.958114,10.652979,10.750828,10.505581,10.569183,10.988152,10.735334,10.754162,10.926712,11.085759,10.604602,11.09731,11.062498,10.904179,11.255326,10.983387,11.037328,10.571559,10.655816,11.016491,11.154352,10.704867,10.843218,11.190099,10.946684,11.113838,10.956367,10.67558,10.9209175,10.540897,11.096125,10.75145,11.079215,10.884235,10.580484,10.921428,11.337312,11.413184,11.340851,10.847187,10.676927,11.426193,11.089201],\"yaxis\":\"y\",\"type\":\"scatter\"},{\"hovertemplate\":\"cluster=BHP Pursues Copper Mining Dominance\\u003cbr\\u003ex=%{x}\\u003cbr\\u003ey=%{y}\\u003cextra\\u003e\\u003c\\u002fextra\\u003e\",\"legendgroup\":\"BHP Pursues Copper Mining Dominance\",\"marker\":{\"color\":\"#EF553B\",\"symbol\":\"circle\"},\"mode\":\"markers\",\"name\":\"BHP Pursues Copper Mining Dominance\",\"orientation\":\"v\",\"showlegend\":true,\"x\":[9.563205,9.54375,9.612479,9.873175],\"xaxis\":\"x\",\"y\":[12.640018,12.752651,12.783941,12.384022],\"yaxis\":\"y\",\"type\":\"scatter\"},{\"hovertemplate\":\"cluster=Big Tech bets on Artificial Intelligence\\u003cbr\\u003ex=%{x}\\u003cbr\\u003ey=%{y}\\u003cextra\\u003e\\u003c\\u002fextra\\u003e\",\"legendgroup\":\"Big Tech bets on Artificial Intelligence\",\"marker\":{\"color\":\"#00cc96\",\"symbol\":\"circle\"},\"mode\":\"markers\",\"name\":\"Big Tech bets on Artificial Intelligence\",\"orientation\":\"v\",\"showlegend\":true,\"x\":[9.652987,9.836991,9.98173,9.798972,9.923608,9.975845,9.975843,9.882094,9.749938,9.764297,9.965421,9.986267,10.015534,9.794165],\"xaxis\":\"x\",\"y\":[11.681353,11.446234,11.469874,11.623658,11.383987,11.695232,11.739359,11.529801,11.45069,11.621204,11.690914,11.642354,11.533492,11.481002],\"yaxis\":\"y\",\"type\":\"scatter\"},{\"hovertemplate\":\"cluster=Spain's PM in Corruption Crisis\\u003cbr\\u003ex=%{x}\\u003cbr\\u003ey=%{y}\\u003cextra\\u003e\\u003c\\u002fextra\\u003e\",\"legendgroup\":\"Spain's PM in Corruption Crisis\",\"marker\":{\"color\":\"#ab63fa\",\"symbol\":\"circle\"},\"mode\":\"markers\",\"name\":\"Spain's PM in Corruption Crisis\",\"orientation\":\"v\",\"showlegend\":true,\"x\":[6.7399344,6.925138,6.9261603,6.97593,6.9260597,6.8088617,6.8873305,6.9647794,6.9585896,7.0141335,6.6615086],\"xaxis\":\"x\",\"y\":[13.724024,13.69506,13.811154,13.709311,13.890586,13.840051,13.771858,13.86032,13.775472,13.781435,13.869838],\"yaxis\":\"y\",\"type\":\"scatter\"},{\"hovertemplate\":\"cluster=Slowing Growth Fuels Inflation Worries\\u003cbr\\u003ex=%{x}\\u003cbr\\u003ey=%{y}\\u003cextra\\u003e\\u003c\\u002fextra\\u003e\",\"legendgroup\":\"Slowing Growth Fuels Inflation Worries\",\"marker\":{\"color\":\"#FFA15A\",\"symbol\":\"circle\"},\"mode\":\"markers\",\"name\":\"Slowing Growth Fuels Inflation Worries\",\"orientation\":\"v\",\"showlegend\":true,\"x\":[10.582951,10.7591915,10.553107,10.606984],\"xaxis\":\"x\",\"y\":[12.417329,12.197086,12.466616,12.516611],\"yaxis\":\"y\",\"type\":\"scatter\"},{\"hovertemplate\":\"cluster=TikTok Under Fire: Data Security Concerns\\u003cbr\\u003ex=%{x}\\u003cbr\\u003ey=%{y}\\u003cextra\\u003e\\u003c\\u002fextra\\u003e\",\"legendgroup\":\"TikTok Under Fire: Data Security Concerns\",\"marker\":{\"color\":\"#19d3f3\",\"symbol\":\"circle\"},\"mode\":\"markers\",\"name\":\"TikTok Under Fire: Data Security Concerns\",\"orientation\":\"v\",\"showlegend\":true,\"x\":[8.337,8.026403,8.260709,8.122644,8.188217,8.063338,8.030178,7.9581466,7.9252367,8.148705,8.096469,7.9910674,7.898104],\"xaxis\":\"x\",\"y\":[11.602459,11.5394745,11.681797,11.631144,11.725028,11.5673895,11.711264,11.55365,11.806246,11.649199,11.676337,11.595937,11.704995],\"yaxis\":\"y\",\"type\":\"scatter\"},{\"hovertemplate\":\"cluster=Rwanda Plan Shifts Migrant Route\\u003cbr\\u003ex=%{x}\\u003cbr\\u003ey=%{y}\\u003cextra\\u003e\\u003c\\u002fextra\\u003e\",\"legendgroup\":\"Rwanda Plan Shifts Migrant Route\",\"marker\":{\"color\":\"#FF6692\",\"symbol\":\"circle\"},\"mode\":\"markers\",\"name\":\"Rwanda Plan Shifts Migrant Route\",\"orientation\":\"v\",\"showlegend\":true,\"x\":[5.864553,5.931889,5.95193],\"xaxis\":\"x\",\"y\":[13.544143,13.673849,13.487384],\"yaxis\":\"y\",\"type\":\"scatter\"},{\"hovertemplate\":\"cluster=unknown\\u002f7\\u003cbr\\u003ex=%{x}\\u003cbr\\u003ey=%{y}\\u003cextra\\u003e\\u003c\\u002fextra\\u003e\",\"legendgroup\":\"unknown\\u002f7\",\"marker\":{\"color\":\"#B6E880\",\"symbol\":\"circle\"},\"mode\":\"markers\",\"name\":\"unknown\\u002f7\",\"orientation\":\"v\",\"showlegend\":true,\"x\":[5.313525,5.808777,8.589669,5.4807496,5.312199,8.386413,3.4438865,5.625794,5.022656,5.4495163,8.575513,4.6912713,5.600655,8.340979,8.85056,7.872177,4.195553,3.4985979,3.8401568,8.469737,5.354469,5.6332445,5.522513,4.1672983,9.114575,9.014358,8.075142,5.1879196,7.987724,3.3504794,5.3844953,4.3345985,3.7468731,3.5928824,6.192629,5.498038,5.9325976,8.777363,5.291973,9.059578,5.634816,3.7564292,5.468847,3.895235,5.417207,3.6852527,5.4002867,5.196341,8.559773,4.126177,6.8901753,8.052676,8.215397,8.464335,8.365523,8.901069,5.216378,8.3329115,4.147337,5.496293,5.817755,8.902085,5.651497,4.086901,7.412084,5.5313,5.8008795,8.507975,3.7907405,5.610428,4.2282486,8.669361,5.6092257,5.136997,8.041383,8.821052,5.3348546,6.1515136,5.7532043,8.924399,5.5083065,8.437183,4.7110863,3.6464775,5.253883,3.544124,4.0118895,3.5951738,5.0121727,5.9748645,5.857863,8.452021,3.5008547,6.250362,9.090577,6.149947,5.4722934,4.8661265,9.107337,4.037326,3.9804773,8.8904085,8.466634,7.8928537,3.3773277,8.342306,8.668926,8.6928005,8.590489,8.758697,3.9624228,8.631124,8.903425,3.5099115,3.9506536,3.6498032,4.053126,8.228614,8.110116,3.9812825,3.5879323,3.61812,8.898827,9.197092,8.653223,9.279207,8.159365,3.9675634,3.699175,3.599489,9.091827,8.98993,8.347973,3.6932337,8.788069,9.009618,9.219313,5.995899,9.192875,8.3352165,5.0951986,8.71472,3.699832,9.185993,3.8685293,3.4442332,9.344358,3.7105813,3.5901968,3.6608295,5.102533,8.381858,9.036089,8.188242,9.362564,6.169132,5.634579,5.363048,3.6071413,3.8418207,8.809418,6.126529,4.919801,3.8130722,6.070716,6.5474606,4.280505,5.585351,5.4207945,6.056882,8.953344,5.604359,5.517784,8.219436,3.9293828,3.7985919,8.792941,9.25287,8.457833,8.360051,9.207873,8.771013,8.94909,4.1288967,3.7998455,4.077778,7.991625,3.5775712,3.8328137,4.275197,4.0456,3.974058,3.4960685,3.954066,6.203516,3.8882868,9.060839,5.325917,3.7806892,4.055762,3.981349,5.674878,3.508738,8.781909],\"xaxis\":\"x\",\"y\":[15.479772,16.271338,15.921604,16.22454,16.357622,15.792073,15.008435,16.076313,16.059404,15.714949,15.220861,15.372102,16.064375,15.490007,14.428848,15.598437,15.359078,15.316054,15.797027,16.242147,16.22989,15.80892,16.001133,14.958003,14.065241,14.37692,15.774468,16.28951,15.90291,15.724405,15.588786,15.427475,14.955452,15.65205,15.880268,15.860261,16.63004,15.680264,16.32419,14.425955,16.191132,15.256066,15.576477,15.444978,15.850165,15.374851,16.414587,16.51874,15.772035,15.431315,16.127398,15.81501,14.992663,15.898662,15.15885,14.406928,15.699842,15.68095,15.240322,16.200161,15.744876,14.64882,16.06806,15.542558,10.389341,16.18085,15.9661875,15.908717,15.764333,16.386965,15.7548895,16.036146,16.231413,16.249937,15.787616,14.487059,16.311592,15.944124,16.520903,14.39911,16.190428,15.396759,15.353092,15.477292,15.441269,15.846153,15.332665,15.204092,15.80466,16.685188,16.671112,15.927598,15.071383,15.796972,14.540951,15.789916,15.655005,15.831089,14.307713,15.724242,15.801739,15.764538,15.42703,15.402947,15.433325,15.727018,15.651141,16.040968,16.168268,16.116856,15.510782,16.01994,14.311571,15.389571,15.819415,15.208028,15.277946,15.3171015,15.943616,15.845895,15.540161,15.661076,14.784644,14.245064,16.060505,14.35445,15.4181795,15.528666,15.854477,15.904177,14.419232,14.602769,15.872642,15.082119,16.175747,14.567591,14.344999,15.61788,14.280981,15.878556,16.198658,16.094524,15.818194,14.576821,15.84216,15.600502,14.3635025,15.669936,15.328645,15.468802,15.789948,16.069286,14.602213,15.816827,14.078616,15.623942,16.191822,16.307732,15.913181,15.353972,15.777101,15.736478,14.97023,15.763748,15.716779,15.525652,15.540442,15.556108,16.274643,15.6559515,14.633777,16.131805,12.8899145,15.2417345,15.225495,15.227114,15.938909,13.723138,15.850401,15.8538265,14.239111,15.036513,14.308379,15.590448,15.379827,15.31389,15.487076,15.37195,15.603977,15.4523115,15.091,15.459505,15.556217,15.013368,15.607381,15.670743,14.188025,16.06154,15.253665,15.241859,15.057772,15.665937,15.294188,16.044338],\"yaxis\":\"y\",\"type\":\"scatter\"},{\"hovertemplate\":\"cluster=Weinstein's Rape Conviction Overturned\\u003cbr\\u003ex=%{x}\\u003cbr\\u003ey=%{y}\\u003cextra\\u003e\\u003c\\u002fextra\\u003e\",\"legendgroup\":\"Weinstein's Rape Conviction Overturned\",\"marker\":{\"color\":\"#FF97FF\",\"symbol\":\"circle\"},\"mode\":\"markers\",\"name\":\"Weinstein's Rape Conviction Overturned\",\"orientation\":\"v\",\"showlegend\":true,\"x\":[5.663043,5.6523447,5.7824545,5.6581955,5.711566,5.8854527,5.582237,5.655696,5.7368717,5.6435947,5.6346397,5.7814155,5.8991485,5.5571423,5.672818,5.8463225,5.8118644,5.8040895],\"xaxis\":\"x\",\"y\":[9.570719,9.834869,9.857592,9.6585245,9.621135,9.769815,9.615381,9.574323,9.573602,9.534029,9.905162,9.66147,9.700221,9.490578,9.496885,9.7234535,9.680747,9.850064],\"yaxis\":\"y\",\"type\":\"scatter\"},{\"hovertemplate\":\"cluster=Trump's Immunity at Stake\\u003cbr\\u003ex=%{x}\\u003cbr\\u003ey=%{y}\\u003cextra\\u003e\\u003c\\u002fextra\\u003e\",\"legendgroup\":\"Trump's Immunity at Stake\",\"marker\":{\"color\":\"#FECB52\",\"symbol\":\"circle\"},\"mode\":\"markers\",\"name\":\"Trump's Immunity at Stake\",\"orientation\":\"v\",\"showlegend\":true,\"x\":[7.6391044,7.779022,7.66359,7.8209553,7.2685566,7.72989,6.8296237,7.6675205,7.762127,7.7443323,7.767704,7.6947103,7.766634,7.7411695,7.688746,7.5723906,7.434767,6.7263193,6.573178,7.8668504,7.8790584,6.794001,7.803036,7.847069,6.9156075,7.688859,7.786103],\"xaxis\":\"x\",\"y\":[9.735479,9.604661,9.586549,9.616185,9.728718,9.851048,10.026811,9.599004,9.603202,9.801174,9.571453,9.741709,9.505174,9.650637,9.6574135,9.680731,9.785067,10.188444,10.196905,9.477112,9.58092,10.139194,9.55657,9.585743,9.894878,9.699245,9.589505],\"yaxis\":\"y\",\"type\":\"scatter\"}],                        {\"template\":{\"data\":{\"histogram2dcontour\":[{\"type\":\"histogram2dcontour\",\"colorbar\":{\"outlinewidth\":0,\"ticks\":\"\"},\"colorscale\":[[0.0,\"#0d0887\"],[0.1111111111111111,\"#46039f\"],[0.2222222222222222,\"#7201a8\"],[0.3333333333333333,\"#9c179e\"],[0.4444444444444444,\"#bd3786\"],[0.5555555555555556,\"#d8576b\"],[0.6666666666666666,\"#ed7953\"],[0.7777777777777778,\"#fb9f3a\"],[0.8888888888888888,\"#fdca26\"],[1.0,\"#f0f921\"]]}],\"choropleth\":[{\"type\":\"choropleth\",\"colorbar\":{\"outlinewidth\":0,\"ticks\":\"\"}}],\"histogram2d\":[{\"type\":\"histogram2d\",\"colorbar\":{\"outlinewidth\":0,\"ticks\":\"\"},\"colorscale\":[[0.0,\"#0d0887\"],[0.1111111111111111,\"#46039f\"],[0.2222222222222222,\"#7201a8\"],[0.3333333333333333,\"#9c179e\"],[0.4444444444444444,\"#bd3786\"],[0.5555555555555556,\"#d8576b\"],[0.6666666666666666,\"#ed7953\"],[0.7777777777777778,\"#fb9f3a\"],[0.8888888888888888,\"#fdca26\"],[1.0,\"#f0f921\"]]}],\"heatmap\":[{\"type\":\"heatmap\",\"colorbar\":{\"outlinewidth\":0,\"ticks\":\"\"},\"colorscale\":[[0.0,\"#0d0887\"],[0.1111111111111111,\"#46039f\"],[0.2222222222222222,\"#7201a8\"],[0.3333333333333333,\"#9c179e\"],[0.4444444444444444,\"#bd3786\"],[0.5555555555555556,\"#d8576b\"],[0.6666666666666666,\"#ed7953\"],[0.7777777777777778,\"#fb9f3a\"],[0.8888888888888888,\"#fdca26\"],[1.0,\"#f0f921\"]]}],\"heatmapgl\":[{\"type\":\"heatmapgl\",\"colorbar\":{\"outlinewidth\":0,\"ticks\":\"\"},\"colorscale\":[[0.0,\"#0d0887\"],[0.1111111111111111,\"#46039f\"],[0.2222222222222222,\"#7201a8\"],[0.3333333333333333,\"#9c179e\"],[0.4444444444444444,\"#bd3786\"],[0.5555555555555556,\"#d8576b\"],[0.6666666666666666,\"#ed7953\"],[0.7777777777777778,\"#fb9f3a\"],[0.8888888888888888,\"#fdca26\"],[1.0,\"#f0f921\"]]}],\"contourcarpet\":[{\"type\":\"contourcarpet\",\"colorbar\":{\"outlinewidth\":0,\"ticks\":\"\"}}],\"contour\":[{\"type\":\"contour\",\"colorbar\":{\"outlinewidth\":0,\"ticks\":\"\"},\"colorscale\":[[0.0,\"#0d0887\"],[0.1111111111111111,\"#46039f\"],[0.2222222222222222,\"#7201a8\"],[0.3333333333333333,\"#9c179e\"],[0.4444444444444444,\"#bd3786\"],[0.5555555555555556,\"#d8576b\"],[0.6666666666666666,\"#ed7953\"],[0.7777777777777778,\"#fb9f3a\"],[0.8888888888888888,\"#fdca26\"],[1.0,\"#f0f921\"]]}],\"surface\":[{\"type\":\"surface\",\"colorbar\":{\"outlinewidth\":0,\"ticks\":\"\"},\"colorscale\":[[0.0,\"#0d0887\"],[0.1111111111111111,\"#46039f\"],[0.2222222222222222,\"#7201a8\"],[0.3333333333333333,\"#9c179e\"],[0.4444444444444444,\"#bd3786\"],[0.5555555555555556,\"#d8576b\"],[0.6666666666666666,\"#ed7953\"],[0.7777777777777778,\"#fb9f3a\"],[0.8888888888888888,\"#fdca26\"],[1.0,\"#f0f921\"]]}],\"mesh3d\":[{\"type\":\"mesh3d\",\"colorbar\":{\"outlinewidth\":0,\"ticks\":\"\"}}],\"scatter\":[{\"fillpattern\":{\"fillmode\":\"overlay\",\"size\":10,\"solidity\":0.2},\"type\":\"scatter\"}],\"parcoords\":[{\"type\":\"parcoords\",\"line\":{\"colorbar\":{\"outlinewidth\":0,\"ticks\":\"\"}}}],\"scatterpolargl\":[{\"type\":\"scatterpolargl\",\"marker\":{\"colorbar\":{\"outlinewidth\":0,\"ticks\":\"\"}}}],\"bar\":[{\"error_x\":{\"color\":\"#2a3f5f\"},\"error_y\":{\"color\":\"#2a3f5f\"},\"marker\":{\"line\":{\"color\":\"#E5ECF6\",\"width\":0.5},\"pattern\":{\"fillmode\":\"overlay\",\"size\":10,\"solidity\":0.2}},\"type\":\"bar\"}],\"scattergeo\":[{\"type\":\"scattergeo\",\"marker\":{\"colorbar\":{\"outlinewidth\":0,\"ticks\":\"\"}}}],\"scatterpolar\":[{\"type\":\"scatterpolar\",\"marker\":{\"colorbar\":{\"outlinewidth\":0,\"ticks\":\"\"}}}],\"histogram\":[{\"marker\":{\"pattern\":{\"fillmode\":\"overlay\",\"size\":10,\"solidity\":0.2}},\"type\":\"histogram\"}],\"scattergl\":[{\"type\":\"scattergl\",\"marker\":{\"colorbar\":{\"outlinewidth\":0,\"ticks\":\"\"}}}],\"scatter3d\":[{\"type\":\"scatter3d\",\"line\":{\"colorbar\":{\"outlinewidth\":0,\"ticks\":\"\"}},\"marker\":{\"colorbar\":{\"outlinewidth\":0,\"ticks\":\"\"}}}],\"scattermapbox\":[{\"type\":\"scattermapbox\",\"marker\":{\"colorbar\":{\"outlinewidth\":0,\"ticks\":\"\"}}}],\"scatterternary\":[{\"type\":\"scatterternary\",\"marker\":{\"colorbar\":{\"outlinewidth\":0,\"ticks\":\"\"}}}],\"scattercarpet\":[{\"type\":\"scattercarpet\",\"marker\":{\"colorbar\":{\"outlinewidth\":0,\"ticks\":\"\"}}}],\"carpet\":[{\"aaxis\":{\"endlinecolor\":\"#2a3f5f\",\"gridcolor\":\"white\",\"linecolor\":\"white\",\"minorgridcolor\":\"white\",\"startlinecolor\":\"#2a3f5f\"},\"baxis\":{\"endlinecolor\":\"#2a3f5f\",\"gridcolor\":\"white\",\"linecolor\":\"white\",\"minorgridcolor\":\"white\",\"startlinecolor\":\"#2a3f5f\"},\"type\":\"carpet\"}],\"table\":[{\"cells\":{\"fill\":{\"color\":\"#EBF0F8\"},\"line\":{\"color\":\"white\"}},\"header\":{\"fill\":{\"color\":\"#C8D4E3\"},\"line\":{\"color\":\"white\"}},\"type\":\"table\"}],\"barpolar\":[{\"marker\":{\"line\":{\"color\":\"#E5ECF6\",\"width\":0.5},\"pattern\":{\"fillmode\":\"overlay\",\"size\":10,\"solidity\":0.2}},\"type\":\"barpolar\"}],\"pie\":[{\"automargin\":true,\"type\":\"pie\"}]},\"layout\":{\"autotypenumbers\":\"strict\",\"colorway\":[\"#636efa\",\"#EF553B\",\"#00cc96\",\"#ab63fa\",\"#FFA15A\",\"#19d3f3\",\"#FF6692\",\"#B6E880\",\"#FF97FF\",\"#FECB52\"],\"font\":{\"color\":\"#2a3f5f\"},\"hovermode\":\"closest\",\"hoverlabel\":{\"align\":\"left\"},\"paper_bgcolor\":\"white\",\"plot_bgcolor\":\"#E5ECF6\",\"polar\":{\"bgcolor\":\"#E5ECF6\",\"angularaxis\":{\"gridcolor\":\"white\",\"linecolor\":\"white\",\"ticks\":\"\"},\"radialaxis\":{\"gridcolor\":\"white\",\"linecolor\":\"white\",\"ticks\":\"\"}},\"ternary\":{\"bgcolor\":\"#E5ECF6\",\"aaxis\":{\"gridcolor\":\"white\",\"linecolor\":\"white\",\"ticks\":\"\"},\"baxis\":{\"gridcolor\":\"white\",\"linecolor\":\"white\",\"ticks\":\"\"},\"caxis\":{\"gridcolor\":\"white\",\"linecolor\":\"white\",\"ticks\":\"\"}},\"coloraxis\":{\"colorbar\":{\"outlinewidth\":0,\"ticks\":\"\"}},\"colorscale\":{\"sequential\":[[0.0,\"#0d0887\"],[0.1111111111111111,\"#46039f\"],[0.2222222222222222,\"#7201a8\"],[0.3333333333333333,\"#9c179e\"],[0.4444444444444444,\"#bd3786\"],[0.5555555555555556,\"#d8576b\"],[0.6666666666666666,\"#ed7953\"],[0.7777777777777778,\"#fb9f3a\"],[0.8888888888888888,\"#fdca26\"],[1.0,\"#f0f921\"]],\"sequentialminus\":[[0.0,\"#0d0887\"],[0.1111111111111111,\"#46039f\"],[0.2222222222222222,\"#7201a8\"],[0.3333333333333333,\"#9c179e\"],[0.4444444444444444,\"#bd3786\"],[0.5555555555555556,\"#d8576b\"],[0.6666666666666666,\"#ed7953\"],[0.7777777777777778,\"#fb9f3a\"],[0.8888888888888888,\"#fdca26\"],[1.0,\"#f0f921\"]],\"diverging\":[[0,\"#8e0152\"],[0.1,\"#c51b7d\"],[0.2,\"#de77ae\"],[0.3,\"#f1b6da\"],[0.4,\"#fde0ef\"],[0.5,\"#f7f7f7\"],[0.6,\"#e6f5d0\"],[0.7,\"#b8e186\"],[0.8,\"#7fbc41\"],[0.9,\"#4d9221\"],[1,\"#276419\"]]},\"xaxis\":{\"gridcolor\":\"white\",\"linecolor\":\"white\",\"ticks\":\"\",\"title\":{\"standoff\":15},\"zerolinecolor\":\"white\",\"automargin\":true,\"zerolinewidth\":2},\"yaxis\":{\"gridcolor\":\"white\",\"linecolor\":\"white\",\"ticks\":\"\",\"title\":{\"standoff\":15},\"zerolinecolor\":\"white\",\"automargin\":true,\"zerolinewidth\":2},\"scene\":{\"xaxis\":{\"backgroundcolor\":\"#E5ECF6\",\"gridcolor\":\"white\",\"linecolor\":\"white\",\"showbackground\":true,\"ticks\":\"\",\"zerolinecolor\":\"white\",\"gridwidth\":2},\"yaxis\":{\"backgroundcolor\":\"#E5ECF6\",\"gridcolor\":\"white\",\"linecolor\":\"white\",\"showbackground\":true,\"ticks\":\"\",\"zerolinecolor\":\"white\",\"gridwidth\":2},\"zaxis\":{\"backgroundcolor\":\"#E5ECF6\",\"gridcolor\":\"white\",\"linecolor\":\"white\",\"showbackground\":true,\"ticks\":\"\",\"zerolinecolor\":\"white\",\"gridwidth\":2}},\"shapedefaults\":{\"line\":{\"color\":\"#2a3f5f\"}},\"annotationdefaults\":{\"arrowcolor\":\"#2a3f5f\",\"arrowhead\":0,\"arrowwidth\":1},\"geo\":{\"bgcolor\":\"white\",\"landcolor\":\"#E5ECF6\",\"subunitcolor\":\"white\",\"showland\":true,\"showlakes\":true,\"lakecolor\":\"white\"},\"title\":{\"x\":0.05},\"mapbox\":{\"style\":\"light\"}}},\"xaxis\":{\"anchor\":\"y\",\"domain\":[0.0,1.0],\"title\":{\"text\":\"x\"}},\"yaxis\":{\"anchor\":\"x\",\"domain\":[0.0,1.0],\"title\":{\"text\":\"y\"}},\"legend\":{\"title\":{\"text\":\"cluster\"},\"tracegroupgap\":0},\"margin\":{\"t\":60}},                        {\"responsive\": true}                    ).then(function(){\n",
              "                            \n",
              "var gd = document.getElementById('d56cc407-bbfc-40b6-a630-4fdae8768f57');\n",
              "var x = new MutationObserver(function (mutations, observer) {{\n",
              "        var display = window.getComputedStyle(gd).display;\n",
              "        if (!display || display === 'none') {{\n",
              "            console.log([gd, 'removed!']);\n",
              "            Plotly.purge(gd);\n",
              "            observer.disconnect();\n",
              "        }}\n",
              "}});\n",
              "\n",
              "// Listen for the removal of the full notebook cells\n",
              "var notebookContainer = gd.closest('#notebook-container');\n",
              "if (notebookContainer) {{\n",
              "    x.observe(notebookContainer, {childList: true});\n",
              "}}\n",
              "\n",
              "// Listen for the clearing of the current output cell\n",
              "var outputEl = gd.closest('.output');\n",
              "if (outputEl) {{\n",
              "    x.observe(outputEl, {childList: true});\n",
              "}}\n",
              "\n",
              "                        })                };                            </script>        </div>\n",
              "</body>\n",
              "</html>"
            ]
          },
          "metadata": {}
        }
      ],
      "source": [
        "\n",
        "umap = UMAP(n_components=2,  n_neighbors=80, min_dist=0.2)\n",
        "\n",
        "df_umap = (\n",
        "    pd.DataFrame(umap.fit_transform(np.array(embeddings)), columns=['x', 'y'])\n",
        "    .assign(cluster=lambda df:  hdb.labels_.astype(str))\n",
        "    .query('cluster != \"-1\"')\n",
        "    .sort_values(by='cluster')\n",
        ")\n",
        "df_umap[\"cluster\"]=df_umap[\"cluster\"].apply(lambda x: topic_titles[x])\n",
        "print(df_umap.head())\n",
        "fig = px.scatter(df_umap, x='x', y='y', color='cluster')\n",
        "fig.show()"
      ]
    }
  ]
}