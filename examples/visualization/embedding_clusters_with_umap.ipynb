{
  "nbformat": 4,
  "nbformat_minor": 0,
  "metadata": {
    "colab": {
      "provenance": [],
      "gpuType": "T4",
      "authorship_tag": "ABX9TyMinRGvC+3/ds+p8whEK2g4",
      "include_colab_link": true
    },
    "kernelspec": {
      "name": "python3",
      "display_name": "Python 3"
    },
    "language_info": {
      "name": "python"
    },
    "accelerator": "GPU"
  },
  "cells": [
    {
      "cell_type": "markdown",
      "metadata": {
        "id": "view-in-github",
        "colab_type": "text"
      },
      "source": [
        "<a href=\"https://colab.research.google.com/github/ebamberg/research-projects-ml/blob/main/examples/visualization/embedding_clusters_with_umap.ipynb\" target=\"_parent\"><img src=\"https://colab.research.google.com/assets/colab-badge.svg\" alt=\"Open In Colab\"/></a>"
      ]
    },
    {
      "cell_type": "code",
      "source": [
        "!pip install umap-learn plotly pandas numpy sentence-transformers hdbscan tqdm --quiet\n",
        "\n",
        "!curl -L -o ./news-headlines-2024.zip https://www.kaggle.com/api/v1/datasets/download/dylanjcastillo/news-headlines-2024\n",
        "!unzip -o ./news-headlines-2024.zip"
      ],
      "metadata": {
        "colab": {
          "base_uri": "https://localhost:8080/"
        },
        "id": "aMXfZ4NAeKpu",
        "outputId": "fb187375-714a-43fd-d7a7-bcf05be28fba"
      },
      "execution_count": 1,
      "outputs": [
        {
          "output_type": "stream",
          "name": "stdout",
          "text": [
            "  % Total    % Received % Xferd  Average Speed   Time    Time     Time  Current\n",
            "                                 Dload  Upload   Total   Spent    Left  Speed\n",
            "  0     0    0     0    0     0      0      0 --:--:-- --:--:-- --:--:--     0\n",
            "100  225k  100  225k    0     0   402k      0 --:--:-- --:--:-- --:--:--  402k\n",
            "Archive:  ./news-headlines-2024.zip\n",
            "  inflating: news_data_dedup.csv     \n"
          ]
        }
      ]
    },
    {
      "cell_type": "code",
      "source": [
        "import pandas as pd\n",
        "\n",
        "df = pd.read_csv(\"./news_data_dedup.csv\")\n",
        "docs = [\n",
        "    f\"{title}\\n{description}\"\n",
        "    for title, description in zip(df.title, df.description)\n",
        "]\n",
        "\n"
      ],
      "metadata": {
        "id": "tCg-JKxjgfwv"
      },
      "execution_count": 2,
      "outputs": []
    },
    {
      "cell_type": "code",
      "source": [
        "from google.colab import userdata\n",
        "from sentence_transformers import SentenceTransformer\n",
        "from umap import UMAP\n",
        "import pandas as pd\n",
        "import numpy as np\n",
        "import plotly.express as px\n",
        "import hdbscan\n",
        "\n",
        "model_id = \"sentence-transformers/all-MiniLM-L6-v2\"\n",
        "hf_token = userdata.get('HF_TOKEN')\n",
        "\n",
        "model = SentenceTransformer(model_id)\n",
        "\n",
        "embeddings = model.encode(docs)\n",
        "\n",
        "embeddings"
      ],
      "metadata": {
        "colab": {
          "base_uri": "https://localhost:8080/"
        },
        "id": "YxW3Uu9ve5Bs",
        "outputId": "9d1016ed-dc09-4c0b-d5a3-62d14a0072da"
      },
      "execution_count": 3,
      "outputs": [
        {
          "output_type": "execute_result",
          "data": {
            "text/plain": [
              "array([[ 0.01300003, -0.02001945,  0.0378731 , ..., -0.0176036 ,\n",
              "         0.08934786, -0.06768816],\n",
              "       [-0.00416246,  0.03095501, -0.04282118, ..., -0.02408286,\n",
              "        -0.04449847, -0.03713957],\n",
              "       [-0.02172823, -0.00271915,  0.10941693, ...,  0.00217858,\n",
              "         0.010975  , -0.09007305],\n",
              "       ...,\n",
              "       [ 0.08573322,  0.04818088,  0.0819603 , ...,  0.04652384,\n",
              "        -0.06448119,  0.02147188],\n",
              "       [ 0.08200873, -0.00633858,  0.06603416, ...,  0.00668821,\n",
              "        -0.03189663, -0.00043885],\n",
              "       [ 0.06723553,  0.08093947, -0.01455507, ..., -0.01280487,\n",
              "        -0.00361775,  0.06653812]], dtype=float32)"
            ]
          },
          "metadata": {},
          "execution_count": 3
        }
      ]
    },
    {
      "cell_type": "code",
      "source": [
        "hdb = hdbscan.HDBSCAN(min_samples=10, min_cluster_size=3 ).fit(embeddings)\n",
        "df=df.assign(cluster=lambda df: hdb.labels_.astype(str))\n",
        "df"
      ],
      "metadata": {
        "colab": {
          "base_uri": "https://localhost:8080/",
          "height": 1000
        },
        "id": "ktjm_2fHhcmD",
        "outputId": "90f05d4f-124c-4947-9e7a-133052139e4a"
      },
      "execution_count": 23,
      "outputs": [
        {
          "output_type": "stream",
          "name": "stderr",
          "text": [
            "/usr/local/lib/python3.11/dist-packages/sklearn/utils/deprecation.py:151: FutureWarning:\n",
            "\n",
            "'force_all_finite' was renamed to 'ensure_all_finite' in 1.6 and will be removed in 1.8.\n",
            "\n",
            "/usr/local/lib/python3.11/dist-packages/sklearn/utils/deprecation.py:151: FutureWarning:\n",
            "\n",
            "'force_all_finite' was renamed to 'ensure_all_finite' in 1.6 and will be removed in 1.8.\n",
            "\n"
          ]
        },
        {
          "output_type": "execute_result",
          "data": {
            "text/plain": [
              "                                 guid  \\\n",
              "0    e3dc5caa18f9a16d7edcc09f8d5c2bb4   \n",
              "1    297b7152cd95e80dd200a8e1997e10d9   \n",
              "2    170bd18d1635c44b9339bdbaf1e62123   \n",
              "3    e696224ac208878a5cec8bdc9f97c632   \n",
              "4    733f744b006fb13033d264efcaf8edad   \n",
              "..                                ...   \n",
              "865  b26b379233ad059cd7b2098fa7bad86b   \n",
              "866  ad3948cb67434a9d6b7acf6beaab44fe   \n",
              "867  efe3f14a916d7d187c42662dff1d8167   \n",
              "868  89be6f3e8a2f8d75ce401e3c6c72648e   \n",
              "869  1123929cfbd9e11b3999d7116f4c1d05   \n",
              "\n",
              "                                                 title  \\\n",
              "0    Harvey Weinstein's 2020 rape conviction overtu...   \n",
              "1    Police and activists clash on Atlanta campus a...   \n",
              "2    Haiti PM resigns as transitional council sworn in   \n",
              "3    Europe risks dying and faces big decisions - M...   \n",
              "4    Prosecutors ask for halt to case against Spain...   \n",
              "..                                                 ...   \n",
              "865  A celebration ‘of the immigrant, the foreigner...   \n",
              "866  Part protest, part rave: the Indigenous artist...   \n",
              "867  The photography studio with four wheels and a ...   \n",
              "868  Lost New York: remembering the city’s forgotte...   \n",
              "869  ‘Distressing’: British newscast pulled mid-bul...   \n",
              "\n",
              "                                           description         venue  \\\n",
              "0    Victims group describes the New York appeal co...           BBC   \n",
              "1    Meanwhile, hundreds of students march in Washi...           BBC   \n",
              "2    The council will try to restore order and form...           BBC   \n",
              "3    The French president delivers a stark warning ...           BBC   \n",
              "4    Pedro Sánchez is deciding whether to resign af...           BBC   \n",
              "..                                                 ...           ...   \n",
              "865  The grand gathering of contemporary art celebr...       El Pais   \n",
              "866  From Gold Lion winner Archie Moore to Brazilia...  The Guardian   \n",
              "867  ‘The sun trickled in just as we were coming do...  The Guardian   \n",
              "868  A new exhibition at the New-York Historical So...  The Guardian   \n",
              "869  UK presenter Rageh Omaar – a veteran in the ne...   News.com.au   \n",
              "\n",
              "                                                   url  \\\n",
              "0    https://www.bbc.co.uk/news/world-us-canada-688...   \n",
              "1    https://www.bbc.co.uk/news/live/world-us-canad...   \n",
              "2    https://www.bbc.co.uk/news/world-latin-america...   \n",
              "3     https://www.bbc.co.uk/news/world-europe-68898887   \n",
              "4     https://www.bbc.co.uk/news/world-europe-68895727   \n",
              "..                                                 ...   \n",
              "865  https://english.elpais.com/culture/2024-04-19/...   \n",
              "866  https://www.theguardian.com/artanddesign/2024/...   \n",
              "867  https://www.theguardian.com/artanddesign/2024/...   \n",
              "868  https://www.theguardian.com/artanddesign/2024/...   \n",
              "869  https://www.news.com.au/world/europe/distressi...   \n",
              "\n",
              "                     published_at                     updated_at cluster  \\\n",
              "0          2024-04-25 18:24:04+00  2024-04-26 20:03:00.628113+00      35   \n",
              "1          2024-04-25 13:40:25+00  2024-04-26 20:03:00.654819+00      48   \n",
              "2          2024-04-25 18:11:02+00  2024-04-26 20:03:00.663393+00      26   \n",
              "3          2024-04-25 14:51:15+00  2024-04-26 20:03:00.672106+00      42   \n",
              "4          2024-04-25 13:07:42+00  2024-04-26 20:03:00.682205+00      28   \n",
              "..                            ...                            ...     ...   \n",
              "865        2024-04-19 21:48:57+00  2024-04-26 13:02:53.612335+00       8   \n",
              "866        2024-04-25 10:55:43+00  2024-04-26 13:02:54.537243+00       8   \n",
              "867        2024-04-24 12:33:27+00  2024-04-26 13:02:54.756821+00      -1   \n",
              "868        2024-04-25 14:30:06+00  2024-04-26 13:02:54.827138+00      -1   \n",
              "869  2024-04-27 06:31:59.16726+00  2024-04-27 06:32:45.714458+00      -1   \n",
              "\n",
              "                                cluster_name  \n",
              "0    Weinstein's Conviction Overturned Again  \n",
              "1                                  unknown/6  \n",
              "2                              Uncategorized  \n",
              "3                              Uncategorized  \n",
              "4                              Uncategorized  \n",
              "..                                       ...  \n",
              "865                            Uncategorized  \n",
              "866                            Uncategorized  \n",
              "867                            Uncategorized  \n",
              "868                            Uncategorized  \n",
              "869                            Uncategorized  \n",
              "\n",
              "[870 rows x 9 columns]"
            ],
            "text/html": [
              "\n",
              "  <div id=\"df-9b53fabc-f1c1-42af-ad56-0185da70ac98\" class=\"colab-df-container\">\n",
              "    <div>\n",
              "<style scoped>\n",
              "    .dataframe tbody tr th:only-of-type {\n",
              "        vertical-align: middle;\n",
              "    }\n",
              "\n",
              "    .dataframe tbody tr th {\n",
              "        vertical-align: top;\n",
              "    }\n",
              "\n",
              "    .dataframe thead th {\n",
              "        text-align: right;\n",
              "    }\n",
              "</style>\n",
              "<table border=\"1\" class=\"dataframe\">\n",
              "  <thead>\n",
              "    <tr style=\"text-align: right;\">\n",
              "      <th></th>\n",
              "      <th>guid</th>\n",
              "      <th>title</th>\n",
              "      <th>description</th>\n",
              "      <th>venue</th>\n",
              "      <th>url</th>\n",
              "      <th>published_at</th>\n",
              "      <th>updated_at</th>\n",
              "      <th>cluster</th>\n",
              "      <th>cluster_name</th>\n",
              "    </tr>\n",
              "  </thead>\n",
              "  <tbody>\n",
              "    <tr>\n",
              "      <th>0</th>\n",
              "      <td>e3dc5caa18f9a16d7edcc09f8d5c2bb4</td>\n",
              "      <td>Harvey Weinstein's 2020 rape conviction overtu...</td>\n",
              "      <td>Victims group describes the New York appeal co...</td>\n",
              "      <td>BBC</td>\n",
              "      <td>https://www.bbc.co.uk/news/world-us-canada-688...</td>\n",
              "      <td>2024-04-25 18:24:04+00</td>\n",
              "      <td>2024-04-26 20:03:00.628113+00</td>\n",
              "      <td>35</td>\n",
              "      <td>Weinstein's Conviction Overturned Again</td>\n",
              "    </tr>\n",
              "    <tr>\n",
              "      <th>1</th>\n",
              "      <td>297b7152cd95e80dd200a8e1997e10d9</td>\n",
              "      <td>Police and activists clash on Atlanta campus a...</td>\n",
              "      <td>Meanwhile, hundreds of students march in Washi...</td>\n",
              "      <td>BBC</td>\n",
              "      <td>https://www.bbc.co.uk/news/live/world-us-canad...</td>\n",
              "      <td>2024-04-25 13:40:25+00</td>\n",
              "      <td>2024-04-26 20:03:00.654819+00</td>\n",
              "      <td>48</td>\n",
              "      <td>unknown/6</td>\n",
              "    </tr>\n",
              "    <tr>\n",
              "      <th>2</th>\n",
              "      <td>170bd18d1635c44b9339bdbaf1e62123</td>\n",
              "      <td>Haiti PM resigns as transitional council sworn in</td>\n",
              "      <td>The council will try to restore order and form...</td>\n",
              "      <td>BBC</td>\n",
              "      <td>https://www.bbc.co.uk/news/world-latin-america...</td>\n",
              "      <td>2024-04-25 18:11:02+00</td>\n",
              "      <td>2024-04-26 20:03:00.663393+00</td>\n",
              "      <td>26</td>\n",
              "      <td>Uncategorized</td>\n",
              "    </tr>\n",
              "    <tr>\n",
              "      <th>3</th>\n",
              "      <td>e696224ac208878a5cec8bdc9f97c632</td>\n",
              "      <td>Europe risks dying and faces big decisions - M...</td>\n",
              "      <td>The French president delivers a stark warning ...</td>\n",
              "      <td>BBC</td>\n",
              "      <td>https://www.bbc.co.uk/news/world-europe-68898887</td>\n",
              "      <td>2024-04-25 14:51:15+00</td>\n",
              "      <td>2024-04-26 20:03:00.672106+00</td>\n",
              "      <td>42</td>\n",
              "      <td>Uncategorized</td>\n",
              "    </tr>\n",
              "    <tr>\n",
              "      <th>4</th>\n",
              "      <td>733f744b006fb13033d264efcaf8edad</td>\n",
              "      <td>Prosecutors ask for halt to case against Spain...</td>\n",
              "      <td>Pedro Sánchez is deciding whether to resign af...</td>\n",
              "      <td>BBC</td>\n",
              "      <td>https://www.bbc.co.uk/news/world-europe-68895727</td>\n",
              "      <td>2024-04-25 13:07:42+00</td>\n",
              "      <td>2024-04-26 20:03:00.682205+00</td>\n",
              "      <td>28</td>\n",
              "      <td>Uncategorized</td>\n",
              "    </tr>\n",
              "    <tr>\n",
              "      <th>...</th>\n",
              "      <td>...</td>\n",
              "      <td>...</td>\n",
              "      <td>...</td>\n",
              "      <td>...</td>\n",
              "      <td>...</td>\n",
              "      <td>...</td>\n",
              "      <td>...</td>\n",
              "      <td>...</td>\n",
              "      <td>...</td>\n",
              "    </tr>\n",
              "    <tr>\n",
              "      <th>865</th>\n",
              "      <td>b26b379233ad059cd7b2098fa7bad86b</td>\n",
              "      <td>A celebration ‘of the immigrant, the foreigner...</td>\n",
              "      <td>The grand gathering of contemporary art celebr...</td>\n",
              "      <td>El Pais</td>\n",
              "      <td>https://english.elpais.com/culture/2024-04-19/...</td>\n",
              "      <td>2024-04-19 21:48:57+00</td>\n",
              "      <td>2024-04-26 13:02:53.612335+00</td>\n",
              "      <td>8</td>\n",
              "      <td>Uncategorized</td>\n",
              "    </tr>\n",
              "    <tr>\n",
              "      <th>866</th>\n",
              "      <td>ad3948cb67434a9d6b7acf6beaab44fe</td>\n",
              "      <td>Part protest, part rave: the Indigenous artist...</td>\n",
              "      <td>From Gold Lion winner Archie Moore to Brazilia...</td>\n",
              "      <td>The Guardian</td>\n",
              "      <td>https://www.theguardian.com/artanddesign/2024/...</td>\n",
              "      <td>2024-04-25 10:55:43+00</td>\n",
              "      <td>2024-04-26 13:02:54.537243+00</td>\n",
              "      <td>8</td>\n",
              "      <td>Uncategorized</td>\n",
              "    </tr>\n",
              "    <tr>\n",
              "      <th>867</th>\n",
              "      <td>efe3f14a916d7d187c42662dff1d8167</td>\n",
              "      <td>The photography studio with four wheels and a ...</td>\n",
              "      <td>‘The sun trickled in just as we were coming do...</td>\n",
              "      <td>The Guardian</td>\n",
              "      <td>https://www.theguardian.com/artanddesign/2024/...</td>\n",
              "      <td>2024-04-24 12:33:27+00</td>\n",
              "      <td>2024-04-26 13:02:54.756821+00</td>\n",
              "      <td>-1</td>\n",
              "      <td>Uncategorized</td>\n",
              "    </tr>\n",
              "    <tr>\n",
              "      <th>868</th>\n",
              "      <td>89be6f3e8a2f8d75ce401e3c6c72648e</td>\n",
              "      <td>Lost New York: remembering the city’s forgotte...</td>\n",
              "      <td>A new exhibition at the New-York Historical So...</td>\n",
              "      <td>The Guardian</td>\n",
              "      <td>https://www.theguardian.com/artanddesign/2024/...</td>\n",
              "      <td>2024-04-25 14:30:06+00</td>\n",
              "      <td>2024-04-26 13:02:54.827138+00</td>\n",
              "      <td>-1</td>\n",
              "      <td>Uncategorized</td>\n",
              "    </tr>\n",
              "    <tr>\n",
              "      <th>869</th>\n",
              "      <td>1123929cfbd9e11b3999d7116f4c1d05</td>\n",
              "      <td>‘Distressing’: British newscast pulled mid-bul...</td>\n",
              "      <td>UK presenter Rageh Omaar – a veteran in the ne...</td>\n",
              "      <td>News.com.au</td>\n",
              "      <td>https://www.news.com.au/world/europe/distressi...</td>\n",
              "      <td>2024-04-27 06:31:59.16726+00</td>\n",
              "      <td>2024-04-27 06:32:45.714458+00</td>\n",
              "      <td>-1</td>\n",
              "      <td>Uncategorized</td>\n",
              "    </tr>\n",
              "  </tbody>\n",
              "</table>\n",
              "<p>870 rows × 9 columns</p>\n",
              "</div>\n",
              "    <div class=\"colab-df-buttons\">\n",
              "\n",
              "  <div class=\"colab-df-container\">\n",
              "    <button class=\"colab-df-convert\" onclick=\"convertToInteractive('df-9b53fabc-f1c1-42af-ad56-0185da70ac98')\"\n",
              "            title=\"Convert this dataframe to an interactive table.\"\n",
              "            style=\"display:none;\">\n",
              "\n",
              "  <svg xmlns=\"http://www.w3.org/2000/svg\" height=\"24px\" viewBox=\"0 -960 960 960\">\n",
              "    <path d=\"M120-120v-720h720v720H120Zm60-500h600v-160H180v160Zm220 220h160v-160H400v160Zm0 220h160v-160H400v160ZM180-400h160v-160H180v160Zm440 0h160v-160H620v160ZM180-180h160v-160H180v160Zm440 0h160v-160H620v160Z\"/>\n",
              "  </svg>\n",
              "    </button>\n",
              "\n",
              "  <style>\n",
              "    .colab-df-container {\n",
              "      display:flex;\n",
              "      gap: 12px;\n",
              "    }\n",
              "\n",
              "    .colab-df-convert {\n",
              "      background-color: #E8F0FE;\n",
              "      border: none;\n",
              "      border-radius: 50%;\n",
              "      cursor: pointer;\n",
              "      display: none;\n",
              "      fill: #1967D2;\n",
              "      height: 32px;\n",
              "      padding: 0 0 0 0;\n",
              "      width: 32px;\n",
              "    }\n",
              "\n",
              "    .colab-df-convert:hover {\n",
              "      background-color: #E2EBFA;\n",
              "      box-shadow: 0px 1px 2px rgba(60, 64, 67, 0.3), 0px 1px 3px 1px rgba(60, 64, 67, 0.15);\n",
              "      fill: #174EA6;\n",
              "    }\n",
              "\n",
              "    .colab-df-buttons div {\n",
              "      margin-bottom: 4px;\n",
              "    }\n",
              "\n",
              "    [theme=dark] .colab-df-convert {\n",
              "      background-color: #3B4455;\n",
              "      fill: #D2E3FC;\n",
              "    }\n",
              "\n",
              "    [theme=dark] .colab-df-convert:hover {\n",
              "      background-color: #434B5C;\n",
              "      box-shadow: 0px 1px 3px 1px rgba(0, 0, 0, 0.15);\n",
              "      filter: drop-shadow(0px 1px 2px rgba(0, 0, 0, 0.3));\n",
              "      fill: #FFFFFF;\n",
              "    }\n",
              "  </style>\n",
              "\n",
              "    <script>\n",
              "      const buttonEl =\n",
              "        document.querySelector('#df-9b53fabc-f1c1-42af-ad56-0185da70ac98 button.colab-df-convert');\n",
              "      buttonEl.style.display =\n",
              "        google.colab.kernel.accessAllowed ? 'block' : 'none';\n",
              "\n",
              "      async function convertToInteractive(key) {\n",
              "        const element = document.querySelector('#df-9b53fabc-f1c1-42af-ad56-0185da70ac98');\n",
              "        const dataTable =\n",
              "          await google.colab.kernel.invokeFunction('convertToInteractive',\n",
              "                                                    [key], {});\n",
              "        if (!dataTable) return;\n",
              "\n",
              "        const docLinkHtml = 'Like what you see? Visit the ' +\n",
              "          '<a target=\"_blank\" href=https://colab.research.google.com/notebooks/data_table.ipynb>data table notebook</a>'\n",
              "          + ' to learn more about interactive tables.';\n",
              "        element.innerHTML = '';\n",
              "        dataTable['output_type'] = 'display_data';\n",
              "        await google.colab.output.renderOutput(dataTable, element);\n",
              "        const docLink = document.createElement('div');\n",
              "        docLink.innerHTML = docLinkHtml;\n",
              "        element.appendChild(docLink);\n",
              "      }\n",
              "    </script>\n",
              "  </div>\n",
              "\n",
              "\n",
              "<div id=\"df-06e00c8e-1c7f-4ee9-9457-eae90bf6fa26\">\n",
              "  <button class=\"colab-df-quickchart\" onclick=\"quickchart('df-06e00c8e-1c7f-4ee9-9457-eae90bf6fa26')\"\n",
              "            title=\"Suggest charts\"\n",
              "            style=\"display:none;\">\n",
              "\n",
              "<svg xmlns=\"http://www.w3.org/2000/svg\" height=\"24px\"viewBox=\"0 0 24 24\"\n",
              "     width=\"24px\">\n",
              "    <g>\n",
              "        <path d=\"M19 3H5c-1.1 0-2 .9-2 2v14c0 1.1.9 2 2 2h14c1.1 0 2-.9 2-2V5c0-1.1-.9-2-2-2zM9 17H7v-7h2v7zm4 0h-2V7h2v10zm4 0h-2v-4h2v4z\"/>\n",
              "    </g>\n",
              "</svg>\n",
              "  </button>\n",
              "\n",
              "<style>\n",
              "  .colab-df-quickchart {\n",
              "      --bg-color: #E8F0FE;\n",
              "      --fill-color: #1967D2;\n",
              "      --hover-bg-color: #E2EBFA;\n",
              "      --hover-fill-color: #174EA6;\n",
              "      --disabled-fill-color: #AAA;\n",
              "      --disabled-bg-color: #DDD;\n",
              "  }\n",
              "\n",
              "  [theme=dark] .colab-df-quickchart {\n",
              "      --bg-color: #3B4455;\n",
              "      --fill-color: #D2E3FC;\n",
              "      --hover-bg-color: #434B5C;\n",
              "      --hover-fill-color: #FFFFFF;\n",
              "      --disabled-bg-color: #3B4455;\n",
              "      --disabled-fill-color: #666;\n",
              "  }\n",
              "\n",
              "  .colab-df-quickchart {\n",
              "    background-color: var(--bg-color);\n",
              "    border: none;\n",
              "    border-radius: 50%;\n",
              "    cursor: pointer;\n",
              "    display: none;\n",
              "    fill: var(--fill-color);\n",
              "    height: 32px;\n",
              "    padding: 0;\n",
              "    width: 32px;\n",
              "  }\n",
              "\n",
              "  .colab-df-quickchart:hover {\n",
              "    background-color: var(--hover-bg-color);\n",
              "    box-shadow: 0 1px 2px rgba(60, 64, 67, 0.3), 0 1px 3px 1px rgba(60, 64, 67, 0.15);\n",
              "    fill: var(--button-hover-fill-color);\n",
              "  }\n",
              "\n",
              "  .colab-df-quickchart-complete:disabled,\n",
              "  .colab-df-quickchart-complete:disabled:hover {\n",
              "    background-color: var(--disabled-bg-color);\n",
              "    fill: var(--disabled-fill-color);\n",
              "    box-shadow: none;\n",
              "  }\n",
              "\n",
              "  .colab-df-spinner {\n",
              "    border: 2px solid var(--fill-color);\n",
              "    border-color: transparent;\n",
              "    border-bottom-color: var(--fill-color);\n",
              "    animation:\n",
              "      spin 1s steps(1) infinite;\n",
              "  }\n",
              "\n",
              "  @keyframes spin {\n",
              "    0% {\n",
              "      border-color: transparent;\n",
              "      border-bottom-color: var(--fill-color);\n",
              "      border-left-color: var(--fill-color);\n",
              "    }\n",
              "    20% {\n",
              "      border-color: transparent;\n",
              "      border-left-color: var(--fill-color);\n",
              "      border-top-color: var(--fill-color);\n",
              "    }\n",
              "    30% {\n",
              "      border-color: transparent;\n",
              "      border-left-color: var(--fill-color);\n",
              "      border-top-color: var(--fill-color);\n",
              "      border-right-color: var(--fill-color);\n",
              "    }\n",
              "    40% {\n",
              "      border-color: transparent;\n",
              "      border-right-color: var(--fill-color);\n",
              "      border-top-color: var(--fill-color);\n",
              "    }\n",
              "    60% {\n",
              "      border-color: transparent;\n",
              "      border-right-color: var(--fill-color);\n",
              "    }\n",
              "    80% {\n",
              "      border-color: transparent;\n",
              "      border-right-color: var(--fill-color);\n",
              "      border-bottom-color: var(--fill-color);\n",
              "    }\n",
              "    90% {\n",
              "      border-color: transparent;\n",
              "      border-bottom-color: var(--fill-color);\n",
              "    }\n",
              "  }\n",
              "</style>\n",
              "\n",
              "  <script>\n",
              "    async function quickchart(key) {\n",
              "      const quickchartButtonEl =\n",
              "        document.querySelector('#' + key + ' button');\n",
              "      quickchartButtonEl.disabled = true;  // To prevent multiple clicks.\n",
              "      quickchartButtonEl.classList.add('colab-df-spinner');\n",
              "      try {\n",
              "        const charts = await google.colab.kernel.invokeFunction(\n",
              "            'suggestCharts', [key], {});\n",
              "      } catch (error) {\n",
              "        console.error('Error during call to suggestCharts:', error);\n",
              "      }\n",
              "      quickchartButtonEl.classList.remove('colab-df-spinner');\n",
              "      quickchartButtonEl.classList.add('colab-df-quickchart-complete');\n",
              "    }\n",
              "    (() => {\n",
              "      let quickchartButtonEl =\n",
              "        document.querySelector('#df-06e00c8e-1c7f-4ee9-9457-eae90bf6fa26 button');\n",
              "      quickchartButtonEl.style.display =\n",
              "        google.colab.kernel.accessAllowed ? 'block' : 'none';\n",
              "    })();\n",
              "  </script>\n",
              "</div>\n",
              "\n",
              "  <div id=\"id_b335968a-e03d-4a74-9b28-952b76777a9f\">\n",
              "    <style>\n",
              "      .colab-df-generate {\n",
              "        background-color: #E8F0FE;\n",
              "        border: none;\n",
              "        border-radius: 50%;\n",
              "        cursor: pointer;\n",
              "        display: none;\n",
              "        fill: #1967D2;\n",
              "        height: 32px;\n",
              "        padding: 0 0 0 0;\n",
              "        width: 32px;\n",
              "      }\n",
              "\n",
              "      .colab-df-generate:hover {\n",
              "        background-color: #E2EBFA;\n",
              "        box-shadow: 0px 1px 2px rgba(60, 64, 67, 0.3), 0px 1px 3px 1px rgba(60, 64, 67, 0.15);\n",
              "        fill: #174EA6;\n",
              "      }\n",
              "\n",
              "      [theme=dark] .colab-df-generate {\n",
              "        background-color: #3B4455;\n",
              "        fill: #D2E3FC;\n",
              "      }\n",
              "\n",
              "      [theme=dark] .colab-df-generate:hover {\n",
              "        background-color: #434B5C;\n",
              "        box-shadow: 0px 1px 3px 1px rgba(0, 0, 0, 0.15);\n",
              "        filter: drop-shadow(0px 1px 2px rgba(0, 0, 0, 0.3));\n",
              "        fill: #FFFFFF;\n",
              "      }\n",
              "    </style>\n",
              "    <button class=\"colab-df-generate\" onclick=\"generateWithVariable('df')\"\n",
              "            title=\"Generate code using this dataframe.\"\n",
              "            style=\"display:none;\">\n",
              "\n",
              "  <svg xmlns=\"http://www.w3.org/2000/svg\" height=\"24px\"viewBox=\"0 0 24 24\"\n",
              "       width=\"24px\">\n",
              "    <path d=\"M7,19H8.4L18.45,9,17,7.55,7,17.6ZM5,21V16.75L18.45,3.32a2,2,0,0,1,2.83,0l1.4,1.43a1.91,1.91,0,0,1,.58,1.4,1.91,1.91,0,0,1-.58,1.4L9.25,21ZM18.45,9,17,7.55Zm-12,3A5.31,5.31,0,0,0,4.9,8.1,5.31,5.31,0,0,0,1,6.5,5.31,5.31,0,0,0,4.9,4.9,5.31,5.31,0,0,0,6.5,1,5.31,5.31,0,0,0,8.1,4.9,5.31,5.31,0,0,0,12,6.5,5.46,5.46,0,0,0,6.5,12Z\"/>\n",
              "  </svg>\n",
              "    </button>\n",
              "    <script>\n",
              "      (() => {\n",
              "      const buttonEl =\n",
              "        document.querySelector('#id_b335968a-e03d-4a74-9b28-952b76777a9f button.colab-df-generate');\n",
              "      buttonEl.style.display =\n",
              "        google.colab.kernel.accessAllowed ? 'block' : 'none';\n",
              "\n",
              "      buttonEl.onclick = () => {\n",
              "        google.colab.notebook.generateWithVariable('df');\n",
              "      }\n",
              "      })();\n",
              "    </script>\n",
              "  </div>\n",
              "\n",
              "    </div>\n",
              "  </div>\n"
            ],
            "application/vnd.google.colaboratory.intrinsic+json": {
              "type": "dataframe",
              "variable_name": "df",
              "summary": "{\n  \"name\": \"df\",\n  \"rows\": 870,\n  \"fields\": [\n    {\n      \"column\": \"guid\",\n      \"properties\": {\n        \"dtype\": \"string\",\n        \"num_unique_values\": 870,\n        \"samples\": [\n          \"e56cc9bfd61bda3d4d334d79cf633b23\",\n          \"c90410416b05af4e43da24249ff23a8a\",\n          \"6a7fa2fb009dbe69065ccbc6f0dc2698\"\n        ],\n        \"semantic_type\": \"\",\n        \"description\": \"\"\n      }\n    },\n    {\n      \"column\": \"title\",\n      \"properties\": {\n        \"dtype\": \"string\",\n        \"num_unique_values\": 841,\n        \"samples\": [\n          \"Palestinian baby rescued from mother\\u2019s womb dies in Gaza hospital\",\n          \"Jack Draper finds positives despite humbling by Hurkacz at Madrid Open\",\n          \"More arrests as US campus protests continue to spread\"\n        ],\n        \"semantic_type\": \"\",\n        \"description\": \"\"\n      }\n    },\n    {\n      \"column\": \"description\",\n      \"properties\": {\n        \"dtype\": \"string\",\n        \"num_unique_values\": 845,\n        \"samples\": [\n          \"New rules are designed to eliminate fossil-fuel power plants. Energy scarcity is sure to result.\",\n          \"Trial will see more questions for publisher following his testimony about \\u2018catch and kill\\u2019 schemes to buy up negative storiesMy colleague Sam Levine was at the Manhattan courthouse yesterday to see Pecker\\u2019s testimony firsthand. Here are his main takeaways:Welcome back.Bove traced Pecker\\u2019s long relationship with Trump, showing how he helped his friend long before the presidential election. Pecker spoke about how he gave Trump a heads up about a negative story about Trump\\u2019s then wife, Marla Maples.Trump addressed the media as he left the courtroom, describing Pecker\\u2019s testimony as \\u201cbreathtaking and amazing\\u201d. \\u201cThis is a trial that should\\u2019ve never happened, this is a case that should\\u2019ve never been filed and it was really an incredible, an incredible day,\\u201d he told reporters.Pecker said he agreed to buy a story from the Playboy model Karen McDougal specifically to bury it so that it did not \\u201cembarrass or hurt the [Trump] campaign\\u201d. He said a $150,000 payment he agreed to make to McDougal in August 2016 was so his publication could \\u201ckill\\u201d McDougal\\u2019s story about a 10-month affair she says she had with Trump a decade earlier. The jury was shown records of the $150,000 payment, including an invoice from McDougal\\u2019s lawyer.Pecker said Trump called him for advice after he became a presidential candidate, telling him \\u201cKaren is a nice girl\\u201d, and that he was worried news of the affair would hurt his campaign. \\u201cI think you should buy the story and take it off the market,\\u201d Pecker recalled telling Trump.Pecker said he worked with the former National Enquirer editor-in-chief, Dylan Howard, and Trump\\u2019s lawyer Michael Cohen to facilitate the payment. Pecker admitted that the goal of the paper\\u2019s publisher American Media Inc (AMI) was to try to prevent the story from interfering with the Trump campaign, and that he was concerned the payment could violate federal campaign finance law.But Pecker said things turned sour when he ultimately backed out of the agreement. Pecker confirmed that AMI consulted with an election law attorney, and that Cohen was \\u201cvery, very angry, screaming basically\\u201d about it.Pecker said he received a frantic call from Howard in early October 2016, saying Stormy Daniels was trying to sell a story about her sexual relationship with Trump. He said Howard claimed Daniels wanted $120,000 for the story. Pecker said he did not want to be involved with a porn star, and that Cohen told him \\u201cthe boss will be very angry with you\\u201d.Prosecutor Joshua Steinglass repeatedly tied Trump\\u2019s motive for quashing the story to protecting his presidential campaign. The prosecution\\u2019s case is that it was interference in the 2016 election, which Trump won. \\u201cI made the assumption that his concern was the campaign,\\u201d Pecker said when asked if Trump ever expressed any concern for his wife and children. Continue reading...\",\n          \"Stocks and government bonds fell sharply after fresh data showed the U.S. economy slowed in the first quarter.\"\n        ],\n        \"semantic_type\": \"\",\n        \"description\": \"\"\n      }\n    },\n    {\n      \"column\": \"venue\",\n      \"properties\": {\n        \"dtype\": \"category\",\n        \"num_unique_values\": 12,\n        \"samples\": [\n          \"Washington Post\",\n          \"Times of India\",\n          \"BBC\"\n        ],\n        \"semantic_type\": \"\",\n        \"description\": \"\"\n      }\n    },\n    {\n      \"column\": \"url\",\n      \"properties\": {\n        \"dtype\": \"string\",\n        \"num_unique_values\": 851,\n        \"samples\": [\n          \"https://www.france24.com/en/europe/20240425-us-secretly-sent-ukraine-long-range-atacms-missiles\",\n          \"https://www.wsj.com/articles/blinken-meets-with-xi-as-u-s-pressures-china-to-end-support-for-russia-96e831e0\",\n          \"https://www.wsj.com/business/retail/remy-cointreau-sales-decline-as-u-s-woes-persist-e0cad36c\"\n        ],\n        \"semantic_type\": \"\",\n        \"description\": \"\"\n      }\n    },\n    {\n      \"column\": \"published_at\",\n      \"properties\": {\n        \"dtype\": \"string\",\n        \"num_unique_values\": 783,\n        \"samples\": [\n          \"2024-04-25 19:17:00+00\",\n          \"2024-04-27 22:50:47+00\",\n          \"2024-04-26 09:11:17+00\"\n        ],\n        \"semantic_type\": \"\",\n        \"description\": \"\"\n      }\n    },\n    {\n      \"column\": \"updated_at\",\n      \"properties\": {\n        \"dtype\": \"object\",\n        \"num_unique_values\": 870,\n        \"samples\": [\n          \"2024-04-27 01:32:46.027846+00\",\n          \"2024-04-26 20:03:01.215267+00\",\n          \"2024-04-27 17:32:52.759049+00\"\n        ],\n        \"semantic_type\": \"\",\n        \"description\": \"\"\n      }\n    },\n    {\n      \"column\": \"cluster\",\n      \"properties\": {\n        \"dtype\": \"category\",\n        \"num_unique_values\": 53,\n        \"samples\": [\n          \"15\",\n          \"51\",\n          \"7\"\n        ],\n        \"semantic_type\": \"\",\n        \"description\": \"\"\n      }\n    },\n    {\n      \"column\": \"cluster_name\",\n      \"properties\": {\n        \"dtype\": \"category\",\n        \"num_unique_values\": 9,\n        \"samples\": [\n          \"TikTok's Global Ban Looms Large\",\n          \"unknown/6\",\n          \"The Great AI Investment Conundrum\"\n        ],\n        \"semantic_type\": \"\",\n        \"description\": \"\"\n      }\n    }\n  ]\n}"
            }
          },
          "metadata": {},
          "execution_count": 23
        }
      ]
    },
    {
      "cell_type": "markdown",
      "source": [
        "# Visualize the cluster result using UMAP"
      ],
      "metadata": {
        "id": "F8dNpsvz5Pt4"
      }
    },
    {
      "cell_type": "code",
      "source": [
        "umap = UMAP(n_components=2,  n_neighbors=80, min_dist=0.2)\n",
        "\n",
        "df_umap = (\n",
        "    pd.DataFrame(umap.fit_transform(np.array(embeddings)), columns=['x', 'y'])\n",
        "    .assign(cluster=lambda df: hdb.labels_.astype(str))\n",
        "    .query('cluster != \"-1\"')\n",
        "    .sort_values(by='cluster')\n",
        ")\n",
        "\n",
        "fig = px.scatter(df_umap, x='x', y='y', color='cluster')\n",
        "fig.show()"
      ],
      "metadata": {
        "id": "sKOmAZ9f5Mbv",
        "colab": {
          "base_uri": "https://localhost:8080/",
          "height": 611
        },
        "outputId": "7e67702a-e2bf-46fe-82d7-03d6eba076ce"
      },
      "execution_count": 24,
      "outputs": [
        {
          "output_type": "stream",
          "name": "stderr",
          "text": [
            "/usr/local/lib/python3.11/dist-packages/sklearn/utils/deprecation.py:151: FutureWarning:\n",
            "\n",
            "'force_all_finite' was renamed to 'ensure_all_finite' in 1.6 and will be removed in 1.8.\n",
            "\n"
          ]
        },
        {
          "output_type": "display_data",
          "data": {
            "text/html": [
              "<html>\n",
              "<head><meta charset=\"utf-8\" /></head>\n",
              "<body>\n",
              "    <div>            <script src=\"https://cdnjs.cloudflare.com/ajax/libs/mathjax/2.7.5/MathJax.js?config=TeX-AMS-MML_SVG\"></script><script type=\"text/javascript\">if (window.MathJax && window.MathJax.Hub && window.MathJax.Hub.Config) {window.MathJax.Hub.Config({SVG: {font: \"STIX-Web\"}});}</script>                <script type=\"text/javascript\">window.PlotlyConfig = {MathJaxConfig: 'local'};</script>\n",
              "        <script charset=\"utf-8\" src=\"https://cdn.plot.ly/plotly-2.35.2.min.js\"></script>                <div id=\"b8617bc4-d952-4d3e-9845-997316ebd375\" class=\"plotly-graph-div\" style=\"height:525px; width:100%;\"></div>            <script type=\"text/javascript\">                                    window.PLOTLYENV=window.PLOTLYENV || {};                                    if (document.getElementById(\"b8617bc4-d952-4d3e-9845-997316ebd375\")) {                    Plotly.newPlot(                        \"b8617bc4-d952-4d3e-9845-997316ebd375\",                        [{\"hovertemplate\":\"cluster=0\\u003cbr\\u003ex=%{x}\\u003cbr\\u003ey=%{y}\\u003cextra\\u003e\\u003c\\u002fextra\\u003e\",\"legendgroup\":\"0\",\"marker\":{\"color\":\"#636efa\",\"symbol\":\"circle\"},\"mode\":\"markers\",\"name\":\"0\",\"orientation\":\"v\",\"showlegend\":true,\"x\":[6.8452244,6.921013,6.963265,7.0747414,6.79601],\"xaxis\":\"x\",\"y\":[7.114538,7.1200337,7.120462,7.131063,7.197045],\"yaxis\":\"y\",\"type\":\"scatter\"},{\"hovertemplate\":\"cluster=1\\u003cbr\\u003ex=%{x}\\u003cbr\\u003ey=%{y}\\u003cextra\\u003e\\u003c\\u002fextra\\u003e\",\"legendgroup\":\"1\",\"marker\":{\"color\":\"#EF553B\",\"symbol\":\"circle\"},\"mode\":\"markers\",\"name\":\"1\",\"orientation\":\"v\",\"showlegend\":true,\"x\":[7.4170713,7.3104143,7.478783,7.366023,7.3992224],\"xaxis\":\"x\",\"y\":[9.580154,9.312095,9.475042,9.233344,9.318699],\"yaxis\":\"y\",\"type\":\"scatter\"},{\"hovertemplate\":\"cluster=10\\u003cbr\\u003ex=%{x}\\u003cbr\\u003ey=%{y}\\u003cextra\\u003e\\u003c\\u002fextra\\u003e\",\"legendgroup\":\"10\",\"marker\":{\"color\":\"#00cc96\",\"symbol\":\"circle\"},\"mode\":\"markers\",\"name\":\"10\",\"orientation\":\"v\",\"showlegend\":true,\"x\":[7.0970287,7.0248604,6.854345,7.0541973,6.8390584,6.986579],\"xaxis\":\"x\",\"y\":[9.41745,9.609211,9.53215,9.525769,9.557018,9.445737],\"yaxis\":\"y\",\"type\":\"scatter\"},{\"hovertemplate\":\"cluster=11\\u003cbr\\u003ex=%{x}\\u003cbr\\u003ey=%{y}\\u003cextra\\u003e\\u003c\\u002fextra\\u003e\",\"legendgroup\":\"11\",\"marker\":{\"color\":\"#ab63fa\",\"symbol\":\"circle\"},\"mode\":\"markers\",\"name\":\"11\",\"orientation\":\"v\",\"showlegend\":true,\"x\":[5.4646955,5.415722,5.347466,5.3812904,5.3936286,5.3937006,5.3565307],\"xaxis\":\"x\",\"y\":[9.902143,9.832478,9.873866,9.860516,9.905039,9.906083,9.9095],\"yaxis\":\"y\",\"type\":\"scatter\"},{\"hovertemplate\":\"cluster=12\\u003cbr\\u003ex=%{x}\\u003cbr\\u003ey=%{y}\\u003cextra\\u003e\\u003c\\u002fextra\\u003e\",\"legendgroup\":\"12\",\"marker\":{\"color\":\"#FFA15A\",\"symbol\":\"circle\"},\"mode\":\"markers\",\"name\":\"12\",\"orientation\":\"v\",\"showlegend\":true,\"x\":[6.364901,6.4152293,6.578623,6.4519463,6.5127726,6.1303444,6.421483],\"xaxis\":\"x\",\"y\":[7.2002664,7.15296,7.453987,7.0358043,6.90919,7.3067994,6.6274414],\"yaxis\":\"y\",\"type\":\"scatter\"},{\"hovertemplate\":\"cluster=13\\u003cbr\\u003ex=%{x}\\u003cbr\\u003ey=%{y}\\u003cextra\\u003e\\u003c\\u002fextra\\u003e\",\"legendgroup\":\"13\",\"marker\":{\"color\":\"#19d3f3\",\"symbol\":\"circle\"},\"mode\":\"markers\",\"name\":\"13\",\"orientation\":\"v\",\"showlegend\":true,\"x\":[6.7338867,6.9091735,6.7229333,6.6995187,6.828813],\"xaxis\":\"x\",\"y\":[6.601261,6.3677173,6.628463,6.4522552,6.4670854],\"yaxis\":\"y\",\"type\":\"scatter\"},{\"hovertemplate\":\"cluster=14\\u003cbr\\u003ex=%{x}\\u003cbr\\u003ey=%{y}\\u003cextra\\u003e\\u003c\\u002fextra\\u003e\",\"legendgroup\":\"14\",\"marker\":{\"color\":\"#FF6692\",\"symbol\":\"circle\"},\"mode\":\"markers\",\"name\":\"14\",\"orientation\":\"v\",\"showlegend\":true,\"x\":[7.5068226,8.15824,8.080749,7.976645,8.160556,8.25548],\"xaxis\":\"x\",\"y\":[8.784375,10.210266,10.252837,10.248425,10.086118,10.260808],\"yaxis\":\"y\",\"type\":\"scatter\"},{\"hovertemplate\":\"cluster=15\\u003cbr\\u003ex=%{x}\\u003cbr\\u003ey=%{y}\\u003cextra\\u003e\\u003c\\u002fextra\\u003e\",\"legendgroup\":\"15\",\"marker\":{\"color\":\"#B6E880\",\"symbol\":\"circle\"},\"mode\":\"markers\",\"name\":\"15\",\"orientation\":\"v\",\"showlegend\":true,\"x\":[6.3470063,5.952791,5.791168,6.10871,6.194564,5.7978024],\"xaxis\":\"x\",\"y\":[7.3759804,7.5995903,7.7825036,7.6868696,7.7267947,7.821073],\"yaxis\":\"y\",\"type\":\"scatter\"},{\"hovertemplate\":\"cluster=16\\u003cbr\\u003ex=%{x}\\u003cbr\\u003ey=%{y}\\u003cextra\\u003e\\u003c\\u002fextra\\u003e\",\"legendgroup\":\"16\",\"marker\":{\"color\":\"#FF97FF\",\"symbol\":\"circle\"},\"mode\":\"markers\",\"name\":\"16\",\"orientation\":\"v\",\"showlegend\":true,\"x\":[11.198068,11.247363,11.029905,11.146849,11.073603,10.976018,10.983482,11.169227,10.969917,11.184627,11.226253,10.875303,10.840938,10.74427],\"xaxis\":\"x\",\"y\":[6.3624206,6.633745,6.396331,6.437303,6.545597,6.6478167,6.298449,6.7675366,6.3923597,6.3713274,6.688367,6.091868,6.500314,6.0352106],\"yaxis\":\"y\",\"type\":\"scatter\"},{\"hovertemplate\":\"cluster=17\\u003cbr\\u003ex=%{x}\\u003cbr\\u003ey=%{y}\\u003cextra\\u003e\\u003c\\u002fextra\\u003e\",\"legendgroup\":\"17\",\"marker\":{\"color\":\"#FECB52\",\"symbol\":\"circle\"},\"mode\":\"markers\",\"name\":\"17\",\"orientation\":\"v\",\"showlegend\":true,\"x\":[11.125178,11.195171,10.9994335,11.071946],\"xaxis\":\"x\",\"y\":[7.147055,6.9980273,6.8494925,6.846557],\"yaxis\":\"y\",\"type\":\"scatter\"},{\"hovertemplate\":\"cluster=18\\u003cbr\\u003ex=%{x}\\u003cbr\\u003ey=%{y}\\u003cextra\\u003e\\u003c\\u002fextra\\u003e\",\"legendgroup\":\"18\",\"marker\":{\"color\":\"#636efa\",\"symbol\":\"circle\"},\"mode\":\"markers\",\"name\":\"18\",\"orientation\":\"v\",\"showlegend\":true,\"x\":[10.098168,10.263488,10.488966,10.163522,10.29123,10.076291,10.084738,10.056428,10.410546,10.264549,10.045665,10.074123,10.184318,10.343683,10.261258,10.443063,10.214654,10.1479025,10.8404,10.300461,10.183589,10.85273,10.188822],\"xaxis\":\"x\",\"y\":[5.9989867,6.046846,5.8345914,6.235662,6.379867,7.089337,6.495082,6.271547,5.913814,6.276684,6.9785047,6.195497,6.014303,5.9368014,5.947483,5.8684506,6.0497065,6.8837028,6.2165003,6.158094,6.357713,6.056107,6.1733704],\"yaxis\":\"y\",\"type\":\"scatter\"},{\"hovertemplate\":\"cluster=19\\u003cbr\\u003ex=%{x}\\u003cbr\\u003ey=%{y}\\u003cextra\\u003e\\u003c\\u002fextra\\u003e\",\"legendgroup\":\"19\",\"marker\":{\"color\":\"#EF553B\",\"symbol\":\"circle\"},\"mode\":\"markers\",\"name\":\"19\",\"orientation\":\"v\",\"showlegend\":true,\"x\":[8.482764,8.4329,8.411103,8.402098,8.374163],\"xaxis\":\"x\",\"y\":[6.5066752,6.419286,6.430374,6.4029527,6.4292893],\"yaxis\":\"y\",\"type\":\"scatter\"},{\"hovertemplate\":\"cluster=2\\u003cbr\\u003ex=%{x}\\u003cbr\\u003ey=%{y}\\u003cextra\\u003e\\u003c\\u002fextra\\u003e\",\"legendgroup\":\"2\",\"marker\":{\"color\":\"#00cc96\",\"symbol\":\"circle\"},\"mode\":\"markers\",\"name\":\"2\",\"orientation\":\"v\",\"showlegend\":true,\"x\":[6.213121,6.177709,5.2847247,6.0172586,6.164894,5.8351283],\"xaxis\":\"x\",\"y\":[9.247903,9.339092,8.922893,9.338265,9.376518,9.305291],\"yaxis\":\"y\",\"type\":\"scatter\"},{\"hovertemplate\":\"cluster=20\\u003cbr\\u003ex=%{x}\\u003cbr\\u003ey=%{y}\\u003cextra\\u003e\\u003c\\u002fextra\\u003e\",\"legendgroup\":\"20\",\"marker\":{\"color\":\"#ab63fa\",\"symbol\":\"circle\"},\"mode\":\"markers\",\"name\":\"20\",\"orientation\":\"v\",\"showlegend\":true,\"x\":[9.30689,9.513854,9.406995,9.525358,9.638244,9.404251],\"xaxis\":\"x\",\"y\":[7.0842066,7.003652,7.2087884,7.0315166,7.1051774,7.135931],\"yaxis\":\"y\",\"type\":\"scatter\"},{\"hovertemplate\":\"cluster=21\\u003cbr\\u003ex=%{x}\\u003cbr\\u003ey=%{y}\\u003cextra\\u003e\\u003c\\u002fextra\\u003e\",\"legendgroup\":\"21\",\"marker\":{\"color\":\"#FFA15A\",\"symbol\":\"circle\"},\"mode\":\"markers\",\"name\":\"21\",\"orientation\":\"v\",\"showlegend\":true,\"x\":[6.0627284,6.1030297,5.926504,6.204563,6.0902495,6.028799,6.2385826,6.0324764,6.4531097,6.364946],\"xaxis\":\"x\",\"y\":[8.715934,8.725231,8.478211,8.851567,8.739779,8.752186,8.402723,8.758268,8.950224,8.391802],\"yaxis\":\"y\",\"type\":\"scatter\"},{\"hovertemplate\":\"cluster=22\\u003cbr\\u003ex=%{x}\\u003cbr\\u003ey=%{y}\\u003cextra\\u003e\\u003c\\u002fextra\\u003e\",\"legendgroup\":\"22\",\"marker\":{\"color\":\"#19d3f3\",\"symbol\":\"circle\"},\"mode\":\"markers\",\"name\":\"22\",\"orientation\":\"v\",\"showlegend\":true,\"x\":[9.957942,10.284974,10.091819,9.88751,10.443843,9.950076,9.8643675],\"xaxis\":\"x\",\"y\":[6.801924,6.602523,6.6572328,6.5644765,6.601252,6.771746,6.54007],\"yaxis\":\"y\",\"type\":\"scatter\"},{\"hovertemplate\":\"cluster=23\\u003cbr\\u003ex=%{x}\\u003cbr\\u003ey=%{y}\\u003cextra\\u003e\\u003c\\u002fextra\\u003e\",\"legendgroup\":\"23\",\"marker\":{\"color\":\"#FF6692\",\"symbol\":\"circle\"},\"mode\":\"markers\",\"name\":\"23\",\"orientation\":\"v\",\"showlegend\":true,\"x\":[9.072944,10.032689,9.342933,9.423916,9.488992,9.510496,9.4910965,9.488353,9.481164,9.434407],\"xaxis\":\"x\",\"y\":[6.454096,6.697521,6.036211,6.1311173,5.918967,6.0503626,6.0884376,6.047057,6.09133,5.9529734],\"yaxis\":\"y\",\"type\":\"scatter\"},{\"hovertemplate\":\"cluster=24\\u003cbr\\u003ex=%{x}\\u003cbr\\u003ey=%{y}\\u003cextra\\u003e\\u003c\\u002fextra\\u003e\",\"legendgroup\":\"24\",\"marker\":{\"color\":\"#B6E880\",\"symbol\":\"circle\"},\"mode\":\"markers\",\"name\":\"24\",\"orientation\":\"v\",\"showlegend\":true,\"x\":[10.153651,10.127972,10.169204,10.256846,10.031185],\"xaxis\":\"x\",\"y\":[9.758382,9.753492,9.791122,9.741749,9.805422],\"yaxis\":\"y\",\"type\":\"scatter\"},{\"hovertemplate\":\"cluster=25\\u003cbr\\u003ex=%{x}\\u003cbr\\u003ey=%{y}\\u003cextra\\u003e\\u003c\\u002fextra\\u003e\",\"legendgroup\":\"25\",\"marker\":{\"color\":\"#FF97FF\",\"symbol\":\"circle\"},\"mode\":\"markers\",\"name\":\"25\",\"orientation\":\"v\",\"showlegend\":true,\"x\":[4.241178,4.3532543,4.3114076,4.507471,4.438396,4.3445144],\"xaxis\":\"x\",\"y\":[8.1810465,8.1169195,8.131755,8.0873,8.189409,8.268145],\"yaxis\":\"y\",\"type\":\"scatter\"},{\"hovertemplate\":\"cluster=26\\u003cbr\\u003ex=%{x}\\u003cbr\\u003ey=%{y}\\u003cextra\\u003e\\u003c\\u002fextra\\u003e\",\"legendgroup\":\"26\",\"marker\":{\"color\":\"#FECB52\",\"symbol\":\"circle\"},\"mode\":\"markers\",\"name\":\"26\",\"orientation\":\"v\",\"showlegend\":true,\"x\":[5.9957094,6.079946,6.021241,5.958862,6.1084547],\"xaxis\":\"x\",\"y\":[9.81153,9.883196,9.854403,9.888689,9.839681],\"yaxis\":\"y\",\"type\":\"scatter\"},{\"hovertemplate\":\"cluster=27\\u003cbr\\u003ex=%{x}\\u003cbr\\u003ey=%{y}\\u003cextra\\u003e\\u003c\\u002fextra\\u003e\",\"legendgroup\":\"27\",\"marker\":{\"color\":\"#636efa\",\"symbol\":\"circle\"},\"mode\":\"markers\",\"name\":\"27\",\"orientation\":\"v\",\"showlegend\":true,\"x\":[8.487349,8.465929,8.401473,8.476234,8.38558,8.393261],\"xaxis\":\"x\",\"y\":[7.8798537,7.7494845,7.921894,7.901807,7.9395485,7.8125753],\"yaxis\":\"y\",\"type\":\"scatter\"},{\"hovertemplate\":\"cluster=28\\u003cbr\\u003ex=%{x}\\u003cbr\\u003ey=%{y}\\u003cextra\\u003e\\u003c\\u002fextra\\u003e\",\"legendgroup\":\"28\",\"marker\":{\"color\":\"#EF553B\",\"symbol\":\"circle\"},\"mode\":\"markers\",\"name\":\"28\",\"orientation\":\"v\",\"showlegend\":true,\"x\":[5.269942,5.5082307,5.2986097,5.4291887,5.3403153,5.453989,5.3442745,5.742023,5.443948,5.4180393,5.757757],\"xaxis\":\"x\",\"y\":[9.165904,9.472469,9.176029,9.459975,9.276547,9.178552,9.022429,9.419963,9.2895565,9.309472,9.3694105],\"yaxis\":\"y\",\"type\":\"scatter\"},{\"hovertemplate\":\"cluster=29\\u003cbr\\u003ex=%{x}\\u003cbr\\u003ey=%{y}\\u003cextra\\u003e\\u003c\\u002fextra\\u003e\",\"legendgroup\":\"29\",\"marker\":{\"color\":\"#00cc96\",\"symbol\":\"circle\"},\"mode\":\"markers\",\"name\":\"29\",\"orientation\":\"v\",\"showlegend\":true,\"x\":[9.609398,9.441982,9.161898,9.164033,9.577211,9.261251,9.636337,9.248081,9.480519,9.381141,9.283346,9.351218,9.32016,9.344759,9.302103],\"xaxis\":\"x\",\"y\":[7.963633,7.9817333,7.9348197,7.8359256,7.7077665,8.05471,7.693231,7.717402,7.8022904,7.902664,7.899238,7.780572,7.959224,7.9241505,7.829962],\"yaxis\":\"y\",\"type\":\"scatter\"},{\"hovertemplate\":\"cluster=3\\u003cbr\\u003ex=%{x}\\u003cbr\\u003ey=%{y}\\u003cextra\\u003e\\u003c\\u002fextra\\u003e\",\"legendgroup\":\"3\",\"marker\":{\"color\":\"#ab63fa\",\"symbol\":\"circle\"},\"mode\":\"markers\",\"name\":\"3\",\"orientation\":\"v\",\"showlegend\":true,\"x\":[8.117444,9.127846,8.268144],\"xaxis\":\"x\",\"y\":[7.3149295,6.371619,6.8313575],\"yaxis\":\"y\",\"type\":\"scatter\"},{\"hovertemplate\":\"cluster=30\\u003cbr\\u003ex=%{x}\\u003cbr\\u003ey=%{y}\\u003cextra\\u003e\\u003c\\u002fextra\\u003e\",\"legendgroup\":\"30\",\"marker\":{\"color\":\"#FFA15A\",\"symbol\":\"circle\"},\"mode\":\"markers\",\"name\":\"30\",\"orientation\":\"v\",\"showlegend\":true,\"x\":[10.404298,10.385699,10.432559],\"xaxis\":\"x\",\"y\":[7.629006,7.9109583,7.6746945],\"yaxis\":\"y\",\"type\":\"scatter\"},{\"hovertemplate\":\"cluster=31\\u003cbr\\u003ex=%{x}\\u003cbr\\u003ey=%{y}\\u003cextra\\u003e\\u003c\\u002fextra\\u003e\",\"legendgroup\":\"31\",\"marker\":{\"color\":\"#19d3f3\",\"symbol\":\"circle\"},\"mode\":\"markers\",\"name\":\"31\",\"orientation\":\"v\",\"showlegend\":true,\"x\":[3.9981208,3.5118957,3.6343284,3.6311514,3.5273848,3.6580443,3.4260755,3.6227782,3.6840968,3.9248257,3.7547908,3.8894744,4.0329204,3.8807364,3.8426676,3.543671,3.8427162,3.3602197,3.702001,3.4557915,3.525393,4.1218314,3.8047788,3.4656415,3.9767365,3.4668999,3.9888484,3.4659824,3.8029008,3.295898,3.7796724,3.6618257],\"xaxis\":\"x\",\"y\":[8.783885,8.280076,8.097979,8.27703,8.150322,8.325092,8.587873,8.3006935,8.39203,8.482775,8.746867,8.6512375,8.582007,8.707482,8.381148,8.310243,8.718907,8.447602,8.565673,8.174349,8.47863,8.484424,8.829374,8.447339,8.428415,8.380748,8.540176,8.5368,8.487577,8.3518915,8.079342,8.029408],\"yaxis\":\"y\",\"type\":\"scatter\"},{\"hovertemplate\":\"cluster=32\\u003cbr\\u003ex=%{x}\\u003cbr\\u003ey=%{y}\\u003cextra\\u003e\\u003c\\u002fextra\\u003e\",\"legendgroup\":\"32\",\"marker\":{\"color\":\"#FF6692\",\"symbol\":\"circle\"},\"mode\":\"markers\",\"name\":\"32\",\"orientation\":\"v\",\"showlegend\":true,\"x\":[3.8245103,4.0142226,3.9635763],\"xaxis\":\"x\",\"y\":[8.351255,8.315747,7.989828],\"yaxis\":\"y\",\"type\":\"scatter\"},{\"hovertemplate\":\"cluster=33\\u003cbr\\u003ex=%{x}\\u003cbr\\u003ey=%{y}\\u003cextra\\u003e\\u003c\\u002fextra\\u003e\",\"legendgroup\":\"33\",\"marker\":{\"color\":\"#B6E880\",\"symbol\":\"circle\"},\"mode\":\"markers\",\"name\":\"33\",\"orientation\":\"v\",\"showlegend\":true,\"x\":[10.147429,10.239867,10.090046,10.236287,10.524927,10.193759],\"xaxis\":\"x\",\"y\":[10.182273,10.21254,10.075705,10.111343,10.243275,10.175629],\"yaxis\":\"y\",\"type\":\"scatter\"},{\"hovertemplate\":\"cluster=34\\u003cbr\\u003ex=%{x}\\u003cbr\\u003ey=%{y}\\u003cextra\\u003e\\u003c\\u002fextra\\u003e\",\"legendgroup\":\"34\",\"marker\":{\"color\":\"#FF97FF\",\"symbol\":\"circle\"},\"mode\":\"markers\",\"name\":\"34\",\"orientation\":\"v\",\"showlegend\":true,\"x\":[8.033724,7.9827194,7.9212303,7.9558806,8.006769,7.9210324],\"xaxis\":\"x\",\"y\":[5.4968095,5.446285,5.4889965,5.5880113,5.611971,5.5497165],\"yaxis\":\"y\",\"type\":\"scatter\"},{\"hovertemplate\":\"cluster=35\\u003cbr\\u003ex=%{x}\\u003cbr\\u003ey=%{y}\\u003cextra\\u003e\\u003c\\u002fextra\\u003e\",\"legendgroup\":\"35\",\"marker\":{\"color\":\"#FECB52\",\"symbol\":\"circle\"},\"mode\":\"markers\",\"name\":\"35\",\"orientation\":\"v\",\"showlegend\":true,\"x\":[5.969316,5.8895726,6.397773,5.8565655,6.0072093,6.2453475,6.08695,5.92859,6.1172595,6.024425,5.8201118,5.904469,6.053266,5.968049,6.055283,6.2114134,6.3322873,6.09551,6.053139,6.024026],\"xaxis\":\"x\",\"y\":[5.8603873,5.971703,6.3502026,5.9264097,5.9886613,5.5853286,6.248293,5.9535403,5.8773613,5.864387,5.779018,5.7401786,5.8042603,6.038253,5.91638,6.3488097,6.2224455,5.793898,5.874827,5.735206],\"yaxis\":\"y\",\"type\":\"scatter\"},{\"hovertemplate\":\"cluster=36\\u003cbr\\u003ex=%{x}\\u003cbr\\u003ey=%{y}\\u003cextra\\u003e\\u003c\\u002fextra\\u003e\",\"legendgroup\":\"36\",\"marker\":{\"color\":\"#636efa\",\"symbol\":\"circle\"},\"mode\":\"markers\",\"name\":\"36\",\"orientation\":\"v\",\"showlegend\":true,\"x\":[7.5551,7.577453,7.694931,7.697661,7.8205624,7.4623528,7.4274106],\"xaxis\":\"x\",\"y\":[6.379849,5.9067025,6.052803,6.5367374,6.143381,6.4074054,6.738614],\"yaxis\":\"y\",\"type\":\"scatter\"},{\"hovertemplate\":\"cluster=37\\u003cbr\\u003ex=%{x}\\u003cbr\\u003ey=%{y}\\u003cextra\\u003e\\u003c\\u002fextra\\u003e\",\"legendgroup\":\"37\",\"marker\":{\"color\":\"#EF553B\",\"symbol\":\"circle\"},\"mode\":\"markers\",\"name\":\"37\",\"orientation\":\"v\",\"showlegend\":true,\"x\":[8.310474,8.417356,8.473657,8.405872,8.25406,8.356813,8.148803,8.473829],\"xaxis\":\"x\",\"y\":[9.048955,9.158536,9.019751,9.177572,9.214324,9.112481,8.981113,9.123918],\"yaxis\":\"y\",\"type\":\"scatter\"},{\"hovertemplate\":\"cluster=38\\u003cbr\\u003ex=%{x}\\u003cbr\\u003ey=%{y}\\u003cextra\\u003e\\u003c\\u002fextra\\u003e\",\"legendgroup\":\"38\",\"marker\":{\"color\":\"#00cc96\",\"symbol\":\"circle\"},\"mode\":\"markers\",\"name\":\"38\",\"orientation\":\"v\",\"showlegend\":true,\"x\":[7.0908976,7.1476355,7.06803,7.0721617],\"xaxis\":\"x\",\"y\":[6.2034383,6.4328027,6.27384,6.062986],\"yaxis\":\"y\",\"type\":\"scatter\"},{\"hovertemplate\":\"cluster=39\\u003cbr\\u003ex=%{x}\\u003cbr\\u003ey=%{y}\\u003cextra\\u003e\\u003c\\u002fextra\\u003e\",\"legendgroup\":\"39\",\"marker\":{\"color\":\"#ab63fa\",\"symbol\":\"circle\"},\"mode\":\"markers\",\"name\":\"39\",\"orientation\":\"v\",\"showlegend\":true,\"x\":[9.153559,9.3242035,9.309302,9.645765,9.1538925,9.247367,9.433107],\"xaxis\":\"x\",\"y\":[11.317292,11.07394,10.932281,10.7559395,11.30132,11.081892,11.06714],\"yaxis\":\"y\",\"type\":\"scatter\"},{\"hovertemplate\":\"cluster=4\\u003cbr\\u003ex=%{x}\\u003cbr\\u003ey=%{y}\\u003cextra\\u003e\\u003c\\u002fextra\\u003e\",\"legendgroup\":\"4\",\"marker\":{\"color\":\"#FFA15A\",\"symbol\":\"circle\"},\"mode\":\"markers\",\"name\":\"4\",\"orientation\":\"v\",\"showlegend\":true,\"x\":[10.834958,10.817965,10.719202,10.854694],\"xaxis\":\"x\",\"y\":[7.1201677,7.0775185,7.1148233,7.0308256],\"yaxis\":\"y\",\"type\":\"scatter\"},{\"hovertemplate\":\"cluster=40\\u003cbr\\u003ex=%{x}\\u003cbr\\u003ey=%{y}\\u003cextra\\u003e\\u003c\\u002fextra\\u003e\",\"legendgroup\":\"40\",\"marker\":{\"color\":\"#19d3f3\",\"symbol\":\"circle\"},\"mode\":\"markers\",\"name\":\"40\",\"orientation\":\"v\",\"showlegend\":true,\"x\":[7.178783,7.323941,7.120841,7.1832433,7.3450174,7.2912555,7.0825934,7.3477583,7.2924895,7.122857,7.1993766,7.0841618,7.0595636,7.2058215,7.0229855,7.1357903,7.0128956,7.0678005,7.2693944,7.179185,7.0675526,7.0761876],\"xaxis\":\"x\",\"y\":[5.1739745,4.9677663,5.199552,5.0154505,5.1334395,5.1692195,4.88642,5.2045646,4.9681787,5.069418,5.0403514,5.051329,5.125686,5.1138854,5.153944,5.066438,5.4021716,5.0292516,5.0435176,5.1676135,5.1231422,5.0450025],\"yaxis\":\"y\",\"type\":\"scatter\"},{\"hovertemplate\":\"cluster=41\\u003cbr\\u003ex=%{x}\\u003cbr\\u003ey=%{y}\\u003cextra\\u003e\\u003c\\u002fextra\\u003e\",\"legendgroup\":\"41\",\"marker\":{\"color\":\"#FF6692\",\"symbol\":\"circle\"},\"mode\":\"markers\",\"name\":\"41\",\"orientation\":\"v\",\"showlegend\":true,\"x\":[6.8802366,7.069872,7.077514,6.875782,6.956885,6.914571,6.758622],\"xaxis\":\"x\",\"y\":[6.2194676,6.256017,5.9851856,5.9687467,6.0287223,6.0676455,6.020681],\"yaxis\":\"y\",\"type\":\"scatter\"},{\"hovertemplate\":\"cluster=42\\u003cbr\\u003ex=%{x}\\u003cbr\\u003ey=%{y}\\u003cextra\\u003e\\u003c\\u002fextra\\u003e\",\"legendgroup\":\"42\",\"marker\":{\"color\":\"#B6E880\",\"symbol\":\"circle\"},\"mode\":\"markers\",\"name\":\"42\",\"orientation\":\"v\",\"showlegend\":true,\"x\":[9.995606,9.475455,10.082086,9.734673,9.655935,9.952022,10.098467,10.078154],\"xaxis\":\"x\",\"y\":[8.96971,9.007885,9.095873,8.857995,8.959931,8.944026,8.780919,9.048095],\"yaxis\":\"y\",\"type\":\"scatter\"},{\"hovertemplate\":\"cluster=43\\u003cbr\\u003ex=%{x}\\u003cbr\\u003ey=%{y}\\u003cextra\\u003e\\u003c\\u002fextra\\u003e\",\"legendgroup\":\"43\",\"marker\":{\"color\":\"#FF97FF\",\"symbol\":\"circle\"},\"mode\":\"markers\",\"name\":\"43\",\"orientation\":\"v\",\"showlegend\":true,\"x\":[10.324581,10.47866,10.639599],\"xaxis\":\"x\",\"y\":[9.455274,9.581142,9.808204],\"yaxis\":\"y\",\"type\":\"scatter\"},{\"hovertemplate\":\"cluster=44\\u003cbr\\u003ex=%{x}\\u003cbr\\u003ey=%{y}\\u003cextra\\u003e\\u003c\\u002fextra\\u003e\",\"legendgroup\":\"44\",\"marker\":{\"color\":\"#FECB52\",\"symbol\":\"circle\"},\"mode\":\"markers\",\"name\":\"44\",\"orientation\":\"v\",\"showlegend\":true,\"x\":[8.909115,8.7082205,8.779537,8.680427,8.827846,8.767932,8.747576,8.863233,8.789098],\"xaxis\":\"x\",\"y\":[11.669957,12.02486,11.996694,11.922308,12.097289,12.032006,11.968101,12.00958,12.056596],\"yaxis\":\"y\",\"type\":\"scatter\"},{\"hovertemplate\":\"cluster=45\\u003cbr\\u003ex=%{x}\\u003cbr\\u003ey=%{y}\\u003cextra\\u003e\\u003c\\u002fextra\\u003e\",\"legendgroup\":\"45\",\"marker\":{\"color\":\"#636efa\",\"symbol\":\"circle\"},\"mode\":\"markers\",\"name\":\"45\",\"orientation\":\"v\",\"showlegend\":true,\"x\":[10.617871,11.57078,10.745877,10.840768,10.851151,10.754932,11.000513,11.186594,10.824749,11.402431,10.751043,11.135794,11.471889,11.00684,11.537416,11.091296,11.281799,11.401939,11.197882,11.011242,10.825992,11.077406,11.271413,10.812169,11.217223,11.2313,11.595567,11.265672,11.400691,11.381922,11.365838,11.516141,10.888816,10.959372,11.015046,11.166144,11.374269,10.696209,11.464409,8.763191,10.883329,10.946687,11.170626,11.4503765,9.186695,11.076088,11.360722,11.246926],\"xaxis\":\"x\",\"y\":[9.623555,9.629825,10.241291,10.360717,10.379238,9.917542,10.443149,9.758247,10.2848835,10.026192,9.9208555,10.150461,9.494432,10.235173,9.825957,9.878057,10.195157,10.067362,10.046709,10.259937,9.68477,10.112928,9.465655,9.891107,10.079655,9.652345,9.866353,9.279495,9.810571,9.582292,9.442006,9.790981,10.056467,10.381456,10.05128,10.061006,9.936643,9.883495,9.643763,11.751764,9.804536,10.294015,10.151916,9.666005,11.586357,10.160105,9.938072,9.342055],\"yaxis\":\"y\",\"type\":\"scatter\"},{\"hovertemplate\":\"cluster=46\\u003cbr\\u003ex=%{x}\\u003cbr\\u003ey=%{y}\\u003cextra\\u003e\\u003c\\u002fextra\\u003e\",\"legendgroup\":\"46\",\"marker\":{\"color\":\"#EF553B\",\"symbol\":\"circle\"},\"mode\":\"markers\",\"name\":\"46\",\"orientation\":\"v\",\"showlegend\":true,\"x\":[8.135232,8.267155,8.266038,8.14466],\"xaxis\":\"x\",\"y\":[10.858462,10.957425,10.967595,10.983453],\"yaxis\":\"y\",\"type\":\"scatter\"},{\"hovertemplate\":\"cluster=47\\u003cbr\\u003ex=%{x}\\u003cbr\\u003ey=%{y}\\u003cextra\\u003e\\u003c\\u002fextra\\u003e\",\"legendgroup\":\"47\",\"marker\":{\"color\":\"#00cc96\",\"symbol\":\"circle\"},\"mode\":\"markers\",\"name\":\"47\",\"orientation\":\"v\",\"showlegend\":true,\"x\":[8.008065,8.078971,8.175545,8.023149,7.8583612,8.05224,8.195932],\"xaxis\":\"x\",\"y\":[11.358017,11.16874,11.56991,11.0035925,11.210245,11.168286,10.950471],\"yaxis\":\"y\",\"type\":\"scatter\"},{\"hovertemplate\":\"cluster=48\\u003cbr\\u003ex=%{x}\\u003cbr\\u003ey=%{y}\\u003cextra\\u003e\\u003c\\u002fextra\\u003e\",\"legendgroup\":\"48\",\"marker\":{\"color\":\"#ab63fa\",\"symbol\":\"circle\"},\"mode\":\"markers\",\"name\":\"48\",\"orientation\":\"v\",\"showlegend\":true,\"x\":[7.2368684,7.203755,7.1537495,7.008698,7.149305,6.615781,7.012235,7.287646,6.974042,7.070463,6.8436704,6.879133,6.744295,7.2808294,6.5559363,7.1183715,7.0626745,7.0553956,7.10679,6.872956,6.9349575,7.3163366,6.684436,6.626068,7.098962,6.9545765,6.6858153,6.6080947,6.817978,6.4483886,6.6960626,6.653333,6.9449053,7.43182,6.7604585,6.7497315,7.679556,6.7355323,7.1487546,7.140304,7.204659,6.577253,7.1389127,6.687854,6.974329,7.092866,7.0851593,6.9300084],\"xaxis\":\"x\",\"y\":[11.743354,11.995404,11.143952,11.890207,11.58152,12.024335,11.3260975,11.586743,11.733552,11.422714,11.576389,11.443865,11.664513,11.883178,11.541583,11.74932,11.420636,11.859231,11.618449,12.043892,11.2308655,12.013099,11.3894825,11.728877,11.137113,11.903477,11.786728,11.814163,11.63931,11.616648,11.886033,11.829623,11.704617,11.206949,11.499776,12.000708,11.319604,11.886017,11.1101,11.683921,11.700525,11.793951,11.16084,11.767115,11.94541,11.464922,11.36082,11.381356],\"yaxis\":\"y\",\"type\":\"scatter\"},{\"hovertemplate\":\"cluster=49\\u003cbr\\u003ex=%{x}\\u003cbr\\u003ey=%{y}\\u003cextra\\u003e\\u003c\\u002fextra\\u003e\",\"legendgroup\":\"49\",\"marker\":{\"color\":\"#FFA15A\",\"symbol\":\"circle\"},\"mode\":\"markers\",\"name\":\"49\",\"orientation\":\"v\",\"showlegend\":true,\"x\":[10.920571,11.476451,11.263573,11.396754,11.08866,11.346245,11.377174,11.165787,11.074008,11.231934,11.176834,11.449241,11.267483,11.05447,11.20142,11.283893,11.057802,11.1174755,11.258513,11.111901,11.346161,10.958191,11.391484,11.07455,11.263319],\"xaxis\":\"x\",\"y\":[8.3631935,8.458339,8.477544,8.299797,8.1391325,8.14947,8.135823,8.263193,8.208508,8.354289,8.202421,8.264957,8.2439785,7.986144,8.107013,8.419644,8.0827055,8.21305,8.122613,8.35553,8.1480465,8.418981,8.130194,8.330108,8.33953],\"yaxis\":\"y\",\"type\":\"scatter\"},{\"hovertemplate\":\"cluster=5\\u003cbr\\u003ex=%{x}\\u003cbr\\u003ey=%{y}\\u003cextra\\u003e\\u003c\\u002fextra\\u003e\",\"legendgroup\":\"5\",\"marker\":{\"color\":\"#19d3f3\",\"symbol\":\"circle\"},\"mode\":\"markers\",\"name\":\"5\",\"orientation\":\"v\",\"showlegend\":true,\"x\":[4.990747,4.7734485,4.7338896,4.6879387,4.652679,4.721575,4.5176563,9.526332],\"xaxis\":\"x\",\"y\":[7.9875226,7.5504694,7.5592375,7.669864,7.549356,7.4880157,7.666597,6.504521],\"yaxis\":\"y\",\"type\":\"scatter\"},{\"hovertemplate\":\"cluster=50\\u003cbr\\u003ex=%{x}\\u003cbr\\u003ey=%{y}\\u003cextra\\u003e\\u003c\\u002fextra\\u003e\",\"legendgroup\":\"50\",\"marker\":{\"color\":\"#FF6692\",\"symbol\":\"circle\"},\"mode\":\"markers\",\"name\":\"50\",\"orientation\":\"v\",\"showlegend\":true,\"x\":[8.461562,8.1370535,8.086578,8.407668,8.849049,8.50877,8.014656,8.517951,8.546956,8.122882],\"xaxis\":\"x\",\"y\":[11.322755,11.700432,11.490472,11.513935,10.888552,11.635499,11.569837,11.249382,11.346472,11.48185],\"yaxis\":\"y\",\"type\":\"scatter\"},{\"hovertemplate\":\"cluster=51\\u003cbr\\u003ex=%{x}\\u003cbr\\u003ey=%{y}\\u003cextra\\u003e\\u003c\\u002fextra\\u003e\",\"legendgroup\":\"51\",\"marker\":{\"color\":\"#B6E880\",\"symbol\":\"circle\"},\"mode\":\"markers\",\"name\":\"51\",\"orientation\":\"v\",\"showlegend\":true,\"x\":[8.16519,8.258923,8.299477,8.38105],\"xaxis\":\"x\",\"y\":[11.68393,11.647558,11.617941,11.572629],\"yaxis\":\"y\",\"type\":\"scatter\"},{\"hovertemplate\":\"cluster=6\\u003cbr\\u003ex=%{x}\\u003cbr\\u003ey=%{y}\\u003cextra\\u003e\\u003c\\u002fextra\\u003e\",\"legendgroup\":\"6\",\"marker\":{\"color\":\"#FF97FF\",\"symbol\":\"circle\"},\"mode\":\"markers\",\"name\":\"6\",\"orientation\":\"v\",\"showlegend\":true,\"x\":[8.7312975,8.519641,8.85089,8.855447,8.569219,8.773899,8.428917,8.702887,8.537883,8.651034,8.5533],\"xaxis\":\"x\",\"y\":[9.861647,9.9515915,9.374143,9.868229,9.945152,9.778384,9.939076,9.673483,9.925599,9.892144,9.982599],\"yaxis\":\"y\",\"type\":\"scatter\"},{\"hovertemplate\":\"cluster=7\\u003cbr\\u003ex=%{x}\\u003cbr\\u003ey=%{y}\\u003cextra\\u003e\\u003c\\u002fextra\\u003e\",\"legendgroup\":\"7\",\"marker\":{\"color\":\"#FECB52\",\"symbol\":\"circle\"},\"mode\":\"markers\",\"name\":\"7\",\"orientation\":\"v\",\"showlegend\":true,\"x\":[8.502481,8.652098,8.6741295,8.590381,8.51445],\"xaxis\":\"x\",\"y\":[9.986401,9.61214,9.701266,9.719586,9.831328],\"yaxis\":\"y\",\"type\":\"scatter\"},{\"hovertemplate\":\"cluster=8\\u003cbr\\u003ex=%{x}\\u003cbr\\u003ey=%{y}\\u003cextra\\u003e\\u003c\\u002fextra\\u003e\",\"legendgroup\":\"8\",\"marker\":{\"color\":\"#636efa\",\"symbol\":\"circle\"},\"mode\":\"markers\",\"name\":\"8\",\"orientation\":\"v\",\"showlegend\":true,\"x\":[6.739886,6.87795,6.925779,6.7342987,6.6017156,6.812791],\"xaxis\":\"x\",\"y\":[9.018498,8.859941,9.291173,8.967798,9.101897,9.125814],\"yaxis\":\"y\",\"type\":\"scatter\"},{\"hovertemplate\":\"cluster=9\\u003cbr\\u003ex=%{x}\\u003cbr\\u003ey=%{y}\\u003cextra\\u003e\\u003c\\u002fextra\\u003e\",\"legendgroup\":\"9\",\"marker\":{\"color\":\"#EF553B\",\"symbol\":\"circle\"},\"mode\":\"markers\",\"name\":\"9\",\"orientation\":\"v\",\"showlegend\":true,\"x\":[9.160988,9.210789,9.268983,9.099222,9.07526,8.980138],\"xaxis\":\"x\",\"y\":[7.040494,6.993835,6.9422445,6.9881887,7.056016,7.0436993],\"yaxis\":\"y\",\"type\":\"scatter\"}],                        {\"template\":{\"data\":{\"histogram2dcontour\":[{\"type\":\"histogram2dcontour\",\"colorbar\":{\"outlinewidth\":0,\"ticks\":\"\"},\"colorscale\":[[0.0,\"#0d0887\"],[0.1111111111111111,\"#46039f\"],[0.2222222222222222,\"#7201a8\"],[0.3333333333333333,\"#9c179e\"],[0.4444444444444444,\"#bd3786\"],[0.5555555555555556,\"#d8576b\"],[0.6666666666666666,\"#ed7953\"],[0.7777777777777778,\"#fb9f3a\"],[0.8888888888888888,\"#fdca26\"],[1.0,\"#f0f921\"]]}],\"choropleth\":[{\"type\":\"choropleth\",\"colorbar\":{\"outlinewidth\":0,\"ticks\":\"\"}}],\"histogram2d\":[{\"type\":\"histogram2d\",\"colorbar\":{\"outlinewidth\":0,\"ticks\":\"\"},\"colorscale\":[[0.0,\"#0d0887\"],[0.1111111111111111,\"#46039f\"],[0.2222222222222222,\"#7201a8\"],[0.3333333333333333,\"#9c179e\"],[0.4444444444444444,\"#bd3786\"],[0.5555555555555556,\"#d8576b\"],[0.6666666666666666,\"#ed7953\"],[0.7777777777777778,\"#fb9f3a\"],[0.8888888888888888,\"#fdca26\"],[1.0,\"#f0f921\"]]}],\"heatmap\":[{\"type\":\"heatmap\",\"colorbar\":{\"outlinewidth\":0,\"ticks\":\"\"},\"colorscale\":[[0.0,\"#0d0887\"],[0.1111111111111111,\"#46039f\"],[0.2222222222222222,\"#7201a8\"],[0.3333333333333333,\"#9c179e\"],[0.4444444444444444,\"#bd3786\"],[0.5555555555555556,\"#d8576b\"],[0.6666666666666666,\"#ed7953\"],[0.7777777777777778,\"#fb9f3a\"],[0.8888888888888888,\"#fdca26\"],[1.0,\"#f0f921\"]]}],\"heatmapgl\":[{\"type\":\"heatmapgl\",\"colorbar\":{\"outlinewidth\":0,\"ticks\":\"\"},\"colorscale\":[[0.0,\"#0d0887\"],[0.1111111111111111,\"#46039f\"],[0.2222222222222222,\"#7201a8\"],[0.3333333333333333,\"#9c179e\"],[0.4444444444444444,\"#bd3786\"],[0.5555555555555556,\"#d8576b\"],[0.6666666666666666,\"#ed7953\"],[0.7777777777777778,\"#fb9f3a\"],[0.8888888888888888,\"#fdca26\"],[1.0,\"#f0f921\"]]}],\"contourcarpet\":[{\"type\":\"contourcarpet\",\"colorbar\":{\"outlinewidth\":0,\"ticks\":\"\"}}],\"contour\":[{\"type\":\"contour\",\"colorbar\":{\"outlinewidth\":0,\"ticks\":\"\"},\"colorscale\":[[0.0,\"#0d0887\"],[0.1111111111111111,\"#46039f\"],[0.2222222222222222,\"#7201a8\"],[0.3333333333333333,\"#9c179e\"],[0.4444444444444444,\"#bd3786\"],[0.5555555555555556,\"#d8576b\"],[0.6666666666666666,\"#ed7953\"],[0.7777777777777778,\"#fb9f3a\"],[0.8888888888888888,\"#fdca26\"],[1.0,\"#f0f921\"]]}],\"surface\":[{\"type\":\"surface\",\"colorbar\":{\"outlinewidth\":0,\"ticks\":\"\"},\"colorscale\":[[0.0,\"#0d0887\"],[0.1111111111111111,\"#46039f\"],[0.2222222222222222,\"#7201a8\"],[0.3333333333333333,\"#9c179e\"],[0.4444444444444444,\"#bd3786\"],[0.5555555555555556,\"#d8576b\"],[0.6666666666666666,\"#ed7953\"],[0.7777777777777778,\"#fb9f3a\"],[0.8888888888888888,\"#fdca26\"],[1.0,\"#f0f921\"]]}],\"mesh3d\":[{\"type\":\"mesh3d\",\"colorbar\":{\"outlinewidth\":0,\"ticks\":\"\"}}],\"scatter\":[{\"fillpattern\":{\"fillmode\":\"overlay\",\"size\":10,\"solidity\":0.2},\"type\":\"scatter\"}],\"parcoords\":[{\"type\":\"parcoords\",\"line\":{\"colorbar\":{\"outlinewidth\":0,\"ticks\":\"\"}}}],\"scatterpolargl\":[{\"type\":\"scatterpolargl\",\"marker\":{\"colorbar\":{\"outlinewidth\":0,\"ticks\":\"\"}}}],\"bar\":[{\"error_x\":{\"color\":\"#2a3f5f\"},\"error_y\":{\"color\":\"#2a3f5f\"},\"marker\":{\"line\":{\"color\":\"#E5ECF6\",\"width\":0.5},\"pattern\":{\"fillmode\":\"overlay\",\"size\":10,\"solidity\":0.2}},\"type\":\"bar\"}],\"scattergeo\":[{\"type\":\"scattergeo\",\"marker\":{\"colorbar\":{\"outlinewidth\":0,\"ticks\":\"\"}}}],\"scatterpolar\":[{\"type\":\"scatterpolar\",\"marker\":{\"colorbar\":{\"outlinewidth\":0,\"ticks\":\"\"}}}],\"histogram\":[{\"marker\":{\"pattern\":{\"fillmode\":\"overlay\",\"size\":10,\"solidity\":0.2}},\"type\":\"histogram\"}],\"scattergl\":[{\"type\":\"scattergl\",\"marker\":{\"colorbar\":{\"outlinewidth\":0,\"ticks\":\"\"}}}],\"scatter3d\":[{\"type\":\"scatter3d\",\"line\":{\"colorbar\":{\"outlinewidth\":0,\"ticks\":\"\"}},\"marker\":{\"colorbar\":{\"outlinewidth\":0,\"ticks\":\"\"}}}],\"scattermapbox\":[{\"type\":\"scattermapbox\",\"marker\":{\"colorbar\":{\"outlinewidth\":0,\"ticks\":\"\"}}}],\"scatterternary\":[{\"type\":\"scatterternary\",\"marker\":{\"colorbar\":{\"outlinewidth\":0,\"ticks\":\"\"}}}],\"scattercarpet\":[{\"type\":\"scattercarpet\",\"marker\":{\"colorbar\":{\"outlinewidth\":0,\"ticks\":\"\"}}}],\"carpet\":[{\"aaxis\":{\"endlinecolor\":\"#2a3f5f\",\"gridcolor\":\"white\",\"linecolor\":\"white\",\"minorgridcolor\":\"white\",\"startlinecolor\":\"#2a3f5f\"},\"baxis\":{\"endlinecolor\":\"#2a3f5f\",\"gridcolor\":\"white\",\"linecolor\":\"white\",\"minorgridcolor\":\"white\",\"startlinecolor\":\"#2a3f5f\"},\"type\":\"carpet\"}],\"table\":[{\"cells\":{\"fill\":{\"color\":\"#EBF0F8\"},\"line\":{\"color\":\"white\"}},\"header\":{\"fill\":{\"color\":\"#C8D4E3\"},\"line\":{\"color\":\"white\"}},\"type\":\"table\"}],\"barpolar\":[{\"marker\":{\"line\":{\"color\":\"#E5ECF6\",\"width\":0.5},\"pattern\":{\"fillmode\":\"overlay\",\"size\":10,\"solidity\":0.2}},\"type\":\"barpolar\"}],\"pie\":[{\"automargin\":true,\"type\":\"pie\"}]},\"layout\":{\"autotypenumbers\":\"strict\",\"colorway\":[\"#636efa\",\"#EF553B\",\"#00cc96\",\"#ab63fa\",\"#FFA15A\",\"#19d3f3\",\"#FF6692\",\"#B6E880\",\"#FF97FF\",\"#FECB52\"],\"font\":{\"color\":\"#2a3f5f\"},\"hovermode\":\"closest\",\"hoverlabel\":{\"align\":\"left\"},\"paper_bgcolor\":\"white\",\"plot_bgcolor\":\"#E5ECF6\",\"polar\":{\"bgcolor\":\"#E5ECF6\",\"angularaxis\":{\"gridcolor\":\"white\",\"linecolor\":\"white\",\"ticks\":\"\"},\"radialaxis\":{\"gridcolor\":\"white\",\"linecolor\":\"white\",\"ticks\":\"\"}},\"ternary\":{\"bgcolor\":\"#E5ECF6\",\"aaxis\":{\"gridcolor\":\"white\",\"linecolor\":\"white\",\"ticks\":\"\"},\"baxis\":{\"gridcolor\":\"white\",\"linecolor\":\"white\",\"ticks\":\"\"},\"caxis\":{\"gridcolor\":\"white\",\"linecolor\":\"white\",\"ticks\":\"\"}},\"coloraxis\":{\"colorbar\":{\"outlinewidth\":0,\"ticks\":\"\"}},\"colorscale\":{\"sequential\":[[0.0,\"#0d0887\"],[0.1111111111111111,\"#46039f\"],[0.2222222222222222,\"#7201a8\"],[0.3333333333333333,\"#9c179e\"],[0.4444444444444444,\"#bd3786\"],[0.5555555555555556,\"#d8576b\"],[0.6666666666666666,\"#ed7953\"],[0.7777777777777778,\"#fb9f3a\"],[0.8888888888888888,\"#fdca26\"],[1.0,\"#f0f921\"]],\"sequentialminus\":[[0.0,\"#0d0887\"],[0.1111111111111111,\"#46039f\"],[0.2222222222222222,\"#7201a8\"],[0.3333333333333333,\"#9c179e\"],[0.4444444444444444,\"#bd3786\"],[0.5555555555555556,\"#d8576b\"],[0.6666666666666666,\"#ed7953\"],[0.7777777777777778,\"#fb9f3a\"],[0.8888888888888888,\"#fdca26\"],[1.0,\"#f0f921\"]],\"diverging\":[[0,\"#8e0152\"],[0.1,\"#c51b7d\"],[0.2,\"#de77ae\"],[0.3,\"#f1b6da\"],[0.4,\"#fde0ef\"],[0.5,\"#f7f7f7\"],[0.6,\"#e6f5d0\"],[0.7,\"#b8e186\"],[0.8,\"#7fbc41\"],[0.9,\"#4d9221\"],[1,\"#276419\"]]},\"xaxis\":{\"gridcolor\":\"white\",\"linecolor\":\"white\",\"ticks\":\"\",\"title\":{\"standoff\":15},\"zerolinecolor\":\"white\",\"automargin\":true,\"zerolinewidth\":2},\"yaxis\":{\"gridcolor\":\"white\",\"linecolor\":\"white\",\"ticks\":\"\",\"title\":{\"standoff\":15},\"zerolinecolor\":\"white\",\"automargin\":true,\"zerolinewidth\":2},\"scene\":{\"xaxis\":{\"backgroundcolor\":\"#E5ECF6\",\"gridcolor\":\"white\",\"linecolor\":\"white\",\"showbackground\":true,\"ticks\":\"\",\"zerolinecolor\":\"white\",\"gridwidth\":2},\"yaxis\":{\"backgroundcolor\":\"#E5ECF6\",\"gridcolor\":\"white\",\"linecolor\":\"white\",\"showbackground\":true,\"ticks\":\"\",\"zerolinecolor\":\"white\",\"gridwidth\":2},\"zaxis\":{\"backgroundcolor\":\"#E5ECF6\",\"gridcolor\":\"white\",\"linecolor\":\"white\",\"showbackground\":true,\"ticks\":\"\",\"zerolinecolor\":\"white\",\"gridwidth\":2}},\"shapedefaults\":{\"line\":{\"color\":\"#2a3f5f\"}},\"annotationdefaults\":{\"arrowcolor\":\"#2a3f5f\",\"arrowhead\":0,\"arrowwidth\":1},\"geo\":{\"bgcolor\":\"white\",\"landcolor\":\"#E5ECF6\",\"subunitcolor\":\"white\",\"showland\":true,\"showlakes\":true,\"lakecolor\":\"white\"},\"title\":{\"x\":0.05},\"mapbox\":{\"style\":\"light\"}}},\"xaxis\":{\"anchor\":\"y\",\"domain\":[0.0,1.0],\"title\":{\"text\":\"x\"}},\"yaxis\":{\"anchor\":\"x\",\"domain\":[0.0,1.0],\"title\":{\"text\":\"y\"}},\"legend\":{\"title\":{\"text\":\"cluster\"},\"tracegroupgap\":0},\"margin\":{\"t\":60}},                        {\"responsive\": true}                    ).then(function(){\n",
              "                            \n",
              "var gd = document.getElementById('b8617bc4-d952-4d3e-9845-997316ebd375');\n",
              "var x = new MutationObserver(function (mutations, observer) {{\n",
              "        var display = window.getComputedStyle(gd).display;\n",
              "        if (!display || display === 'none') {{\n",
              "            console.log([gd, 'removed!']);\n",
              "            Plotly.purge(gd);\n",
              "            observer.disconnect();\n",
              "        }}\n",
              "}});\n",
              "\n",
              "// Listen for the removal of the full notebook cells\n",
              "var notebookContainer = gd.closest('#notebook-container');\n",
              "if (notebookContainer) {{\n",
              "    x.observe(notebookContainer, {childList: true});\n",
              "}}\n",
              "\n",
              "// Listen for the clearing of the current output cell\n",
              "var outputEl = gd.closest('.output');\n",
              "if (outputEl) {{\n",
              "    x.observe(outputEl, {childList: true});\n",
              "}}\n",
              "\n",
              "                        })                };                            </script>        </div>\n",
              "</body>\n",
              "</html>"
            ]
          },
          "metadata": {}
        }
      ]
    },
    {
      "cell_type": "markdown",
      "source": [
        "# Generate Cluster Titles using LLM\n"
      ],
      "metadata": {
        "id": "SMbTTpMAJ709"
      }
    },
    {
      "cell_type": "code",
      "source": [
        "#modelid=\"llama3.1:8b-instruct-q4_0\"\n",
        "#modelid=\"llama3.1:8b-text-q4_0\"\n",
        "modelid=\"llama3.1\"\n",
        "\n",
        "get_ipython().system_raw(\"curl -fsSL https://ollama.com/install.sh | sh\")\n",
        "get_ipython().system_raw(\"ollama serve &\")\n",
        "get_ipython().system_raw(f\"ollama pull {modelid}\")"
      ],
      "metadata": {
        "id": "VlWYaGo_vZJ3"
      },
      "execution_count": 6,
      "outputs": []
    },
    {
      "cell_type": "markdown",
      "source": [
        "curl -fsSL https://ollama.com/install.sh | sh\n",
        "\n",
        "then we can pull and start the llama3.1 model\n",
        "\n",
        "ollama serve & ollama pull llama3.1:8b-instruct-fp16"
      ],
      "metadata": {
        "id": "oUqys7OxKXod"
      }
    },
    {
      "cell_type": "code",
      "source": [
        "from langchain_community.llms import Ollama\n",
        "from langchain_core.prompts import PromptTemplate, ChatPromptTemplate\n",
        "from tqdm import tqdm\n",
        "\n",
        "# Initialize an instance of the Ollama model\n",
        "llm = Ollama(model=modelid)\n",
        "# Invoke the model to generate responses\n",
        "#response = llm.invoke(\"What is the capital of Florida?\")\n",
        "# response = llm.invoke([{\"role\": \"user\", \"content\": \"What is the capital of Florida?\"}])\n",
        "#print(response)\n",
        "\n",
        "\n",
        "prompt_template = ChatPromptTemplate([\n",
        "    (\"system\", \"You're an expert journalist. You're helping me write short but compelling topic titles for groups of news articles.\"),\n",
        "    ( \"user\", '''\n",
        "Write a 4 to 5 word title that summarizes the following articles. Find a common sense in all the articles. Output the first option if you find more then 1 option. Surround the title output with <title></title> tags.\n",
        "\n",
        "ARTICLES:{articles}\n",
        "\n",
        "TOPIC TITLE:\n",
        "''')]\n",
        ")\n",
        "\n",
        "topicTitleChain = prompt_template | llm\n",
        "\n",
        "df[\"cluster_name\"] = \"Uncategorized\"\n",
        "\n",
        "def generate_topic_titles():\n",
        "    result = {}\n",
        "\n",
        "    for c in tqdm(df.query('cluster != \"-1\"').cluster.unique()):\n",
        "        sample_articles = df.query(f\"cluster == '{c}'\").to_dict(orient=\"records\")\n",
        "\n",
        "        articles_str = \"\\n\\n\".join(\n",
        "            [\n",
        "                f\"[{i}] {article['title']}\\n{article['description'][:200]}{'...' if len(article['description']) > 200 else ''}\"\n",
        "                for i, article in enumerate(\n",
        "                    sample_articles, start=1\n",
        "                )\n",
        "            ]\n",
        "        )\n",
        "        topic_title=topicTitleChain.invoke({\"articles\":articles_str},options={\"temperature\": 0.0})\n",
        "        if topic_title.find(\"<title>\")>-1:\n",
        "          topic_title=topic_title.split(\"<title>\")[1].split(\"</title>\")[0].strip()\n",
        "        else:\n",
        "          topic_title=f\"unknown/{c}\"\n",
        "          # print (f\"\\n\\n{articles_str}\\n\\n\")\n",
        "        print (topic_title)\n",
        "        df.loc[df.cluster == c, \"cluster_name\"] = topic_title\n",
        "        result[c]=topic_title\n",
        "    return result\n",
        "\n",
        "topic_titles=generate_topic_titles()\n",
        "topic_titles\n",
        "\n",
        "#c = 6\n",
        "#with pd.option_context(\"display.max_colwidth\", None):\n",
        "#    print(df.query(f\"cluster == '{c}'\").topic_title.values[0])\n",
        "#    display(df.query(f\"cluster == '{c}'\").drop(columns=[\"topic_title\"]).head())"
      ],
      "metadata": {
        "colab": {
          "base_uri": "https://localhost:8080/"
        },
        "id": "NYjTgpcbD9iv",
        "outputId": "bc5a606b-72e0-4796-86bc-e78287538e56"
      },
      "execution_count": 25,
      "outputs": [
        {
          "output_type": "stream",
          "name": "stderr",
          "text": [
            "  2%|▏         | 1/52 [00:04<03:30,  4.13s/it]"
          ]
        },
        {
          "output_type": "stream",
          "name": "stdout",
          "text": [
            "Weinstein Conviction Overturned Again\n"
          ]
        },
        {
          "output_type": "stream",
          "name": "stderr",
          "text": [
            "\r  4%|▍         | 2/52 [00:14<06:42,  8.06s/it]"
          ]
        },
        {
          "output_type": "stream",
          "name": "stdout",
          "text": [
            "unknown/48\n"
          ]
        },
        {
          "output_type": "stream",
          "name": "stderr",
          "text": [
            "\r  6%|▌         | 3/52 [00:16<04:16,  5.23s/it]"
          ]
        },
        {
          "output_type": "stream",
          "name": "stdout",
          "text": [
            "unknown/26\n"
          ]
        },
        {
          "output_type": "stream",
          "name": "stderr",
          "text": [
            "\r  8%|▊         | 4/52 [00:19<03:20,  4.17s/it]"
          ]
        },
        {
          "output_type": "stream",
          "name": "stdout",
          "text": [
            "Macron Sounds Alarm for a Struggling EU\n"
          ]
        },
        {
          "output_type": "stream",
          "name": "stderr",
          "text": [
            "\r 10%|▉         | 5/52 [00:21<02:48,  3.58s/it]"
          ]
        },
        {
          "output_type": "stream",
          "name": "stdout",
          "text": [
            "Spanish PM's Wife Corruption Scandal\n"
          ]
        },
        {
          "output_type": "stream",
          "name": "stderr",
          "text": [
            "\r 12%|█▏        | 6/52 [00:24<02:28,  3.24s/it]"
          ]
        },
        {
          "output_type": "stream",
          "name": "stdout",
          "text": [
            "Venice Fights Back Against Mass Tourism\n"
          ]
        },
        {
          "output_type": "stream",
          "name": "stderr",
          "text": [
            "\r 13%|█▎        | 7/52 [00:27<02:21,  3.16s/it]"
          ]
        },
        {
          "output_type": "stream",
          "name": "stdout",
          "text": [
            "Supreme Court Debates Presidential Immunity\n"
          ]
        },
        {
          "output_type": "stream",
          "name": "stderr",
          "text": [
            "\r 15%|█▌        | 8/52 [00:29<02:07,  2.90s/it]"
          ]
        },
        {
          "output_type": "stream",
          "name": "stdout",
          "text": [
            "El Niño Brings Catastrophic Weather\n"
          ]
        },
        {
          "output_type": "stream",
          "name": "stderr",
          "text": [
            "\r 17%|█▋        | 9/52 [00:30<01:36,  2.24s/it]"
          ]
        },
        {
          "output_type": "stream",
          "name": "stdout",
          "text": [
            "Moulin Rouge's Windmill Sails Collapse\n"
          ]
        },
        {
          "output_type": "stream",
          "name": "stderr",
          "text": [
            "\r 19%|█▉        | 10/52 [00:35<02:09,  3.07s/it]"
          ]
        },
        {
          "output_type": "stream",
          "name": "stdout",
          "text": [
            "unknown/45\n"
          ]
        },
        {
          "output_type": "stream",
          "name": "stderr",
          "text": [
            "\r 21%|██        | 11/52 [00:40<02:28,  3.61s/it]"
          ]
        },
        {
          "output_type": "stream",
          "name": "stdout",
          "text": [
            "Big Tech's AI Spending Spree\n"
          ]
        },
        {
          "output_type": "stream",
          "name": "stderr",
          "text": [
            "\r 23%|██▎       | 12/52 [00:43<02:18,  3.45s/it]"
          ]
        },
        {
          "output_type": "stream",
          "name": "stdout",
          "text": [
            "Trump's Tabloid Ties Exposed\n"
          ]
        },
        {
          "output_type": "stream",
          "name": "stderr",
          "text": [
            "\r 25%|██▌       | 13/52 [00:47<02:20,  3.59s/it]"
          ]
        },
        {
          "output_type": "stream",
          "name": "stdout",
          "text": [
            "China-Russia Ties Spark Global Tensions\n"
          ]
        },
        {
          "output_type": "stream",
          "name": "stderr",
          "text": [
            "\r 27%|██▋       | 14/52 [00:48<01:44,  2.75s/it]"
          ]
        },
        {
          "output_type": "stream",
          "name": "stdout",
          "text": [
            "Hamas Uses Hostages as Bargaining Chips\n"
          ]
        },
        {
          "output_type": "stream",
          "name": "stderr",
          "text": [
            "\r 29%|██▉       | 15/52 [00:51<01:45,  2.84s/it]"
          ]
        },
        {
          "output_type": "stream",
          "name": "stdout",
          "text": [
            "unknown/29\n"
          ]
        },
        {
          "output_type": "stream",
          "name": "stderr",
          "text": [
            "\r 31%|███       | 16/52 [00:53<01:38,  2.74s/it]"
          ]
        },
        {
          "output_type": "stream",
          "name": "stdout",
          "text": [
            "BHP Pursues Anglo American Takeover\n"
          ]
        },
        {
          "output_type": "stream",
          "name": "stderr",
          "text": [
            "\r 33%|███▎      | 17/52 [00:56<01:36,  2.74s/it]"
          ]
        },
        {
          "output_type": "stream",
          "name": "stdout",
          "text": [
            "Legacies Clash, Beefs Reign Supreme\n"
          ]
        },
        {
          "output_type": "stream",
          "name": "stderr",
          "text": [
            "\r 35%|███▍      | 18/52 [00:58<01:30,  2.66s/it]"
          ]
        },
        {
          "output_type": "stream",
          "name": "stdout",
          "text": [
            "Tesla's Autopilot Under Regulatory Scrutiny\n"
          ]
        },
        {
          "output_type": "stream",
          "name": "stderr",
          "text": [
            "\r 37%|███▋      | 19/52 [00:59<01:09,  2.11s/it]"
          ]
        },
        {
          "output_type": "stream",
          "name": "stdout",
          "text": [
            "Tennis Courtships Heat Up the Big Screen\n"
          ]
        },
        {
          "output_type": "stream",
          "name": "stderr",
          "text": [
            "\r 38%|███▊      | 20/52 [01:02<01:11,  2.24s/it]"
          ]
        },
        {
          "output_type": "stream",
          "name": "stdout",
          "text": [
            "NFL & NBA Leagues' Big Decision Days\n"
          ]
        },
        {
          "output_type": "stream",
          "name": "stderr",
          "text": [
            "\r 40%|████      | 21/52 [01:03<00:56,  1.82s/it]"
          ]
        },
        {
          "output_type": "stream",
          "name": "stdout",
          "text": [
            "Biden vs. Trump: The Debate is On\n"
          ]
        },
        {
          "output_type": "stream",
          "name": "stderr",
          "text": [
            "\r 42%|████▏     | 22/52 [01:05<01:00,  2.03s/it]"
          ]
        },
        {
          "output_type": "stream",
          "name": "stdout",
          "text": [
            "US Builds Floating Aid Pier in Gaza\n"
          ]
        },
        {
          "output_type": "stream",
          "name": "stderr",
          "text": [
            "\r 44%|████▍     | 23/52 [01:08<01:06,  2.30s/it]"
          ]
        },
        {
          "output_type": "stream",
          "name": "stdout",
          "text": [
            "India Votes Amidst Polarizing Election Climate\n"
          ]
        },
        {
          "output_type": "stream",
          "name": "stderr",
          "text": [
            "\r 46%|████▌     | 24/52 [01:10<01:01,  2.18s/it]"
          ]
        },
        {
          "output_type": "stream",
          "name": "stdout",
          "text": [
            "King Charles Resumes Public Duties\n"
          ]
        },
        {
          "output_type": "stream",
          "name": "stderr",
          "text": [
            "\r 48%|████▊     | 25/52 [01:12<00:56,  2.10s/it]"
          ]
        },
        {
          "output_type": "stream",
          "name": "stdout",
          "text": [
            "Israel-Iran Tensions Escalate Drastically\n"
          ]
        },
        {
          "output_type": "stream",
          "name": "stderr",
          "text": [
            "\r 50%|█████     | 26/52 [01:14<00:52,  2.02s/it]"
          ]
        },
        {
          "output_type": "stream",
          "name": "stdout",
          "text": [
            "Biden Backs Down on Menthol Ban\n"
          ]
        },
        {
          "output_type": "stream",
          "name": "stderr",
          "text": [
            "\r 52%|█████▏    | 27/52 [01:16<00:51,  2.06s/it]"
          ]
        },
        {
          "output_type": "stream",
          "name": "stdout",
          "text": [
            "Poland Divided Over US Nuclear Bases\n"
          ]
        },
        {
          "output_type": "stream",
          "name": "stderr",
          "text": [
            "\r 54%|█████▍    | 28/52 [01:21<01:08,  2.87s/it]"
          ]
        },
        {
          "output_type": "stream",
          "name": "stdout",
          "text": [
            "unknown/31\n"
          ]
        },
        {
          "output_type": "stream",
          "name": "stderr",
          "text": [
            "\r 56%|█████▌    | 29/52 [01:23<01:01,  2.67s/it]"
          ]
        },
        {
          "output_type": "stream",
          "name": "stdout",
          "text": [
            "England Conquers Women's Six Nations\n"
          ]
        },
        {
          "output_type": "stream",
          "name": "stderr",
          "text": [
            "\r 58%|█████▊    | 30/52 [01:25<00:55,  2.54s/it]"
          ]
        },
        {
          "output_type": "stream",
          "name": "stdout",
          "text": [
            "unknown/8\n"
          ]
        },
        {
          "output_type": "stream",
          "name": "stderr",
          "text": [
            "\r 60%|█████▉    | 31/52 [01:28<00:58,  2.80s/it]"
          ]
        },
        {
          "output_type": "stream",
          "name": "stdout",
          "text": [
            "Gaza Crisis: Mass Graves and Ceasefire Talks\n"
          ]
        },
        {
          "output_type": "stream",
          "name": "stderr",
          "text": [
            "\r 62%|██████▏   | 32/52 [01:29<00:43,  2.20s/it]"
          ]
        },
        {
          "output_type": "stream",
          "name": "stdout",
          "text": [
            "Russian Interference Spans the UK\n"
          ]
        },
        {
          "output_type": "stream",
          "name": "stderr",
          "text": [
            "\r 63%|██████▎   | 33/52 [01:30<00:34,  1.83s/it]"
          ]
        },
        {
          "output_type": "stream",
          "name": "stdout",
          "text": [
            "Rwanda Policy Sparks Transatlantic Chaos\n"
          ]
        },
        {
          "output_type": "stream",
          "name": "stderr",
          "text": [
            "\r 65%|██████▌   | 34/52 [01:33<00:37,  2.08s/it]"
          ]
        },
        {
          "output_type": "stream",
          "name": "stdout",
          "text": [
            "Biden Tackles Power Sector Pollution\n"
          ]
        },
        {
          "output_type": "stream",
          "name": "stderr",
          "text": [
            "\r 67%|██████▋   | 35/52 [01:36<00:40,  2.36s/it]"
          ]
        },
        {
          "output_type": "stream",
          "name": "stdout",
          "text": [
            "The High Cost of Saving Lives\n"
          ]
        },
        {
          "output_type": "stream",
          "name": "stderr",
          "text": [
            "\r 69%|██████▉   | 36/52 [01:39<00:41,  2.60s/it]"
          ]
        },
        {
          "output_type": "stream",
          "name": "stdout",
          "text": [
            "unknown/16\n"
          ]
        },
        {
          "output_type": "stream",
          "name": "stderr",
          "text": [
            "\r 71%|███████   | 37/52 [01:42<00:38,  2.54s/it]"
          ]
        },
        {
          "output_type": "stream",
          "name": "stdout",
          "text": [
            "Market Talk Digest for Industry Leaders\n"
          ]
        },
        {
          "output_type": "stream",
          "name": "stderr",
          "text": [
            "\r 73%|███████▎  | 38/52 [01:42<00:28,  2.02s/it]"
          ]
        },
        {
          "output_type": "stream",
          "name": "stdout",
          "text": [
            "Musk vs Australia: Free Speech at Stake\n"
          ]
        },
        {
          "output_type": "stream",
          "name": "stderr",
          "text": [
            "\r 75%|███████▌  | 39/52 [01:43<00:21,  1.66s/it]"
          ]
        },
        {
          "output_type": "stream",
          "name": "stdout",
          "text": [
            "Kristi Noem's Troubling Hunting Confessions\n"
          ]
        },
        {
          "output_type": "stream",
          "name": "stderr",
          "text": [
            "\r 77%|███████▋  | 40/52 [01:45<00:20,  1.70s/it]"
          ]
        },
        {
          "output_type": "stream",
          "name": "stdout",
          "text": [
            "Slot Takes Charge at Anfield\n"
          ]
        },
        {
          "output_type": "stream",
          "name": "stderr",
          "text": [
            "\r 79%|███████▉  | 41/52 [01:46<00:15,  1.38s/it]"
          ]
        },
        {
          "output_type": "stream",
          "name": "stdout",
          "text": [
            "Hamas Studies Israeli Truce Proposals\n"
          ]
        },
        {
          "output_type": "stream",
          "name": "stderr",
          "text": [
            "\r 81%|████████  | 42/52 [01:52<00:28,  2.81s/it]"
          ]
        },
        {
          "output_type": "stream",
          "name": "stdout",
          "text": [
            "Democracy's Fragile Foundations\n"
          ]
        },
        {
          "output_type": "stream",
          "name": "stderr",
          "text": [
            "\r 83%|████████▎ | 43/52 [01:54<00:24,  2.73s/it]"
          ]
        },
        {
          "output_type": "stream",
          "name": "stdout",
          "text": [
            "Trump Targets Dollar and Central Bank\n"
          ]
        },
        {
          "output_type": "stream",
          "name": "stderr",
          "text": [
            "\r 85%|████████▍ | 44/52 [01:55<00:16,  2.09s/it]"
          ]
        },
        {
          "output_type": "stream",
          "name": "stdout",
          "text": [
            "Philadelphia Bank Fails Amid Regulation\n"
          ]
        },
        {
          "output_type": "stream",
          "name": "stderr",
          "text": [
            "\r 87%|████████▋ | 45/52 [01:57<00:14,  2.07s/it]"
          ]
        },
        {
          "output_type": "stream",
          "name": "stdout",
          "text": [
            "Flavors Beyond the Recipe\n"
          ]
        },
        {
          "output_type": "stream",
          "name": "stderr",
          "text": [
            "\r 88%|████████▊ | 46/52 [01:58<00:10,  1.69s/it]"
          ]
        },
        {
          "output_type": "stream",
          "name": "stdout",
          "text": [
            "US Intel: No Direct Putin Involvement\n"
          ]
        },
        {
          "output_type": "stream",
          "name": "stderr",
          "text": [
            "\r 90%|█████████ | 47/52 [01:58<00:06,  1.39s/it]"
          ]
        },
        {
          "output_type": "stream",
          "name": "stdout",
          "text": [
            "Tornadoes Bring Destruction Across America\n"
          ]
        },
        {
          "output_type": "stream",
          "name": "stderr",
          "text": [
            "\r 92%|█████████▏| 48/52 [01:59<00:04,  1.17s/it]"
          ]
        },
        {
          "output_type": "stream",
          "name": "stdout",
          "text": [
            "Infant Dies After Family Wiped Out\n"
          ]
        },
        {
          "output_type": "stream",
          "name": "stderr",
          "text": [
            "\r 94%|█████████▍| 49/52 [02:00<00:03,  1.04s/it]"
          ]
        },
        {
          "output_type": "stream",
          "name": "stdout",
          "text": [
            "Middle East Stars Fall To Violence\n"
          ]
        },
        {
          "output_type": "stream",
          "name": "stderr",
          "text": [
            "\r 96%|█████████▌| 50/52 [02:02<00:02,  1.39s/it]"
          ]
        },
        {
          "output_type": "stream",
          "name": "stdout",
          "text": [
            "Abortion Ban Fails, Debate Continues\n"
          ]
        },
        {
          "output_type": "stream",
          "name": "stderr",
          "text": [
            "\r 98%|█████████▊| 51/52 [02:04<00:01,  1.60s/it]"
          ]
        },
        {
          "output_type": "stream",
          "name": "stdout",
          "text": [
            "Man Sets Himself On Fire Outside Court\n"
          ]
        },
        {
          "output_type": "stream",
          "name": "stderr",
          "text": [
            "100%|██████████| 52/52 [02:06<00:00,  2.44s/it]"
          ]
        },
        {
          "output_type": "stream",
          "name": "stdout",
          "text": [
            "GDP Numbers Deceive American Reality\n"
          ]
        },
        {
          "output_type": "stream",
          "name": "stderr",
          "text": [
            "\n"
          ]
        },
        {
          "output_type": "execute_result",
          "data": {
            "text/plain": [
              "{'35': 'Weinstein Conviction Overturned Again',\n",
              " '48': 'unknown/48',\n",
              " '26': 'unknown/26',\n",
              " '42': 'Macron Sounds Alarm for a Struggling EU',\n",
              " '28': \"Spanish PM's Wife Corruption Scandal\",\n",
              " '10': 'Venice Fights Back Against Mass Tourism',\n",
              " '40': 'Supreme Court Debates Presidential Immunity',\n",
              " '6': 'El Niño Brings Catastrophic Weather',\n",
              " '1': \"Moulin Rouge's Windmill Sails Collapse\",\n",
              " '45': 'unknown/45',\n",
              " '18': \"Big Tech's AI Spending Spree\",\n",
              " '41': \"Trump's Tabloid Ties Exposed\",\n",
              " '49': 'China-Russia Ties Spark Global Tensions',\n",
              " '47': 'Hamas Uses Hostages as Bargaining Chips',\n",
              " '29': 'unknown/29',\n",
              " '23': 'BHP Pursues Anglo American Takeover',\n",
              " '12': 'Legacies Clash, Beefs Reign Supreme',\n",
              " '9': \"Tesla's Autopilot Under Regulatory Scrutiny\",\n",
              " '15': 'Tennis Courtships Heat Up the Big Screen',\n",
              " '5': \"NFL & NBA Leagues' Big Decision Days\",\n",
              " '36': 'Biden vs. Trump: The Debate is On',\n",
              " '44': 'US Builds Floating Aid Pier in Gaza',\n",
              " '21': 'India Votes Amidst Polarizing Election Climate',\n",
              " '11': 'King Charles Resumes Public Duties',\n",
              " '39': 'Israel-Iran Tensions Escalate Drastically',\n",
              " '19': 'Biden Backs Down on Menthol Ban',\n",
              " '43': 'Poland Divided Over US Nuclear Bases',\n",
              " '31': 'unknown/31',\n",
              " '25': \"England Conquers Women's Six Nations\",\n",
              " '8': 'unknown/8',\n",
              " '50': 'Gaza Crisis: Mass Graves and Ceasefire Talks',\n",
              " '33': 'Russian Interference Spans the UK',\n",
              " '37': 'Rwanda Policy Sparks Transatlantic Chaos',\n",
              " '20': 'Biden Tackles Power Sector Pollution',\n",
              " '3': 'The High Cost of Saving Lives',\n",
              " '16': 'unknown/16',\n",
              " '22': 'Market Talk Digest for Industry Leaders',\n",
              " '27': 'Musk vs Australia: Free Speech at Stake',\n",
              " '13': \"Kristi Noem's Troubling Hunting Confessions\",\n",
              " '32': 'Slot Takes Charge at Anfield',\n",
              " '51': 'Hamas Studies Israeli Truce Proposals',\n",
              " '2': \"Democracy's Fragile Foundations\",\n",
              " '30': 'Trump Targets Dollar and Central Bank',\n",
              " '4': 'Philadelphia Bank Fails Amid Regulation',\n",
              " '0': 'Flavors Beyond the Recipe',\n",
              " '24': 'US Intel: No Direct Putin Involvement',\n",
              " '7': 'Tornadoes Bring Destruction Across America',\n",
              " '46': 'Infant Dies After Family Wiped Out',\n",
              " '14': 'Middle East Stars Fall To Violence',\n",
              " '34': 'Abortion Ban Fails, Debate Continues',\n",
              " '38': 'Man Sets Himself On Fire Outside Court',\n",
              " '17': 'GDP Numbers Deceive American Reality'}"
            ]
          },
          "metadata": {},
          "execution_count": 25
        }
      ]
    },
    {
      "cell_type": "code",
      "execution_count": 8,
      "metadata": {
        "id": "-Y8XzgAPdm9R",
        "colab": {
          "base_uri": "https://localhost:8080/",
          "height": 425
        },
        "outputId": "a08313e7-1be6-4502-ef67-dfb64ff3e0d3"
      },
      "outputs": [
        {
          "output_type": "stream",
          "name": "stderr",
          "text": [
            "/usr/local/lib/python3.11/dist-packages/sklearn/utils/deprecation.py:151: FutureWarning:\n",
            "\n",
            "'force_all_finite' was renamed to 'ensure_all_finite' in 1.6 and will be removed in 1.8.\n",
            "\n"
          ]
        },
        {
          "output_type": "error",
          "ename": "TypeError",
          "evalue": "unhashable type: 'numpy.ndarray'",
          "traceback": [
            "\u001b[0;31m---------------------------------------------------------------------------\u001b[0m",
            "\u001b[0;31mTypeError\u001b[0m                                 Traceback (most recent call last)",
            "\u001b[0;32m<ipython-input-8-902e1f76505d>\u001b[0m in \u001b[0;36m<cell line: 0>\u001b[0;34m()\u001b[0m\n\u001b[1;32m      3\u001b[0m df_umap = (\n\u001b[1;32m      4\u001b[0m     \u001b[0mpd\u001b[0m\u001b[0;34m.\u001b[0m\u001b[0mDataFrame\u001b[0m\u001b[0;34m(\u001b[0m\u001b[0mumap\u001b[0m\u001b[0;34m.\u001b[0m\u001b[0mfit_transform\u001b[0m\u001b[0;34m(\u001b[0m\u001b[0mnp\u001b[0m\u001b[0;34m.\u001b[0m\u001b[0marray\u001b[0m\u001b[0;34m(\u001b[0m\u001b[0membeddings\u001b[0m\u001b[0;34m)\u001b[0m\u001b[0;34m)\u001b[0m\u001b[0;34m,\u001b[0m \u001b[0mcolumns\u001b[0m\u001b[0;34m=\u001b[0m\u001b[0;34m[\u001b[0m\u001b[0;34m'x'\u001b[0m\u001b[0;34m,\u001b[0m \u001b[0;34m'y'\u001b[0m\u001b[0;34m]\u001b[0m\u001b[0;34m)\u001b[0m\u001b[0;34m\u001b[0m\u001b[0;34m\u001b[0m\u001b[0m\n\u001b[0;32m----> 5\u001b[0;31m     \u001b[0;34m.\u001b[0m\u001b[0massign\u001b[0m\u001b[0;34m(\u001b[0m\u001b[0mcluster\u001b[0m\u001b[0;34m=\u001b[0m\u001b[0;32mlambda\u001b[0m \u001b[0mdf\u001b[0m\u001b[0;34m:\u001b[0m  \u001b[0mtopic_titles\u001b[0m\u001b[0;34m[\u001b[0m\u001b[0mhdb\u001b[0m\u001b[0;34m.\u001b[0m\u001b[0mlabels_\u001b[0m\u001b[0;34m.\u001b[0m\u001b[0mastype\u001b[0m\u001b[0;34m(\u001b[0m\u001b[0mstr\u001b[0m\u001b[0;34m)\u001b[0m\u001b[0;34m]\u001b[0m\u001b[0;34m)\u001b[0m\u001b[0;34m\u001b[0m\u001b[0;34m\u001b[0m\u001b[0m\n\u001b[0m\u001b[1;32m      6\u001b[0m     \u001b[0;34m.\u001b[0m\u001b[0mquery\u001b[0m\u001b[0;34m(\u001b[0m\u001b[0;34m'cluster != \"-1\"'\u001b[0m\u001b[0;34m)\u001b[0m\u001b[0;34m\u001b[0m\u001b[0;34m\u001b[0m\u001b[0m\n\u001b[1;32m      7\u001b[0m     \u001b[0;34m.\u001b[0m\u001b[0msort_values\u001b[0m\u001b[0;34m(\u001b[0m\u001b[0mby\u001b[0m\u001b[0;34m=\u001b[0m\u001b[0;34m'cluster'\u001b[0m\u001b[0;34m)\u001b[0m\u001b[0;34m\u001b[0m\u001b[0;34m\u001b[0m\u001b[0m\n",
            "\u001b[0;32m/usr/local/lib/python3.11/dist-packages/pandas/core/frame.py\u001b[0m in \u001b[0;36massign\u001b[0;34m(self, **kwargs)\u001b[0m\n\u001b[1;32m   5237\u001b[0m \u001b[0;34m\u001b[0m\u001b[0m\n\u001b[1;32m   5238\u001b[0m         \u001b[0;32mfor\u001b[0m \u001b[0mk\u001b[0m\u001b[0;34m,\u001b[0m \u001b[0mv\u001b[0m \u001b[0;32min\u001b[0m \u001b[0mkwargs\u001b[0m\u001b[0;34m.\u001b[0m\u001b[0mitems\u001b[0m\u001b[0;34m(\u001b[0m\u001b[0;34m)\u001b[0m\u001b[0;34m:\u001b[0m\u001b[0;34m\u001b[0m\u001b[0;34m\u001b[0m\u001b[0m\n\u001b[0;32m-> 5239\u001b[0;31m             \u001b[0mdata\u001b[0m\u001b[0;34m[\u001b[0m\u001b[0mk\u001b[0m\u001b[0;34m]\u001b[0m \u001b[0;34m=\u001b[0m \u001b[0mcom\u001b[0m\u001b[0;34m.\u001b[0m\u001b[0mapply_if_callable\u001b[0m\u001b[0;34m(\u001b[0m\u001b[0mv\u001b[0m\u001b[0;34m,\u001b[0m \u001b[0mdata\u001b[0m\u001b[0;34m)\u001b[0m\u001b[0;34m\u001b[0m\u001b[0;34m\u001b[0m\u001b[0m\n\u001b[0m\u001b[1;32m   5240\u001b[0m         \u001b[0;32mreturn\u001b[0m \u001b[0mdata\u001b[0m\u001b[0;34m\u001b[0m\u001b[0;34m\u001b[0m\u001b[0m\n\u001b[1;32m   5241\u001b[0m \u001b[0;34m\u001b[0m\u001b[0m\n",
            "\u001b[0;32m/usr/local/lib/python3.11/dist-packages/pandas/core/common.py\u001b[0m in \u001b[0;36mapply_if_callable\u001b[0;34m(maybe_callable, obj, **kwargs)\u001b[0m\n\u001b[1;32m    382\u001b[0m     \"\"\"\n\u001b[1;32m    383\u001b[0m     \u001b[0;32mif\u001b[0m \u001b[0mcallable\u001b[0m\u001b[0;34m(\u001b[0m\u001b[0mmaybe_callable\u001b[0m\u001b[0;34m)\u001b[0m\u001b[0;34m:\u001b[0m\u001b[0;34m\u001b[0m\u001b[0;34m\u001b[0m\u001b[0m\n\u001b[0;32m--> 384\u001b[0;31m         \u001b[0;32mreturn\u001b[0m \u001b[0mmaybe_callable\u001b[0m\u001b[0;34m(\u001b[0m\u001b[0mobj\u001b[0m\u001b[0;34m,\u001b[0m \u001b[0;34m**\u001b[0m\u001b[0mkwargs\u001b[0m\u001b[0;34m)\u001b[0m\u001b[0;34m\u001b[0m\u001b[0;34m\u001b[0m\u001b[0m\n\u001b[0m\u001b[1;32m    385\u001b[0m \u001b[0;34m\u001b[0m\u001b[0m\n\u001b[1;32m    386\u001b[0m     \u001b[0;32mreturn\u001b[0m \u001b[0mmaybe_callable\u001b[0m\u001b[0;34m\u001b[0m\u001b[0;34m\u001b[0m\u001b[0m\n",
            "\u001b[0;32m<ipython-input-8-902e1f76505d>\u001b[0m in \u001b[0;36m<lambda>\u001b[0;34m(df)\u001b[0m\n\u001b[1;32m      3\u001b[0m df_umap = (\n\u001b[1;32m      4\u001b[0m     \u001b[0mpd\u001b[0m\u001b[0;34m.\u001b[0m\u001b[0mDataFrame\u001b[0m\u001b[0;34m(\u001b[0m\u001b[0mumap\u001b[0m\u001b[0;34m.\u001b[0m\u001b[0mfit_transform\u001b[0m\u001b[0;34m(\u001b[0m\u001b[0mnp\u001b[0m\u001b[0;34m.\u001b[0m\u001b[0marray\u001b[0m\u001b[0;34m(\u001b[0m\u001b[0membeddings\u001b[0m\u001b[0;34m)\u001b[0m\u001b[0;34m)\u001b[0m\u001b[0;34m,\u001b[0m \u001b[0mcolumns\u001b[0m\u001b[0;34m=\u001b[0m\u001b[0;34m[\u001b[0m\u001b[0;34m'x'\u001b[0m\u001b[0;34m,\u001b[0m \u001b[0;34m'y'\u001b[0m\u001b[0;34m]\u001b[0m\u001b[0;34m)\u001b[0m\u001b[0;34m\u001b[0m\u001b[0;34m\u001b[0m\u001b[0m\n\u001b[0;32m----> 5\u001b[0;31m     \u001b[0;34m.\u001b[0m\u001b[0massign\u001b[0m\u001b[0;34m(\u001b[0m\u001b[0mcluster\u001b[0m\u001b[0;34m=\u001b[0m\u001b[0;32mlambda\u001b[0m \u001b[0mdf\u001b[0m\u001b[0;34m:\u001b[0m  \u001b[0mtopic_titles\u001b[0m\u001b[0;34m[\u001b[0m\u001b[0mhdb\u001b[0m\u001b[0;34m.\u001b[0m\u001b[0mlabels_\u001b[0m\u001b[0;34m.\u001b[0m\u001b[0mastype\u001b[0m\u001b[0;34m(\u001b[0m\u001b[0mstr\u001b[0m\u001b[0;34m)\u001b[0m\u001b[0;34m]\u001b[0m\u001b[0;34m)\u001b[0m\u001b[0;34m\u001b[0m\u001b[0;34m\u001b[0m\u001b[0m\n\u001b[0m\u001b[1;32m      6\u001b[0m     \u001b[0;34m.\u001b[0m\u001b[0mquery\u001b[0m\u001b[0;34m(\u001b[0m\u001b[0;34m'cluster != \"-1\"'\u001b[0m\u001b[0;34m)\u001b[0m\u001b[0;34m\u001b[0m\u001b[0;34m\u001b[0m\u001b[0m\n\u001b[1;32m      7\u001b[0m     \u001b[0;34m.\u001b[0m\u001b[0msort_values\u001b[0m\u001b[0;34m(\u001b[0m\u001b[0mby\u001b[0m\u001b[0;34m=\u001b[0m\u001b[0;34m'cluster'\u001b[0m\u001b[0;34m)\u001b[0m\u001b[0;34m\u001b[0m\u001b[0;34m\u001b[0m\u001b[0m\n",
            "\u001b[0;31mTypeError\u001b[0m: unhashable type: 'numpy.ndarray'"
          ]
        }
      ],
      "source": [
        "umap = UMAP(n_components=2,  n_neighbors=80, min_dist=0.2)\n",
        "\n",
        "df_umap = (\n",
        "    pd.DataFrame(umap.fit_transform(np.array(embeddings)), columns=['x', 'y'])\n",
        "    .assign(cluster=lambda df:  topic_titles[hdb.labels_.astype(str)])\n",
        "    .query('cluster != \"-1\"')\n",
        "    .sort_values(by='cluster')\n",
        ")\n",
        "\n",
        "fig = px.scatter(df_umap, x='x', y='y', color='cluster')\n",
        "fig.show()"
      ]
    }
  ]
}