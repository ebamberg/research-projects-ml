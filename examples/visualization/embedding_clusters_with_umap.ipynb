{
  "nbformat": 4,
  "nbformat_minor": 0,
  "metadata": {
    "colab": {
      "provenance": [],
      "gpuType": "T4",
      "authorship_tag": "ABX9TyMkGGSuPXny/xiEOz1A6lSZ",
      "include_colab_link": true
    },
    "kernelspec": {
      "name": "python3",
      "display_name": "Python 3"
    },
    "language_info": {
      "name": "python"
    },
    "accelerator": "GPU"
  },
  "cells": [
    {
      "cell_type": "markdown",
      "metadata": {
        "id": "view-in-github",
        "colab_type": "text"
      },
      "source": [
        "<a href=\"https://colab.research.google.com/github/ebamberg/research-projects-ml/blob/main/examples/visualization/embedding_clusters_with_umap.ipynb\" target=\"_parent\"><img src=\"https://colab.research.google.com/assets/colab-badge.svg\" alt=\"Open In Colab\"/></a>"
      ]
    },
    {
      "cell_type": "code",
      "source": [
        "!pip install umap-learn plotly pandas numpy sentence-transformers hdbscan tqdm --quiet\n",
        "\n",
        "!curl -L -o ./news-headlines-2024.zip https://www.kaggle.com/api/v1/datasets/download/dylanjcastillo/news-headlines-2024\n",
        "!unzip -o ./news-headlines-2024.zip"
      ],
      "metadata": {
        "colab": {
          "base_uri": "https://localhost:8080/"
        },
        "id": "aMXfZ4NAeKpu",
        "outputId": "fb187375-714a-43fd-d7a7-bcf05be28fba"
      },
      "execution_count": 1,
      "outputs": [
        {
          "output_type": "stream",
          "name": "stdout",
          "text": [
            "  % Total    % Received % Xferd  Average Speed   Time    Time     Time  Current\n",
            "                                 Dload  Upload   Total   Spent    Left  Speed\n",
            "  0     0    0     0    0     0      0      0 --:--:-- --:--:-- --:--:--     0\n",
            "100  225k  100  225k    0     0   402k      0 --:--:-- --:--:-- --:--:--  402k\n",
            "Archive:  ./news-headlines-2024.zip\n",
            "  inflating: news_data_dedup.csv     \n"
          ]
        }
      ]
    },
    {
      "cell_type": "code",
      "source": [
        "import pandas as pd\n",
        "\n",
        "df = pd.read_csv(\"./news_data_dedup.csv\")\n",
        "docs = [\n",
        "    f\"{title}\\n{description}\"\n",
        "    for title, description in zip(df.title, df.description)\n",
        "]\n",
        "\n"
      ],
      "metadata": {
        "id": "tCg-JKxjgfwv"
      },
      "execution_count": 2,
      "outputs": []
    },
    {
      "cell_type": "code",
      "source": [
        "from google.colab import userdata\n",
        "from sentence_transformers import SentenceTransformer\n",
        "from umap import UMAP\n",
        "import pandas as pd\n",
        "import numpy as np\n",
        "import plotly.express as px\n",
        "import hdbscan\n",
        "\n",
        "model_id = \"sentence-transformers/all-MiniLM-L6-v2\"\n",
        "hf_token = userdata.get('HF_TOKEN')\n",
        "\n",
        "model = SentenceTransformer(model_id)\n",
        "\n",
        "embeddings = model.encode(docs)\n",
        "\n",
        "embeddings"
      ],
      "metadata": {
        "colab": {
          "base_uri": "https://localhost:8080/"
        },
        "id": "YxW3Uu9ve5Bs",
        "outputId": "9d1016ed-dc09-4c0b-d5a3-62d14a0072da"
      },
      "execution_count": 3,
      "outputs": [
        {
          "output_type": "execute_result",
          "data": {
            "text/plain": [
              "array([[ 0.01300003, -0.02001945,  0.0378731 , ..., -0.0176036 ,\n",
              "         0.08934786, -0.06768816],\n",
              "       [-0.00416246,  0.03095501, -0.04282118, ..., -0.02408286,\n",
              "        -0.04449847, -0.03713957],\n",
              "       [-0.02172823, -0.00271915,  0.10941693, ...,  0.00217858,\n",
              "         0.010975  , -0.09007305],\n",
              "       ...,\n",
              "       [ 0.08573322,  0.04818088,  0.0819603 , ...,  0.04652384,\n",
              "        -0.06448119,  0.02147188],\n",
              "       [ 0.08200873, -0.00633858,  0.06603416, ...,  0.00668821,\n",
              "        -0.03189663, -0.00043885],\n",
              "       [ 0.06723553,  0.08093947, -0.01455507, ..., -0.01280487,\n",
              "        -0.00361775,  0.06653812]], dtype=float32)"
            ]
          },
          "metadata": {},
          "execution_count": 3
        }
      ]
    },
    {
      "cell_type": "code",
      "source": [
        "hdb = hdbscan.HDBSCAN(min_samples=10, min_cluster_size=3 ).fit(embeddings)\n",
        "df=df.assign(cluster=lambda df: hdb.labels_.astype(str))\n",
        "df"
      ],
      "metadata": {
        "colab": {
          "base_uri": "https://localhost:8080/",
          "height": 1000
        },
        "id": "ktjm_2fHhcmD",
        "outputId": "ed58c940-570a-4fea-80f6-f3e74ff99041"
      },
      "execution_count": 26,
      "outputs": [
        {
          "output_type": "stream",
          "name": "stderr",
          "text": [
            "/usr/local/lib/python3.11/dist-packages/sklearn/utils/deprecation.py:151: FutureWarning:\n",
            "\n",
            "'force_all_finite' was renamed to 'ensure_all_finite' in 1.6 and will be removed in 1.8.\n",
            "\n",
            "/usr/local/lib/python3.11/dist-packages/sklearn/utils/deprecation.py:151: FutureWarning:\n",
            "\n",
            "'force_all_finite' was renamed to 'ensure_all_finite' in 1.6 and will be removed in 1.8.\n",
            "\n"
          ]
        },
        {
          "output_type": "execute_result",
          "data": {
            "text/plain": [
              "                                 guid  \\\n",
              "0    e3dc5caa18f9a16d7edcc09f8d5c2bb4   \n",
              "1    297b7152cd95e80dd200a8e1997e10d9   \n",
              "2    170bd18d1635c44b9339bdbaf1e62123   \n",
              "3    e696224ac208878a5cec8bdc9f97c632   \n",
              "4    733f744b006fb13033d264efcaf8edad   \n",
              "..                                ...   \n",
              "865  b26b379233ad059cd7b2098fa7bad86b   \n",
              "866  ad3948cb67434a9d6b7acf6beaab44fe   \n",
              "867  efe3f14a916d7d187c42662dff1d8167   \n",
              "868  89be6f3e8a2f8d75ce401e3c6c72648e   \n",
              "869  1123929cfbd9e11b3999d7116f4c1d05   \n",
              "\n",
              "                                                 title  \\\n",
              "0    Harvey Weinstein's 2020 rape conviction overtu...   \n",
              "1    Police and activists clash on Atlanta campus a...   \n",
              "2    Haiti PM resigns as transitional council sworn in   \n",
              "3    Europe risks dying and faces big decisions - M...   \n",
              "4    Prosecutors ask for halt to case against Spain...   \n",
              "..                                                 ...   \n",
              "865  A celebration ‘of the immigrant, the foreigner...   \n",
              "866  Part protest, part rave: the Indigenous artist...   \n",
              "867  The photography studio with four wheels and a ...   \n",
              "868  Lost New York: remembering the city’s forgotte...   \n",
              "869  ‘Distressing’: British newscast pulled mid-bul...   \n",
              "\n",
              "                                           description         venue  \\\n",
              "0    Victims group describes the New York appeal co...           BBC   \n",
              "1    Meanwhile, hundreds of students march in Washi...           BBC   \n",
              "2    The council will try to restore order and form...           BBC   \n",
              "3    The French president delivers a stark warning ...           BBC   \n",
              "4    Pedro Sánchez is deciding whether to resign af...           BBC   \n",
              "..                                                 ...           ...   \n",
              "865  The grand gathering of contemporary art celebr...       El Pais   \n",
              "866  From Gold Lion winner Archie Moore to Brazilia...  The Guardian   \n",
              "867  ‘The sun trickled in just as we were coming do...  The Guardian   \n",
              "868  A new exhibition at the New-York Historical So...  The Guardian   \n",
              "869  UK presenter Rageh Omaar – a veteran in the ne...   News.com.au   \n",
              "\n",
              "                                                   url  \\\n",
              "0    https://www.bbc.co.uk/news/world-us-canada-688...   \n",
              "1    https://www.bbc.co.uk/news/live/world-us-canad...   \n",
              "2    https://www.bbc.co.uk/news/world-latin-america...   \n",
              "3     https://www.bbc.co.uk/news/world-europe-68898887   \n",
              "4     https://www.bbc.co.uk/news/world-europe-68895727   \n",
              "..                                                 ...   \n",
              "865  https://english.elpais.com/culture/2024-04-19/...   \n",
              "866  https://www.theguardian.com/artanddesign/2024/...   \n",
              "867  https://www.theguardian.com/artanddesign/2024/...   \n",
              "868  https://www.theguardian.com/artanddesign/2024/...   \n",
              "869  https://www.news.com.au/world/europe/distressi...   \n",
              "\n",
              "                     published_at                     updated_at cluster  \\\n",
              "0          2024-04-25 18:24:04+00  2024-04-26 20:03:00.628113+00       6   \n",
              "1          2024-04-25 13:40:25+00  2024-04-26 20:03:00.654819+00       9   \n",
              "2          2024-04-25 18:11:02+00  2024-04-26 20:03:00.663393+00      -1   \n",
              "3          2024-04-25 14:51:15+00  2024-04-26 20:03:00.672106+00      -1   \n",
              "4          2024-04-25 13:07:42+00  2024-04-26 20:03:00.682205+00      -1   \n",
              "..                            ...                            ...     ...   \n",
              "865        2024-04-19 21:48:57+00  2024-04-26 13:02:53.612335+00      -1   \n",
              "866        2024-04-25 10:55:43+00  2024-04-26 13:02:54.537243+00      -1   \n",
              "867        2024-04-24 12:33:27+00  2024-04-26 13:02:54.756821+00      -1   \n",
              "868        2024-04-25 14:30:06+00  2024-04-26 13:02:54.827138+00      -1   \n",
              "869  2024-04-27 06:31:59.16726+00  2024-04-27 06:32:45.714458+00      -1   \n",
              "\n",
              "                                cluster_name  \n",
              "0      Weinstein Conviction Overturned Again  \n",
              "1                                 unknown/48  \n",
              "2                                 unknown/26  \n",
              "3    Macron Sounds Alarm for a Struggling EU  \n",
              "4       Spanish PM's Wife Corruption Scandal  \n",
              "..                                       ...  \n",
              "865                                unknown/8  \n",
              "866                                unknown/8  \n",
              "867                            Uncategorized  \n",
              "868                            Uncategorized  \n",
              "869                            Uncategorized  \n",
              "\n",
              "[870 rows x 9 columns]"
            ],
            "text/html": [
              "\n",
              "  <div id=\"df-cb94a750-779e-40a9-9712-cc5210cbb235\" class=\"colab-df-container\">\n",
              "    <div>\n",
              "<style scoped>\n",
              "    .dataframe tbody tr th:only-of-type {\n",
              "        vertical-align: middle;\n",
              "    }\n",
              "\n",
              "    .dataframe tbody tr th {\n",
              "        vertical-align: top;\n",
              "    }\n",
              "\n",
              "    .dataframe thead th {\n",
              "        text-align: right;\n",
              "    }\n",
              "</style>\n",
              "<table border=\"1\" class=\"dataframe\">\n",
              "  <thead>\n",
              "    <tr style=\"text-align: right;\">\n",
              "      <th></th>\n",
              "      <th>guid</th>\n",
              "      <th>title</th>\n",
              "      <th>description</th>\n",
              "      <th>venue</th>\n",
              "      <th>url</th>\n",
              "      <th>published_at</th>\n",
              "      <th>updated_at</th>\n",
              "      <th>cluster</th>\n",
              "      <th>cluster_name</th>\n",
              "    </tr>\n",
              "  </thead>\n",
              "  <tbody>\n",
              "    <tr>\n",
              "      <th>0</th>\n",
              "      <td>e3dc5caa18f9a16d7edcc09f8d5c2bb4</td>\n",
              "      <td>Harvey Weinstein's 2020 rape conviction overtu...</td>\n",
              "      <td>Victims group describes the New York appeal co...</td>\n",
              "      <td>BBC</td>\n",
              "      <td>https://www.bbc.co.uk/news/world-us-canada-688...</td>\n",
              "      <td>2024-04-25 18:24:04+00</td>\n",
              "      <td>2024-04-26 20:03:00.628113+00</td>\n",
              "      <td>6</td>\n",
              "      <td>Weinstein Conviction Overturned Again</td>\n",
              "    </tr>\n",
              "    <tr>\n",
              "      <th>1</th>\n",
              "      <td>297b7152cd95e80dd200a8e1997e10d9</td>\n",
              "      <td>Police and activists clash on Atlanta campus a...</td>\n",
              "      <td>Meanwhile, hundreds of students march in Washi...</td>\n",
              "      <td>BBC</td>\n",
              "      <td>https://www.bbc.co.uk/news/live/world-us-canad...</td>\n",
              "      <td>2024-04-25 13:40:25+00</td>\n",
              "      <td>2024-04-26 20:03:00.654819+00</td>\n",
              "      <td>9</td>\n",
              "      <td>unknown/48</td>\n",
              "    </tr>\n",
              "    <tr>\n",
              "      <th>2</th>\n",
              "      <td>170bd18d1635c44b9339bdbaf1e62123</td>\n",
              "      <td>Haiti PM resigns as transitional council sworn in</td>\n",
              "      <td>The council will try to restore order and form...</td>\n",
              "      <td>BBC</td>\n",
              "      <td>https://www.bbc.co.uk/news/world-latin-america...</td>\n",
              "      <td>2024-04-25 18:11:02+00</td>\n",
              "      <td>2024-04-26 20:03:00.663393+00</td>\n",
              "      <td>-1</td>\n",
              "      <td>unknown/26</td>\n",
              "    </tr>\n",
              "    <tr>\n",
              "      <th>3</th>\n",
              "      <td>e696224ac208878a5cec8bdc9f97c632</td>\n",
              "      <td>Europe risks dying and faces big decisions - M...</td>\n",
              "      <td>The French president delivers a stark warning ...</td>\n",
              "      <td>BBC</td>\n",
              "      <td>https://www.bbc.co.uk/news/world-europe-68898887</td>\n",
              "      <td>2024-04-25 14:51:15+00</td>\n",
              "      <td>2024-04-26 20:03:00.672106+00</td>\n",
              "      <td>-1</td>\n",
              "      <td>Macron Sounds Alarm for a Struggling EU</td>\n",
              "    </tr>\n",
              "    <tr>\n",
              "      <th>4</th>\n",
              "      <td>733f744b006fb13033d264efcaf8edad</td>\n",
              "      <td>Prosecutors ask for halt to case against Spain...</td>\n",
              "      <td>Pedro Sánchez is deciding whether to resign af...</td>\n",
              "      <td>BBC</td>\n",
              "      <td>https://www.bbc.co.uk/news/world-europe-68895727</td>\n",
              "      <td>2024-04-25 13:07:42+00</td>\n",
              "      <td>2024-04-26 20:03:00.682205+00</td>\n",
              "      <td>-1</td>\n",
              "      <td>Spanish PM's Wife Corruption Scandal</td>\n",
              "    </tr>\n",
              "    <tr>\n",
              "      <th>...</th>\n",
              "      <td>...</td>\n",
              "      <td>...</td>\n",
              "      <td>...</td>\n",
              "      <td>...</td>\n",
              "      <td>...</td>\n",
              "      <td>...</td>\n",
              "      <td>...</td>\n",
              "      <td>...</td>\n",
              "      <td>...</td>\n",
              "    </tr>\n",
              "    <tr>\n",
              "      <th>865</th>\n",
              "      <td>b26b379233ad059cd7b2098fa7bad86b</td>\n",
              "      <td>A celebration ‘of the immigrant, the foreigner...</td>\n",
              "      <td>The grand gathering of contemporary art celebr...</td>\n",
              "      <td>El Pais</td>\n",
              "      <td>https://english.elpais.com/culture/2024-04-19/...</td>\n",
              "      <td>2024-04-19 21:48:57+00</td>\n",
              "      <td>2024-04-26 13:02:53.612335+00</td>\n",
              "      <td>-1</td>\n",
              "      <td>unknown/8</td>\n",
              "    </tr>\n",
              "    <tr>\n",
              "      <th>866</th>\n",
              "      <td>ad3948cb67434a9d6b7acf6beaab44fe</td>\n",
              "      <td>Part protest, part rave: the Indigenous artist...</td>\n",
              "      <td>From Gold Lion winner Archie Moore to Brazilia...</td>\n",
              "      <td>The Guardian</td>\n",
              "      <td>https://www.theguardian.com/artanddesign/2024/...</td>\n",
              "      <td>2024-04-25 10:55:43+00</td>\n",
              "      <td>2024-04-26 13:02:54.537243+00</td>\n",
              "      <td>-1</td>\n",
              "      <td>unknown/8</td>\n",
              "    </tr>\n",
              "    <tr>\n",
              "      <th>867</th>\n",
              "      <td>efe3f14a916d7d187c42662dff1d8167</td>\n",
              "      <td>The photography studio with four wheels and a ...</td>\n",
              "      <td>‘The sun trickled in just as we were coming do...</td>\n",
              "      <td>The Guardian</td>\n",
              "      <td>https://www.theguardian.com/artanddesign/2024/...</td>\n",
              "      <td>2024-04-24 12:33:27+00</td>\n",
              "      <td>2024-04-26 13:02:54.756821+00</td>\n",
              "      <td>-1</td>\n",
              "      <td>Uncategorized</td>\n",
              "    </tr>\n",
              "    <tr>\n",
              "      <th>868</th>\n",
              "      <td>89be6f3e8a2f8d75ce401e3c6c72648e</td>\n",
              "      <td>Lost New York: remembering the city’s forgotte...</td>\n",
              "      <td>A new exhibition at the New-York Historical So...</td>\n",
              "      <td>The Guardian</td>\n",
              "      <td>https://www.theguardian.com/artanddesign/2024/...</td>\n",
              "      <td>2024-04-25 14:30:06+00</td>\n",
              "      <td>2024-04-26 13:02:54.827138+00</td>\n",
              "      <td>-1</td>\n",
              "      <td>Uncategorized</td>\n",
              "    </tr>\n",
              "    <tr>\n",
              "      <th>869</th>\n",
              "      <td>1123929cfbd9e11b3999d7116f4c1d05</td>\n",
              "      <td>‘Distressing’: British newscast pulled mid-bul...</td>\n",
              "      <td>UK presenter Rageh Omaar – a veteran in the ne...</td>\n",
              "      <td>News.com.au</td>\n",
              "      <td>https://www.news.com.au/world/europe/distressi...</td>\n",
              "      <td>2024-04-27 06:31:59.16726+00</td>\n",
              "      <td>2024-04-27 06:32:45.714458+00</td>\n",
              "      <td>-1</td>\n",
              "      <td>Uncategorized</td>\n",
              "    </tr>\n",
              "  </tbody>\n",
              "</table>\n",
              "<p>870 rows × 9 columns</p>\n",
              "</div>\n",
              "    <div class=\"colab-df-buttons\">\n",
              "\n",
              "  <div class=\"colab-df-container\">\n",
              "    <button class=\"colab-df-convert\" onclick=\"convertToInteractive('df-cb94a750-779e-40a9-9712-cc5210cbb235')\"\n",
              "            title=\"Convert this dataframe to an interactive table.\"\n",
              "            style=\"display:none;\">\n",
              "\n",
              "  <svg xmlns=\"http://www.w3.org/2000/svg\" height=\"24px\" viewBox=\"0 -960 960 960\">\n",
              "    <path d=\"M120-120v-720h720v720H120Zm60-500h600v-160H180v160Zm220 220h160v-160H400v160Zm0 220h160v-160H400v160ZM180-400h160v-160H180v160Zm440 0h160v-160H620v160ZM180-180h160v-160H180v160Zm440 0h160v-160H620v160Z\"/>\n",
              "  </svg>\n",
              "    </button>\n",
              "\n",
              "  <style>\n",
              "    .colab-df-container {\n",
              "      display:flex;\n",
              "      gap: 12px;\n",
              "    }\n",
              "\n",
              "    .colab-df-convert {\n",
              "      background-color: #E8F0FE;\n",
              "      border: none;\n",
              "      border-radius: 50%;\n",
              "      cursor: pointer;\n",
              "      display: none;\n",
              "      fill: #1967D2;\n",
              "      height: 32px;\n",
              "      padding: 0 0 0 0;\n",
              "      width: 32px;\n",
              "    }\n",
              "\n",
              "    .colab-df-convert:hover {\n",
              "      background-color: #E2EBFA;\n",
              "      box-shadow: 0px 1px 2px rgba(60, 64, 67, 0.3), 0px 1px 3px 1px rgba(60, 64, 67, 0.15);\n",
              "      fill: #174EA6;\n",
              "    }\n",
              "\n",
              "    .colab-df-buttons div {\n",
              "      margin-bottom: 4px;\n",
              "    }\n",
              "\n",
              "    [theme=dark] .colab-df-convert {\n",
              "      background-color: #3B4455;\n",
              "      fill: #D2E3FC;\n",
              "    }\n",
              "\n",
              "    [theme=dark] .colab-df-convert:hover {\n",
              "      background-color: #434B5C;\n",
              "      box-shadow: 0px 1px 3px 1px rgba(0, 0, 0, 0.15);\n",
              "      filter: drop-shadow(0px 1px 2px rgba(0, 0, 0, 0.3));\n",
              "      fill: #FFFFFF;\n",
              "    }\n",
              "  </style>\n",
              "\n",
              "    <script>\n",
              "      const buttonEl =\n",
              "        document.querySelector('#df-cb94a750-779e-40a9-9712-cc5210cbb235 button.colab-df-convert');\n",
              "      buttonEl.style.display =\n",
              "        google.colab.kernel.accessAllowed ? 'block' : 'none';\n",
              "\n",
              "      async function convertToInteractive(key) {\n",
              "        const element = document.querySelector('#df-cb94a750-779e-40a9-9712-cc5210cbb235');\n",
              "        const dataTable =\n",
              "          await google.colab.kernel.invokeFunction('convertToInteractive',\n",
              "                                                    [key], {});\n",
              "        if (!dataTable) return;\n",
              "\n",
              "        const docLinkHtml = 'Like what you see? Visit the ' +\n",
              "          '<a target=\"_blank\" href=https://colab.research.google.com/notebooks/data_table.ipynb>data table notebook</a>'\n",
              "          + ' to learn more about interactive tables.';\n",
              "        element.innerHTML = '';\n",
              "        dataTable['output_type'] = 'display_data';\n",
              "        await google.colab.output.renderOutput(dataTable, element);\n",
              "        const docLink = document.createElement('div');\n",
              "        docLink.innerHTML = docLinkHtml;\n",
              "        element.appendChild(docLink);\n",
              "      }\n",
              "    </script>\n",
              "  </div>\n",
              "\n",
              "\n",
              "<div id=\"df-28792ad6-2599-43b5-b3eb-605145b1b53c\">\n",
              "  <button class=\"colab-df-quickchart\" onclick=\"quickchart('df-28792ad6-2599-43b5-b3eb-605145b1b53c')\"\n",
              "            title=\"Suggest charts\"\n",
              "            style=\"display:none;\">\n",
              "\n",
              "<svg xmlns=\"http://www.w3.org/2000/svg\" height=\"24px\"viewBox=\"0 0 24 24\"\n",
              "     width=\"24px\">\n",
              "    <g>\n",
              "        <path d=\"M19 3H5c-1.1 0-2 .9-2 2v14c0 1.1.9 2 2 2h14c1.1 0 2-.9 2-2V5c0-1.1-.9-2-2-2zM9 17H7v-7h2v7zm4 0h-2V7h2v10zm4 0h-2v-4h2v4z\"/>\n",
              "    </g>\n",
              "</svg>\n",
              "  </button>\n",
              "\n",
              "<style>\n",
              "  .colab-df-quickchart {\n",
              "      --bg-color: #E8F0FE;\n",
              "      --fill-color: #1967D2;\n",
              "      --hover-bg-color: #E2EBFA;\n",
              "      --hover-fill-color: #174EA6;\n",
              "      --disabled-fill-color: #AAA;\n",
              "      --disabled-bg-color: #DDD;\n",
              "  }\n",
              "\n",
              "  [theme=dark] .colab-df-quickchart {\n",
              "      --bg-color: #3B4455;\n",
              "      --fill-color: #D2E3FC;\n",
              "      --hover-bg-color: #434B5C;\n",
              "      --hover-fill-color: #FFFFFF;\n",
              "      --disabled-bg-color: #3B4455;\n",
              "      --disabled-fill-color: #666;\n",
              "  }\n",
              "\n",
              "  .colab-df-quickchart {\n",
              "    background-color: var(--bg-color);\n",
              "    border: none;\n",
              "    border-radius: 50%;\n",
              "    cursor: pointer;\n",
              "    display: none;\n",
              "    fill: var(--fill-color);\n",
              "    height: 32px;\n",
              "    padding: 0;\n",
              "    width: 32px;\n",
              "  }\n",
              "\n",
              "  .colab-df-quickchart:hover {\n",
              "    background-color: var(--hover-bg-color);\n",
              "    box-shadow: 0 1px 2px rgba(60, 64, 67, 0.3), 0 1px 3px 1px rgba(60, 64, 67, 0.15);\n",
              "    fill: var(--button-hover-fill-color);\n",
              "  }\n",
              "\n",
              "  .colab-df-quickchart-complete:disabled,\n",
              "  .colab-df-quickchart-complete:disabled:hover {\n",
              "    background-color: var(--disabled-bg-color);\n",
              "    fill: var(--disabled-fill-color);\n",
              "    box-shadow: none;\n",
              "  }\n",
              "\n",
              "  .colab-df-spinner {\n",
              "    border: 2px solid var(--fill-color);\n",
              "    border-color: transparent;\n",
              "    border-bottom-color: var(--fill-color);\n",
              "    animation:\n",
              "      spin 1s steps(1) infinite;\n",
              "  }\n",
              "\n",
              "  @keyframes spin {\n",
              "    0% {\n",
              "      border-color: transparent;\n",
              "      border-bottom-color: var(--fill-color);\n",
              "      border-left-color: var(--fill-color);\n",
              "    }\n",
              "    20% {\n",
              "      border-color: transparent;\n",
              "      border-left-color: var(--fill-color);\n",
              "      border-top-color: var(--fill-color);\n",
              "    }\n",
              "    30% {\n",
              "      border-color: transparent;\n",
              "      border-left-color: var(--fill-color);\n",
              "      border-top-color: var(--fill-color);\n",
              "      border-right-color: var(--fill-color);\n",
              "    }\n",
              "    40% {\n",
              "      border-color: transparent;\n",
              "      border-right-color: var(--fill-color);\n",
              "      border-top-color: var(--fill-color);\n",
              "    }\n",
              "    60% {\n",
              "      border-color: transparent;\n",
              "      border-right-color: var(--fill-color);\n",
              "    }\n",
              "    80% {\n",
              "      border-color: transparent;\n",
              "      border-right-color: var(--fill-color);\n",
              "      border-bottom-color: var(--fill-color);\n",
              "    }\n",
              "    90% {\n",
              "      border-color: transparent;\n",
              "      border-bottom-color: var(--fill-color);\n",
              "    }\n",
              "  }\n",
              "</style>\n",
              "\n",
              "  <script>\n",
              "    async function quickchart(key) {\n",
              "      const quickchartButtonEl =\n",
              "        document.querySelector('#' + key + ' button');\n",
              "      quickchartButtonEl.disabled = true;  // To prevent multiple clicks.\n",
              "      quickchartButtonEl.classList.add('colab-df-spinner');\n",
              "      try {\n",
              "        const charts = await google.colab.kernel.invokeFunction(\n",
              "            'suggestCharts', [key], {});\n",
              "      } catch (error) {\n",
              "        console.error('Error during call to suggestCharts:', error);\n",
              "      }\n",
              "      quickchartButtonEl.classList.remove('colab-df-spinner');\n",
              "      quickchartButtonEl.classList.add('colab-df-quickchart-complete');\n",
              "    }\n",
              "    (() => {\n",
              "      let quickchartButtonEl =\n",
              "        document.querySelector('#df-28792ad6-2599-43b5-b3eb-605145b1b53c button');\n",
              "      quickchartButtonEl.style.display =\n",
              "        google.colab.kernel.accessAllowed ? 'block' : 'none';\n",
              "    })();\n",
              "  </script>\n",
              "</div>\n",
              "\n",
              "  <div id=\"id_101cf976-5235-446b-9a47-b06b4b4f0afe\">\n",
              "    <style>\n",
              "      .colab-df-generate {\n",
              "        background-color: #E8F0FE;\n",
              "        border: none;\n",
              "        border-radius: 50%;\n",
              "        cursor: pointer;\n",
              "        display: none;\n",
              "        fill: #1967D2;\n",
              "        height: 32px;\n",
              "        padding: 0 0 0 0;\n",
              "        width: 32px;\n",
              "      }\n",
              "\n",
              "      .colab-df-generate:hover {\n",
              "        background-color: #E2EBFA;\n",
              "        box-shadow: 0px 1px 2px rgba(60, 64, 67, 0.3), 0px 1px 3px 1px rgba(60, 64, 67, 0.15);\n",
              "        fill: #174EA6;\n",
              "      }\n",
              "\n",
              "      [theme=dark] .colab-df-generate {\n",
              "        background-color: #3B4455;\n",
              "        fill: #D2E3FC;\n",
              "      }\n",
              "\n",
              "      [theme=dark] .colab-df-generate:hover {\n",
              "        background-color: #434B5C;\n",
              "        box-shadow: 0px 1px 3px 1px rgba(0, 0, 0, 0.15);\n",
              "        filter: drop-shadow(0px 1px 2px rgba(0, 0, 0, 0.3));\n",
              "        fill: #FFFFFF;\n",
              "      }\n",
              "    </style>\n",
              "    <button class=\"colab-df-generate\" onclick=\"generateWithVariable('df')\"\n",
              "            title=\"Generate code using this dataframe.\"\n",
              "            style=\"display:none;\">\n",
              "\n",
              "  <svg xmlns=\"http://www.w3.org/2000/svg\" height=\"24px\"viewBox=\"0 0 24 24\"\n",
              "       width=\"24px\">\n",
              "    <path d=\"M7,19H8.4L18.45,9,17,7.55,7,17.6ZM5,21V16.75L18.45,3.32a2,2,0,0,1,2.83,0l1.4,1.43a1.91,1.91,0,0,1,.58,1.4,1.91,1.91,0,0,1-.58,1.4L9.25,21ZM18.45,9,17,7.55Zm-12,3A5.31,5.31,0,0,0,4.9,8.1,5.31,5.31,0,0,0,1,6.5,5.31,5.31,0,0,0,4.9,4.9,5.31,5.31,0,0,0,6.5,1,5.31,5.31,0,0,0,8.1,4.9,5.31,5.31,0,0,0,12,6.5,5.46,5.46,0,0,0,6.5,12Z\"/>\n",
              "  </svg>\n",
              "    </button>\n",
              "    <script>\n",
              "      (() => {\n",
              "      const buttonEl =\n",
              "        document.querySelector('#id_101cf976-5235-446b-9a47-b06b4b4f0afe button.colab-df-generate');\n",
              "      buttonEl.style.display =\n",
              "        google.colab.kernel.accessAllowed ? 'block' : 'none';\n",
              "\n",
              "      buttonEl.onclick = () => {\n",
              "        google.colab.notebook.generateWithVariable('df');\n",
              "      }\n",
              "      })();\n",
              "    </script>\n",
              "  </div>\n",
              "\n",
              "    </div>\n",
              "  </div>\n"
            ],
            "application/vnd.google.colaboratory.intrinsic+json": {
              "type": "dataframe",
              "variable_name": "df",
              "summary": "{\n  \"name\": \"df\",\n  \"rows\": 870,\n  \"fields\": [\n    {\n      \"column\": \"guid\",\n      \"properties\": {\n        \"dtype\": \"string\",\n        \"num_unique_values\": 870,\n        \"samples\": [\n          \"e56cc9bfd61bda3d4d334d79cf633b23\",\n          \"c90410416b05af4e43da24249ff23a8a\",\n          \"6a7fa2fb009dbe69065ccbc6f0dc2698\"\n        ],\n        \"semantic_type\": \"\",\n        \"description\": \"\"\n      }\n    },\n    {\n      \"column\": \"title\",\n      \"properties\": {\n        \"dtype\": \"string\",\n        \"num_unique_values\": 841,\n        \"samples\": [\n          \"Palestinian baby rescued from mother\\u2019s womb dies in Gaza hospital\",\n          \"Jack Draper finds positives despite humbling by Hurkacz at Madrid Open\",\n          \"More arrests as US campus protests continue to spread\"\n        ],\n        \"semantic_type\": \"\",\n        \"description\": \"\"\n      }\n    },\n    {\n      \"column\": \"description\",\n      \"properties\": {\n        \"dtype\": \"string\",\n        \"num_unique_values\": 845,\n        \"samples\": [\n          \"New rules are designed to eliminate fossil-fuel power plants. Energy scarcity is sure to result.\",\n          \"Trial will see more questions for publisher following his testimony about \\u2018catch and kill\\u2019 schemes to buy up negative storiesMy colleague Sam Levine was at the Manhattan courthouse yesterday to see Pecker\\u2019s testimony firsthand. Here are his main takeaways:Welcome back.Bove traced Pecker\\u2019s long relationship with Trump, showing how he helped his friend long before the presidential election. Pecker spoke about how he gave Trump a heads up about a negative story about Trump\\u2019s then wife, Marla Maples.Trump addressed the media as he left the courtroom, describing Pecker\\u2019s testimony as \\u201cbreathtaking and amazing\\u201d. \\u201cThis is a trial that should\\u2019ve never happened, this is a case that should\\u2019ve never been filed and it was really an incredible, an incredible day,\\u201d he told reporters.Pecker said he agreed to buy a story from the Playboy model Karen McDougal specifically to bury it so that it did not \\u201cembarrass or hurt the [Trump] campaign\\u201d. He said a $150,000 payment he agreed to make to McDougal in August 2016 was so his publication could \\u201ckill\\u201d McDougal\\u2019s story about a 10-month affair she says she had with Trump a decade earlier. The jury was shown records of the $150,000 payment, including an invoice from McDougal\\u2019s lawyer.Pecker said Trump called him for advice after he became a presidential candidate, telling him \\u201cKaren is a nice girl\\u201d, and that he was worried news of the affair would hurt his campaign. \\u201cI think you should buy the story and take it off the market,\\u201d Pecker recalled telling Trump.Pecker said he worked with the former National Enquirer editor-in-chief, Dylan Howard, and Trump\\u2019s lawyer Michael Cohen to facilitate the payment. Pecker admitted that the goal of the paper\\u2019s publisher American Media Inc (AMI) was to try to prevent the story from interfering with the Trump campaign, and that he was concerned the payment could violate federal campaign finance law.But Pecker said things turned sour when he ultimately backed out of the agreement. Pecker confirmed that AMI consulted with an election law attorney, and that Cohen was \\u201cvery, very angry, screaming basically\\u201d about it.Pecker said he received a frantic call from Howard in early October 2016, saying Stormy Daniels was trying to sell a story about her sexual relationship with Trump. He said Howard claimed Daniels wanted $120,000 for the story. Pecker said he did not want to be involved with a porn star, and that Cohen told him \\u201cthe boss will be very angry with you\\u201d.Prosecutor Joshua Steinglass repeatedly tied Trump\\u2019s motive for quashing the story to protecting his presidential campaign. The prosecution\\u2019s case is that it was interference in the 2016 election, which Trump won. \\u201cI made the assumption that his concern was the campaign,\\u201d Pecker said when asked if Trump ever expressed any concern for his wife and children. Continue reading...\",\n          \"Stocks and government bonds fell sharply after fresh data showed the U.S. economy slowed in the first quarter.\"\n        ],\n        \"semantic_type\": \"\",\n        \"description\": \"\"\n      }\n    },\n    {\n      \"column\": \"venue\",\n      \"properties\": {\n        \"dtype\": \"category\",\n        \"num_unique_values\": 12,\n        \"samples\": [\n          \"Washington Post\",\n          \"Times of India\",\n          \"BBC\"\n        ],\n        \"semantic_type\": \"\",\n        \"description\": \"\"\n      }\n    },\n    {\n      \"column\": \"url\",\n      \"properties\": {\n        \"dtype\": \"string\",\n        \"num_unique_values\": 851,\n        \"samples\": [\n          \"https://www.france24.com/en/europe/20240425-us-secretly-sent-ukraine-long-range-atacms-missiles\",\n          \"https://www.wsj.com/articles/blinken-meets-with-xi-as-u-s-pressures-china-to-end-support-for-russia-96e831e0\",\n          \"https://www.wsj.com/business/retail/remy-cointreau-sales-decline-as-u-s-woes-persist-e0cad36c\"\n        ],\n        \"semantic_type\": \"\",\n        \"description\": \"\"\n      }\n    },\n    {\n      \"column\": \"published_at\",\n      \"properties\": {\n        \"dtype\": \"string\",\n        \"num_unique_values\": 783,\n        \"samples\": [\n          \"2024-04-25 19:17:00+00\",\n          \"2024-04-27 22:50:47+00\",\n          \"2024-04-26 09:11:17+00\"\n        ],\n        \"semantic_type\": \"\",\n        \"description\": \"\"\n      }\n    },\n    {\n      \"column\": \"updated_at\",\n      \"properties\": {\n        \"dtype\": \"object\",\n        \"num_unique_values\": 870,\n        \"samples\": [\n          \"2024-04-27 01:32:46.027846+00\",\n          \"2024-04-26 20:03:01.215267+00\",\n          \"2024-04-27 17:32:52.759049+00\"\n        ],\n        \"semantic_type\": \"\",\n        \"description\": \"\"\n      }\n    },\n    {\n      \"column\": \"cluster\",\n      \"properties\": {\n        \"dtype\": \"category\",\n        \"num_unique_values\": 12,\n        \"samples\": [\n          \"0\",\n          \"3\",\n          \"6\"\n        ],\n        \"semantic_type\": \"\",\n        \"description\": \"\"\n      }\n    },\n    {\n      \"column\": \"cluster_name\",\n      \"properties\": {\n        \"dtype\": \"category\",\n        \"num_unique_values\": 53,\n        \"samples\": [\n          \"Tennis Courtships Heat Up the Big Screen\",\n          \"Hamas Studies Israeli Truce Proposals\",\n          \"Tornadoes Bring Destruction Across America\"\n        ],\n        \"semantic_type\": \"\",\n        \"description\": \"\"\n      }\n    }\n  ]\n}"
            }
          },
          "metadata": {},
          "execution_count": 26
        }
      ]
    },
    {
      "cell_type": "markdown",
      "source": [
        "# Visualize the cluster result using UMAP"
      ],
      "metadata": {
        "id": "F8dNpsvz5Pt4"
      }
    },
    {
      "cell_type": "code",
      "source": [
        "umap = UMAP(n_components=2,  n_neighbors=80, min_dist=0.2)\n",
        "\n",
        "df_umap = (\n",
        "    pd.DataFrame(umap.fit_transform(np.array(embeddings)), columns=['x', 'y'])\n",
        "    .assign(cluster=lambda df: hdb.labels_.astype(str))\n",
        "    .query('cluster != \"-1\"')\n",
        "    .sort_values(by='cluster')\n",
        ")\n",
        "\n",
        "fig = px.scatter(df_umap, x='x', y='y', color='cluster')\n",
        "fig.show()"
      ],
      "metadata": {
        "id": "sKOmAZ9f5Mbv",
        "colab": {
          "base_uri": "https://localhost:8080/",
          "height": 611
        },
        "outputId": "4f84a92f-5ad6-4e60-a535-62e72347f0b8"
      },
      "execution_count": 27,
      "outputs": [
        {
          "output_type": "stream",
          "name": "stderr",
          "text": [
            "/usr/local/lib/python3.11/dist-packages/sklearn/utils/deprecation.py:151: FutureWarning:\n",
            "\n",
            "'force_all_finite' was renamed to 'ensure_all_finite' in 1.6 and will be removed in 1.8.\n",
            "\n"
          ]
        },
        {
          "output_type": "display_data",
          "data": {
            "text/html": [
              "<html>\n",
              "<head><meta charset=\"utf-8\" /></head>\n",
              "<body>\n",
              "    <div>            <script src=\"https://cdnjs.cloudflare.com/ajax/libs/mathjax/2.7.5/MathJax.js?config=TeX-AMS-MML_SVG\"></script><script type=\"text/javascript\">if (window.MathJax && window.MathJax.Hub && window.MathJax.Hub.Config) {window.MathJax.Hub.Config({SVG: {font: \"STIX-Web\"}});}</script>                <script type=\"text/javascript\">window.PlotlyConfig = {MathJaxConfig: 'local'};</script>\n",
              "        <script charset=\"utf-8\" src=\"https://cdn.plot.ly/plotly-2.35.2.min.js\"></script>                <div id=\"7d1352c9-23af-4f10-8f97-11a8f0202cf9\" class=\"plotly-graph-div\" style=\"height:525px; width:100%;\"></div>            <script type=\"text/javascript\">                                    window.PLOTLYENV=window.PLOTLYENV || {};                                    if (document.getElementById(\"7d1352c9-23af-4f10-8f97-11a8f0202cf9\")) {                    Plotly.newPlot(                        \"7d1352c9-23af-4f10-8f97-11a8f0202cf9\",                        [{\"hovertemplate\":\"cluster=0\\u003cbr\\u003ex=%{x}\\u003cbr\\u003ey=%{y}\\u003cextra\\u003e\\u003c\\u002fextra\\u003e\",\"legendgroup\":\"0\",\"marker\":{\"color\":\"#636efa\",\"symbol\":\"circle\"},\"mode\":\"markers\",\"name\":\"0\",\"orientation\":\"v\",\"showlegend\":true,\"x\":[16.56068,16.075762,16.515936,16.156681,16.31034,16.691347],\"xaxis\":\"x\",\"y\":[10.994723,10.825192,11.495825,10.912968,11.045052,11.492638],\"yaxis\":\"y\",\"type\":\"scatter\"},{\"hovertemplate\":\"cluster=1\\u003cbr\\u003ex=%{x}\\u003cbr\\u003ey=%{y}\\u003cextra\\u003e\\u003c\\u002fextra\\u003e\",\"legendgroup\":\"1\",\"marker\":{\"color\":\"#EF553B\",\"symbol\":\"circle\"},\"mode\":\"markers\",\"name\":\"1\",\"orientation\":\"v\",\"showlegend\":true,\"x\":[16.84949,17.22353,16.933355,16.861294,16.518032,16.888895,16.809544,16.950285,16.730797,16.768942,16.597813,17.074633,16.730467,16.635683],\"xaxis\":\"x\",\"y\":[10.12874,10.856149,10.48593,10.2316885,10.382794,10.304208,10.309569,10.365139,10.520258,10.347901,10.517734,10.412258,10.348966,10.509554],\"yaxis\":\"y\",\"type\":\"scatter\"},{\"hovertemplate\":\"cluster=10\\u003cbr\\u003ex=%{x}\\u003cbr\\u003ey=%{y}\\u003cextra\\u003e\\u003c\\u002fextra\\u003e\",\"legendgroup\":\"10\",\"marker\":{\"color\":\"#00cc96\",\"symbol\":\"circle\"},\"mode\":\"markers\",\"name\":\"10\",\"orientation\":\"v\",\"showlegend\":true,\"x\":[19.09315,18.88047,18.947666,18.907602,19.028,18.96969,19.031963,18.916742,19.281507,18.969143,19.066267,15.209962,19.208776,19.15274,19.029715,19.092985,19.24126,19.10525,18.79332,19.143179,18.863203,19.178642,19.191776,19.208815,18.912882],\"xaxis\":\"x\",\"y\":[15.339494,15.577677,15.49765,15.561713,15.480774,15.392141,15.292229,15.146768,15.21775,15.473031,15.565088,16.475014,15.277996,15.429471,15.307553,15.418341,15.267691,15.325629,15.511824,15.4033985,15.367148,15.391104,15.478418,15.51656,15.566834],\"yaxis\":\"y\",\"type\":\"scatter\"},{\"hovertemplate\":\"cluster=2\\u003cbr\\u003ex=%{x}\\u003cbr\\u003ey=%{y}\\u003cextra\\u003e\\u003c\\u002fextra\\u003e\",\"legendgroup\":\"2\",\"marker\":{\"color\":\"#ab63fa\",\"symbol\":\"circle\"},\"mode\":\"markers\",\"name\":\"2\",\"orientation\":\"v\",\"showlegend\":true,\"x\":[15.999132,16.078146,15.874528,15.737555],\"xaxis\":\"x\",\"y\":[9.72395,9.881718,9.964843,9.834027],\"yaxis\":\"y\",\"type\":\"scatter\"},{\"hovertemplate\":\"cluster=3\\u003cbr\\u003ex=%{x}\\u003cbr\\u003ey=%{y}\\u003cextra\\u003e\\u003c\\u002fextra\\u003e\",\"legendgroup\":\"3\",\"marker\":{\"color\":\"#FFA15A\",\"symbol\":\"circle\"},\"mode\":\"markers\",\"name\":\"3\",\"orientation\":\"v\",\"showlegend\":true,\"x\":[12.924707,12.860248,12.647395,12.837021,12.614851,13.083275,12.847499,12.715316,12.896234,12.753546,12.5159855,13.125031,13.108825,12.7083435,13.009796,12.837566,12.911731,12.936754,12.931279,13.067088,12.818279,13.263831,12.584317,12.773714,12.5715475,12.771994,12.7698345,12.717808,12.579078,12.715278,12.6719475,13.029922,12.601622,12.561685,13.139247,13.051219,12.929536,12.547793,12.864519],\"xaxis\":\"x\",\"y\":[11.334788,11.069237,11.167283,11.16604,11.381425,11.610603,11.856566,11.340167,11.13434,11.108217,11.32367,11.375003,11.393937,11.672103,11.240734,11.584017,10.974405,11.155272,11.351716,11.3553,11.100873,11.091953,11.28548,11.7942095,11.145339,11.320931,11.695324,11.183125,11.3966055,11.605105,11.507958,11.360432,11.292403,11.202451,11.142135,11.488993,11.117052,11.33243,11.549877],\"yaxis\":\"y\",\"type\":\"scatter\"},{\"hovertemplate\":\"cluster=4\\u003cbr\\u003ex=%{x}\\u003cbr\\u003ey=%{y}\\u003cextra\\u003e\\u003c\\u002fextra\\u003e\",\"legendgroup\":\"4\",\"marker\":{\"color\":\"#19d3f3\",\"symbol\":\"circle\"},\"mode\":\"markers\",\"name\":\"4\",\"orientation\":\"v\",\"showlegend\":true,\"x\":[13.426438,13.591192,13.444964,13.507699],\"xaxis\":\"x\",\"y\":[13.325443,13.228025,13.376837,13.25282],\"yaxis\":\"y\",\"type\":\"scatter\"},{\"hovertemplate\":\"cluster=5\\u003cbr\\u003ex=%{x}\\u003cbr\\u003ey=%{y}\\u003cextra\\u003e\\u003c\\u002fextra\\u003e\",\"legendgroup\":\"5\",\"marker\":{\"color\":\"#FF6692\",\"symbol\":\"circle\"},\"mode\":\"markers\",\"name\":\"5\",\"orientation\":\"v\",\"showlegend\":true,\"x\":[17.96944,17.838396,17.8672,17.858519,18.003078,17.818552,17.87047,17.681654,17.591967,17.694199,17.784914],\"xaxis\":\"x\",\"y\":[11.811253,11.62981,11.649403,11.485035,11.746671,11.572704,11.558423,11.266929,11.228661,11.598964,11.552362],\"yaxis\":\"y\",\"type\":\"scatter\"},{\"hovertemplate\":\"cluster=6\\u003cbr\\u003ex=%{x}\\u003cbr\\u003ey=%{y}\\u003cextra\\u003e\\u003c\\u002fextra\\u003e\",\"legendgroup\":\"6\",\"marker\":{\"color\":\"#B6E880\",\"symbol\":\"circle\"},\"mode\":\"markers\",\"name\":\"6\",\"orientation\":\"v\",\"showlegend\":true,\"x\":[17.281725,17.911247,17.71486,17.949743,17.729288,17.488628,17.785194,17.61413,17.628416,17.798891,17.657446,17.751842,17.870167,17.414385,17.447905],\"xaxis\":\"x\",\"y\":[13.46688,12.9939375,13.059425,13.015661,13.179696,13.252594,12.949374,13.045349,13.0743065,13.037708,12.964414,12.95123,13.123493,13.317722,13.128844],\"yaxis\":\"y\",\"type\":\"scatter\"},{\"hovertemplate\":\"cluster=7\\u003cbr\\u003ex=%{x}\\u003cbr\\u003ey=%{y}\\u003cextra\\u003e\\u003c\\u002fextra\\u003e\",\"legendgroup\":\"7\",\"marker\":{\"color\":\"#FF97FF\",\"symbol\":\"circle\"},\"mode\":\"markers\",\"name\":\"7\",\"orientation\":\"v\",\"showlegend\":true,\"x\":[18.92755,19.076975,18.863634,19.13176,18.850122,18.944063,18.981995,18.829954,17.987364,18.95268,18.76274,18.783997,18.796646,18.94295,19.086063,18.976963,18.761238,18.987085,17.95378,19.036655,18.02251,18.900896,18.917732,18.853167,19.042112],\"xaxis\":\"x\",\"y\":[13.1644125,13.065634,12.966599,13.021353,13.050252,13.042277,13.063411,12.927072,13.507414,12.956922,12.989918,13.040868,13.116306,13.147507,13.205347,13.222054,13.461126,13.052501,13.502325,13.130734,13.473684,13.012298,13.039574,13.091612,13.205137],\"yaxis\":\"y\",\"type\":\"scatter\"},{\"hovertemplate\":\"cluster=8\\u003cbr\\u003ex=%{x}\\u003cbr\\u003ey=%{y}\\u003cextra\\u003e\\u003c\\u002fextra\\u003e\",\"legendgroup\":\"8\",\"marker\":{\"color\":\"#FECB52\",\"symbol\":\"circle\"},\"mode\":\"markers\",\"name\":\"8\",\"orientation\":\"v\",\"showlegend\":true,\"x\":[17.760199,17.57773,18.232338,18.153614,17.999435,17.861654,18.185408,18.097193,17.359047,17.379873,17.674084,18.200241,18.196373,17.4678,18.386631,17.376177,17.64073,17.473305,18.011778,17.288801,18.382738,18.18654,17.939577,18.065094,17.571968,17.622425,17.754158,17.966862,18.325525,14.801002,18.2425,17.887598],\"xaxis\":\"x\",\"y\":[16.797686,16.835512,16.630356,16.543953,16.646126,16.795177,16.309322,16.508825,16.698357,16.650425,16.839846,16.542786,16.56144,16.837048,16.413845,16.555902,16.66618,16.82162,16.829199,16.838371,16.782612,16.677145,16.636732,16.966108,16.811945,16.54572,16.769033,16.749584,16.328917,17.058155,16.230732,16.968246],\"yaxis\":\"y\",\"type\":\"scatter\"},{\"hovertemplate\":\"cluster=9\\u003cbr\\u003ex=%{x}\\u003cbr\\u003ey=%{y}\\u003cextra\\u003e\\u003c\\u002fextra\\u003e\",\"legendgroup\":\"9\",\"marker\":{\"color\":\"#636efa\",\"symbol\":\"circle\"},\"mode\":\"markers\",\"name\":\"9\",\"orientation\":\"v\",\"showlegend\":true,\"x\":[13.731654,13.1867075,12.931584,13.370838,13.48731,13.246785,14.695485,13.185943,13.041487,13.580169,14.729367,13.396939,13.0132475,13.2971,13.642765,13.357217,13.232464,13.192539,13.155804,12.952752,13.435567,13.622474,14.736856,13.192344,13.584637,13.469414,13.357982,14.720021,13.069199,13.7775345,14.060844,13.745111,13.712984,13.392936,14.895748,13.639627,13.386806,13.509705,13.709978,13.598231,13.224423,13.821492,13.213286,13.056777,13.376758,13.475325,13.194497,13.229111],\"xaxis\":\"x\",\"y\":[15.539191,15.928466,15.677757,15.374176,16.18181,16.292652,16.184149,15.655669,15.865239,15.392079,16.5383,16.27741,15.696408,15.507297,15.721418,16.080591,16.076445,15.955029,15.5697155,15.863516,15.614994,16.277126,16.518755,15.661535,15.545088,16.196629,15.546501,16.338741,15.762374,15.478288,15.798234,15.677483,15.470086,15.9841585,16.6208,15.661818,16.209728,15.916943,15.945749,15.992946,15.737785,15.625247,15.902022,15.758503,15.569044,16.061321,16.021053,15.3954115],\"yaxis\":\"y\",\"type\":\"scatter\"}],                        {\"template\":{\"data\":{\"histogram2dcontour\":[{\"type\":\"histogram2dcontour\",\"colorbar\":{\"outlinewidth\":0,\"ticks\":\"\"},\"colorscale\":[[0.0,\"#0d0887\"],[0.1111111111111111,\"#46039f\"],[0.2222222222222222,\"#7201a8\"],[0.3333333333333333,\"#9c179e\"],[0.4444444444444444,\"#bd3786\"],[0.5555555555555556,\"#d8576b\"],[0.6666666666666666,\"#ed7953\"],[0.7777777777777778,\"#fb9f3a\"],[0.8888888888888888,\"#fdca26\"],[1.0,\"#f0f921\"]]}],\"choropleth\":[{\"type\":\"choropleth\",\"colorbar\":{\"outlinewidth\":0,\"ticks\":\"\"}}],\"histogram2d\":[{\"type\":\"histogram2d\",\"colorbar\":{\"outlinewidth\":0,\"ticks\":\"\"},\"colorscale\":[[0.0,\"#0d0887\"],[0.1111111111111111,\"#46039f\"],[0.2222222222222222,\"#7201a8\"],[0.3333333333333333,\"#9c179e\"],[0.4444444444444444,\"#bd3786\"],[0.5555555555555556,\"#d8576b\"],[0.6666666666666666,\"#ed7953\"],[0.7777777777777778,\"#fb9f3a\"],[0.8888888888888888,\"#fdca26\"],[1.0,\"#f0f921\"]]}],\"heatmap\":[{\"type\":\"heatmap\",\"colorbar\":{\"outlinewidth\":0,\"ticks\":\"\"},\"colorscale\":[[0.0,\"#0d0887\"],[0.1111111111111111,\"#46039f\"],[0.2222222222222222,\"#7201a8\"],[0.3333333333333333,\"#9c179e\"],[0.4444444444444444,\"#bd3786\"],[0.5555555555555556,\"#d8576b\"],[0.6666666666666666,\"#ed7953\"],[0.7777777777777778,\"#fb9f3a\"],[0.8888888888888888,\"#fdca26\"],[1.0,\"#f0f921\"]]}],\"heatmapgl\":[{\"type\":\"heatmapgl\",\"colorbar\":{\"outlinewidth\":0,\"ticks\":\"\"},\"colorscale\":[[0.0,\"#0d0887\"],[0.1111111111111111,\"#46039f\"],[0.2222222222222222,\"#7201a8\"],[0.3333333333333333,\"#9c179e\"],[0.4444444444444444,\"#bd3786\"],[0.5555555555555556,\"#d8576b\"],[0.6666666666666666,\"#ed7953\"],[0.7777777777777778,\"#fb9f3a\"],[0.8888888888888888,\"#fdca26\"],[1.0,\"#f0f921\"]]}],\"contourcarpet\":[{\"type\":\"contourcarpet\",\"colorbar\":{\"outlinewidth\":0,\"ticks\":\"\"}}],\"contour\":[{\"type\":\"contour\",\"colorbar\":{\"outlinewidth\":0,\"ticks\":\"\"},\"colorscale\":[[0.0,\"#0d0887\"],[0.1111111111111111,\"#46039f\"],[0.2222222222222222,\"#7201a8\"],[0.3333333333333333,\"#9c179e\"],[0.4444444444444444,\"#bd3786\"],[0.5555555555555556,\"#d8576b\"],[0.6666666666666666,\"#ed7953\"],[0.7777777777777778,\"#fb9f3a\"],[0.8888888888888888,\"#fdca26\"],[1.0,\"#f0f921\"]]}],\"surface\":[{\"type\":\"surface\",\"colorbar\":{\"outlinewidth\":0,\"ticks\":\"\"},\"colorscale\":[[0.0,\"#0d0887\"],[0.1111111111111111,\"#46039f\"],[0.2222222222222222,\"#7201a8\"],[0.3333333333333333,\"#9c179e\"],[0.4444444444444444,\"#bd3786\"],[0.5555555555555556,\"#d8576b\"],[0.6666666666666666,\"#ed7953\"],[0.7777777777777778,\"#fb9f3a\"],[0.8888888888888888,\"#fdca26\"],[1.0,\"#f0f921\"]]}],\"mesh3d\":[{\"type\":\"mesh3d\",\"colorbar\":{\"outlinewidth\":0,\"ticks\":\"\"}}],\"scatter\":[{\"fillpattern\":{\"fillmode\":\"overlay\",\"size\":10,\"solidity\":0.2},\"type\":\"scatter\"}],\"parcoords\":[{\"type\":\"parcoords\",\"line\":{\"colorbar\":{\"outlinewidth\":0,\"ticks\":\"\"}}}],\"scatterpolargl\":[{\"type\":\"scatterpolargl\",\"marker\":{\"colorbar\":{\"outlinewidth\":0,\"ticks\":\"\"}}}],\"bar\":[{\"error_x\":{\"color\":\"#2a3f5f\"},\"error_y\":{\"color\":\"#2a3f5f\"},\"marker\":{\"line\":{\"color\":\"#E5ECF6\",\"width\":0.5},\"pattern\":{\"fillmode\":\"overlay\",\"size\":10,\"solidity\":0.2}},\"type\":\"bar\"}],\"scattergeo\":[{\"type\":\"scattergeo\",\"marker\":{\"colorbar\":{\"outlinewidth\":0,\"ticks\":\"\"}}}],\"scatterpolar\":[{\"type\":\"scatterpolar\",\"marker\":{\"colorbar\":{\"outlinewidth\":0,\"ticks\":\"\"}}}],\"histogram\":[{\"marker\":{\"pattern\":{\"fillmode\":\"overlay\",\"size\":10,\"solidity\":0.2}},\"type\":\"histogram\"}],\"scattergl\":[{\"type\":\"scattergl\",\"marker\":{\"colorbar\":{\"outlinewidth\":0,\"ticks\":\"\"}}}],\"scatter3d\":[{\"type\":\"scatter3d\",\"line\":{\"colorbar\":{\"outlinewidth\":0,\"ticks\":\"\"}},\"marker\":{\"colorbar\":{\"outlinewidth\":0,\"ticks\":\"\"}}}],\"scattermapbox\":[{\"type\":\"scattermapbox\",\"marker\":{\"colorbar\":{\"outlinewidth\":0,\"ticks\":\"\"}}}],\"scatterternary\":[{\"type\":\"scatterternary\",\"marker\":{\"colorbar\":{\"outlinewidth\":0,\"ticks\":\"\"}}}],\"scattercarpet\":[{\"type\":\"scattercarpet\",\"marker\":{\"colorbar\":{\"outlinewidth\":0,\"ticks\":\"\"}}}],\"carpet\":[{\"aaxis\":{\"endlinecolor\":\"#2a3f5f\",\"gridcolor\":\"white\",\"linecolor\":\"white\",\"minorgridcolor\":\"white\",\"startlinecolor\":\"#2a3f5f\"},\"baxis\":{\"endlinecolor\":\"#2a3f5f\",\"gridcolor\":\"white\",\"linecolor\":\"white\",\"minorgridcolor\":\"white\",\"startlinecolor\":\"#2a3f5f\"},\"type\":\"carpet\"}],\"table\":[{\"cells\":{\"fill\":{\"color\":\"#EBF0F8\"},\"line\":{\"color\":\"white\"}},\"header\":{\"fill\":{\"color\":\"#C8D4E3\"},\"line\":{\"color\":\"white\"}},\"type\":\"table\"}],\"barpolar\":[{\"marker\":{\"line\":{\"color\":\"#E5ECF6\",\"width\":0.5},\"pattern\":{\"fillmode\":\"overlay\",\"size\":10,\"solidity\":0.2}},\"type\":\"barpolar\"}],\"pie\":[{\"automargin\":true,\"type\":\"pie\"}]},\"layout\":{\"autotypenumbers\":\"strict\",\"colorway\":[\"#636efa\",\"#EF553B\",\"#00cc96\",\"#ab63fa\",\"#FFA15A\",\"#19d3f3\",\"#FF6692\",\"#B6E880\",\"#FF97FF\",\"#FECB52\"],\"font\":{\"color\":\"#2a3f5f\"},\"hovermode\":\"closest\",\"hoverlabel\":{\"align\":\"left\"},\"paper_bgcolor\":\"white\",\"plot_bgcolor\":\"#E5ECF6\",\"polar\":{\"bgcolor\":\"#E5ECF6\",\"angularaxis\":{\"gridcolor\":\"white\",\"linecolor\":\"white\",\"ticks\":\"\"},\"radialaxis\":{\"gridcolor\":\"white\",\"linecolor\":\"white\",\"ticks\":\"\"}},\"ternary\":{\"bgcolor\":\"#E5ECF6\",\"aaxis\":{\"gridcolor\":\"white\",\"linecolor\":\"white\",\"ticks\":\"\"},\"baxis\":{\"gridcolor\":\"white\",\"linecolor\":\"white\",\"ticks\":\"\"},\"caxis\":{\"gridcolor\":\"white\",\"linecolor\":\"white\",\"ticks\":\"\"}},\"coloraxis\":{\"colorbar\":{\"outlinewidth\":0,\"ticks\":\"\"}},\"colorscale\":{\"sequential\":[[0.0,\"#0d0887\"],[0.1111111111111111,\"#46039f\"],[0.2222222222222222,\"#7201a8\"],[0.3333333333333333,\"#9c179e\"],[0.4444444444444444,\"#bd3786\"],[0.5555555555555556,\"#d8576b\"],[0.6666666666666666,\"#ed7953\"],[0.7777777777777778,\"#fb9f3a\"],[0.8888888888888888,\"#fdca26\"],[1.0,\"#f0f921\"]],\"sequentialminus\":[[0.0,\"#0d0887\"],[0.1111111111111111,\"#46039f\"],[0.2222222222222222,\"#7201a8\"],[0.3333333333333333,\"#9c179e\"],[0.4444444444444444,\"#bd3786\"],[0.5555555555555556,\"#d8576b\"],[0.6666666666666666,\"#ed7953\"],[0.7777777777777778,\"#fb9f3a\"],[0.8888888888888888,\"#fdca26\"],[1.0,\"#f0f921\"]],\"diverging\":[[0,\"#8e0152\"],[0.1,\"#c51b7d\"],[0.2,\"#de77ae\"],[0.3,\"#f1b6da\"],[0.4,\"#fde0ef\"],[0.5,\"#f7f7f7\"],[0.6,\"#e6f5d0\"],[0.7,\"#b8e186\"],[0.8,\"#7fbc41\"],[0.9,\"#4d9221\"],[1,\"#276419\"]]},\"xaxis\":{\"gridcolor\":\"white\",\"linecolor\":\"white\",\"ticks\":\"\",\"title\":{\"standoff\":15},\"zerolinecolor\":\"white\",\"automargin\":true,\"zerolinewidth\":2},\"yaxis\":{\"gridcolor\":\"white\",\"linecolor\":\"white\",\"ticks\":\"\",\"title\":{\"standoff\":15},\"zerolinecolor\":\"white\",\"automargin\":true,\"zerolinewidth\":2},\"scene\":{\"xaxis\":{\"backgroundcolor\":\"#E5ECF6\",\"gridcolor\":\"white\",\"linecolor\":\"white\",\"showbackground\":true,\"ticks\":\"\",\"zerolinecolor\":\"white\",\"gridwidth\":2},\"yaxis\":{\"backgroundcolor\":\"#E5ECF6\",\"gridcolor\":\"white\",\"linecolor\":\"white\",\"showbackground\":true,\"ticks\":\"\",\"zerolinecolor\":\"white\",\"gridwidth\":2},\"zaxis\":{\"backgroundcolor\":\"#E5ECF6\",\"gridcolor\":\"white\",\"linecolor\":\"white\",\"showbackground\":true,\"ticks\":\"\",\"zerolinecolor\":\"white\",\"gridwidth\":2}},\"shapedefaults\":{\"line\":{\"color\":\"#2a3f5f\"}},\"annotationdefaults\":{\"arrowcolor\":\"#2a3f5f\",\"arrowhead\":0,\"arrowwidth\":1},\"geo\":{\"bgcolor\":\"white\",\"landcolor\":\"#E5ECF6\",\"subunitcolor\":\"white\",\"showland\":true,\"showlakes\":true,\"lakecolor\":\"white\"},\"title\":{\"x\":0.05},\"mapbox\":{\"style\":\"light\"}}},\"xaxis\":{\"anchor\":\"y\",\"domain\":[0.0,1.0],\"title\":{\"text\":\"x\"}},\"yaxis\":{\"anchor\":\"x\",\"domain\":[0.0,1.0],\"title\":{\"text\":\"y\"}},\"legend\":{\"title\":{\"text\":\"cluster\"},\"tracegroupgap\":0},\"margin\":{\"t\":60}},                        {\"responsive\": true}                    ).then(function(){\n",
              "                            \n",
              "var gd = document.getElementById('7d1352c9-23af-4f10-8f97-11a8f0202cf9');\n",
              "var x = new MutationObserver(function (mutations, observer) {{\n",
              "        var display = window.getComputedStyle(gd).display;\n",
              "        if (!display || display === 'none') {{\n",
              "            console.log([gd, 'removed!']);\n",
              "            Plotly.purge(gd);\n",
              "            observer.disconnect();\n",
              "        }}\n",
              "}});\n",
              "\n",
              "// Listen for the removal of the full notebook cells\n",
              "var notebookContainer = gd.closest('#notebook-container');\n",
              "if (notebookContainer) {{\n",
              "    x.observe(notebookContainer, {childList: true});\n",
              "}}\n",
              "\n",
              "// Listen for the clearing of the current output cell\n",
              "var outputEl = gd.closest('.output');\n",
              "if (outputEl) {{\n",
              "    x.observe(outputEl, {childList: true});\n",
              "}}\n",
              "\n",
              "                        })                };                            </script>        </div>\n",
              "</body>\n",
              "</html>"
            ]
          },
          "metadata": {}
        }
      ]
    },
    {
      "cell_type": "markdown",
      "source": [
        "# Generate Cluster Titles using LLM\n"
      ],
      "metadata": {
        "id": "SMbTTpMAJ709"
      }
    },
    {
      "cell_type": "code",
      "source": [
        "#modelid=\"llama3.1:8b-instruct-q4_0\"\n",
        "#modelid=\"llama3.1:8b-text-q4_0\"\n",
        "modelid=\"llama3.1\"\n",
        "\n",
        "get_ipython().system_raw(\"curl -fsSL https://ollama.com/install.sh | sh\")\n",
        "get_ipython().system_raw(\"ollama serve &\")\n",
        "get_ipython().system_raw(f\"ollama pull {modelid}\")"
      ],
      "metadata": {
        "id": "VlWYaGo_vZJ3"
      },
      "execution_count": 6,
      "outputs": []
    },
    {
      "cell_type": "markdown",
      "source": [
        "curl -fsSL https://ollama.com/install.sh | sh\n",
        "\n",
        "then we can pull and start the llama3.1 model\n",
        "\n",
        "ollama serve & ollama pull llama3.1:8b-instruct-fp16"
      ],
      "metadata": {
        "id": "oUqys7OxKXod"
      }
    },
    {
      "cell_type": "code",
      "source": [
        "from langchain_community.llms import Ollama\n",
        "from langchain_core.prompts import PromptTemplate, ChatPromptTemplate\n",
        "from tqdm import tqdm\n",
        "\n",
        "# Initialize an instance of the Ollama model\n",
        "llm = Ollama(model=modelid)\n",
        "# Invoke the model to generate responses\n",
        "#response = llm.invoke(\"What is the capital of Florida?\")\n",
        "# response = llm.invoke([{\"role\": \"user\", \"content\": \"What is the capital of Florida?\"}])\n",
        "#print(response)\n",
        "\n",
        "\n",
        "prompt_template = ChatPromptTemplate([\n",
        "    (\"system\", \"You're an expert journalist. You're helping me write short but compelling topic titles for groups of news articles.\"),\n",
        "    ( \"user\", '''\n",
        "Write a 4 to 5 word title that summarizes the following articles. Find a common sense in all the articles. Output the first option if you find more then 1 option. Surround the title output with <title></title> tags.\n",
        "\n",
        "ARTICLES:{articles}\n",
        "\n",
        "TOPIC TITLE:\n",
        "''')]\n",
        ")\n",
        "\n",
        "topicTitleChain = prompt_template | llm\n",
        "\n",
        "df[\"cluster_name\"] = \"Uncategorized\"\n",
        "\n",
        "def generate_topic_titles():\n",
        "    result = {}\n",
        "\n",
        "    for c in tqdm(df.query('cluster != \"-1\"').cluster.unique()):\n",
        "        sample_articles = df.query(f\"cluster == '{c}'\").to_dict(orient=\"records\")\n",
        "\n",
        "        articles_str = \"\\n\\n\".join(\n",
        "            [\n",
        "                f\"[{i}] {article['title']}\\n{article['description'][:200]}{'...' if len(article['description']) > 200 else ''}\"\n",
        "                for i, article in enumerate(\n",
        "                    sample_articles, start=1\n",
        "                )\n",
        "            ]\n",
        "        )\n",
        "        topic_title=topicTitleChain.invoke({\"articles\":articles_str},options={\"temperature\": 0.0})\n",
        "        if topic_title.find(\"<title>\")>-1:\n",
        "          topic_title=topic_title.split(\"<title>\")[1].split(\"</title>\")[0].strip()\n",
        "        else:\n",
        "          topic_title=f\"unknown/{c}\"\n",
        "          # print (f\"\\n\\n{articles_str}\\n\\n\")\n",
        "        print (topic_title)\n",
        "        df.loc[df.cluster == c, \"cluster_name\"] = topic_title\n",
        "        result[c]=topic_title\n",
        "    return result\n",
        "\n",
        "topic_titles=generate_topic_titles()\n",
        "topic_titles\n",
        "\n",
        "#c = 6\n",
        "#with pd.option_context(\"display.max_colwidth\", None):\n",
        "#    print(df.query(f\"cluster == '{c}'\").topic_title.values[0])\n",
        "#    display(df.query(f\"cluster == '{c}'\").drop(columns=[\"topic_title\"]).head())"
      ],
      "metadata": {
        "colab": {
          "base_uri": "https://localhost:8080/"
        },
        "id": "NYjTgpcbD9iv",
        "outputId": "557182e1-87b7-44d1-9833-6f545b521c90"
      },
      "execution_count": 28,
      "outputs": [
        {
          "output_type": "stream",
          "name": "stderr",
          "text": [
            "  9%|▉         | 1/11 [00:04<00:47,  4.79s/it]"
          ]
        },
        {
          "output_type": "stream",
          "name": "stdout",
          "text": [
            "Weinstein Conviction Overturned\n"
          ]
        },
        {
          "output_type": "stream",
          "name": "stderr",
          "text": [
            "\r 18%|█▊        | 2/11 [00:20<01:41, 11.28s/it]"
          ]
        },
        {
          "output_type": "stream",
          "name": "stdout",
          "text": [
            "unknown/9\n"
          ]
        },
        {
          "output_type": "stream",
          "name": "stderr",
          "text": [
            "\r 27%|██▋       | 3/11 [00:25<01:05,  8.21s/it]"
          ]
        },
        {
          "output_type": "stream",
          "name": "stdout",
          "text": [
            "Supreme Court Weighs Trump's Immunity\n"
          ]
        },
        {
          "output_type": "stream",
          "name": "stderr",
          "text": [
            "\r 36%|███▋      | 4/11 [00:29<00:46,  6.71s/it]"
          ]
        },
        {
          "output_type": "stream",
          "name": "stdout",
          "text": [
            "US Boosts Military Aid to Ukraine\n"
          ]
        },
        {
          "output_type": "stream",
          "name": "stderr",
          "text": [
            "\r 45%|████▌     | 5/11 [00:31<00:29,  4.98s/it]"
          ]
        },
        {
          "output_type": "stream",
          "name": "stdout",
          "text": [
            "Tensions Rise Between US, China, and Russia\n"
          ]
        },
        {
          "output_type": "stream",
          "name": "stderr",
          "text": [
            "\r 55%|█████▍    | 6/11 [00:33<00:19,  3.96s/it]"
          ]
        },
        {
          "output_type": "stream",
          "name": "stdout",
          "text": [
            "unknown/5\n"
          ]
        },
        {
          "output_type": "stream",
          "name": "stderr",
          "text": [
            "\r 64%|██████▎   | 7/11 [00:35<00:13,  3.34s/it]"
          ]
        },
        {
          "output_type": "stream",
          "name": "stdout",
          "text": [
            "Spanish PM Faces Political Backlash\n"
          ]
        },
        {
          "output_type": "stream",
          "name": "stderr",
          "text": [
            "\r 73%|███████▎  | 8/11 [00:38<00:09,  3.28s/it]"
          ]
        },
        {
          "output_type": "stream",
          "name": "stdout",
          "text": [
            "Big Tech Banks on Artificial Intelligence\n"
          ]
        },
        {
          "output_type": "stream",
          "name": "stderr",
          "text": [
            "\r 82%|████████▏ | 9/11 [00:44<00:07,  3.99s/it]"
          ]
        },
        {
          "output_type": "stream",
          "name": "stdout",
          "text": [
            "unknown/3\n"
          ]
        },
        {
          "output_type": "stream",
          "name": "stderr",
          "text": [
            "\r 91%|█████████ | 10/11 [00:46<00:03,  3.44s/it]"
          ]
        },
        {
          "output_type": "stream",
          "name": "stdout",
          "text": [
            "Electricity Sector Under Climate Scrutiny\n"
          ]
        },
        {
          "output_type": "stream",
          "name": "stderr",
          "text": [
            "100%|██████████| 11/11 [00:47<00:00,  4.28s/it]"
          ]
        },
        {
          "output_type": "stream",
          "name": "stdout",
          "text": [
            "Economic Slowdown Sparks Market Concerns\n"
          ]
        },
        {
          "output_type": "stream",
          "name": "stderr",
          "text": [
            "\n"
          ]
        },
        {
          "output_type": "execute_result",
          "data": {
            "text/plain": [
              "{'6': 'Weinstein Conviction Overturned',\n",
              " '9': 'unknown/9',\n",
              " '7': \"Supreme Court Weighs Trump's Immunity\",\n",
              " '8': 'US Boosts Military Aid to Ukraine',\n",
              " '10': 'Tensions Rise Between US, China, and Russia',\n",
              " '5': 'unknown/5',\n",
              " '4': 'Spanish PM Faces Political Backlash',\n",
              " '1': 'Big Tech Banks on Artificial Intelligence',\n",
              " '3': 'unknown/3',\n",
              " '0': 'Electricity Sector Under Climate Scrutiny',\n",
              " '2': 'Economic Slowdown Sparks Market Concerns'}"
            ]
          },
          "metadata": {},
          "execution_count": 28
        }
      ]
    },
    {
      "cell_type": "code",
      "execution_count": 39,
      "metadata": {
        "id": "-Y8XzgAPdm9R",
        "colab": {
          "base_uri": "https://localhost:8080/",
          "height": 716
        },
        "outputId": "84aba2c6-e730-4dcc-dd8c-09deac08e580"
      },
      "outputs": [
        {
          "output_type": "stream",
          "name": "stderr",
          "text": [
            "/usr/local/lib/python3.11/dist-packages/sklearn/utils/deprecation.py:151: FutureWarning:\n",
            "\n",
            "'force_all_finite' was renamed to 'ensure_all_finite' in 1.6 and will be removed in 1.8.\n",
            "\n"
          ]
        },
        {
          "output_type": "stream",
          "name": "stdout",
          "text": [
            "            x         y                                    cluster\n",
            "850  9.496935  5.953521  Electricity Sector Under Climate Scrutiny\n",
            "293  9.852997  5.997217  Electricity Sector Under Climate Scrutiny\n",
            "252  9.315790  6.550378  Electricity Sector Under Climate Scrutiny\n",
            "283  9.745040  5.799721  Electricity Sector Under Climate Scrutiny\n",
            "326  9.788910  5.943655  Electricity Sector Under Climate Scrutiny\n"
          ]
        },
        {
          "output_type": "display_data",
          "data": {
            "text/html": [
              "<html>\n",
              "<head><meta charset=\"utf-8\" /></head>\n",
              "<body>\n",
              "    <div>            <script src=\"https://cdnjs.cloudflare.com/ajax/libs/mathjax/2.7.5/MathJax.js?config=TeX-AMS-MML_SVG\"></script><script type=\"text/javascript\">if (window.MathJax && window.MathJax.Hub && window.MathJax.Hub.Config) {window.MathJax.Hub.Config({SVG: {font: \"STIX-Web\"}});}</script>                <script type=\"text/javascript\">window.PlotlyConfig = {MathJaxConfig: 'local'};</script>\n",
              "        <script charset=\"utf-8\" src=\"https://cdn.plot.ly/plotly-2.35.2.min.js\"></script>                <div id=\"8baa885f-815f-49fe-879a-805d76212cb7\" class=\"plotly-graph-div\" style=\"height:525px; width:100%;\"></div>            <script type=\"text/javascript\">                                    window.PLOTLYENV=window.PLOTLYENV || {};                                    if (document.getElementById(\"8baa885f-815f-49fe-879a-805d76212cb7\")) {                    Plotly.newPlot(                        \"8baa885f-815f-49fe-879a-805d76212cb7\",                        [{\"hovertemplate\":\"cluster=Electricity Sector Under Climate Scrutiny\\u003cbr\\u003ex=%{x}\\u003cbr\\u003ey=%{y}\\u003cextra\\u003e\\u003c\\u002fextra\\u003e\",\"legendgroup\":\"Electricity Sector Under Climate Scrutiny\",\"marker\":{\"color\":\"#636efa\",\"symbol\":\"circle\"},\"mode\":\"markers\",\"name\":\"Electricity Sector Under Climate Scrutiny\",\"orientation\":\"v\",\"showlegend\":true,\"x\":[9.496935,9.852997,9.31579,9.74504,9.78891,9.309088],\"xaxis\":\"x\",\"y\":[5.9535213,5.9972167,6.550378,5.799721,5.9436545,6.547156],\"yaxis\":\"y\",\"type\":\"scatter\"},{\"hovertemplate\":\"cluster=Big Tech Banks on Artificial Intelligence\\u003cbr\\u003ex=%{x}\\u003cbr\\u003ey=%{y}\\u003cextra\\u003e\\u003c\\u002fextra\\u003e\",\"legendgroup\":\"Big Tech Banks on Artificial Intelligence\",\"marker\":{\"color\":\"#EF553B\",\"symbol\":\"circle\"},\"mode\":\"markers\",\"name\":\"Big Tech Banks on Artificial Intelligence\",\"orientation\":\"v\",\"showlegend\":true,\"x\":[9.8825245,9.359378,9.360721,9.650669,9.756508,9.648668,9.544808,9.543669,9.723864,9.585084,9.642217,9.490834,9.487223,9.618268],\"xaxis\":\"x\",\"y\":[4.9571757,5.5543666,5.1715856,5.162633,4.9552693,5.166396,5.3050504,5.0545583,5.1663756,5.072648,5.23227,5.05513,5.042766,5.2528205],\"yaxis\":\"y\",\"type\":\"scatter\"},{\"hovertemplate\":\"cluster=Tensions Rise Between US, China, and Russia\\u003cbr\\u003ex=%{x}\\u003cbr\\u003ey=%{y}\\u003cextra\\u003e\\u003c\\u002fextra\\u003e\",\"legendgroup\":\"Tensions Rise Between US, China, and Russia\",\"marker\":{\"color\":\"#00cc96\",\"symbol\":\"circle\"},\"mode\":\"markers\",\"name\":\"Tensions Rise Between US, China, and Russia\",\"orientation\":\"v\",\"showlegend\":true,\"x\":[11.772472,11.460492,11.628854,11.685487,11.670686,11.786447,11.432541,11.406012,11.613173,11.654857,11.642188,9.794471,11.483061,11.65013,11.651988,11.744454,11.522065,11.677041,11.658927,11.808408,11.634186,11.648685,11.45641,11.480591,11.673923],\"xaxis\":\"x\",\"y\":[7.0972075,7.380241,7.3896427,7.1996293,7.2686577,7.0684333,6.9652605,6.9990005,6.962506,7.2894797,7.047133,10.645651,7.063368,7.2566376,7.084729,7.2571335,7.123617,7.0342183,7.5166473,7.2002964,7.294225,6.9591303,7.140487,7.126554,7.376768],\"yaxis\":\"y\",\"type\":\"scatter\"},{\"hovertemplate\":\"cluster=Economic Slowdown Sparks Market Concerns\\u003cbr\\u003ex=%{x}\\u003cbr\\u003ey=%{y}\\u003cextra\\u003e\\u003c\\u002fextra\\u003e\",\"legendgroup\":\"Economic Slowdown Sparks Market Concerns\",\"marker\":{\"color\":\"#ab63fa\",\"symbol\":\"circle\"},\"mode\":\"markers\",\"name\":\"Economic Slowdown Sparks Market Concerns\",\"orientation\":\"v\",\"showlegend\":true,\"x\":[10.598702,10.620843,10.794825,10.920546],\"xaxis\":\"x\",\"y\":[5.1834726,5.1662774,5.2347865,5.3942075],\"yaxis\":\"y\",\"type\":\"scatter\"},{\"hovertemplate\":\"cluster=unknown\\u002f3\\u003cbr\\u003ex=%{x}\\u003cbr\\u003ey=%{y}\\u003cextra\\u003e\\u003c\\u002fextra\\u003e\",\"legendgroup\":\"unknown\\u002f3\",\"marker\":{\"color\":\"#FFA15A\",\"symbol\":\"circle\"},\"mode\":\"markers\",\"name\":\"unknown\\u002f3\",\"orientation\":\"v\",\"showlegend\":true,\"x\":[4.7544794,4.4751024,4.273397,4.466874,4.634665,4.611386,4.9758306,4.345376,4.2511754,4.3802032,4.413702,4.6782975,4.589552,4.8376455,4.767737,4.6019745,4.2197857,4.0997386,4.405166,4.5113583,4.265147,4.563359,4.1827316,4.8238506,4.1634564,4.411437,4.8902135,4.2089396,4.474797,4.5221,4.5436726,4.9159446,4.376405,4.3588276,4.6426644,4.3975873,4.205667,4.474015,4.7079735],\"xaxis\":\"x\",\"y\":[8.796639,8.950748,9.228123,9.012116,8.933404,8.88472,9.325054,8.784185,8.893801,8.733801,8.626983,9.273877,8.6104765,9.286316,9.148634,8.98253,8.977877,8.91681,9.278587,8.739211,9.082941,9.338956,9.046334,9.242894,9.028748,8.76376,9.146492,8.774005,8.911777,9.160051,9.104724,8.955592,8.938192,9.112636,9.343119,8.751858,9.178892,8.680491,8.906063],\"yaxis\":\"y\",\"type\":\"scatter\"},{\"hovertemplate\":\"cluster=Spanish PM Faces Political Backlash\\u003cbr\\u003ex=%{x}\\u003cbr\\u003ey=%{y}\\u003cextra\\u003e\\u003c\\u002fextra\\u003e\",\"legendgroup\":\"Spanish PM Faces Political Backlash\",\"marker\":{\"color\":\"#19d3f3\",\"symbol\":\"circle\"},\"mode\":\"markers\",\"name\":\"Spanish PM Faces Political Backlash\",\"orientation\":\"v\",\"showlegend\":true,\"x\":[6.183724,6.197508,6.366489,6.363798],\"xaxis\":\"x\",\"y\":[9.596392,9.356074,9.653325,9.586423],\"yaxis\":\"y\",\"type\":\"scatter\"},{\"hovertemplate\":\"cluster=unknown\\u002f5\\u003cbr\\u003ex=%{x}\\u003cbr\\u003ey=%{y}\\u003cextra\\u003e\\u003c\\u002fextra\\u003e\",\"legendgroup\":\"unknown\\u002f5\",\"marker\":{\"color\":\"#FF6692\",\"symbol\":\"circle\"},\"mode\":\"markers\",\"name\":\"unknown\\u002f5\",\"orientation\":\"v\",\"showlegend\":true,\"x\":[9.458895,9.605049,9.969359,9.67026,9.566268,9.620262,9.638792,9.710402,9.737536,9.566996,9.792379],\"xaxis\":\"x\",\"y\":[7.1580367,7.2150645,7.2437615,7.2354145,7.3100157,7.247346,7.2587786,7.0091815,7.0379705,7.1272044,7.1505127],\"yaxis\":\"y\",\"type\":\"scatter\"},{\"hovertemplate\":\"cluster=Weinstein Conviction Overturned\\u003cbr\\u003ex=%{x}\\u003cbr\\u003ey=%{y}\\u003cextra\\u003e\\u003c\\u002fextra\\u003e\",\"legendgroup\":\"Weinstein Conviction Overturned\",\"marker\":{\"color\":\"#B6E880\",\"symbol\":\"circle\"},\"mode\":\"markers\",\"name\":\"Weinstein Conviction Overturned\",\"orientation\":\"v\",\"showlegend\":true,\"x\":[6.2896714,6.0072613,5.78658,6.019348,5.9432297,5.8989134,5.7739882,5.8289013,5.847626,5.859033,5.7990813,5.7177024,5.9155645,6.192402,5.9636497],\"xaxis\":\"x\",\"y\":[6.793007,6.1533775,6.4194417,6.118561,6.2956333,6.535051,6.3501644,6.3859725,6.4413786,6.271126,6.3633366,6.243023,6.2322125,6.612323,6.619355],\"yaxis\":\"y\",\"type\":\"scatter\"},{\"hovertemplate\":\"cluster=Supreme Court Weighs Trump's Immunity\\u003cbr\\u003ex=%{x}\\u003cbr\\u003ey=%{y}\\u003cextra\\u003e\\u003c\\u002fextra\\u003e\",\"legendgroup\":\"Supreme Court Weighs Trump's Immunity\",\"marker\":{\"color\":\"#FF97FF\",\"symbol\":\"circle\"},\"mode\":\"markers\",\"name\":\"Supreme Court Weighs Trump's Immunity\",\"orientation\":\"v\",\"showlegend\":true,\"x\":[6.539196,6.6878195,6.684728,6.6549187,6.8045387,6.659024,6.739036,6.641139,6.8560786,6.7124977,6.7646313,6.710108,6.731042,6.6101375,6.861652,6.808309,6.6212726,6.7628117,6.683092,6.548606,6.594543,6.669653,6.4474645,6.6928196,6.5852065],\"xaxis\":\"x\",\"y\":[5.298823,5.404882,5.4906855,5.2902,5.389058,5.362998,5.397132,5.217958,6.3693786,5.399601,5.529204,5.411367,5.4341755,5.417347,5.2639914,5.460353,5.751188,5.3520575,6.3396964,5.5384545,6.4042745,5.309412,5.429056,5.531688,5.409926],\"yaxis\":\"y\",\"type\":\"scatter\"},{\"hovertemplate\":\"cluster=US Boosts Military Aid to Ukraine\\u003cbr\\u003ex=%{x}\\u003cbr\\u003ey=%{y}\\u003cextra\\u003e\\u003c\\u002fextra\\u003e\",\"legendgroup\":\"US Boosts Military Aid to Ukraine\",\"marker\":{\"color\":\"#FECB52\",\"symbol\":\"circle\"},\"mode\":\"markers\",\"name\":\"US Boosts Military Aid to Ukraine\",\"orientation\":\"v\",\"showlegend\":true,\"x\":[12.252147,12.023147,12.256255,11.960453,12.103849,12.303986,11.925305,12.155872,11.804233,11.681554,11.996225,12.072412,11.97921,11.958282,12.081576,11.703419,12.114311,11.862082,12.2514515,11.843738,12.289722,12.33639,12.099256,12.301942,11.83639,11.622516,12.1151495,12.133395,11.940997,9.990756,11.88358,12.074854],\"xaxis\":\"x\",\"y\":[9.023937,9.273436,8.425796,8.525099,8.782598,9.047956,8.228547,8.391654,9.360439,9.260747,9.174508,8.423166,8.349919,9.338474,8.206515,8.987618,9.168431,9.227733,8.720128,9.226205,8.433526,8.609816,8.703556,8.795493,9.128856,8.768063,9.203316,8.674375,8.197535,11.249906,8.171844,8.988387],\"yaxis\":\"y\",\"type\":\"scatter\"},{\"hovertemplate\":\"cluster=unknown\\u002f9\\u003cbr\\u003ex=%{x}\\u003cbr\\u003ey=%{y}\\u003cextra\\u003e\\u003c\\u002fextra\\u003e\",\"legendgroup\":\"unknown\\u002f9\",\"marker\":{\"color\":\"#636efa\",\"symbol\":\"circle\"},\"mode\":\"markers\",\"name\":\"unknown\\u002f9\",\"orientation\":\"v\",\"showlegend\":true,\"x\":[8.268535,8.056037,7.6829543,7.8823485,8.466075,8.262148,9.223992,7.906486,7.9237294,8.26933,9.4504595,8.411904,8.072419,7.9378524,8.349321,8.317096,7.9730163,8.012335,7.6820126,7.719022,8.175207,8.453531,9.485827,8.142291,8.165022,8.37136,7.884759,9.336486,7.9271045,8.263114,8.627532,8.224298,8.170288,8.220034,9.458267,8.243105,8.300482,8.127331,8.328009,8.550507,7.833263,8.451967,8.065403,7.8086257,8.1902685,8.467141,8.1389475,7.9317546],\"xaxis\":\"x\",\"y\":[11.325912,11.704984,11.838218,11.56824,11.850513,12.028599,10.965606,11.795331,11.922083,11.482245,11.103441,11.927698,11.868292,11.669132,11.63649,11.720739,11.714026,12.009175,11.974892,12.076366,11.494394,11.947141,11.028982,11.591391,11.563667,11.779278,11.873631,11.033738,12.085341,11.158124,11.200014,11.517074,11.331782,12.020625,10.912533,11.47497,12.110409,11.85913,11.729744,11.701499,12.070789,11.252329,11.738858,11.623616,11.585476,11.737739,12.08343,11.626491],\"yaxis\":\"y\",\"type\":\"scatter\"}],                        {\"template\":{\"data\":{\"histogram2dcontour\":[{\"type\":\"histogram2dcontour\",\"colorbar\":{\"outlinewidth\":0,\"ticks\":\"\"},\"colorscale\":[[0.0,\"#0d0887\"],[0.1111111111111111,\"#46039f\"],[0.2222222222222222,\"#7201a8\"],[0.3333333333333333,\"#9c179e\"],[0.4444444444444444,\"#bd3786\"],[0.5555555555555556,\"#d8576b\"],[0.6666666666666666,\"#ed7953\"],[0.7777777777777778,\"#fb9f3a\"],[0.8888888888888888,\"#fdca26\"],[1.0,\"#f0f921\"]]}],\"choropleth\":[{\"type\":\"choropleth\",\"colorbar\":{\"outlinewidth\":0,\"ticks\":\"\"}}],\"histogram2d\":[{\"type\":\"histogram2d\",\"colorbar\":{\"outlinewidth\":0,\"ticks\":\"\"},\"colorscale\":[[0.0,\"#0d0887\"],[0.1111111111111111,\"#46039f\"],[0.2222222222222222,\"#7201a8\"],[0.3333333333333333,\"#9c179e\"],[0.4444444444444444,\"#bd3786\"],[0.5555555555555556,\"#d8576b\"],[0.6666666666666666,\"#ed7953\"],[0.7777777777777778,\"#fb9f3a\"],[0.8888888888888888,\"#fdca26\"],[1.0,\"#f0f921\"]]}],\"heatmap\":[{\"type\":\"heatmap\",\"colorbar\":{\"outlinewidth\":0,\"ticks\":\"\"},\"colorscale\":[[0.0,\"#0d0887\"],[0.1111111111111111,\"#46039f\"],[0.2222222222222222,\"#7201a8\"],[0.3333333333333333,\"#9c179e\"],[0.4444444444444444,\"#bd3786\"],[0.5555555555555556,\"#d8576b\"],[0.6666666666666666,\"#ed7953\"],[0.7777777777777778,\"#fb9f3a\"],[0.8888888888888888,\"#fdca26\"],[1.0,\"#f0f921\"]]}],\"heatmapgl\":[{\"type\":\"heatmapgl\",\"colorbar\":{\"outlinewidth\":0,\"ticks\":\"\"},\"colorscale\":[[0.0,\"#0d0887\"],[0.1111111111111111,\"#46039f\"],[0.2222222222222222,\"#7201a8\"],[0.3333333333333333,\"#9c179e\"],[0.4444444444444444,\"#bd3786\"],[0.5555555555555556,\"#d8576b\"],[0.6666666666666666,\"#ed7953\"],[0.7777777777777778,\"#fb9f3a\"],[0.8888888888888888,\"#fdca26\"],[1.0,\"#f0f921\"]]}],\"contourcarpet\":[{\"type\":\"contourcarpet\",\"colorbar\":{\"outlinewidth\":0,\"ticks\":\"\"}}],\"contour\":[{\"type\":\"contour\",\"colorbar\":{\"outlinewidth\":0,\"ticks\":\"\"},\"colorscale\":[[0.0,\"#0d0887\"],[0.1111111111111111,\"#46039f\"],[0.2222222222222222,\"#7201a8\"],[0.3333333333333333,\"#9c179e\"],[0.4444444444444444,\"#bd3786\"],[0.5555555555555556,\"#d8576b\"],[0.6666666666666666,\"#ed7953\"],[0.7777777777777778,\"#fb9f3a\"],[0.8888888888888888,\"#fdca26\"],[1.0,\"#f0f921\"]]}],\"surface\":[{\"type\":\"surface\",\"colorbar\":{\"outlinewidth\":0,\"ticks\":\"\"},\"colorscale\":[[0.0,\"#0d0887\"],[0.1111111111111111,\"#46039f\"],[0.2222222222222222,\"#7201a8\"],[0.3333333333333333,\"#9c179e\"],[0.4444444444444444,\"#bd3786\"],[0.5555555555555556,\"#d8576b\"],[0.6666666666666666,\"#ed7953\"],[0.7777777777777778,\"#fb9f3a\"],[0.8888888888888888,\"#fdca26\"],[1.0,\"#f0f921\"]]}],\"mesh3d\":[{\"type\":\"mesh3d\",\"colorbar\":{\"outlinewidth\":0,\"ticks\":\"\"}}],\"scatter\":[{\"fillpattern\":{\"fillmode\":\"overlay\",\"size\":10,\"solidity\":0.2},\"type\":\"scatter\"}],\"parcoords\":[{\"type\":\"parcoords\",\"line\":{\"colorbar\":{\"outlinewidth\":0,\"ticks\":\"\"}}}],\"scatterpolargl\":[{\"type\":\"scatterpolargl\",\"marker\":{\"colorbar\":{\"outlinewidth\":0,\"ticks\":\"\"}}}],\"bar\":[{\"error_x\":{\"color\":\"#2a3f5f\"},\"error_y\":{\"color\":\"#2a3f5f\"},\"marker\":{\"line\":{\"color\":\"#E5ECF6\",\"width\":0.5},\"pattern\":{\"fillmode\":\"overlay\",\"size\":10,\"solidity\":0.2}},\"type\":\"bar\"}],\"scattergeo\":[{\"type\":\"scattergeo\",\"marker\":{\"colorbar\":{\"outlinewidth\":0,\"ticks\":\"\"}}}],\"scatterpolar\":[{\"type\":\"scatterpolar\",\"marker\":{\"colorbar\":{\"outlinewidth\":0,\"ticks\":\"\"}}}],\"histogram\":[{\"marker\":{\"pattern\":{\"fillmode\":\"overlay\",\"size\":10,\"solidity\":0.2}},\"type\":\"histogram\"}],\"scattergl\":[{\"type\":\"scattergl\",\"marker\":{\"colorbar\":{\"outlinewidth\":0,\"ticks\":\"\"}}}],\"scatter3d\":[{\"type\":\"scatter3d\",\"line\":{\"colorbar\":{\"outlinewidth\":0,\"ticks\":\"\"}},\"marker\":{\"colorbar\":{\"outlinewidth\":0,\"ticks\":\"\"}}}],\"scattermapbox\":[{\"type\":\"scattermapbox\",\"marker\":{\"colorbar\":{\"outlinewidth\":0,\"ticks\":\"\"}}}],\"scatterternary\":[{\"type\":\"scatterternary\",\"marker\":{\"colorbar\":{\"outlinewidth\":0,\"ticks\":\"\"}}}],\"scattercarpet\":[{\"type\":\"scattercarpet\",\"marker\":{\"colorbar\":{\"outlinewidth\":0,\"ticks\":\"\"}}}],\"carpet\":[{\"aaxis\":{\"endlinecolor\":\"#2a3f5f\",\"gridcolor\":\"white\",\"linecolor\":\"white\",\"minorgridcolor\":\"white\",\"startlinecolor\":\"#2a3f5f\"},\"baxis\":{\"endlinecolor\":\"#2a3f5f\",\"gridcolor\":\"white\",\"linecolor\":\"white\",\"minorgridcolor\":\"white\",\"startlinecolor\":\"#2a3f5f\"},\"type\":\"carpet\"}],\"table\":[{\"cells\":{\"fill\":{\"color\":\"#EBF0F8\"},\"line\":{\"color\":\"white\"}},\"header\":{\"fill\":{\"color\":\"#C8D4E3\"},\"line\":{\"color\":\"white\"}},\"type\":\"table\"}],\"barpolar\":[{\"marker\":{\"line\":{\"color\":\"#E5ECF6\",\"width\":0.5},\"pattern\":{\"fillmode\":\"overlay\",\"size\":10,\"solidity\":0.2}},\"type\":\"barpolar\"}],\"pie\":[{\"automargin\":true,\"type\":\"pie\"}]},\"layout\":{\"autotypenumbers\":\"strict\",\"colorway\":[\"#636efa\",\"#EF553B\",\"#00cc96\",\"#ab63fa\",\"#FFA15A\",\"#19d3f3\",\"#FF6692\",\"#B6E880\",\"#FF97FF\",\"#FECB52\"],\"font\":{\"color\":\"#2a3f5f\"},\"hovermode\":\"closest\",\"hoverlabel\":{\"align\":\"left\"},\"paper_bgcolor\":\"white\",\"plot_bgcolor\":\"#E5ECF6\",\"polar\":{\"bgcolor\":\"#E5ECF6\",\"angularaxis\":{\"gridcolor\":\"white\",\"linecolor\":\"white\",\"ticks\":\"\"},\"radialaxis\":{\"gridcolor\":\"white\",\"linecolor\":\"white\",\"ticks\":\"\"}},\"ternary\":{\"bgcolor\":\"#E5ECF6\",\"aaxis\":{\"gridcolor\":\"white\",\"linecolor\":\"white\",\"ticks\":\"\"},\"baxis\":{\"gridcolor\":\"white\",\"linecolor\":\"white\",\"ticks\":\"\"},\"caxis\":{\"gridcolor\":\"white\",\"linecolor\":\"white\",\"ticks\":\"\"}},\"coloraxis\":{\"colorbar\":{\"outlinewidth\":0,\"ticks\":\"\"}},\"colorscale\":{\"sequential\":[[0.0,\"#0d0887\"],[0.1111111111111111,\"#46039f\"],[0.2222222222222222,\"#7201a8\"],[0.3333333333333333,\"#9c179e\"],[0.4444444444444444,\"#bd3786\"],[0.5555555555555556,\"#d8576b\"],[0.6666666666666666,\"#ed7953\"],[0.7777777777777778,\"#fb9f3a\"],[0.8888888888888888,\"#fdca26\"],[1.0,\"#f0f921\"]],\"sequentialminus\":[[0.0,\"#0d0887\"],[0.1111111111111111,\"#46039f\"],[0.2222222222222222,\"#7201a8\"],[0.3333333333333333,\"#9c179e\"],[0.4444444444444444,\"#bd3786\"],[0.5555555555555556,\"#d8576b\"],[0.6666666666666666,\"#ed7953\"],[0.7777777777777778,\"#fb9f3a\"],[0.8888888888888888,\"#fdca26\"],[1.0,\"#f0f921\"]],\"diverging\":[[0,\"#8e0152\"],[0.1,\"#c51b7d\"],[0.2,\"#de77ae\"],[0.3,\"#f1b6da\"],[0.4,\"#fde0ef\"],[0.5,\"#f7f7f7\"],[0.6,\"#e6f5d0\"],[0.7,\"#b8e186\"],[0.8,\"#7fbc41\"],[0.9,\"#4d9221\"],[1,\"#276419\"]]},\"xaxis\":{\"gridcolor\":\"white\",\"linecolor\":\"white\",\"ticks\":\"\",\"title\":{\"standoff\":15},\"zerolinecolor\":\"white\",\"automargin\":true,\"zerolinewidth\":2},\"yaxis\":{\"gridcolor\":\"white\",\"linecolor\":\"white\",\"ticks\":\"\",\"title\":{\"standoff\":15},\"zerolinecolor\":\"white\",\"automargin\":true,\"zerolinewidth\":2},\"scene\":{\"xaxis\":{\"backgroundcolor\":\"#E5ECF6\",\"gridcolor\":\"white\",\"linecolor\":\"white\",\"showbackground\":true,\"ticks\":\"\",\"zerolinecolor\":\"white\",\"gridwidth\":2},\"yaxis\":{\"backgroundcolor\":\"#E5ECF6\",\"gridcolor\":\"white\",\"linecolor\":\"white\",\"showbackground\":true,\"ticks\":\"\",\"zerolinecolor\":\"white\",\"gridwidth\":2},\"zaxis\":{\"backgroundcolor\":\"#E5ECF6\",\"gridcolor\":\"white\",\"linecolor\":\"white\",\"showbackground\":true,\"ticks\":\"\",\"zerolinecolor\":\"white\",\"gridwidth\":2}},\"shapedefaults\":{\"line\":{\"color\":\"#2a3f5f\"}},\"annotationdefaults\":{\"arrowcolor\":\"#2a3f5f\",\"arrowhead\":0,\"arrowwidth\":1},\"geo\":{\"bgcolor\":\"white\",\"landcolor\":\"#E5ECF6\",\"subunitcolor\":\"white\",\"showland\":true,\"showlakes\":true,\"lakecolor\":\"white\"},\"title\":{\"x\":0.05},\"mapbox\":{\"style\":\"light\"}}},\"xaxis\":{\"anchor\":\"y\",\"domain\":[0.0,1.0],\"title\":{\"text\":\"x\"}},\"yaxis\":{\"anchor\":\"x\",\"domain\":[0.0,1.0],\"title\":{\"text\":\"y\"}},\"legend\":{\"title\":{\"text\":\"cluster\"},\"tracegroupgap\":0},\"margin\":{\"t\":60}},                        {\"responsive\": true}                    ).then(function(){\n",
              "                            \n",
              "var gd = document.getElementById('8baa885f-815f-49fe-879a-805d76212cb7');\n",
              "var x = new MutationObserver(function (mutations, observer) {{\n",
              "        var display = window.getComputedStyle(gd).display;\n",
              "        if (!display || display === 'none') {{\n",
              "            console.log([gd, 'removed!']);\n",
              "            Plotly.purge(gd);\n",
              "            observer.disconnect();\n",
              "        }}\n",
              "}});\n",
              "\n",
              "// Listen for the removal of the full notebook cells\n",
              "var notebookContainer = gd.closest('#notebook-container');\n",
              "if (notebookContainer) {{\n",
              "    x.observe(notebookContainer, {childList: true});\n",
              "}}\n",
              "\n",
              "// Listen for the clearing of the current output cell\n",
              "var outputEl = gd.closest('.output');\n",
              "if (outputEl) {{\n",
              "    x.observe(outputEl, {childList: true});\n",
              "}}\n",
              "\n",
              "                        })                };                            </script>        </div>\n",
              "</body>\n",
              "</html>"
            ]
          },
          "metadata": {}
        }
      ],
      "source": [
        "\n",
        "umap = UMAP(n_components=2,  n_neighbors=80, min_dist=0.2)\n",
        "\n",
        "df_umap = (\n",
        "    pd.DataFrame(umap.fit_transform(np.array(embeddings)), columns=['x', 'y'])\n",
        "    .assign(cluster=lambda df:  hdb.labels_.astype(str))\n",
        "    .query('cluster != \"-1\"')\n",
        "    .sort_values(by='cluster')\n",
        ")\n",
        "df_umap[\"cluster\"]=df_umap[\"cluster\"].apply(lambda x: topic_titles[x])\n",
        "print(df_umap.head())\n",
        "fig = px.scatter(df_umap, x='x', y='y', color='cluster')\n",
        "fig.show()"
      ]
    }
  ]
}