{
  "nbformat": 4,
  "nbformat_minor": 0,
  "metadata": {
    "colab": {
      "provenance": [],
      "gpuType": "T4",
      "authorship_tag": "ABX9TyOl3ig0dtZSZyOHCTlodr8I",
      "include_colab_link": true
    },
    "kernelspec": {
      "name": "python3",
      "display_name": "Python 3"
    },
    "language_info": {
      "name": "python"
    },
    "accelerator": "GPU"
  },
  "cells": [
    {
      "cell_type": "markdown",
      "metadata": {
        "id": "view-in-github",
        "colab_type": "text"
      },
      "source": [
        "<a href=\"https://colab.research.google.com/github/ebamberg/research-projects-ml/blob/main/examples/visualization/embedding_clusters_with_umap.ipynb\" target=\"_parent\"><img src=\"https://colab.research.google.com/assets/colab-badge.svg\" alt=\"Open In Colab\"/></a>"
      ]
    },
    {
      "cell_type": "code",
      "source": [
        "!pip install umap-learn plotly pandas numpy sentence-transformers hdbscan tqdm --quiet\n",
        "\n",
        "!curl -L -o ./news-headlines-2024.zip https://www.kaggle.com/api/v1/datasets/download/dylanjcastillo/news-headlines-2024\n",
        "!unzip -o ./news-headlines-2024.zip"
      ],
      "metadata": {
        "colab": {
          "base_uri": "https://localhost:8080/"
        },
        "id": "aMXfZ4NAeKpu",
        "outputId": "efdc57cb-40e0-426e-f519-71f7c35b2eac"
      },
      "execution_count": 1,
      "outputs": [
        {
          "output_type": "stream",
          "name": "stdout",
          "text": [
            "  % Total    % Received % Xferd  Average Speed   Time    Time     Time  Current\n",
            "                                 Dload  Upload   Total   Spent    Left  Speed\n",
            "  0     0    0     0    0     0      0      0 --:--:-- --:--:-- --:--:--     0\n",
            "100  225k  100  225k    0     0   439k      0 --:--:-- --:--:-- --:--:--  439k\n",
            "Archive:  ./news-headlines-2024.zip\n",
            "replace news_data_dedup.csv? [y]es, [n]o, [A]ll, [N]one, [r]ename: A\n",
            "  inflating: news_data_dedup.csv     \n"
          ]
        }
      ]
    },
    {
      "cell_type": "code",
      "source": [
        "import pandas as pd\n",
        "\n",
        "df = pd.read_csv(\"./news_data_dedup.csv\")\n",
        "docs = [\n",
        "    f\"{title}\\n{description}\"\n",
        "    for title, description in zip(df.title, df.description)\n",
        "]\n",
        "\n"
      ],
      "metadata": {
        "id": "tCg-JKxjgfwv"
      },
      "execution_count": 2,
      "outputs": []
    },
    {
      "cell_type": "code",
      "source": [
        "from google.colab import userdata\n",
        "from sentence_transformers import SentenceTransformer\n",
        "from umap import UMAP\n",
        "import pandas as pd\n",
        "import numpy as np\n",
        "import plotly.express as px\n",
        "import hdbscan\n",
        "\n",
        "model_id = \"sentence-transformers/all-MiniLM-L6-v2\"\n",
        "hf_token = userdata.get('HF_TOKEN')\n",
        "\n",
        "model = SentenceTransformer(model_id)\n",
        "\n",
        "embeddings = model.encode(docs)\n",
        "\n",
        "embeddings"
      ],
      "metadata": {
        "colab": {
          "base_uri": "https://localhost:8080/"
        },
        "id": "YxW3Uu9ve5Bs",
        "outputId": "d98d8a00-f546-459e-bda4-e7e194b7e73a"
      },
      "execution_count": 3,
      "outputs": [
        {
          "output_type": "execute_result",
          "data": {
            "text/plain": [
              "array([[ 0.01300003, -0.02001945,  0.0378731 , ..., -0.0176036 ,\n",
              "         0.08934786, -0.06768816],\n",
              "       [-0.00416246,  0.03095501, -0.04282118, ..., -0.02408286,\n",
              "        -0.04449847, -0.03713957],\n",
              "       [-0.02172823, -0.00271915,  0.10941693, ...,  0.00217858,\n",
              "         0.010975  , -0.09007305],\n",
              "       ...,\n",
              "       [ 0.08573322,  0.04818088,  0.0819603 , ...,  0.04652384,\n",
              "        -0.06448119,  0.02147188],\n",
              "       [ 0.08200873, -0.00633858,  0.06603416, ...,  0.00668821,\n",
              "        -0.03189663, -0.00043885],\n",
              "       [ 0.06723553,  0.08093947, -0.01455507, ..., -0.01280487,\n",
              "        -0.00361775,  0.06653812]], dtype=float32)"
            ]
          },
          "metadata": {},
          "execution_count": 3
        }
      ]
    },
    {
      "cell_type": "code",
      "source": [
        "hdb = hdbscan.HDBSCAN(min_samples=3, min_cluster_size=10 ).fit(embeddings)\n",
        "df=df.assign(cluster=lambda df: hdb.labels_.astype(str))\n",
        "df"
      ],
      "metadata": {
        "colab": {
          "base_uri": "https://localhost:8080/",
          "height": 1000
        },
        "id": "ktjm_2fHhcmD",
        "outputId": "d6228814-e707-4263-ccf3-e2d529da2a12"
      },
      "execution_count": 4,
      "outputs": [
        {
          "output_type": "stream",
          "name": "stderr",
          "text": [
            "/usr/local/lib/python3.11/dist-packages/sklearn/utils/deprecation.py:151: FutureWarning: 'force_all_finite' was renamed to 'ensure_all_finite' in 1.6 and will be removed in 1.8.\n",
            "  warnings.warn(\n",
            "/usr/local/lib/python3.11/dist-packages/sklearn/utils/deprecation.py:151: FutureWarning: 'force_all_finite' was renamed to 'ensure_all_finite' in 1.6 and will be removed in 1.8.\n",
            "  warnings.warn(\n"
          ]
        },
        {
          "output_type": "execute_result",
          "data": {
            "text/plain": [
              "                                 guid  \\\n",
              "0    e3dc5caa18f9a16d7edcc09f8d5c2bb4   \n",
              "1    297b7152cd95e80dd200a8e1997e10d9   \n",
              "2    170bd18d1635c44b9339bdbaf1e62123   \n",
              "3    e696224ac208878a5cec8bdc9f97c632   \n",
              "4    733f744b006fb13033d264efcaf8edad   \n",
              "..                                ...   \n",
              "865  b26b379233ad059cd7b2098fa7bad86b   \n",
              "866  ad3948cb67434a9d6b7acf6beaab44fe   \n",
              "867  efe3f14a916d7d187c42662dff1d8167   \n",
              "868  89be6f3e8a2f8d75ce401e3c6c72648e   \n",
              "869  1123929cfbd9e11b3999d7116f4c1d05   \n",
              "\n",
              "                                                 title  \\\n",
              "0    Harvey Weinstein's 2020 rape conviction overtu...   \n",
              "1    Police and activists clash on Atlanta campus a...   \n",
              "2    Haiti PM resigns as transitional council sworn in   \n",
              "3    Europe risks dying and faces big decisions - M...   \n",
              "4    Prosecutors ask for halt to case against Spain...   \n",
              "..                                                 ...   \n",
              "865  A celebration ‘of the immigrant, the foreigner...   \n",
              "866  Part protest, part rave: the Indigenous artist...   \n",
              "867  The photography studio with four wheels and a ...   \n",
              "868  Lost New York: remembering the city’s forgotte...   \n",
              "869  ‘Distressing’: British newscast pulled mid-bul...   \n",
              "\n",
              "                                           description         venue  \\\n",
              "0    Victims group describes the New York appeal co...           BBC   \n",
              "1    Meanwhile, hundreds of students march in Washi...           BBC   \n",
              "2    The council will try to restore order and form...           BBC   \n",
              "3    The French president delivers a stark warning ...           BBC   \n",
              "4    Pedro Sánchez is deciding whether to resign af...           BBC   \n",
              "..                                                 ...           ...   \n",
              "865  The grand gathering of contemporary art celebr...       El Pais   \n",
              "866  From Gold Lion winner Archie Moore to Brazilia...  The Guardian   \n",
              "867  ‘The sun trickled in just as we were coming do...  The Guardian   \n",
              "868  A new exhibition at the New-York Historical So...  The Guardian   \n",
              "869  UK presenter Rageh Omaar – a veteran in the ne...   News.com.au   \n",
              "\n",
              "                                                   url  \\\n",
              "0    https://www.bbc.co.uk/news/world-us-canada-688...   \n",
              "1    https://www.bbc.co.uk/news/live/world-us-canad...   \n",
              "2    https://www.bbc.co.uk/news/world-latin-america...   \n",
              "3     https://www.bbc.co.uk/news/world-europe-68898887   \n",
              "4     https://www.bbc.co.uk/news/world-europe-68895727   \n",
              "..                                                 ...   \n",
              "865  https://english.elpais.com/culture/2024-04-19/...   \n",
              "866  https://www.theguardian.com/artanddesign/2024/...   \n",
              "867  https://www.theguardian.com/artanddesign/2024/...   \n",
              "868  https://www.theguardian.com/artanddesign/2024/...   \n",
              "869  https://www.news.com.au/world/europe/distressi...   \n",
              "\n",
              "                     published_at                     updated_at cluster  \n",
              "0          2024-04-25 18:24:04+00  2024-04-26 20:03:00.628113+00       8  \n",
              "1          2024-04-25 13:40:25+00  2024-04-26 20:03:00.654819+00      11  \n",
              "2          2024-04-25 18:11:02+00  2024-04-26 20:03:00.663393+00      -1  \n",
              "3          2024-04-25 14:51:15+00  2024-04-26 20:03:00.672106+00      -1  \n",
              "4          2024-04-25 13:07:42+00  2024-04-26 20:03:00.682205+00       5  \n",
              "..                            ...                            ...     ...  \n",
              "865        2024-04-19 21:48:57+00  2024-04-26 13:02:53.612335+00      -1  \n",
              "866        2024-04-25 10:55:43+00  2024-04-26 13:02:54.537243+00      -1  \n",
              "867        2024-04-24 12:33:27+00  2024-04-26 13:02:54.756821+00      -1  \n",
              "868        2024-04-25 14:30:06+00  2024-04-26 13:02:54.827138+00      -1  \n",
              "869  2024-04-27 06:31:59.16726+00  2024-04-27 06:32:45.714458+00      -1  \n",
              "\n",
              "[870 rows x 8 columns]"
            ],
            "text/html": [
              "\n",
              "  <div id=\"df-bae0e48c-4840-4bd2-8caf-51e0a789ccc2\" class=\"colab-df-container\">\n",
              "    <div>\n",
              "<style scoped>\n",
              "    .dataframe tbody tr th:only-of-type {\n",
              "        vertical-align: middle;\n",
              "    }\n",
              "\n",
              "    .dataframe tbody tr th {\n",
              "        vertical-align: top;\n",
              "    }\n",
              "\n",
              "    .dataframe thead th {\n",
              "        text-align: right;\n",
              "    }\n",
              "</style>\n",
              "<table border=\"1\" class=\"dataframe\">\n",
              "  <thead>\n",
              "    <tr style=\"text-align: right;\">\n",
              "      <th></th>\n",
              "      <th>guid</th>\n",
              "      <th>title</th>\n",
              "      <th>description</th>\n",
              "      <th>venue</th>\n",
              "      <th>url</th>\n",
              "      <th>published_at</th>\n",
              "      <th>updated_at</th>\n",
              "      <th>cluster</th>\n",
              "    </tr>\n",
              "  </thead>\n",
              "  <tbody>\n",
              "    <tr>\n",
              "      <th>0</th>\n",
              "      <td>e3dc5caa18f9a16d7edcc09f8d5c2bb4</td>\n",
              "      <td>Harvey Weinstein's 2020 rape conviction overtu...</td>\n",
              "      <td>Victims group describes the New York appeal co...</td>\n",
              "      <td>BBC</td>\n",
              "      <td>https://www.bbc.co.uk/news/world-us-canada-688...</td>\n",
              "      <td>2024-04-25 18:24:04+00</td>\n",
              "      <td>2024-04-26 20:03:00.628113+00</td>\n",
              "      <td>8</td>\n",
              "    </tr>\n",
              "    <tr>\n",
              "      <th>1</th>\n",
              "      <td>297b7152cd95e80dd200a8e1997e10d9</td>\n",
              "      <td>Police and activists clash on Atlanta campus a...</td>\n",
              "      <td>Meanwhile, hundreds of students march in Washi...</td>\n",
              "      <td>BBC</td>\n",
              "      <td>https://www.bbc.co.uk/news/live/world-us-canad...</td>\n",
              "      <td>2024-04-25 13:40:25+00</td>\n",
              "      <td>2024-04-26 20:03:00.654819+00</td>\n",
              "      <td>11</td>\n",
              "    </tr>\n",
              "    <tr>\n",
              "      <th>2</th>\n",
              "      <td>170bd18d1635c44b9339bdbaf1e62123</td>\n",
              "      <td>Haiti PM resigns as transitional council sworn in</td>\n",
              "      <td>The council will try to restore order and form...</td>\n",
              "      <td>BBC</td>\n",
              "      <td>https://www.bbc.co.uk/news/world-latin-america...</td>\n",
              "      <td>2024-04-25 18:11:02+00</td>\n",
              "      <td>2024-04-26 20:03:00.663393+00</td>\n",
              "      <td>-1</td>\n",
              "    </tr>\n",
              "    <tr>\n",
              "      <th>3</th>\n",
              "      <td>e696224ac208878a5cec8bdc9f97c632</td>\n",
              "      <td>Europe risks dying and faces big decisions - M...</td>\n",
              "      <td>The French president delivers a stark warning ...</td>\n",
              "      <td>BBC</td>\n",
              "      <td>https://www.bbc.co.uk/news/world-europe-68898887</td>\n",
              "      <td>2024-04-25 14:51:15+00</td>\n",
              "      <td>2024-04-26 20:03:00.672106+00</td>\n",
              "      <td>-1</td>\n",
              "    </tr>\n",
              "    <tr>\n",
              "      <th>4</th>\n",
              "      <td>733f744b006fb13033d264efcaf8edad</td>\n",
              "      <td>Prosecutors ask for halt to case against Spain...</td>\n",
              "      <td>Pedro Sánchez is deciding whether to resign af...</td>\n",
              "      <td>BBC</td>\n",
              "      <td>https://www.bbc.co.uk/news/world-europe-68895727</td>\n",
              "      <td>2024-04-25 13:07:42+00</td>\n",
              "      <td>2024-04-26 20:03:00.682205+00</td>\n",
              "      <td>5</td>\n",
              "    </tr>\n",
              "    <tr>\n",
              "      <th>...</th>\n",
              "      <td>...</td>\n",
              "      <td>...</td>\n",
              "      <td>...</td>\n",
              "      <td>...</td>\n",
              "      <td>...</td>\n",
              "      <td>...</td>\n",
              "      <td>...</td>\n",
              "      <td>...</td>\n",
              "    </tr>\n",
              "    <tr>\n",
              "      <th>865</th>\n",
              "      <td>b26b379233ad059cd7b2098fa7bad86b</td>\n",
              "      <td>A celebration ‘of the immigrant, the foreigner...</td>\n",
              "      <td>The grand gathering of contemporary art celebr...</td>\n",
              "      <td>El Pais</td>\n",
              "      <td>https://english.elpais.com/culture/2024-04-19/...</td>\n",
              "      <td>2024-04-19 21:48:57+00</td>\n",
              "      <td>2024-04-26 13:02:53.612335+00</td>\n",
              "      <td>-1</td>\n",
              "    </tr>\n",
              "    <tr>\n",
              "      <th>866</th>\n",
              "      <td>ad3948cb67434a9d6b7acf6beaab44fe</td>\n",
              "      <td>Part protest, part rave: the Indigenous artist...</td>\n",
              "      <td>From Gold Lion winner Archie Moore to Brazilia...</td>\n",
              "      <td>The Guardian</td>\n",
              "      <td>https://www.theguardian.com/artanddesign/2024/...</td>\n",
              "      <td>2024-04-25 10:55:43+00</td>\n",
              "      <td>2024-04-26 13:02:54.537243+00</td>\n",
              "      <td>-1</td>\n",
              "    </tr>\n",
              "    <tr>\n",
              "      <th>867</th>\n",
              "      <td>efe3f14a916d7d187c42662dff1d8167</td>\n",
              "      <td>The photography studio with four wheels and a ...</td>\n",
              "      <td>‘The sun trickled in just as we were coming do...</td>\n",
              "      <td>The Guardian</td>\n",
              "      <td>https://www.theguardian.com/artanddesign/2024/...</td>\n",
              "      <td>2024-04-24 12:33:27+00</td>\n",
              "      <td>2024-04-26 13:02:54.756821+00</td>\n",
              "      <td>-1</td>\n",
              "    </tr>\n",
              "    <tr>\n",
              "      <th>868</th>\n",
              "      <td>89be6f3e8a2f8d75ce401e3c6c72648e</td>\n",
              "      <td>Lost New York: remembering the city’s forgotte...</td>\n",
              "      <td>A new exhibition at the New-York Historical So...</td>\n",
              "      <td>The Guardian</td>\n",
              "      <td>https://www.theguardian.com/artanddesign/2024/...</td>\n",
              "      <td>2024-04-25 14:30:06+00</td>\n",
              "      <td>2024-04-26 13:02:54.827138+00</td>\n",
              "      <td>-1</td>\n",
              "    </tr>\n",
              "    <tr>\n",
              "      <th>869</th>\n",
              "      <td>1123929cfbd9e11b3999d7116f4c1d05</td>\n",
              "      <td>‘Distressing’: British newscast pulled mid-bul...</td>\n",
              "      <td>UK presenter Rageh Omaar – a veteran in the ne...</td>\n",
              "      <td>News.com.au</td>\n",
              "      <td>https://www.news.com.au/world/europe/distressi...</td>\n",
              "      <td>2024-04-27 06:31:59.16726+00</td>\n",
              "      <td>2024-04-27 06:32:45.714458+00</td>\n",
              "      <td>-1</td>\n",
              "    </tr>\n",
              "  </tbody>\n",
              "</table>\n",
              "<p>870 rows × 8 columns</p>\n",
              "</div>\n",
              "    <div class=\"colab-df-buttons\">\n",
              "\n",
              "  <div class=\"colab-df-container\">\n",
              "    <button class=\"colab-df-convert\" onclick=\"convertToInteractive('df-bae0e48c-4840-4bd2-8caf-51e0a789ccc2')\"\n",
              "            title=\"Convert this dataframe to an interactive table.\"\n",
              "            style=\"display:none;\">\n",
              "\n",
              "  <svg xmlns=\"http://www.w3.org/2000/svg\" height=\"24px\" viewBox=\"0 -960 960 960\">\n",
              "    <path d=\"M120-120v-720h720v720H120Zm60-500h600v-160H180v160Zm220 220h160v-160H400v160Zm0 220h160v-160H400v160ZM180-400h160v-160H180v160Zm440 0h160v-160H620v160ZM180-180h160v-160H180v160Zm440 0h160v-160H620v160Z\"/>\n",
              "  </svg>\n",
              "    </button>\n",
              "\n",
              "  <style>\n",
              "    .colab-df-container {\n",
              "      display:flex;\n",
              "      gap: 12px;\n",
              "    }\n",
              "\n",
              "    .colab-df-convert {\n",
              "      background-color: #E8F0FE;\n",
              "      border: none;\n",
              "      border-radius: 50%;\n",
              "      cursor: pointer;\n",
              "      display: none;\n",
              "      fill: #1967D2;\n",
              "      height: 32px;\n",
              "      padding: 0 0 0 0;\n",
              "      width: 32px;\n",
              "    }\n",
              "\n",
              "    .colab-df-convert:hover {\n",
              "      background-color: #E2EBFA;\n",
              "      box-shadow: 0px 1px 2px rgba(60, 64, 67, 0.3), 0px 1px 3px 1px rgba(60, 64, 67, 0.15);\n",
              "      fill: #174EA6;\n",
              "    }\n",
              "\n",
              "    .colab-df-buttons div {\n",
              "      margin-bottom: 4px;\n",
              "    }\n",
              "\n",
              "    [theme=dark] .colab-df-convert {\n",
              "      background-color: #3B4455;\n",
              "      fill: #D2E3FC;\n",
              "    }\n",
              "\n",
              "    [theme=dark] .colab-df-convert:hover {\n",
              "      background-color: #434B5C;\n",
              "      box-shadow: 0px 1px 3px 1px rgba(0, 0, 0, 0.15);\n",
              "      filter: drop-shadow(0px 1px 2px rgba(0, 0, 0, 0.3));\n",
              "      fill: #FFFFFF;\n",
              "    }\n",
              "  </style>\n",
              "\n",
              "    <script>\n",
              "      const buttonEl =\n",
              "        document.querySelector('#df-bae0e48c-4840-4bd2-8caf-51e0a789ccc2 button.colab-df-convert');\n",
              "      buttonEl.style.display =\n",
              "        google.colab.kernel.accessAllowed ? 'block' : 'none';\n",
              "\n",
              "      async function convertToInteractive(key) {\n",
              "        const element = document.querySelector('#df-bae0e48c-4840-4bd2-8caf-51e0a789ccc2');\n",
              "        const dataTable =\n",
              "          await google.colab.kernel.invokeFunction('convertToInteractive',\n",
              "                                                    [key], {});\n",
              "        if (!dataTable) return;\n",
              "\n",
              "        const docLinkHtml = 'Like what you see? Visit the ' +\n",
              "          '<a target=\"_blank\" href=https://colab.research.google.com/notebooks/data_table.ipynb>data table notebook</a>'\n",
              "          + ' to learn more about interactive tables.';\n",
              "        element.innerHTML = '';\n",
              "        dataTable['output_type'] = 'display_data';\n",
              "        await google.colab.output.renderOutput(dataTable, element);\n",
              "        const docLink = document.createElement('div');\n",
              "        docLink.innerHTML = docLinkHtml;\n",
              "        element.appendChild(docLink);\n",
              "      }\n",
              "    </script>\n",
              "  </div>\n",
              "\n",
              "\n",
              "<div id=\"df-215c0a8c-3d16-4f3e-8395-075c82d9a872\">\n",
              "  <button class=\"colab-df-quickchart\" onclick=\"quickchart('df-215c0a8c-3d16-4f3e-8395-075c82d9a872')\"\n",
              "            title=\"Suggest charts\"\n",
              "            style=\"display:none;\">\n",
              "\n",
              "<svg xmlns=\"http://www.w3.org/2000/svg\" height=\"24px\"viewBox=\"0 0 24 24\"\n",
              "     width=\"24px\">\n",
              "    <g>\n",
              "        <path d=\"M19 3H5c-1.1 0-2 .9-2 2v14c0 1.1.9 2 2 2h14c1.1 0 2-.9 2-2V5c0-1.1-.9-2-2-2zM9 17H7v-7h2v7zm4 0h-2V7h2v10zm4 0h-2v-4h2v4z\"/>\n",
              "    </g>\n",
              "</svg>\n",
              "  </button>\n",
              "\n",
              "<style>\n",
              "  .colab-df-quickchart {\n",
              "      --bg-color: #E8F0FE;\n",
              "      --fill-color: #1967D2;\n",
              "      --hover-bg-color: #E2EBFA;\n",
              "      --hover-fill-color: #174EA6;\n",
              "      --disabled-fill-color: #AAA;\n",
              "      --disabled-bg-color: #DDD;\n",
              "  }\n",
              "\n",
              "  [theme=dark] .colab-df-quickchart {\n",
              "      --bg-color: #3B4455;\n",
              "      --fill-color: #D2E3FC;\n",
              "      --hover-bg-color: #434B5C;\n",
              "      --hover-fill-color: #FFFFFF;\n",
              "      --disabled-bg-color: #3B4455;\n",
              "      --disabled-fill-color: #666;\n",
              "  }\n",
              "\n",
              "  .colab-df-quickchart {\n",
              "    background-color: var(--bg-color);\n",
              "    border: none;\n",
              "    border-radius: 50%;\n",
              "    cursor: pointer;\n",
              "    display: none;\n",
              "    fill: var(--fill-color);\n",
              "    height: 32px;\n",
              "    padding: 0;\n",
              "    width: 32px;\n",
              "  }\n",
              "\n",
              "  .colab-df-quickchart:hover {\n",
              "    background-color: var(--hover-bg-color);\n",
              "    box-shadow: 0 1px 2px rgba(60, 64, 67, 0.3), 0 1px 3px 1px rgba(60, 64, 67, 0.15);\n",
              "    fill: var(--button-hover-fill-color);\n",
              "  }\n",
              "\n",
              "  .colab-df-quickchart-complete:disabled,\n",
              "  .colab-df-quickchart-complete:disabled:hover {\n",
              "    background-color: var(--disabled-bg-color);\n",
              "    fill: var(--disabled-fill-color);\n",
              "    box-shadow: none;\n",
              "  }\n",
              "\n",
              "  .colab-df-spinner {\n",
              "    border: 2px solid var(--fill-color);\n",
              "    border-color: transparent;\n",
              "    border-bottom-color: var(--fill-color);\n",
              "    animation:\n",
              "      spin 1s steps(1) infinite;\n",
              "  }\n",
              "\n",
              "  @keyframes spin {\n",
              "    0% {\n",
              "      border-color: transparent;\n",
              "      border-bottom-color: var(--fill-color);\n",
              "      border-left-color: var(--fill-color);\n",
              "    }\n",
              "    20% {\n",
              "      border-color: transparent;\n",
              "      border-left-color: var(--fill-color);\n",
              "      border-top-color: var(--fill-color);\n",
              "    }\n",
              "    30% {\n",
              "      border-color: transparent;\n",
              "      border-left-color: var(--fill-color);\n",
              "      border-top-color: var(--fill-color);\n",
              "      border-right-color: var(--fill-color);\n",
              "    }\n",
              "    40% {\n",
              "      border-color: transparent;\n",
              "      border-right-color: var(--fill-color);\n",
              "      border-top-color: var(--fill-color);\n",
              "    }\n",
              "    60% {\n",
              "      border-color: transparent;\n",
              "      border-right-color: var(--fill-color);\n",
              "    }\n",
              "    80% {\n",
              "      border-color: transparent;\n",
              "      border-right-color: var(--fill-color);\n",
              "      border-bottom-color: var(--fill-color);\n",
              "    }\n",
              "    90% {\n",
              "      border-color: transparent;\n",
              "      border-bottom-color: var(--fill-color);\n",
              "    }\n",
              "  }\n",
              "</style>\n",
              "\n",
              "  <script>\n",
              "    async function quickchart(key) {\n",
              "      const quickchartButtonEl =\n",
              "        document.querySelector('#' + key + ' button');\n",
              "      quickchartButtonEl.disabled = true;  // To prevent multiple clicks.\n",
              "      quickchartButtonEl.classList.add('colab-df-spinner');\n",
              "      try {\n",
              "        const charts = await google.colab.kernel.invokeFunction(\n",
              "            'suggestCharts', [key], {});\n",
              "      } catch (error) {\n",
              "        console.error('Error during call to suggestCharts:', error);\n",
              "      }\n",
              "      quickchartButtonEl.classList.remove('colab-df-spinner');\n",
              "      quickchartButtonEl.classList.add('colab-df-quickchart-complete');\n",
              "    }\n",
              "    (() => {\n",
              "      let quickchartButtonEl =\n",
              "        document.querySelector('#df-215c0a8c-3d16-4f3e-8395-075c82d9a872 button');\n",
              "      quickchartButtonEl.style.display =\n",
              "        google.colab.kernel.accessAllowed ? 'block' : 'none';\n",
              "    })();\n",
              "  </script>\n",
              "</div>\n",
              "\n",
              "  <div id=\"id_80608706-5a10-4787-aa13-a8aac8ada692\">\n",
              "    <style>\n",
              "      .colab-df-generate {\n",
              "        background-color: #E8F0FE;\n",
              "        border: none;\n",
              "        border-radius: 50%;\n",
              "        cursor: pointer;\n",
              "        display: none;\n",
              "        fill: #1967D2;\n",
              "        height: 32px;\n",
              "        padding: 0 0 0 0;\n",
              "        width: 32px;\n",
              "      }\n",
              "\n",
              "      .colab-df-generate:hover {\n",
              "        background-color: #E2EBFA;\n",
              "        box-shadow: 0px 1px 2px rgba(60, 64, 67, 0.3), 0px 1px 3px 1px rgba(60, 64, 67, 0.15);\n",
              "        fill: #174EA6;\n",
              "      }\n",
              "\n",
              "      [theme=dark] .colab-df-generate {\n",
              "        background-color: #3B4455;\n",
              "        fill: #D2E3FC;\n",
              "      }\n",
              "\n",
              "      [theme=dark] .colab-df-generate:hover {\n",
              "        background-color: #434B5C;\n",
              "        box-shadow: 0px 1px 3px 1px rgba(0, 0, 0, 0.15);\n",
              "        filter: drop-shadow(0px 1px 2px rgba(0, 0, 0, 0.3));\n",
              "        fill: #FFFFFF;\n",
              "      }\n",
              "    </style>\n",
              "    <button class=\"colab-df-generate\" onclick=\"generateWithVariable('df')\"\n",
              "            title=\"Generate code using this dataframe.\"\n",
              "            style=\"display:none;\">\n",
              "\n",
              "  <svg xmlns=\"http://www.w3.org/2000/svg\" height=\"24px\"viewBox=\"0 0 24 24\"\n",
              "       width=\"24px\">\n",
              "    <path d=\"M7,19H8.4L18.45,9,17,7.55,7,17.6ZM5,21V16.75L18.45,3.32a2,2,0,0,1,2.83,0l1.4,1.43a1.91,1.91,0,0,1,.58,1.4,1.91,1.91,0,0,1-.58,1.4L9.25,21ZM18.45,9,17,7.55Zm-12,3A5.31,5.31,0,0,0,4.9,8.1,5.31,5.31,0,0,0,1,6.5,5.31,5.31,0,0,0,4.9,4.9,5.31,5.31,0,0,0,6.5,1,5.31,5.31,0,0,0,8.1,4.9,5.31,5.31,0,0,0,12,6.5,5.46,5.46,0,0,0,6.5,12Z\"/>\n",
              "  </svg>\n",
              "    </button>\n",
              "    <script>\n",
              "      (() => {\n",
              "      const buttonEl =\n",
              "        document.querySelector('#id_80608706-5a10-4787-aa13-a8aac8ada692 button.colab-df-generate');\n",
              "      buttonEl.style.display =\n",
              "        google.colab.kernel.accessAllowed ? 'block' : 'none';\n",
              "\n",
              "      buttonEl.onclick = () => {\n",
              "        google.colab.notebook.generateWithVariable('df');\n",
              "      }\n",
              "      })();\n",
              "    </script>\n",
              "  </div>\n",
              "\n",
              "    </div>\n",
              "  </div>\n"
            ],
            "application/vnd.google.colaboratory.intrinsic+json": {
              "type": "dataframe",
              "variable_name": "df",
              "summary": "{\n  \"name\": \"df\",\n  \"rows\": 870,\n  \"fields\": [\n    {\n      \"column\": \"guid\",\n      \"properties\": {\n        \"dtype\": \"string\",\n        \"num_unique_values\": 870,\n        \"samples\": [\n          \"e56cc9bfd61bda3d4d334d79cf633b23\",\n          \"c90410416b05af4e43da24249ff23a8a\",\n          \"6a7fa2fb009dbe69065ccbc6f0dc2698\"\n        ],\n        \"semantic_type\": \"\",\n        \"description\": \"\"\n      }\n    },\n    {\n      \"column\": \"title\",\n      \"properties\": {\n        \"dtype\": \"string\",\n        \"num_unique_values\": 841,\n        \"samples\": [\n          \"Palestinian baby rescued from mother\\u2019s womb dies in Gaza hospital\",\n          \"Jack Draper finds positives despite humbling by Hurkacz at Madrid Open\",\n          \"More arrests as US campus protests continue to spread\"\n        ],\n        \"semantic_type\": \"\",\n        \"description\": \"\"\n      }\n    },\n    {\n      \"column\": \"description\",\n      \"properties\": {\n        \"dtype\": \"string\",\n        \"num_unique_values\": 845,\n        \"samples\": [\n          \"New rules are designed to eliminate fossil-fuel power plants. Energy scarcity is sure to result.\",\n          \"Trial will see more questions for publisher following his testimony about \\u2018catch and kill\\u2019 schemes to buy up negative storiesMy colleague Sam Levine was at the Manhattan courthouse yesterday to see Pecker\\u2019s testimony firsthand. Here are his main takeaways:Welcome back.Bove traced Pecker\\u2019s long relationship with Trump, showing how he helped his friend long before the presidential election. Pecker spoke about how he gave Trump a heads up about a negative story about Trump\\u2019s then wife, Marla Maples.Trump addressed the media as he left the courtroom, describing Pecker\\u2019s testimony as \\u201cbreathtaking and amazing\\u201d. \\u201cThis is a trial that should\\u2019ve never happened, this is a case that should\\u2019ve never been filed and it was really an incredible, an incredible day,\\u201d he told reporters.Pecker said he agreed to buy a story from the Playboy model Karen McDougal specifically to bury it so that it did not \\u201cembarrass or hurt the [Trump] campaign\\u201d. He said a $150,000 payment he agreed to make to McDougal in August 2016 was so his publication could \\u201ckill\\u201d McDougal\\u2019s story about a 10-month affair she says she had with Trump a decade earlier. The jury was shown records of the $150,000 payment, including an invoice from McDougal\\u2019s lawyer.Pecker said Trump called him for advice after he became a presidential candidate, telling him \\u201cKaren is a nice girl\\u201d, and that he was worried news of the affair would hurt his campaign. \\u201cI think you should buy the story and take it off the market,\\u201d Pecker recalled telling Trump.Pecker said he worked with the former National Enquirer editor-in-chief, Dylan Howard, and Trump\\u2019s lawyer Michael Cohen to facilitate the payment. Pecker admitted that the goal of the paper\\u2019s publisher American Media Inc (AMI) was to try to prevent the story from interfering with the Trump campaign, and that he was concerned the payment could violate federal campaign finance law.But Pecker said things turned sour when he ultimately backed out of the agreement. Pecker confirmed that AMI consulted with an election law attorney, and that Cohen was \\u201cvery, very angry, screaming basically\\u201d about it.Pecker said he received a frantic call from Howard in early October 2016, saying Stormy Daniels was trying to sell a story about her sexual relationship with Trump. He said Howard claimed Daniels wanted $120,000 for the story. Pecker said he did not want to be involved with a porn star, and that Cohen told him \\u201cthe boss will be very angry with you\\u201d.Prosecutor Joshua Steinglass repeatedly tied Trump\\u2019s motive for quashing the story to protecting his presidential campaign. The prosecution\\u2019s case is that it was interference in the 2016 election, which Trump won. \\u201cI made the assumption that his concern was the campaign,\\u201d Pecker said when asked if Trump ever expressed any concern for his wife and children. Continue reading...\",\n          \"Stocks and government bonds fell sharply after fresh data showed the U.S. economy slowed in the first quarter.\"\n        ],\n        \"semantic_type\": \"\",\n        \"description\": \"\"\n      }\n    },\n    {\n      \"column\": \"venue\",\n      \"properties\": {\n        \"dtype\": \"category\",\n        \"num_unique_values\": 12,\n        \"samples\": [\n          \"Washington Post\",\n          \"Times of India\",\n          \"BBC\"\n        ],\n        \"semantic_type\": \"\",\n        \"description\": \"\"\n      }\n    },\n    {\n      \"column\": \"url\",\n      \"properties\": {\n        \"dtype\": \"string\",\n        \"num_unique_values\": 851,\n        \"samples\": [\n          \"https://www.france24.com/en/europe/20240425-us-secretly-sent-ukraine-long-range-atacms-missiles\",\n          \"https://www.wsj.com/articles/blinken-meets-with-xi-as-u-s-pressures-china-to-end-support-for-russia-96e831e0\",\n          \"https://www.wsj.com/business/retail/remy-cointreau-sales-decline-as-u-s-woes-persist-e0cad36c\"\n        ],\n        \"semantic_type\": \"\",\n        \"description\": \"\"\n      }\n    },\n    {\n      \"column\": \"published_at\",\n      \"properties\": {\n        \"dtype\": \"string\",\n        \"num_unique_values\": 783,\n        \"samples\": [\n          \"2024-04-25 19:17:00+00\",\n          \"2024-04-27 22:50:47+00\",\n          \"2024-04-26 09:11:17+00\"\n        ],\n        \"semantic_type\": \"\",\n        \"description\": \"\"\n      }\n    },\n    {\n      \"column\": \"updated_at\",\n      \"properties\": {\n        \"dtype\": \"object\",\n        \"num_unique_values\": 870,\n        \"samples\": [\n          \"2024-04-27 01:32:46.027846+00\",\n          \"2024-04-26 20:03:01.215267+00\",\n          \"2024-04-27 17:32:52.759049+00\"\n        ],\n        \"semantic_type\": \"\",\n        \"description\": \"\"\n      }\n    },\n    {\n      \"column\": \"cluster\",\n      \"properties\": {\n        \"dtype\": \"category\",\n        \"num_unique_values\": 15,\n        \"samples\": [\n          \"7\",\n          \"4\",\n          \"8\"\n        ],\n        \"semantic_type\": \"\",\n        \"description\": \"\"\n      }\n    }\n  ]\n}"
            }
          },
          "metadata": {},
          "execution_count": 4
        }
      ]
    },
    {
      "cell_type": "markdown",
      "source": [
        "# Visualize the cluster result using UMAP"
      ],
      "metadata": {
        "id": "F8dNpsvz5Pt4"
      }
    },
    {
      "cell_type": "code",
      "source": [
        "umap = UMAP(n_components=2,  n_neighbors=80, min_dist=0.2)\n",
        "\n",
        "df_umap = (\n",
        "    pd.DataFrame(umap.fit_transform(np.array(embeddings)), columns=['x', 'y'])\n",
        "    .assign(cluster=lambda df: hdb.labels_.astype(str))\n",
        "    .query('cluster != \"-1\"')\n",
        "    .sort_values(by='cluster')\n",
        ")\n",
        "\n",
        "fig = px.scatter(df_umap, x='x', y='y', color='cluster')\n",
        "fig.show()"
      ],
      "metadata": {
        "id": "sKOmAZ9f5Mbv",
        "colab": {
          "base_uri": "https://localhost:8080/",
          "height": 597
        },
        "outputId": "964e1420-af94-48fc-8d6d-a1d1f06fc3f9"
      },
      "execution_count": 5,
      "outputs": [
        {
          "output_type": "stream",
          "name": "stderr",
          "text": [
            "/usr/local/lib/python3.11/dist-packages/sklearn/utils/deprecation.py:151: FutureWarning: 'force_all_finite' was renamed to 'ensure_all_finite' in 1.6 and will be removed in 1.8.\n",
            "  warnings.warn(\n"
          ]
        },
        {
          "output_type": "display_data",
          "data": {
            "text/html": [
              "<html>\n",
              "<head><meta charset=\"utf-8\" /></head>\n",
              "<body>\n",
              "    <div>            <script src=\"https://cdnjs.cloudflare.com/ajax/libs/mathjax/2.7.5/MathJax.js?config=TeX-AMS-MML_SVG\"></script><script type=\"text/javascript\">if (window.MathJax && window.MathJax.Hub && window.MathJax.Hub.Config) {window.MathJax.Hub.Config({SVG: {font: \"STIX-Web\"}});}</script>                <script type=\"text/javascript\">window.PlotlyConfig = {MathJaxConfig: 'local'};</script>\n",
              "        <script charset=\"utf-8\" src=\"https://cdn.plot.ly/plotly-2.35.2.min.js\"></script>                <div id=\"e44583f8-f8ba-4599-a267-cfdc0d88818d\" class=\"plotly-graph-div\" style=\"height:525px; width:100%;\"></div>            <script type=\"text/javascript\">                                    window.PLOTLYENV=window.PLOTLYENV || {};                                    if (document.getElementById(\"e44583f8-f8ba-4599-a267-cfdc0d88818d\")) {                    Plotly.newPlot(                        \"e44583f8-f8ba-4599-a267-cfdc0d88818d\",                        [{\"hovertemplate\":\"cluster=0\\u003cbr\\u003ex=%{x}\\u003cbr\\u003ey=%{y}\\u003cextra\\u003e\\u003c\\u002fextra\\u003e\",\"legendgroup\":\"0\",\"marker\":{\"color\":\"#636efa\",\"symbol\":\"circle\"},\"mode\":\"markers\",\"name\":\"0\",\"orientation\":\"v\",\"showlegend\":true,\"x\":[10.252144,10.235022,9.894355,9.828017,10.045122,10.153342,10.033508,9.91108,10.072285,9.923813,9.943248,10.156726,10.095347,10.193219,10.067102,9.874893],\"xaxis\":\"x\",\"y\":[11.174449,11.171733,11.425444,11.546793,11.274216,11.440487,11.344135,11.607586,11.455705,11.669073,11.5234165,11.333534,11.562243,11.3833275,11.53652,11.619204],\"yaxis\":\"y\",\"type\":\"scatter\"},{\"hovertemplate\":\"cluster=1\\u003cbr\\u003ex=%{x}\\u003cbr\\u003ey=%{y}\\u003cextra\\u003e\\u003c\\u002fextra\\u003e\",\"legendgroup\":\"1\",\"marker\":{\"color\":\"#EF553B\",\"symbol\":\"circle\"},\"mode\":\"markers\",\"name\":\"1\",\"orientation\":\"v\",\"showlegend\":true,\"x\":[12.851027,13.178739,12.956802,13.160092,12.824246,13.042194,13.103525,13.141533,13.194665,13.005237,12.92278,13.232309,13.166766,12.807946,13.165298,13.105939,13.078062,12.824675,13.222342,13.212112],\"xaxis\":\"x\",\"y\":[8.766382,9.434739,9.375881,9.016014,9.2566595,8.907,9.841905,9.6768265,9.060669,9.270409,9.332785,9.047063,9.426471,9.382141,9.079907,9.470578,9.684438,8.80856,9.685058,9.168286],\"yaxis\":\"y\",\"type\":\"scatter\"},{\"hovertemplate\":\"cluster=10\\u003cbr\\u003ex=%{x}\\u003cbr\\u003ey=%{y}\\u003cextra\\u003e\\u003c\\u002fextra\\u003e\",\"legendgroup\":\"10\",\"marker\":{\"color\":\"#00cc96\",\"symbol\":\"circle\"},\"mode\":\"markers\",\"name\":\"10\",\"orientation\":\"v\",\"showlegend\":true,\"x\":[11.719702,12.529909,12.5228,12.38293,12.413105,12.467142,12.334351,12.12199,11.858406,11.870682,12.292174,12.297242,8.963806,12.131245,8.9196005,12.168379,12.535393,8.943002,11.673759,11.853616,11.806669,12.095995,11.756197,12.109721,11.8769455,11.890234,12.629033,12.267021,12.443446,9.9682865,12.4724865,12.009183,11.954541,12.231179,12.351399,12.06874,11.924154,11.795116,12.180621,12.370755,9.035503,8.902879,12.360901,12.005436,12.190718,12.43563,12.40733,12.208498,8.972887,12.266811,11.857628,9.421705,8.895443,8.885957,11.702463,8.969392,12.03192],\"xaxis\":\"x\",\"y\":[12.913303,12.36868,12.323445,12.282462,11.994335,12.488361,12.355361,12.910047,12.776482,12.531214,11.908486,12.065601,13.542888,12.561402,13.583444,12.672547,12.061336,13.572857,12.503161,12.154956,12.781039,12.854395,12.518003,12.826692,12.513526,12.28684,12.332236,12.979523,12.424122,13.304778,12.079837,12.736251,12.480538,12.714235,12.658211,12.604487,12.8361845,12.638145,12.397297,12.604378,13.299151,13.432388,12.331129,12.880255,12.387551,12.554626,12.50706,12.527841,13.560079,12.512227,12.882895,13.283936,13.468347,13.515647,12.463147,13.593648,12.909653],\"yaxis\":\"y\",\"type\":\"scatter\"},{\"hovertemplate\":\"cluster=11\\u003cbr\\u003ex=%{x}\\u003cbr\\u003ey=%{y}\\u003cextra\\u003e\\u003c\\u002fextra\\u003e\",\"legendgroup\":\"11\",\"marker\":{\"color\":\"#ab63fa\",\"symbol\":\"circle\"},\"mode\":\"markers\",\"name\":\"11\",\"orientation\":\"v\",\"showlegend\":true,\"x\":[8.020358,7.585216,7.259016,7.518524,7.5159426,7.93134,7.5903196,7.225616,8.271086,7.7979064,8.418946,7.6580133,7.3240447,7.3647304,7.425485,7.96433,7.6101227,7.087843,7.7697687,7.79907,7.506559,7.8298497,7.6440573,7.7085357,7.3072934,7.4823337,7.65815,8.037659,7.2072163,7.8870997,7.757518,7.250057,8.017578,7.8760767,7.281009,7.287158,7.5289845,7.6678,7.5280595,7.80083,7.6916213,7.589244,7.537939,7.5549536,7.93241,7.8515134,7.7666383,7.585386],\"xaxis\":\"x\",\"y\":[11.987725,12.2403555,12.297208,12.336713,12.199367,12.031429,12.711835,12.061094,12.127279,12.33621,12.317884,12.705101,12.508317,12.033657,12.11598,12.646179,12.230682,12.264925,12.252717,12.725204,12.491183,12.171246,12.511955,12.282443,12.3913145,12.175051,12.659045,12.081781,12.423193,12.357733,12.165976,12.444318,12.179585,12.192807,12.455876,12.159184,12.76339,12.212973,12.616141,12.584761,12.011668,12.205071,12.381196,12.789863,12.505649,12.602835,12.409364,12.829123],\"yaxis\":\"y\",\"type\":\"scatter\"},{\"hovertemplate\":\"cluster=12\\u003cbr\\u003ex=%{x}\\u003cbr\\u003ey=%{y}\\u003cextra\\u003e\\u003c\\u002fextra\\u003e\",\"legendgroup\":\"12\",\"marker\":{\"color\":\"#FFA15A\",\"symbol\":\"circle\"},\"mode\":\"markers\",\"name\":\"12\",\"orientation\":\"v\",\"showlegend\":true,\"x\":[9.500661,8.584623,9.007143,8.448427,8.642326,8.475783,9.208707,8.862573,8.990408,8.894775,9.031188,9.055634,8.979777,8.486897],\"xaxis\":\"x\",\"y\":[12.337767,12.9804945,12.686357,12.97078,12.791961,13.041608,12.472001,12.824711,12.961694,12.936519,12.610982,12.6368065,12.827872,13.005421],\"yaxis\":\"y\",\"type\":\"scatter\"},{\"hovertemplate\":\"cluster=13\\u003cbr\\u003ex=%{x}\\u003cbr\\u003ey=%{y}\\u003cextra\\u003e\\u003c\\u002fextra\\u003e\",\"legendgroup\":\"13\",\"marker\":{\"color\":\"#19d3f3\",\"symbol\":\"circle\"},\"mode\":\"markers\",\"name\":\"13\",\"orientation\":\"v\",\"showlegend\":true,\"x\":[13.068564,12.886392,13.144853,13.034513,12.841354,13.002547,12.907453,13.062773,13.07323,12.81657,12.653798,13.035258,13.137194,13.227752,12.978852,13.011332,13.09974,12.8930435,12.833778,12.989004,13.205011,13.157076,12.921399,12.998443,13.030622],\"xaxis\":\"x\",\"y\":[11.210297,11.130355,10.898007,11.2117,11.104937,11.305815,11.036495,11.198096,11.034262,11.115822,11.017363,10.926103,11.02033,11.015612,11.014539,11.298355,11.111849,11.05554,10.766367,11.053765,11.181257,10.979151,11.341944,11.324957,10.98729],\"yaxis\":\"y\",\"type\":\"scatter\"},{\"hovertemplate\":\"cluster=2\\u003cbr\\u003ex=%{x}\\u003cbr\\u003ey=%{y}\\u003cextra\\u003e\\u003c\\u002fextra\\u003e\",\"legendgroup\":\"2\",\"marker\":{\"color\":\"#FF6692\",\"symbol\":\"circle\"},\"mode\":\"markers\",\"name\":\"2\",\"orientation\":\"v\",\"showlegend\":true,\"x\":[11.784504,10.840904,12.064821,11.959685,11.50302,11.547287,10.827381,11.876547,11.8193655,11.313853,11.8396,11.39919,12.024304,10.940337,11.7774935,11.935131,10.783862,11.48997,12.232055,12.099282,11.512832,11.918731,11.412995,11.471556,11.827755,11.359052,11.928897,12.388846,12.145119,10.672499,11.817363],\"xaxis\":\"x\",\"y\":[9.632052,8.106549,8.940276,9.177433,8.958962,9.54667,7.9493546,9.541613,9.5527,8.8425,9.6962385,9.036514,9.736914,7.8802943,9.679023,9.6531515,7.9687867,9.655925,9.291544,9.106406,9.153927,8.842255,8.904695,9.6583395,9.622867,8.970574,9.20491,9.439119,9.254384,8.046542,9.333685],\"yaxis\":\"y\",\"type\":\"scatter\"},{\"hovertemplate\":\"cluster=3\\u003cbr\\u003ex=%{x}\\u003cbr\\u003ey=%{y}\\u003cextra\\u003e\\u003c\\u002fextra\\u003e\",\"legendgroup\":\"3\",\"marker\":{\"color\":\"#B6E880\",\"symbol\":\"circle\"},\"mode\":\"markers\",\"name\":\"3\",\"orientation\":\"v\",\"showlegend\":true,\"x\":[11.956511,12.350355,12.532422,12.628273,12.5781,11.899638,12.96754,12.406382,12.604746,12.102337,12.505787,12.353686,12.363054,12.62626,12.151834,12.442114,12.218856,12.445467,12.539213,12.377282,12.435335,12.494169,13.054282],\"xaxis\":\"x\",\"y\":[8.46049,8.4267435,8.319039,8.548905,8.483726,8.557237,8.829562,8.453431,8.555255,8.438328,8.430705,8.319657,8.349146,8.392308,8.38763,8.116854,8.225957,8.448562,8.266039,8.460318,8.15124,8.549999,8.834196],\"yaxis\":\"y\",\"type\":\"scatter\"},{\"hovertemplate\":\"cluster=4\\u003cbr\\u003ex=%{x}\\u003cbr\\u003ey=%{y}\\u003cextra\\u003e\\u003c\\u002fextra\\u003e\",\"legendgroup\":\"4\",\"marker\":{\"color\":\"#FF97FF\",\"symbol\":\"circle\"},\"mode\":\"markers\",\"name\":\"4\",\"orientation\":\"v\",\"showlegend\":true,\"x\":[8.44669,7.98569,8.097387,8.178887,7.972123,8.395606,8.074425,8.088423,7.96208,8.050259],\"xaxis\":\"x\",\"y\":[9.885506,9.677777,9.627043,9.372949,9.649569,9.396106,9.700837,9.635206,9.304112,9.706432],\"yaxis\":\"y\",\"type\":\"scatter\"},{\"hovertemplate\":\"cluster=5\\u003cbr\\u003ex=%{x}\\u003cbr\\u003ey=%{y}\\u003cextra\\u003e\\u003c\\u002fextra\\u003e\",\"legendgroup\":\"5\",\"marker\":{\"color\":\"#FECB52\",\"symbol\":\"circle\"},\"mode\":\"markers\",\"name\":\"5\",\"orientation\":\"v\",\"showlegend\":true,\"x\":[7.423358,7.3645372,7.3695636,7.4796634,7.345801,7.588878,7.4828787,7.560594,7.392088,7.2947392,7.3687186],\"xaxis\":\"x\",\"y\":[9.866424,9.782376,9.761807,10.052305,9.782048,10.274796,9.830123,10.158226,9.552613,9.764933,9.873539],\"yaxis\":\"y\",\"type\":\"scatter\"},{\"hovertemplate\":\"cluster=6\\u003cbr\\u003ex=%{x}\\u003cbr\\u003ey=%{y}\\u003cextra\\u003e\\u003c\\u002fextra\\u003e\",\"legendgroup\":\"6\",\"marker\":{\"color\":\"#636efa\",\"symbol\":\"circle\"},\"mode\":\"markers\",\"name\":\"6\",\"orientation\":\"v\",\"showlegend\":true,\"x\":[6.3045893,5.749497,5.9397454,5.967157,5.827829,6.0925107,5.9774137,5.97374,6.4209023,6.1931624,5.828615,6.1479006,6.4443293,5.882338,5.7983394,6.6185656,6.1081734,6.4708114,5.898612,6.7228837,6.208611,6.0873857,6.4315333,6.2828007,6.6298323,6.069231,6.4966073,6.56411,6.0122776,5.843701,6.330408,5.9844694,6.0986295,5.9812646,5.939417,5.7800794,6.4085526,6.234983,5.9655976,6.5384526,6.504016,6.373119,6.064617,6.5689077,6.3339086,6.3748627,6.1158013,5.8378863,6.005723,6.2002635],\"xaxis\":\"x\",\"y\":[8.400264,8.38142,8.021166,8.222382,8.411162,8.101929,8.176703,8.240913,8.695613,8.533264,8.219001,7.9435983,8.534367,8.496305,8.257011,8.194929,8.182144,8.469043,8.147666,8.333823,8.657756,8.676914,8.157823,7.946223,8.344383,8.299848,8.457512,8.720887,8.134018,8.089025,8.238475,8.19834,8.332906,8.376743,8.000472,8.428254,8.056388,8.350591,8.047691,8.219746,7.997943,8.079103,8.662943,8.407004,8.403258,8.341744,8.232275,8.316916,8.126243,8.044856],\"yaxis\":\"y\",\"type\":\"scatter\"},{\"hovertemplate\":\"cluster=7\\u003cbr\\u003ex=%{x}\\u003cbr\\u003ey=%{y}\\u003cextra\\u003e\\u003c\\u002fextra\\u003e\",\"legendgroup\":\"7\",\"marker\":{\"color\":\"#EF553B\",\"symbol\":\"circle\"},\"mode\":\"markers\",\"name\":\"7\",\"orientation\":\"v\",\"showlegend\":true,\"x\":[11.400369,11.688612,11.261728,11.463411,11.491956,11.398134,11.505215,11.62779,11.378507,11.505695,11.531228,11.340755,11.828553,11.271746,11.391051],\"xaxis\":\"x\",\"y\":[7.6780477,7.992526,7.642519,7.997421,7.817213,7.900485,7.6937423,7.816372,7.886339,7.9372277,7.8134365,7.9043775,7.9925065,7.73322,7.700518],\"yaxis\":\"y\",\"type\":\"scatter\"},{\"hovertemplate\":\"cluster=8\\u003cbr\\u003ex=%{x}\\u003cbr\\u003ey=%{y}\\u003cextra\\u003e\\u003c\\u002fextra\\u003e\",\"legendgroup\":\"8\",\"marker\":{\"color\":\"#00cc96\",\"symbol\":\"circle\"},\"mode\":\"markers\",\"name\":\"8\",\"orientation\":\"v\",\"showlegend\":true,\"x\":[8.747631,8.677937,8.869283,8.933496,8.869268,8.700105,8.745716,8.700667,8.788784,8.906721,8.93241,8.769472,8.750739,8.861754,8.846425,8.607038,8.646056,8.758911,8.697783,8.817554],\"xaxis\":\"x\",\"y\":[6.9173326,7.0377684,6.894397,7.249778,7.4741035,6.7588167,6.8759036,6.81811,6.8295364,6.715312,6.6807537,6.776052,6.912025,7.469393,6.7525916,6.750072,7.017091,6.811946,7.294392,6.62662],\"yaxis\":\"y\",\"type\":\"scatter\"},{\"hovertemplate\":\"cluster=9\\u003cbr\\u003ex=%{x}\\u003cbr\\u003ey=%{y}\\u003cextra\\u003e\\u003c\\u002fextra\\u003e\",\"legendgroup\":\"9\",\"marker\":{\"color\":\"#ab63fa\",\"symbol\":\"circle\"},\"mode\":\"markers\",\"name\":\"9\",\"orientation\":\"v\",\"showlegend\":true,\"x\":[10.269377,9.814865,10.3414135,10.381224,9.885694,10.259629,10.13873,10.168385,9.5667095,10.592262,10.209172,9.595074,10.240571,9.993262,10.21852,9.51732,10.245569,9.872986,10.273532,10.240685,10.205062,10.130047,10.104567,10.345861,9.626878,9.7683325,10.359657,9.615327,9.64696,9.763888,9.993886,9.674682,10.1405945,9.540078,10.351463,10.232982,10.042408,10.0718155,9.7331085,10.3565855,10.273419,9.688236,9.973103,9.342322,9.571905,10.299735,9.412785,9.995456,9.509552,10.092152,10.297966],\"xaxis\":\"x\",\"y\":[6.208268,6.8048263,6.2598605,6.4763865,6.9176426,6.6752462,6.3217645,6.322239,6.926334,6.5920424,6.2747135,6.876412,6.2946453,6.5026755,6.434475,7.253573,7.5996175,6.636919,7.4339695,6.394862,6.291904,7.8082013,6.2436547,6.3660345,7.360953,8.027489,6.405418,7.6505833,7.2051563,7.155114,7.682724,7.4063416,7.0905714,7.002704,7.4554696,6.2357345,6.8417478,7.6774936,7.058096,6.4454985,6.2352886,6.582438,7.116206,7.074168,7.216322,6.350468,7.095958,6.388707,7.2487845,6.048666,6.1763134],\"yaxis\":\"y\",\"type\":\"scatter\"}],                        {\"template\":{\"data\":{\"histogram2dcontour\":[{\"type\":\"histogram2dcontour\",\"colorbar\":{\"outlinewidth\":0,\"ticks\":\"\"},\"colorscale\":[[0.0,\"#0d0887\"],[0.1111111111111111,\"#46039f\"],[0.2222222222222222,\"#7201a8\"],[0.3333333333333333,\"#9c179e\"],[0.4444444444444444,\"#bd3786\"],[0.5555555555555556,\"#d8576b\"],[0.6666666666666666,\"#ed7953\"],[0.7777777777777778,\"#fb9f3a\"],[0.8888888888888888,\"#fdca26\"],[1.0,\"#f0f921\"]]}],\"choropleth\":[{\"type\":\"choropleth\",\"colorbar\":{\"outlinewidth\":0,\"ticks\":\"\"}}],\"histogram2d\":[{\"type\":\"histogram2d\",\"colorbar\":{\"outlinewidth\":0,\"ticks\":\"\"},\"colorscale\":[[0.0,\"#0d0887\"],[0.1111111111111111,\"#46039f\"],[0.2222222222222222,\"#7201a8\"],[0.3333333333333333,\"#9c179e\"],[0.4444444444444444,\"#bd3786\"],[0.5555555555555556,\"#d8576b\"],[0.6666666666666666,\"#ed7953\"],[0.7777777777777778,\"#fb9f3a\"],[0.8888888888888888,\"#fdca26\"],[1.0,\"#f0f921\"]]}],\"heatmap\":[{\"type\":\"heatmap\",\"colorbar\":{\"outlinewidth\":0,\"ticks\":\"\"},\"colorscale\":[[0.0,\"#0d0887\"],[0.1111111111111111,\"#46039f\"],[0.2222222222222222,\"#7201a8\"],[0.3333333333333333,\"#9c179e\"],[0.4444444444444444,\"#bd3786\"],[0.5555555555555556,\"#d8576b\"],[0.6666666666666666,\"#ed7953\"],[0.7777777777777778,\"#fb9f3a\"],[0.8888888888888888,\"#fdca26\"],[1.0,\"#f0f921\"]]}],\"heatmapgl\":[{\"type\":\"heatmapgl\",\"colorbar\":{\"outlinewidth\":0,\"ticks\":\"\"},\"colorscale\":[[0.0,\"#0d0887\"],[0.1111111111111111,\"#46039f\"],[0.2222222222222222,\"#7201a8\"],[0.3333333333333333,\"#9c179e\"],[0.4444444444444444,\"#bd3786\"],[0.5555555555555556,\"#d8576b\"],[0.6666666666666666,\"#ed7953\"],[0.7777777777777778,\"#fb9f3a\"],[0.8888888888888888,\"#fdca26\"],[1.0,\"#f0f921\"]]}],\"contourcarpet\":[{\"type\":\"contourcarpet\",\"colorbar\":{\"outlinewidth\":0,\"ticks\":\"\"}}],\"contour\":[{\"type\":\"contour\",\"colorbar\":{\"outlinewidth\":0,\"ticks\":\"\"},\"colorscale\":[[0.0,\"#0d0887\"],[0.1111111111111111,\"#46039f\"],[0.2222222222222222,\"#7201a8\"],[0.3333333333333333,\"#9c179e\"],[0.4444444444444444,\"#bd3786\"],[0.5555555555555556,\"#d8576b\"],[0.6666666666666666,\"#ed7953\"],[0.7777777777777778,\"#fb9f3a\"],[0.8888888888888888,\"#fdca26\"],[1.0,\"#f0f921\"]]}],\"surface\":[{\"type\":\"surface\",\"colorbar\":{\"outlinewidth\":0,\"ticks\":\"\"},\"colorscale\":[[0.0,\"#0d0887\"],[0.1111111111111111,\"#46039f\"],[0.2222222222222222,\"#7201a8\"],[0.3333333333333333,\"#9c179e\"],[0.4444444444444444,\"#bd3786\"],[0.5555555555555556,\"#d8576b\"],[0.6666666666666666,\"#ed7953\"],[0.7777777777777778,\"#fb9f3a\"],[0.8888888888888888,\"#fdca26\"],[1.0,\"#f0f921\"]]}],\"mesh3d\":[{\"type\":\"mesh3d\",\"colorbar\":{\"outlinewidth\":0,\"ticks\":\"\"}}],\"scatter\":[{\"fillpattern\":{\"fillmode\":\"overlay\",\"size\":10,\"solidity\":0.2},\"type\":\"scatter\"}],\"parcoords\":[{\"type\":\"parcoords\",\"line\":{\"colorbar\":{\"outlinewidth\":0,\"ticks\":\"\"}}}],\"scatterpolargl\":[{\"type\":\"scatterpolargl\",\"marker\":{\"colorbar\":{\"outlinewidth\":0,\"ticks\":\"\"}}}],\"bar\":[{\"error_x\":{\"color\":\"#2a3f5f\"},\"error_y\":{\"color\":\"#2a3f5f\"},\"marker\":{\"line\":{\"color\":\"#E5ECF6\",\"width\":0.5},\"pattern\":{\"fillmode\":\"overlay\",\"size\":10,\"solidity\":0.2}},\"type\":\"bar\"}],\"scattergeo\":[{\"type\":\"scattergeo\",\"marker\":{\"colorbar\":{\"outlinewidth\":0,\"ticks\":\"\"}}}],\"scatterpolar\":[{\"type\":\"scatterpolar\",\"marker\":{\"colorbar\":{\"outlinewidth\":0,\"ticks\":\"\"}}}],\"histogram\":[{\"marker\":{\"pattern\":{\"fillmode\":\"overlay\",\"size\":10,\"solidity\":0.2}},\"type\":\"histogram\"}],\"scattergl\":[{\"type\":\"scattergl\",\"marker\":{\"colorbar\":{\"outlinewidth\":0,\"ticks\":\"\"}}}],\"scatter3d\":[{\"type\":\"scatter3d\",\"line\":{\"colorbar\":{\"outlinewidth\":0,\"ticks\":\"\"}},\"marker\":{\"colorbar\":{\"outlinewidth\":0,\"ticks\":\"\"}}}],\"scattermapbox\":[{\"type\":\"scattermapbox\",\"marker\":{\"colorbar\":{\"outlinewidth\":0,\"ticks\":\"\"}}}],\"scatterternary\":[{\"type\":\"scatterternary\",\"marker\":{\"colorbar\":{\"outlinewidth\":0,\"ticks\":\"\"}}}],\"scattercarpet\":[{\"type\":\"scattercarpet\",\"marker\":{\"colorbar\":{\"outlinewidth\":0,\"ticks\":\"\"}}}],\"carpet\":[{\"aaxis\":{\"endlinecolor\":\"#2a3f5f\",\"gridcolor\":\"white\",\"linecolor\":\"white\",\"minorgridcolor\":\"white\",\"startlinecolor\":\"#2a3f5f\"},\"baxis\":{\"endlinecolor\":\"#2a3f5f\",\"gridcolor\":\"white\",\"linecolor\":\"white\",\"minorgridcolor\":\"white\",\"startlinecolor\":\"#2a3f5f\"},\"type\":\"carpet\"}],\"table\":[{\"cells\":{\"fill\":{\"color\":\"#EBF0F8\"},\"line\":{\"color\":\"white\"}},\"header\":{\"fill\":{\"color\":\"#C8D4E3\"},\"line\":{\"color\":\"white\"}},\"type\":\"table\"}],\"barpolar\":[{\"marker\":{\"line\":{\"color\":\"#E5ECF6\",\"width\":0.5},\"pattern\":{\"fillmode\":\"overlay\",\"size\":10,\"solidity\":0.2}},\"type\":\"barpolar\"}],\"pie\":[{\"automargin\":true,\"type\":\"pie\"}]},\"layout\":{\"autotypenumbers\":\"strict\",\"colorway\":[\"#636efa\",\"#EF553B\",\"#00cc96\",\"#ab63fa\",\"#FFA15A\",\"#19d3f3\",\"#FF6692\",\"#B6E880\",\"#FF97FF\",\"#FECB52\"],\"font\":{\"color\":\"#2a3f5f\"},\"hovermode\":\"closest\",\"hoverlabel\":{\"align\":\"left\"},\"paper_bgcolor\":\"white\",\"plot_bgcolor\":\"#E5ECF6\",\"polar\":{\"bgcolor\":\"#E5ECF6\",\"angularaxis\":{\"gridcolor\":\"white\",\"linecolor\":\"white\",\"ticks\":\"\"},\"radialaxis\":{\"gridcolor\":\"white\",\"linecolor\":\"white\",\"ticks\":\"\"}},\"ternary\":{\"bgcolor\":\"#E5ECF6\",\"aaxis\":{\"gridcolor\":\"white\",\"linecolor\":\"white\",\"ticks\":\"\"},\"baxis\":{\"gridcolor\":\"white\",\"linecolor\":\"white\",\"ticks\":\"\"},\"caxis\":{\"gridcolor\":\"white\",\"linecolor\":\"white\",\"ticks\":\"\"}},\"coloraxis\":{\"colorbar\":{\"outlinewidth\":0,\"ticks\":\"\"}},\"colorscale\":{\"sequential\":[[0.0,\"#0d0887\"],[0.1111111111111111,\"#46039f\"],[0.2222222222222222,\"#7201a8\"],[0.3333333333333333,\"#9c179e\"],[0.4444444444444444,\"#bd3786\"],[0.5555555555555556,\"#d8576b\"],[0.6666666666666666,\"#ed7953\"],[0.7777777777777778,\"#fb9f3a\"],[0.8888888888888888,\"#fdca26\"],[1.0,\"#f0f921\"]],\"sequentialminus\":[[0.0,\"#0d0887\"],[0.1111111111111111,\"#46039f\"],[0.2222222222222222,\"#7201a8\"],[0.3333333333333333,\"#9c179e\"],[0.4444444444444444,\"#bd3786\"],[0.5555555555555556,\"#d8576b\"],[0.6666666666666666,\"#ed7953\"],[0.7777777777777778,\"#fb9f3a\"],[0.8888888888888888,\"#fdca26\"],[1.0,\"#f0f921\"]],\"diverging\":[[0,\"#8e0152\"],[0.1,\"#c51b7d\"],[0.2,\"#de77ae\"],[0.3,\"#f1b6da\"],[0.4,\"#fde0ef\"],[0.5,\"#f7f7f7\"],[0.6,\"#e6f5d0\"],[0.7,\"#b8e186\"],[0.8,\"#7fbc41\"],[0.9,\"#4d9221\"],[1,\"#276419\"]]},\"xaxis\":{\"gridcolor\":\"white\",\"linecolor\":\"white\",\"ticks\":\"\",\"title\":{\"standoff\":15},\"zerolinecolor\":\"white\",\"automargin\":true,\"zerolinewidth\":2},\"yaxis\":{\"gridcolor\":\"white\",\"linecolor\":\"white\",\"ticks\":\"\",\"title\":{\"standoff\":15},\"zerolinecolor\":\"white\",\"automargin\":true,\"zerolinewidth\":2},\"scene\":{\"xaxis\":{\"backgroundcolor\":\"#E5ECF6\",\"gridcolor\":\"white\",\"linecolor\":\"white\",\"showbackground\":true,\"ticks\":\"\",\"zerolinecolor\":\"white\",\"gridwidth\":2},\"yaxis\":{\"backgroundcolor\":\"#E5ECF6\",\"gridcolor\":\"white\",\"linecolor\":\"white\",\"showbackground\":true,\"ticks\":\"\",\"zerolinecolor\":\"white\",\"gridwidth\":2},\"zaxis\":{\"backgroundcolor\":\"#E5ECF6\",\"gridcolor\":\"white\",\"linecolor\":\"white\",\"showbackground\":true,\"ticks\":\"\",\"zerolinecolor\":\"white\",\"gridwidth\":2}},\"shapedefaults\":{\"line\":{\"color\":\"#2a3f5f\"}},\"annotationdefaults\":{\"arrowcolor\":\"#2a3f5f\",\"arrowhead\":0,\"arrowwidth\":1},\"geo\":{\"bgcolor\":\"white\",\"landcolor\":\"#E5ECF6\",\"subunitcolor\":\"white\",\"showland\":true,\"showlakes\":true,\"lakecolor\":\"white\"},\"title\":{\"x\":0.05},\"mapbox\":{\"style\":\"light\"}}},\"xaxis\":{\"anchor\":\"y\",\"domain\":[0.0,1.0],\"title\":{\"text\":\"x\"}},\"yaxis\":{\"anchor\":\"x\",\"domain\":[0.0,1.0],\"title\":{\"text\":\"y\"}},\"legend\":{\"title\":{\"text\":\"cluster\"},\"tracegroupgap\":0},\"margin\":{\"t\":60}},                        {\"responsive\": true}                    ).then(function(){\n",
              "                            \n",
              "var gd = document.getElementById('e44583f8-f8ba-4599-a267-cfdc0d88818d');\n",
              "var x = new MutationObserver(function (mutations, observer) {{\n",
              "        var display = window.getComputedStyle(gd).display;\n",
              "        if (!display || display === 'none') {{\n",
              "            console.log([gd, 'removed!']);\n",
              "            Plotly.purge(gd);\n",
              "            observer.disconnect();\n",
              "        }}\n",
              "}});\n",
              "\n",
              "// Listen for the removal of the full notebook cells\n",
              "var notebookContainer = gd.closest('#notebook-container');\n",
              "if (notebookContainer) {{\n",
              "    x.observe(notebookContainer, {childList: true});\n",
              "}}\n",
              "\n",
              "// Listen for the clearing of the current output cell\n",
              "var outputEl = gd.closest('.output');\n",
              "if (outputEl) {{\n",
              "    x.observe(outputEl, {childList: true});\n",
              "}}\n",
              "\n",
              "                        })                };                            </script>        </div>\n",
              "</body>\n",
              "</html>"
            ]
          },
          "metadata": {}
        }
      ]
    },
    {
      "cell_type": "markdown",
      "source": [
        "# Generate Cluster Titles using LLM\n"
      ],
      "metadata": {
        "id": "SMbTTpMAJ709"
      }
    },
    {
      "cell_type": "code",
      "source": [
        "#modelid=\"llama3.1:8b-instruct-q4_0\"\n",
        "modelid=\"llama3.1:8b-text-q4_0\"\n",
        "\n",
        "get_ipython().system_raw(\"curl -fsSL https://ollama.com/install.sh | sh\")\n",
        "get_ipython().system_raw(\"ollama serve &\")\n",
        "get_ipython().system_raw(f\"ollama pull {modelid}\")"
      ],
      "metadata": {
        "colab": {
          "base_uri": "https://localhost:8080/"
        },
        "id": "VlWYaGo_vZJ3",
        "outputId": "a7e237a0-8aa9-4c25-f4f8-ea5c798a93ae"
      },
      "execution_count": 10,
      "outputs": [
        {
          "output_type": "stream",
          "name": "stderr",
          "text": [
            "\n",
            "KeyboardInterrupt\n",
            "\n"
          ]
        }
      ]
    },
    {
      "cell_type": "markdown",
      "source": [
        "curl -fsSL https://ollama.com/install.sh | sh\n",
        "\n",
        "then we can pull and start the llama3.1 model\n",
        "\n",
        "ollama serve & ollama pull llama3.1:8b-instruct-fp16"
      ],
      "metadata": {
        "id": "oUqys7OxKXod"
      }
    },
    {
      "cell_type": "code",
      "source": [
        "from langchain_community.llms import Ollama\n",
        "from langchain_core.prompts import PromptTemplate\n",
        "from tqdm import tqdm\n",
        "\n",
        "# Initialize an instance of the Ollama model\n",
        "llm = Ollama(model=modelid)\n",
        "# Invoke the model to generate responses\n",
        "#response = llm.invoke(\"What is the capital of Florida?\")\n",
        "# response = llm.invoke([{\"role\": \"user\", \"content\": \"What is the capital of Florida?\"}])\n",
        "#print(response)\n",
        "article_delimiter = \"####\"\n",
        "prompt_template = PromptTemplate.from_template('''\n",
        "Write a compelling and informative 4 to 5 word long topic title that summarizes the following articles.\n",
        "Ensure the title is engaging, concise, and accurately reflects the main point of the article. \\\n",
        "Output only to title and nothing else with the tag <TITLE></TITLE> around the title.\n",
        "Ensure that you only output the best option.\n",
        "\\\n",
        "ARTICLES:{article_delimiter}{articles}{article_delimiter} \\\n",
        "\\\n",
        "TOPIC TITLE:\n",
        "''')\n",
        "\n",
        "topicTitleChain = prompt_template | llm\n",
        "\n",
        "df[\"cluster_name\"] = \"Uncategorized\"\n",
        "\n",
        "def generate_topic_titles():\n",
        "    result = {}\n",
        "\n",
        "    for c in tqdm(df.cluster.unique()):\n",
        "        sample_articles = df.query(f\"cluster == '{c}'\").to_dict(orient=\"records\")\n",
        "\n",
        "        articles_str = \"\\n\\n\".join(\n",
        "            [\n",
        "                f\"[{i}] {article['title']}\\n{article['description'][:200]}{'...' if len(article['description']) > 200 else ''}\"\n",
        "                for i, article in enumerate(\n",
        "                    sample_articles, start=1\n",
        "                )\n",
        "            ]\n",
        "        )\n",
        "        topic_title=topicTitleChain.invoke({\"articles\":articles_str,\"article_delimiter\":article_delimiter},options={\"temperature\": 0.0})\n",
        "        print (topic_title)\n",
        "        df.loc[df.cluster == c, \"cluster_name\"] = topic_title\n",
        "        result[c]=topic_title\n",
        "    return result\n",
        "\n",
        "topic_titles=generate_topic_titles()\n",
        "topic_titles\n",
        "\n",
        "#c = 6\n",
        "#with pd.option_context(\"display.max_colwidth\", None):\n",
        "#    print(df.query(f\"cluster == '{c}'\").topic_title.values[0])\n",
        "#    display(df.query(f\"cluster == '{c}'\").drop(columns=[\"topic_title\"]).head())"
      ],
      "metadata": {
        "colab": {
          "base_uri": "https://localhost:8080/"
        },
        "id": "NYjTgpcbD9iv",
        "outputId": "95d3b6f4-bac5-4315-ef83-27ea198d8ffe"
      },
      "execution_count": 8,
      "outputs": [
        {
          "output_type": "stream",
          "name": "stderr",
          "text": [
            "<ipython-input-8-9cd699c0640f>:6: LangChainDeprecationWarning:\n",
            "\n",
            "The class `Ollama` was deprecated in LangChain 0.3.1 and will be removed in 1.0.0. An updated version of the class exists in the :class:`~langchain-ollama package and should be used instead. To use it run `pip install -U :class:`~langchain-ollama` and import as `from :class:`~langchain_ollama import OllamaLLM``.\n",
            "\n",
            "  7%|▋         | 1/15 [00:13<03:11, 13.68s/it]"
          ]
        },
        {
          "output_type": "stream",
          "name": "stdout",
          "text": [
            "Weinstein's Rape Conviction Overturned\n"
          ]
        },
        {
          "output_type": "stream",
          "name": "stderr",
          "text": [
            "\r 13%|█▎        | 2/15 [00:19<01:56,  8.98s/it]"
          ]
        },
        {
          "output_type": "stream",
          "name": "stdout",
          "text": [
            "The topic is the widespread protests on university campuses in the United States, Europe, and other parts of the world against Israel's war with Hamas, specifically:\n",
            "\n",
            "*   Protests demanding that universities cut financial ties to Israel and divest from companies enabling its actions\n",
            "*   Arrests of protesters at various US university campuses, including Emory University, Northeastern University, Boston, and Austin, Texas\n",
            "*   Police clearing pro-Palestinian encampments at three US universities\n",
            "*   Heckling and boos for a visiting House Speaker in Columbia, where the protests originated\n"
          ]
        },
        {
          "output_type": "stream",
          "name": "stderr",
          "text": [
            "\r 20%|██        | 3/15 [00:43<03:11, 15.94s/it]"
          ]
        },
        {
          "output_type": "stream",
          "name": "stdout",
          "text": [
            "I'll provide you with a summary of the articles under each topic title:\n",
            "\n",
            "**1. News**\n",
            "\n",
            "* A cybersecurity firm, Darktrace, has agreed to be acquired by US private equity firm Thoma Bravo for $5.3 billion.\n",
            "* A music company, Concord, has acquired Hipgnosis for $1.51 billion.\n",
            "\n",
            "**2. Technology and Security**\n",
            "\n",
            "* Cybersecurity firm Darktrace accepted a $5 billion takeover by US private equity firm Thoma Bravo.\n",
            "* Air conditioning and AI are demanding more power, but renewable energy can't keep up with the demand.\n",
            "* A cybersecurity firm has agreed to be acquired by a US private equity firm for a significant amount.\n",
            "\n",
            "**3. World News**\n",
            "\n",
            "* Treating Budget: Australia's Treasurer Jim Chalmers issued a warning about volatile global conditions affecting the nation's budget.\n",
            "* Confessions of an 82-year-old hitchhiker: The founder of Bradt travel guides has been thumbing lifts all over the world since her teens.\n",
            "* Searching for missing loved ones in Gaza's mass graves: It is a huge challenge to find out how people died whose bodies were exhumed at Nasser hospital.\n",
            "\n",
            "**4. Arts and Culture**\n",
            "\n",
            "* Part protest, part rave: Indigenous artists are making their voices heard at the Venice Biennale.\n",
            "* The photography studio with four wheels and a sunroof: Adali Schell's best shot is featured in an exhibition at the New-York Historical Society.\n",
            "* A celebration 'of the immigrant, the foreigner, the queer and the Indigenous': Historically excluded take over at the Venice Biennale.\n",
            "\n",
            "**5. Business and Economy**\n",
            "\n",
            "* Thyssenkrupp Offloads Stake in Steel Business: The company agreed to sell a 20% stake in its steel business.\n",
            "* Hipgnosis agreed to an improved $1.51 billion takeover by Apollo-backed music company Concord, trumping an approach from Blackstone.\n",
            "\n",
            "**6. Crime and Justice**\n",
            "\n",
            "* Former Obama aide charged with crimes against children – media.\n",
            "* A former White House aide has been indicted for alleged child sex crimes in the UK.\n",
            "\n",
            "**7. Politics and Governance**\n",
            "\n",
            "* Cameron versus the Spitzenkandidaten: The \"wrong\" European Commission president could threaten the future of the Conservative Party.\n",
            "* Confessions of an 82-year-old hitchhiker: The founder of Bradt travel guides has been thumbing lifts all over the world since her teens.\n",
            "\n",
            "**8. Society and Culture**\n",
            "\n",
            "* From birds, to cattle, to … us? Could bird flu be the next pandemic?\n",
            "* Searching for missing loved ones in Gaza's mass graves: It is a huge challenge to find out how people died whose bodies were exhumed at Nasser hospital.\n",
            "* 'A sense of wonder enveloped my mother and me': Mishal Husain on her eye-opening journey through Uzbekistan.\n",
            "\n",
            "**9. Science and Environment**\n",
            "\n",
            "* Air conditioning and AI are demanding more power, but renewable energy can't keep up with the demand.\n",
            "* From birds, to cattle, to … us? Could bird flu be the next pandemic?\n",
            "* Searching for missing loved ones in Gaza's mass graves: It is a huge challenge to find out how people died whose bodies were exhumed at Nasser hospital.\n"
          ]
        },
        {
          "output_type": "stream",
          "name": "stderr",
          "text": [
            "\r 27%|██▋       | 4/15 [00:44<01:49,  9.97s/it]"
          ]
        },
        {
          "output_type": "stream",
          "name": "stdout",
          "text": [
            "Spanish PM Faces Resignation Pressure\n"
          ]
        },
        {
          "output_type": "stream",
          "name": "stderr",
          "text": [
            "\r 33%|███▎      | 5/15 [00:57<01:51, 11.11s/it]"
          ]
        },
        {
          "output_type": "stream",
          "name": "stdout",
          "text": [
            "It appears that you want me to summarize a large list of news articles related to Donald Trump's hush money trial and his presidential immunity case. I'll do my best to provide a concise summary of the main points.\n",
            "\n",
            "**Key Points:**\n",
            "\n",
            "1. **Trump's Immunity Case**: The Supreme Court is hearing arguments on whether Trump has presidential immunity from prosecution for actions taken while in office.\n",
            "2. **Hush Money Trial**: Trump is facing trial in Manhattan over allegations that he paid hush money to adult film star Stormy Daniels to keep her silent about an affair.\n",
            "3. **Trump's Lawyer**: Trump's lawyer, Alan Dershowitz, has been arguing that Trump has presidential immunity from prosecution for actions taken while in office.\n",
            "4. **Man Sets Himself on Fire**: A man set himself on fire outside the Manhattan courthouse where Trump is being tried, and was later identified as a self-described \"investigative researcher.\"\n",
            "5. **Supreme Court Decision**: The Supreme Court is expected to make a decision on Trump's immunity case by June, which could impact the timing of the hush money trial.\n",
            "6. **Biden Comments on Trump**: President Biden has been making jokes about Trump's legal woes, including at the White House Correspondents' Dinner.\n",
            "\n",
            "**Additional Points:**\n",
            "\n",
            "* Trump is facing multiple federal court charges related to his dealings with Ukraine and the January 6th Capitol attack.\n",
            "* Testimonies from witnesses, such as David Pecker, have been critical of Trump's actions.\n",
            "* There has been a gag order violation in the hush money trial, which may impact the proceedings.\n",
            "* Trump is expected to be in New York for the hush money trial while the Supreme Court hears his immunity case in Washington D.C.\n",
            "\n",
            "Please let me know if you'd like me to expand on any of these points or provide further clarification!\n"
          ]
        },
        {
          "output_type": "stream",
          "name": "stderr",
          "text": [
            "\r 40%|████      | 6/15 [00:58<01:09,  7.78s/it]"
          ]
        },
        {
          "output_type": "stream",
          "name": "stdout",
          "text": [
            "< TITLE > Extreme Weather Devastates East Africa < /TITLE >\n"
          ]
        },
        {
          "output_type": "stream",
          "name": "stderr",
          "text": [
            "\r 47%|████▋     | 7/15 [01:03<00:53,  6.71s/it]"
          ]
        },
        {
          "output_type": "stream",
          "name": "stdout",
          "text": [
            "It appears you've provided a list of news articles and headlines related to the ongoing conflict between Russia and Ukraine. The topics range from military aid packages, missile strikes, and diplomatic tensions between various countries.\n",
            "\n",
            "If you'd like, I can try to summarize or provide an overview of some of the key points and trends in these articles. Alternatively, if you have a specific question or topic in mind, feel free to ask!\n"
          ]
        },
        {
          "output_type": "stream",
          "name": "stderr",
          "text": [
            "\r 53%|█████▎    | 8/15 [01:04<00:35,  5.03s/it]"
          ]
        },
        {
          "output_type": "stream",
          "name": "stdout",
          "text": [
            "Big Tech's Heavy Bet on AI\n"
          ]
        },
        {
          "output_type": "stream",
          "name": "stderr",
          "text": [
            "\r 60%|██████    | 9/15 [01:06<00:23,  3.93s/it]"
          ]
        },
        {
          "output_type": "stream",
          "name": "stdout",
          "text": [
            "US Warns China on Russia Ties\n"
          ]
        },
        {
          "output_type": "stream",
          "name": "stderr",
          "text": [
            "\r 67%|██████▋   | 10/15 [01:07<00:15,  3.07s/it]"
          ]
        },
        {
          "output_type": "stream",
          "name": "stdout",
          "text": [
            "<TITLE>TikTok Ban: Global Regulatory Showdown</TITLE>\n"
          ]
        },
        {
          "output_type": "stream",
          "name": "stderr",
          "text": [
            "\r 73%|███████▎  | 11/15 [01:09<00:11,  2.78s/it]"
          ]
        },
        {
          "output_type": "stream",
          "name": "stdout",
          "text": [
            "<BIDEN ADMINISTRATION'S CLEAN ENERGY PUSH</BIDEN ADMINISTRATION'S CLEAN ENERGY PUSH>\n"
          ]
        },
        {
          "output_type": "stream",
          "name": "stderr",
          "text": [
            "\r 80%|████████  | 12/15 [01:10<00:06,  2.18s/it]"
          ]
        },
        {
          "output_type": "stream",
          "name": "stdout",
          "text": [
            "\"India Votes Amidst Rising Tensions\"\n"
          ]
        },
        {
          "output_type": "stream",
          "name": "stderr",
          "text": [
            "\r 87%|████████▋ | 13/15 [01:14<00:05,  2.88s/it]"
          ]
        },
        {
          "output_type": "stream",
          "name": "stdout",
          "text": [
            "It looks like you've copied a large block of text from an article about football (soccer). There is no specific question or topic title within this text. If you'd like to discuss something in particular, I can try to help with a response. However, if you'd like me to summarize the articles' main points or identify any interesting information within it, I can do that as well.\n"
          ]
        },
        {
          "output_type": "stream",
          "name": "stderr",
          "text": [
            "\r 93%|█████████▎| 14/15 [01:16<00:02,  2.40s/it]"
          ]
        },
        {
          "output_type": "stream",
          "name": "stdout",
          "text": [
            "< TITLE>Israeli-Palestinian Crisis Escalates</TITLE>\n"
          ]
        },
        {
          "output_type": "stream",
          "name": "stderr",
          "text": [
            "100%|██████████| 15/15 [01:17<00:00,  5.16s/it]"
          ]
        },
        {
          "output_type": "stream",
          "name": "stdout",
          "text": [
            "Rate Cuts Dashed by Slow Growth\n"
          ]
        },
        {
          "output_type": "stream",
          "name": "stderr",
          "text": [
            "\n"
          ]
        },
        {
          "output_type": "execute_result",
          "data": {
            "text/plain": [
              "{'8': \"Weinstein's Rape Conviction Overturned\",\n",
              " '11': \"The topic is the widespread protests on university campuses in the United States, Europe, and other parts of the world against Israel's war with Hamas, specifically:\\n\\n*   Protests demanding that universities cut financial ties to Israel and divest from companies enabling its actions\\n*   Arrests of protesters at various US university campuses, including Emory University, Northeastern University, Boston, and Austin, Texas\\n*   Police clearing pro-Palestinian encampments at three US universities\\n*   Heckling and boos for a visiting House Speaker in Columbia, where the protests originated\",\n",
              " '-1': 'I\\'ll provide you with a summary of the articles under each topic title:\\n\\n**1. News**\\n\\n* A cybersecurity firm, Darktrace, has agreed to be acquired by US private equity firm Thoma Bravo for $5.3 billion.\\n* A music company, Concord, has acquired Hipgnosis for $1.51 billion.\\n\\n**2. Technology and Security**\\n\\n* Cybersecurity firm Darktrace accepted a $5 billion takeover by US private equity firm Thoma Bravo.\\n* Air conditioning and AI are demanding more power, but renewable energy can\\'t keep up with the demand.\\n* A cybersecurity firm has agreed to be acquired by a US private equity firm for a significant amount.\\n\\n**3. World News**\\n\\n* Treating Budget: Australia\\'s Treasurer Jim Chalmers issued a warning about volatile global conditions affecting the nation\\'s budget.\\n* Confessions of an 82-year-old hitchhiker: The founder of Bradt travel guides has been thumbing lifts all over the world since her teens.\\n* Searching for missing loved ones in Gaza\\'s mass graves: It is a huge challenge to find out how people died whose bodies were exhumed at Nasser hospital.\\n\\n**4. Arts and Culture**\\n\\n* Part protest, part rave: Indigenous artists are making their voices heard at the Venice Biennale.\\n* The photography studio with four wheels and a sunroof: Adali Schell\\'s best shot is featured in an exhibition at the New-York Historical Society.\\n* A celebration \\'of the immigrant, the foreigner, the queer and the Indigenous\\': Historically excluded take over at the Venice Biennale.\\n\\n**5. Business and Economy**\\n\\n* Thyssenkrupp Offloads Stake in Steel Business: The company agreed to sell a 20% stake in its steel business.\\n* Hipgnosis agreed to an improved $1.51 billion takeover by Apollo-backed music company Concord, trumping an approach from Blackstone.\\n\\n**6. Crime and Justice**\\n\\n* Former Obama aide charged with crimes against children – media.\\n* A former White House aide has been indicted for alleged child sex crimes in the UK.\\n\\n**7. Politics and Governance**\\n\\n* Cameron versus the Spitzenkandidaten: The \"wrong\" European Commission president could threaten the future of the Conservative Party.\\n* Confessions of an 82-year-old hitchhiker: The founder of Bradt travel guides has been thumbing lifts all over the world since her teens.\\n\\n**8. Society and Culture**\\n\\n* From birds, to cattle, to … us? Could bird flu be the next pandemic?\\n* Searching for missing loved ones in Gaza\\'s mass graves: It is a huge challenge to find out how people died whose bodies were exhumed at Nasser hospital.\\n* \\'A sense of wonder enveloped my mother and me\\': Mishal Husain on her eye-opening journey through Uzbekistan.\\n\\n**9. Science and Environment**\\n\\n* Air conditioning and AI are demanding more power, but renewable energy can\\'t keep up with the demand.\\n* From birds, to cattle, to … us? Could bird flu be the next pandemic?\\n* Searching for missing loved ones in Gaza\\'s mass graves: It is a huge challenge to find out how people died whose bodies were exhumed at Nasser hospital.',\n",
              " '5': 'Spanish PM Faces Resignation Pressure',\n",
              " '9': 'It appears that you want me to summarize a large list of news articles related to Donald Trump\\'s hush money trial and his presidential immunity case. I\\'ll do my best to provide a concise summary of the main points.\\n\\n**Key Points:**\\n\\n1. **Trump\\'s Immunity Case**: The Supreme Court is hearing arguments on whether Trump has presidential immunity from prosecution for actions taken while in office.\\n2. **Hush Money Trial**: Trump is facing trial in Manhattan over allegations that he paid hush money to adult film star Stormy Daniels to keep her silent about an affair.\\n3. **Trump\\'s Lawyer**: Trump\\'s lawyer, Alan Dershowitz, has been arguing that Trump has presidential immunity from prosecution for actions taken while in office.\\n4. **Man Sets Himself on Fire**: A man set himself on fire outside the Manhattan courthouse where Trump is being tried, and was later identified as a self-described \"investigative researcher.\"\\n5. **Supreme Court Decision**: The Supreme Court is expected to make a decision on Trump\\'s immunity case by June, which could impact the timing of the hush money trial.\\n6. **Biden Comments on Trump**: President Biden has been making jokes about Trump\\'s legal woes, including at the White House Correspondents\\' Dinner.\\n\\n**Additional Points:**\\n\\n* Trump is facing multiple federal court charges related to his dealings with Ukraine and the January 6th Capitol attack.\\n* Testimonies from witnesses, such as David Pecker, have been critical of Trump\\'s actions.\\n* There has been a gag order violation in the hush money trial, which may impact the proceedings.\\n* Trump is expected to be in New York for the hush money trial while the Supreme Court hears his immunity case in Washington D.C.\\n\\nPlease let me know if you\\'d like me to expand on any of these points or provide further clarification!',\n",
              " '0': '< TITLE > Extreme Weather Devastates East Africa < /TITLE >',\n",
              " '10': \"It appears you've provided a list of news articles and headlines related to the ongoing conflict between Russia and Ukraine. The topics range from military aid packages, missile strikes, and diplomatic tensions between various countries.\\n\\nIf you'd like, I can try to summarize or provide an overview of some of the key points and trends in these articles. Alternatively, if you have a specific question or topic in mind, feel free to ask!\",\n",
              " '3': \"Big Tech's Heavy Bet on AI\",\n",
              " '13': 'US Warns China on Russia Ties',\n",
              " '7': '<TITLE>TikTok Ban: Global Regulatory Showdown</TITLE>',\n",
              " '2': \"<BIDEN ADMINISTRATION'S CLEAN ENERGY PUSH</BIDEN ADMINISTRATION'S CLEAN ENERGY PUSH>\",\n",
              " '4': '\"India Votes Amidst Rising Tensions\"',\n",
              " '6': \"It looks like you've copied a large block of text from an article about football (soccer). There is no specific question or topic title within this text. If you'd like to discuss something in particular, I can try to help with a response. However, if you'd like me to summarize the articles' main points or identify any interesting information within it, I can do that as well.\",\n",
              " '12': '< TITLE>Israeli-Palestinian Crisis Escalates</TITLE>',\n",
              " '1': 'Rate Cuts Dashed by Slow Growth'}"
            ]
          },
          "metadata": {},
          "execution_count": 8
        }
      ]
    },
    {
      "cell_type": "code",
      "execution_count": 9,
      "metadata": {
        "id": "-Y8XzgAPdm9R",
        "colab": {
          "base_uri": "https://localhost:8080/",
          "height": 425
        },
        "outputId": "c436f12a-ceb3-44e1-9cd7-6daa83f35d9c"
      },
      "outputs": [
        {
          "output_type": "stream",
          "name": "stderr",
          "text": [
            "/usr/local/lib/python3.11/dist-packages/sklearn/utils/deprecation.py:151: FutureWarning:\n",
            "\n",
            "'force_all_finite' was renamed to 'ensure_all_finite' in 1.6 and will be removed in 1.8.\n",
            "\n"
          ]
        },
        {
          "output_type": "error",
          "ename": "TypeError",
          "evalue": "unhashable type: 'numpy.ndarray'",
          "traceback": [
            "\u001b[0;31m---------------------------------------------------------------------------\u001b[0m",
            "\u001b[0;31mTypeError\u001b[0m                                 Traceback (most recent call last)",
            "\u001b[0;32m<ipython-input-9-902e1f76505d>\u001b[0m in \u001b[0;36m<cell line: 0>\u001b[0;34m()\u001b[0m\n\u001b[1;32m      3\u001b[0m df_umap = (\n\u001b[1;32m      4\u001b[0m     \u001b[0mpd\u001b[0m\u001b[0;34m.\u001b[0m\u001b[0mDataFrame\u001b[0m\u001b[0;34m(\u001b[0m\u001b[0mumap\u001b[0m\u001b[0;34m.\u001b[0m\u001b[0mfit_transform\u001b[0m\u001b[0;34m(\u001b[0m\u001b[0mnp\u001b[0m\u001b[0;34m.\u001b[0m\u001b[0marray\u001b[0m\u001b[0;34m(\u001b[0m\u001b[0membeddings\u001b[0m\u001b[0;34m)\u001b[0m\u001b[0;34m)\u001b[0m\u001b[0;34m,\u001b[0m \u001b[0mcolumns\u001b[0m\u001b[0;34m=\u001b[0m\u001b[0;34m[\u001b[0m\u001b[0;34m'x'\u001b[0m\u001b[0;34m,\u001b[0m \u001b[0;34m'y'\u001b[0m\u001b[0;34m]\u001b[0m\u001b[0;34m)\u001b[0m\u001b[0;34m\u001b[0m\u001b[0;34m\u001b[0m\u001b[0m\n\u001b[0;32m----> 5\u001b[0;31m     \u001b[0;34m.\u001b[0m\u001b[0massign\u001b[0m\u001b[0;34m(\u001b[0m\u001b[0mcluster\u001b[0m\u001b[0;34m=\u001b[0m\u001b[0;32mlambda\u001b[0m \u001b[0mdf\u001b[0m\u001b[0;34m:\u001b[0m  \u001b[0mtopic_titles\u001b[0m\u001b[0;34m[\u001b[0m\u001b[0mhdb\u001b[0m\u001b[0;34m.\u001b[0m\u001b[0mlabels_\u001b[0m\u001b[0;34m.\u001b[0m\u001b[0mastype\u001b[0m\u001b[0;34m(\u001b[0m\u001b[0mstr\u001b[0m\u001b[0;34m)\u001b[0m\u001b[0;34m]\u001b[0m\u001b[0;34m)\u001b[0m\u001b[0;34m\u001b[0m\u001b[0;34m\u001b[0m\u001b[0m\n\u001b[0m\u001b[1;32m      6\u001b[0m     \u001b[0;34m.\u001b[0m\u001b[0mquery\u001b[0m\u001b[0;34m(\u001b[0m\u001b[0;34m'cluster != \"-1\"'\u001b[0m\u001b[0;34m)\u001b[0m\u001b[0;34m\u001b[0m\u001b[0;34m\u001b[0m\u001b[0m\n\u001b[1;32m      7\u001b[0m     \u001b[0;34m.\u001b[0m\u001b[0msort_values\u001b[0m\u001b[0;34m(\u001b[0m\u001b[0mby\u001b[0m\u001b[0;34m=\u001b[0m\u001b[0;34m'cluster'\u001b[0m\u001b[0;34m)\u001b[0m\u001b[0;34m\u001b[0m\u001b[0;34m\u001b[0m\u001b[0m\n",
            "\u001b[0;32m/usr/local/lib/python3.11/dist-packages/pandas/core/frame.py\u001b[0m in \u001b[0;36massign\u001b[0;34m(self, **kwargs)\u001b[0m\n\u001b[1;32m   5237\u001b[0m \u001b[0;34m\u001b[0m\u001b[0m\n\u001b[1;32m   5238\u001b[0m         \u001b[0;32mfor\u001b[0m \u001b[0mk\u001b[0m\u001b[0;34m,\u001b[0m \u001b[0mv\u001b[0m \u001b[0;32min\u001b[0m \u001b[0mkwargs\u001b[0m\u001b[0;34m.\u001b[0m\u001b[0mitems\u001b[0m\u001b[0;34m(\u001b[0m\u001b[0;34m)\u001b[0m\u001b[0;34m:\u001b[0m\u001b[0;34m\u001b[0m\u001b[0;34m\u001b[0m\u001b[0m\n\u001b[0;32m-> 5239\u001b[0;31m             \u001b[0mdata\u001b[0m\u001b[0;34m[\u001b[0m\u001b[0mk\u001b[0m\u001b[0;34m]\u001b[0m \u001b[0;34m=\u001b[0m \u001b[0mcom\u001b[0m\u001b[0;34m.\u001b[0m\u001b[0mapply_if_callable\u001b[0m\u001b[0;34m(\u001b[0m\u001b[0mv\u001b[0m\u001b[0;34m,\u001b[0m \u001b[0mdata\u001b[0m\u001b[0;34m)\u001b[0m\u001b[0;34m\u001b[0m\u001b[0;34m\u001b[0m\u001b[0m\n\u001b[0m\u001b[1;32m   5240\u001b[0m         \u001b[0;32mreturn\u001b[0m \u001b[0mdata\u001b[0m\u001b[0;34m\u001b[0m\u001b[0;34m\u001b[0m\u001b[0m\n\u001b[1;32m   5241\u001b[0m \u001b[0;34m\u001b[0m\u001b[0m\n",
            "\u001b[0;32m/usr/local/lib/python3.11/dist-packages/pandas/core/common.py\u001b[0m in \u001b[0;36mapply_if_callable\u001b[0;34m(maybe_callable, obj, **kwargs)\u001b[0m\n\u001b[1;32m    382\u001b[0m     \"\"\"\n\u001b[1;32m    383\u001b[0m     \u001b[0;32mif\u001b[0m \u001b[0mcallable\u001b[0m\u001b[0;34m(\u001b[0m\u001b[0mmaybe_callable\u001b[0m\u001b[0;34m)\u001b[0m\u001b[0;34m:\u001b[0m\u001b[0;34m\u001b[0m\u001b[0;34m\u001b[0m\u001b[0m\n\u001b[0;32m--> 384\u001b[0;31m         \u001b[0;32mreturn\u001b[0m \u001b[0mmaybe_callable\u001b[0m\u001b[0;34m(\u001b[0m\u001b[0mobj\u001b[0m\u001b[0;34m,\u001b[0m \u001b[0;34m**\u001b[0m\u001b[0mkwargs\u001b[0m\u001b[0;34m)\u001b[0m\u001b[0;34m\u001b[0m\u001b[0;34m\u001b[0m\u001b[0m\n\u001b[0m\u001b[1;32m    385\u001b[0m \u001b[0;34m\u001b[0m\u001b[0m\n\u001b[1;32m    386\u001b[0m     \u001b[0;32mreturn\u001b[0m \u001b[0mmaybe_callable\u001b[0m\u001b[0;34m\u001b[0m\u001b[0;34m\u001b[0m\u001b[0m\n",
            "\u001b[0;32m<ipython-input-9-902e1f76505d>\u001b[0m in \u001b[0;36m<lambda>\u001b[0;34m(df)\u001b[0m\n\u001b[1;32m      3\u001b[0m df_umap = (\n\u001b[1;32m      4\u001b[0m     \u001b[0mpd\u001b[0m\u001b[0;34m.\u001b[0m\u001b[0mDataFrame\u001b[0m\u001b[0;34m(\u001b[0m\u001b[0mumap\u001b[0m\u001b[0;34m.\u001b[0m\u001b[0mfit_transform\u001b[0m\u001b[0;34m(\u001b[0m\u001b[0mnp\u001b[0m\u001b[0;34m.\u001b[0m\u001b[0marray\u001b[0m\u001b[0;34m(\u001b[0m\u001b[0membeddings\u001b[0m\u001b[0;34m)\u001b[0m\u001b[0;34m)\u001b[0m\u001b[0;34m,\u001b[0m \u001b[0mcolumns\u001b[0m\u001b[0;34m=\u001b[0m\u001b[0;34m[\u001b[0m\u001b[0;34m'x'\u001b[0m\u001b[0;34m,\u001b[0m \u001b[0;34m'y'\u001b[0m\u001b[0;34m]\u001b[0m\u001b[0;34m)\u001b[0m\u001b[0;34m\u001b[0m\u001b[0;34m\u001b[0m\u001b[0m\n\u001b[0;32m----> 5\u001b[0;31m     \u001b[0;34m.\u001b[0m\u001b[0massign\u001b[0m\u001b[0;34m(\u001b[0m\u001b[0mcluster\u001b[0m\u001b[0;34m=\u001b[0m\u001b[0;32mlambda\u001b[0m \u001b[0mdf\u001b[0m\u001b[0;34m:\u001b[0m  \u001b[0mtopic_titles\u001b[0m\u001b[0;34m[\u001b[0m\u001b[0mhdb\u001b[0m\u001b[0;34m.\u001b[0m\u001b[0mlabels_\u001b[0m\u001b[0;34m.\u001b[0m\u001b[0mastype\u001b[0m\u001b[0;34m(\u001b[0m\u001b[0mstr\u001b[0m\u001b[0;34m)\u001b[0m\u001b[0;34m]\u001b[0m\u001b[0;34m)\u001b[0m\u001b[0;34m\u001b[0m\u001b[0;34m\u001b[0m\u001b[0m\n\u001b[0m\u001b[1;32m      6\u001b[0m     \u001b[0;34m.\u001b[0m\u001b[0mquery\u001b[0m\u001b[0;34m(\u001b[0m\u001b[0;34m'cluster != \"-1\"'\u001b[0m\u001b[0;34m)\u001b[0m\u001b[0;34m\u001b[0m\u001b[0;34m\u001b[0m\u001b[0m\n\u001b[1;32m      7\u001b[0m     \u001b[0;34m.\u001b[0m\u001b[0msort_values\u001b[0m\u001b[0;34m(\u001b[0m\u001b[0mby\u001b[0m\u001b[0;34m=\u001b[0m\u001b[0;34m'cluster'\u001b[0m\u001b[0;34m)\u001b[0m\u001b[0;34m\u001b[0m\u001b[0;34m\u001b[0m\u001b[0m\n",
            "\u001b[0;31mTypeError\u001b[0m: unhashable type: 'numpy.ndarray'"
          ]
        }
      ],
      "source": [
        "umap = UMAP(n_components=2,  n_neighbors=80, min_dist=0.2)\n",
        "\n",
        "df_umap = (\n",
        "    pd.DataFrame(umap.fit_transform(np.array(embeddings)), columns=['x', 'y'])\n",
        "    .assign(cluster=lambda df:  topic_titles[hdb.labels_.astype(str)])\n",
        "    .query('cluster != \"-1\"')\n",
        "    .sort_values(by='cluster')\n",
        ")\n",
        "\n",
        "fig = px.scatter(df_umap, x='x', y='y', color='cluster')\n",
        "fig.show()"
      ]
    }
  ]
}