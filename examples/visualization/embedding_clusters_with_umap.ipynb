{
  "nbformat": 4,
  "nbformat_minor": 0,
  "metadata": {
    "colab": {
      "provenance": [],
      "authorship_tag": "ABX9TyO+ZzX+hCuLEHNy56G1xXGF",
      "include_colab_link": true
    },
    "kernelspec": {
      "name": "python3",
      "display_name": "Python 3"
    },
    "language_info": {
      "name": "python"
    }
  },
  "cells": [
    {
      "cell_type": "markdown",
      "metadata": {
        "id": "view-in-github",
        "colab_type": "text"
      },
      "source": [
        "<a href=\"https://colab.research.google.com/github/ebamberg/research-projects-ml/blob/main/examples/visualization/embedding_clusters_with_umap.ipynb\" target=\"_parent\"><img src=\"https://colab.research.google.com/assets/colab-badge.svg\" alt=\"Open In Colab\"/></a>"
      ]
    },
    {
      "cell_type": "code",
      "source": [
        "!pip install umap-learn plotly pandas numpy transformers --quiet"
      ],
      "metadata": {
        "id": "aMXfZ4NAeKpu"
      },
      "execution_count": 2,
      "outputs": []
    },
    {
      "cell_type": "code",
      "source": [
        "from google.colab import userdata\n",
        "\n",
        "model_id = \"sentence-transformers/all-MiniLM-L6-v2\"\n",
        "hf_token = userdata.get('HF_TOKEN')"
      ],
      "metadata": {
        "id": "YxW3Uu9ve5Bs"
      },
      "execution_count": null,
      "outputs": []
    },
    {
      "cell_type": "code",
      "execution_count": null,
      "metadata": {
        "id": "-Y8XzgAPdm9R"
      },
      "outputs": [],
      "source": [
        "umap = UMAP(n_components=2, random_state=42, n_neighbors=80, min_dist=0.1)\n",
        "\n",
        "df_umap = (\n",
        "    pd.DataFrame(umap.fit_transform(np.array(embeddings)), columns=['x', 'y'])\n",
        "    .assign(cluster=lambda df: hdb.labels_.astype(str))\n",
        "    .query('cluster != \"-1\"')\n",
        "    .sort_values(by='cluster')\n",
        ")\n",
        "\n",
        "fig = px.scatter(df_umap, x='x', y='y', color='cluster')\n",
        "fig.show()"
      ]
    }
  ]
}