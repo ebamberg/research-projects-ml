{
  "nbformat": 4,
  "nbformat_minor": 0,
  "metadata": {
    "colab": {
      "provenance": [],
      "gpuType": "T4",
      "authorship_tag": "ABX9TyO+HQAa027s7hz7AWr38Gwq",
      "include_colab_link": true
    },
    "kernelspec": {
      "name": "python3",
      "display_name": "Python 3"
    },
    "language_info": {
      "name": "python"
    },
    "accelerator": "GPU"
  },
  "cells": [
    {
      "cell_type": "markdown",
      "metadata": {
        "id": "view-in-github",
        "colab_type": "text"
      },
      "source": [
        "<a href=\"https://colab.research.google.com/github/ebamberg/research-projects-ml/blob/main/vector_embeddings/examples_faiss_in_memory_vector_db.ipynb\" target=\"_parent\"><img src=\"https://colab.research.google.com/assets/colab-badge.svg\" alt=\"Open In Colab\"/></a>"
      ]
    },
    {
      "cell_type": "code",
      "execution_count": null,
      "metadata": {
        "id": "GCm0uJVC9jvj"
      },
      "outputs": [],
      "source": [
        "!pip install ollama langchain_community --quiet\n",
        "!pip install openai --quiet\n",
        "!pip install faiss-cpu --quiet\n",
        "\n",
        "host=\"localhost:11434\"\n",
        "embedding_model = \"mxbai-embed-large\"\n",
        "\n",
        "get_ipython().system_raw(\"curl -fsSL https://ollama.com/install.sh | sh\")\n",
        "get_ipython().system_raw(\"ollama serve &\")\n",
        "get_ipython().system_raw(f\"ollama pull {embedding_model}\")\n",
        "\n"
      ]
    },
    {
      "cell_type": "code",
      "source": [
        "get_ipython().system_raw(f\"ollama pull {embedding_model}\")\n"
      ],
      "metadata": {
        "id": "z_AAjjHozJOM"
      },
      "execution_count": null,
      "outputs": []
    },
    {
      "cell_type": "code",
      "source": [
        "from openai import OpenAI\n",
        "\n",
        "\n",
        "llm = OpenAI(\n",
        "        base_url=f\"http://{host}/v1\",\n",
        "        api_key=\"ollama\",  # required, but unused\n",
        "    )\n",
        "\n",
        "\n"
      ],
      "metadata": {
        "id": "yHCElQFQb2XR"
      },
      "execution_count": null,
      "outputs": []
    },
    {
      "cell_type": "code",
      "source": [
        "def embed(text: str) -> list[float]:\n",
        "  return llm.embeddings.create(input = [text], model=embedding_model).data[0].embedding\n",
        "\n",
        "def createEmbeddings(texts: list[str]) -> list[list[float]]:\n",
        "  return [embed(txt) for txt in texts]\n"
      ],
      "metadata": {
        "id": "WDF7ALAcivgK"
      },
      "execution_count": null,
      "outputs": []
    },
    {
      "cell_type": "code",
      "source": [
        "import faiss\n",
        "import numpy as np\n",
        "\n",
        "# Sample sentences\n",
        "sentences = [\n",
        "    \"Artificial Intelligence is the future.\",\n",
        "    \"AI requires large datasets to train models.\",\n",
        "    \"Machines learn by analyzing data.\"\n",
        "]\n",
        "\n",
        "# Convert to embeddings\n",
        "embeddings = createEmbeddings(sentences)\n",
        "\n",
        "# Store in FAISS index for similarity search\n",
        "dimension = len(embeddings[0])\n",
        "index = faiss.IndexFlatL2(dimension)\n",
        "index.add(np.array(embeddings))"
      ],
      "metadata": {
        "id": "oWVjkQyBlt_j"
      },
      "execution_count": null,
      "outputs": []
    },
    {
      "cell_type": "code",
      "source": [
        "# Query the most similar sentence\n",
        "query = embed(\"AI evolves with data.\")\n",
        "D, I = index.search(np.array([query]), 1)\n",
        "print(f\"The most similar sentence is: {sentences[I[0][0]]}\")"
      ],
      "metadata": {
        "colab": {
          "base_uri": "https://localhost:8080/"
        },
        "id": "EHTubPT1mDnD",
        "outputId": "f0ec4bd5-7f30-41c9-e9ce-b7636c6e1f69"
      },
      "execution_count": null,
      "outputs": [
        {
          "output_type": "stream",
          "name": "stdout",
          "text": [
            "The most similar sentence is: AI requires large datasets to train models.\n"
          ]
        }
      ]
    }
  ]
}