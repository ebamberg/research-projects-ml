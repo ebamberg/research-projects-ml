{
  "nbformat": 4,
  "nbformat_minor": 0,
  "metadata": {
    "colab": {
      "provenance": [],
      "authorship_tag": "ABX9TyNd3xBTiVAlp/K2yPbBlkuR",
      "include_colab_link": true
    },
    "kernelspec": {
      "name": "python3",
      "display_name": "Python 3"
    },
    "language_info": {
      "name": "python"
    }
  },
  "cells": [
    {
      "cell_type": "markdown",
      "metadata": {
        "id": "view-in-github",
        "colab_type": "text"
      },
      "source": [
        "<a href=\"https://colab.research.google.com/github/ebamberg/research-projects-ml/blob/main/vector_embeddings/examples_faiss_in_memory_vector_db.ipynb\" target=\"_parent\"><img src=\"https://colab.research.google.com/assets/colab-badge.svg\" alt=\"Open In Colab\"/></a>"
      ]
    },
    {
      "cell_type": "code",
      "execution_count": 1,
      "metadata": {
        "id": "GCm0uJVC9jvj",
        "outputId": "763c8648-f867-4dda-b758-0704a4685886",
        "colab": {
          "base_uri": "https://localhost:8080/"
        }
      },
      "outputs": [
        {
          "output_type": "stream",
          "name": "stdout",
          "text": [
            "\u001b[2K   \u001b[90m━━━━━━━━━━━━━━━━━━━━━━━━━━━━━━━━━━━━━━━━\u001b[0m \u001b[32m2.5/2.5 MB\u001b[0m \u001b[31m20.4 MB/s\u001b[0m eta \u001b[36m0:00:00\u001b[0m\n",
            "\u001b[2K   \u001b[90m━━━━━━━━━━━━━━━━━━━━━━━━━━━━━━━━━━━━━━━━\u001b[0m \u001b[32m64.7/64.7 kB\u001b[0m \u001b[31m3.4 MB/s\u001b[0m eta \u001b[36m0:00:00\u001b[0m\n",
            "\u001b[2K   \u001b[90m━━━━━━━━━━━━━━━━━━━━━━━━━━━━━━━━━━━━━━━━\u001b[0m \u001b[32m50.9/50.9 kB\u001b[0m \u001b[31m1.6 MB/s\u001b[0m eta \u001b[36m0:00:00\u001b[0m\n",
            "\u001b[?25h\u001b[31mERROR: pip's dependency resolver does not currently take into account all the packages that are installed. This behaviour is the source of the following dependency conflicts.\n",
            "google-colab 1.0.0 requires requests==2.32.4, but you have requests 2.32.5 which is incompatible.\u001b[0m\u001b[31m\n",
            "\u001b[2K   \u001b[90m━━━━━━━━━━━━━━━━━━━━━━━━━━━━━━━━━━━━━━━━\u001b[0m \u001b[32m31.4/31.4 MB\u001b[0m \u001b[31m57.7 MB/s\u001b[0m eta \u001b[36m0:00:00\u001b[0m\n",
            "\u001b[?25h"
          ]
        }
      ],
      "source": [
        "!pip install ollama langchain_community --quiet\n",
        "!pip install openai --quiet\n",
        "!pip install faiss-cpu --quiet\n",
        "\n",
        "host=\"localhost:11434\"\n",
        "embedding_model = \"mxbai-embed-large\"\n",
        "\n",
        "get_ipython().system_raw(\"curl -fsSL https://ollama.com/install.sh | sh\")\n",
        "get_ipython().system_raw(\"ollama serve &\")\n",
        "get_ipython().system_raw(f\"ollama pull {embedding_model}\")\n",
        "\n"
      ]
    },
    {
      "cell_type": "code",
      "source": [
        "get_ipython().system_raw(f\"ollama pull {embedding_model}\")\n"
      ],
      "metadata": {
        "id": "z_AAjjHozJOM"
      },
      "execution_count": 2,
      "outputs": []
    },
    {
      "cell_type": "code",
      "source": [
        "from openai import OpenAI\n",
        "\n",
        "\n",
        "llm = OpenAI(\n",
        "        base_url=f\"http://{host}/v1\",\n",
        "        api_key=\"ollama\",  # required, but unused\n",
        "    )\n",
        "\n",
        "\n"
      ],
      "metadata": {
        "id": "yHCElQFQb2XR"
      },
      "execution_count": 3,
      "outputs": []
    },
    {
      "cell_type": "code",
      "source": [
        "def embed(text: str) -> list[float]:\n",
        "  return llm.embeddings.create(input = [text], model=embedding_model).data[0].embedding\n",
        "\n",
        "def createEmbeddings(texts: list[str]) -> list[list[float]]:\n",
        "  return [embed(txt) for txt in texts]\n"
      ],
      "metadata": {
        "id": "WDF7ALAcivgK"
      },
      "execution_count": 4,
      "outputs": []
    },
    {
      "cell_type": "code",
      "source": [
        "import faiss\n",
        "import numpy as np\n",
        "\n",
        "# Sample sentences\n",
        "sentences = [\n",
        "    \"Artificial Intelligence is the future.\",\n",
        "    \"AI requires large datasets to train models.\",\n",
        "    \"Machines learn by analyzing data.\"\n",
        "]\n",
        "\n",
        "# Convert to embeddings\n",
        "embeddings = createEmbeddings(sentences)\n",
        "\n",
        "# Store in FAISS index for similarity search\n",
        "dimension = len(embeddings[0])\n",
        "index = faiss.IndexFlatL2(dimension)\n",
        "index.add(np.array(embeddings))"
      ],
      "metadata": {
        "id": "oWVjkQyBlt_j"
      },
      "execution_count": 5,
      "outputs": []
    },
    {
      "cell_type": "code",
      "source": [
        "# Query the most similar sentence\n",
        "query = embed(\"AI evolves with data.\")\n",
        "D, I = index.search(np.array([query]), 3)\n",
        "print(f\"The most similar sentence is: {sentences[I[0][0]]}\")"
      ],
      "metadata": {
        "colab": {
          "base_uri": "https://localhost:8080/"
        },
        "id": "EHTubPT1mDnD",
        "outputId": "5cfe3b0d-a4cb-44e4-a7f7-2994ef4869d4"
      },
      "execution_count": 8,
      "outputs": [
        {
          "output_type": "stream",
          "name": "stdout",
          "text": [
            "The most similar sentence is: AI requires large datasets to train models.\n"
          ]
        }
      ]
    },
    {
      "cell_type": "code",
      "source": [
        "print (D)"
      ],
      "metadata": {
        "id": "JuAo49FPU_HD",
        "outputId": "f55693a0-6e3e-474f-8593-e68b3b68997a",
        "colab": {
          "base_uri": "https://localhost:8080/"
        }
      },
      "execution_count": 9,
      "outputs": [
        {
          "output_type": "stream",
          "name": "stdout",
          "text": [
            "[[0.45778984 0.51349163 0.5334135 ]]\n"
          ]
        }
      ]
    },
    {
      "cell_type": "code",
      "source": [
        "# range queries\n",
        "query = embed(\"AI evolves with data.\")\n",
        "\n",
        "distance_threshold=0.52\n",
        "lims, D, I  = index.range_search(np.array([query]), distance_threshold)\n",
        "indexes=I[lims[0]:lims[0+1]]\n",
        "distances=D[lims[0]:lims[0+1]]\n",
        "\n",
        "print (indexes)\n",
        "print (distances)"
      ],
      "metadata": {
        "id": "KdiD87sXU4X0",
        "outputId": "e9309af0-5cbc-4933-8348-4557116e7f4d",
        "colab": {
          "base_uri": "https://localhost:8080/"
        }
      },
      "execution_count": 14,
      "outputs": [
        {
          "output_type": "stream",
          "name": "stdout",
          "text": [
            "[1 2]\n",
            "[0.45778984 0.51349163]\n"
          ]
        }
      ]
    }
  ]
}