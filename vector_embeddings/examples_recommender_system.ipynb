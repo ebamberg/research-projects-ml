{
  "nbformat": 4,
  "nbformat_minor": 0,
  "metadata": {
    "colab": {
      "provenance": [],
      "gpuType": "T4",
      "authorship_tag": "ABX9TyOWU+Spo6QbPZU/MZBLpOVj",
      "include_colab_link": true
    },
    "kernelspec": {
      "name": "python3",
      "display_name": "Python 3"
    },
    "language_info": {
      "name": "python"
    },
    "accelerator": "GPU"
  },
  "cells": [
    {
      "cell_type": "markdown",
      "metadata": {
        "id": "view-in-github",
        "colab_type": "text"
      },
      "source": [
        "<a href=\"https://colab.research.google.com/github/ebamberg/research-projects-ml/blob/main/vector_embeddings/examples_recommender_system.ipynb\" target=\"_parent\"><img src=\"https://colab.research.google.com/assets/colab-badge.svg\" alt=\"Open In Colab\"/></a>"
      ]
    },
    {
      "cell_type": "code",
      "execution_count": 2,
      "metadata": {
        "id": "GCm0uJVC9jvj",
        "colab": {
          "base_uri": "https://localhost:8080/"
        },
        "outputId": "612e3f79-5733-41cf-98cf-e7d74f8f2621"
      },
      "outputs": [
        {
          "output_type": "stream",
          "name": "stdout",
          "text": [
            "\u001b[?25l   \u001b[90m━━━━━━━━━━━━━━━━━━━━━━━━━━━━━━━━━━━━━━━━\u001b[0m \u001b[32m0.0/2.5 MB\u001b[0m \u001b[31m?\u001b[0m eta \u001b[36m-:--:--\u001b[0m\r\u001b[2K   \u001b[91m━━━━━━━━━━━━━━━━━━━━━━━━━━━━━━━━\u001b[0m\u001b[90m╺\u001b[0m\u001b[90m━━━━━━━\u001b[0m \u001b[32m2.0/2.5 MB\u001b[0m \u001b[31m60.0 MB/s\u001b[0m eta \u001b[36m0:00:01\u001b[0m\r\u001b[2K   \u001b[90m━━━━━━━━━━━━━━━━━━━━━━━━━━━━━━━━━━━━━━━━\u001b[0m \u001b[32m2.5/2.5 MB\u001b[0m \u001b[31m41.4 MB/s\u001b[0m eta \u001b[36m0:00:00\u001b[0m\n",
            "\u001b[?25h\u001b[?25l   \u001b[90m━━━━━━━━━━━━━━━━━━━━━━━━━━━━━━━━━━━━━━━━\u001b[0m \u001b[32m0.0/45.2 kB\u001b[0m \u001b[31m?\u001b[0m eta \u001b[36m-:--:--\u001b[0m\r\u001b[2K   \u001b[90m━━━━━━━━━━━━━━━━━━━━━━━━━━━━━━━━━━━━━━━━\u001b[0m \u001b[32m45.2/45.2 kB\u001b[0m \u001b[31m4.2 MB/s\u001b[0m eta \u001b[36m0:00:00\u001b[0m\n",
            "\u001b[2K   \u001b[90m━━━━━━━━━━━━━━━━━━━━━━━━━━━━━━━━━━━━━━━━\u001b[0m \u001b[32m50.9/50.9 kB\u001b[0m \u001b[31m3.1 MB/s\u001b[0m eta \u001b[36m0:00:00\u001b[0m\n",
            "\u001b[2K   \u001b[90m━━━━━━━━━━━━━━━━━━━━━━━━━━━━━━━━━━━━━━━━\u001b[0m \u001b[32m31.3/31.3 MB\u001b[0m \u001b[31m73.9 MB/s\u001b[0m eta \u001b[36m0:00:00\u001b[0m\n",
            "\u001b[?25h"
          ]
        }
      ],
      "source": [
        "!pip install ollama langchain_community --quiet\n",
        "!pip install openai --quiet\n",
        "!pip install faiss-cpu --quiet\n",
        "\n",
        "host=\"localhost:11434\"\n",
        "modelid=\"chevalblanc/gpt-4o-mini\"\n",
        "embedding_model = \"mxbai-embed-large\"\n",
        "\n",
        "get_ipython().system_raw(\"curl -fsSL https://ollama.com/install.sh | sh\")\n",
        "get_ipython().system_raw(\"ollama serve &\")\n",
        "get_ipython().system_raw(f\"ollama pull {modelid}\")\n",
        "\n"
      ]
    },
    {
      "cell_type": "code",
      "source": [
        "get_ipython().system_raw(f\"ollama pull {modelid}\")\n",
        "get_ipython().system_raw(f\"ollama pull {embedding_model}\")\n"
      ],
      "metadata": {
        "id": "z_AAjjHozJOM"
      },
      "execution_count": 3,
      "outputs": []
    },
    {
      "cell_type": "code",
      "source": [
        "from openai import OpenAI\n",
        "\n",
        "\n",
        "llm = OpenAI(\n",
        "        base_url=f\"http://{host}/v1\",\n",
        "        api_key=\"ollama\",  # required, but unused\n",
        "    )\n",
        "\n",
        "\n"
      ],
      "metadata": {
        "id": "yHCElQFQb2XR"
      },
      "execution_count": 4,
      "outputs": []
    },
    {
      "cell_type": "code",
      "source": [
        "def embed(text: str) -> list[float]:\n",
        "  return llm.embeddings.create(input = [text], model=embedding_model).data[0].embedding\n",
        "\n",
        "def createEmbeddings(texts: list[str]) -> list[list[float]]:\n",
        "  return [embed(txt) for txt in texts]\n"
      ],
      "metadata": {
        "id": "WDF7ALAcivgK"
      },
      "execution_count": 5,
      "outputs": []
    },
    {
      "cell_type": "markdown",
      "source": [
        "Prompt to create demo data:\n",
        "\n",
        "your task is to create 10 demo user for a app.\n",
        "\n",
        "output the users in JSON format.\n",
        "\n",
        "Every user should have\n",
        "* username\n",
        "* age\n",
        "* interests for investment category (TECHNOLOGY, AI, CHEMICAL, HEALTCARE)\n",
        "* risk level high, medium, low\n",
        "* personal interests and hobbies"
      ],
      "metadata": {
        "id": "Jy4nUMeHHlY9"
      }
    },
    {
      "cell_type": "code",
      "source": [
        "\n",
        "\n",
        "demo_users = [\n",
        "    {\n",
        "      \"username\": \"techsavvy_sarah\",\n",
        "      \"age\": 28,\n",
        "      \"investment_interests\": [\"TECHNOLOGY\", \"AI\"],\n",
        "      \"risk_level\": \"high\",\n",
        "      \"personal_interests\": [\"coding\", \"gaming\", \"cryptocurrency\", \"VR technology\", \"startup podcasts\"]\n",
        "    },\n",
        "    {\n",
        "      \"username\": \"conservative_mike\",\n",
        "      \"age\": 45,\n",
        "      \"investment_interests\": [\"HEALTHCARE\", \"CHEMICAL\"],\n",
        "      \"risk_level\": \"low\",\n",
        "      \"personal_interests\": [\"golf\", \"reading financial news\", \"gardening\", \"wine collecting\", \"family time\"]\n",
        "    },\n",
        "    {\n",
        "      \"username\": \"ai_enthusiast_emma\",\n",
        "      \"age\": 32,\n",
        "      \"investment_interests\": [\"AI\", \"TECHNOLOGY\"],\n",
        "      \"risk_level\": \"high\",\n",
        "      \"personal_interests\": [\"machine learning courses\", \"robotics\", \"sci-fi movies\", \"chess\", \"tech conferences\"]\n",
        "    },\n",
        "    {\n",
        "      \"username\": \"balanced_ben\",\n",
        "      \"age\": 38,\n",
        "      \"investment_interests\": [\"HEALTHCARE\", \"TECHNOLOGY\", \"CHEMICAL\"],\n",
        "      \"risk_level\": \"medium\",\n",
        "      \"personal_interests\": [\"hiking\", \"photography\", \"cooking\", \"travel\", \"fitness tracking\"]\n",
        "    },\n",
        "    {\n",
        "      \"username\": \"pharma_investor_lisa\",\n",
        "      \"age\": 41,\n",
        "      \"investment_interests\": [\"HEALTHCARE\", \"CHEMICAL\"],\n",
        "      \"risk_level\": \"medium\",\n",
        "      \"personal_interests\": [\"medical research reading\", \"yoga\", \"volunteer work\", \"painting\", \"classical music\"]\n",
        "    },\n",
        "    {\n",
        "      \"username\": \"young_hustler_alex\",\n",
        "      \"age\": 24,\n",
        "      \"investment_interests\": [\"AI\", \"TECHNOLOGY\"],\n",
        "      \"risk_level\": \"high\",\n",
        "      \"personal_interests\": [\"day trading\", \"social media\", \"electric vehicles\", \"music production\", \"entrepreneurship\"]\n",
        "    },\n",
        "    {\n",
        "      \"username\": \"steady_investor_carol\",\n",
        "      \"age\": 52,\n",
        "      \"investment_interests\": [\"HEALTHCARE\"],\n",
        "      \"risk_level\": \"low\",\n",
        "      \"personal_interests\": [\"book club\", \"knitting\", \"bird watching\", \"retirement planning\", \"grandchildren\"]\n",
        "    },\n",
        "    {\n",
        "      \"username\": \"diversified_david\",\n",
        "      \"age\": 35,\n",
        "      \"investment_interests\": [\"TECHNOLOGY\", \"HEALTHCARE\", \"AI\", \"CHEMICAL\"],\n",
        "      \"risk_level\": \"medium\",\n",
        "      \"personal_interests\": [\"marathon running\", \"financial podcasts\", \"home brewing\", \"board games\", \"sustainable living\"]\n",
        "    },\n",
        "    {\n",
        "      \"username\": \"biotech_researcher_nina\",\n",
        "      \"age\": 29,\n",
        "      \"investment_interests\": [\"HEALTHCARE\", \"CHEMICAL\", \"AI\"],\n",
        "      \"risk_level\": \"medium\",\n",
        "      \"personal_interests\": [\"laboratory work\", \"scientific journals\", \"rock climbing\", \"environmental activism\", \"documentary films\"]\n",
        "    },\n",
        "    {\n",
        "      \"username\": \"risk_taker_ryan\",\n",
        "      \"age\": 26,\n",
        "      \"investment_interests\": [\"AI\", \"TECHNOLOGY\"],\n",
        "      \"risk_level\": \"high\",\n",
        "      \"personal_interests\": [\"extreme sports\", \"crypto trading\", \"gaming livestreaming\", \"motorcycle riding\", \"tech startup networking\"]\n",
        "    }\n",
        "  ]\n"
      ],
      "metadata": {
        "id": "iSiQqh7MHZXt"
      },
      "execution_count": 6,
      "outputs": []
    },
    {
      "cell_type": "code",
      "source": [
        "import faiss\n",
        "import numpy as np\n",
        "\n",
        "\n",
        "def userdescription(user):\n",
        "  interests=f'\\n -'.join(user['personal_interests'])\n",
        "  return f\"User {user['username']} is {user['age']} years old.\\n interests: {interests}\\n\\n\"\n",
        "\n",
        "demo_profiles=[userdescription(user) for user in demo_users]\n",
        "\n",
        "# Convert to embeddings\n",
        "embeddings = createEmbeddings(demo_profiles)\n",
        "\n",
        "# Store in FAISS index for similarity search\n",
        "dimension = len(embeddings[0])\n",
        "index = faiss.IndexFlatL2(dimension)\n",
        "index.add(np.array(embeddings))"
      ],
      "metadata": {
        "id": "oWVjkQyBlt_j"
      },
      "execution_count": 8,
      "outputs": []
    },
    {
      "cell_type": "code",
      "source": [
        "# Query the most similar sentence\n",
        "query_user=  {\n",
        "      \"username\": \"laura\",\n",
        "      \"age\": 29,\n",
        "      \"investment_interests\": [\"CHEMICAL\", \"AI\"],\n",
        "      \"risk_level\": \"low\",\n",
        "      \"personal_interests\": [ \"rock climbing\", \"environmental activism\", \"documentary films\"]\n",
        "    }\n",
        "print (query_user[\"personal_interests\"])\n",
        "query = embed(userdescription( query_user ))\n",
        "D, I = index.search(np.array([query]), 1)\n",
        "print(f\"The most similar user is: {demo_users[I[0][0]]}\")"
      ],
      "metadata": {
        "colab": {
          "base_uri": "https://localhost:8080/"
        },
        "id": "EHTubPT1mDnD",
        "outputId": "98c0ce8d-b0d2-4c2a-e1f3-01f5724ead42"
      },
      "execution_count": 12,
      "outputs": [
        {
          "output_type": "stream",
          "name": "stdout",
          "text": [
            "['rock climbing', 'environmental activism', 'documentary films']\n",
            "The most similar user is: {'username': 'biotech_researcher_nina', 'age': 29, 'investment_interests': ['HEALTHCARE', 'CHEMICAL', 'AI'], 'risk_level': 'medium', 'personal_interests': ['laboratory work', 'scientific journals', 'rock climbing', 'environmental activism', 'documentary films']}\n"
          ]
        }
      ]
    },
    {
      "cell_type": "code",
      "source": [
        "from pydantic import BaseModel\n",
        "\n",
        "def call(system_prompt: str, message: str, output_schema: BaseModel | None = None , model: str = modelid) -> str:\n",
        "\n",
        "  messages=[\n",
        "          {\n",
        "              \"role\": \"user\",\n",
        "              \"content\": message,\n",
        "          },]\n",
        "  completion = llm.chat.completions.parse(\n",
        "      model=modelid,\n",
        "      messages=[ {\"role\": \"system\", \"content\": system_prompt},]\n",
        "      +messages,\n",
        "      temperature=0.0,\n",
        "   #   max_tokens=4096,\n",
        "      response_format=output_schema\n",
        "  )\n",
        "\n",
        "  return completion.choices[0].message.parsed"
      ],
      "metadata": {
        "id": "YkaTeOcP3HHu"
      },
      "execution_count": null,
      "outputs": []
    }
  ]
}