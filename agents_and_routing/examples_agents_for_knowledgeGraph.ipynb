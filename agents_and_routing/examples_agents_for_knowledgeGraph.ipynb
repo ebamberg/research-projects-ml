{
  "nbformat": 4,
  "nbformat_minor": 0,
  "metadata": {
    "colab": {
      "provenance": [],
      "gpuType": "T4",
      "authorship_tag": "ABX9TyMzpKHBEOimIWIk6FlvQ3be",
      "include_colab_link": true
    },
    "kernelspec": {
      "name": "python3",
      "display_name": "Python 3"
    },
    "language_info": {
      "name": "python"
    },
    "accelerator": "GPU"
  },
  "cells": [
    {
      "cell_type": "markdown",
      "metadata": {
        "id": "view-in-github",
        "colab_type": "text"
      },
      "source": [
        "<a href=\"https://colab.research.google.com/github/ebamberg/research-projects-ml/blob/main/agents_and_routing/examples_agents_for_knowledgeGraph.ipynb\" target=\"_parent\"><img src=\"https://colab.research.google.com/assets/colab-badge.svg\" alt=\"Open In Colab\"/></a>"
      ]
    },
    {
      "cell_type": "markdown",
      "source": [],
      "metadata": {
        "id": "ittnx9TnwT_y"
      }
    },
    {
      "cell_type": "code",
      "execution_count": null,
      "metadata": {
        "id": "GCm0uJVC9jvj",
        "colab": {
          "base_uri": "https://localhost:8080/"
        },
        "outputId": "f6bf995c-3d10-4cad-9112-0cfbfc3e51e6"
      },
      "outputs": [
        {
          "output_type": "stream",
          "name": "stdout",
          "text": [
            "\u001b[?25l   \u001b[90m━━━━━━━━━━━━━━━━━━━━━━━━━━━━━━━━━━━━━━━━\u001b[0m \u001b[32m0.0/2.5 MB\u001b[0m \u001b[31m?\u001b[0m eta \u001b[36m-:--:--\u001b[0m\r\u001b[2K   \u001b[91m━━━━━━━━━━━━━━━━━━━━━━━━━━━━━━━━━━━━━━━\u001b[0m\u001b[91m╸\u001b[0m \u001b[32m2.5/2.5 MB\u001b[0m \u001b[31m83.9 MB/s\u001b[0m eta \u001b[36m0:00:01\u001b[0m\r\u001b[2K   \u001b[90m━━━━━━━━━━━━━━━━━━━━━━━━━━━━━━━━━━━━━━━━\u001b[0m \u001b[32m2.5/2.5 MB\u001b[0m \u001b[31m47.6 MB/s\u001b[0m eta \u001b[36m0:00:00\u001b[0m\n",
            "\u001b[?25h\u001b[?25l   \u001b[90m━━━━━━━━━━━━━━━━━━━━━━━━━━━━━━━━━━━━━━━━\u001b[0m \u001b[32m0.0/45.2 kB\u001b[0m \u001b[31m?\u001b[0m eta \u001b[36m-:--:--\u001b[0m\r\u001b[2K   \u001b[90m━━━━━━━━━━━━━━━━━━━━━━━━━━━━━━━━━━━━━━━━\u001b[0m \u001b[32m45.2/45.2 kB\u001b[0m \u001b[31m3.8 MB/s\u001b[0m eta \u001b[36m0:00:00\u001b[0m\n",
            "\u001b[?25h\u001b[?25l   \u001b[90m━━━━━━━━━━━━━━━━━━━━━━━━━━━━━━━━━━━━━━━━\u001b[0m \u001b[32m0.0/50.9 kB\u001b[0m \u001b[31m?\u001b[0m eta \u001b[36m-:--:--\u001b[0m\r\u001b[2K   \u001b[90m━━━━━━━━━━━━━━━━━━━━━━━━━━━━━━━━━━━━━━━━\u001b[0m \u001b[32m50.9/50.9 kB\u001b[0m \u001b[31m3.6 MB/s\u001b[0m eta \u001b[36m0:00:00\u001b[0m\n",
            "\u001b[?25h"
          ]
        }
      ],
      "source": [
        "!pip install ollama langchain_community --quiet\n",
        "\n",
        "host=\"localhost:11434\"\n",
        "modelid=\"gemma3:12b\" # \"llama3.2\"\n",
        "model_2_id=\"deepseek-r1:8b\"\n",
        "\n",
        "get_ipython().system_raw(\"curl -fsSL https://ollama.com/install.sh | sh\")\n",
        "get_ipython().system_raw(\"ollama serve &\")\n",
        "get_ipython().system_raw(f\"ollama pull {modelid}\")\n"
      ]
    },
    {
      "cell_type": "code",
      "source": [
        "!pip install openai --quiet"
      ],
      "metadata": {
        "id": "VMom2AWiyAdg"
      },
      "execution_count": null,
      "outputs": []
    },
    {
      "cell_type": "code",
      "source": [
        "get_ipython().system_raw(f\"ollama pull {modelid}\")\n",
        "get_ipython().system_raw(f\"ollama pull {model_2_id}\")"
      ],
      "metadata": {
        "id": "z_AAjjHozJOM"
      },
      "execution_count": null,
      "outputs": []
    },
    {
      "cell_type": "code",
      "source": [
        "from openai import OpenAI\n",
        "\n",
        "\n",
        "llm = OpenAI(\n",
        "        base_url=f\"http://{host}/v1\",\n",
        "        api_key=\"ollama\",  # required, but unused\n",
        "    )\n",
        "\n",
        "\n"
      ],
      "metadata": {
        "id": "yHCElQFQb2XR"
      },
      "execution_count": null,
      "outputs": []
    },
    {
      "cell_type": "code",
      "source": [
        "def call(system_prompt: str, message: str, model: str = modelid ) -> str:\n",
        "  completion = llm.chat.completions.create(\n",
        "      model=modelid,\n",
        "      messages=[\n",
        "          {\"role\": \"system\", \"content\": system_prompt},\n",
        "          {\n",
        "              \"role\": \"user\",\n",
        "              \"content\": message,\n",
        "          },\n",
        "      ],\n",
        "  )\n",
        "\n",
        "  return completion.choices[0].message.content"
      ],
      "metadata": {
        "id": "YkaTeOcP3HHu"
      },
      "execution_count": null,
      "outputs": []
    },
    {
      "cell_type": "code",
      "source": [
        "def marketing_campaign_agent(product : str):\n",
        "  \"\"\"\n",
        "\n",
        "     Your task is to create an compelling marketing campaign plan for the product.\n",
        "\n",
        "    ## Product Description\n",
        "    {product}\n",
        "\n",
        "     ## Marketing Campaign Plan:L\n",
        "     Your marketing campaign plan:\n",
        "\n",
        "  \"\"\"\n",
        "  return call (\"your are a marketing campaign export.\", marketing_campaign_agent.__doc__.format(product=product) )"
      ],
      "metadata": {
        "id": "ODbK4Rp63VTn"
      },
      "execution_count": null,
      "outputs": []
    },
    {
      "cell_type": "code",
      "source": [
        "def ready_validation_agent(marketing_text : str) -> bool:\n",
        "  \"\"\"\n",
        "\n",
        "  Attached is a product descipription of a new product we are launching.\n",
        "\n",
        "  Also attached is a marketing campaign plan for the product launch.\n",
        "\n",
        "  Your task is to read the marketing campaign plan and assess wether this is good enough to get finalized or wether it would benefit from another revision.\n",
        "\n",
        "  Answer with TRUE or FALSE. add nothing else to your response.\n",
        "\n",
        "  ## Product Description\n",
        "  {product}\n",
        "\n",
        "  ## Marketing Text\n",
        "  {text}\n",
        "\n",
        "  ## Your Assessment\n",
        "  Your Assessment:\n",
        "\n",
        "    \"\"\"\n",
        "  result = call (\"your are a marketing campaign export.\", ready_validation_agent.__doc__.format(product=product, text=marketing_text) , model=model_2_id)\n",
        "  print (result)\n",
        "  return result.strip().lower() == \"true\""
      ],
      "metadata": {
        "id": "X_-AB92x6ZJ1"
      },
      "execution_count": null,
      "outputs": []
    },
    {
      "cell_type": "code",
      "source": [
        "def refinements_agent(product : str, marketing_text : str) -> str:\n",
        "  \"\"\"\n",
        "\n",
        "  Attached is a product descipription of a new product we are launching.\n",
        "\n",
        "  Also attached is a draft marketing campaign plan for the product launch.\n",
        "\n",
        "  Provide a critique of this draft marketing plan in preparation of the final version.\n",
        "\n",
        "  ## Product Description\n",
        "  {product}\n",
        "\n",
        "  ## Marketing Text\n",
        "  {text}\n",
        "\n",
        "  ## Critique\n",
        "  Your critique:\n",
        "\n",
        "  \"\"\"\n",
        "  return call (\"your are a marketing campaign export.\", refinements_agent.__doc__.format(product=product, text=marketing_text) )"
      ],
      "metadata": {
        "id": "en1xrwVlq4sT"
      },
      "execution_count": null,
      "outputs": []
    },
    {
      "cell_type": "code",
      "source": [
        "def refine_agent(product : str, marketing_text : str, refinements : str ) -> str:\n",
        "  \"\"\"\n",
        "\n",
        "  Attached are 3 documents\n",
        "    - a product descipription of a new product we are launching.\n",
        "    - a draft marketing campaign plan for the product launch.\n",
        "    - a critique of this draft marketing plan in preparation of the final version\n",
        "\n",
        "  Please write another version of the marketing campaign plan taking into account the feedback in the critique.\n",
        "\n",
        "  ## Product Description\n",
        "  {product}\n",
        "\n",
        "  ## Marketing Text\n",
        "  {text}\n",
        "\n",
        "  ## Critique\n",
        "  {refinements}\n",
        "\n",
        "  ## Final Marketing Text\n",
        "  Your final version of the marketing campaign plan:\n",
        "\n",
        "\n",
        "  \"\"\"\n",
        "  return call (\"your are a marketing campaign export.\", refine_agent.__doc__.format(product=product, text=marketing_text, refinements=refinements) )"
      ],
      "metadata": {
        "id": "m6DhXF9G0_Uf"
      },
      "execution_count": null,
      "outputs": []
    },
    {
      "cell_type": "code",
      "source": [
        "product = \"iPhone 15\"\n",
        "\n",
        "iteration=1\n",
        "marketing_text = marketing_campaign_agent(product)\n",
        "while not ready_validation_agent(marketing_text) and iteration<5:\n",
        "  print (f\"ITERATION: {iteration}\" )\n",
        "  refinements = refinements_agent(product, marketing_text)\n",
        "  next_text_iteration = refine_agent(product, marketing_text, refinements)\n",
        "  print (refinements)\n",
        "  iteration+=1\n",
        "  marketing_text = next_text_iteration\n"
      ],
      "metadata": {
        "colab": {
          "base_uri": "https://localhost:8080/",
          "height": 358
        },
        "id": "parsnXE044qC",
        "outputId": "205ac790-9d6f-4d07-9c8c-ba5d39bb40da"
      },
      "execution_count": null,
      "outputs": [
        {
          "output_type": "error",
          "ename": "TypeError",
          "evalue": "call() got an unexpected keyword argument 'modelid'",
          "traceback": [
            "\u001b[0;31m---------------------------------------------------------------------------\u001b[0m",
            "\u001b[0;31mTypeError\u001b[0m                                 Traceback (most recent call last)",
            "\u001b[0;32m/tmp/ipython-input-4164187927.py\u001b[0m in \u001b[0;36m<cell line: 0>\u001b[0;34m()\u001b[0m\n\u001b[1;32m      3\u001b[0m \u001b[0miteration\u001b[0m\u001b[0;34m=\u001b[0m\u001b[0;36m1\u001b[0m\u001b[0;34m\u001b[0m\u001b[0;34m\u001b[0m\u001b[0m\n\u001b[1;32m      4\u001b[0m \u001b[0mmarketing_text\u001b[0m \u001b[0;34m=\u001b[0m \u001b[0mmarketing_campaign_agent\u001b[0m\u001b[0;34m(\u001b[0m\u001b[0mproduct\u001b[0m\u001b[0;34m)\u001b[0m\u001b[0;34m\u001b[0m\u001b[0;34m\u001b[0m\u001b[0m\n\u001b[0;32m----> 5\u001b[0;31m \u001b[0;32mwhile\u001b[0m \u001b[0;32mnot\u001b[0m \u001b[0mready_validation_agent\u001b[0m\u001b[0;34m(\u001b[0m\u001b[0mmarketing_text\u001b[0m\u001b[0;34m)\u001b[0m \u001b[0;32mand\u001b[0m \u001b[0miteration\u001b[0m\u001b[0;34m<\u001b[0m\u001b[0;36m5\u001b[0m\u001b[0;34m:\u001b[0m\u001b[0;34m\u001b[0m\u001b[0;34m\u001b[0m\u001b[0m\n\u001b[0m\u001b[1;32m      6\u001b[0m   \u001b[0mprint\u001b[0m \u001b[0;34m(\u001b[0m\u001b[0;34mf\"ITERATION: {iteration}\"\u001b[0m \u001b[0;34m)\u001b[0m\u001b[0;34m\u001b[0m\u001b[0;34m\u001b[0m\u001b[0m\n\u001b[1;32m      7\u001b[0m   \u001b[0mrefinements\u001b[0m \u001b[0;34m=\u001b[0m \u001b[0mrefinements_agent\u001b[0m\u001b[0;34m(\u001b[0m\u001b[0mproduct\u001b[0m\u001b[0;34m,\u001b[0m \u001b[0mmarketing_text\u001b[0m\u001b[0;34m)\u001b[0m\u001b[0;34m\u001b[0m\u001b[0;34m\u001b[0m\u001b[0m\n",
            "\u001b[0;32m/tmp/ipython-input-1093680471.py\u001b[0m in \u001b[0;36mready_validation_agent\u001b[0;34m(marketing_text)\u001b[0m\n\u001b[1;32m     20\u001b[0m \u001b[0;34m\u001b[0m\u001b[0m\n\u001b[1;32m     21\u001b[0m     \"\"\"\n\u001b[0;32m---> 22\u001b[0;31m   \u001b[0mresult\u001b[0m \u001b[0;34m=\u001b[0m \u001b[0mcall\u001b[0m \u001b[0;34m(\u001b[0m\u001b[0;34m\"your are a marketing campaign export.\"\u001b[0m\u001b[0;34m,\u001b[0m \u001b[0mready_validation_agent\u001b[0m\u001b[0;34m.\u001b[0m\u001b[0m__doc__\u001b[0m\u001b[0;34m.\u001b[0m\u001b[0mformat\u001b[0m\u001b[0;34m(\u001b[0m\u001b[0mproduct\u001b[0m\u001b[0;34m=\u001b[0m\u001b[0mproduct\u001b[0m\u001b[0;34m,\u001b[0m \u001b[0mtext\u001b[0m\u001b[0;34m=\u001b[0m\u001b[0mmarketing_text\u001b[0m\u001b[0;34m)\u001b[0m \u001b[0;34m,\u001b[0m \u001b[0mmodelid\u001b[0m\u001b[0;34m=\u001b[0m\u001b[0mmodel_2_id\u001b[0m\u001b[0;34m)\u001b[0m\u001b[0;34m\u001b[0m\u001b[0;34m\u001b[0m\u001b[0m\n\u001b[0m\u001b[1;32m     23\u001b[0m   \u001b[0mprint\u001b[0m \u001b[0;34m(\u001b[0m\u001b[0mresult\u001b[0m\u001b[0;34m)\u001b[0m\u001b[0;34m\u001b[0m\u001b[0;34m\u001b[0m\u001b[0m\n\u001b[1;32m     24\u001b[0m   \u001b[0;32mreturn\u001b[0m \u001b[0mresult\u001b[0m\u001b[0;34m.\u001b[0m\u001b[0mstrip\u001b[0m\u001b[0;34m(\u001b[0m\u001b[0;34m)\u001b[0m\u001b[0;34m.\u001b[0m\u001b[0mlower\u001b[0m\u001b[0;34m(\u001b[0m\u001b[0;34m)\u001b[0m \u001b[0;34m==\u001b[0m \u001b[0;34m\"true\"\u001b[0m\u001b[0;34m\u001b[0m\u001b[0;34m\u001b[0m\u001b[0m\n",
            "\u001b[0;31mTypeError\u001b[0m: call() got an unexpected keyword argument 'modelid'"
          ]
        }
      ]
    },
    {
      "cell_type": "code",
      "source": [
        "print (next_text_iteration)\n"
      ],
      "metadata": {
        "id": "K0eV9F3f3ITA"
      },
      "execution_count": null,
      "outputs": []
    },
    {
      "cell_type": "code",
      "source": [
        "print (marketing_text)\n",
        "print (\"###### critique\")\n",
        "print (refinements)\n",
        "print (\"###### next text iteration\")\n",
        "print (next_text_iteration)"
      ],
      "metadata": {
        "id": "4iSgEgej5bWp"
      },
      "execution_count": null,
      "outputs": []
    }
  ]
}