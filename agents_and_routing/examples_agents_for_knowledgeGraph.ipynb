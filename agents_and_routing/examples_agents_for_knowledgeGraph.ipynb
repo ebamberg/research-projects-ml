{
  "nbformat": 4,
  "nbformat_minor": 0,
  "metadata": {
    "colab": {
      "provenance": [],
      "gpuType": "T4",
      "authorship_tag": "ABX9TyO1zsiZuIx77RpO+RG+PV8b",
      "include_colab_link": true
    },
    "kernelspec": {
      "name": "python3",
      "display_name": "Python 3"
    },
    "language_info": {
      "name": "python"
    },
    "accelerator": "GPU"
  },
  "cells": [
    {
      "cell_type": "markdown",
      "metadata": {
        "id": "view-in-github",
        "colab_type": "text"
      },
      "source": [
        "<a href=\"https://colab.research.google.com/github/ebamberg/research-projects-ml/blob/main/agents_and_routing/examples_agents_for_knowledgeGraph.ipynb\" target=\"_parent\"><img src=\"https://colab.research.google.com/assets/colab-badge.svg\" alt=\"Open In Colab\"/></a>"
      ]
    },
    {
      "cell_type": "markdown",
      "source": [],
      "metadata": {
        "id": "ittnx9TnwT_y"
      }
    },
    {
      "cell_type": "code",
      "execution_count": 7,
      "metadata": {
        "id": "GCm0uJVC9jvj"
      },
      "outputs": [],
      "source": [
        "!pip install ollama langchain_community --quiet\n",
        "\n",
        "host=\"localhost:11434\"\n",
        "modelid=\"gemma3:12b\"\n",
        "\n",
        "get_ipython().system_raw(\"curl -fsSL https://ollama.com/install.sh | sh\")\n",
        "get_ipython().system_raw(\"ollama serve &\")\n",
        "get_ipython().system_raw(f\"ollama pull {modelid}\")\n"
      ]
    },
    {
      "cell_type": "code",
      "source": [
        "!pip install openai --quiet"
      ],
      "metadata": {
        "id": "VMom2AWiyAdg"
      },
      "execution_count": 8,
      "outputs": []
    },
    {
      "cell_type": "code",
      "source": [
        "get_ipython().system_raw(f\"ollama pull {modelid}\")"
      ],
      "metadata": {
        "id": "z_AAjjHozJOM"
      },
      "execution_count": 13,
      "outputs": []
    },
    {
      "cell_type": "code",
      "source": [
        "!wget https://raw.githubusercontent.com/ebamberg/research-projects-ml/refs/heads/main/data/text/synthetic_history_of_rock.txt -O history_of_rock.txt"
      ],
      "metadata": {
        "colab": {
          "base_uri": "https://localhost:8080/"
        },
        "id": "pL_FpdW9_L_k",
        "outputId": "d955fcd5-b7cb-452f-d2c0-21e35156fa78"
      },
      "execution_count": 1,
      "outputs": [
        {
          "output_type": "stream",
          "name": "stdout",
          "text": [
            "--2025-09-16 15:19:31--  https://raw.githubusercontent.com/ebamberg/research-projects-ml/refs/heads/main/data/text/synthetic_history_of_rock.txt\n",
            "Resolving raw.githubusercontent.com (raw.githubusercontent.com)... 185.199.108.133, 185.199.109.133, 185.199.110.133, ...\n",
            "Connecting to raw.githubusercontent.com (raw.githubusercontent.com)|185.199.108.133|:443... connected.\n",
            "HTTP request sent, awaiting response... 200 OK\n",
            "Length: 3245 (3.2K) [text/plain]\n",
            "Saving to: ‘history_of_rock.txt’\n",
            "\n",
            "\rhistory_of_rock.txt   0%[                    ]       0  --.-KB/s               \rhistory_of_rock.txt 100%[===================>]   3.17K  --.-KB/s    in 0s      \n",
            "\n",
            "2025-09-16 15:19:31 (47.9 MB/s) - ‘history_of_rock.txt’ saved [3245/3245]\n",
            "\n"
          ]
        }
      ]
    },
    {
      "cell_type": "code",
      "source": [
        "from openai import OpenAI\n",
        "\n",
        "\n",
        "llm = OpenAI(\n",
        "        base_url=f\"http://{host}/v1\",\n",
        "        api_key=\"ollama\",  # required, but unused\n",
        "    )\n",
        "\n",
        "\n"
      ],
      "metadata": {
        "id": "yHCElQFQb2XR"
      },
      "execution_count": 9,
      "outputs": []
    },
    {
      "cell_type": "code",
      "source": [
        "def call(system_prompt: str, message: str, model: str = modelid ) -> str:\n",
        "  completion = llm.chat.completions.create(\n",
        "      model=modelid,\n",
        "      messages=[\n",
        "          {\"role\": \"system\", \"content\": system_prompt},\n",
        "          {\n",
        "              \"role\": \"user\",\n",
        "              \"content\": message,\n",
        "          },\n",
        "      ],\n",
        "  )\n",
        "\n",
        "  return completion.choices[0].message.content"
      ],
      "metadata": {
        "id": "YkaTeOcP3HHu"
      },
      "execution_count": 10,
      "outputs": []
    },
    {
      "cell_type": "code",
      "source": [
        "def create_kg_agent(content : str):\n",
        "  \"\"\"\n",
        "\n",
        "You are a helpful assistant specializing in English language tasked with extracting knowledge‑graph‑ready triplets from input sentences.\n",
        "\n",
        "Your job is to identify triplets of entity–relation–entity suitable for high‑quality Knowledge Graph construction.\n",
        "\n",
        "Output format:\n",
        "\n",
        "Return only a JSON array of objects, with no extra characters, explanations, or surrounding text.\n",
        "\n",
        "Each object must follow this exact schema (attributes are empty strings if absent):\n",
        "\n",
        "[{“head_entity”:{“entity”:<string>, “attribute”:<string>},”relation”:{“relation”:<string>, “attribute”:<string>},”tail_entity”:{“entity”:<string>, “attribute”:<string>}}]\n",
        "\n",
        "Core extraction rules:\n",
        "\n",
        "Relations: use lowercase lemma (root) form for the predicate; normalize inflected forms by lemmatization (e.g., “celebrated” → “celebrate”).\n",
        "\n",
        "Coreference: resolve pronouns and nominal references across sentences and replace them with the canonical entity mention (e.g., “He” → “Bilbo Baggins”).\n",
        "\n",
        "De‑duplication: avoid duplicate triples after normalization; keep a single instance of identical head–relation–tail.\n",
        "\n",
        "Entity cleaning: strip determiners and punctuation, preserve multi‑word names, and use a cleaned, canonical surface form where resolvable.\n",
        "\n",
        "Adjectives and modifiers: attach descriptive adjectives, ordinals, numerals, dates, and similar qualifiers as the attribute of the nearest relevant entity (e.g., “111th” on “birthday”).\n",
        "\n",
        "Prepositions and normalized relations: map common prepositional or nominal patterns to canonical snake_case relation names when appropriate (e.g., give_to, located_in, part_of, born_in, work_at).\n",
        "\n",
        "Voice normalization: for passive constructions, recover the logical subject as head and object as tail (e.g., “The ring was given to Frodo by Bilbo” → head=Bilbo, relation=give_to, tail=Frodo).\n",
        "\n",
        "Coordination: split conjuncts into multiple triples when they denote separate facts (e.g., “Bilbo and Frodo traveled to Rivendell” → two triples, one per subject).\n",
        "\n",
        "Negation: if a predicate is explicitly negated (e.g., “not”, “never”), keep the relation in lemma form and set relation.attribute to “negated”.\n",
        "\n",
        "Uncertainty and conditionals: for explicit modality/conditionality (e.g., “may”, “might”, “if”), keep the lemmatized relation and set relation.attribute to a short qualifier such as “modal:may” or “conditional”.\n",
        "\n",
        "Document level relations: allow cross‑sentence relations when clearly expressed via coreference or discourse, but do not infer unstated facts.\n",
        "\n",
        "Do not invent attributes: include only attributes explicitly present or safely normalized from the text; otherwise use an empty string.\n",
        "\n",
        "Best‑practice reminders:\n",
        "\n",
        "Prefer verb‑centric predicates; convert nominalizations to their verbal lemmas when this better captures the relation (e.g., “celebration” → “celebrate”).\n",
        "\n",
        "Keep entities and relations concise and unambiguous; avoid overlapping or synonymous duplicates (e.g., do not emit both give and give_to for the same fact).\n",
        "\n",
        "Use English throughout; process text in cleaned form before extraction.\n",
        "\n",
        "Examples:\n",
        "\n",
        "Input: “Bilbo Baggins was celebrating his 111th birthday.”\n",
        "\n",
        "Output:\n",
        "\n",
        "[{“head_entity”:{“entity”:”Bilbo Baggins”,”attribute”:””},”relation”:{“relation”:”celebrate”,”attribute”:””},”tail_entity”:{“entity”:”birthday”,”attribute”:”111th”}}]\n",
        "\n",
        "Input: “Bilbo was celebrating his birthday. He gave the ring to Frodo.”\n",
        "\n",
        "Output:\n",
        "\n",
        "[{“head_entity”:{“entity”:”Bilbo Baggins”,”attribute”:””},”relation”:{“relation”:”celebrate”,”attribute”:””},”tail_entity”:{“entity”:”birthday”,”attribute”:””}}, {“head_entity”:{“entity”:”Bilbo Baggins”,”attribute”:””},”relation”:{“relation”:”give_to”,”attribute”:””},”tail_entity”:{“entity”:”Frodo”,”attribute”:””}}]\n",
        "\n",
        "Input: “Bilbo was celebrating his birthday. Frodo celebrated the party.”\n",
        "\n",
        "Output:\n",
        "\n",
        "[{“head_entity”:{“entity”:”Bilbo”,”attribute”:””},”relation”:{“relation”:”celebrate”,”attribute”:””},”tail_entity”:{“entity”:”birthday”,”attribute”:””}}, {“head_entity”:{“entity”:”Frodo”,”attribute”:””},”relation”:{“relation”:”celebrate”,”attribute”:””},”tail_entity”:{“entity”:”party”,”attribute”:””}}]\n",
        "\n",
        "Input: “The ring was given to Frodo by Bilbo.”\n",
        "\n",
        "Output:\n",
        "\n",
        "[{“head_entity”:{“entity”:”Bilbo”,”attribute”:””},”relation”:{“relation”:”give_to”,”attribute”:””},”tail_entity”:{“entity”:”Frodo”,”attribute”:””}}]\n",
        "\n",
        "Input: “Bilbo did not attend the party.”\n",
        "\n",
        "Output:\n",
        "\n",
        "[{“head_entity”:{“entity”:”Bilbo”,”attribute”:””},”relation”:{“relation”:”attend”,”attribute”:”negated”},”tail_entity”:{“entity”:”party”,”attribute”:””}}]\n",
        "\n",
        "Return only the JSON array as specified, exactly matching the schema, with no extra characters.\n",
        "\n",
        "  \"\"\"\n",
        "  return call (build_kg_agent.__doc__, content )"
      ],
      "metadata": {
        "id": "ODbK4Rp63VTn"
      },
      "execution_count": 11,
      "outputs": []
    },
    {
      "cell_type": "code",
      "source": [
        "with open('history_of_rock.txt') as f:\n",
        "    document = f.read()\n"
      ],
      "metadata": {
        "id": "3q18V1CUGbK5"
      },
      "execution_count": 4,
      "outputs": []
    },
    {
      "cell_type": "code",
      "source": [
        "print(document)"
      ],
      "metadata": {
        "colab": {
          "base_uri": "https://localhost:8080/"
        },
        "id": "SwB4VaHnG7V9",
        "outputId": "ed78862a-804b-4bb1-f795-43e06ccf65e4"
      },
      "execution_count": 5,
      "outputs": [
        {
          "output_type": "stream",
          "name": "stdout",
          "text": [
            "# The History of Rock Music and the Rock Guitar\n",
            "\n",
            "Rock music emerged in the mid-1950s from the fusion of blues, country, and rhythm & blues, with the electric guitar serving as its defining instrument. The solid-body electric guitar, pioneered by Leo Fender and Les Paul in the 1940s and early 1950s, provided the volume and sustain that acoustic guitars couldn't match. Chuck Berry became one of rock's first guitar heroes, crafting iconic riffs and solos that would influence generations of musicians.\n",
            "\n",
            "The 1960s brought an explosion of guitar innovation, with players like Jimi Hendrix revolutionizing the instrument through feedback, distortion, and effects pedals. The British Invasion introduced new sounds through bands like The Beatles, The Rolling Stones, and The Who, each contributing unique approaches to guitar playing. Eric Clapton, Jimmy Page, and Jeff Beck emerged as guitar gods, pushing the boundaries of blues-based rock with technical prowess and creative expression.\n",
            "\n",
            "The late 1960s and early 1970s saw the birth of hard rock and heavy metal, with bands like Black Sabbath and Deep Purple using heavily distorted guitars to create darker, more aggressive sounds. Led Zeppelin's Jimmy Page became legendary for his innovative use of different guitars, from acoustic folk passages to thunderous electric riffs. The Gibson Les Paul and Fender Stratocaster became the weapons of choice for most rock guitarists during this era.\n",
            "\n",
            "Punk rock in the mid-1970s stripped guitar playing back to its raw essentials, emphasizing attitude over technical skill. The 1980s brought hair metal and shred guitar, with players like Eddie Van Halen introducing two-handed tapping techniques that redefined guitar virtuosity. Alternative rock in the 1990s saw a return to simpler approaches, with grunge bands like Nirvana using distorted power chords to create emotionally charged anthems.\n",
            "\n",
            "The electric guitar's ability to be amplified, modified, and manipulated through effects became central to rock's evolution. From clean, jangly tones to heavily distorted walls of sound, the guitar's versatility allowed rock music to branch into countless subgenres. Digital technology and modeling amplifiers in the 2000s gave guitarists access to virtually any sound from rock history.\n",
            "\n",
            "Modern rock continues to evolve, with guitarists incorporating elements from electronic music, world music, and experimental genres. The electric guitar remains rock music's most iconic instrument, its cultural significance extending far beyond music into fashion, rebellion, and youth culture. From Chuck Berry's duck walk to Hendrix's Woodstock performance to today's bedroom producers, the rock guitar continues to inspire new generations of musicians.\n",
            "\n",
            "Guitar manufacturers have continually innovated, creating signature models for famous players and developing new pickup technologies to capture different tonal qualities. The relationship between guitarist and instrument remains deeply personal, with many players becoming known for their specific guitar and amplifier combinations. Seven decades after rock's birth, the electric guitar remains its beating heart, proving that some innovations transcend their original purpose to become cultural touchstones.\n",
            "\n"
          ]
        }
      ]
    },
    {
      "cell_type": "code",
      "source": [
        "kg_json=create_kg_agent(document)"
      ],
      "metadata": {
        "id": "Vg1uZG2wMufH"
      },
      "execution_count": 14,
      "outputs": []
    },
    {
      "cell_type": "code",
      "source": [
        "import re\n",
        "import json\n",
        "kg_json=kg_json.replace(\"\\n\",\"\")\n",
        "match_object = re.match(r'```json(.*)```', kg_json, re.MULTILINE)\n",
        "kg_tidy=match_object.group(1)\n",
        "print (kg_tidy)\n"
      ],
      "metadata": {
        "id": "lZS2SiA5P2Pr",
        "outputId": "23e0f47a-b283-4a93-a08f-7b9bce9f7ea7",
        "colab": {
          "base_uri": "https://localhost:8080/"
        }
      },
      "execution_count": 35,
      "outputs": [
        {
          "output_type": "stream",
          "name": "stdout",
          "text": [
            "[{\"head_entity\":{\"entity\":\"rock music\",\"attribute\":\"\"},\"relation\":{\"relation\":\"emerge\",\"attribute\":\"\"},\"tail_entity\":{\"entity\":\"fusion\",\"attribute\":\"\"}}, {\"head_entity\":{\"entity\":\"electric guitar\",\"attribute\":\"\"},\"relation\":{\"relation\":\"serve\",\"attribute\":\"\"},\"tail_entity\":{\"entity\":\"instrument\",\"attribute\":\"defining\"}}, {\"head_entity\":{\"entity\":\"solid-body electric guitar\",\"attribute\":\"\"},\"relation\":{\"relation\":\"pioneer\",\"attribute\":\"\"},\"tail_entity\":{\"entity\":\"Leo Fender\",\"attribute\":\"\"}}, {\"head_entity\":{\"entity\":\"solid-body electric guitar\",\"attribute\":\"\"},\"relation\":{\"relation\":\"pioneer\",\"attribute\":\"\"},\"tail_entity\":{\"entity\":\"Les Paul\",\"attribute\":\"\"}}, {\"head_entity\":{\"entity\":\"Chuck Berry\",\"attribute\":\"\"},\"relation\":{\"relation\":\"become\",\"attribute\":\"\"},\"tail_entity\":{\"entity\":\"guitar heroes\",\"attribute\":\"\"}}, {\"head_entity\":{\"entity\":\"Jimi Hendrix\",\"attribute\":\"\"},\"relation\":{\"relation\":\"revolutionize\",\"attribute\":\"\"},\"tail_entity\":{\"entity\":\"instrument\",\"attribute\":\"\"}}, {\"head_entity\":{\"entity\":\"British Invasion\",\"attribute\":\"\"},\"relation\":{\"relation\":\"introduce\",\"attribute\":\"\"},\"tail_entity\":{\"entity\":\"sounds\",\"attribute\":\"\"}}, {\"head_entity\":{\"entity\":\"The Beatles\",\"attribute\":\"\"},\"relation\":{\"relation\":\"contribute\",\"attribute\":\"\"},\"tail_entity\":{\"entity\":\"approaches\",\"attribute\":\"unique\"}}, {\"head_entity\":{\"entity\":\"The Rolling Stones\",\"attribute\":\"\"},\"relation\":{\"relation\":\"contribute\",\"attribute\":\"\"},\"tail_entity\":{\"entity\":\"approaches\",\"attribute\":\"unique\"}}, {\"head_entity\":{\"entity\":\"The Who\",\"attribute\":\"\"},\"relation\":{\"relation\":\"contribute\",\"attribute\":\"\"},\"tail_entity\":{\"entity\":\"approaches\",\"attribute\":\"unique\"}}, {\"head_entity\":{\"entity\":\"Eric Clapton\",\"attribute\":\"\"},\"relation\":{\"relation\":\"emerge\",\"attribute\":\"\"},\"tail_entity\":{\"entity\":\"guitar gods\",\"attribute\":\"\"}}, {\"head_entity\":{\"entity\":\"Jimmy Page\",\"attribute\":\"\"},\"relation\":{\"relation\":\"emerge\",\"attribute\":\"\"},\"tail_entity\":{\"entity\":\"guitar gods\",\"attribute\":\"\"}}, {\"head_entity\":{\"entity\":\"Jeff Beck\",\"attribute\":\"\"},\"relation\":{\"relation\":\"emerge\",\"attribute\":\"\"},\"tail_entity\":{\"entity\":\"guitar gods\",\"attribute\":\"\"}}, {\"head_entity\":{\"entity\":\"Black Sabbath\",\"attribute\":\"\"},\"relation\":{\"relation\":\"birth\",\"attribute\":\"\"},\"tail_entity\":{\"entity\":\"hard rock\",\"attribute\":\"\"}}, {\"head_entity\":{\"entity\":\"Deep Purple\",\"attribute\":\"\"},\"relation\":{\"relation\":\"birth\",\"attribute\":\"\"},\"tail_entity\":{\"entity\":\"heavy metal\",\"attribute\":\"\"}}, {\"head_entity\":{\"entity\":\"Jimmy Page\",\"attribute\":\"\"},\"relation\":{\"relation\":\"become\",\"attribute\":\"\"},\"tail_entity\":{\"entity\":\"legendary\",\"attribute\":\"\"}}, {\"head_entity\":{\"entity\":\"Gibson Les Paul\",\"attribute\":\"\"},\"relation\":{\"relation\":\"become\",\"attribute\":\"\"},\"tail_entity\":{\"entity\":\"weapons\",\"attribute\":\"choice\"}}, {\"head_entity\":{\"entity\":\"Fender Stratocaster\",\"attribute\":\"\"},\"relation\":{\"relation\":\"become\",\"attribute\":\"\"},\"tail_entity\":{\"entity\":\"weapons\",\"attribute\":\"choice\"}}, {\"head_entity\":{\"entity\":\"punk rock\",\"attribute\":\"\"},\"relation\":{\"relation\":\"strip\",\"attribute\":\"\"},\"tail_entity\":{\"entity\":\"guitar playing\",\"attribute\":\"\"}}, {\"head_entity\":{\"entity\":\"Eddie Van Halen\",\"attribute\":\"\"},\"relation\":{\"relation\":\"introduce\",\"attribute\":\"\"},\"tail_entity\":{\"entity\":\"techniques\",\"attribute\":\"two-handed tapping\"}}, {\"head_entity\":{\"entity\":\"alternative rock\",\"attribute\":\"\"},\"relation\":{\"relation\":\"see\",\"attribute\":\"\"},\"tail_entity\":{\"entity\":\"return\",\"attribute\":\"\"}}, {\"head_entity\":{\"entity\":\"Nirvana\",\"attribute\":\"\"},\"relation\":{\"relation\":\"use\",\"attribute\":\"\"},\"tail_entity\":{\"entity\":\"power chords\",\"attribute\":\"\"}}, {\"head_entity\":{\"entity\":\"electric guitar\",\"attribute\":\"\"},\"relation\":{\"relation\":\"become\",\"attribute\":\"\"},\"tail_entity\":{\"entity\":\"central\",\"attribute\":\"\"}}, {\"head_entity\":{\"entity\":\"guitar\",\"attribute\":\"\"},\"relation\":{\"relation\":\"allow\",\"attribute\":\"\"},\"tail_entity\":{\"entity\":\"branch\",\"attribute\":\"\"}}, {\"head_entity\":{\"entity\":\"digital technology\",\"attribute\":\"\"},\"relation\":{\"relation\":\"give\",\"attribute\":\"\"},\"tail_entity\":{\"entity\":\"guitarists\",\"attribute\":\"\"}}, {\"head_entity\":{\"entity\":\"guitarists\",\"attribute\":\"\"},\"relation\":{\"relation\":\"incorporate\",\"attribute\":\"\"},\"tail_entity\":{\"entity\":\"elements\",\"attribute\":\"\"}}, {\"head_entity\":{\"entity\":\"electric guitar\",\"attribute\":\"\"},\"relation\":{\"relation\":\"remain\",\"attribute\":\"\"},\"tail_entity\":{\"entity\":\"iconic instrument\",\"attribute\":\"\"}}, {\"head_entity\":{\"entity\":\"cultural significance\",\"attribute\":\"\"},\"relation\":{\"relation\":\"extend\",\"attribute\":\"\"},\"tail_entity\":{\"entity\":\"music\",\"attribute\":\"\"}}, {\"head_entity\":{\"entity\":\"rock guitar\",\"attribute\":\"\"},\"relation\":{\"relation\":\"inspire\",\"attribute\":\"\"},\"tail_entity\":{\"entity\":\"generations\",\"attribute\":\"new\"}}, {\"head_entity\":{\"entity\":\"guitar manufacturers\",\"attribute\":\"\"},\"relation\":{\"relation\":\"innovate\",\"attribute\":\"\"},\"tail_entity\":{\"entity\":\"models\",\"attribute\":\"\"}}, {\"head_entity\":{\"entity\":\"guitarist\",\"attribute\":\"\"},\"relation\":{\"relation\":\"remain\",\"attribute\":\"\"},\"tail_entity\":{\"entity\":\"deeply personal\",\"attribute\":\"\"}}, {\"head_entity\":{\"entity\":\"instrument\",\"attribute\":\"\"},\"relation\":{\"relation\":\"become\",\"attribute\":\"\"},\"tail_entity\":{\"entity\":\"known\",\"attribute\":\"\"}}, {\"head_entity\":{\"entity\":\"rock\",\"attribute\":\"\"},\"relation\":{\"relation\":\"remain\",\"attribute\":\"\"},\"tail_entity\":{\"entity\":\"beating heart\",\"attribute\":\"\"}}, {\"head_entity\":{\"entity\":\"innovations\",\"attribute\":\"\"},\"relation\":{\"relation\":\"transcend\",\"attribute\":\"\"},\"tail_entity\":{\"entity\":\"purpose\",\"attribute\":\"\"}}]\n"
          ]
        }
      ]
    },
    {
      "cell_type": "code",
      "source": [
        "print (kg_json)\n",
        "print (kg_tidy)"
      ],
      "metadata": {
        "colab": {
          "base_uri": "https://localhost:8080/"
        },
        "id": "afI8FqHSPCni",
        "outputId": "e102159e-ba87-4d2d-83c3-00165b5cba9c"
      },
      "execution_count": 23,
      "outputs": [
        {
          "output_type": "stream",
          "name": "stdout",
          "text": [
            "```json\n",
            "[{\"head_entity\":{\"entity\":\"rock music\",\"attribute\":\"\"},\"relation\":{\"relation\":\"emerge\",\"attribute\":\"\"},\"tail_entity\":{\"entity\":\"fusion\",\"attribute\":\"\"}}, {\"head_entity\":{\"entity\":\"electric guitar\",\"attribute\":\"\"},\"relation\":{\"relation\":\"serve\",\"attribute\":\"\"},\"tail_entity\":{\"entity\":\"instrument\",\"attribute\":\"defining\"}}, {\"head_entity\":{\"entity\":\"solid-body electric guitar\",\"attribute\":\"\"},\"relation\":{\"relation\":\"pioneer\",\"attribute\":\"\"},\"tail_entity\":{\"entity\":\"Leo Fender\",\"attribute\":\"\"}}, {\"head_entity\":{\"entity\":\"solid-body electric guitar\",\"attribute\":\"\"},\"relation\":{\"relation\":\"pioneer\",\"attribute\":\"\"},\"tail_entity\":{\"entity\":\"Les Paul\",\"attribute\":\"\"}}, {\"head_entity\":{\"entity\":\"Chuck Berry\",\"attribute\":\"\"},\"relation\":{\"relation\":\"become\",\"attribute\":\"\"},\"tail_entity\":{\"entity\":\"guitar heroes\",\"attribute\":\"\"}}, {\"head_entity\":{\"entity\":\"Jimi Hendrix\",\"attribute\":\"\"},\"relation\":{\"relation\":\"revolutionize\",\"attribute\":\"\"},\"tail_entity\":{\"entity\":\"instrument\",\"attribute\":\"\"}}, {\"head_entity\":{\"entity\":\"British Invasion\",\"attribute\":\"\"},\"relation\":{\"relation\":\"introduce\",\"attribute\":\"\"},\"tail_entity\":{\"entity\":\"sounds\",\"attribute\":\"\"}}, {\"head_entity\":{\"entity\":\"The Beatles\",\"attribute\":\"\"},\"relation\":{\"relation\":\"contribute\",\"attribute\":\"\"},\"tail_entity\":{\"entity\":\"approaches\",\"attribute\":\"unique\"}}, {\"head_entity\":{\"entity\":\"The Rolling Stones\",\"attribute\":\"\"},\"relation\":{\"relation\":\"contribute\",\"attribute\":\"\"},\"tail_entity\":{\"entity\":\"approaches\",\"attribute\":\"unique\"}}, {\"head_entity\":{\"entity\":\"The Who\",\"attribute\":\"\"},\"relation\":{\"relation\":\"contribute\",\"attribute\":\"\"},\"tail_entity\":{\"entity\":\"approaches\",\"attribute\":\"unique\"}}, {\"head_entity\":{\"entity\":\"Eric Clapton\",\"attribute\":\"\"},\"relation\":{\"relation\":\"emerge\",\"attribute\":\"\"},\"tail_entity\":{\"entity\":\"guitar gods\",\"attribute\":\"\"}}, {\"head_entity\":{\"entity\":\"Jimmy Page\",\"attribute\":\"\"},\"relation\":{\"relation\":\"emerge\",\"attribute\":\"\"},\"tail_entity\":{\"entity\":\"guitar gods\",\"attribute\":\"\"}}, {\"head_entity\":{\"entity\":\"Jeff Beck\",\"attribute\":\"\"},\"relation\":{\"relation\":\"emerge\",\"attribute\":\"\"},\"tail_entity\":{\"entity\":\"guitar gods\",\"attribute\":\"\"}}, {\"head_entity\":{\"entity\":\"Black Sabbath\",\"attribute\":\"\"},\"relation\":{\"relation\":\"birth\",\"attribute\":\"\"},\"tail_entity\":{\"entity\":\"hard rock\",\"attribute\":\"\"}}, {\"head_entity\":{\"entity\":\"Deep Purple\",\"attribute\":\"\"},\"relation\":{\"relation\":\"birth\",\"attribute\":\"\"},\"tail_entity\":{\"entity\":\"heavy metal\",\"attribute\":\"\"}}, {\"head_entity\":{\"entity\":\"Jimmy Page\",\"attribute\":\"\"},\"relation\":{\"relation\":\"become\",\"attribute\":\"\"},\"tail_entity\":{\"entity\":\"legendary\",\"attribute\":\"\"}}, {\"head_entity\":{\"entity\":\"Gibson Les Paul\",\"attribute\":\"\"},\"relation\":{\"relation\":\"become\",\"attribute\":\"\"},\"tail_entity\":{\"entity\":\"weapons\",\"attribute\":\"choice\"}}, {\"head_entity\":{\"entity\":\"Fender Stratocaster\",\"attribute\":\"\"},\"relation\":{\"relation\":\"become\",\"attribute\":\"\"},\"tail_entity\":{\"entity\":\"weapons\",\"attribute\":\"choice\"}}, {\"head_entity\":{\"entity\":\"punk rock\",\"attribute\":\"\"},\"relation\":{\"relation\":\"strip\",\"attribute\":\"\"},\"tail_entity\":{\"entity\":\"guitar playing\",\"attribute\":\"\"}}, {\"head_entity\":{\"entity\":\"Eddie Van Halen\",\"attribute\":\"\"},\"relation\":{\"relation\":\"introduce\",\"attribute\":\"\"},\"tail_entity\":{\"entity\":\"techniques\",\"attribute\":\"two-handed tapping\"}}, {\"head_entity\":{\"entity\":\"alternative rock\",\"attribute\":\"\"},\"relation\":{\"relation\":\"see\",\"attribute\":\"\"},\"tail_entity\":{\"entity\":\"return\",\"attribute\":\"\"}}, {\"head_entity\":{\"entity\":\"Nirvana\",\"attribute\":\"\"},\"relation\":{\"relation\":\"use\",\"attribute\":\"\"},\"tail_entity\":{\"entity\":\"power chords\",\"attribute\":\"\"}}, {\"head_entity\":{\"entity\":\"electric guitar\",\"attribute\":\"\"},\"relation\":{\"relation\":\"become\",\"attribute\":\"\"},\"tail_entity\":{\"entity\":\"central\",\"attribute\":\"\"}}, {\"head_entity\":{\"entity\":\"guitar\",\"attribute\":\"\"},\"relation\":{\"relation\":\"allow\",\"attribute\":\"\"},\"tail_entity\":{\"entity\":\"branch\",\"attribute\":\"\"}}, {\"head_entity\":{\"entity\":\"digital technology\",\"attribute\":\"\"},\"relation\":{\"relation\":\"give\",\"attribute\":\"\"},\"tail_entity\":{\"entity\":\"guitarists\",\"attribute\":\"\"}}, {\"head_entity\":{\"entity\":\"guitarists\",\"attribute\":\"\"},\"relation\":{\"relation\":\"incorporate\",\"attribute\":\"\"},\"tail_entity\":{\"entity\":\"elements\",\"attribute\":\"\"}}, {\"head_entity\":{\"entity\":\"electric guitar\",\"attribute\":\"\"},\"relation\":{\"relation\":\"remain\",\"attribute\":\"\"},\"tail_entity\":{\"entity\":\"iconic instrument\",\"attribute\":\"\"}}, {\"head_entity\":{\"entity\":\"cultural significance\",\"attribute\":\"\"},\"relation\":{\"relation\":\"extend\",\"attribute\":\"\"},\"tail_entity\":{\"entity\":\"music\",\"attribute\":\"\"}}, {\"head_entity\":{\"entity\":\"rock guitar\",\"attribute\":\"\"},\"relation\":{\"relation\":\"inspire\",\"attribute\":\"\"},\"tail_entity\":{\"entity\":\"generations\",\"attribute\":\"new\"}}, {\"head_entity\":{\"entity\":\"guitar manufacturers\",\"attribute\":\"\"},\"relation\":{\"relation\":\"innovate\",\"attribute\":\"\"},\"tail_entity\":{\"entity\":\"models\",\"attribute\":\"\"}}, {\"head_entity\":{\"entity\":\"guitarist\",\"attribute\":\"\"},\"relation\":{\"relation\":\"remain\",\"attribute\":\"\"},\"tail_entity\":{\"entity\":\"deeply personal\",\"attribute\":\"\"}}, {\"head_entity\":{\"entity\":\"instrument\",\"attribute\":\"\"},\"relation\":{\"relation\":\"become\",\"attribute\":\"\"},\"tail_entity\":{\"entity\":\"known\",\"attribute\":\"\"}}, {\"head_entity\":{\"entity\":\"rock\",\"attribute\":\"\"},\"relation\":{\"relation\":\"remain\",\"attribute\":\"\"},\"tail_entity\":{\"entity\":\"beating heart\",\"attribute\":\"\"}}, {\"head_entity\":{\"entity\":\"innovations\",\"attribute\":\"\"},\"relation\":{\"relation\":\"transcend\",\"attribute\":\"\"},\"tail_entity\":{\"entity\":\"purpose\",\"attribute\":\"\"}}]\n",
            "```\n",
            "\n"
          ]
        }
      ]
    }
  ]
}