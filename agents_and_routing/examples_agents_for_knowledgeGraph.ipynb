{
  "nbformat": 4,
  "nbformat_minor": 0,
  "metadata": {
    "colab": {
      "provenance": [],
      "gpuType": "T4",
      "authorship_tag": "ABX9TyNwiI074mKFx0zfRu+Lu8mi",
      "include_colab_link": true
    },
    "kernelspec": {
      "name": "python3",
      "display_name": "Python 3"
    },
    "language_info": {
      "name": "python"
    },
    "accelerator": "GPU"
  },
  "cells": [
    {
      "cell_type": "markdown",
      "metadata": {
        "id": "view-in-github",
        "colab_type": "text"
      },
      "source": [
        "<a href=\"https://colab.research.google.com/github/ebamberg/research-projects-ml/blob/main/agents_and_routing/examples_agents_for_knowledgeGraph.ipynb\" target=\"_parent\"><img src=\"https://colab.research.google.com/assets/colab-badge.svg\" alt=\"Open In Colab\"/></a>"
      ]
    },
    {
      "cell_type": "markdown",
      "source": [
        "# Setup Models and dependencies"
      ],
      "metadata": {
        "id": "6BV9Y3QVFXxB"
      }
    },
    {
      "cell_type": "code",
      "execution_count": 2,
      "metadata": {
        "id": "GCm0uJVC9jvj",
        "colab": {
          "base_uri": "https://localhost:8080/"
        },
        "outputId": "ddc2ef49-f08b-4fb3-ff89-d74c47e9747f"
      },
      "outputs": [
        {
          "output_type": "stream",
          "name": "stdout",
          "text": [
            "\u001b[?25l   \u001b[90m━━━━━━━━━━━━━━━━━━━━━━━━━━━━━━━━━━━━━━━━\u001b[0m \u001b[32m0.0/2.5 MB\u001b[0m \u001b[31m?\u001b[0m eta \u001b[36m-:--:--\u001b[0m\r\u001b[2K   \u001b[91m━━━━━━━━━━━━━━━━━━━━━━━━━━━━━━━━━━━━━━━\u001b[0m\u001b[91m╸\u001b[0m \u001b[32m2.5/2.5 MB\u001b[0m \u001b[31m123.8 MB/s\u001b[0m eta \u001b[36m0:00:01\u001b[0m\r\u001b[2K   \u001b[90m━━━━━━━━━━━━━━━━━━━━━━━━━━━━━━━━━━━━━━━━\u001b[0m \u001b[32m2.5/2.5 MB\u001b[0m \u001b[31m70.9 MB/s\u001b[0m eta \u001b[36m0:00:00\u001b[0m\n",
            "\u001b[?25h\u001b[?25l   \u001b[90m━━━━━━━━━━━━━━━━━━━━━━━━━━━━━━━━━━━━━━━━\u001b[0m \u001b[32m0.0/64.7 kB\u001b[0m \u001b[31m?\u001b[0m eta \u001b[36m-:--:--\u001b[0m\r\u001b[2K   \u001b[90m━━━━━━━━━━━━━━━━━━━━━━━━━━━━━━━━━━━━━━━━\u001b[0m \u001b[32m64.7/64.7 kB\u001b[0m \u001b[31m6.6 MB/s\u001b[0m eta \u001b[36m0:00:00\u001b[0m\n",
            "\u001b[?25h\u001b[?25l   \u001b[90m━━━━━━━━━━━━━━━━━━━━━━━━━━━━━━━━━━━━━━━━\u001b[0m \u001b[32m0.0/50.9 kB\u001b[0m \u001b[31m?\u001b[0m eta \u001b[36m-:--:--\u001b[0m\r\u001b[2K   \u001b[90m━━━━━━━━━━━━━━━━━━━━━━━━━━━━━━━━━━━━━━━━\u001b[0m \u001b[32m50.9/50.9 kB\u001b[0m \u001b[31m5.5 MB/s\u001b[0m eta \u001b[36m0:00:00\u001b[0m\n",
            "\u001b[?25h\u001b[31mERROR: pip's dependency resolver does not currently take into account all the packages that are installed. This behaviour is the source of the following dependency conflicts.\n",
            "google-colab 1.0.0 requires requests==2.32.4, but you have requests 2.32.5 which is incompatible.\u001b[0m\u001b[31m\n",
            "\u001b[0m"
          ]
        }
      ],
      "source": [
        "!pip install ollama langchain_community --quiet\n",
        "\n",
        "host=\"localhost:11434\"\n",
        "modelid=\"gemma3:12b\"\n",
        "embedding_modelid=\"mxbai-embed-large\"\n",
        "\n",
        "get_ipython().system_raw(\"curl -fsSL https://ollama.com/install.sh | sh\")\n",
        "get_ipython().system_raw(\"ollama serve &\")\n",
        "get_ipython().system_raw(f\"ollama pull {modelid}\")\n",
        "\n"
      ]
    },
    {
      "cell_type": "code",
      "source": [
        "!pip install openai --quiet\n",
        "!pip install networkX\n",
        "!pip install pyvis\n",
        "!pip install faiss-cpu\n",
        "!pip install tqdm"
      ],
      "metadata": {
        "id": "VMom2AWiyAdg",
        "colab": {
          "base_uri": "https://localhost:8080/"
        },
        "outputId": "c2a396e6-6cb6-4db3-bb34-1de215502eda"
      },
      "execution_count": 3,
      "outputs": [
        {
          "output_type": "stream",
          "name": "stdout",
          "text": [
            "Requirement already satisfied: networkX in /usr/local/lib/python3.12/dist-packages (3.5)\n",
            "Collecting pyvis\n",
            "  Downloading pyvis-0.3.2-py3-none-any.whl.metadata (1.7 kB)\n",
            "Requirement already satisfied: ipython>=5.3.0 in /usr/local/lib/python3.12/dist-packages (from pyvis) (7.34.0)\n",
            "Requirement already satisfied: jinja2>=2.9.6 in /usr/local/lib/python3.12/dist-packages (from pyvis) (3.1.6)\n",
            "Requirement already satisfied: jsonpickle>=1.4.1 in /usr/local/lib/python3.12/dist-packages (from pyvis) (4.1.1)\n",
            "Requirement already satisfied: networkx>=1.11 in /usr/local/lib/python3.12/dist-packages (from pyvis) (3.5)\n",
            "Requirement already satisfied: setuptools>=18.5 in /usr/local/lib/python3.12/dist-packages (from ipython>=5.3.0->pyvis) (75.2.0)\n",
            "Collecting jedi>=0.16 (from ipython>=5.3.0->pyvis)\n",
            "  Downloading jedi-0.19.2-py2.py3-none-any.whl.metadata (22 kB)\n",
            "Requirement already satisfied: decorator in /usr/local/lib/python3.12/dist-packages (from ipython>=5.3.0->pyvis) (4.4.2)\n",
            "Requirement already satisfied: pickleshare in /usr/local/lib/python3.12/dist-packages (from ipython>=5.3.0->pyvis) (0.7.5)\n",
            "Requirement already satisfied: traitlets>=4.2 in /usr/local/lib/python3.12/dist-packages (from ipython>=5.3.0->pyvis) (5.7.1)\n",
            "Requirement already satisfied: prompt-toolkit!=3.0.0,!=3.0.1,<3.1.0,>=2.0.0 in /usr/local/lib/python3.12/dist-packages (from ipython>=5.3.0->pyvis) (3.0.52)\n",
            "Requirement already satisfied: pygments in /usr/local/lib/python3.12/dist-packages (from ipython>=5.3.0->pyvis) (2.19.2)\n",
            "Requirement already satisfied: backcall in /usr/local/lib/python3.12/dist-packages (from ipython>=5.3.0->pyvis) (0.2.0)\n",
            "Requirement already satisfied: matplotlib-inline in /usr/local/lib/python3.12/dist-packages (from ipython>=5.3.0->pyvis) (0.1.7)\n",
            "Requirement already satisfied: pexpect>4.3 in /usr/local/lib/python3.12/dist-packages (from ipython>=5.3.0->pyvis) (4.9.0)\n",
            "Requirement already satisfied: MarkupSafe>=2.0 in /usr/local/lib/python3.12/dist-packages (from jinja2>=2.9.6->pyvis) (3.0.2)\n",
            "Requirement already satisfied: parso<0.9.0,>=0.8.4 in /usr/local/lib/python3.12/dist-packages (from jedi>=0.16->ipython>=5.3.0->pyvis) (0.8.5)\n",
            "Requirement already satisfied: ptyprocess>=0.5 in /usr/local/lib/python3.12/dist-packages (from pexpect>4.3->ipython>=5.3.0->pyvis) (0.7.0)\n",
            "Requirement already satisfied: wcwidth in /usr/local/lib/python3.12/dist-packages (from prompt-toolkit!=3.0.0,!=3.0.1,<3.1.0,>=2.0.0->ipython>=5.3.0->pyvis) (0.2.13)\n",
            "Downloading pyvis-0.3.2-py3-none-any.whl (756 kB)\n",
            "\u001b[2K   \u001b[90m━━━━━━━━━━━━━━━━━━━━━━━━━━━━━━━━━━━━━━━━\u001b[0m \u001b[32m756.0/756.0 kB\u001b[0m \u001b[31m45.5 MB/s\u001b[0m eta \u001b[36m0:00:00\u001b[0m\n",
            "\u001b[?25hDownloading jedi-0.19.2-py2.py3-none-any.whl (1.6 MB)\n",
            "\u001b[2K   \u001b[90m━━━━━━━━━━━━━━━━━━━━━━━━━━━━━━━━━━━━━━━━\u001b[0m \u001b[32m1.6/1.6 MB\u001b[0m \u001b[31m88.9 MB/s\u001b[0m eta \u001b[36m0:00:00\u001b[0m\n",
            "\u001b[?25hInstalling collected packages: jedi, pyvis\n",
            "Successfully installed jedi-0.19.2 pyvis-0.3.2\n",
            "Collecting faiss-cpu\n",
            "  Downloading faiss_cpu-1.12.0-cp312-cp312-manylinux_2_27_x86_64.manylinux_2_28_x86_64.whl.metadata (5.1 kB)\n",
            "Requirement already satisfied: numpy<3.0,>=1.25.0 in /usr/local/lib/python3.12/dist-packages (from faiss-cpu) (2.0.2)\n",
            "Requirement already satisfied: packaging in /usr/local/lib/python3.12/dist-packages (from faiss-cpu) (25.0)\n",
            "Downloading faiss_cpu-1.12.0-cp312-cp312-manylinux_2_27_x86_64.manylinux_2_28_x86_64.whl (31.4 MB)\n",
            "\u001b[2K   \u001b[90m━━━━━━━━━━━━━━━━━━━━━━━━━━━━━━━━━━━━━━━━\u001b[0m \u001b[32m31.4/31.4 MB\u001b[0m \u001b[31m24.7 MB/s\u001b[0m eta \u001b[36m0:00:00\u001b[0m\n",
            "\u001b[?25hInstalling collected packages: faiss-cpu\n",
            "Successfully installed faiss-cpu-1.12.0\n",
            "Requirement already satisfied: tqdm in /usr/local/lib/python3.12/dist-packages (4.67.1)\n"
          ]
        }
      ]
    },
    {
      "cell_type": "code",
      "source": [
        "get_ipython().system_raw(f\"ollama pull {modelid}\")\n",
        "get_ipython().system_raw(f\"ollama pull {embedding_modelid}\")\n"
      ],
      "metadata": {
        "id": "z_AAjjHozJOM"
      },
      "execution_count": 4,
      "outputs": []
    },
    {
      "cell_type": "code",
      "source": [
        "from openai import OpenAI\n",
        "\n",
        "\n",
        "llm = OpenAI(\n",
        "        base_url=f\"http://{host}/v1\",\n",
        "        api_key=\"ollama\",  # required, but unused\n",
        "    )\n",
        "\n",
        "\n"
      ],
      "metadata": {
        "id": "yHCElQFQb2XR"
      },
      "execution_count": 5,
      "outputs": []
    },
    {
      "cell_type": "markdown",
      "source": [
        "# Download and prepare Test Dataset"
      ],
      "metadata": {
        "id": "Zk2m9N07FgkU"
      }
    },
    {
      "cell_type": "code",
      "source": [
        "!wget https://raw.githubusercontent.com/ebamberg/research-projects-ml/refs/heads/main/data/text/synthetic_history_of_rock.txt -O history_of_rock.txt"
      ],
      "metadata": {
        "colab": {
          "base_uri": "https://localhost:8080/"
        },
        "id": "pL_FpdW9_L_k",
        "outputId": "e0e66844-bcd2-4954-fb1d-1b8b3d0ed80e"
      },
      "execution_count": 6,
      "outputs": [
        {
          "output_type": "stream",
          "name": "stdout",
          "text": [
            "--2025-09-18 13:00:42--  https://raw.githubusercontent.com/ebamberg/research-projects-ml/refs/heads/main/data/text/synthetic_history_of_rock.txt\n",
            "Resolving raw.githubusercontent.com (raw.githubusercontent.com)... 185.199.108.133, 185.199.109.133, 185.199.110.133, ...\n",
            "Connecting to raw.githubusercontent.com (raw.githubusercontent.com)|185.199.108.133|:443... connected.\n",
            "HTTP request sent, awaiting response... 200 OK\n",
            "Length: 3245 (3.2K) [text/plain]\n",
            "Saving to: ‘history_of_rock.txt’\n",
            "\n",
            "history_of_rock.txt 100%[===================>]   3.17K  --.-KB/s    in 0s      \n",
            "\n",
            "2025-09-18 13:00:42 (48.9 MB/s) - ‘history_of_rock.txt’ saved [3245/3245]\n",
            "\n"
          ]
        }
      ]
    },
    {
      "cell_type": "code",
      "source": [
        "with open('history_of_rock.txt') as f:\n",
        "    document = f.read()\n"
      ],
      "metadata": {
        "id": "3q18V1CUGbK5"
      },
      "execution_count": 7,
      "outputs": []
    },
    {
      "cell_type": "code",
      "source": [
        "print(document)"
      ],
      "metadata": {
        "colab": {
          "base_uri": "https://localhost:8080/"
        },
        "id": "SwB4VaHnG7V9",
        "outputId": "02e0bfd7-a7ff-4b73-c4e6-5c9b38fc0076"
      },
      "execution_count": 8,
      "outputs": [
        {
          "output_type": "stream",
          "name": "stdout",
          "text": [
            "# The History of Rock Music and the Rock Guitar\n",
            "\n",
            "Rock music emerged in the mid-1950s from the fusion of blues, country, and rhythm & blues, with the electric guitar serving as its defining instrument. The solid-body electric guitar, pioneered by Leo Fender and Les Paul in the 1940s and early 1950s, provided the volume and sustain that acoustic guitars couldn't match. Chuck Berry became one of rock's first guitar heroes, crafting iconic riffs and solos that would influence generations of musicians.\n",
            "\n",
            "The 1960s brought an explosion of guitar innovation, with players like Jimi Hendrix revolutionizing the instrument through feedback, distortion, and effects pedals. The British Invasion introduced new sounds through bands like The Beatles, The Rolling Stones, and The Who, each contributing unique approaches to guitar playing. Eric Clapton, Jimmy Page, and Jeff Beck emerged as guitar gods, pushing the boundaries of blues-based rock with technical prowess and creative expression.\n",
            "\n",
            "The late 1960s and early 1970s saw the birth of hard rock and heavy metal, with bands like Black Sabbath and Deep Purple using heavily distorted guitars to create darker, more aggressive sounds. Led Zeppelin's Jimmy Page became legendary for his innovative use of different guitars, from acoustic folk passages to thunderous electric riffs. The Gibson Les Paul and Fender Stratocaster became the weapons of choice for most rock guitarists during this era.\n",
            "\n",
            "Punk rock in the mid-1970s stripped guitar playing back to its raw essentials, emphasizing attitude over technical skill. The 1980s brought hair metal and shred guitar, with players like Eddie Van Halen introducing two-handed tapping techniques that redefined guitar virtuosity. Alternative rock in the 1990s saw a return to simpler approaches, with grunge bands like Nirvana using distorted power chords to create emotionally charged anthems.\n",
            "\n",
            "The electric guitar's ability to be amplified, modified, and manipulated through effects became central to rock's evolution. From clean, jangly tones to heavily distorted walls of sound, the guitar's versatility allowed rock music to branch into countless subgenres. Digital technology and modeling amplifiers in the 2000s gave guitarists access to virtually any sound from rock history.\n",
            "\n",
            "Modern rock continues to evolve, with guitarists incorporating elements from electronic music, world music, and experimental genres. The electric guitar remains rock music's most iconic instrument, its cultural significance extending far beyond music into fashion, rebellion, and youth culture. From Chuck Berry's duck walk to Hendrix's Woodstock performance to today's bedroom producers, the rock guitar continues to inspire new generations of musicians.\n",
            "\n",
            "Guitar manufacturers have continually innovated, creating signature models for famous players and developing new pickup technologies to capture different tonal qualities. The relationship between guitarist and instrument remains deeply personal, with many players becoming known for their specific guitar and amplifier combinations. Seven decades after rock's birth, the electric guitar remains its beating heart, proving that some innovations transcend their original purpose to become cultural touchstones.\n",
            "\n"
          ]
        }
      ]
    },
    {
      "cell_type": "markdown",
      "source": [
        "# Define Agent functions"
      ],
      "metadata": {
        "id": "RqskDhq8FsxI"
      }
    },
    {
      "cell_type": "code",
      "source": [
        "def call(system_prompt: str, message: str, model: str = modelid ) -> str:\n",
        "  completion = llm.chat.completions.create(\n",
        "      model=modelid,\n",
        "      messages=[\n",
        "          {\"role\": \"system\", \"content\": system_prompt},\n",
        "          {\n",
        "              \"role\": \"user\",\n",
        "              \"content\": message,\n",
        "          },\n",
        "      ],\n",
        "  )\n",
        "\n",
        "  return completion.choices[0].message.content"
      ],
      "metadata": {
        "id": "YkaTeOcP3HHu"
      },
      "execution_count": 9,
      "outputs": []
    },
    {
      "cell_type": "code",
      "source": [
        "def embed(text: str) -> list[float]:\n",
        "  return llm.embeddings.create(input = [text], model=embedding_modelid).data[0].embedding\n",
        "\n",
        "def create_embeddings_agent(texts: list[str]) -> list[list[float]]:\n",
        "  return [embed(txt) for txt in texts]\n"
      ],
      "metadata": {
        "id": "iaDj1TuLHVf7"
      },
      "execution_count": 10,
      "outputs": []
    },
    {
      "cell_type": "code",
      "source": [
        "import re\n",
        "import json\n",
        "\n",
        "def kg_builder_agent(content : str):\n",
        "  \"\"\"\n",
        "\n",
        "You are a helpful assistant specializing in English language tasked with extracting knowledge‑graph‑ready triplets from input sentences.\n",
        "\n",
        "Your job is to identify triplets of entity–relation–entity suitable for high‑quality Knowledge Graph construction.\n",
        "\n",
        "Output format:\n",
        "\n",
        "Return only a JSON array of objects, with no extra characters, explanations, or surrounding text.\n",
        "\n",
        "Each object must follow this exact schema (attributes are empty strings if absent):\n",
        "\n",
        "[{“head_entity”:{“entity”:<string>, “attribute”:<string>},”relation”:{“relation”:<string>, “attribute”:<string>},”tail_entity”:{“entity”:<string>, “attribute”:<string>}}]\n",
        "\n",
        "Core extraction rules:\n",
        "\n",
        "Relations: use lowercase lemma (root) form for the predicate; normalize inflected forms by lemmatization (e.g., “celebrated” → “celebrate”).\n",
        "\n",
        "Coreference: resolve pronouns and nominal references across sentences and replace them with the canonical entity mention (e.g., “He” → “Bilbo Baggins”).\n",
        "\n",
        "De‑duplication: avoid duplicate triples after normalization; keep a single instance of identical head–relation–tail.\n",
        "\n",
        "Entity cleaning: strip determiners and punctuation, preserve multi‑word names, and use a cleaned, canonical surface form where resolvable.\n",
        "\n",
        "Adjectives and modifiers: attach descriptive adjectives, ordinals, numerals, dates, and similar qualifiers as the attribute of the nearest relevant entity (e.g., “111th” on “birthday”).\n",
        "\n",
        "Prepositions and normalized relations: map common prepositional or nominal patterns to canonical snake_case relation names when appropriate (e.g., give_to, located_in, part_of, born_in, work_at).\n",
        "\n",
        "Voice normalization: for passive constructions, recover the logical subject as head and object as tail (e.g., “The ring was given to Frodo by Bilbo” → head=Bilbo, relation=give_to, tail=Frodo).\n",
        "\n",
        "Coordination: split conjuncts into multiple triples when they denote separate facts (e.g., “Bilbo and Frodo traveled to Rivendell” → two triples, one per subject).\n",
        "\n",
        "Negation: if a predicate is explicitly negated (e.g., “not”, “never”), keep the relation in lemma form and set relation.attribute to “negated”.\n",
        "\n",
        "Uncertainty and conditionals: for explicit modality/conditionality (e.g., “may”, “might”, “if”), keep the lemmatized relation and set relation.attribute to a short qualifier such as “modal:may” or “conditional”.\n",
        "\n",
        "Document level relations: allow cross‑sentence relations when clearly expressed via coreference or discourse, but do not infer unstated facts.\n",
        "\n",
        "Do not invent attributes: include only attributes explicitly present or safely normalized from the text; otherwise use an empty string.\n",
        "\n",
        "Best‑practice reminders:\n",
        "\n",
        "Prefer verb‑centric predicates; convert nominalizations to their verbal lemmas when this better captures the relation (e.g., “celebration” → “celebrate”).\n",
        "\n",
        "Keep entities and relations concise and unambiguous; avoid overlapping or synonymous duplicates (e.g., do not emit both give and give_to for the same fact).\n",
        "\n",
        "Use English throughout; process text in cleaned form before extraction.\n",
        "\n",
        "Examples:\n",
        "\n",
        "Input: “Bilbo Baggins was celebrating his 111th birthday.”\n",
        "\n",
        "Output:\n",
        "\n",
        "[{“head_entity”:{“entity”:”Bilbo Baggins”,”attribute”:””},”relation”:{“relation”:”celebrate”,”attribute”:””},”tail_entity”:{“entity”:”birthday”,”attribute”:”111th”}}]\n",
        "\n",
        "Input: “Bilbo was celebrating his birthday. He gave the ring to Frodo.”\n",
        "\n",
        "Output:\n",
        "\n",
        "[{“head_entity”:{“entity”:”Bilbo Baggins”,”attribute”:””},”relation”:{“relation”:”celebrate”,”attribute”:””},”tail_entity”:{“entity”:”birthday”,”attribute”:””}}, {“head_entity”:{“entity”:”Bilbo Baggins”,”attribute”:””},”relation”:{“relation”:”give_to”,”attribute”:””},”tail_entity”:{“entity”:”Frodo”,”attribute”:””}}]\n",
        "\n",
        "Input: “Bilbo was celebrating his birthday. Frodo celebrated the party.”\n",
        "\n",
        "Output:\n",
        "\n",
        "[{“head_entity”:{“entity”:”Bilbo”,”attribute”:””},”relation”:{“relation”:”celebrate”,”attribute”:””},”tail_entity”:{“entity”:”birthday”,”attribute”:””}}, {“head_entity”:{“entity”:”Frodo”,”attribute”:””},”relation”:{“relation”:”celebrate”,”attribute”:””},”tail_entity”:{“entity”:”party”,”attribute”:””}}]\n",
        "\n",
        "Input: “The ring was given to Frodo by Bilbo.”\n",
        "\n",
        "Output:\n",
        "\n",
        "[{“head_entity”:{“entity”:”Bilbo”,”attribute”:””},”relation”:{“relation”:”give_to”,”attribute”:””},”tail_entity”:{“entity”:”Frodo”,”attribute”:””}}]\n",
        "\n",
        "Input: “Bilbo did not attend the party.”\n",
        "\n",
        "Output:\n",
        "\n",
        "[{“head_entity”:{“entity”:”Bilbo”,”attribute”:””},”relation”:{“relation”:”attend”,”attribute”:”negated”},”tail_entity”:{“entity”:”party”,”attribute”:””}}]\n",
        "\n",
        "Return only the JSON array as specified, exactly matching the schema, with no extra characters.\n",
        "\n",
        "  \"\"\"\n",
        "  kg_json= call (kg_builder_agent.__doc__, content )\n",
        "  kg_json=kg_json.replace(\"\\n\",\"\")\n",
        "  match_object = re.match(r'```json(.*)```', kg_json, re.MULTILINE)\n",
        "  if match_object:\n",
        "    kg_json=match_object.group(1)\n",
        "  print (kg_json)\n",
        "  kg=json.loads(kg_json)\n",
        "  return kg"
      ],
      "metadata": {
        "id": "ODbK4Rp63VTn"
      },
      "execution_count": 11,
      "outputs": []
    },
    {
      "cell_type": "code",
      "source": [
        "import networkx as nx\n",
        "\n",
        "from typing import Callable, Any, Iterable\n",
        "\n",
        "def network_embeddings_agent (graph: nx.MultiDiGraph, foreach: Callable[[Any],Any] = None ) -> nx.MultiDiGraph:\n",
        "  for node in graph.nodes:\n",
        "    graph.nodes[node]['embedding'] = embed(node)\n",
        "    if foreach:\n",
        "      foreach(graph.nodes[node])\n",
        "\n",
        "  return graph"
      ],
      "metadata": {
        "id": "G7p-AdsMY1rs"
      },
      "execution_count": 13,
      "outputs": []
    },
    {
      "cell_type": "code",
      "source": [
        "import faiss\n",
        "import numpy as np\n",
        "from typing import Callable, Any\n",
        "\n",
        "def faiss_index_agentwrapper(data: Any, agent: Callable[[Any],Any]) -> faiss.IndexFlatL2:\n",
        "  def addToIndex(row:Any):\n",
        "    print (len(row['embedding']))\n",
        "    index.add(np.array(row['embedding']))\n",
        "  index = faiss.IndexFlatL2(1024)\n",
        "  agent (data,foreach=addToIndex)\n",
        "  return index\n",
        "\n"
      ],
      "metadata": {
        "id": "wEMo7ibc2m55"
      },
      "execution_count": 18,
      "outputs": []
    },
    {
      "cell_type": "markdown",
      "source": [
        "# Graph related Functions"
      ],
      "metadata": {
        "id": "jHNHB3yoGdlV"
      }
    },
    {
      "cell_type": "code",
      "source": [
        "import networkx as nx\n",
        "from tqdm import tqdm\n",
        "\n",
        "def createGraph(triples) -> nx.MultiDiGraph :\n",
        "  G = nx.MultiDiGraph()\n",
        "\n",
        "  # Add nodes and edges\n",
        "  for triple in tqdm(triples):\n",
        "      head = triple.get('head_entity',{}).get('entity',None)\n",
        "      if head:\n",
        "        if 'tail_entity' in triple:\n",
        "            tail = triple['tail_entity']['entity']\n",
        "        else:\n",
        "            tail = \"null\"\n",
        "            print(f'triple with no tail entity: {triple}')\n",
        "        relation = triple['relation']['relation']\n",
        "\n",
        "        # Add nodes with attributes if available\n",
        "        G.add_node(head, attr=triple['head_entity']['attribute'])\n",
        "        G.add_node(tail, attr=triple['tail_entity']['attribute'] if 'tail_entity' in triple and 'attribute' in triple['tail_entity'] else \"\")\n",
        "\n",
        "        # Add edge with relation label\n",
        "        G.add_edge(head, tail, relation=relation)\n",
        "\n",
        "  return G\n",
        "\n",
        "\n",
        "\n"
      ],
      "metadata": {
        "id": "siSmDcw2Ttbz"
      },
      "execution_count": 15,
      "outputs": []
    },
    {
      "cell_type": "markdown",
      "source": [
        "# MAIN Processing"
      ],
      "metadata": {
        "id": "ylcynN4NF8wR"
      }
    },
    {
      "cell_type": "code",
      "source": [
        "kg=kg_builder_agent(document)\n",
        "print (kg)\n",
        "graph = createGraph(kg)"
      ],
      "metadata": {
        "colab": {
          "base_uri": "https://localhost:8080/"
        },
        "id": "Vg1uZG2wMufH",
        "outputId": "077fa439-0241-4a31-a5dc-caa0e8aee8b3"
      },
      "execution_count": 16,
      "outputs": [
        {
          "output_type": "stream",
          "name": "stdout",
          "text": [
            "[{\"head_entity\":{\"entity\":\"rock music\",\"attribute\":\"\"},\"relation\":{\"relation\":\"emerge\",\"attribute\":\"\"},\"tail_entity\":{\"entity\":\"fusion\",\"attribute\":\"\"}}, {\"head_entity\":{\"entity\":\"electric guitar\",\"attribute\":\"\"},\"relation\":{\"relation\":\"serve\",\"attribute\":\"\"},\"tail_entity\":{\"entity\":\"instrument\",\"attribute\":\"defining\"}}, {\"head_entity\":{\"entity\":\"solid-body electric guitar\",\"attribute\":\"\"},\"relation\":{\"relation\":\"pioneer\",\"attribute\":\"\"},\"tail_entity\":{\"entity\":\"Leo Fender\",\"attribute\":\"\"}}, {\"head_entity\":{\"entity\":\"solid-body electric guitar\",\"attribute\":\"\"},\"relation\":{\"relation\":\"pioneer\",\"attribute\":\"\"},\"tail_entity\":{\"entity\":\"Les Paul\",\"attribute\":\"\"}}, {\"head_entity\":{\"entity\":\"Chuck Berry\",\"attribute\":\"\"},\"relation\":{\"relation\":\"become\",\"attribute\":\"\"},\"tail_entity\":{\"entity\":\"guitar heroes\",\"attribute\":\"\"}}, {\"head_entity\":{\"entity\":\"guitar playing\",\"attribute\":\"\"},\"relation\":{\"relation\":\"revolutionize\",\"attribute\":\"\"},\"tail_entity\":{\"entity\":\"Jimi Hendrix\",\"attribute\":\"\"}}, {\"head_entity\":{\"entity\":\"British Invasion\",\"attribute\":\"\"},\"relation\":{\"relation\":\"introduce\",\"attribute\":\"\"},\"tail_entity\":{\"entity\":\"sounds\",\"attribute\":\"\"}}, {\"head_entity\":{\"entity\":\"Eric Clapton\",\"attribute\":\"\"},\"relation\":{\"relation\":\"emerge\",\"attribute\":\"\"},\"tail_entity\":{\"entity\":\"guitar gods\",\"attribute\":\"\"}}, {\"head_entity\":{\"entity\":\"Jimmy Page\",\"attribute\":\"\"},\"relation\":{\"relation\":\"emerge\",\"attribute\":\"\"},\"tail_entity\":{\"entity\":\"guitar gods\",\"attribute\":\"\"}}, {\"head_entity\":{\"entity\":\"Jeff Beck\",\"attribute\":\"\"},\"relation\":{\"relation\":\"emerge\",\"attribute\":\"\"},\"tail_entity\":{\"entity\":\"guitar gods\",\"attribute\":\"\"}}, {\"head_entity\":{\"entity\":\"Black Sabbath\",\"attribute\":\"\"},\"relation\":{\"relation\":\"see\",\"attribute\":\"\"},\"tail_entity\":{\"entity\":\"birth\",\"attribute\":\"\"}}, {\"head_entity\":{\"entity\":\"Deep Purple\",\"attribute\":\"\"},\"relation\":{\"relation\":\"see\",\"attribute\":\"\"},\"tail_entity\":{\"entity\":\"birth\",\"attribute\":\"\"}}, {\"head_entity\":{\"entity\":\"Led Zeppelin's Jimmy Page\",\"attribute\":\"\"},\"relation\":{\"relation\":\"become\",\"attribute\":\"\"},\"tail_entity\":{\"entity\":\"use\",\"attribute\":\"\"}}, {\"head_entity\":{\"entity\":\"Gibson Les Paul\",\"attribute\":\"\"},\"relation\":{\"relation\":\"become\",\"attribute\":\"\"},\"tail_entity\":{\"entity\":\"weapons\",\"attribute\":\"\"}}, {\"head_entity\":{\"entity\":\"Fender Stratocaster\",\"attribute\":\"\"},\"relation\":{\"relation\":\"become\",\"attribute\":\"\"},\"tail_entity\":{\"entity\":\"weapons\",\"attribute\":\"\"}}, {\"head_entity\":{\"entity\":\"guitar playing\",\"attribute\":\"\"},\"relation\":{\"relation\":\"strip\",\"attribute\":\"\"},\"tail_entity\":{\"entity\":\"essentials\",\"attribute\":\"\"}}, {\"head_entity\":{\"entity\":\"attitude\",\"attribute\":\"\"},\"relation\":{\"relation\":\"emphasize\",\"attribute\":\"\"},\"tail_entity\":{\"entity\":\"skill\",\"attribute\":\"\"}}, {\"head_entity\":{\"entity\":\"Eddie Van Halen\",\"attribute\":\"\"},\"relation\":{\"relation\":\"introduce\",\"attribute\":\"\"},\"tail_entity\":{\"entity\":\"techniques\",\"attribute\":\"\"}}, {\"head_entity\":{\"entity\":\"alternative rock\",\"attribute\":\"\"},\"relation\":{\"relation\":\"see\",\"attribute\":\"\"},\"tail_entity\":{\"entity\":\"return\",\"attribute\":\"\"}}, {\"head_entity\":{\"entity\":\"Nirvana\",\"attribute\":\"\"},\"relation\":{\"relation\":\"use\",\"attribute\":\"\"},\"tail_entity\":{\"entity\":\"power chords\",\"attribute\":\"\"}}, {\"head_entity\":{\"entity\":\"ability\",\"attribute\":\"\"},\"relation\":{\"relation\":\"become\",\"attribute\":\"\"},\"tail_entity\":{\"entity\":\"evolution\",\"attribute\":\"\"}}, {\"head_entity\":{\"entity\":\"guitar\",\"attribute\":\"\"},\"relation\":{\"relation\":\"allow\",\"attribute\":\"\"},\"tail_entity\":{\"entity\":\"branch\",\"attribute\":\"\"}}, {\"head_entity\":{\"entity\":\"technology\",\"attribute\":\"\"},\"relation\":{\"relation\":\"give\",\"attribute\":\"\"},\"tail_entity\":{\"entity\":\"access\",\"attribute\":\"\"}}, {\"head_entity\":{\"entity\":\"guitarists\",\"attribute\":\"\"},\"relation\":{\"relation\":\"incorporate\",\"attribute\":\"\"},\"tail_entity\":{\"entity\":\"elements\",\"attribute\":\"\"}}, {\"head_entity\":{\"entity\":\"electric guitar\",\"attribute\":\"\"},\"relation\":{\"relation\":\"remain\",\"attribute\":\"\"},\"tail_entity\":{\"entity\":\"instrument\",\"attribute\":\"\"}}, {\"head_entity\":{\"entity\":\"significance\",\"attribute\":\"\"},\"relation\":{\"relation\":\"extend\",\"attribute\":\"\"},\"tail_entity\":{\"entity\":\"culture\",\"attribute\":\"\"}}, {\"head_entity\":{\"entity\":\"Duck walk\",\"attribute\":\"\"},\"relation\":{\"relation\":\"belong\",\"attribute\":\"\"},\"tail_entity\":{\"entity\":\"performance\",\"attribute\":\"\"}}, {\"head_entity\":{\"entity\":\"Hendrix\",\"attribute\":\"\"},\"relation\":{\"relation\":\"belong\",\"attribute\":\"\"},\"tail_entity\":{\"entity\":\"performance\",\"attribute\":\"\"}}, {\"head_entity\":{\"entity\":\"guitar\",\"attribute\":\"\"},\"relation\":{\"relation\":\"continue\",\"attribute\":\"\"},\"tail_entity\":{\"entity\":\"generations\",\"attribute\":\"\"}}, {\"head_entity\":{\"entity\":\"Guitar manufacturers\",\"attribute\":\"\"},\"relation\":{\"relation\":\"innovate\",\"attribute\":\"\"},\"tail_entity\":{\"entity\":\"models\",\"attribute\":\"\"}}, {\"head_entity\":{\"entity\":\"signature models\",\"attribute\":\"\"},\"relation\":{\"relation\":\"create\",\"attribute\":\"\"},\"tail_entity\":{\"entity\":\"players\",\"attribute\":\"\"}}, {\"head_entity\":{\"entity\":\"technologies\",\"attribute\":\"\"},\"relation\":{\"relation\":\"develop\",\"attribute\":\"\"},\"tail_entity\":{\"entity\":\"qualities\",\"attribute\":\"\"}}, {\"head_entity\":{\"entity\":\"relationship\",\"attribute\":\"\"},\"relation\":{\"relation\":\"remain\",\"attribute\":\"\"},\"tail_entity\":{\"entity\":\"personal\",\"attribute\":\"\"}}, {\"head_entity\":{\"entity\":\"many players\",\"attribute\":\"\"},\"relation\":{\"relation\":\"become\",\"attribute\":\"\"},\"tail_entity\":{\"entity\":\"combinations\",\"attribute\":\"\"}}, {\"head_entity\":{\"entity\":\"electric guitar\",\"attribute\":\"\"},\"relation\":{\"relation\":\"remain\",\"attribute\":\"\"},\"tail_entity\":{\"entity\":\"heart\",\"attribute\":\"\"}}, {\"head_entity\":{\"entity\":\"innovations\",\"attribute\":\"\"},\"relation\":{\"relation\":\"transcend\",\"attribute\":\"\"},\"tail_entity\":{\"entity\":\"purpose\",\"attribute\":\"\"}}]\n",
            "[{'head_entity': {'entity': 'rock music', 'attribute': ''}, 'relation': {'relation': 'emerge', 'attribute': ''}, 'tail_entity': {'entity': 'fusion', 'attribute': ''}}, {'head_entity': {'entity': 'electric guitar', 'attribute': ''}, 'relation': {'relation': 'serve', 'attribute': ''}, 'tail_entity': {'entity': 'instrument', 'attribute': 'defining'}}, {'head_entity': {'entity': 'solid-body electric guitar', 'attribute': ''}, 'relation': {'relation': 'pioneer', 'attribute': ''}, 'tail_entity': {'entity': 'Leo Fender', 'attribute': ''}}, {'head_entity': {'entity': 'solid-body electric guitar', 'attribute': ''}, 'relation': {'relation': 'pioneer', 'attribute': ''}, 'tail_entity': {'entity': 'Les Paul', 'attribute': ''}}, {'head_entity': {'entity': 'Chuck Berry', 'attribute': ''}, 'relation': {'relation': 'become', 'attribute': ''}, 'tail_entity': {'entity': 'guitar heroes', 'attribute': ''}}, {'head_entity': {'entity': 'guitar playing', 'attribute': ''}, 'relation': {'relation': 'revolutionize', 'attribute': ''}, 'tail_entity': {'entity': 'Jimi Hendrix', 'attribute': ''}}, {'head_entity': {'entity': 'British Invasion', 'attribute': ''}, 'relation': {'relation': 'introduce', 'attribute': ''}, 'tail_entity': {'entity': 'sounds', 'attribute': ''}}, {'head_entity': {'entity': 'Eric Clapton', 'attribute': ''}, 'relation': {'relation': 'emerge', 'attribute': ''}, 'tail_entity': {'entity': 'guitar gods', 'attribute': ''}}, {'head_entity': {'entity': 'Jimmy Page', 'attribute': ''}, 'relation': {'relation': 'emerge', 'attribute': ''}, 'tail_entity': {'entity': 'guitar gods', 'attribute': ''}}, {'head_entity': {'entity': 'Jeff Beck', 'attribute': ''}, 'relation': {'relation': 'emerge', 'attribute': ''}, 'tail_entity': {'entity': 'guitar gods', 'attribute': ''}}, {'head_entity': {'entity': 'Black Sabbath', 'attribute': ''}, 'relation': {'relation': 'see', 'attribute': ''}, 'tail_entity': {'entity': 'birth', 'attribute': ''}}, {'head_entity': {'entity': 'Deep Purple', 'attribute': ''}, 'relation': {'relation': 'see', 'attribute': ''}, 'tail_entity': {'entity': 'birth', 'attribute': ''}}, {'head_entity': {'entity': \"Led Zeppelin's Jimmy Page\", 'attribute': ''}, 'relation': {'relation': 'become', 'attribute': ''}, 'tail_entity': {'entity': 'use', 'attribute': ''}}, {'head_entity': {'entity': 'Gibson Les Paul', 'attribute': ''}, 'relation': {'relation': 'become', 'attribute': ''}, 'tail_entity': {'entity': 'weapons', 'attribute': ''}}, {'head_entity': {'entity': 'Fender Stratocaster', 'attribute': ''}, 'relation': {'relation': 'become', 'attribute': ''}, 'tail_entity': {'entity': 'weapons', 'attribute': ''}}, {'head_entity': {'entity': 'guitar playing', 'attribute': ''}, 'relation': {'relation': 'strip', 'attribute': ''}, 'tail_entity': {'entity': 'essentials', 'attribute': ''}}, {'head_entity': {'entity': 'attitude', 'attribute': ''}, 'relation': {'relation': 'emphasize', 'attribute': ''}, 'tail_entity': {'entity': 'skill', 'attribute': ''}}, {'head_entity': {'entity': 'Eddie Van Halen', 'attribute': ''}, 'relation': {'relation': 'introduce', 'attribute': ''}, 'tail_entity': {'entity': 'techniques', 'attribute': ''}}, {'head_entity': {'entity': 'alternative rock', 'attribute': ''}, 'relation': {'relation': 'see', 'attribute': ''}, 'tail_entity': {'entity': 'return', 'attribute': ''}}, {'head_entity': {'entity': 'Nirvana', 'attribute': ''}, 'relation': {'relation': 'use', 'attribute': ''}, 'tail_entity': {'entity': 'power chords', 'attribute': ''}}, {'head_entity': {'entity': 'ability', 'attribute': ''}, 'relation': {'relation': 'become', 'attribute': ''}, 'tail_entity': {'entity': 'evolution', 'attribute': ''}}, {'head_entity': {'entity': 'guitar', 'attribute': ''}, 'relation': {'relation': 'allow', 'attribute': ''}, 'tail_entity': {'entity': 'branch', 'attribute': ''}}, {'head_entity': {'entity': 'technology', 'attribute': ''}, 'relation': {'relation': 'give', 'attribute': ''}, 'tail_entity': {'entity': 'access', 'attribute': ''}}, {'head_entity': {'entity': 'guitarists', 'attribute': ''}, 'relation': {'relation': 'incorporate', 'attribute': ''}, 'tail_entity': {'entity': 'elements', 'attribute': ''}}, {'head_entity': {'entity': 'electric guitar', 'attribute': ''}, 'relation': {'relation': 'remain', 'attribute': ''}, 'tail_entity': {'entity': 'instrument', 'attribute': ''}}, {'head_entity': {'entity': 'significance', 'attribute': ''}, 'relation': {'relation': 'extend', 'attribute': ''}, 'tail_entity': {'entity': 'culture', 'attribute': ''}}, {'head_entity': {'entity': 'Duck walk', 'attribute': ''}, 'relation': {'relation': 'belong', 'attribute': ''}, 'tail_entity': {'entity': 'performance', 'attribute': ''}}, {'head_entity': {'entity': 'Hendrix', 'attribute': ''}, 'relation': {'relation': 'belong', 'attribute': ''}, 'tail_entity': {'entity': 'performance', 'attribute': ''}}, {'head_entity': {'entity': 'guitar', 'attribute': ''}, 'relation': {'relation': 'continue', 'attribute': ''}, 'tail_entity': {'entity': 'generations', 'attribute': ''}}, {'head_entity': {'entity': 'Guitar manufacturers', 'attribute': ''}, 'relation': {'relation': 'innovate', 'attribute': ''}, 'tail_entity': {'entity': 'models', 'attribute': ''}}, {'head_entity': {'entity': 'signature models', 'attribute': ''}, 'relation': {'relation': 'create', 'attribute': ''}, 'tail_entity': {'entity': 'players', 'attribute': ''}}, {'head_entity': {'entity': 'technologies', 'attribute': ''}, 'relation': {'relation': 'develop', 'attribute': ''}, 'tail_entity': {'entity': 'qualities', 'attribute': ''}}, {'head_entity': {'entity': 'relationship', 'attribute': ''}, 'relation': {'relation': 'remain', 'attribute': ''}, 'tail_entity': {'entity': 'personal', 'attribute': ''}}, {'head_entity': {'entity': 'many players', 'attribute': ''}, 'relation': {'relation': 'become', 'attribute': ''}, 'tail_entity': {'entity': 'combinations', 'attribute': ''}}, {'head_entity': {'entity': 'electric guitar', 'attribute': ''}, 'relation': {'relation': 'remain', 'attribute': ''}, 'tail_entity': {'entity': 'heart', 'attribute': ''}}, {'head_entity': {'entity': 'innovations', 'attribute': ''}, 'relation': {'relation': 'transcend', 'attribute': ''}, 'tail_entity': {'entity': 'purpose', 'attribute': ''}}]\n"
          ]
        },
        {
          "output_type": "stream",
          "name": "stderr",
          "text": [
            "100%|██████████| 36/36 [00:00<00:00, 71663.48it/s]\n"
          ]
        }
      ]
    },
    {
      "cell_type": "code",
      "source": [
        "graph=network_embeddings_agent(graph)\n",
        "index=faiss_index_agentwrapper(graph,network_embeddings_agent)\n",
        "\n",
        "print(graph)"
      ],
      "metadata": {
        "colab": {
          "base_uri": "https://localhost:8080/",
          "height": 720
        },
        "id": "yOY5w3D7YvKD",
        "outputId": "bf0db0af-b093-48c8-baf3-c03f3dc4be3f"
      },
      "execution_count": 17,
      "outputs": [
        {
          "output_type": "stream",
          "name": "stdout",
          "text": [
            "2\n"
          ]
        },
        {
          "output_type": "error",
          "ename": "AttributeError",
          "evalue": "'dict' object has no attribute 'shape'",
          "traceback": [
            "\u001b[0;31m---------------------------------------------------------------------------\u001b[0m",
            "\u001b[0;31mAttributeError\u001b[0m                            Traceback (most recent call last)",
            "\u001b[0;32m/tmp/ipython-input-3392425674.py\u001b[0m in \u001b[0;36m<cell line: 0>\u001b[0;34m()\u001b[0m\n\u001b[1;32m      1\u001b[0m \u001b[0mgraph\u001b[0m\u001b[0;34m=\u001b[0m\u001b[0mnetwork_embeddings_agent\u001b[0m\u001b[0;34m(\u001b[0m\u001b[0mgraph\u001b[0m\u001b[0;34m)\u001b[0m\u001b[0;34m\u001b[0m\u001b[0;34m\u001b[0m\u001b[0m\n\u001b[0;32m----> 2\u001b[0;31m \u001b[0mindex\u001b[0m\u001b[0;34m=\u001b[0m\u001b[0mfaiss_index_agentwrapper\u001b[0m\u001b[0;34m(\u001b[0m\u001b[0mgraph\u001b[0m\u001b[0;34m,\u001b[0m\u001b[0mnetwork_embeddings_agent\u001b[0m\u001b[0;34m)\u001b[0m\u001b[0;34m\u001b[0m\u001b[0;34m\u001b[0m\u001b[0m\n\u001b[0m\u001b[1;32m      3\u001b[0m \u001b[0;34m\u001b[0m\u001b[0m\n\u001b[1;32m      4\u001b[0m \u001b[0mprint\u001b[0m\u001b[0;34m(\u001b[0m\u001b[0mgraph\u001b[0m\u001b[0;34m)\u001b[0m\u001b[0;34m\u001b[0m\u001b[0;34m\u001b[0m\u001b[0m\n",
            "\u001b[0;32m/tmp/ipython-input-4246942233.py\u001b[0m in \u001b[0;36mfaiss_index_agentwrapper\u001b[0;34m(data, agent)\u001b[0m\n\u001b[1;32m      8\u001b[0m     \u001b[0mindex\u001b[0m\u001b[0;34m.\u001b[0m\u001b[0madd\u001b[0m\u001b[0;34m(\u001b[0m\u001b[0mrow\u001b[0m\u001b[0;34m)\u001b[0m\u001b[0;34m\u001b[0m\u001b[0;34m\u001b[0m\u001b[0m\n\u001b[1;32m      9\u001b[0m   \u001b[0mindex\u001b[0m \u001b[0;34m=\u001b[0m \u001b[0mfaiss\u001b[0m\u001b[0;34m.\u001b[0m\u001b[0mIndexFlatL2\u001b[0m\u001b[0;34m(\u001b[0m\u001b[0;36m1024\u001b[0m\u001b[0;34m)\u001b[0m\u001b[0;34m\u001b[0m\u001b[0;34m\u001b[0m\u001b[0m\n\u001b[0;32m---> 10\u001b[0;31m   \u001b[0magent\u001b[0m \u001b[0;34m(\u001b[0m\u001b[0mdata\u001b[0m\u001b[0;34m,\u001b[0m\u001b[0mforeach\u001b[0m\u001b[0;34m=\u001b[0m\u001b[0maddToIndex\u001b[0m\u001b[0;34m)\u001b[0m\u001b[0;34m\u001b[0m\u001b[0;34m\u001b[0m\u001b[0m\n\u001b[0m\u001b[1;32m     11\u001b[0m   \u001b[0;32mreturn\u001b[0m \u001b[0mindex\u001b[0m\u001b[0;34m\u001b[0m\u001b[0;34m\u001b[0m\u001b[0m\n\u001b[1;32m     12\u001b[0m \u001b[0;34m\u001b[0m\u001b[0m\n",
            "\u001b[0;32m/tmp/ipython-input-3989449842.py\u001b[0m in \u001b[0;36mnetwork_embeddings_agent\u001b[0;34m(graph, foreach)\u001b[0m\n\u001b[1;32m      7\u001b[0m     \u001b[0mgraph\u001b[0m\u001b[0;34m.\u001b[0m\u001b[0mnodes\u001b[0m\u001b[0;34m[\u001b[0m\u001b[0mnode\u001b[0m\u001b[0;34m]\u001b[0m\u001b[0;34m[\u001b[0m\u001b[0;34m'embedding'\u001b[0m\u001b[0;34m]\u001b[0m \u001b[0;34m=\u001b[0m \u001b[0membed\u001b[0m\u001b[0;34m(\u001b[0m\u001b[0mnode\u001b[0m\u001b[0;34m)\u001b[0m\u001b[0;34m\u001b[0m\u001b[0;34m\u001b[0m\u001b[0m\n\u001b[1;32m      8\u001b[0m     \u001b[0;32mif\u001b[0m \u001b[0mforeach\u001b[0m\u001b[0;34m:\u001b[0m\u001b[0;34m\u001b[0m\u001b[0;34m\u001b[0m\u001b[0m\n\u001b[0;32m----> 9\u001b[0;31m       \u001b[0mforeach\u001b[0m\u001b[0;34m(\u001b[0m\u001b[0mgraph\u001b[0m\u001b[0;34m.\u001b[0m\u001b[0mnodes\u001b[0m\u001b[0;34m[\u001b[0m\u001b[0mnode\u001b[0m\u001b[0;34m]\u001b[0m\u001b[0;34m)\u001b[0m\u001b[0;34m\u001b[0m\u001b[0;34m\u001b[0m\u001b[0m\n\u001b[0m\u001b[1;32m     10\u001b[0m \u001b[0;34m\u001b[0m\u001b[0m\n\u001b[1;32m     11\u001b[0m   \u001b[0;32mreturn\u001b[0m \u001b[0mgraph\u001b[0m\u001b[0;34m\u001b[0m\u001b[0;34m\u001b[0m\u001b[0m\n",
            "\u001b[0;32m/tmp/ipython-input-4246942233.py\u001b[0m in \u001b[0;36maddToIndex\u001b[0;34m(row)\u001b[0m\n\u001b[1;32m      6\u001b[0m   \u001b[0;32mdef\u001b[0m \u001b[0maddToIndex\u001b[0m\u001b[0;34m(\u001b[0m\u001b[0mrow\u001b[0m\u001b[0;34m:\u001b[0m\u001b[0mAny\u001b[0m\u001b[0;34m)\u001b[0m\u001b[0;34m:\u001b[0m\u001b[0;34m\u001b[0m\u001b[0;34m\u001b[0m\u001b[0m\n\u001b[1;32m      7\u001b[0m     \u001b[0mprint\u001b[0m \u001b[0;34m(\u001b[0m\u001b[0mlen\u001b[0m\u001b[0;34m(\u001b[0m\u001b[0mrow\u001b[0m\u001b[0;34m)\u001b[0m\u001b[0;34m)\u001b[0m\u001b[0;34m\u001b[0m\u001b[0;34m\u001b[0m\u001b[0m\n\u001b[0;32m----> 8\u001b[0;31m     \u001b[0mindex\u001b[0m\u001b[0;34m.\u001b[0m\u001b[0madd\u001b[0m\u001b[0;34m(\u001b[0m\u001b[0mrow\u001b[0m\u001b[0;34m)\u001b[0m\u001b[0;34m\u001b[0m\u001b[0;34m\u001b[0m\u001b[0m\n\u001b[0m\u001b[1;32m      9\u001b[0m   \u001b[0mindex\u001b[0m \u001b[0;34m=\u001b[0m \u001b[0mfaiss\u001b[0m\u001b[0;34m.\u001b[0m\u001b[0mIndexFlatL2\u001b[0m\u001b[0;34m(\u001b[0m\u001b[0;36m1024\u001b[0m\u001b[0;34m)\u001b[0m\u001b[0;34m\u001b[0m\u001b[0;34m\u001b[0m\u001b[0m\n\u001b[1;32m     10\u001b[0m   \u001b[0magent\u001b[0m \u001b[0;34m(\u001b[0m\u001b[0mdata\u001b[0m\u001b[0;34m,\u001b[0m\u001b[0mforeach\u001b[0m\u001b[0;34m=\u001b[0m\u001b[0maddToIndex\u001b[0m\u001b[0;34m)\u001b[0m\u001b[0;34m\u001b[0m\u001b[0;34m\u001b[0m\u001b[0m\n",
            "\u001b[0;32m/usr/local/lib/python3.12/dist-packages/faiss/class_wrappers.py\u001b[0m in \u001b[0;36mreplacement_add\u001b[0;34m(self, x, numeric_type)\u001b[0m\n\u001b[1;32m    234\u001b[0m         \"\"\"\n\u001b[1;32m    235\u001b[0m \u001b[0;34m\u001b[0m\u001b[0m\n\u001b[0;32m--> 236\u001b[0;31m         \u001b[0mn\u001b[0m\u001b[0;34m,\u001b[0m \u001b[0md\u001b[0m \u001b[0;34m=\u001b[0m \u001b[0mx\u001b[0m\u001b[0;34m.\u001b[0m\u001b[0mshape\u001b[0m\u001b[0;34m\u001b[0m\u001b[0;34m\u001b[0m\u001b[0m\n\u001b[0m\u001b[1;32m    237\u001b[0m         \u001b[0;32massert\u001b[0m \u001b[0md\u001b[0m \u001b[0;34m==\u001b[0m \u001b[0mself\u001b[0m\u001b[0;34m.\u001b[0m\u001b[0md\u001b[0m\u001b[0;34m\u001b[0m\u001b[0;34m\u001b[0m\u001b[0m\n\u001b[1;32m    238\u001b[0m         \u001b[0mx\u001b[0m \u001b[0;34m=\u001b[0m \u001b[0mnp\u001b[0m\u001b[0;34m.\u001b[0m\u001b[0mascontiguousarray\u001b[0m\u001b[0;34m(\u001b[0m\u001b[0mx\u001b[0m\u001b[0;34m,\u001b[0m \u001b[0mdtype\u001b[0m\u001b[0;34m=\u001b[0m\u001b[0m_numeric_to_str\u001b[0m\u001b[0;34m(\u001b[0m\u001b[0mnumeric_type\u001b[0m\u001b[0;34m)\u001b[0m\u001b[0;34m)\u001b[0m\u001b[0;34m\u001b[0m\u001b[0;34m\u001b[0m\u001b[0m\n",
            "\u001b[0;31mAttributeError\u001b[0m: 'dict' object has no attribute 'shape'"
          ]
        }
      ]
    },
    {
      "cell_type": "markdown",
      "source": [
        "# Displaying"
      ],
      "metadata": {
        "id": "Io_pGkmDGG2q"
      }
    },
    {
      "cell_type": "code",
      "source": [
        "import pyvis\n",
        "from pyvis.network import Network\n",
        "from IPython.display import display, HTML\n",
        "\n",
        "def drawGraph(G):\n",
        "  net = Network(notebook=True, cdn_resources='in_line')\n",
        "  net.from_nx(G)\n",
        "  for edge in net.edges:\n",
        "    edge['label'] = edge['relation']\n",
        "  net.save_graph(\"networkx-pyvis.html\")\n",
        "  display(HTML(filename=\"networkx-pyvis.html\"))\n",
        "  return net"
      ],
      "metadata": {
        "id": "IFzKb4lRGMMD"
      },
      "execution_count": null,
      "outputs": []
    },
    {
      "cell_type": "code",
      "source": [
        "graph=drawGraph(graph)\n",
        "\n"
      ],
      "metadata": {
        "id": "SFnJqwh5T5Hf"
      },
      "execution_count": null,
      "outputs": []
    }
  ]
}