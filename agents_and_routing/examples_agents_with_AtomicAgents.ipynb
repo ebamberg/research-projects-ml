{
  "nbformat": 4,
  "nbformat_minor": 0,
  "metadata": {
    "colab": {
      "provenance": [],
      "authorship_tag": "ABX9TyOATfHfRfUpEkM6kT1vkeDy",
      "include_colab_link": true
    },
    "kernelspec": {
      "name": "python3",
      "display_name": "Python 3"
    },
    "language_info": {
      "name": "python"
    }
  },
  "cells": [
    {
      "cell_type": "markdown",
      "metadata": {
        "id": "view-in-github",
        "colab_type": "text"
      },
      "source": [
        "<a href=\"https://colab.research.google.com/github/ebamberg/research-projects-ml/blob/main/agents_and_routing/examples_agents_with_AtomicAgents.ipynb\" target=\"_parent\"><img src=\"https://colab.research.google.com/assets/colab-badge.svg\" alt=\"Open In Colab\"/></a>"
      ]
    },
    {
      "cell_type": "markdown",
      "source": [],
      "metadata": {
        "id": "ittnx9TnwT_y"
      }
    },
    {
      "cell_type": "code",
      "source": [
        "ased upon: https://github.com/BrainBlend-AI/atomic-agents/blob/main/atomic-examples/web-search-agent/web_search_agent/tools/searxng_search.py"
      ],
      "metadata": {
        "id": "-MkARk87wUNA"
      },
      "execution_count": null,
      "outputs": []
    },
    {
      "cell_type": "code",
      "execution_count": 1,
      "metadata": {
        "id": "GCm0uJVC9jvj",
        "colab": {
          "base_uri": "https://localhost:8080/"
        },
        "outputId": "a92dd6d3-2d50-4d08-962c-65b7b971460e"
      },
      "outputs": [
        {
          "output_type": "stream",
          "name": "stdout",
          "text": [
            "\u001b[?25l   \u001b[90m━━━━━━━━━━━━━━━━━━━━━━━━━━━━━━━━━━━━━━━━\u001b[0m \u001b[32m0.0/2.5 MB\u001b[0m \u001b[31m?\u001b[0m eta \u001b[36m-:--:--\u001b[0m\r\u001b[2K   \u001b[91m━━━━━━━\u001b[0m\u001b[90m╺\u001b[0m\u001b[90m━━━━━━━━━━━━━━━━━━━━━━━━━━━━━━━━\u001b[0m \u001b[32m0.5/2.5 MB\u001b[0m \u001b[31m14.0 MB/s\u001b[0m eta \u001b[36m0:00:01\u001b[0m\r\u001b[2K   \u001b[91m━━━━━━━━━━━━━━━━━━━━━━━━━━━━━━━━━━━━━━━\u001b[0m\u001b[91m╸\u001b[0m \u001b[32m2.5/2.5 MB\u001b[0m \u001b[31m39.2 MB/s\u001b[0m eta \u001b[36m0:00:01\u001b[0m\r\u001b[2K   \u001b[90m━━━━━━━━━━━━━━━━━━━━━━━━━━━━━━━━━━━━━━━━\u001b[0m \u001b[32m2.5/2.5 MB\u001b[0m \u001b[31m25.8 MB/s\u001b[0m eta \u001b[36m0:00:00\u001b[0m\n",
            "\u001b[?25h\u001b[?25l   \u001b[90m━━━━━━━━━━━━━━━━━━━━━━━━━━━━━━━━━━━━━━━━\u001b[0m \u001b[32m0.0/50.9 kB\u001b[0m \u001b[31m?\u001b[0m eta \u001b[36m-:--:--\u001b[0m\r\u001b[2K   \u001b[90m━━━━━━━━━━━━━━━━━━━━━━━━━━━━━━━━━━━━━━━━\u001b[0m \u001b[32m50.9/50.9 kB\u001b[0m \u001b[31m3.4 MB/s\u001b[0m eta \u001b[36m0:00:00\u001b[0m\n",
            "\u001b[?25h"
          ]
        }
      ],
      "source": [
        "!pip install ollama langchain_community --quiet\n",
        "\n",
        "host=\"localhost:11434\"\n",
        "modelid=\"llama3.2\"\n",
        "emb_modelid=\"mxbai-embed-large\"\n",
        "\n",
        "get_ipython().system_raw(\"curl -fsSL https://ollama.com/install.sh | sh\")\n",
        "get_ipython().system_raw(\"ollama serve &\")\n",
        "get_ipython().system_raw(f\"ollama pull {modelid}\")\n",
        "get_ipython().system_raw(f\"ollama pull {emb_modelid}\")\n"
      ]
    },
    {
      "cell_type": "code",
      "source": [
        "!pip install pyngrok\n",
        "from pyngrok import ngrok\n",
        "from google.colab import userdata\n",
        "\n",
        "ngrok.kill()\n",
        "NGROK_AUTH_TOKEN = userdata.get('NGROK_AUTH_TOKEN')\n",
        "ngrok.set_auth_token(NGROK_AUTH_TOKEN)\n",
        "ngrok_tunnel = ngrok.connect(addr=\"11434\", proto=\"http\", bind_tls=True, host_header=\"localhost:11434\" )\n",
        "print(\"OLLama URL:\", ngrok_tunnel.public_url)\n",
        "\n",
        "llama_url = ngrok_tunnel.public_url"
      ],
      "metadata": {
        "id": "nfBdkxfx-Mtk"
      },
      "execution_count": null,
      "outputs": []
    },
    {
      "cell_type": "code",
      "source": [
        "!pip install atomic-agents instructor --quiet\n",
        "!pip install googlesearch_python"
      ],
      "metadata": {
        "id": "8jw4YUzhqFIY",
        "colab": {
          "base_uri": "https://localhost:8080/"
        },
        "outputId": "2108a982-1f9d-4fc9-f349-40bf01a78f71"
      },
      "execution_count": 2,
      "outputs": [
        {
          "output_type": "stream",
          "name": "stdout",
          "text": [
            "\u001b[?25l   \u001b[90m━━━━━━━━━━━━━━━━━━━━━━━━━━━━━━━━━━━━━━━━\u001b[0m \u001b[32m0.0/71.4 kB\u001b[0m \u001b[31m?\u001b[0m eta \u001b[36m-:--:--\u001b[0m\r\u001b[2K   \u001b[90m━━━━━━━━━━━━━━━━━━━━━━━━━━━━━━━━━━━━━━━━\u001b[0m \u001b[32m71.4/71.4 kB\u001b[0m \u001b[31m4.6 MB/s\u001b[0m eta \u001b[36m0:00:00\u001b[0m\n",
            "\u001b[?25h\u001b[?25l   \u001b[90m━━━━━━━━━━━━━━━━━━━━━━━━━━━━━━━━━━━━━━━━\u001b[0m \u001b[32m0.0/1.1 MB\u001b[0m \u001b[31m?\u001b[0m eta \u001b[36m-:--:--\u001b[0m\r\u001b[2K   \u001b[91m━━━━━━━━━━━━━━━━━━━━━━\u001b[0m\u001b[91m╸\u001b[0m\u001b[90m━━━━━━━━━━━━━━━━━\u001b[0m \u001b[32m0.6/1.1 MB\u001b[0m \u001b[31m23.5 MB/s\u001b[0m eta \u001b[36m0:00:01\u001b[0m\r\u001b[2K   \u001b[90m━━━━━━━━━━━━━━━━━━━━━━━━━━━━━━━━━━━━━━━━\u001b[0m \u001b[32m1.1/1.1 MB\u001b[0m \u001b[31m18.5 MB/s\u001b[0m eta \u001b[36m0:00:00\u001b[0m\n",
            "\u001b[?25h\u001b[?25l   \u001b[90m━━━━━━━━━━━━━━━━━━━━━━━━━━━━━━━━━━━━━━━━\u001b[0m \u001b[32m0.0/656.0 kB\u001b[0m \u001b[31m?\u001b[0m eta \u001b[36m-:--:--\u001b[0m\r\u001b[2K   \u001b[90m━━━━━━━━━━━━━━━━━━━━━━━━━━━━━━━━━━━━━━━━\u001b[0m \u001b[32m656.0/656.0 kB\u001b[0m \u001b[31m24.9 MB/s\u001b[0m eta \u001b[36m0:00:00\u001b[0m\n",
            "\u001b[?25hCollecting googlesearch_python\n",
            "  Downloading googlesearch_python-1.3.0-py3-none-any.whl.metadata (3.4 kB)\n",
            "Requirement already satisfied: beautifulsoup4>=4.9 in /usr/local/lib/python3.11/dist-packages (from googlesearch_python) (4.13.3)\n",
            "Requirement already satisfied: requests>=2.20 in /usr/local/lib/python3.11/dist-packages (from googlesearch_python) (2.32.3)\n",
            "Requirement already satisfied: soupsieve>1.2 in /usr/local/lib/python3.11/dist-packages (from beautifulsoup4>=4.9->googlesearch_python) (2.6)\n",
            "Requirement already satisfied: typing-extensions>=4.0.0 in /usr/local/lib/python3.11/dist-packages (from beautifulsoup4>=4.9->googlesearch_python) (4.12.2)\n",
            "Requirement already satisfied: charset-normalizer<4,>=2 in /usr/local/lib/python3.11/dist-packages (from requests>=2.20->googlesearch_python) (3.4.1)\n",
            "Requirement already satisfied: idna<4,>=2.5 in /usr/local/lib/python3.11/dist-packages (from requests>=2.20->googlesearch_python) (3.10)\n",
            "Requirement already satisfied: urllib3<3,>=1.21.1 in /usr/local/lib/python3.11/dist-packages (from requests>=2.20->googlesearch_python) (2.3.0)\n",
            "Requirement already satisfied: certifi>=2017.4.17 in /usr/local/lib/python3.11/dist-packages (from requests>=2.20->googlesearch_python) (2025.1.31)\n",
            "Downloading googlesearch_python-1.3.0-py3-none-any.whl (5.6 kB)\n",
            "Installing collected packages: googlesearch_python\n",
            "Successfully installed googlesearch_python-1.3.0\n"
          ]
        }
      ]
    },
    {
      "cell_type": "code",
      "source": [
        "import instructor\n",
        "import openai\n",
        "from openai import OpenAI\n",
        "from atomic_agents.agents.base_agent import BaseAgent, BaseAgentConfig, BaseIOSchema\n",
        "from atomic_agents.lib.components.agent_memory import AgentMemory\n",
        "\n",
        "\n",
        "\n",
        "\n",
        "llm = OpenAI(\n",
        "        base_url=f\"http://{host}/v1\",\n",
        "        api_key=\"ollama\",  # required, but unused\n",
        "    )\n",
        "\n",
        "client = instructor.from_openai(\n",
        "    llm,\n",
        "    mode=instructor.Mode.JSON,\n",
        ")\n"
      ],
      "metadata": {
        "id": "yHCElQFQb2XR"
      },
      "execution_count": 4,
      "outputs": []
    },
    {
      "cell_type": "code",
      "source": [
        "import os\n",
        "from atomic_agents.lib.components.system_prompt_generator import SystemPromptGenerator\n",
        "\n",
        "system_prompt_generator = SystemPromptGenerator(\n",
        "    background=[\n",
        "        'This assistant is a general-purpose AI designed to be helpful and friendly.',\n",
        "    ],\n",
        "    steps=[\n",
        "        'Understand the user\\'s input and provide a relevant response.',\n",
        "        'Respond to the user.'\n",
        "    ],\n",
        "    output_instructions=[\n",
        "        'Provide helpful and relevant information to assist the user.',\n",
        "        'Be friendly and respectful in all interactions.',\n",
        "        'Always answer in rhyming verse.'\n",
        "    ]\n",
        ")\n",
        "\n",
        "\n",
        "memory = AgentMemory()\n",
        "\n",
        "agent = BaseAgent(\n",
        "    config=BaseAgentConfig(\n",
        "        client=client,\n",
        "        system_prompt_generator=system_prompt_generator,\n",
        "        model=modelid,\n",
        "        memory=memory,\n",
        "    )\n",
        ")\n",
        "\n",
        "system_prompt_generator.generate_prompt()"
      ],
      "metadata": {
        "colab": {
          "base_uri": "https://localhost:8080/",
          "height": 70
        },
        "id": "IoMJcVuvrJfG",
        "outputId": "7bf67568-e89a-4d6b-c4ed-7ecf633e2231"
      },
      "execution_count": null,
      "outputs": [
        {
          "output_type": "execute_result",
          "data": {
            "text/plain": [
              "\"# IDENTITY and PURPOSE\\n- This assistant is a general-purpose AI designed to be helpful and friendly.\\n\\n# INTERNAL ASSISTANT STEPS\\n- Understand the user's input and provide a relevant response.\\n- Respond to the user.\\n\\n# OUTPUT INSTRUCTIONS\\n- Provide helpful and relevant information to assist the user.\\n- Be friendly and respectful in all interactions.\\n- Always answer in rhyming verse.\\n- Always respond using the proper JSON schema.\\n- Always use the available additional information and context to enhance the response.\""
            ],
            "application/vnd.google.colaboratory.intrinsic+json": {
              "type": "string"
            }
          },
          "metadata": {},
          "execution_count": 4
        }
      ]
    },
    {
      "cell_type": "code",
      "source": [
        "import json\n",
        "from atomic_agents.agents.base_agent import BaseAgentResponseSchema\n",
        "\n",
        "print(json.dumps(BaseAgentResponseSchema.model_json_schema(), indent=2))"
      ],
      "metadata": {
        "colab": {
          "base_uri": "https://localhost:8080/",
          "height": 366
        },
        "id": "dVr-Saeav4bz",
        "outputId": "6f3718f4-7035-4c48-c922-21edf7f2956b"
      },
      "execution_count": null,
      "outputs": [
        {
          "output_type": "error",
          "ename": "ImportError",
          "evalue": "cannot import name 'BaseAgentResponseSchema' from 'atomic_agents.agents.base_agent' (/usr/local/lib/python3.11/dist-packages/atomic_agents/agents/base_agent.py)",
          "traceback": [
            "\u001b[0;31m---------------------------------------------------------------------------\u001b[0m",
            "\u001b[0;31mImportError\u001b[0m                               Traceback (most recent call last)",
            "\u001b[0;32m<ipython-input-15-88ec067d153e>\u001b[0m in \u001b[0;36m<cell line: 0>\u001b[0;34m()\u001b[0m\n\u001b[1;32m      1\u001b[0m \u001b[0;32mimport\u001b[0m \u001b[0mjson\u001b[0m\u001b[0;34m\u001b[0m\u001b[0;34m\u001b[0m\u001b[0m\n\u001b[0;32m----> 2\u001b[0;31m \u001b[0;32mfrom\u001b[0m \u001b[0matomic_agents\u001b[0m\u001b[0;34m.\u001b[0m\u001b[0magents\u001b[0m\u001b[0;34m.\u001b[0m\u001b[0mbase_agent\u001b[0m \u001b[0;32mimport\u001b[0m \u001b[0mBaseAgentResponseSchema\u001b[0m\u001b[0;34m\u001b[0m\u001b[0;34m\u001b[0m\u001b[0m\n\u001b[0m\u001b[1;32m      3\u001b[0m \u001b[0;34m\u001b[0m\u001b[0m\n\u001b[1;32m      4\u001b[0m \u001b[0mprint\u001b[0m\u001b[0;34m(\u001b[0m\u001b[0mjson\u001b[0m\u001b[0;34m.\u001b[0m\u001b[0mdumps\u001b[0m\u001b[0;34m(\u001b[0m\u001b[0mBaseAgentResponseSchema\u001b[0m\u001b[0;34m.\u001b[0m\u001b[0mmodel_json_schema\u001b[0m\u001b[0;34m(\u001b[0m\u001b[0;34m)\u001b[0m\u001b[0;34m,\u001b[0m \u001b[0mindent\u001b[0m\u001b[0;34m=\u001b[0m\u001b[0;36m2\u001b[0m\u001b[0;34m)\u001b[0m\u001b[0;34m)\u001b[0m\u001b[0;34m\u001b[0m\u001b[0;34m\u001b[0m\u001b[0m\n",
            "\u001b[0;31mImportError\u001b[0m: cannot import name 'BaseAgentResponseSchema' from 'atomic_agents.agents.base_agent' (/usr/local/lib/python3.11/dist-packages/atomic_agents/agents/base_agent.py)",
            "",
            "\u001b[0;31m---------------------------------------------------------------------------\u001b[0;32m\nNOTE: If your import is failing due to a missing package, you can\nmanually install dependencies using either !pip or !apt.\n\nTo view examples of installing some common dependencies, click the\n\"Open Examples\" button below.\n\u001b[0;31m---------------------------------------------------------------------------\u001b[0m\n"
          ],
          "errorDetails": {
            "actions": [
              {
                "action": "open_url",
                "actionText": "Open Examples",
                "url": "/notebooks/snippets/importing_libraries.ipynb"
              }
            ]
          }
        }
      ]
    },
    {
      "cell_type": "code",
      "source": [
        "while True:\n",
        "    user_input = input('You: ')\n",
        "    if user_input.lower() in ['/exit', '/quit']:\n",
        "        print('Exiting chat...')\n",
        "        break\n",
        "\n",
        "    response = agent.run(agent.input_schema(chat_message=user_input))\n",
        "    print(f'Agent: {response.chat_message}')"
      ],
      "metadata": {
        "colab": {
          "base_uri": "https://localhost:8080/"
        },
        "id": "2cIH6FazuFYu",
        "outputId": "b9110ab7-040b-47fe-f777-e53ea6d5c7e2"
      },
      "execution_count": null,
      "outputs": [
        {
          "output_type": "stream",
          "name": "stdout",
          "text": [
            "You: Write a article about vampires\n",
            "Agent: Write a article about vampires\n",
            "You: What is the capitol of France\n",
            "Agent: The capital of France, a city so fine,\n",
            "Is Paris, the city that's truly divine.\n",
            "Located on the Seine, it's a sight to see,\n",
            "A city of love, art, and history.\n",
            "You: /exit\n",
            "Exiting chat...\n"
          ]
        }
      ]
    },
    {
      "cell_type": "markdown",
      "source": [
        "## Building a Search Tool"
      ],
      "metadata": {
        "id": "ZtSlmezT8esK"
      }
    },
    {
      "cell_type": "code",
      "source": [
        "!pip install googlesearch_python"
      ],
      "metadata": {
        "colab": {
          "base_uri": "https://localhost:8080/"
        },
        "id": "nRJw9-AiuxVB",
        "outputId": "42ee19b0-db68-4e9d-937e-cb9a87c1791d"
      },
      "execution_count": null,
      "outputs": [
        {
          "output_type": "stream",
          "name": "stdout",
          "text": [
            "Requirement already satisfied: googlesearch_python in /usr/local/lib/python3.11/dist-packages (1.3.0)\n",
            "Requirement already satisfied: beautifulsoup4>=4.9 in /usr/local/lib/python3.11/dist-packages (from googlesearch_python) (4.13.3)\n",
            "Requirement already satisfied: requests>=2.20 in /usr/local/lib/python3.11/dist-packages (from googlesearch_python) (2.32.3)\n",
            "Requirement already satisfied: soupsieve>1.2 in /usr/local/lib/python3.11/dist-packages (from beautifulsoup4>=4.9->googlesearch_python) (2.6)\n",
            "Requirement already satisfied: typing-extensions>=4.0.0 in /usr/local/lib/python3.11/dist-packages (from beautifulsoup4>=4.9->googlesearch_python) (4.12.2)\n",
            "Requirement already satisfied: charset-normalizer<4,>=2 in /usr/local/lib/python3.11/dist-packages (from requests>=2.20->googlesearch_python) (3.4.1)\n",
            "Requirement already satisfied: idna<4,>=2.5 in /usr/local/lib/python3.11/dist-packages (from requests>=2.20->googlesearch_python) (3.10)\n",
            "Requirement already satisfied: urllib3<3,>=1.21.1 in /usr/local/lib/python3.11/dist-packages (from requests>=2.20->googlesearch_python) (2.3.0)\n",
            "Requirement already satisfied: certifi>=2017.4.17 in /usr/local/lib/python3.11/dist-packages (from requests>=2.20->googlesearch_python) (2025.1.31)\n"
          ]
        }
      ]
    },
    {
      "cell_type": "code",
      "source": [
        "from pydantic import Field\n",
        "from typing import Optional, List\n",
        "\n",
        "from atomic_agents.agents.base_agent import BaseIOSchema\n",
        "#from atomic_agents.agents.tool_interface_agent import ToolInterfaceAgent, ToolInterfaceAgentConfig\n",
        "from atomic_agents.lib.base.base_tool import BaseTool, BaseToolConfig\n",
        "\n",
        "from googlesearch import search\n",
        "\n",
        "################\n",
        "# INPUT SCHEMA #\n",
        "################\n",
        "class GoogleSearchToolInputSchema(BaseIOSchema):\n",
        "    \"\"\"\n",
        "    Schema for input to a tool for searching for information, news, references, and other content using google search engibe.\n",
        "    Returns a list of search results with a short description or content snippet and URLs for further exploration\n",
        "    \"\"\"\n",
        "\n",
        "    queries: List[str] = Field(..., description=\"List of search queries.\")\n",
        "\n",
        "####################\n",
        "# OUTPUT SCHEMA(S) #\n",
        "####################\n",
        "class SearchResultItemSchema(BaseIOSchema):\n",
        "    \"\"\"This schema represents a single search result item\"\"\"\n",
        "\n",
        "    url: str = Field(..., description=\"The URL of the search result\")\n",
        "    title: str = Field(..., description=\"The title of the search result\")\n",
        "    content: Optional[str] = Field(None, description=\"The content snippet of the search result\")\n",
        "    query: str = Field(..., description=\"The query used to obtain this search result\")\n",
        "\n",
        "\n",
        "class GoogleSearchToolOutputSchema(BaseIOSchema):\n",
        "    \"\"\"This schema represents the output of the google search tool.\"\"\"\n",
        "\n",
        "    results: List[SearchResultItemSchema] = Field(..., description=\"List of search result items\")\n",
        "\n",
        "\n",
        "#####################\n",
        "# THE TOOL          #\n",
        "#####################\n",
        "\n",
        "class GoogleSearchToolConfig(BaseToolConfig):\n",
        "    max_results: int = 10\n",
        "\n",
        "class GoogleSearchTool(BaseTool):\n",
        "    \"\"\"\n",
        "    Tool for performing searches using google search engine based on the provided queries.\n",
        "\n",
        "    Attributes:\n",
        "        input_schema (GoogleSearchToolInputSchema): The schema for the input data.\n",
        "        output_schema (GoogleSearchToolOutputSchema): The schema for the output data.\n",
        "        max_results (int): The maximum number of search results to return.\n",
        "    \"\"\"\n",
        "\n",
        "    input_schema = GoogleSearchToolInputSchema\n",
        "    output_schema = GoogleSearchToolOutputSchema\n",
        "\n",
        "    def __init__(self, config: GoogleSearchToolConfig = GoogleSearchToolConfig()):\n",
        "        \"\"\"\n",
        "        Initializes the SearxNGTool.\n",
        "\n",
        "        Args:\n",
        "            config (GoogleSearchToolConfig):\n",
        "                Configuration for the tool:  max results, and optional title and description overrides.\n",
        "        \"\"\"\n",
        "        super().__init__(config)\n",
        "        self.max_results = config.max_results\n",
        "\n",
        "    async def run_async(\n",
        "        self, params: GoogleSearchToolInputSchema, max_results: Optional[int] = None\n",
        "    ) -> GoogleSearchToolOutputSchema:\n",
        "      pass\n",
        "\n",
        "    def run(self, params: GoogleSearchToolInputSchema, max_results: Optional[int] = None) -> GoogleSearchToolOutputSchema:\n",
        "      results=[]\n",
        "      for searchquery in params.queries:\n",
        "          search_result=search (searchquery, unique=True, advanced=True )\n",
        "          results.extend ( [ SearchResultItemSchema(title=r.title, content=r.description, url=r.url, query=searchquery) for r in search_result ] )\n",
        "      return GoogleSearchToolOutputSchema (results=results)\n",
        "\n",
        "#google_search_agent = ToolInterfaceAgent(config=ToolInterfaceAgentConfig(\n",
        "#                                            client=client, model=modelid,\n",
        "#                                            tool_instance=GoogleSearchTool(), return_raw_output=False\n",
        " #                                           )\n",
        "#                                         )\n"
      ],
      "metadata": {
        "id": "jjl9A22R8dnV"
      },
      "execution_count": 5,
      "outputs": []
    },
    {
      "cell_type": "markdown",
      "source": [
        "Test the Tool"
      ],
      "metadata": {
        "id": "mFQy9KQxUiJi"
      }
    },
    {
      "cell_type": "code",
      "source": [
        "searchtool=GoogleSearchTool()\n",
        "searchtool.run( GoogleSearchTool.input_schema(queries=[\"Valentine Day history\"]) )"
      ],
      "metadata": {
        "id": "CRP4kNp8Ug-S"
      },
      "execution_count": null,
      "outputs": []
    },
    {
      "cell_type": "code",
      "source": [
        "google_search_agent.run(google_search_agent.input_schema(queries=[\"Valentine Day history\"]))"
      ],
      "metadata": {
        "id": "V2KMek1PHVCD"
      },
      "execution_count": null,
      "outputs": []
    },
    {
      "cell_type": "code",
      "source": [],
      "metadata": {
        "id": "fw6H-eV9cIgk"
      },
      "execution_count": null,
      "outputs": []
    },
    {
      "cell_type": "code",
      "source": [
        "import os\n",
        "from atomic_agents.lib.components.system_prompt_generator import SystemPromptGenerator\n",
        "\n",
        "################\n",
        "# INPUT SCHEMA #\n",
        "################\n",
        "class SearchQueryAgentInputSchema(BaseIOSchema):\n",
        "    \"\"\"\n",
        "    Schema for input\n",
        "    \"\"\"\n",
        "\n",
        "    user_input: str = Field(..., description=\"The user input to create internet search queries from.\")\n",
        "    num_queries: int = Field(..., description=\"The number of queries to generate.\")\n",
        "\n",
        "################\n",
        "# Output SCHEMA #\n",
        "################\n",
        "class SearchQueryAgentOutputSchema(BaseIOSchema):\n",
        "    \"\"\"\n",
        "    Schema for Output of Search query finder agent\n",
        "    \"\"\"\n",
        "\n",
        "    queries: List[str] = Field(..., description=\"The list of queries created by a query agent.\")\n",
        "\n",
        "###################\n",
        "# Build the agent #\n",
        "###################\n",
        "memory = AgentMemory()\n",
        "\n",
        "query_agent = BaseAgent(\n",
        "    config=BaseAgentConfig(\n",
        "        client=client,\n",
        "        system_prompt_generator=SystemPromptGenerator(\n",
        "            background=[\n",
        "                'You are an internet researcher.  Which experience in create exact search query to get insightful search results about a topic.',\n",
        "            ],\n",
        "            steps=[\n",
        "                'You will receive a user input and follow this steps to create a list of 5 relevant internet search queries that helps the find relevant information to the user input.',\n",
        "                ' - Understand the provided user\\'s query.',\n",
        "                ' - Think about unique, relevant and insightful information about the provided topic',\n",
        "                ' - create a iist of 5 unique internet search queries to get these relevant information.'\n",
        "                ' - Generate the requested number of queries in a JSON format.',\n",
        "            ],\n",
        "            output_instructions=[\n",
        "                'Provide a list of 5 relevant internet search queries.',\n",
        "                \"Ensure clarity and conciseness in each query.\",\n",
        "                'Ensure every query is as unique and diverse as possible while remaining relevant to the user input.'\n",
        "                'Ensure the queries are relevant to the user input'\n",
        "\n",
        "            ]\n",
        "        ),\n",
        "        input_schema=SearchQueryAgentInputSchema,\n",
        "        output_schema=SearchQueryAgentOutputSchema,\n",
        "        model=modelid,\n",
        "        memory=memory,\n",
        "    )\n",
        ")\n",
        "\n",
        "query_agent.system_prompt_generator.generate_prompt()"
      ],
      "metadata": {
        "colab": {
          "base_uri": "https://localhost:8080/",
          "height": 105
        },
        "outputId": "ce723e01-ad10-4ae4-a239-bbd6c584882b",
        "id": "L9YR9yvbcI5p"
      },
      "execution_count": 16,
      "outputs": [
        {
          "output_type": "execute_result",
          "data": {
            "text/plain": [
              "\"# IDENTITY and PURPOSE\\n- You are an internet researcher.  Which experience in create exact search query to get insightful search results about a topic.\\n\\n# INTERNAL ASSISTANT STEPS\\n- You will receive a user input and follow this steps to create a list of 5 relevant internet search queries that helps the find relevant information to the user input.\\n-  - Understand the provided user's query.\\n-  - Think about unique, relevant and insightful information about the provided topic\\n-  - create a iist of 5 unique internet search queries to get these relevant information. - Generate the requested number of queries in a JSON format.\\n\\n# OUTPUT INSTRUCTIONS\\n- Provide a list of 5 relevant internet search queries.\\n- Ensure clarity and conciseness in each query.\\n- Ensure every query is as unique and diverse as possible while remaining relevant to the user input.Ensure the queries are relevant to the user input\\n- Always respond using the proper JSON schema.\\n- Always use the available additional information and context to enhance the response.\""
            ],
            "application/vnd.google.colaboratory.intrinsic+json": {
              "type": "string"
            }
          },
          "metadata": {},
          "execution_count": 16
        }
      ]
    },
    {
      "cell_type": "code",
      "source": [
        "query_agent.input_schema(user_input=\"Valentine Day history\")"
      ],
      "metadata": {
        "id": "215sdddOk9gK"
      },
      "execution_count": null,
      "outputs": []
    },
    {
      "cell_type": "markdown",
      "source": [
        "## Test the Query agent"
      ],
      "metadata": {
        "id": "UHY9ewqthMmZ"
      }
    },
    {
      "cell_type": "code",
      "source": [
        "input=query_agent.input_schema(user_input=\"Valentine Day history\",num_queries=5)\n",
        "print (input.model_dump_json())\n",
        "\n",
        "query_agent.output_schema=GoogleSearchToolInputSchema\n",
        "query_list=query_agent.run(input)\n",
        "\n",
        "\n",
        "query_list"
      ],
      "metadata": {
        "colab": {
          "base_uri": "https://localhost:8080/"
        },
        "id": "rgfjmOtWhL0e",
        "outputId": "ac5ff4b6-3180-40f1-e045-989386e3e21f"
      },
      "execution_count": 19,
      "outputs": [
        {
          "output_type": "stream",
          "name": "stdout",
          "text": [
            "{\"user_input\":\"Valentine Day history\",\"num_queries\":5}\n"
          ]
        }
      ]
    },
    {
      "cell_type": "markdown",
      "source": [
        "## calling the search tool with the agent output"
      ],
      "metadata": {
        "id": "8rEVwareuyH-"
      }
    },
    {
      "cell_type": "code",
      "source": [
        "searchtool=GoogleSearchTool()\n",
        "search_results=searchtool.run(query_list)\n",
        "search_results"
      ],
      "metadata": {
        "id": "ta3ii0IWsh6H",
        "outputId": "a31779c9-c891-40fc-cb98-495ab4e85bf4",
        "colab": {
          "base_uri": "https://localhost:8080/"
        }
      },
      "execution_count": 21,
      "outputs": [
        {
          "output_type": "execute_result",
          "data": {
            "text/plain": [
              "GoogleSearchToolOutputSchema(results=[SearchResultItemSchema(url='https://www.eyesonbroadway.com/from-broadway-to-you/2024/2/14/unveiling-the-layers-of-valentines-day-from-ancient-rituals-to-modern-celebrations', title=\"Unveiling the Layers of Valentine's Day: From Ancient Rituals to ...\", content=\" This festival, dedicated to Faunus, the Roman god of agriculture, involved various rites, including the pairing of women and men through a lottery. While Lupercalia was rooted in pagan traditions,  its themes of fertility and pairing laid the groundwork for the later associations of Valentine's Day with romance . \", query='\"Ancient Roman Festival of Lupercalia: What is its connection to modern-day Valentine\\'s Day?\"'), SearchResultItemSchema(url='https://www.vindolanda.com/blog/lupercalia', title=\"Lupercalia & its relationship to Valentine's Day - Vindolanda\", content=\" Feb 15, 2021  ·  Lupercalia was originally a pagan festival of fertility and prosperity. Find out here more about its links with the modern Valentine's Day. \", query='\"Ancient Roman Festival of Lupercalia: What is its connection to modern-day Valentine\\'s Day?\"'), SearchResultItemSchema(url='https://www.history.com/topics/ancient-rome/lupercalia', title=\"Lupercalia: Meaning, Pagan Rituals, Valentine's Day | HISTORY\", content=\" Dec 13, 2017  ·  Lupercalia was an ancient pagan festival held each year in Rome around February 14. It is considered a precursor to Valentine's Day. \", query='\"Ancient Roman Festival of Lupercalia: What is its connection to modern-day Valentine\\'s Day?\"'), SearchResultItemSchema(url='https://www.interfaithamerica.org/article/lupercalia-imbolc-valentines/', title=\"Lupercalia, Imbolc, and Valentine's Day: The Passionate Season of ...\", content=\" Feb 13, 2024  ·  Some scholars have suggested that Valentine's Day has its roots in the ancient Roman festival of Lupercalia. Celebrated on February 15,\\xa0... \", query='\"Ancient Roman Festival of Lupercalia: What is its connection to modern-day Valentine\\'s Day?\"'), SearchResultItemSchema(url='https://time.com/5527259/valentines-day-lupercalia/', title=\"Valentine's Day Origins and Lupercalia: What's the Link? - Time\", content=' Feb 14, 2019  ·  One presumed aspect of the festival is the idea that there would have been a matchmaking lottery associated with Lupercalia, a supposition that\\xa0... ', query='\"Ancient Roman Festival of Lupercalia: What is its connection to modern-day Valentine\\'s Day?\"'), SearchResultItemSchema(url='https://www.nbcchicago.com/news/local/why-do-we-celebrate-valentines-day-how-the-holiday-originated-and-more/3674713/', title=\"  Why do we celebrate Valentine's Day? How the holiday originated and more  \", content=\" Why do we celebrate Valentine's Day? How the holiday originated and more \", query='\"Ancient Roman Festival of Lupercalia: What is its connection to modern-day Valentine\\'s Day?\"'), SearchResultItemSchema(url='https://www.reddit.com/r/AskHistorians/comments/f1e6be/how_tenuous_is_the_relationship_between/', title=\"How tenuous is the relationship between Valentine's day and ...\", content=\" Feb 10, 2020  ·  TIL: Valentine's days roots are in the ancient Roman festival of Lupercalia, a fertility celebration commemorated annually on February 15. Pope\\xa0... \", query='\"Ancient Roman Festival of Lupercalia: What is its connection to modern-day Valentine\\'s Day?\"'), SearchResultItemSchema(url='https://www.quora.com/Valentines-Day-evolved-from-what-ancient-Roman-festival', title=\"Valentine's Day evolved from what ancient Roman festival? - Quora\", content=' Feb 14, 2019  ·  Celebrated at the ides of February, or February 15, Lupercalia was a fertility festival dedicated to Faunus, the Roman god of agriculture, as\\xa0... ', query='\"Ancient Roman Festival of Lupercalia: What is its connection to modern-day Valentine\\'s Day?\"'), SearchResultItemSchema(url='https://www.cnet.com/culture/valentines-day-2022-history-and-meaning/', title=\"Valentine's Day: The Wild, Pagan History Behind the Romantic ...\", content=\" Feb 10, 2022  ·  Many historians believe the seeds of Valentine's Day were planted in Lupercalia, an ancient Roman festival honoring Juno, the Roman goddess of marriage. \", query='\"Ancient Roman Festival of Lupercalia: What is its connection to modern-day Valentine\\'s Day?\"'), SearchResultItemSchema(url='https://www.americanstationery.com/blog/the-origins-of-valentines-day/?srsltid=AfmBOopMPwV-CP9vZoXhVxEkvH09xbz01Z7hknqAGki2rBoJx6wZ5knR', title=\"The Origins of Valentine's Day - American Stationery\", content=\" Feb 7, 2025  ·  The origins of Valentine's Day trace back to the ancient Roman celebration of Lupercalia. Held on February 15, Lupercalia honored the gods Lupercus and Faunus. \", query='\"Ancient Roman Festival of Lupercalia: What is its connection to modern-day Valentine\\'s Day?\"'), SearchResultItemSchema(url='https://cdn.britannica.com/84/187184-050-DDA27FAE/St-Valentine-man.jpg?sa=X', title='', content=' By some accounts,  St. Valentine was a Roman priest and physician who was martyred during the persecution of Christians by the emperor Claudius II Gothicus about 270 ce . He was buried on the Via Flaminia, and Pope Julius I reportedly built a basilica over his grave. ', query='\"The History of St. Valentine: A Martyr for Love and Sacrifice\"'), SearchResultItemSchema(url='https://www.catholicworldreport.com/2025/02/14/st-valentine-how-a-beheaded-martyr-became-the-patron-saint-of-romantic-love/', title='St. Valentine: How a beheaded martyr became the patron saint of ...', content=' 3 days ago  ·  “He was either a Roman priest and physician who was martyred, or he was the bishop of Terni, Italy, who was also martyred in Rome, around 270\\xa0... ', query='\"The History of St. Valentine: A Martyr for Love and Sacrifice\"'), SearchResultItemSchema(url='https://www.desiringgod.org/articles/the-martyred-lover', title=\"The Martyred Lover: The Story Behind Saint Valentine's Day\", content=' Feb 14, 2022  ·  Our Saint Valentine was an Italian bishop who was martyred on February 14, 269, after a trial before the Roman emperor Claudius Gothicus (reign 268–270). ', query='\"The History of St. Valentine: A Martyr for Love and Sacrifice\"'), SearchResultItemSchema(url='https://www.goodcatholic.com/introducing-the-real-st-valentine-spoiler-alert-he-was-no-cupid/', title='Introducing the Real St. Valentine (Spoiler Alert: He Was No Cupid)', content=' Feb 13, 2024  ·  St. Valentine was a priest in Rome who was martyred during the 3rd century, though the Roman Martyrology actually lists two Italian martyr-\\xa0... ', query='\"The History of St. Valentine: A Martyr for Love and Sacrifice\"'), SearchResultItemSchema(url='https://reporter.anu.edu.au/all-stories/saints-and-beheadings-the-bloody-origins-of-valentines-day', title=\"Saints and beheadings: the bloody origins of Valentine's Day\", content=' Feb 13, 2023  ·  The day is named after a Christian priest, Valentinus, who lived in the late third century AD and was beheaded on the orders of the pagan Roman emperor\\xa0... ', query='\"The History of St. Valentine: A Martyr for Love and Sacrifice\"'), SearchResultItemSchema(url='https://www.norwichdiocese.org/Stay-Informed/All-Diocesan-Articles/ID/7019/St-Valentine-How-a-Martyr-Became-a-Poster-Child-for-Romantic-Love', title='St. Valentine: How a Martyr Became a Poster Child for Romantic Love', content=\" St. Valentine - whether priest or bishop - was martyred on February 14, now celebrated as Valentine's Day. According to most accounts, he was beaten and then\\xa0... \", query='\"The History of St. Valentine: A Martyr for Love and Sacrifice\"'), SearchResultItemSchema(url='https://gospelhydrationlegacy.com/the-story-of-st-valentine-love-sacrifice-and-christian-devotion/', title='The Story of St. Valentine: Love, Sacrifice, and Christian Devotion', content=' 3 days ago  ·  St. Valentine was a Christian priest (or possibly a bishop) who lived during the 3rd century in Rome under Emperor Claudius II. At that time,\\xa0... ', query='\"The History of St. Valentine: A Martyr for Love and Sacrifice\"'), SearchResultItemSchema(url='https://www.quora.com/What-is-the-true-story-of-Saint-Valentine-historically-proven-to-be-accurate', title='What is the true story of Saint Valentine, historically proven to be ...', content=' Feb 14, 2022  ·  Valentine was a Roman priest suffered martyrdom during the persecution of Christians by the emperor Claudius II .He was arrested and imprisoned\\xa0... ', query='\"The History of St. Valentine: A Martyr for Love and Sacrifice\"'), SearchResultItemSchema(url='https://today.bju.edu/perspective/no-greater-love-the-story-of-st-valentine/', title='No Greater Love: The Story of St. Valentine - BJUtoday', content=' Feb 14, 2018  ·  On February 14, 270 BC, in Rome, one of the three known saints called Valentine was beaten and beheaded per order of Claudius II. ', query='\"The History of St. Valentine: A Martyr for Love and Sacrifice\"'), SearchResultItemSchema(url='https://www.amongmen.com/life/who-was-st-valentine-the-mysterious-martyr-behind-loves-favourite-holiday/', title=\"Who Was St. Valentine? The Mysterious Martyr Behind Love's ...\", content=' 5 days ago  ·  On February 14, around the year 269 AD, Valentine was beaten, stoned, and finally beheaded outside the Flaminian Gate in Rome. His sacrifice\\xa0... ', query='\"The History of St. Valentine: A Martyr for Love and Sacrifice\"'), SearchResultItemSchema(url='https://www.history.com/topics/valentines-day/history-of-valentines-day-2', title=\"Valentine's Day 2025: Origins, Background & Traditions | HISTORY\", content=\" While some believe that Valentine's Day is celebrated in the middle of February to commemorate the anniversary of Valentine's death or burial—which probably occurred around A.D. 270—others claim that  the Christian church may have decided to place St. Valentine's feast day in the middle of February in an effort to “  ... \", query='\"How Did the Christian Church Influence the Development of Valentine\\'s Day?\"'), SearchResultItemSchema(url='https://www.smithsonianmag.com/history/gory-origins-valentines-day-180968156/', title=\"The Gory Origins of Valentine's Day - Smithsonian Magazine\", content=\" Feb 14, 2018  ·  Valentine's Day, in fact, originated as a liturgical feast to celebrate the decapitation of a third-century Christian martyr, or perhaps two. \", query='\"How Did the Christian Church Influence the Development of Valentine\\'s Day?\"'), SearchResultItemSchema(url='https://www.biblestudytools.com/bible-study/topical-studies/how-did-a-martyred-saint-inspire-valentines-day.html', title=\"Who Was St. Valentine? The Origin & History of Valentine's Day\", content=' However, similar to Halloween, Eostre, and Christmas, Christians took a pagan holiday and revamped it with enriched Christian symbolism. Such is the case with\\xa0... ', query='\"How Did the Christian Church Influence the Development of Valentine\\'s Day?\"'), SearchResultItemSchema(url='https://collinstreet.com/blogs/holidays/the-history-of-valentines-day?srsltid=AfmBOoofQAJZHAP1p9TNs11YK6gL0yljHLkETWVy7za9qzJaLRYvQStz', title=\"Unveiling the History of Valentine's Day\", content=\" Feb 5, 2024  ·  The modern celebration of Valentine's Day has roots that date back to the 6th-century BC pagan fertility festival of Lupercalia. \", query='\"How Did the Christian Church Influence the Development of Valentine\\'s Day?\"'), SearchResultItemSchema(url='https://www.holymasterpieces.com/blogs/news/the-history-of-st-valentine-s-day-in-religion-a-deep-dive-into-its-origins?srsltid=AfmBOorF9mUuUVk6U8AZ9KCuMSeFWhiVaz3iKq4gbjeSUxgaU6OOwVjg', title=\"The History of St. Valentine's Day in Religion: A Deep Dive into Its O\", content=' 4 days ago  ·  Over the centuries, the day continued to be celebrated by Christians in various ways, often focusing on themes of love, compassion, and\\xa0... ', query='\"How Did the Christian Church Influence the Development of Valentine\\'s Day?\"'), SearchResultItemSchema(url='https://www.cbsnews.com/news/valentines-day-why-celebrate-who-was-saint-valentine/', title=\"Why do we celebrate Valentine's Day and who was Saint Valentine?\", content=' 3 days ago  ·  One of the legends, Lenski said, is that a bishop secretly performed marriage ceremonies and a Pagan emperor of Rome killed him for doing so. ', query='\"How Did the Christian Church Influence the Development of Valentine\\'s Day?\"'), SearchResultItemSchema(url='https://www.britannica.com/biography/Saint-Valentine', title='St. Valentine | Facts, Patron Saint Of, Feast Day, History, & Legend', content=' 6 days ago  ·  St. Valentine was a Roman priest and physician who was martyred during the persecution of Christians by the emperor Claudius II Gothicus about 270. ', query='\"How Did the Christian Church Influence the Development of Valentine\\'s Day?\"'), SearchResultItemSchema(url='https://www.illumy.com/evolution-of-valentines-day/', title=\"The Evolution of Valentine's Day - illumy\", content=' Feb 4, 2024  ·  According to the legend, Saint Valentine, a priest, defied a decree of Roman Emperor Claudius II which banned marriages for young men, believing\\xa0... ', query='\"How Did the Christian Church Influence the Development of Valentine\\'s Day?\"'), SearchResultItemSchema(url='https://www.archtoronto.org/en/outreach/archdiocesan-blog/archdiocesan/the-christian-origins-of-st.-valentines-day/', title=\"The Christian Origins of St. Valentine's Day - Archdiocese of Toronto\", content=' Feb 13, 2023  ·  The feast of St. Valentine is rooted in the very beginnings of the Christian Church. The hagiographies are filled with legends and stories, but\\xa0... ', query='\"How Did the Christian Church Influence the Development of Valentine\\'s Day?\"'), SearchResultItemSchema(url='https://en.wikipedia.org/wiki/Valentine%27s_Day', title=\"Valentine's Day - Wikipedia\", content=' It originated as a Christian feast day honoring a martyr named Valentine, and through later folk traditions it has also become a significant cultural, religious\\xa0... ', query='\"How Did the Christian Church Influence the Development of Valentine\\'s Day?\"'), SearchResultItemSchema(url='https://traveltriangle.com/blog/valentines-day-traditions-around-the-world/', title=\"18 Valentine's Day Traditions Around The World In 2025\", content=\" Many unique Valentine's Day gifts are exchanged in different cultures. For example, in Bulgaria, couples celebrate with a glass of local wine; in Wales, people exchange handcrafted wooden spoons. In Japan, women give chocolates to men, and different chocolates represent different relationships. \", query='\"Valentine\\'s Day Around the World: Traditions and Celebrations Beyond the US\"'), SearchResultItemSchema(url='https://www.ciee.org/go-abroad/college-study-abroad/blog/valentines-day-traditions-around-world', title=\"Valentine's Day Traditions Around the World | CIEE\", content=' 5 days ago  ·  These celebrations go far beyond flowers and chocolates, offering a glimpse into how different cultures express their affection and connection. ', query='\"Valentine\\'s Day Around the World: Traditions and Celebrations Beyond the US\"'), SearchResultItemSchema(url='https://www.today.com/life/holidays/valentines-day-traditions-around-the-world-rcna64522', title=\"15 Valentine's Day Traditions Around the World - Today Show\", content=\" Jan 27, 2025  ·  Learn about how countries across the globe celebrate Valentine's Day including February 14 traditions from France, Italy, Germany, Finland,\\xa0... \", query='\"Valentine\\'s Day Around the World: Traditions and Celebrations Beyond the US\"'), SearchResultItemSchema(url='https://www.odysseys-unlimited.com/valentines-day-in-30-countries-around-the-world/', title=\"Valentine's Day in 30 Countries Around the World\", content=\" 5 days ago  ·  Every culture around the world has its own unique twist on Valentine's Day traditions. Carved wooden spoons? Underwater weddings? \", query='\"Valentine\\'s Day Around the World: Traditions and Celebrations Beyond the US\"'), SearchResultItemSchema(url='https://www.nbcphiladelphia.com/entertainment/the-scene/14-valentines-day-traditions-from-around-the-world/3755661/?os=wtmbrgj5xbah&ref=app', title=\"14 Valentine's Day traditions around the world - NBC10 Philadelphia\", content=' Jan 24, 2024  ·  Find out how countries like France, Italy, Germany and others celebrate Feb. 14 each year. ', query='\"Valentine\\'s Day Around the World: Traditions and Celebrations Beyond the US\"'), SearchResultItemSchema(url='https://blog.rosettastone.com/valentines-day-traditions-around-the-world/', title=\"23 Lovely Valentine's Day Traditions From Around the World\", content=\" Jan 30, 2024  ·  Valentine's Day in Germany isn't a longstanding tradition and instead seems to have been imported by American soldiers during World War II. \", query='\"Valentine\\'s Day Around the World: Traditions and Celebrations Beyond the US\"'), SearchResultItemSchema(url='https://www.quora.com/How-is-Valentines-Day-celebrated-around-the-world-outside-of-the-U-S', title=\"How is Valentine's Day celebrated around the world, outside ... - Quora\", content=\" Feb 4, 2021  ·  Some popular valentine's day traditions include exchanging gifts such as roses or chocolates, and a romantic night out or dinner. School\\xa0... \", query='\"Valentine\\'s Day Around the World: Traditions and Celebrations Beyond the US\"'), SearchResultItemSchema(url='https://www.ef.edu/blog/language/6-valentines-traditions-around-world-love/', title=\"6 Valentine's traditions from around the world that we love ‹ GO Blog\", content=\" Traditions these days vary from country to country – here's our handy rundown of the most interesting Valentine's traditions from around the world. \", query='\"Valentine\\'s Day Around the World: Traditions and Celebrations Beyond the US\"'), SearchResultItemSchema(url='https://www.wanderlustmagazine.com/inspiration/strange-valentines-day-traditions-from-around-the-world/', title=\"9 Valentine's Day traditions from around the world - Wanderlust\", content=\" 9 Valentine's Day traditions from around the world · 1. All the single ladies in South Korea · 2. Just friends in Estonia · 3. Love spoons in Wales · 4. The love\\xa0... \", query='\"Valentine\\'s Day Around the World: Traditions and Celebrations Beyond the US\"'), SearchResultItemSchema(url='https://www.lokalcoco.com/blogs/lokal-coco-blog/valentines-day-traditions', title=\"20 Valentine's Day Traditions Around The World | Lokal Coco\", content=' Feb 14, 2024  ·  1. Japan - Chocolate Exchange · 2. South Korea - Love Celebrated Monthly · 3. France - Love Locks · 4. Wales - Love Spoons · 5. Philippines - Mass\\xa0... ', query='\"Valentine\\'s Day Around the World: Traditions and Celebrations Beyond the US\"'), SearchResultItemSchema(url='https://media.npr.org/assets/img/2011/02/13/valentine_custom-824b9bb9861c966077c98c55b95e9bac4247e856.jpg?sa=X', title='', content=\" The ancient Romans may also be responsible for the name of our modern day of love.  Emperor Claudius II executed two men — both named Valentine — on Feb. 14 of different years in the third century . Their martyrdom was honored by the Catholic Church with the celebration of St. Valentine's Day. \", query='\"Uncovering the Origins of Valentine\\'s Day: Myth, Legend, and Historical Facts\"'), SearchResultItemSchema(url='https://www.history.com/topics/valentines-day/history-of-valentines-day-2', title=\"Valentine's Day 2025: Origins, Background & Traditions | HISTORY\", content=' Dec 22, 2009  ·  According to one legend, an imprisoned Valentine actually sent the first “valentine” greeting himself after he fell in love with a young\\xa0... ', query='\"Uncovering the Origins of Valentine\\'s Day: Myth, Legend, and Historical Facts\"'), SearchResultItemSchema(url='https://www.paulmasih.com/post/the-origin-of-valentine-s-day-myths-legends-and-facts', title=\"The Origin of Valentine's Day: Myths, Legends, and Facts\", content=\" 5 days ago  ·  One legend says that Valentine defied Emperor Claudius II's ban on marriages for young soldiers, believing that married men made poor soldiers. \", query='\"Uncovering the Origins of Valentine\\'s Day: Myth, Legend, and Historical Facts\"'), SearchResultItemSchema(url='https://www.walksofitaly.com/blog/art-culture/the-strange-but-true-story-behind-valentines-day', title=\"Valentine's Day: The Unbelievable History You Didn't Know\", content=\" Jan 13, 2025  ·  Saint Valentine and the Love Connection   Chaucer appears to have invented the correlation that Valentine's Day equals love and chalked it up to\\xa0... \", query='\"Uncovering the Origins of Valentine\\'s Day: Myth, Legend, and Historical Facts\"'), SearchResultItemSchema(url='https://en.wikipedia.org/wiki/Valentine%27s_Day', title=\"Valentine's Day - Wikipedia\", content=' It originated as a Christian feast day honoring a martyr named Valentine ... This legend has been published by both American Greetings and The History Channel. ', query='\"Uncovering the Origins of Valentine\\'s Day: Myth, Legend, and Historical Facts\"'), SearchResultItemSchema(url='https://www.countrylife.co.uk/comment-opinion/legend-and-legacy-of-st-valentine-46542', title='The true story of St Valentine, his legend and legacy of love', content=\" One theory is that the word 'valentine' comes from the Normanga latin, meaning gallant or lover of women, which further enriched the romance of Valentine's Day. \", query='\"Uncovering the Origins of Valentine\\'s Day: Myth, Legend, and Historical Facts\"'), SearchResultItemSchema(url='https://www.abfrl.com/blog/the-mythical-evolution-of-valentines-day-love-fate-and-folklore/', title=\"The Mythical Evolution of Valentine's Day: Love, Fate, and Folklore\", content=' 3 days ago  ·  The most famous legend suggests that St. Valentine of Rome was a priest during the reign of Emperor Claudius II. Claudius had banned marriages\\xa0... ', query='\"Uncovering the Origins of Valentine\\'s Day: Myth, Legend, and Historical Facts\"'), SearchResultItemSchema(url='https://www.youtube.com/watch?v=dM8Bzm2tCrQ', title=\"Uncovering the Untold Origins of Valentine's Day - YouTube\", content=\" Feb 14, 2024  ·  Historian William J. Federer joins CBN News to explain the real-life Christian history of Valentine's Day, explaining how February 14 came\\xa0... \", query='\"Uncovering the Origins of Valentine\\'s Day: Myth, Legend, and Historical Facts\"'), SearchResultItemSchema(url='https://www.nationalgeographic.com/culture/article/saint-st-valentines-day', title=\"Why the origins of Valentine's Day were not about love\", content=\" Feb 13, 2018  ·  The earliest possible origin story of Valentine's Day is the pagan holiday Lupercalia. Occurring for centuries in the middle of February\\xa0... \", query='\"Uncovering the Origins of Valentine\\'s Day: Myth, Legend, and Historical Facts\"'), SearchResultItemSchema(url='https://goplacesdigital.com/valentines-day-myths-traditions-the-magic-behind-the-celebration/', title=\"Valentine's Day Myths, Traditions & The Magic Behind The ...\", content=\" Feb 7, 2025  ·  The true origins of Valentine's Day are somewhat shrouded in mystery. One popular myth surrounds Saint Valentine, a priest in Rome during the\\xa0... \", query='\"Uncovering the Origins of Valentine\\'s Day: Myth, Legend, and Historical Facts\"')])"
            ]
          },
          "metadata": {},
          "execution_count": 21
        }
      ]
    },
    {
      "cell_type": "markdown",
      "source": [
        "# Building an output agent"
      ],
      "metadata": {
        "id": "udbgamaAu6I0"
      }
    },
    {
      "cell_type": "code",
      "source": [
        "import os\n",
        "from atomic_agents.lib.components.system_prompt_generator import SystemPromptGenerator\n",
        "\n",
        "\n",
        "\n",
        "################\n",
        "# Output SCHEMA #\n",
        "################\n",
        "class InfomationSummaryAgentOutputSchema(BaseIOSchema):\n",
        "    \"\"\"\n",
        "    Schema for Output of Search query finder agent\n",
        "    \"\"\"\n",
        "\n",
        "    answer: str = Field(..., description=\"A summary of information received from agents.\")\n",
        "\n",
        "###################\n",
        "# Build the agent #\n",
        "###################\n",
        "\n",
        "summary_agent = BaseAgent(\n",
        "    config=BaseAgentConfig(\n",
        "        client=client,\n",
        "        system_prompt_generator=SystemPromptGenerator(\n",
        "            background=[\n",
        "                'You are an researcher and will summarize information into a comprehensive text.',\n",
        "            ],\n",
        "            steps=[\n",
        "                'You will receive information from various internet searches and summarize those information.',\n",
        "            ],\n",
        "            output_instructions=[\n",
        "                \"Use different sections with a compelling title for the content.\"\n",
        "                \"Ensure clarity and conciseness of the output.\",\n",
        "                \"Ensure to remain all relevant information in the output.\"\n",
        "                \"Response in a casual and easy to understand short text.\"\n",
        "            ]\n",
        "        ),\n",
        "        input_schema=GoogleSearchToolOutputSchema,\n",
        "        output_schema=InfomationSummaryAgentOutputSchema,\n",
        "        model=modelid,\n",
        "        memory=memory,\n",
        "    )\n",
        ")\n",
        "\n",
        "summary_agent.system_prompt_generator.generate_prompt()"
      ],
      "metadata": {
        "colab": {
          "base_uri": "https://localhost:8080/",
          "height": 70
        },
        "outputId": "074bbbf7-0b10-40d5-e0a1-02af43a07bd2",
        "id": "8jBycNfau5aG"
      },
      "execution_count": 23,
      "outputs": [
        {
          "output_type": "execute_result",
          "data": {
            "text/plain": [
              "'# IDENTITY and PURPOSE\\n- You are an researcher and will summarize information into a comprehensive text.\\n\\n# INTERNAL ASSISTANT STEPS\\n- You will receive information from various internet searches and summarize those information.\\n\\n# OUTPUT INSTRUCTIONS\\n- Use different sections with a compelling title for the content.Ensure clarity and conciseness of the output.\\n- Ensure to remain all relevant information in the output.Response in a casual and easy to understand short text.\\n- Always respond using the proper JSON schema.\\n- Always use the available additional information and context to enhance the response.'"
            ],
            "application/vnd.google.colaboratory.intrinsic+json": {
              "type": "string"
            }
          },
          "metadata": {},
          "execution_count": 23
        }
      ]
    },
    {
      "cell_type": "code",
      "source": [
        "summary_agent.run(search_results)"
      ],
      "metadata": {
        "id": "LusxniyEwjU6"
      },
      "execution_count": null,
      "outputs": []
    }
  ]
}