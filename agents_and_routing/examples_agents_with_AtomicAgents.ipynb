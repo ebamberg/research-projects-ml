{
  "nbformat": 4,
  "nbformat_minor": 0,
  "metadata": {
    "colab": {
      "provenance": [],
      "authorship_tag": "ABX9TyNDnQN70jFmNunkYuZYZFwk",
      "include_colab_link": true
    },
    "kernelspec": {
      "name": "python3",
      "display_name": "Python 3"
    },
    "language_info": {
      "name": "python"
    }
  },
  "cells": [
    {
      "cell_type": "markdown",
      "metadata": {
        "id": "view-in-github",
        "colab_type": "text"
      },
      "source": [
        "<a href=\"https://colab.research.google.com/github/ebamberg/research-projects-ml/blob/main/agents_and_routing/examples_agents_with_AtomicAgents.ipynb\" target=\"_parent\"><img src=\"https://colab.research.google.com/assets/colab-badge.svg\" alt=\"Open In Colab\"/></a>"
      ]
    },
    {
      "cell_type": "code",
      "execution_count": 5,
      "metadata": {
        "id": "GCm0uJVC9jvj",
        "colab": {
          "base_uri": "https://localhost:8080/"
        },
        "outputId": "c55b791a-57b4-424d-9475-cfa9f90dade7"
      },
      "outputs": [
        {
          "output_type": "stream",
          "name": "stdout",
          "text": [
            "\u001b[?25l   \u001b[90m━━━━━━━━━━━━━━━━━━━━━━━━━━━━━━━━━━━━━━━━\u001b[0m \u001b[32m0.0/2.5 MB\u001b[0m \u001b[31m?\u001b[0m eta \u001b[36m-:--:--\u001b[0m\r\u001b[2K   \u001b[91m━━━━━━━━━━━━━━━━━━━━━━━━━━━━━━━━━━━━━━━\u001b[0m\u001b[91m╸\u001b[0m \u001b[32m2.5/2.5 MB\u001b[0m \u001b[31m102.6 MB/s\u001b[0m eta \u001b[36m0:00:01\u001b[0m\r\u001b[2K   \u001b[90m━━━━━━━━━━━━━━━━━━━━━━━━━━━━━━━━━━━━━━━━\u001b[0m \u001b[32m2.5/2.5 MB\u001b[0m \u001b[31m55.2 MB/s\u001b[0m eta \u001b[36m0:00:00\u001b[0m\n",
            "\u001b[?25h\u001b[?25l   \u001b[90m━━━━━━━━━━━━━━━━━━━━━━━━━━━━━━━━━━━━━━━━\u001b[0m \u001b[32m0.0/1.0 MB\u001b[0m \u001b[31m?\u001b[0m eta \u001b[36m-:--:--\u001b[0m\r\u001b[2K   \u001b[90m━━━━━━━━━━━━━━━━━━━━━━━━━━━━━━━━━━━━━━━━\u001b[0m \u001b[32m1.0/1.0 MB\u001b[0m \u001b[31m43.0 MB/s\u001b[0m eta \u001b[36m0:00:00\u001b[0m\n",
            "\u001b[2K   \u001b[90m━━━━━━━━━━━━━━━━━━━━━━━━━━━━━━━━━━━━━━━━\u001b[0m \u001b[32m413.0/413.0 kB\u001b[0m \u001b[31m26.0 MB/s\u001b[0m eta \u001b[36m0:00:00\u001b[0m\n",
            "\u001b[2K   \u001b[90m━━━━━━━━━━━━━━━━━━━━━━━━━━━━━━━━━━━━━━━━\u001b[0m \u001b[32m50.9/50.9 kB\u001b[0m \u001b[31m3.8 MB/s\u001b[0m eta \u001b[36m0:00:00\u001b[0m\n",
            "\u001b[?25h"
          ]
        }
      ],
      "source": [
        "!pip install ollama langchain_community --quiet\n",
        "\n",
        "host=\"localhost:11434\"\n",
        "modelid=\"llama3.2\"\n",
        "emb_modelid=\"mxbai-embed-large\"\n",
        "\n",
        "get_ipython().system_raw(\"curl -fsSL https://ollama.com/install.sh | sh\")\n",
        "get_ipython().system_raw(\"ollama serve &\")\n",
        "get_ipython().system_raw(f\"ollama pull {modelid}\")\n",
        "get_ipython().system_raw(f\"ollama pull {emb_modelid}\")\n"
      ]
    },
    {
      "cell_type": "code",
      "source": [
        "!pip install pyngrok\n",
        "from pyngrok import ngrok\n",
        "from google.colab import userdata\n",
        "\n",
        "ngrok.kill()\n",
        "NGROK_AUTH_TOKEN = userdata.get('NGROK_AUTH_TOKEN')\n",
        "ngrok.set_auth_token(NGROK_AUTH_TOKEN)\n",
        "ngrok_tunnel = ngrok.connect(addr=\"11434\", proto=\"http\", bind_tls=True, host_header=\"localhost:11434\" )\n",
        "print(\"OLLama URL:\", ngrok_tunnel.public_url)\n",
        "\n",
        "llama_url = ngrok_tunnel.public_url"
      ],
      "metadata": {
        "id": "nfBdkxfx-Mtk"
      },
      "execution_count": null,
      "outputs": []
    },
    {
      "cell_type": "code",
      "source": [
        "!pip install atomic-agents instructor --quiet"
      ],
      "metadata": {
        "id": "8jw4YUzhqFIY"
      },
      "execution_count": 2,
      "outputs": []
    },
    {
      "cell_type": "code",
      "source": [
        "import os\n",
        "from atomic_agents.lib.components.system_prompt_generator import SystemPromptGenerator\n",
        "\n",
        "system_prompt_generator = SystemPromptGenerator(\n",
        "    background=[\n",
        "        'This assistant is a general-purpose AI designed to be helpful and friendly.',\n",
        "    ],\n",
        "    steps=[\n",
        "        'Understand the user\\'s input and provide a relevant response.',\n",
        "        'Respond to the user.'\n",
        "    ],\n",
        "    output_instructions=[\n",
        "        'Provide helpful and relevant information to assist the user.',\n",
        "        'Be friendly and respectful in all interactions.',\n",
        "        'Always answer in rhyming verse.'\n",
        "    ]\n",
        ")\n",
        "\n",
        "system_prompt_generator.generate_prompt()"
      ],
      "metadata": {
        "colab": {
          "base_uri": "https://localhost:8080/",
          "height": 70
        },
        "id": "IoMJcVuvrJfG",
        "outputId": "1931f29b-b536-45c3-bb6c-561d0afd8462"
      },
      "execution_count": 3,
      "outputs": [
        {
          "output_type": "execute_result",
          "data": {
            "text/plain": [
              "\"# IDENTITY and PURPOSE\\n- This assistant is a general-purpose AI designed to be helpful and friendly.\\n\\n# INTERNAL ASSISTANT STEPS\\n- Understand the user's input and provide a relevant response.\\n- Respond to the user.\\n\\n# OUTPUT INSTRUCTIONS\\n- Provide helpful and relevant information to assist the user.\\n- Be friendly and respectful in all interactions.\\n- Always answer in rhyming verse.\\n- Always respond using the proper JSON schema.\\n- Always use the available additional information and context to enhance the response.\""
            ],
            "application/vnd.google.colaboratory.intrinsic+json": {
              "type": "string"
            }
          },
          "metadata": {},
          "execution_count": 3
        }
      ]
    },
    {
      "cell_type": "code",
      "source": [
        "import instructor\n",
        "import openai\n",
        "from openai import OpenAI\n",
        "from atomic_agents.agents.base_agent import BaseAgent, BaseAgentConfig, BaseIOSchema\n",
        "from atomic_agents.lib.components.agent_memory import AgentMemory\n",
        "\n",
        "\n",
        "\n",
        "\n",
        "llm = OpenAI(\n",
        "        base_url=f\"http://{host}/v1\",\n",
        "        api_key=\"ollama\",  # required, but unused\n",
        "    )\n",
        "\n",
        "client = instructor.from_openai(\n",
        "    llm,\n",
        "    mode=instructor.Mode.JSON,\n",
        ")\n",
        "\n",
        "memory = AgentMemory()\n",
        "\n",
        "agent = BaseAgent(\n",
        "    config=BaseAgentConfig(\n",
        "        client=client,\n",
        "        system_prompt_generator=system_prompt_generator,\n",
        "        model=modelid,\n",
        "        memory=memory,\n",
        "    )\n",
        ")"
      ],
      "metadata": {
        "id": "ZRAasgb5r_vR"
      },
      "execution_count": 11,
      "outputs": []
    },
    {
      "cell_type": "code",
      "source": [
        "import json\n",
        "from atomic_agents.agents.base_agent import BaseAgentResponseSchema\n",
        "\n",
        "print(json.dumps(BaseAgentResponseSchema.model_json_schema(), indent=2))"
      ],
      "metadata": {
        "colab": {
          "base_uri": "https://localhost:8080/",
          "height": 366
        },
        "id": "dVr-Saeav4bz",
        "outputId": "6f3718f4-7035-4c48-c922-21edf7f2956b"
      },
      "execution_count": 15,
      "outputs": [
        {
          "output_type": "error",
          "ename": "ImportError",
          "evalue": "cannot import name 'BaseAgentResponseSchema' from 'atomic_agents.agents.base_agent' (/usr/local/lib/python3.11/dist-packages/atomic_agents/agents/base_agent.py)",
          "traceback": [
            "\u001b[0;31m---------------------------------------------------------------------------\u001b[0m",
            "\u001b[0;31mImportError\u001b[0m                               Traceback (most recent call last)",
            "\u001b[0;32m<ipython-input-15-88ec067d153e>\u001b[0m in \u001b[0;36m<cell line: 0>\u001b[0;34m()\u001b[0m\n\u001b[1;32m      1\u001b[0m \u001b[0;32mimport\u001b[0m \u001b[0mjson\u001b[0m\u001b[0;34m\u001b[0m\u001b[0;34m\u001b[0m\u001b[0m\n\u001b[0;32m----> 2\u001b[0;31m \u001b[0;32mfrom\u001b[0m \u001b[0matomic_agents\u001b[0m\u001b[0;34m.\u001b[0m\u001b[0magents\u001b[0m\u001b[0;34m.\u001b[0m\u001b[0mbase_agent\u001b[0m \u001b[0;32mimport\u001b[0m \u001b[0mBaseAgentResponseSchema\u001b[0m\u001b[0;34m\u001b[0m\u001b[0;34m\u001b[0m\u001b[0m\n\u001b[0m\u001b[1;32m      3\u001b[0m \u001b[0;34m\u001b[0m\u001b[0m\n\u001b[1;32m      4\u001b[0m \u001b[0mprint\u001b[0m\u001b[0;34m(\u001b[0m\u001b[0mjson\u001b[0m\u001b[0;34m.\u001b[0m\u001b[0mdumps\u001b[0m\u001b[0;34m(\u001b[0m\u001b[0mBaseAgentResponseSchema\u001b[0m\u001b[0;34m.\u001b[0m\u001b[0mmodel_json_schema\u001b[0m\u001b[0;34m(\u001b[0m\u001b[0;34m)\u001b[0m\u001b[0;34m,\u001b[0m \u001b[0mindent\u001b[0m\u001b[0;34m=\u001b[0m\u001b[0;36m2\u001b[0m\u001b[0;34m)\u001b[0m\u001b[0;34m)\u001b[0m\u001b[0;34m\u001b[0m\u001b[0;34m\u001b[0m\u001b[0m\n",
            "\u001b[0;31mImportError\u001b[0m: cannot import name 'BaseAgentResponseSchema' from 'atomic_agents.agents.base_agent' (/usr/local/lib/python3.11/dist-packages/atomic_agents/agents/base_agent.py)",
            "",
            "\u001b[0;31m---------------------------------------------------------------------------\u001b[0;32m\nNOTE: If your import is failing due to a missing package, you can\nmanually install dependencies using either !pip or !apt.\n\nTo view examples of installing some common dependencies, click the\n\"Open Examples\" button below.\n\u001b[0;31m---------------------------------------------------------------------------\u001b[0m\n"
          ],
          "errorDetails": {
            "actions": [
              {
                "action": "open_url",
                "actionText": "Open Examples",
                "url": "/notebooks/snippets/importing_libraries.ipynb"
              }
            ]
          }
        }
      ]
    },
    {
      "cell_type": "code",
      "source": [
        "while True:\n",
        "    user_input = input('You: ')\n",
        "    if user_input.lower() in ['/exit', '/quit']:\n",
        "        print('Exiting chat...')\n",
        "        break\n",
        "\n",
        "    response = agent.run(agent.input_schema(chat_message=user_input))\n",
        "    print(f'Agent: {response.chat_message}')"
      ],
      "metadata": {
        "colab": {
          "base_uri": "https://localhost:8080/"
        },
        "id": "2cIH6FazuFYu",
        "outputId": "b9110ab7-040b-47fe-f777-e53ea6d5c7e2"
      },
      "execution_count": 16,
      "outputs": [
        {
          "output_type": "stream",
          "name": "stdout",
          "text": [
            "You: Write a article about vampires\n",
            "Agent: Write a article about vampires\n",
            "You: What is the capitol of France\n",
            "Agent: The capital of France, a city so fine,\n",
            "Is Paris, the city that's truly divine.\n",
            "Located on the Seine, it's a sight to see,\n",
            "A city of love, art, and history.\n",
            "You: /exit\n",
            "Exiting chat...\n"
          ]
        }
      ]
    },
    {
      "cell_type": "markdown",
      "source": [
        "## Building a Search Tool"
      ],
      "metadata": {
        "id": "ZtSlmezT8esK"
      }
    },
    {
      "cell_type": "code",
      "source": [
        "!pip install google-search"
      ],
      "metadata": {
        "colab": {
          "base_uri": "https://localhost:8080/"
        },
        "id": "nRJw9-AiuxVB",
        "outputId": "ccae7322-e5cc-46c9-9b83-c1766455638c"
      },
      "execution_count": 1,
      "outputs": [
        {
          "output_type": "stream",
          "name": "stdout",
          "text": [
            "Collecting google-search\n",
            "  Downloading google_search-1.1.1-py2.py3-none-any.whl.metadata (2.6 kB)\n",
            "Requirement already satisfied: beautifulsoup4 in /usr/local/lib/python3.11/dist-packages (from google-search) (4.13.3)\n",
            "Requirement already satisfied: lxml in /usr/local/lib/python3.11/dist-packages (from google-search) (5.3.0)\n",
            "Requirement already satisfied: soupsieve in /usr/local/lib/python3.11/dist-packages (from google-search) (2.6)\n",
            "Requirement already satisfied: typing-extensions>=4.0.0 in /usr/local/lib/python3.11/dist-packages (from beautifulsoup4->google-search) (4.12.2)\n",
            "Downloading google_search-1.1.1-py2.py3-none-any.whl (6.5 kB)\n",
            "Installing collected packages: google-search\n",
            "Successfully installed google-search-1.1.1\n"
          ]
        }
      ]
    },
    {
      "cell_type": "code",
      "source": [
        "from pydantic import Field,Optional, List\n",
        "\n",
        "from atomic_agents.agents.base_agent import BaseIOSchema\n",
        "from atomic_agents.lib.base.base_tool import BaseTool, BaseToolConfig\n",
        "\n",
        "from googleTool import googlesearch_tool\n",
        "\n",
        "################\n",
        "# INPUT SCHEMA #\n",
        "################\n",
        "class GoogleSearchToolInputSchema(BaseIOSchema):\n",
        "    \"\"\"\n",
        "    Schema for input to a tool for searching for information, news, references, and other content using google search engibe.\n",
        "    Returns a list of search results with a short description or content snippet and URLs for further exploration\n",
        "    \"\"\"\n",
        "\n",
        "    queries: List[str] = Field(..., description=\"List of search queries.\")\n",
        "\n",
        "####################\n",
        "# OUTPUT SCHEMA(S) #\n",
        "####################\n",
        "class SearchResultItemSchema(BaseIOSchema):\n",
        "    \"\"\"This schema represents a single search result item\"\"\"\n",
        "\n",
        "    url: str = Field(..., description=\"The URL of the search result\")\n",
        "    title: str = Field(..., description=\"The title of the search result\")\n",
        "    content: Optional[str] = Field(None, description=\"The content snippet of the search result\")\n",
        "    query: str = Field(..., description=\"The query used to obtain this search result\")\n",
        "\n",
        "\n",
        "class GoogleSearchToolOutputSchema(BaseIOSchema):\n",
        "    \"\"\"This schema represents the output of the google search tool.\"\"\"\n",
        "\n",
        "    results: List[SearchResultItemSchema] = Field(..., description=\"List of search result items\")\n",
        "\n",
        "\n",
        "#####################\n",
        "# THE TOOL          #\n",
        "#####################\n",
        "\n",
        "class GoogleSearchToolConfig(BaseToolConfig):\n",
        "    max_results: int = 10\n",
        "\n",
        "class GoogleSearchTool(BaseTool):\n",
        "    \"\"\"\n",
        "    Tool for performing searches using google search engine based on the provided queries.\n",
        "\n",
        "    Attributes:\n",
        "        input_schema (GoogleSearchToolInputSchema): The schema for the input data.\n",
        "        output_schema (GoogleSearchToolOutputSchema): The schema for the output data.\n",
        "        max_results (int): The maximum number of search results to return.\n",
        "    \"\"\"\n",
        "\n",
        "    input_schema = GoogleSearchToolInputSchema\n",
        "    output_schema = GoogleSearchToolOutputSchema\n",
        "\n",
        "    def __init__(self, config: GoogleSearchToolConfig = GoogleSearchToolConfig()):\n",
        "        \"\"\"\n",
        "        Initializes the SearxNGTool.\n",
        "\n",
        "        Args:\n",
        "            config (GoogleSearchToolConfig):\n",
        "                Configuration for the tool:  max results, and optional title and description overrides.\n",
        "        \"\"\"\n",
        "        super().__init__(config)\n",
        "        self.max_results = config.max_results\n",
        "\n",
        "    async def run_async(\n",
        "        self, params: SearxNGSearchToolInputSchema, max_results: Optional[int] = None\n",
        "    ) -> SearxNGSearchToolOutputSchema:\n",
        "      pass\n"
      ],
      "metadata": {
        "id": "jjl9A22R8dnV"
      },
      "execution_count": null,
      "outputs": []
    }
  ]
}