{
  "nbformat": 4,
  "nbformat_minor": 0,
  "metadata": {
    "colab": {
      "provenance": [],
      "authorship_tag": "ABX9TyNe46n09QmqUXk6wpFpEGnq",
      "include_colab_link": true
    },
    "kernelspec": {
      "name": "python3",
      "display_name": "Python 3"
    },
    "language_info": {
      "name": "python"
    }
  },
  "cells": [
    {
      "cell_type": "markdown",
      "metadata": {
        "id": "view-in-github",
        "colab_type": "text"
      },
      "source": [
        "<a href=\"https://colab.research.google.com/github/ebamberg/research-projects-ml/blob/main/agents_and_routing/examples_agents_with_AtomicAgents.ipynb\" target=\"_parent\"><img src=\"https://colab.research.google.com/assets/colab-badge.svg\" alt=\"Open In Colab\"/></a>"
      ]
    },
    {
      "cell_type": "code",
      "execution_count": 5,
      "metadata": {
        "id": "GCm0uJVC9jvj",
        "outputId": "c55b791a-57b4-424d-9475-cfa9f90dade7",
        "colab": {
          "base_uri": "https://localhost:8080/"
        }
      },
      "outputs": [
        {
          "output_type": "stream",
          "name": "stdout",
          "text": [
            "\u001b[?25l   \u001b[90m━━━━━━━━━━━━━━━━━━━━━━━━━━━━━━━━━━━━━━━━\u001b[0m \u001b[32m0.0/2.5 MB\u001b[0m \u001b[31m?\u001b[0m eta \u001b[36m-:--:--\u001b[0m\r\u001b[2K   \u001b[91m━━━━━━━━━━━━━━━━━━━━━━━━━━━━━━━━━━━━━━━\u001b[0m\u001b[91m╸\u001b[0m \u001b[32m2.5/2.5 MB\u001b[0m \u001b[31m102.6 MB/s\u001b[0m eta \u001b[36m0:00:01\u001b[0m\r\u001b[2K   \u001b[90m━━━━━━━━━━━━━━━━━━━━━━━━━━━━━━━━━━━━━━━━\u001b[0m \u001b[32m2.5/2.5 MB\u001b[0m \u001b[31m55.2 MB/s\u001b[0m eta \u001b[36m0:00:00\u001b[0m\n",
            "\u001b[?25h\u001b[?25l   \u001b[90m━━━━━━━━━━━━━━━━━━━━━━━━━━━━━━━━━━━━━━━━\u001b[0m \u001b[32m0.0/1.0 MB\u001b[0m \u001b[31m?\u001b[0m eta \u001b[36m-:--:--\u001b[0m\r\u001b[2K   \u001b[90m━━━━━━━━━━━━━━━━━━━━━━━━━━━━━━━━━━━━━━━━\u001b[0m \u001b[32m1.0/1.0 MB\u001b[0m \u001b[31m43.0 MB/s\u001b[0m eta \u001b[36m0:00:00\u001b[0m\n",
            "\u001b[2K   \u001b[90m━━━━━━━━━━━━━━━━━━━━━━━━━━━━━━━━━━━━━━━━\u001b[0m \u001b[32m413.0/413.0 kB\u001b[0m \u001b[31m26.0 MB/s\u001b[0m eta \u001b[36m0:00:00\u001b[0m\n",
            "\u001b[2K   \u001b[90m━━━━━━━━━━━━━━━━━━━━━━━━━━━━━━━━━━━━━━━━\u001b[0m \u001b[32m50.9/50.9 kB\u001b[0m \u001b[31m3.8 MB/s\u001b[0m eta \u001b[36m0:00:00\u001b[0m\n",
            "\u001b[?25h"
          ]
        }
      ],
      "source": [
        "!pip install ollama langchain_community --quiet\n",
        "\n",
        "host=\"localhost:11434\"\n",
        "modelid=\"llama3.2\"\n",
        "emb_modelid=\"mxbai-embed-large\"\n",
        "\n",
        "get_ipython().system_raw(\"curl -fsSL https://ollama.com/install.sh | sh\")\n",
        "get_ipython().system_raw(\"ollama serve &\")\n",
        "get_ipython().system_raw(f\"ollama pull {modelid}\")\n",
        "get_ipython().system_raw(f\"ollama pull {emb_modelid}\")\n"
      ]
    },
    {
      "cell_type": "code",
      "source": [
        "!pip install pyngrok\n",
        "from pyngrok import ngrok\n",
        "from google.colab import userdata\n",
        "\n",
        "ngrok.kill()\n",
        "NGROK_AUTH_TOKEN = userdata.get('NGROK_AUTH_TOKEN')\n",
        "ngrok.set_auth_token(NGROK_AUTH_TOKEN)\n",
        "ngrok_tunnel = ngrok.connect(addr=\"11434\", proto=\"http\", bind_tls=True, host_header=\"localhost:11434\" )\n",
        "print(\"OLLama URL:\", ngrok_tunnel.public_url)\n",
        "\n",
        "llama_url = ngrok_tunnel.public_url"
      ],
      "metadata": {
        "id": "nfBdkxfx-Mtk"
      },
      "execution_count": null,
      "outputs": []
    },
    {
      "cell_type": "code",
      "source": [
        "!pip install atomic-agents instructor --quiet"
      ],
      "metadata": {
        "id": "8jw4YUzhqFIY"
      },
      "execution_count": 2,
      "outputs": []
    },
    {
      "cell_type": "code",
      "source": [
        "import os\n",
        "from atomic_agents.lib.components.system_prompt_generator import SystemPromptGenerator\n",
        "\n",
        "system_prompt_generator = SystemPromptGenerator(\n",
        "    background=[\n",
        "        'This assistant is a general-purpose AI designed to be helpful and friendly.',\n",
        "    ],\n",
        "    steps=[\n",
        "        'Understand the user\\'s input and provide a relevant response.',\n",
        "        'Respond to the user.'\n",
        "    ],\n",
        "    output_instructions=[\n",
        "        'Provide helpful and relevant information to assist the user.',\n",
        "        'Be friendly and respectful in all interactions.',\n",
        "        'Always answer in rhyming verse.'\n",
        "    ]\n",
        ")\n",
        "\n",
        "system_prompt_generator.generate_prompt()"
      ],
      "metadata": {
        "id": "IoMJcVuvrJfG",
        "outputId": "1931f29b-b536-45c3-bb6c-561d0afd8462",
        "colab": {
          "base_uri": "https://localhost:8080/",
          "height": 70
        }
      },
      "execution_count": 3,
      "outputs": [
        {
          "output_type": "execute_result",
          "data": {
            "text/plain": [
              "\"# IDENTITY and PURPOSE\\n- This assistant is a general-purpose AI designed to be helpful and friendly.\\n\\n# INTERNAL ASSISTANT STEPS\\n- Understand the user's input and provide a relevant response.\\n- Respond to the user.\\n\\n# OUTPUT INSTRUCTIONS\\n- Provide helpful and relevant information to assist the user.\\n- Be friendly and respectful in all interactions.\\n- Always answer in rhyming verse.\\n- Always respond using the proper JSON schema.\\n- Always use the available additional information and context to enhance the response.\""
            ],
            "application/vnd.google.colaboratory.intrinsic+json": {
              "type": "string"
            }
          },
          "metadata": {},
          "execution_count": 3
        }
      ]
    },
    {
      "cell_type": "code",
      "source": [
        "import instructor\n",
        "import openai\n",
        "from openai import OpenAI\n",
        "from atomic_agents.agents.base_agent import BaseAgent, BaseAgentConfig\n",
        "from atomic_agents.lib.components.agent_memory import AgentMemory\n",
        "from atomic_agents.lib.schemas.base_agent_response_schema import BaseAgentResponseSchema\n",
        "\n",
        "\n",
        "\n",
        "llm = OpenAI(\n",
        "        base_url=f\"http://{host}/v1\",\n",
        "        api_key=\"ollama\",  # required, but unused\n",
        "    )\n",
        "\n",
        "client = instructor.from_openai(\n",
        "    llm,\n",
        "    mode=instructor.Mode.JSON,\n",
        ")\n",
        "\n",
        "memory = AgentMemory()\n",
        "\n",
        "agent = BaseAgent(\n",
        "    config=BaseAgentConfig(\n",
        "        client=client,\n",
        "        system_prompt_generator=system_prompt_generator,\n",
        "        model=modelid,\n",
        "        memory=memory,\n",
        "    )\n",
        ")"
      ],
      "metadata": {
        "id": "ZRAasgb5r_vR"
      },
      "execution_count": 7,
      "outputs": []
    },
    {
      "cell_type": "code",
      "source": [
        "import json\n",
        "\n",
        "print(json.dumps(BaseAgentResponseSchema.model_json_schema(), indent=2))"
      ],
      "metadata": {
        "id": "dVr-Saeav4bz",
        "outputId": "9633f6c1-7ccd-4ccf-a890-5c1fe5002afb",
        "colab": {
          "base_uri": "https://localhost:8080/",
          "height": 176
        }
      },
      "execution_count": 8,
      "outputs": [
        {
          "output_type": "error",
          "ename": "NameError",
          "evalue": "name 'BaseAgentResponseSchema' is not defined",
          "traceback": [
            "\u001b[0;31m---------------------------------------------------------------------------\u001b[0m",
            "\u001b[0;31mNameError\u001b[0m                                 Traceback (most recent call last)",
            "\u001b[0;32m<ipython-input-8-cef02fd8dafc>\u001b[0m in \u001b[0;36m<cell line: 0>\u001b[0;34m()\u001b[0m\n\u001b[1;32m      1\u001b[0m \u001b[0;32mimport\u001b[0m \u001b[0mjson\u001b[0m\u001b[0;34m\u001b[0m\u001b[0;34m\u001b[0m\u001b[0m\n\u001b[1;32m      2\u001b[0m \u001b[0;34m\u001b[0m\u001b[0m\n\u001b[0;32m----> 3\u001b[0;31m \u001b[0mprint\u001b[0m\u001b[0;34m(\u001b[0m\u001b[0mjson\u001b[0m\u001b[0;34m.\u001b[0m\u001b[0mdumps\u001b[0m\u001b[0;34m(\u001b[0m\u001b[0mBaseAgentResponseSchema\u001b[0m\u001b[0;34m.\u001b[0m\u001b[0mmodel_json_schema\u001b[0m\u001b[0;34m(\u001b[0m\u001b[0;34m)\u001b[0m\u001b[0;34m,\u001b[0m \u001b[0mindent\u001b[0m\u001b[0;34m=\u001b[0m\u001b[0;36m2\u001b[0m\u001b[0;34m)\u001b[0m\u001b[0;34m)\u001b[0m\u001b[0;34m\u001b[0m\u001b[0;34m\u001b[0m\u001b[0m\n\u001b[0m",
            "\u001b[0;31mNameError\u001b[0m: name 'BaseAgentResponseSchema' is not defined"
          ]
        }
      ]
    },
    {
      "cell_type": "code",
      "source": [
        "while True:\n",
        "    user_input = input('You: ')\n",
        "    if user_input.lower() in ['/exit', '/quit']:\n",
        "        print('Exiting chat...')\n",
        "        break\n",
        "\n",
        "    response = agent.run(agent.input_schema(chat_message=user_input))\n",
        "    print(f'Agent: {response.chat_message}')"
      ],
      "metadata": {
        "id": "2cIH6FazuFYu"
      },
      "execution_count": null,
      "outputs": []
    }
  ]
}