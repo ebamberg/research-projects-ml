{
  "nbformat": 4,
  "nbformat_minor": 0,
  "metadata": {
    "colab": {
      "provenance": [],
      "authorship_tag": "ABX9TyP5s9s2pwHbNdqhE5VT2Yvq",
      "include_colab_link": true
    },
    "kernelspec": {
      "name": "python3",
      "display_name": "Python 3"
    },
    "language_info": {
      "name": "python"
    }
  },
  "cells": [
    {
      "cell_type": "markdown",
      "metadata": {
        "id": "view-in-github",
        "colab_type": "text"
      },
      "source": [
        "<a href=\"https://colab.research.google.com/github/ebamberg/research-projects-ml/blob/main/agents_and_routing/examples_agents_with_AtomicAgents.ipynb\" target=\"_parent\"><img src=\"https://colab.research.google.com/assets/colab-badge.svg\" alt=\"Open In Colab\"/></a>"
      ]
    },
    {
      "cell_type": "markdown",
      "source": [],
      "metadata": {
        "id": "ittnx9TnwT_y"
      }
    },
    {
      "cell_type": "code",
      "source": [
        "ased upon: https://github.com/BrainBlend-AI/atomic-agents/blob/main/atomic-examples/web-search-agent/web_search_agent/tools/searxng_search.py"
      ],
      "metadata": {
        "id": "-MkARk87wUNA"
      },
      "execution_count": null,
      "outputs": []
    },
    {
      "cell_type": "code",
      "execution_count": 1,
      "metadata": {
        "id": "GCm0uJVC9jvj",
        "colab": {
          "base_uri": "https://localhost:8080/"
        },
        "outputId": "a92dd6d3-2d50-4d08-962c-65b7b971460e"
      },
      "outputs": [
        {
          "output_type": "stream",
          "name": "stdout",
          "text": [
            "\u001b[?25l   \u001b[90m━━━━━━━━━━━━━━━━━━━━━━━━━━━━━━━━━━━━━━━━\u001b[0m \u001b[32m0.0/2.5 MB\u001b[0m \u001b[31m?\u001b[0m eta \u001b[36m-:--:--\u001b[0m\r\u001b[2K   \u001b[91m━━━━━━━\u001b[0m\u001b[90m╺\u001b[0m\u001b[90m━━━━━━━━━━━━━━━━━━━━━━━━━━━━━━━━\u001b[0m \u001b[32m0.5/2.5 MB\u001b[0m \u001b[31m14.0 MB/s\u001b[0m eta \u001b[36m0:00:01\u001b[0m\r\u001b[2K   \u001b[91m━━━━━━━━━━━━━━━━━━━━━━━━━━━━━━━━━━━━━━━\u001b[0m\u001b[91m╸\u001b[0m \u001b[32m2.5/2.5 MB\u001b[0m \u001b[31m39.2 MB/s\u001b[0m eta \u001b[36m0:00:01\u001b[0m\r\u001b[2K   \u001b[90m━━━━━━━━━━━━━━━━━━━━━━━━━━━━━━━━━━━━━━━━\u001b[0m \u001b[32m2.5/2.5 MB\u001b[0m \u001b[31m25.8 MB/s\u001b[0m eta \u001b[36m0:00:00\u001b[0m\n",
            "\u001b[?25h\u001b[?25l   \u001b[90m━━━━━━━━━━━━━━━━━━━━━━━━━━━━━━━━━━━━━━━━\u001b[0m \u001b[32m0.0/50.9 kB\u001b[0m \u001b[31m?\u001b[0m eta \u001b[36m-:--:--\u001b[0m\r\u001b[2K   \u001b[90m━━━━━━━━━━━━━━━━━━━━━━━━━━━━━━━━━━━━━━━━\u001b[0m \u001b[32m50.9/50.9 kB\u001b[0m \u001b[31m3.4 MB/s\u001b[0m eta \u001b[36m0:00:00\u001b[0m\n",
            "\u001b[?25h"
          ]
        }
      ],
      "source": [
        "!pip install ollama langchain_community --quiet\n",
        "\n",
        "host=\"localhost:11434\"\n",
        "modelid=\"llama3.2\"\n",
        "emb_modelid=\"mxbai-embed-large\"\n",
        "\n",
        "get_ipython().system_raw(\"curl -fsSL https://ollama.com/install.sh | sh\")\n",
        "get_ipython().system_raw(\"ollama serve &\")\n",
        "get_ipython().system_raw(f\"ollama pull {modelid}\")\n",
        "get_ipython().system_raw(f\"ollama pull {emb_modelid}\")\n"
      ]
    },
    {
      "cell_type": "code",
      "source": [
        "!pip install pyngrok\n",
        "from pyngrok import ngrok\n",
        "from google.colab import userdata\n",
        "\n",
        "ngrok.kill()\n",
        "NGROK_AUTH_TOKEN = userdata.get('NGROK_AUTH_TOKEN')\n",
        "ngrok.set_auth_token(NGROK_AUTH_TOKEN)\n",
        "ngrok_tunnel = ngrok.connect(addr=\"11434\", proto=\"http\", bind_tls=True, host_header=\"localhost:11434\" )\n",
        "print(\"OLLama URL:\", ngrok_tunnel.public_url)\n",
        "\n",
        "llama_url = ngrok_tunnel.public_url"
      ],
      "metadata": {
        "id": "nfBdkxfx-Mtk"
      },
      "execution_count": null,
      "outputs": []
    },
    {
      "cell_type": "code",
      "source": [
        "!pip install atomic-agents instructor --quiet\n",
        "!pip install googlesearch_python"
      ],
      "metadata": {
        "id": "8jw4YUzhqFIY",
        "colab": {
          "base_uri": "https://localhost:8080/"
        },
        "outputId": "2108a982-1f9d-4fc9-f349-40bf01a78f71"
      },
      "execution_count": 2,
      "outputs": [
        {
          "output_type": "stream",
          "name": "stdout",
          "text": [
            "\u001b[?25l   \u001b[90m━━━━━━━━━━━━━━━━━━━━━━━━━━━━━━━━━━━━━━━━\u001b[0m \u001b[32m0.0/71.4 kB\u001b[0m \u001b[31m?\u001b[0m eta \u001b[36m-:--:--\u001b[0m\r\u001b[2K   \u001b[90m━━━━━━━━━━━━━━━━━━━━━━━━━━━━━━━━━━━━━━━━\u001b[0m \u001b[32m71.4/71.4 kB\u001b[0m \u001b[31m4.6 MB/s\u001b[0m eta \u001b[36m0:00:00\u001b[0m\n",
            "\u001b[?25h\u001b[?25l   \u001b[90m━━━━━━━━━━━━━━━━━━━━━━━━━━━━━━━━━━━━━━━━\u001b[0m \u001b[32m0.0/1.1 MB\u001b[0m \u001b[31m?\u001b[0m eta \u001b[36m-:--:--\u001b[0m\r\u001b[2K   \u001b[91m━━━━━━━━━━━━━━━━━━━━━━\u001b[0m\u001b[91m╸\u001b[0m\u001b[90m━━━━━━━━━━━━━━━━━\u001b[0m \u001b[32m0.6/1.1 MB\u001b[0m \u001b[31m23.5 MB/s\u001b[0m eta \u001b[36m0:00:01\u001b[0m\r\u001b[2K   \u001b[90m━━━━━━━━━━━━━━━━━━━━━━━━━━━━━━━━━━━━━━━━\u001b[0m \u001b[32m1.1/1.1 MB\u001b[0m \u001b[31m18.5 MB/s\u001b[0m eta \u001b[36m0:00:00\u001b[0m\n",
            "\u001b[?25h\u001b[?25l   \u001b[90m━━━━━━━━━━━━━━━━━━━━━━━━━━━━━━━━━━━━━━━━\u001b[0m \u001b[32m0.0/656.0 kB\u001b[0m \u001b[31m?\u001b[0m eta \u001b[36m-:--:--\u001b[0m\r\u001b[2K   \u001b[90m━━━━━━━━━━━━━━━━━━━━━━━━━━━━━━━━━━━━━━━━\u001b[0m \u001b[32m656.0/656.0 kB\u001b[0m \u001b[31m24.9 MB/s\u001b[0m eta \u001b[36m0:00:00\u001b[0m\n",
            "\u001b[?25hCollecting googlesearch_python\n",
            "  Downloading googlesearch_python-1.3.0-py3-none-any.whl.metadata (3.4 kB)\n",
            "Requirement already satisfied: beautifulsoup4>=4.9 in /usr/local/lib/python3.11/dist-packages (from googlesearch_python) (4.13.3)\n",
            "Requirement already satisfied: requests>=2.20 in /usr/local/lib/python3.11/dist-packages (from googlesearch_python) (2.32.3)\n",
            "Requirement already satisfied: soupsieve>1.2 in /usr/local/lib/python3.11/dist-packages (from beautifulsoup4>=4.9->googlesearch_python) (2.6)\n",
            "Requirement already satisfied: typing-extensions>=4.0.0 in /usr/local/lib/python3.11/dist-packages (from beautifulsoup4>=4.9->googlesearch_python) (4.12.2)\n",
            "Requirement already satisfied: charset-normalizer<4,>=2 in /usr/local/lib/python3.11/dist-packages (from requests>=2.20->googlesearch_python) (3.4.1)\n",
            "Requirement already satisfied: idna<4,>=2.5 in /usr/local/lib/python3.11/dist-packages (from requests>=2.20->googlesearch_python) (3.10)\n",
            "Requirement already satisfied: urllib3<3,>=1.21.1 in /usr/local/lib/python3.11/dist-packages (from requests>=2.20->googlesearch_python) (2.3.0)\n",
            "Requirement already satisfied: certifi>=2017.4.17 in /usr/local/lib/python3.11/dist-packages (from requests>=2.20->googlesearch_python) (2025.1.31)\n",
            "Downloading googlesearch_python-1.3.0-py3-none-any.whl (5.6 kB)\n",
            "Installing collected packages: googlesearch_python\n",
            "Successfully installed googlesearch_python-1.3.0\n"
          ]
        }
      ]
    },
    {
      "cell_type": "code",
      "source": [
        "import instructor\n",
        "import openai\n",
        "from openai import OpenAI\n",
        "from atomic_agents.agents.base_agent import BaseAgent, BaseAgentConfig, BaseIOSchema\n",
        "from atomic_agents.lib.components.agent_memory import AgentMemory\n",
        "\n",
        "\n",
        "\n",
        "\n",
        "llm = OpenAI(\n",
        "        base_url=f\"http://{host}/v1\",\n",
        "        api_key=\"ollama\",  # required, but unused\n",
        "    )\n",
        "\n",
        "client = instructor.from_openai(\n",
        "    llm,\n",
        "    mode=instructor.Mode.JSON,\n",
        ")\n"
      ],
      "metadata": {
        "id": "yHCElQFQb2XR"
      },
      "execution_count": 4,
      "outputs": []
    },
    {
      "cell_type": "code",
      "source": [
        "import os\n",
        "from atomic_agents.lib.components.system_prompt_generator import SystemPromptGenerator\n",
        "\n",
        "system_prompt_generator = SystemPromptGenerator(\n",
        "    background=[\n",
        "        'This assistant is a general-purpose AI designed to be helpful and friendly.',\n",
        "    ],\n",
        "    steps=[\n",
        "        'Understand the user\\'s input and provide a relevant response.',\n",
        "        'Respond to the user.'\n",
        "    ],\n",
        "    output_instructions=[\n",
        "        'Provide helpful and relevant information to assist the user.',\n",
        "        'Be friendly and respectful in all interactions.',\n",
        "        'Always answer in rhyming verse.'\n",
        "    ]\n",
        ")\n",
        "\n",
        "\n",
        "memory = AgentMemory()\n",
        "\n",
        "agent = BaseAgent(\n",
        "    config=BaseAgentConfig(\n",
        "        client=client,\n",
        "        system_prompt_generator=system_prompt_generator,\n",
        "        model=modelid,\n",
        "        memory=memory,\n",
        "    )\n",
        ")\n",
        "\n",
        "system_prompt_generator.generate_prompt()"
      ],
      "metadata": {
        "colab": {
          "base_uri": "https://localhost:8080/",
          "height": 70
        },
        "id": "IoMJcVuvrJfG",
        "outputId": "7bf67568-e89a-4d6b-c4ed-7ecf633e2231"
      },
      "execution_count": null,
      "outputs": [
        {
          "output_type": "execute_result",
          "data": {
            "text/plain": [
              "\"# IDENTITY and PURPOSE\\n- This assistant is a general-purpose AI designed to be helpful and friendly.\\n\\n# INTERNAL ASSISTANT STEPS\\n- Understand the user's input and provide a relevant response.\\n- Respond to the user.\\n\\n# OUTPUT INSTRUCTIONS\\n- Provide helpful and relevant information to assist the user.\\n- Be friendly and respectful in all interactions.\\n- Always answer in rhyming verse.\\n- Always respond using the proper JSON schema.\\n- Always use the available additional information and context to enhance the response.\""
            ],
            "application/vnd.google.colaboratory.intrinsic+json": {
              "type": "string"
            }
          },
          "metadata": {},
          "execution_count": 4
        }
      ]
    },
    {
      "cell_type": "code",
      "source": [
        "import json\n",
        "from atomic_agents.agents.base_agent import BaseAgentResponseSchema\n",
        "\n",
        "print(json.dumps(BaseAgentResponseSchema.model_json_schema(), indent=2))"
      ],
      "metadata": {
        "colab": {
          "base_uri": "https://localhost:8080/",
          "height": 366
        },
        "id": "dVr-Saeav4bz",
        "outputId": "6f3718f4-7035-4c48-c922-21edf7f2956b"
      },
      "execution_count": null,
      "outputs": [
        {
          "output_type": "error",
          "ename": "ImportError",
          "evalue": "cannot import name 'BaseAgentResponseSchema' from 'atomic_agents.agents.base_agent' (/usr/local/lib/python3.11/dist-packages/atomic_agents/agents/base_agent.py)",
          "traceback": [
            "\u001b[0;31m---------------------------------------------------------------------------\u001b[0m",
            "\u001b[0;31mImportError\u001b[0m                               Traceback (most recent call last)",
            "\u001b[0;32m<ipython-input-15-88ec067d153e>\u001b[0m in \u001b[0;36m<cell line: 0>\u001b[0;34m()\u001b[0m\n\u001b[1;32m      1\u001b[0m \u001b[0;32mimport\u001b[0m \u001b[0mjson\u001b[0m\u001b[0;34m\u001b[0m\u001b[0;34m\u001b[0m\u001b[0m\n\u001b[0;32m----> 2\u001b[0;31m \u001b[0;32mfrom\u001b[0m \u001b[0matomic_agents\u001b[0m\u001b[0;34m.\u001b[0m\u001b[0magents\u001b[0m\u001b[0;34m.\u001b[0m\u001b[0mbase_agent\u001b[0m \u001b[0;32mimport\u001b[0m \u001b[0mBaseAgentResponseSchema\u001b[0m\u001b[0;34m\u001b[0m\u001b[0;34m\u001b[0m\u001b[0m\n\u001b[0m\u001b[1;32m      3\u001b[0m \u001b[0;34m\u001b[0m\u001b[0m\n\u001b[1;32m      4\u001b[0m \u001b[0mprint\u001b[0m\u001b[0;34m(\u001b[0m\u001b[0mjson\u001b[0m\u001b[0;34m.\u001b[0m\u001b[0mdumps\u001b[0m\u001b[0;34m(\u001b[0m\u001b[0mBaseAgentResponseSchema\u001b[0m\u001b[0;34m.\u001b[0m\u001b[0mmodel_json_schema\u001b[0m\u001b[0;34m(\u001b[0m\u001b[0;34m)\u001b[0m\u001b[0;34m,\u001b[0m \u001b[0mindent\u001b[0m\u001b[0;34m=\u001b[0m\u001b[0;36m2\u001b[0m\u001b[0;34m)\u001b[0m\u001b[0;34m)\u001b[0m\u001b[0;34m\u001b[0m\u001b[0;34m\u001b[0m\u001b[0m\n",
            "\u001b[0;31mImportError\u001b[0m: cannot import name 'BaseAgentResponseSchema' from 'atomic_agents.agents.base_agent' (/usr/local/lib/python3.11/dist-packages/atomic_agents/agents/base_agent.py)",
            "",
            "\u001b[0;31m---------------------------------------------------------------------------\u001b[0;32m\nNOTE: If your import is failing due to a missing package, you can\nmanually install dependencies using either !pip or !apt.\n\nTo view examples of installing some common dependencies, click the\n\"Open Examples\" button below.\n\u001b[0;31m---------------------------------------------------------------------------\u001b[0m\n"
          ],
          "errorDetails": {
            "actions": [
              {
                "action": "open_url",
                "actionText": "Open Examples",
                "url": "/notebooks/snippets/importing_libraries.ipynb"
              }
            ]
          }
        }
      ]
    },
    {
      "cell_type": "code",
      "source": [
        "while True:\n",
        "    user_input = input('You: ')\n",
        "    if user_input.lower() in ['/exit', '/quit']:\n",
        "        print('Exiting chat...')\n",
        "        break\n",
        "\n",
        "    response = agent.run(agent.input_schema(chat_message=user_input))\n",
        "    print(f'Agent: {response.chat_message}')"
      ],
      "metadata": {
        "colab": {
          "base_uri": "https://localhost:8080/"
        },
        "id": "2cIH6FazuFYu",
        "outputId": "b9110ab7-040b-47fe-f777-e53ea6d5c7e2"
      },
      "execution_count": null,
      "outputs": [
        {
          "output_type": "stream",
          "name": "stdout",
          "text": [
            "You: Write a article about vampires\n",
            "Agent: Write a article about vampires\n",
            "You: What is the capitol of France\n",
            "Agent: The capital of France, a city so fine,\n",
            "Is Paris, the city that's truly divine.\n",
            "Located on the Seine, it's a sight to see,\n",
            "A city of love, art, and history.\n",
            "You: /exit\n",
            "Exiting chat...\n"
          ]
        }
      ]
    },
    {
      "cell_type": "markdown",
      "source": [
        "## Building a Search Tool"
      ],
      "metadata": {
        "id": "ZtSlmezT8esK"
      }
    },
    {
      "cell_type": "code",
      "source": [
        "!pip install googlesearch_python"
      ],
      "metadata": {
        "colab": {
          "base_uri": "https://localhost:8080/"
        },
        "id": "nRJw9-AiuxVB",
        "outputId": "42ee19b0-db68-4e9d-937e-cb9a87c1791d"
      },
      "execution_count": null,
      "outputs": [
        {
          "output_type": "stream",
          "name": "stdout",
          "text": [
            "Requirement already satisfied: googlesearch_python in /usr/local/lib/python3.11/dist-packages (1.3.0)\n",
            "Requirement already satisfied: beautifulsoup4>=4.9 in /usr/local/lib/python3.11/dist-packages (from googlesearch_python) (4.13.3)\n",
            "Requirement already satisfied: requests>=2.20 in /usr/local/lib/python3.11/dist-packages (from googlesearch_python) (2.32.3)\n",
            "Requirement already satisfied: soupsieve>1.2 in /usr/local/lib/python3.11/dist-packages (from beautifulsoup4>=4.9->googlesearch_python) (2.6)\n",
            "Requirement already satisfied: typing-extensions>=4.0.0 in /usr/local/lib/python3.11/dist-packages (from beautifulsoup4>=4.9->googlesearch_python) (4.12.2)\n",
            "Requirement already satisfied: charset-normalizer<4,>=2 in /usr/local/lib/python3.11/dist-packages (from requests>=2.20->googlesearch_python) (3.4.1)\n",
            "Requirement already satisfied: idna<4,>=2.5 in /usr/local/lib/python3.11/dist-packages (from requests>=2.20->googlesearch_python) (3.10)\n",
            "Requirement already satisfied: urllib3<3,>=1.21.1 in /usr/local/lib/python3.11/dist-packages (from requests>=2.20->googlesearch_python) (2.3.0)\n",
            "Requirement already satisfied: certifi>=2017.4.17 in /usr/local/lib/python3.11/dist-packages (from requests>=2.20->googlesearch_python) (2025.1.31)\n"
          ]
        }
      ]
    },
    {
      "cell_type": "code",
      "source": [
        "from pydantic import Field\n",
        "from typing import Optional, List\n",
        "\n",
        "from atomic_agents.agents.base_agent import BaseIOSchema\n",
        "#from atomic_agents.agents.tool_interface_agent import ToolInterfaceAgent, ToolInterfaceAgentConfig\n",
        "from atomic_agents.lib.base.base_tool import BaseTool, BaseToolConfig\n",
        "\n",
        "from googlesearch import search\n",
        "\n",
        "################\n",
        "# INPUT SCHEMA #\n",
        "################\n",
        "class GoogleSearchToolInputSchema(BaseIOSchema):\n",
        "    \"\"\"\n",
        "    Schema for input to a tool for searching for information, news, references, and other content using google search engibe.\n",
        "    Returns a list of search results with a short description or content snippet and URLs for further exploration\n",
        "    \"\"\"\n",
        "\n",
        "    queries: List[str] = Field(..., description=\"List of search queries.\")\n",
        "\n",
        "####################\n",
        "# OUTPUT SCHEMA(S) #\n",
        "####################\n",
        "class SearchResultItemSchema(BaseIOSchema):\n",
        "    \"\"\"This schema represents a single search result item\"\"\"\n",
        "\n",
        "    url: str = Field(..., description=\"The URL of the search result\")\n",
        "    title: str = Field(..., description=\"The title of the search result\")\n",
        "    content: Optional[str] = Field(None, description=\"The content snippet of the search result\")\n",
        "    query: str = Field(..., description=\"The query used to obtain this search result\")\n",
        "\n",
        "\n",
        "class GoogleSearchToolOutputSchema(BaseIOSchema):\n",
        "    \"\"\"This schema represents the output of the google search tool.\"\"\"\n",
        "\n",
        "    results: List[SearchResultItemSchema] = Field(..., description=\"List of search result items\")\n",
        "\n",
        "\n",
        "#####################\n",
        "# THE TOOL          #\n",
        "#####################\n",
        "\n",
        "class GoogleSearchToolConfig(BaseToolConfig):\n",
        "    max_results: int = 10\n",
        "\n",
        "class GoogleSearchTool(BaseTool):\n",
        "    \"\"\"\n",
        "    Tool for performing searches using google search engine based on the provided queries.\n",
        "\n",
        "    Attributes:\n",
        "        input_schema (GoogleSearchToolInputSchema): The schema for the input data.\n",
        "        output_schema (GoogleSearchToolOutputSchema): The schema for the output data.\n",
        "        max_results (int): The maximum number of search results to return.\n",
        "    \"\"\"\n",
        "\n",
        "    input_schema = GoogleSearchToolInputSchema\n",
        "    output_schema = GoogleSearchToolOutputSchema\n",
        "\n",
        "    def __init__(self, config: GoogleSearchToolConfig = GoogleSearchToolConfig()):\n",
        "        \"\"\"\n",
        "        Initializes the SearxNGTool.\n",
        "\n",
        "        Args:\n",
        "            config (GoogleSearchToolConfig):\n",
        "                Configuration for the tool:  max results, and optional title and description overrides.\n",
        "        \"\"\"\n",
        "        super().__init__(config)\n",
        "        self.max_results = config.max_results\n",
        "\n",
        "    async def run_async(\n",
        "        self, params: GoogleSearchToolInputSchema, max_results: Optional[int] = None\n",
        "    ) -> GoogleSearchToolOutputSchema:\n",
        "      pass\n",
        "\n",
        "    def run(self, params: GoogleSearchToolInputSchema, max_results: Optional[int] = None) -> GoogleSearchToolOutputSchema:\n",
        "      results=[]\n",
        "      for searchquery in params.queries:\n",
        "          search_result=search (searchquery, unique=True, advanced=True )\n",
        "          results.extend ( [ SearchResultItemSchema(title=r.title, content=r.description, url=r.url, query=searchquery) for r in search_result ] )\n",
        "      return GoogleSearchToolOutputSchema (results=results)\n",
        "\n",
        "#google_search_agent = ToolInterfaceAgent(config=ToolInterfaceAgentConfig(\n",
        "#                                            client=client, model=modelid,\n",
        "#                                            tool_instance=GoogleSearchTool(), return_raw_output=False\n",
        " #                                           )\n",
        "#                                         )\n"
      ],
      "metadata": {
        "id": "jjl9A22R8dnV"
      },
      "execution_count": 5,
      "outputs": []
    },
    {
      "cell_type": "markdown",
      "source": [
        "Test the Tool"
      ],
      "metadata": {
        "id": "mFQy9KQxUiJi"
      }
    },
    {
      "cell_type": "code",
      "source": [
        "searchtool=GoogleSearchTool()\n",
        "searchtool.run( GoogleSearchTool.input_schema(queries=[\"Valentine Day history\"]) )"
      ],
      "metadata": {
        "id": "CRP4kNp8Ug-S"
      },
      "execution_count": null,
      "outputs": []
    },
    {
      "cell_type": "code",
      "source": [
        "google_search_agent.run(google_search_agent.input_schema(queries=[\"Valentine Day history\"]))"
      ],
      "metadata": {
        "id": "V2KMek1PHVCD"
      },
      "execution_count": null,
      "outputs": []
    },
    {
      "cell_type": "code",
      "source": [],
      "metadata": {
        "id": "fw6H-eV9cIgk"
      },
      "execution_count": null,
      "outputs": []
    },
    {
      "cell_type": "code",
      "source": [
        "import os\n",
        "from atomic_agents.lib.components.system_prompt_generator import SystemPromptGenerator\n",
        "\n",
        "################\n",
        "# INPUT SCHEMA #\n",
        "################\n",
        "class SearchQueryAgentInputSchema(BaseIOSchema):\n",
        "    \"\"\"\n",
        "    Schema for input\n",
        "    \"\"\"\n",
        "\n",
        "    user_input: str = Field(..., description=\"The user input to create queries from.\")\n",
        "\n",
        "################\n",
        "# INPUT SCHEMA #\n",
        "################\n",
        "class SearchQueryAgentOutputSchema(BaseIOSchema):\n",
        "    \"\"\"\n",
        "    Schema for Output of Search query finder agent\n",
        "    \"\"\"\n",
        "\n",
        "    queries: List[str] = Field(..., description=\"The list of queries created by a query agent.\")\n",
        "\n",
        "###################\n",
        "# Build the agent #\n",
        "###################\n",
        "memory = AgentMemory()\n",
        "\n",
        "query_agent = BaseAgent(\n",
        "    config=BaseAgentConfig(\n",
        "        client=client,\n",
        "        system_prompt_generator=SystemPromptGenerator(\n",
        "            background=[\n",
        "                'You are an internet researcher.  Which experience in create exact search query to get insightful search results about a topic.',\n",
        "            ],\n",
        "            steps=[\n",
        "                'You will receive a user input and follow this steps to create a list of 5 relevant internet search queries that helps the find relevant information to the user input.',\n",
        "                ' - Understand the provided user\\'s query.',\n",
        "                ' - Think about unique, relevant and insightful information about the provided topic',\n",
        "                ' - create a iist of 5 unique internet search queries to get these relevant information.'\n",
        "                ' - Generate the requested number of queries in a JSON format.',\n",
        "            ],\n",
        "            output_instructions=[\n",
        "                'Provide a list of 5 relevant internet search queries.',\n",
        "                'Ensure every query is as unique and diverse as possible while remaining relevant to the user input.'\n",
        "                'Respond with unique search queries only.'\n",
        "\n",
        "            ]\n",
        "        ),\n",
        "        input_schema=SearchQueryAgentInputSchema,\n",
        "        output_schema=SearchQueryAgentOutputSchema,\n",
        "        model=modelid,\n",
        "        memory=memory,\n",
        "    )\n",
        ")\n",
        "\n",
        "query_agent.system_prompt_generator.generate_prompt()"
      ],
      "metadata": {
        "colab": {
          "base_uri": "https://localhost:8080/",
          "height": 105
        },
        "outputId": "844b8781-e6f6-4e24-b229-7e5430e07c28",
        "id": "L9YR9yvbcI5p"
      },
      "execution_count": 11,
      "outputs": [
        {
          "output_type": "execute_result",
          "data": {
            "text/plain": [
              "\"# IDENTITY and PURPOSE\\n- You are an internet researcher.  Which experience in create exact search query to get insightful search results about a topic.\\n\\n# INTERNAL ASSISTANT STEPS\\n- You will receive a user input and follow this steps to create a list of 5 relevant internet search queries that helps the find relevant information to the user input.\\n-  - Understand the provided user's query.\\n-  - Think about unique, relevant and insightful information about the provided topic\\n-  - create a iist of 5 unique internet search queries to get these relevant information. - Generate the requested number of queries in a JSON format.\\n\\n# OUTPUT INSTRUCTIONS\\n- Provide a list of 5 relevant internet search queries.\\n- Provide only the list if search queries.\\n- Respond with unique search queries only.\\n- Always respond using the proper JSON schema.\\n- Always use the available additional information and context to enhance the response.\""
            ],
            "application/vnd.google.colaboratory.intrinsic+json": {
              "type": "string"
            }
          },
          "metadata": {},
          "execution_count": 11
        }
      ]
    },
    {
      "cell_type": "markdown",
      "source": [
        "## Test the Query agent"
      ],
      "metadata": {
        "id": "UHY9ewqthMmZ"
      }
    },
    {
      "cell_type": "code",
      "source": [
        "input=query_agent.input_schema(user_input=\"Valentine Day history\")\n",
        "query_agent.run(input)\n"
      ],
      "metadata": {
        "id": "rgfjmOtWhL0e",
        "outputId": "816042df-ed33-40e6-a9cd-421e5d8db269",
        "colab": {
          "base_uri": "https://localhost:8080/",
          "height": 564
        }
      },
      "execution_count": 10,
      "outputs": [
        {
          "output_type": "error",
          "ename": "InstructorRetryException",
          "evalue": "1 validation error for SearchQueryAgentOutputSchema\n  Invalid JSON: EOF while parsing an object at line 16 column 1 [type=json_invalid, input_value='{\\n  \"description\": \"Sch...\\n  \"type\": \"object\"\\n}', input_type=str]\n    For further information visit https://errors.pydantic.dev/2.10/v/json_invalid",
          "traceback": [
            "\u001b[0;31m---------------------------------------------------------------------------\u001b[0m",
            "\u001b[0;31mValidationError\u001b[0m                           Traceback (most recent call last)",
            "\u001b[0;32m/usr/local/lib/python3.11/dist-packages/instructor/retry.py\u001b[0m in \u001b[0;36mretry_sync\u001b[0;34m(func, response_model, args, kwargs, context, max_retries, strict, mode, hooks)\u001b[0m\n\u001b[1;32m    177\u001b[0m                     )\n\u001b[0;32m--> 178\u001b[0;31m                     \u001b[0;32mraise\u001b[0m \u001b[0me\u001b[0m\u001b[0;34m\u001b[0m\u001b[0;34m\u001b[0m\u001b[0m\n\u001b[0m\u001b[1;32m    179\u001b[0m     \u001b[0;32mexcept\u001b[0m \u001b[0mRetryError\u001b[0m \u001b[0;32mas\u001b[0m \u001b[0me\u001b[0m\u001b[0;34m:\u001b[0m\u001b[0;34m\u001b[0m\u001b[0;34m\u001b[0m\u001b[0m\n",
            "\u001b[0;32m/usr/local/lib/python3.11/dist-packages/instructor/retry.py\u001b[0m in \u001b[0;36mretry_sync\u001b[0;34m(func, response_model, args, kwargs, context, max_retries, strict, mode, hooks)\u001b[0m\n\u001b[1;32m    160\u001b[0m                     )\n\u001b[0;32m--> 161\u001b[0;31m                     return process_response(  # type: ignore\n\u001b[0m\u001b[1;32m    162\u001b[0m                         \u001b[0mresponse\u001b[0m\u001b[0;34m=\u001b[0m\u001b[0mresponse\u001b[0m\u001b[0;34m,\u001b[0m\u001b[0;34m\u001b[0m\u001b[0;34m\u001b[0m\u001b[0m\n",
            "\u001b[0;32m/usr/local/lib/python3.11/dist-packages/instructor/process_response.py\u001b[0m in \u001b[0;36mprocess_response\u001b[0;34m(response, response_model, stream, validation_context, strict, mode)\u001b[0m\n\u001b[1;32m    163\u001b[0m \u001b[0;34m\u001b[0m\u001b[0m\n\u001b[0;32m--> 164\u001b[0;31m     model = response_model.from_response(\n\u001b[0m\u001b[1;32m    165\u001b[0m         \u001b[0mresponse\u001b[0m\u001b[0;34m,\u001b[0m\u001b[0;34m\u001b[0m\u001b[0;34m\u001b[0m\u001b[0m\n",
            "\u001b[0;32m/usr/local/lib/python3.11/dist-packages/instructor/function_calls.py\u001b[0m in \u001b[0;36mfrom_response\u001b[0;34m(cls, completion, validation_context, strict, mode)\u001b[0m\n\u001b[1;32m    165\u001b[0m         }:\n\u001b[0;32m--> 166\u001b[0;31m             \u001b[0;32mreturn\u001b[0m \u001b[0mcls\u001b[0m\u001b[0;34m.\u001b[0m\u001b[0mparse_json\u001b[0m\u001b[0;34m(\u001b[0m\u001b[0mcompletion\u001b[0m\u001b[0;34m,\u001b[0m \u001b[0mvalidation_context\u001b[0m\u001b[0;34m,\u001b[0m \u001b[0mstrict\u001b[0m\u001b[0;34m)\u001b[0m\u001b[0;34m\u001b[0m\u001b[0;34m\u001b[0m\u001b[0m\n\u001b[0m\u001b[1;32m    167\u001b[0m \u001b[0;34m\u001b[0m\u001b[0m\n",
            "\u001b[0;32m/usr/local/lib/python3.11/dist-packages/instructor/function_calls.py\u001b[0m in \u001b[0;36mparse_json\u001b[0;34m(cls, completion, validation_context, strict)\u001b[0m\n\u001b[1;32m    383\u001b[0m \u001b[0;34m\u001b[0m\u001b[0m\n\u001b[0;32m--> 384\u001b[0;31m         return cls.model_validate_json(\n\u001b[0m\u001b[1;32m    385\u001b[0m             \u001b[0mmessage\u001b[0m\u001b[0;34m,\u001b[0m\u001b[0;34m\u001b[0m\u001b[0;34m\u001b[0m\u001b[0m\n",
            "\u001b[0;32m/usr/local/lib/python3.11/dist-packages/pydantic/main.py\u001b[0m in \u001b[0;36mmodel_validate_json\u001b[0;34m(cls, json_data, strict, context)\u001b[0m\n\u001b[1;32m    655\u001b[0m         \u001b[0m__tracebackhide__\u001b[0m \u001b[0;34m=\u001b[0m \u001b[0;32mTrue\u001b[0m\u001b[0;34m\u001b[0m\u001b[0;34m\u001b[0m\u001b[0m\n\u001b[0;32m--> 656\u001b[0;31m         \u001b[0;32mreturn\u001b[0m \u001b[0mcls\u001b[0m\u001b[0;34m.\u001b[0m\u001b[0m__pydantic_validator__\u001b[0m\u001b[0;34m.\u001b[0m\u001b[0mvalidate_json\u001b[0m\u001b[0;34m(\u001b[0m\u001b[0mjson_data\u001b[0m\u001b[0;34m,\u001b[0m \u001b[0mstrict\u001b[0m\u001b[0;34m=\u001b[0m\u001b[0mstrict\u001b[0m\u001b[0;34m,\u001b[0m \u001b[0mcontext\u001b[0m\u001b[0;34m=\u001b[0m\u001b[0mcontext\u001b[0m\u001b[0;34m)\u001b[0m\u001b[0;34m\u001b[0m\u001b[0;34m\u001b[0m\u001b[0m\n\u001b[0m\u001b[1;32m    657\u001b[0m \u001b[0;34m\u001b[0m\u001b[0m\n",
            "\u001b[0;31mValidationError\u001b[0m: 1 validation error for SearchQueryAgentOutputSchema\n  Invalid JSON: EOF while parsing an object at line 16 column 1 [type=json_invalid, input_value='{\\n  \"description\": \"Sch...\\n  \"type\": \"object\"\\n}', input_type=str]\n    For further information visit https://errors.pydantic.dev/2.10/v/json_invalid",
            "\nThe above exception was the direct cause of the following exception:\n",
            "\u001b[0;31mRetryError\u001b[0m                                Traceback (most recent call last)",
            "\u001b[0;32m/usr/local/lib/python3.11/dist-packages/instructor/retry.py\u001b[0m in \u001b[0;36mretry_sync\u001b[0;34m(func, response_model, args, kwargs, context, max_retries, strict, mode, hooks)\u001b[0m\n\u001b[1;32m    150\u001b[0m         \u001b[0mresponse\u001b[0m \u001b[0;34m=\u001b[0m \u001b[0;32mNone\u001b[0m\u001b[0;34m\u001b[0m\u001b[0;34m\u001b[0m\u001b[0m\n\u001b[0;32m--> 151\u001b[0;31m         \u001b[0;32mfor\u001b[0m \u001b[0mattempt\u001b[0m \u001b[0;32min\u001b[0m \u001b[0mmax_retries\u001b[0m\u001b[0;34m:\u001b[0m\u001b[0;34m\u001b[0m\u001b[0;34m\u001b[0m\u001b[0m\n\u001b[0m\u001b[1;32m    152\u001b[0m             \u001b[0;32mwith\u001b[0m \u001b[0mattempt\u001b[0m\u001b[0;34m:\u001b[0m\u001b[0;34m\u001b[0m\u001b[0;34m\u001b[0m\u001b[0m\n",
            "\u001b[0;32m/usr/local/lib/python3.11/dist-packages/tenacity/__init__.py\u001b[0m in \u001b[0;36m__iter__\u001b[0;34m(self)\u001b[0m\n\u001b[1;32m    442\u001b[0m         \u001b[0;32mwhile\u001b[0m \u001b[0;32mTrue\u001b[0m\u001b[0;34m:\u001b[0m\u001b[0;34m\u001b[0m\u001b[0;34m\u001b[0m\u001b[0m\n\u001b[0;32m--> 443\u001b[0;31m             \u001b[0mdo\u001b[0m \u001b[0;34m=\u001b[0m \u001b[0mself\u001b[0m\u001b[0;34m.\u001b[0m\u001b[0miter\u001b[0m\u001b[0;34m(\u001b[0m\u001b[0mretry_state\u001b[0m\u001b[0;34m=\u001b[0m\u001b[0mretry_state\u001b[0m\u001b[0;34m)\u001b[0m\u001b[0;34m\u001b[0m\u001b[0;34m\u001b[0m\u001b[0m\n\u001b[0m\u001b[1;32m    444\u001b[0m             \u001b[0;32mif\u001b[0m \u001b[0misinstance\u001b[0m\u001b[0;34m(\u001b[0m\u001b[0mdo\u001b[0m\u001b[0;34m,\u001b[0m \u001b[0mDoAttempt\u001b[0m\u001b[0;34m)\u001b[0m\u001b[0;34m:\u001b[0m\u001b[0;34m\u001b[0m\u001b[0;34m\u001b[0m\u001b[0m\n",
            "\u001b[0;32m/usr/local/lib/python3.11/dist-packages/tenacity/__init__.py\u001b[0m in \u001b[0;36miter\u001b[0;34m(self, retry_state)\u001b[0m\n\u001b[1;32m    375\u001b[0m         \u001b[0;32mfor\u001b[0m \u001b[0maction\u001b[0m \u001b[0;32min\u001b[0m \u001b[0mself\u001b[0m\u001b[0;34m.\u001b[0m\u001b[0miter_state\u001b[0m\u001b[0;34m.\u001b[0m\u001b[0mactions\u001b[0m\u001b[0;34m:\u001b[0m\u001b[0;34m\u001b[0m\u001b[0;34m\u001b[0m\u001b[0m\n\u001b[0;32m--> 376\u001b[0;31m             \u001b[0mresult\u001b[0m \u001b[0;34m=\u001b[0m \u001b[0maction\u001b[0m\u001b[0;34m(\u001b[0m\u001b[0mretry_state\u001b[0m\u001b[0;34m)\u001b[0m\u001b[0;34m\u001b[0m\u001b[0;34m\u001b[0m\u001b[0m\n\u001b[0m\u001b[1;32m    377\u001b[0m         \u001b[0;32mreturn\u001b[0m \u001b[0mresult\u001b[0m\u001b[0;34m\u001b[0m\u001b[0;34m\u001b[0m\u001b[0m\n",
            "\u001b[0;32m/usr/local/lib/python3.11/dist-packages/tenacity/__init__.py\u001b[0m in \u001b[0;36mexc_check\u001b[0;34m(rs)\u001b[0m\n\u001b[1;32m    418\u001b[0m                     \u001b[0;32mraise\u001b[0m \u001b[0mretry_exc\u001b[0m\u001b[0;34m.\u001b[0m\u001b[0mreraise\u001b[0m\u001b[0;34m(\u001b[0m\u001b[0;34m)\u001b[0m\u001b[0;34m\u001b[0m\u001b[0;34m\u001b[0m\u001b[0m\n\u001b[0;32m--> 419\u001b[0;31m                 \u001b[0;32mraise\u001b[0m \u001b[0mretry_exc\u001b[0m \u001b[0;32mfrom\u001b[0m \u001b[0mfut\u001b[0m\u001b[0;34m.\u001b[0m\u001b[0mexception\u001b[0m\u001b[0;34m(\u001b[0m\u001b[0;34m)\u001b[0m\u001b[0;34m\u001b[0m\u001b[0;34m\u001b[0m\u001b[0m\n\u001b[0m\u001b[1;32m    420\u001b[0m \u001b[0;34m\u001b[0m\u001b[0m\n",
            "\u001b[0;31mRetryError\u001b[0m: RetryError[<Future at 0x7c6bb29d0150 state=finished raised ValidationError>]",
            "\nThe above exception was the direct cause of the following exception:\n",
            "\u001b[0;31mInstructorRetryException\u001b[0m                  Traceback (most recent call last)",
            "\u001b[0;32m<ipython-input-10-2155483e3f01>\u001b[0m in \u001b[0;36m<cell line: 0>\u001b[0;34m()\u001b[0m\n\u001b[1;32m      1\u001b[0m \u001b[0minput\u001b[0m\u001b[0;34m=\u001b[0m\u001b[0mquery_agent\u001b[0m\u001b[0;34m.\u001b[0m\u001b[0minput_schema\u001b[0m\u001b[0;34m(\u001b[0m\u001b[0muser_input\u001b[0m\u001b[0;34m=\u001b[0m\u001b[0;34m\"Valentine Day history\"\u001b[0m\u001b[0;34m)\u001b[0m\u001b[0;34m\u001b[0m\u001b[0;34m\u001b[0m\u001b[0m\n\u001b[0;32m----> 2\u001b[0;31m \u001b[0mquery_agent\u001b[0m\u001b[0;34m.\u001b[0m\u001b[0mrun\u001b[0m\u001b[0;34m(\u001b[0m\u001b[0minput\u001b[0m\u001b[0;34m)\u001b[0m\u001b[0;34m\u001b[0m\u001b[0;34m\u001b[0m\u001b[0m\n\u001b[0m",
            "\u001b[0;32m/usr/local/lib/python3.11/dist-packages/atomic_agents/agents/base_agent.py\u001b[0m in \u001b[0;36mrun\u001b[0;34m(self, user_input)\u001b[0m\n\u001b[1;32m    170\u001b[0m             \u001b[0mself\u001b[0m\u001b[0;34m.\u001b[0m\u001b[0mmemory\u001b[0m\u001b[0;34m.\u001b[0m\u001b[0madd_message\u001b[0m\u001b[0;34m(\u001b[0m\u001b[0;34m\"user\"\u001b[0m\u001b[0;34m,\u001b[0m \u001b[0muser_input\u001b[0m\u001b[0;34m)\u001b[0m\u001b[0;34m\u001b[0m\u001b[0;34m\u001b[0m\u001b[0m\n\u001b[1;32m    171\u001b[0m \u001b[0;34m\u001b[0m\u001b[0m\n\u001b[0;32m--> 172\u001b[0;31m         \u001b[0mresponse\u001b[0m \u001b[0;34m=\u001b[0m \u001b[0mself\u001b[0m\u001b[0;34m.\u001b[0m\u001b[0mget_response\u001b[0m\u001b[0;34m(\u001b[0m\u001b[0mresponse_model\u001b[0m\u001b[0;34m=\u001b[0m\u001b[0mself\u001b[0m\u001b[0;34m.\u001b[0m\u001b[0moutput_schema\u001b[0m\u001b[0;34m)\u001b[0m\u001b[0;34m\u001b[0m\u001b[0;34m\u001b[0m\u001b[0m\n\u001b[0m\u001b[1;32m    173\u001b[0m         \u001b[0mself\u001b[0m\u001b[0;34m.\u001b[0m\u001b[0mmemory\u001b[0m\u001b[0;34m.\u001b[0m\u001b[0madd_message\u001b[0m\u001b[0;34m(\u001b[0m\u001b[0;34m\"assistant\"\u001b[0m\u001b[0;34m,\u001b[0m \u001b[0mresponse\u001b[0m\u001b[0;34m)\u001b[0m\u001b[0;34m\u001b[0m\u001b[0;34m\u001b[0m\u001b[0m\n\u001b[1;32m    174\u001b[0m \u001b[0;34m\u001b[0m\u001b[0m\n",
            "\u001b[0;32m/usr/local/lib/python3.11/dist-packages/atomic_agents/agents/base_agent.py\u001b[0m in \u001b[0;36mget_response\u001b[0;34m(self, response_model)\u001b[0m\n\u001b[1;32m    145\u001b[0m         ] + self.memory.get_history()\n\u001b[1;32m    146\u001b[0m \u001b[0;34m\u001b[0m\u001b[0m\n\u001b[0;32m--> 147\u001b[0;31m         response = self.client.chat.completions.create(\n\u001b[0m\u001b[1;32m    148\u001b[0m             \u001b[0mmessages\u001b[0m\u001b[0;34m=\u001b[0m\u001b[0mmessages\u001b[0m\u001b[0;34m,\u001b[0m\u001b[0;34m\u001b[0m\u001b[0;34m\u001b[0m\u001b[0m\n\u001b[1;32m    149\u001b[0m             \u001b[0mmodel\u001b[0m\u001b[0;34m=\u001b[0m\u001b[0mself\u001b[0m\u001b[0;34m.\u001b[0m\u001b[0mmodel\u001b[0m\u001b[0;34m,\u001b[0m\u001b[0;34m\u001b[0m\u001b[0;34m\u001b[0m\u001b[0m\n",
            "\u001b[0;32m/usr/local/lib/python3.11/dist-packages/instructor/client.py\u001b[0m in \u001b[0;36mcreate\u001b[0;34m(self, response_model, messages, max_retries, validation_context, context, strict, **kwargs)\u001b[0m\n\u001b[1;32m    174\u001b[0m         \u001b[0mkwargs\u001b[0m \u001b[0;34m=\u001b[0m \u001b[0mself\u001b[0m\u001b[0;34m.\u001b[0m\u001b[0mhandle_kwargs\u001b[0m\u001b[0;34m(\u001b[0m\u001b[0mkwargs\u001b[0m\u001b[0;34m)\u001b[0m\u001b[0;34m\u001b[0m\u001b[0;34m\u001b[0m\u001b[0m\n\u001b[1;32m    175\u001b[0m \u001b[0;34m\u001b[0m\u001b[0m\n\u001b[0;32m--> 176\u001b[0;31m         return self.create_fn(\n\u001b[0m\u001b[1;32m    177\u001b[0m             \u001b[0mresponse_model\u001b[0m\u001b[0;34m=\u001b[0m\u001b[0mresponse_model\u001b[0m\u001b[0;34m,\u001b[0m\u001b[0;34m\u001b[0m\u001b[0;34m\u001b[0m\u001b[0m\n\u001b[1;32m    178\u001b[0m             \u001b[0mmessages\u001b[0m\u001b[0;34m=\u001b[0m\u001b[0mmessages\u001b[0m\u001b[0;34m,\u001b[0m\u001b[0;34m\u001b[0m\u001b[0;34m\u001b[0m\u001b[0m\n",
            "\u001b[0;32m/usr/local/lib/python3.11/dist-packages/instructor/patch.py\u001b[0m in \u001b[0;36mnew_create_sync\u001b[0;34m(response_model, validation_context, context, max_retries, strict, hooks, *args, **kwargs)\u001b[0m\n\u001b[1;32m    191\u001b[0m         \u001b[0mnew_kwargs\u001b[0m \u001b[0;34m=\u001b[0m \u001b[0mhandle_templating\u001b[0m\u001b[0;34m(\u001b[0m\u001b[0mnew_kwargs\u001b[0m\u001b[0;34m,\u001b[0m \u001b[0mcontext\u001b[0m\u001b[0;34m)\u001b[0m\u001b[0;34m\u001b[0m\u001b[0;34m\u001b[0m\u001b[0m\n\u001b[1;32m    192\u001b[0m \u001b[0;34m\u001b[0m\u001b[0m\n\u001b[0;32m--> 193\u001b[0;31m         response = retry_sync(\n\u001b[0m\u001b[1;32m    194\u001b[0m             \u001b[0mfunc\u001b[0m\u001b[0;34m=\u001b[0m\u001b[0mfunc\u001b[0m\u001b[0;34m,\u001b[0m  \u001b[0;31m# type: ignore\u001b[0m\u001b[0;34m\u001b[0m\u001b[0;34m\u001b[0m\u001b[0m\n\u001b[1;32m    195\u001b[0m             \u001b[0mresponse_model\u001b[0m\u001b[0;34m=\u001b[0m\u001b[0mresponse_model\u001b[0m\u001b[0;34m,\u001b[0m\u001b[0;34m\u001b[0m\u001b[0;34m\u001b[0m\u001b[0m\n",
            "\u001b[0;32m/usr/local/lib/python3.11/dist-packages/instructor/retry.py\u001b[0m in \u001b[0;36mretry_sync\u001b[0;34m(func, response_model, args, kwargs, context, max_retries, strict, mode, hooks)\u001b[0m\n\u001b[1;32m    179\u001b[0m     \u001b[0;32mexcept\u001b[0m \u001b[0mRetryError\u001b[0m \u001b[0;32mas\u001b[0m \u001b[0me\u001b[0m\u001b[0;34m:\u001b[0m\u001b[0;34m\u001b[0m\u001b[0;34m\u001b[0m\u001b[0m\n\u001b[1;32m    180\u001b[0m         \u001b[0mlogger\u001b[0m\u001b[0;34m.\u001b[0m\u001b[0mdebug\u001b[0m\u001b[0;34m(\u001b[0m\u001b[0;34mf\"Retry error: {e}\"\u001b[0m\u001b[0;34m)\u001b[0m\u001b[0;34m\u001b[0m\u001b[0;34m\u001b[0m\u001b[0m\n\u001b[0;32m--> 181\u001b[0;31m         raise InstructorRetryException(\n\u001b[0m\u001b[1;32m    182\u001b[0m             \u001b[0me\u001b[0m\u001b[0;34m.\u001b[0m\u001b[0mlast_attempt\u001b[0m\u001b[0;34m.\u001b[0m\u001b[0m_exception\u001b[0m\u001b[0;34m,\u001b[0m\u001b[0;34m\u001b[0m\u001b[0;34m\u001b[0m\u001b[0m\n\u001b[1;32m    183\u001b[0m             \u001b[0mlast_completion\u001b[0m\u001b[0;34m=\u001b[0m\u001b[0mresponse\u001b[0m\u001b[0;34m,\u001b[0m\u001b[0;34m\u001b[0m\u001b[0;34m\u001b[0m\u001b[0m\n",
            "\u001b[0;31mInstructorRetryException\u001b[0m: 1 validation error for SearchQueryAgentOutputSchema\n  Invalid JSON: EOF while parsing an object at line 16 column 1 [type=json_invalid, input_value='{\\n  \"description\": \"Sch...\\n  \"type\": \"object\"\\n}', input_type=str]\n    For further information visit https://errors.pydantic.dev/2.10/v/json_invalid"
          ]
        }
      ]
    }
  ]
}