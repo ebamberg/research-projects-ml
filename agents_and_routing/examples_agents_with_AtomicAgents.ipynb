{
  "nbformat": 4,
  "nbformat_minor": 0,
  "metadata": {
    "colab": {
      "provenance": [],
      "gpuType": "T4",
      "authorship_tag": "ABX9TyM8qje84MZob6ncHwDbcx39",
      "include_colab_link": true
    },
    "kernelspec": {
      "name": "python3",
      "display_name": "Python 3"
    },
    "language_info": {
      "name": "python"
    },
    "accelerator": "GPU"
  },
  "cells": [
    {
      "cell_type": "markdown",
      "metadata": {
        "id": "view-in-github",
        "colab_type": "text"
      },
      "source": [
        "<a href=\"https://colab.research.google.com/github/ebamberg/research-projects-ml/blob/main/agents_and_routing/examples_agents_with_AtomicAgents.ipynb\" target=\"_parent\"><img src=\"https://colab.research.google.com/assets/colab-badge.svg\" alt=\"Open In Colab\"/></a>"
      ]
    },
    {
      "cell_type": "markdown",
      "source": [],
      "metadata": {
        "id": "ittnx9TnwT_y"
      }
    },
    {
      "cell_type": "code",
      "source": [
        "ased upon: https://github.com/BrainBlend-AI/atomic-agents/blob/main/atomic-examples/web-search-agent/web_search_agent/tools/searxng_search.py"
      ],
      "metadata": {
        "id": "-MkARk87wUNA"
      },
      "execution_count": null,
      "outputs": []
    },
    {
      "cell_type": "code",
      "execution_count": 1,
      "metadata": {
        "id": "GCm0uJVC9jvj",
        "colab": {
          "base_uri": "https://localhost:8080/"
        },
        "outputId": "674478a8-c131-440d-e1ca-9852bd2eade3"
      },
      "outputs": [
        {
          "output_type": "stream",
          "name": "stdout",
          "text": [
            "\u001b[?25l   \u001b[90m━━━━━━━━━━━━━━━━━━━━━━━━━━━━━━━━━━━━━━━━\u001b[0m \u001b[32m0.0/2.5 MB\u001b[0m \u001b[31m?\u001b[0m eta \u001b[36m-:--:--\u001b[0m\r\u001b[2K   \u001b[91m━━━━━━━━━━━━━━━━━━━━━━━━━━━━━━━━━━━━━━━\u001b[0m\u001b[91m╸\u001b[0m \u001b[32m2.5/2.5 MB\u001b[0m \u001b[31m119.6 MB/s\u001b[0m eta \u001b[36m0:00:01\u001b[0m\r\u001b[2K   \u001b[90m━━━━━━━━━━━━━━━━━━━━━━━━━━━━━━━━━━━━━━━━\u001b[0m \u001b[32m2.5/2.5 MB\u001b[0m \u001b[31m60.3 MB/s\u001b[0m eta \u001b[36m0:00:00\u001b[0m\n",
            "\u001b[?25h\u001b[?25l   \u001b[90m━━━━━━━━━━━━━━━━━━━━━━━━━━━━━━━━━━━━━━━━\u001b[0m \u001b[32m0.0/50.9 kB\u001b[0m \u001b[31m?\u001b[0m eta \u001b[36m-:--:--\u001b[0m\r\u001b[2K   \u001b[90m━━━━━━━━━━━━━━━━━━━━━━━━━━━━━━━━━━━━━━━━\u001b[0m \u001b[32m50.9/50.9 kB\u001b[0m \u001b[31m4.4 MB/s\u001b[0m eta \u001b[36m0:00:00\u001b[0m\n",
            "\u001b[?25h"
          ]
        }
      ],
      "source": [
        "!pip install ollama langchain_community --quiet\n",
        "\n",
        "host=\"localhost:11434\"\n",
        "modelid=\"llama3.2\"\n",
        "emb_modelid=\"mxbai-embed-large\"\n",
        "\n",
        "get_ipython().system_raw(\"curl -fsSL https://ollama.com/install.sh | sh\")\n",
        "get_ipython().system_raw(\"ollama serve &\")\n",
        "get_ipython().system_raw(f\"ollama pull {modelid}\")\n",
        "get_ipython().system_raw(f\"ollama pull {emb_modelid}\")\n"
      ]
    },
    {
      "cell_type": "code",
      "source": [
        "!pip install atomic-agents instructor --quiet\n",
        "!pip install googlesearch_python"
      ],
      "metadata": {
        "id": "8jw4YUzhqFIY",
        "colab": {
          "base_uri": "https://localhost:8080/"
        },
        "outputId": "4c72b25c-28b2-41de-a56f-738495b74878"
      },
      "execution_count": 2,
      "outputs": [
        {
          "output_type": "stream",
          "name": "stdout",
          "text": [
            "\u001b[?25l   \u001b[90m━━━━━━━━━━━━━━━━━━━━━━━━━━━━━━━━━━━━━━━━\u001b[0m \u001b[32m0.0/71.4 kB\u001b[0m \u001b[31m?\u001b[0m eta \u001b[36m-:--:--\u001b[0m\r\u001b[2K   \u001b[90m━━━━━━━━━━━━━━━━━━━━━━━━━━━━━━━━━━━━━━━━\u001b[0m \u001b[32m71.4/71.4 kB\u001b[0m \u001b[31m6.4 MB/s\u001b[0m eta \u001b[36m0:00:00\u001b[0m\n",
            "\u001b[?25h\u001b[?25l   \u001b[90m━━━━━━━━━━━━━━━━━━━━━━━━━━━━━━━━━━━━━━━━\u001b[0m \u001b[32m0.0/1.1 MB\u001b[0m \u001b[31m?\u001b[0m eta \u001b[36m-:--:--\u001b[0m\r\u001b[2K   \u001b[90m━━━━━━━━━━━━━━━━━━━━━━━━━━━━━━━━━━━━━━━━\u001b[0m \u001b[32m1.1/1.1 MB\u001b[0m \u001b[31m53.6 MB/s\u001b[0m eta \u001b[36m0:00:00\u001b[0m\n",
            "\u001b[?25h\u001b[?25l   \u001b[90m━━━━━━━━━━━━━━━━━━━━━━━━━━━━━━━━━━━━━━━━\u001b[0m \u001b[32m0.0/656.0 kB\u001b[0m \u001b[31m?\u001b[0m eta \u001b[36m-:--:--\u001b[0m\r\u001b[2K   \u001b[90m━━━━━━━━━━━━━━━━━━━━━━━━━━━━━━━━━━━━━━━━\u001b[0m \u001b[32m656.0/656.0 kB\u001b[0m \u001b[31m46.0 MB/s\u001b[0m eta \u001b[36m0:00:00\u001b[0m\n",
            "\u001b[?25hCollecting googlesearch_python\n",
            "  Downloading googlesearch_python-1.3.0-py3-none-any.whl.metadata (3.4 kB)\n",
            "Requirement already satisfied: beautifulsoup4>=4.9 in /usr/local/lib/python3.11/dist-packages (from googlesearch_python) (4.13.3)\n",
            "Requirement already satisfied: requests>=2.20 in /usr/local/lib/python3.11/dist-packages (from googlesearch_python) (2.32.3)\n",
            "Requirement already satisfied: soupsieve>1.2 in /usr/local/lib/python3.11/dist-packages (from beautifulsoup4>=4.9->googlesearch_python) (2.6)\n",
            "Requirement already satisfied: typing-extensions>=4.0.0 in /usr/local/lib/python3.11/dist-packages (from beautifulsoup4>=4.9->googlesearch_python) (4.12.2)\n",
            "Requirement already satisfied: charset-normalizer<4,>=2 in /usr/local/lib/python3.11/dist-packages (from requests>=2.20->googlesearch_python) (3.4.1)\n",
            "Requirement already satisfied: idna<4,>=2.5 in /usr/local/lib/python3.11/dist-packages (from requests>=2.20->googlesearch_python) (3.10)\n",
            "Requirement already satisfied: urllib3<3,>=1.21.1 in /usr/local/lib/python3.11/dist-packages (from requests>=2.20->googlesearch_python) (2.3.0)\n",
            "Requirement already satisfied: certifi>=2017.4.17 in /usr/local/lib/python3.11/dist-packages (from requests>=2.20->googlesearch_python) (2025.1.31)\n",
            "Downloading googlesearch_python-1.3.0-py3-none-any.whl (5.6 kB)\n",
            "Installing collected packages: googlesearch_python\n",
            "Successfully installed googlesearch_python-1.3.0\n"
          ]
        }
      ]
    },
    {
      "cell_type": "code",
      "source": [
        "import instructor\n",
        "import openai\n",
        "from openai import OpenAI\n",
        "from atomic_agents.agents.base_agent import BaseAgent, BaseAgentConfig, BaseIOSchema\n",
        "from atomic_agents.lib.components.agent_memory import AgentMemory\n",
        "\n",
        "\n",
        "\n",
        "\n",
        "llm = OpenAI(\n",
        "        base_url=f\"http://{host}/v1\",\n",
        "        api_key=\"ollama\",  # required, but unused\n",
        "    )\n",
        "\n",
        "client = instructor.from_openai(\n",
        "    llm,\n",
        "    mode=instructor.Mode.JSON,\n",
        ")\n"
      ],
      "metadata": {
        "id": "yHCElQFQb2XR"
      },
      "execution_count": 3,
      "outputs": []
    },
    {
      "cell_type": "code",
      "source": [
        "import os\n",
        "from atomic_agents.lib.components.system_prompt_generator import SystemPromptGenerator\n",
        "\n",
        "system_prompt_generator = SystemPromptGenerator(\n",
        "    background=[\n",
        "        'This assistant is a general-purpose AI designed to be helpful and friendly.',\n",
        "    ],\n",
        "    steps=[\n",
        "        'Understand the user\\'s input and provide a relevant response.',\n",
        "        'Respond to the user.'\n",
        "    ],\n",
        "    output_instructions=[\n",
        "        'Provide helpful and relevant information to assist the user.',\n",
        "        'Be friendly and respectful in all interactions.',\n",
        "        'Always answer in rhyming verse.'\n",
        "    ]\n",
        ")\n",
        "\n",
        "\n",
        "memory = AgentMemory()\n",
        "\n",
        "agent = BaseAgent(\n",
        "    config=BaseAgentConfig(\n",
        "        client=client,\n",
        "        system_prompt_generator=system_prompt_generator,\n",
        "        model=modelid,\n",
        "        memory=memory,\n",
        "    )\n",
        ")\n",
        "\n",
        "system_prompt_generator.generate_prompt()"
      ],
      "metadata": {
        "colab": {
          "base_uri": "https://localhost:8080/",
          "height": 70
        },
        "id": "IoMJcVuvrJfG",
        "outputId": "7bf67568-e89a-4d6b-c4ed-7ecf633e2231"
      },
      "execution_count": null,
      "outputs": [
        {
          "output_type": "execute_result",
          "data": {
            "text/plain": [
              "\"# IDENTITY and PURPOSE\\n- This assistant is a general-purpose AI designed to be helpful and friendly.\\n\\n# INTERNAL ASSISTANT STEPS\\n- Understand the user's input and provide a relevant response.\\n- Respond to the user.\\n\\n# OUTPUT INSTRUCTIONS\\n- Provide helpful and relevant information to assist the user.\\n- Be friendly and respectful in all interactions.\\n- Always answer in rhyming verse.\\n- Always respond using the proper JSON schema.\\n- Always use the available additional information and context to enhance the response.\""
            ],
            "application/vnd.google.colaboratory.intrinsic+json": {
              "type": "string"
            }
          },
          "metadata": {},
          "execution_count": 4
        }
      ]
    },
    {
      "cell_type": "code",
      "source": [
        "import json\n",
        "from atomic_agents.agents.base_agent import BaseAgentResponseSchema\n",
        "\n",
        "print(json.dumps(BaseAgentResponseSchema.model_json_schema(), indent=2))"
      ],
      "metadata": {
        "colab": {
          "base_uri": "https://localhost:8080/",
          "height": 366
        },
        "id": "dVr-Saeav4bz",
        "outputId": "6f3718f4-7035-4c48-c922-21edf7f2956b"
      },
      "execution_count": null,
      "outputs": [
        {
          "output_type": "error",
          "ename": "ImportError",
          "evalue": "cannot import name 'BaseAgentResponseSchema' from 'atomic_agents.agents.base_agent' (/usr/local/lib/python3.11/dist-packages/atomic_agents/agents/base_agent.py)",
          "traceback": [
            "\u001b[0;31m---------------------------------------------------------------------------\u001b[0m",
            "\u001b[0;31mImportError\u001b[0m                               Traceback (most recent call last)",
            "\u001b[0;32m<ipython-input-15-88ec067d153e>\u001b[0m in \u001b[0;36m<cell line: 0>\u001b[0;34m()\u001b[0m\n\u001b[1;32m      1\u001b[0m \u001b[0;32mimport\u001b[0m \u001b[0mjson\u001b[0m\u001b[0;34m\u001b[0m\u001b[0;34m\u001b[0m\u001b[0m\n\u001b[0;32m----> 2\u001b[0;31m \u001b[0;32mfrom\u001b[0m \u001b[0matomic_agents\u001b[0m\u001b[0;34m.\u001b[0m\u001b[0magents\u001b[0m\u001b[0;34m.\u001b[0m\u001b[0mbase_agent\u001b[0m \u001b[0;32mimport\u001b[0m \u001b[0mBaseAgentResponseSchema\u001b[0m\u001b[0;34m\u001b[0m\u001b[0;34m\u001b[0m\u001b[0m\n\u001b[0m\u001b[1;32m      3\u001b[0m \u001b[0;34m\u001b[0m\u001b[0m\n\u001b[1;32m      4\u001b[0m \u001b[0mprint\u001b[0m\u001b[0;34m(\u001b[0m\u001b[0mjson\u001b[0m\u001b[0;34m.\u001b[0m\u001b[0mdumps\u001b[0m\u001b[0;34m(\u001b[0m\u001b[0mBaseAgentResponseSchema\u001b[0m\u001b[0;34m.\u001b[0m\u001b[0mmodel_json_schema\u001b[0m\u001b[0;34m(\u001b[0m\u001b[0;34m)\u001b[0m\u001b[0;34m,\u001b[0m \u001b[0mindent\u001b[0m\u001b[0;34m=\u001b[0m\u001b[0;36m2\u001b[0m\u001b[0;34m)\u001b[0m\u001b[0;34m)\u001b[0m\u001b[0;34m\u001b[0m\u001b[0;34m\u001b[0m\u001b[0m\n",
            "\u001b[0;31mImportError\u001b[0m: cannot import name 'BaseAgentResponseSchema' from 'atomic_agents.agents.base_agent' (/usr/local/lib/python3.11/dist-packages/atomic_agents/agents/base_agent.py)",
            "",
            "\u001b[0;31m---------------------------------------------------------------------------\u001b[0;32m\nNOTE: If your import is failing due to a missing package, you can\nmanually install dependencies using either !pip or !apt.\n\nTo view examples of installing some common dependencies, click the\n\"Open Examples\" button below.\n\u001b[0;31m---------------------------------------------------------------------------\u001b[0m\n"
          ],
          "errorDetails": {
            "actions": [
              {
                "action": "open_url",
                "actionText": "Open Examples",
                "url": "/notebooks/snippets/importing_libraries.ipynb"
              }
            ]
          }
        }
      ]
    },
    {
      "cell_type": "code",
      "source": [
        "while True:\n",
        "    user_input = input('You: ')\n",
        "    if user_input.lower() in ['/exit', '/quit']:\n",
        "        print('Exiting chat...')\n",
        "        break\n",
        "\n",
        "    response = agent.run(agent.input_schema(chat_message=user_input))\n",
        "    print(f'Agent: {response.chat_message}')"
      ],
      "metadata": {
        "colab": {
          "base_uri": "https://localhost:8080/"
        },
        "id": "2cIH6FazuFYu",
        "outputId": "b9110ab7-040b-47fe-f777-e53ea6d5c7e2"
      },
      "execution_count": null,
      "outputs": [
        {
          "output_type": "stream",
          "name": "stdout",
          "text": [
            "You: Write a article about vampires\n",
            "Agent: Write a article about vampires\n",
            "You: What is the capitol of France\n",
            "Agent: The capital of France, a city so fine,\n",
            "Is Paris, the city that's truly divine.\n",
            "Located on the Seine, it's a sight to see,\n",
            "A city of love, art, and history.\n",
            "You: /exit\n",
            "Exiting chat...\n"
          ]
        }
      ]
    },
    {
      "cell_type": "markdown",
      "source": [
        "## Building a Search Tool"
      ],
      "metadata": {
        "id": "ZtSlmezT8esK"
      }
    },
    {
      "cell_type": "code",
      "source": [
        "from pydantic import Field\n",
        "from typing import Optional, List\n",
        "\n",
        "from atomic_agents.agents.base_agent import BaseIOSchema\n",
        "#from atomic_agents.agents.tool_interface_agent import ToolInterfaceAgent, ToolInterfaceAgentConfig\n",
        "from atomic_agents.lib.base.base_tool import BaseTool, BaseToolConfig\n",
        "\n",
        "from googlesearch import search\n",
        "\n",
        "################\n",
        "# INPUT SCHEMA #\n",
        "################\n",
        "class GoogleSearchToolInputSchema(BaseIOSchema):\n",
        "    \"\"\"\n",
        "    Schema for input to a tool for searching for information, news, references, and other content using google search engibe.\n",
        "    Returns a list of search results with a short description or content snippet and URLs for further exploration\n",
        "    \"\"\"\n",
        "\n",
        "    queries: List[str] = Field(..., description=\"List of search queries.\")\n",
        "\n",
        "####################\n",
        "# OUTPUT SCHEMA(S) #\n",
        "####################\n",
        "class SearchResultItemSchema(BaseIOSchema):\n",
        "    \"\"\"This schema represents a single search result item\"\"\"\n",
        "\n",
        "    url: str = Field(..., description=\"The URL of the search result\")\n",
        "    title: str = Field(..., description=\"The title of the search result\")\n",
        "    content: Optional[str] = Field(None, description=\"The content snippet of the search result\")\n",
        "    query: str = Field(..., description=\"The query used to obtain this search result\")\n",
        "\n",
        "\n",
        "class GoogleSearchToolOutputSchema(BaseIOSchema):\n",
        "    \"\"\"This schema represents the output of the google search tool.\"\"\"\n",
        "\n",
        "    results: List[SearchResultItemSchema] = Field(..., description=\"List of search result items\")\n",
        "\n",
        "\n",
        "#####################\n",
        "# THE TOOL          #\n",
        "#####################\n",
        "\n",
        "class GoogleSearchToolConfig(BaseToolConfig):\n",
        "    max_results: int = 10\n",
        "\n",
        "class GoogleSearchTool(BaseTool):\n",
        "    \"\"\"\n",
        "    Tool for performing searches using google search engine based on the provided queries.\n",
        "\n",
        "    Attributes:\n",
        "        input_schema (GoogleSearchToolInputSchema): The schema for the input data.\n",
        "        output_schema (GoogleSearchToolOutputSchema): The schema for the output data.\n",
        "        max_results (int): The maximum number of search results to return.\n",
        "    \"\"\"\n",
        "\n",
        "    input_schema = GoogleSearchToolInputSchema\n",
        "    output_schema = GoogleSearchToolOutputSchema\n",
        "\n",
        "    def __init__(self, config: GoogleSearchToolConfig = GoogleSearchToolConfig()):\n",
        "        \"\"\"\n",
        "        Initializes the SearxNGTool.\n",
        "\n",
        "        Args:\n",
        "            config (GoogleSearchToolConfig):\n",
        "                Configuration for the tool:  max results, and optional title and description overrides.\n",
        "        \"\"\"\n",
        "        super().__init__(config)\n",
        "        self.max_results = config.max_results\n",
        "\n",
        "    async def run_async(\n",
        "        self, params: GoogleSearchToolInputSchema, max_results: Optional[int] = None\n",
        "    ) -> GoogleSearchToolOutputSchema:\n",
        "      pass\n",
        "\n",
        "    def run(self, params: GoogleSearchToolInputSchema, max_results: Optional[int] = None) -> GoogleSearchToolOutputSchema:\n",
        "      results=[]\n",
        "      for searchquery in params.queries:\n",
        "          search_result=search (searchquery, unique=True, advanced=True )\n",
        "          results.extend ( [ SearchResultItemSchema(title=r.title, content=r.description, url=r.url, query=searchquery) for r in search_result ] )\n",
        "      return GoogleSearchToolOutputSchema (results=results)\n",
        "\n",
        "#google_search_agent = ToolInterfaceAgent(config=ToolInterfaceAgentConfig(\n",
        "#                                            client=client, model=modelid,\n",
        "#                                            tool_instance=GoogleSearchTool(), return_raw_output=False\n",
        " #                                           )\n",
        "#                                         )\n"
      ],
      "metadata": {
        "id": "jjl9A22R8dnV"
      },
      "execution_count": 4,
      "outputs": []
    },
    {
      "cell_type": "markdown",
      "source": [
        "Test the Tool"
      ],
      "metadata": {
        "id": "mFQy9KQxUiJi"
      }
    },
    {
      "cell_type": "code",
      "source": [
        "searchtool=GoogleSearchTool()\n",
        "searchtool.run( GoogleSearchTool.input_schema(queries=[\"Valentine Day history\"]) )"
      ],
      "metadata": {
        "id": "CRP4kNp8Ug-S",
        "colab": {
          "base_uri": "https://localhost:8080/"
        },
        "outputId": "3e0bb434-3a00-422c-e878-fc9730d69b5e"
      },
      "execution_count": 5,
      "outputs": [
        {
          "output_type": "execute_result",
          "data": {
            "text/plain": [
              "GoogleSearchToolOutputSchema(results=[SearchResultItemSchema(url='https://en.wikipedia.org/wiki/Valentine%27s_Day', title=\"Valentine's Day - Wikipedia\", content=' It originated as a Christian feast day honoring a martyr named Valentine, and through later folk traditions it has also become a significant cultural, religious\\xa0... ', query='Valentine Day history'), SearchResultItemSchema(url='https://www.britannica.com/topic/Valentines-Day', title=\"Valentine's Day | Definition, History, & Traditions | Britannica\", content=' 6 Feb 2025  ·  Given their similarities, it has been suggested that the holiday has origins in the Roman festival of Lupercalia, held in mid-February. ', query='Valentine Day history'), SearchResultItemSchema(url='https://www.history.com/topics/valentines-day/history-of-valentines-day-2', title=\"Valentine's Day 2025: Origins, Background & Traditions | HISTORY\", content=\" 22 Dec 2009  ·  Find out about the meaning and history of Valentine's Day, from the ancient Roman ritual of Lupercalia that welcomed spring to the card-giving customs of\\xa0... \", query='Valentine Day history'), SearchResultItemSchema(url='https://www.npr.org/2011/02/14/133693152/the-dark-origins-of-valentines-day', title=\"The dark origins of Valentine's Day - NPR\", content=' 13 Feb 2011  ·  Emperor Claudius II executed two men — both named Valentine — on Feb. 14 of different years in the third century. Their martyrdom was honored by\\xa0... ', query='Valentine Day history'), SearchResultItemSchema(url='https://www.cbsnews.com/news/valentines-cards-gifts-modern-traditions/', title=\"Inside the origins of modern Valentine's Day celebrations - CBS News\", content=\" 3 days ago  ·  The history of Valentine's Day is mushy. It's been linked to a 12th-century poem about birds mating, the Christian-martyr-turned-Saint\\xa0... \", query='Valentine Day history'), SearchResultItemSchema(url='https://www.britannica.com/video/history-of-Valentines-Day/-275449', title=\"History of Valentine's Day | Britannica\", content=' 6 Feb 2023  ·  Although its origins are unclear, many have suggested the holiday has roots in the ancient Roman festival of Lupercalia. ', query='Valentine Day history'), SearchResultItemSchema(url='https://m.economictimes.com/news/international/us/valentines-day-origin-why-do-we-celebrate-this-occasion-heres-a-brief-history/articleshow/118250766.cms', title=\"  Valentine's day origin: Why do we celebrate this occasion? Here's a brief history  \", content=\" Valentine's day origin: Why do we celebrate this occasion? Here's a brief history \", query='Valentine Day history'), SearchResultItemSchema(url='https://www.countryliving.com/life/a46353/history-of-valentines-day/', title=\"Valentine's Day 2025: Origin and History of the Holiday\", content=' 4 Feb 2025  ·  Valentine is likely based on a combination of two Valentines who were executed on February 14 in different years by Roman Emperor Claudius II in\\xa0... ', query='Valentine Day history'), SearchResultItemSchema(url='https://www.realsimple.com/holidays-entertaining/holidays/valentines-day/history-of-valentines-day', title=\"The History of Valentine's Day, and Why We Celebrate\", content=\" 17 Jan 2025  ·  How Did Valentine's Day Start? Some historians believe it has roots in the ancient Roman festival of Lupercalia. Held yearly on February 15,\\xa0... \", query='Valentine Day history'), SearchResultItemSchema(url='https://www.goodhousekeeping.com/holidays/valentines-day-ideas/a26863/valentines-day-facts/', title=\"30 Fun Valentine's Day Facts About the Holiday's History\", content=\" 3 days ago  ·  2. Valentine's Day has its roots in an ancient Pagan festival. Valentine's Day also has pagan roots alongside its connection to St. Valentine. \", query='Valentine Day history')])"
            ]
          },
          "metadata": {},
          "execution_count": 5
        }
      ]
    },
    {
      "cell_type": "code",
      "source": [
        "import os\n",
        "from atomic_agents.lib.components.system_prompt_generator import SystemPromptGenerator\n",
        "\n",
        "################\n",
        "# INPUT SCHEMA #\n",
        "################\n",
        "class SearchQueryAgentInputSchema(BaseIOSchema):\n",
        "    \"\"\"\n",
        "    Schema for input\n",
        "    \"\"\"\n",
        "\n",
        "    user_input: str = Field(..., description=\"The user input to create internet search queries from.\")\n",
        "    num_queries: int = Field(..., description=\"The number of queries to generate.\")\n",
        "\n",
        "################\n",
        "# Output SCHEMA #\n",
        "################\n",
        "class SearchQueryAgentOutputSchema(BaseIOSchema):\n",
        "    \"\"\"\n",
        "    Schema for Output of Search query finder agent\n",
        "    \"\"\"\n",
        "\n",
        "    queries: List[str] = Field(..., description=\"The list of queries created by a query agent.\")\n",
        "\n",
        "###################\n",
        "# Build the agent #\n",
        "###################\n",
        "memory = AgentMemory()\n",
        "\n",
        "query_agent = BaseAgent(\n",
        "    config=BaseAgentConfig(\n",
        "        client=client,\n",
        "        system_prompt_generator=SystemPromptGenerator(\n",
        "            background=[\n",
        "                'You are an internet researcher.  Which experience in create exact search query to get insightful search results about a topic.',\n",
        "            ],\n",
        "            steps=[\n",
        "                'You will receive a user input and follow this steps to create a list of 5 relevant internet search queries that helps the find relevant information to the user input.',\n",
        "                ' - Understand the provided user\\'s query.',\n",
        "                ' - Think about unique, relevant and insightful information about the provided topic',\n",
        "                ' - create a iist of 5 unique internet search queries to get these relevant information.'\n",
        "                ' - Generate the requested number of queries in a JSON format.',\n",
        "            ],\n",
        "            output_instructions=[\n",
        "                'Provide a list of 5 relevant internet search queries.',\n",
        "                \"Ensure clarity and conciseness in each query.\",\n",
        "                'Ensure every query is as unique and diverse as possible while remaining relevant to the user input.'\n",
        "                'Ensure the queries are relevant to the user input'\n",
        "\n",
        "            ]\n",
        "        ),\n",
        "        input_schema=SearchQueryAgentInputSchema,\n",
        "        output_schema=SearchQueryAgentOutputSchema,\n",
        "        model=modelid,\n",
        "        memory=memory,\n",
        "    )\n",
        ")\n",
        "\n",
        "query_agent.system_prompt_generator.generate_prompt()"
      ],
      "metadata": {
        "colab": {
          "base_uri": "https://localhost:8080/",
          "height": 105
        },
        "outputId": "9b33d3d8-3922-4c68-a8fd-d5da2238d6cd",
        "id": "L9YR9yvbcI5p"
      },
      "execution_count": 7,
      "outputs": [
        {
          "output_type": "execute_result",
          "data": {
            "text/plain": [
              "\"# IDENTITY and PURPOSE\\n- You are an internet researcher.  Which experience in create exact search query to get insightful search results about a topic.\\n\\n# INTERNAL ASSISTANT STEPS\\n- You will receive a user input and follow this steps to create a list of 5 relevant internet search queries that helps the find relevant information to the user input.\\n-  - Understand the provided user's query.\\n-  - Think about unique, relevant and insightful information about the provided topic\\n-  - create a iist of 5 unique internet search queries to get these relevant information. - Generate the requested number of queries in a JSON format.\\n\\n# OUTPUT INSTRUCTIONS\\n- Provide a list of 5 relevant internet search queries.\\n- Ensure clarity and conciseness in each query.\\n- Ensure every query is as unique and diverse as possible while remaining relevant to the user input.Ensure the queries are relevant to the user input\\n- Always respond using the proper JSON schema.\\n- Always use the available additional information and context to enhance the response.\""
            ],
            "application/vnd.google.colaboratory.intrinsic+json": {
              "type": "string"
            }
          },
          "metadata": {},
          "execution_count": 7
        }
      ]
    },
    {
      "cell_type": "code",
      "source": [
        "query_agent.input_schema(user_input=\"Valentine Day history\",num_queries=5)"
      ],
      "metadata": {
        "colab": {
          "base_uri": "https://localhost:8080/",
          "height": 315
        },
        "id": "215sdddOk9gK",
        "outputId": "c4e44ba0-464b-47ee-8449-e3eea2532f06"
      },
      "execution_count": 8,
      "outputs": [
        {
          "output_type": "error",
          "ename": "ValidationError",
          "evalue": "1 validation error for SearchQueryAgentInputSchema\nnum_queries\n  Field required [type=missing, input_value={'user_input': 'Valentine Day history'}, input_type=dict]\n    For further information visit https://errors.pydantic.dev/2.10/v/missing",
          "traceback": [
            "\u001b[0;31m---------------------------------------------------------------------------\u001b[0m",
            "\u001b[0;31mValidationError\u001b[0m                           Traceback (most recent call last)",
            "\u001b[0;32m<ipython-input-8-58cbf4a2523b>\u001b[0m in \u001b[0;36m<cell line: 0>\u001b[0;34m()\u001b[0m\n\u001b[0;32m----> 1\u001b[0;31m \u001b[0mquery_agent\u001b[0m\u001b[0;34m.\u001b[0m\u001b[0minput_schema\u001b[0m\u001b[0;34m(\u001b[0m\u001b[0muser_input\u001b[0m\u001b[0;34m=\u001b[0m\u001b[0;34m\"Valentine Day history\"\u001b[0m\u001b[0;34m)\u001b[0m\u001b[0;34m\u001b[0m\u001b[0;34m\u001b[0m\u001b[0m\n\u001b[0m",
            "\u001b[0;32m/usr/local/lib/python3.11/dist-packages/pydantic/main.py\u001b[0m in \u001b[0;36m__init__\u001b[0;34m(self, **data)\u001b[0m\n\u001b[1;32m    212\u001b[0m         \u001b[0;31m# `__tracebackhide__` tells pytest and some other tools to omit this function from tracebacks\u001b[0m\u001b[0;34m\u001b[0m\u001b[0;34m\u001b[0m\u001b[0m\n\u001b[1;32m    213\u001b[0m         \u001b[0m__tracebackhide__\u001b[0m \u001b[0;34m=\u001b[0m \u001b[0;32mTrue\u001b[0m\u001b[0;34m\u001b[0m\u001b[0;34m\u001b[0m\u001b[0m\n\u001b[0;32m--> 214\u001b[0;31m         \u001b[0mvalidated_self\u001b[0m \u001b[0;34m=\u001b[0m \u001b[0mself\u001b[0m\u001b[0;34m.\u001b[0m\u001b[0m__pydantic_validator__\u001b[0m\u001b[0;34m.\u001b[0m\u001b[0mvalidate_python\u001b[0m\u001b[0;34m(\u001b[0m\u001b[0mdata\u001b[0m\u001b[0;34m,\u001b[0m \u001b[0mself_instance\u001b[0m\u001b[0;34m=\u001b[0m\u001b[0mself\u001b[0m\u001b[0;34m)\u001b[0m\u001b[0;34m\u001b[0m\u001b[0;34m\u001b[0m\u001b[0m\n\u001b[0m\u001b[1;32m    215\u001b[0m         \u001b[0;32mif\u001b[0m \u001b[0mself\u001b[0m \u001b[0;32mis\u001b[0m \u001b[0;32mnot\u001b[0m \u001b[0mvalidated_self\u001b[0m\u001b[0;34m:\u001b[0m\u001b[0;34m\u001b[0m\u001b[0;34m\u001b[0m\u001b[0m\n\u001b[1;32m    216\u001b[0m             warnings.warn(\n",
            "\u001b[0;31mValidationError\u001b[0m: 1 validation error for SearchQueryAgentInputSchema\nnum_queries\n  Field required [type=missing, input_value={'user_input': 'Valentine Day history'}, input_type=dict]\n    For further information visit https://errors.pydantic.dev/2.10/v/missing"
          ]
        }
      ]
    },
    {
      "cell_type": "markdown",
      "source": [
        "## Test the Query agent"
      ],
      "metadata": {
        "id": "UHY9ewqthMmZ"
      }
    },
    {
      "cell_type": "code",
      "source": [
        "input=query_agent.input_schema(user_input=\"Valentine Day history\",num_queries=5)\n",
        "print (input.model_dump_json())\n",
        "\n",
        "query_agent.output_schema=GoogleSearchToolInputSchema\n",
        "query_list=query_agent.run(input)\n",
        "\n",
        "\n",
        "query_list"
      ],
      "metadata": {
        "colab": {
          "base_uri": "https://localhost:8080/"
        },
        "id": "rgfjmOtWhL0e",
        "outputId": "95f44478-68f3-4ec1-9a71-57d41fd3fa8b"
      },
      "execution_count": 11,
      "outputs": [
        {
          "output_type": "stream",
          "name": "stdout",
          "text": [
            "{\"user_input\":\"Valentine Day history\",\"num_queries\":5}\n"
          ]
        },
        {
          "output_type": "execute_result",
          "data": {
            "text/plain": [
              "GoogleSearchToolInputSchema(queries=[\"What is the origin of Valentine's Day?\", \"History of Valentine's Day traditions\", \"Valentine's Day origins and evolution\", \"The ancient Roman festival of Lupercalia and its connection to Valentine's Day\", \"How has Valentine's Day evolved over time?\"])"
            ]
          },
          "metadata": {},
          "execution_count": 11
        }
      ]
    },
    {
      "cell_type": "markdown",
      "source": [
        "## calling the search tool with the agent output"
      ],
      "metadata": {
        "id": "8rEVwareuyH-"
      }
    },
    {
      "cell_type": "code",
      "source": [
        "searchtool=GoogleSearchTool()\n",
        "search_results=searchtool.run(query_list)\n",
        "search_results"
      ],
      "metadata": {
        "colab": {
          "base_uri": "https://localhost:8080/"
        },
        "id": "ta3ii0IWsh6H",
        "outputId": "a219060b-73a1-4347-c74a-6dc4213126ed"
      },
      "execution_count": 12,
      "outputs": [
        {
          "output_type": "execute_result",
          "data": {
            "text/plain": [
              "GoogleSearchToolOutputSchema(results=[SearchResultItemSchema(url='https://www.nbcchicago.com/news/local/why-do-we-celebrate-valentines-day-how-the-holiday-originated-and-more/3674713/', title=\"Why do we celebrate Valentine's Day? How the holiday originated and more - NBC Chicago\", content=\" NBC Universal, Inc. Valentine's Day  likely began as a feast day for a Christian martyr executed by the Roman emperor , according to History.com. Bearing cards, flowers, chocolates and poetry, lovers have always swooned on Valentine's Day as cherubs circled overhead. \", query=\"What is the origin of Valentine's Day?\"), SearchResultItemSchema(url='https://en.wikipedia.org/wiki/Valentine%27s_Day', title=\"Valentine's Day - Wikipedia\", content=' It originated as a Christian feast day honoring a martyr named Valentine, and through later folk traditions it has also become a significant cultural, religious\\xa0... ', query=\"What is the origin of Valentine's Day?\"), SearchResultItemSchema(url='https://www.britannica.com/topic/Valentines-Day', title=\"Valentine's Day | Definition, History, & Traditions | Britannica\", content=' 6 Feb 2025  ·  Given their similarities, it has been suggested that the holiday has origins in the Roman festival of Lupercalia, held in mid-February. ', query=\"What is the origin of Valentine's Day?\"), SearchResultItemSchema(url='https://www.npr.org/2011/02/14/133693152/the-dark-origins-of-valentines-day', title=\"The dark origins of Valentine's Day - NPR\", content=' 13 Feb 2011  ·  Though no one has pinpointed the exact origin of the holiday, one place to start is ancient Rome. ', query=\"What is the origin of Valentine's Day?\"), SearchResultItemSchema(url='https://www.history.com/topics/valentines-day/history-of-valentines-day-2', title=\"Valentine's Day 2025: Origins, Background & Traditions | HISTORY\", content=\" 22 Dec 2009  ·  Find out about the meaning and history of Valentine's Day, from the ancient Roman ritual of Lupercalia that welcomed spring to the card-giving customs of\\xa0... \", query=\"What is the origin of Valentine's Day?\"), SearchResultItemSchema(url='https://buckrail.com/explainer-the-origins-of-valentines-day-2/', title='  Explainer: The origins of Valentine’s Day  ', content=' Explainer: The origins of Valentine’s Day ', query=\"What is the origin of Valentine's Day?\"), SearchResultItemSchema(url='https://www.statesman.com/story/news/state/2025/02/14/valentines-day-2025-origin-dark-history-day-of-love-hallmark/78524785007/', title=\"Dark origins of Valentine's Day - Austin American-Statesman\", content=' 3 days ago  ·  Dating back to ancient Rome, the holiday originated with the feast of Lupercalia, celebrated from February 13 to 15. According to NPR,\\xa0... ', query=\"What is the origin of Valentine's Day?\"), SearchResultItemSchema(url='https://www.realsimple.com/holidays-entertaining/holidays/valentines-day/history-of-valentines-day', title=\"The History of Valentine's Day, and Why We Celebrate\", content=' 17 Jan 2025  ·  Some historians believe it has roots in the ancient Roman festival of Lupercalia. Held yearly on February 15, Lupercalia celebrated the coming\\xa0... ', query=\"What is the origin of Valentine's Day?\"), SearchResultItemSchema(url='https://www.countryliving.com/life/a46353/history-of-valentines-day/', title=\"Valentine's Day 2025: Origin and History of the Holiday\", content=' 4 Feb 2025  ·  Valentine is likely based on a combination of two Valentines who were executed on February 14 in different years by Roman Emperor Claudius II in\\xa0... ', query=\"What is the origin of Valentine's Day?\"), SearchResultItemSchema(url='https://www.ottawa.edu/online-and-evening/blog/february-2023/of-love-and-history-%E2%80%93-the-origins-of-valentine%E2%80%99s-d', title=\"Of Love and History – the Origins of Valentine's Day\", content=\" 7 Feb 2023  ·  Probably the most direct link to our modern-day Valentine's Day can be traced back to the English poet Geoffrey Chaucer. In 1375, he penned “The\\xa0... \", query=\"What is the origin of Valentine's Day?\"), SearchResultItemSchema(url='https://www.britannica.com/topic/Valentines-Day', title=\"Valentine's Day | Definition, History, & Traditions | Britannica\", content=' 6 Feb 2025  ·  Given their similarities, it has been suggested that the holiday has origins in the Roman festival of Lupercalia, held in mid-February. The\\xa0... ', query=\"History of Valentine's Day traditions\"), SearchResultItemSchema(url='https://en.wikipedia.org/wiki/Valentine%27s_Day', title=\"Valentine's Day - Wikipedia\", content=' It originated as a Christian feast day honoring a martyr named Valentine, and through later folk traditions it has also become a significant cultural, religious\\xa0... ', query=\"History of Valentine's Day traditions\"), SearchResultItemSchema(url='https://www.history.com/topics/valentines-day/history-of-valentines-day-2', title=\"Valentine's Day 2025: Origins, Background & Traditions | HISTORY\", content=\" 22 Dec 2009  ·  Find out about the meaning and history of Valentine's Day, from the ancient Roman ritual of Lupercalia that welcomed spring to the card-giving customs of\\xa0... \", query=\"History of Valentine's Day traditions\"), SearchResultItemSchema(url='https://www.npr.org/2011/02/14/133693152/the-dark-origins-of-valentines-day', title=\"The dark origins of Valentine's Day - NPR\", content=\" 13 Feb 2011  ·  Though no one has pinpointed the exact origin of the holiday, one place to start is ancient Rome. The Romans' celebrations were violent. \", query=\"History of Valentine's Day traditions\"), SearchResultItemSchema(url='https://www.cbsnews.com/news/valentines-cards-gifts-modern-traditions/', title=\"Inside the origins of modern Valentine's Day celebrations - CBS News\", content=\" 3 days ago  ·  It's been linked to a 12th-century poem about birds mating, the Christian-martyr-turned-Saint Valentine and a deadly fertility ritual in ancient\\xa0... \", query=\"History of Valentine's Day traditions\"), SearchResultItemSchema(url='https://vinpearl.com/en/history-of-valentines-day-the-full-story-that-you-may-not-know', title=\"History of Valentine's Day: Unveil the lovers' day's origin - Vinpearl\", content=\" 14 Jan 2024  ·  The first recorded Valentine's Day letter was written in 1415 by Charles, Duke of Orleans, to his wife while he was imprisoned in the Tower of\\xa0... \", query=\"History of Valentine's Day traditions\"), SearchResultItemSchema(url='https://www.yahoo.com/lifestyle/unraveling-history-valentine-day-origins-175707615.html', title='  Unraveling the history of Valentine’s Day: Origins and traditions  ', content=' Unraveling the history of Valentine’s Day: Origins and traditions ', query=\"History of Valentine's Day traditions\"), SearchResultItemSchema(url='https://www.countryliving.com/life/a46353/history-of-valentines-day/', title=\"Valentine's Day 2025: Origin and History of the Holiday\", content=\" 4 Feb 2025  ·  The mid-19th century marked the beginning of many of the commercialized Valentine's Day traditions we know today. Victorian men wooed women\\xa0... \", query=\"History of Valentine's Day traditions\"), SearchResultItemSchema(url='https://www.thepioneerwoman.com/holidays-celebrations/a42348778/valentines-day-history/', title=\"Valentine's Day 2025: Origin and History of the Holiday\", content=\" 10 Jan 2025  ·  According to both The New York Times and History.com, the holiday's origin might stem from the ancient pagan festival of Lupercalia, which\\xa0... \", query=\"History of Valentine's Day traditions\"), SearchResultItemSchema(url='https://medfieldhistoricalsociety.org/the-origins-of-valentines-day/', title=\"The Origins of Valentine's Day - - Medfield Historical Society\", content=' The most commonly accepted story begins in Rome, during the third century, at a time when persecution of Christians was running rampant. ', query=\"History of Valentine's Day traditions\"), SearchResultItemSchema(url='https://www.riverbender.com/news/details/the-evolution-of-love-tracing-the-history-and-modern-celebrations-of-valentines-day-79705.cfm', title='The Evolution of Love: Tracing the History and Modern Celebrations ...', content=' St. Valentine defied this decree by secretly performing marriages for young couples. Eventually, he was caught, imprisoned, and executed on February 14, around the year 269 AD. This martyrdom would later lead to his canonization, and the date became associated with romantic love. ', query=\"Valentine's Day origins and evolution\"), SearchResultItemSchema(url='https://www.history.com/topics/valentines-day/history-of-valentines-day-2', title=\"Valentine's Day 2025: Origins, Background & Traditions | HISTORY\", content=\" 22 Dec 2009  ·  Find out about the meaning and history of Valentine's Day, from the ancient Roman ritual of Lupercalia that welcomed spring to the card-giving customs of\\xa0... \", query=\"Valentine's Day origins and evolution\"), SearchResultItemSchema(url='https://www.britannica.com/topic/Valentines-Day', title=\"Valentine's Day | Definition, History, & Traditions | Britannica\", content=' 6 Feb 2025  ·  Given their similarities, it has been suggested that the holiday has origins in the Roman festival of Lupercalia, held in mid-February. The\\xa0... ', query=\"Valentine's Day origins and evolution\"), SearchResultItemSchema(url='https://en.wikipedia.org/wiki/Valentine%27s_Day', title=\"Valentine's Day - Wikipedia\", content=' It originated as a Christian feast day honoring a martyr named Valentine, and through later folk traditions it has also become a significant cultural, religious\\xa0... ', query=\"Valentine's Day origins and evolution\"), SearchResultItemSchema(url='https://www.npr.org/2011/02/14/133693152/the-dark-origins-of-valentines-day', title=\"The dark origins of Valentine's Day - NPR\", content=\" 13 Feb 2011  ·  Though no one has pinpointed the exact origin of the holiday, one place to start is ancient Rome. The Romans' celebrations were violent. Enlarge\\xa0... \", query=\"Valentine's Day origins and evolution\"), SearchResultItemSchema(url='https://www.abfrl.com/blog/the-mythical-evolution-of-valentines-day-love-fate-and-folklore/', title=\"The Mythical Evolution of Valentine's Day: Love, Fate, and Folklore\", content=\" 3 days ago  ·  The true origins of Valentine's Day will remain a mystery till the end of time, because there were multiple St. Valentines in Christian history. \", query=\"Valentine's Day origins and evolution\"), SearchResultItemSchema(url='https://www.thepioneerwoman.com/holidays-celebrations/a42348778/valentines-day-history/', title=\"Valentine's Day 2025: Origin and History of the Holiday\", content=\" 10 Jan 2025  ·  The holiday's origin might stem from the ancient pagan festival of Lupercalia, which predated Christianity. \", query=\"Valentine's Day origins and evolution\"), SearchResultItemSchema(url='https://www.nbcwashington.com/entertainment/holidays/history-behind-valentines-day/3824661/', title=\"Valentine's Day 2025: Its dark history and romantic evolution\", content=' 29 Jan 2025  ·  The festival traces back to the 6th century B.C., and according to Roman mythology, it was to honor the Roman fertility god Lupercus and the she\\xa0... ', query=\"Valentine's Day origins and evolution\"), SearchResultItemSchema(url='https://kids.nationalgeographic.com/celebrations/article/valentines-day', title=\"Valentine's Day - National Geographic Kids\", content=' The celebration surrounding this day actually has roots in an ancient pagan festival that started centuries before Valentine was even alive. Held in Rome each\\xa0... ', query=\"Valentine's Day origins and evolution\"), SearchResultItemSchema(url='https://www.countryliving.com/life/a46353/history-of-valentines-day/', title=\"Valentine's Day 2025: Origin and History of the Holiday\", content=' 4 Feb 2025  ·  Valentine is likely based on a combination of two Valentines who were executed on February 14 in different years by Roman Emperor Claudius II in\\xa0... ', query=\"Valentine's Day origins and evolution\"), SearchResultItemSchema(url='https://www.classiccitynews.com/post/the-roman-roots-of-valentine-s-day', title=\"The Roman roots of Valentine's Day - Classic City News\", content=\" It's often speculated that Valentine's Day has its roots in the ancient Roman festival of Lupercalia , and it's not hard to see why. Lupercalia was observed on February 15, and involved fertility rituals — albeit along with animal sacrifice and ritual whipping. \", query=\"The ancient Roman festival of Lupercalia and its connection to Valentine's Day\"), SearchResultItemSchema(url='https://www.history.com/topics/ancient-rome/lupercalia', title=\"Lupercalia: Meaning, Pagan Rituals, Valentine's Day | HISTORY\", content=\" 13 Dec 2017  ·  Lupercalia was an ancient pagan festival held each year in Rome around February 14. It is considered a precursor to Valentine's Day. \", query=\"The ancient Roman festival of Lupercalia and its connection to Valentine's Day\"), SearchResultItemSchema(url='https://www.vindolanda.com/blog/lupercalia', title=\"Lupercalia & its relationship to Valentine's Day - Vindolanda\", content=\" 15 Feb 2021  ·  Lupercalia was originally a pagan festival of fertility and prosperity. Find out here more about its links with the modern Valentine's Day. \", query=\"The ancient Roman festival of Lupercalia and its connection to Valentine's Day\"), SearchResultItemSchema(url='https://www.nbcchicago.com/news/local/why-do-we-celebrate-valentines-day-how-the-holiday-originated-and-more/3674713/', title=\"  Why do we celebrate Valentine's Day? How the holiday originated and more  \", content=\" Why do we celebrate Valentine's Day? How the holiday originated and more \", query=\"The ancient Roman festival of Lupercalia and its connection to Valentine's Day\"), SearchResultItemSchema(url='https://www.interfaithamerica.org/article/lupercalia-imbolc-valentines/', title=\"Lupercalia, Imbolc, and Valentine's Day: The Passionate Season of ...\", content=\" 13 Feb 2024  ·  Some scholars have suggested that Valentine's Day has its roots in the ancient Roman festival of Lupercalia. Celebrated on February 15,\\xa0... \", query=\"The ancient Roman festival of Lupercalia and its connection to Valentine's Day\"), SearchResultItemSchema(url='https://time.com/5527259/valentines-day-lupercalia/', title=\"Valentine's Day Origins and Lupercalia: What's the Link? - Time\", content=' 14 Feb 2019  ·  What is known about Lupercalia is that it started with an act of sacrifice. Priests of the god Lupercus, called the Luperci, would take off\\xa0... ', query=\"The ancient Roman festival of Lupercalia and its connection to Valentine's Day\"), SearchResultItemSchema(url='https://www.cnet.com/culture/valentines-day-2022-history-and-meaning/', title=\"Valentine's Day: The Wild, Pagan History Behind the Romantic ...\", content=\" 10 Feb 2022  ·  Many historians believe the seeds of Valentine's Day were planted in Lupercalia, an ancient Roman festival honoring Juno, the Roman goddess of marriage. \", query=\"The ancient Roman festival of Lupercalia and its connection to Valentine's Day\"), SearchResultItemSchema(url='https://www.britannica.com/topic/Lupercalia', title='Lupercalia | Description, Meaning, Traditions, Date, & Facts', content=' 5 days ago  ·  Lupercalia, ancient Roman festival that was conducted annually on February 15 under the superintendence of a corporation of priests called Luperci. ', query=\"The ancient Roman festival of Lupercalia and its connection to Valentine's Day\"), SearchResultItemSchema(url='https://www.npr.org/2011/02/14/133693152/the-dark-origins-of-valentines-day', title=\"The dark origins of Valentine's Day - NPR\", content=\" 13 Feb 2011  ·  Though no one has pinpointed the exact origin of the holiday, one place to start is ancient Rome. The Romans' celebrations were violent. \", query=\"The ancient Roman festival of Lupercalia and its connection to Valentine's Day\"), SearchResultItemSchema(url='https://en.wikipedia.org/wiki/Lupercalia', title='Lupercalia - Wikipedia', content=' Lupercalia, also known as Lupercal, was a pastoral festival of Ancient Rome observed annually on February 15 to purify the city, promoting health and fertility. ', query=\"The ancient Roman festival of Lupercalia and its connection to Valentine's Day\"), SearchResultItemSchema(url='https://timesofindia.indiatimes.com/life-style/relationships/love-sex/who-was-st-valentine-interesting-facts-about-the-man-who-inspired-valentines-day/articleshow/118257290.cms', title=\"Who was St. Valentine? Interesting facts about the man who inspired Valentine's Day | - The Times of India\", content=\" Valentine's Day, celebrated on February 14, traces its origins to ancient Rome and the festival of Lupercalia.  The holiday evolved over centuries and became associated with Saint Valentine, a Christian priest who performed marriages secretly . Today, it is recognized for its emphasis on love, poetry, and gift-giving. \", query=\"How has Valentine's Day evolved over time?\"), SearchResultItemSchema(url='https://www.illumy.com/evolution-of-valentines-day/', title=\"The Evolution of Valentine's Day - illumy\", content=\" 4 Feb 2024  ·  Valentine's Day can be traced back to the pagan festival of Lupercalia in ancient Rome. The pagan celebration was held annually on February 15th\\xa0... \", query=\"How has Valentine's Day evolved over time?\"), SearchResultItemSchema(url='https://kids.nationalgeographic.com/celebrations/article/valentines-day', title=\"Valentine's Day - National Geographic Kids\", content=' The celebration surrounding this day actually has roots in an ancient pagan festival that started centuries before Valentine was even alive. Held in Rome each\\xa0... ', query=\"How has Valentine's Day evolved over time?\"), SearchResultItemSchema(url='https://chsprowl.org/3811/entertainment/the-evolution-of-valentines-day/', title=\"The Evolution of Valentine's Day - The Prowl\", content=\" 9 Feb 2024  ·  From a festival about fertility to a feast to honor a saint, Valentine's Day's meaning has evolved over thousands of years. \", query=\"How has Valentine's Day evolved over time?\"), SearchResultItemSchema(url='https://en.wikipedia.org/wiki/Valentine%27s_Day', title=\"Valentine's Day - Wikipedia\", content=' It originated as a Christian feast day honoring a martyr named Valentine, and through later folk traditions it has also become a significant cultural, religious\\xa0... ', query=\"How has Valentine's Day evolved over time?\"), SearchResultItemSchema(url='https://www.abfrl.com/blog/the-mythical-evolution-of-valentines-day-love-fate-and-folklore/', title=\"The Mythical Evolution of Valentine's Day: Love, Fate, and Folklore\", content=\" 3 days ago  ·  From ancient Roman rituals to medieval poetry and the modern era of grand romantic gestures, Valentine's Day has stood the test of time. \", query=\"How has Valentine's Day evolved over time?\"), SearchResultItemSchema(url='https://www.britannica.com/topic/Valentines-Day', title=\"Valentine's Day | Definition, History, & Traditions | Britannica\", content=' 6 Feb 2025  ·  Given their similarities, it has been suggested that the holiday has origins in the Roman festival of Lupercalia, held in mid-February. The\\xa0... ', query=\"How has Valentine's Day evolved over time?\"), SearchResultItemSchema(url='https://luxuryvalentinesday.com/evolution-of-valentines-day-traditions/', title=\"Evolution of Valentine's Day: Tracing the Change in Traditions\", content=\" Yes, Valentine's Day continues to evolve. Its transformation is driven by cultural shifts, technological advancements, and global influences. The way\\xa0... \", query=\"How has Valentine's Day evolved over time?\"), SearchResultItemSchema(url='https://www.history.com/topics/valentines-day/history-of-valentines-day-2', title=\"Valentine's Day 2025: Origins, Background & Traditions | HISTORY\", content=\" 22 Dec 2009  ·  Find out about the meaning and history of Valentine's Day, from the ancient Roman ritual of Lupercalia that welcomed spring to the card-giving customs of\\xa0... \", query=\"How has Valentine's Day evolved over time?\"), SearchResultItemSchema(url='https://www.calmdigital.com/how-valentines-day-marketing-has-evolved-over-years/', title=\"How Valentine's Day Marketing Has Evolved Over the Years\", content=\" 5 Feb 2024  ·  Valentine's Day has evolved massively since its conception a millennium ago. Trends have changed, and consumer purchasing habits have changed, as has the world\\xa0... \", query=\"How has Valentine's Day evolved over time?\")])"
            ]
          },
          "metadata": {},
          "execution_count": 12
        }
      ]
    },
    {
      "cell_type": "markdown",
      "source": [
        "# Building an output agent"
      ],
      "metadata": {
        "id": "udbgamaAu6I0"
      }
    },
    {
      "cell_type": "code",
      "source": [
        "import os\n",
        "from atomic_agents.lib.components.system_prompt_generator import SystemPromptGenerator\n",
        "\n",
        "\n",
        "\n",
        "################\n",
        "# Output SCHEMA #\n",
        "################\n",
        "class InfomationSummaryAgentOutputSchema(BaseIOSchema):\n",
        "    \"\"\"\n",
        "    Schema for Output of Search query finder agent\n",
        "    \"\"\"\n",
        "\n",
        "    markdown_summary: str = Field(..., description=\"The summary if the information in markdown format.\")\n",
        "    followup_questions: List[str] = Field(\n",
        "        ..., max_items=3, description=\"A list of up to 3 follow-up questions related to the answer.\"\n",
        "    )\n",
        "\n",
        "###################\n",
        "# Build the agent #\n",
        "###################\n",
        "\n",
        "summary_agent = BaseAgent(\n",
        "    config=BaseAgentConfig(\n",
        "        client=client,\n",
        "        system_prompt_generator=SystemPromptGenerator(\n",
        "            background=[\n",
        "               'You are an research expert',\n",
        "               'Your task is to provide accurate answers to user questions based on the given context.'\n",
        "            ],\n",
        "            steps=[\n",
        "                'You will receive information from various internet searches in JSON format.',\n",
        "                \"You will receive content, titles and urls.\",\n",
        "                \"Summarize the information.\"\n",
        "\n",
        "            ],\n",
        "            output_instructions=[\n",
        "                \"Use different sections with a compelling title for the content.\"\n",
        "                \"Ensure clarity and conciseness of the output.\",\n",
        "                \"Ensure to remain all relevant information in the output.\",\n",
        "                \"Ensure the response is a casual and easy to understand and informative text.\",\n",
        "                \"Ensure the output is formated in Markup language\",\n",
        "                \"Provide up to 3 follow-up questions to encourage further exploration of the topic.\"\n",
        "\n",
        "            ]\n",
        "        ),\n",
        "        input_schema=GoogleSearchToolOutputSchema,\n",
        "        output_schema=InfomationSummaryAgentOutputSchema,\n",
        "        model=modelid,\n",
        "        memory=memory,\n",
        "    )\n",
        ")\n",
        "\n",
        "summary_agent.system_prompt_generator.generate_prompt()"
      ],
      "metadata": {
        "colab": {
          "base_uri": "https://localhost:8080/",
          "height": 87
        },
        "outputId": "46612875-e176-40ee-c318-b29ba3138d06",
        "id": "8jBycNfau5aG"
      },
      "execution_count": 17,
      "outputs": [
        {
          "output_type": "execute_result",
          "data": {
            "text/plain": [
              "'# IDENTITY and PURPOSE\\n- You are an research expert\\n- Your task is to provide accurate answers to user questions based on the given context.\\n\\n# INTERNAL ASSISTANT STEPS\\n- You will receive information from various internet searches in JSON format.\\n- You will receive content, titles and urls.\\n- Summarize the information.\\n\\n# OUTPUT INSTRUCTIONS\\n- Use different sections with a compelling title for the content.Ensure clarity and conciseness of the output.\\n- Ensure to remain all relevant information in the output.\\n- Ensure the response is a casual and easy to understand and informative text.\\n- Ensure the output is formated in Markup language\\n- Provide up to 3 follow-up questions to encourage further exploration of the topic.\\n- Always respond using the proper JSON schema.\\n- Always use the available additional information and context to enhance the response.'"
            ],
            "application/vnd.google.colaboratory.intrinsic+json": {
              "type": "string"
            }
          },
          "metadata": {},
          "execution_count": 17
        }
      ]
    },
    {
      "cell_type": "code",
      "source": [
        "output=summary_agent.run(search_results)"
      ],
      "metadata": {
        "id": "LusxniyEwjU6"
      },
      "execution_count": 18,
      "outputs": []
    },
    {
      "cell_type": "code",
      "source": [
        "print( output.markdown_summary)\n",
        "print (output.followup_questions)"
      ],
      "metadata": {
        "id": "6aJLnn3U21Kl",
        "outputId": "33df725a-22b7-4ea9-800f-745ed2046ff4",
        "colab": {
          "base_uri": "https://localhost:8080/"
        }
      },
      "execution_count": 22,
      "outputs": [
        {
          "output_type": "stream",
          "name": "stdout",
          "text": [
            "Valentine's Day has evolved significantly over time, from its origins in ancient Roman rituals to modern-day celebrations. The holiday has undergone changes in traditions, marketing, and consumer purchasing habits. It has become a significant cultural and religious celebration, honoring love, poetry, and gift-giving.\n",
            "[\"What are some traditional Valentine's Day gifts?\", \"How has Valentine's Day evolved over time?\", \"What is the history behind the origins of Valentine's Day?\"]\n"
          ]
        }
      ]
    },
    {
      "cell_type": "code",
      "source": [],
      "metadata": {
        "id": "YkaTeOcP3HHu"
      },
      "execution_count": null,
      "outputs": []
    }
  ]
}