{
  "nbformat": 4,
  "nbformat_minor": 0,
  "metadata": {
    "colab": {
      "provenance": [],
      "authorship_tag": "ABX9TyNjCPKfUjPlDfEIwWud6Z84",
      "include_colab_link": true
    },
    "kernelspec": {
      "name": "python3",
      "display_name": "Python 3"
    },
    "language_info": {
      "name": "python"
    }
  },
  "cells": [
    {
      "cell_type": "markdown",
      "metadata": {
        "id": "view-in-github",
        "colab_type": "text"
      },
      "source": [
        "<a href=\"https://colab.research.google.com/github/ebamberg/research-projects-ml/blob/main/agents_and_routing/examples_agents_with_crewAI.ipynb\" target=\"_parent\"><img src=\"https://colab.research.google.com/assets/colab-badge.svg\" alt=\"Open In Colab\"/></a>"
      ]
    },
    {
      "cell_type": "code",
      "execution_count": null,
      "metadata": {
        "id": "FuU2lTzIwHcB",
        "colab": {
          "base_uri": "https://localhost:8080/"
        },
        "outputId": "89a6eb66-56ba-48d9-f751-b21d056c1358"
      },
      "outputs": [
        {
          "output_type": "stream",
          "name": "stdout",
          "text": [
            "\u001b[2K   \u001b[90m━━━━━━━━━━━━━━━━━━━━━━━━━━━━━━━━━━━━━━━━\u001b[0m \u001b[32m2.5/2.5 MB\u001b[0m \u001b[31m29.5 MB/s\u001b[0m eta \u001b[36m0:00:00\u001b[0m\n",
            "\u001b[2K   \u001b[90m━━━━━━━━━━━━━━━━━━━━━━━━━━━━━━━━━━━━━━━━\u001b[0m \u001b[32m1.0/1.0 MB\u001b[0m \u001b[31m32.8 MB/s\u001b[0m eta \u001b[36m0:00:00\u001b[0m\n",
            "\u001b[2K   \u001b[90m━━━━━━━━━━━━━━━━━━━━━━━━━━━━━━━━━━━━━━━━\u001b[0m \u001b[32m412.4/412.4 kB\u001b[0m \u001b[31m15.1 MB/s\u001b[0m eta \u001b[36m0:00:00\u001b[0m\n",
            "\u001b[2K   \u001b[90m━━━━━━━━━━━━━━━━━━━━━━━━━━━━━━━━━━━━━━━━\u001b[0m \u001b[32m50.8/50.8 kB\u001b[0m \u001b[31m2.4 MB/s\u001b[0m eta \u001b[36m0:00:00\u001b[0m\n",
            "\u001b[?25h"
          ]
        }
      ],
      "source": [
        "!pip install ollama langchain_community --quiet\n",
        "\n",
        "modelid=\"llama3.1\"\n",
        "emb_modelid=\"mxbai-embed-large\"\n",
        "\n",
        "get_ipython().system_raw(\"curl -fsSL https://ollama.com/install.sh | sh\")\n",
        "get_ipython().system_raw(\"ollama serve &\")\n",
        "get_ipython().system_raw(f\"ollama pull {modelid}\")\n",
        "get_ipython().system_raw(f\"ollama pull {emb_modelid}\")"
      ]
    },
    {
      "cell_type": "code",
      "source": [
        "!pip install pyngrok\n",
        "from pyngrok import ngrok\n",
        "from google.colab import userdata\n",
        "\n",
        "ngrok.kill()\n",
        "NGROK_AUTH_TOKEN = userdata.get('NGROK_AUTH_TOKEN')\n",
        "ngrok.set_auth_token(NGROK_AUTH_TOKEN)\n",
        "ngrok_tunnel = ngrok.connect(addr=\"11434\", proto=\"http\", bind_tls=True, host_header=\"localhost:11434\" )\n",
        "print(\"OLLama URL:\", ngrok_tunnel.public_url)\n",
        "\n",
        "llama_url = ngrok_tunnel.public_url\n"
      ],
      "metadata": {
        "id": "zBFcuJYlNFzW"
      },
      "execution_count": null,
      "outputs": []
    },
    {
      "cell_type": "markdown",
      "source": [
        "## CrewAI - simple agent\n"
      ],
      "metadata": {
        "id": "08OtqKIrwq-U"
      }
    },
    {
      "cell_type": "code",
      "source": [
        "!pip install crewai crewai-tools --quiet"
      ],
      "metadata": {
        "id": "NQXFABYLwwIZ"
      },
      "execution_count": null,
      "outputs": []
    },
    {
      "cell_type": "markdown",
      "source": [
        "First we need to create a LLM objects that represents the LLM we are going to use.\n",
        "We are using a OLLAMA instance  in this example."
      ],
      "metadata": {
        "id": "gTRs40sddeAI"
      }
    },
    {
      "cell_type": "code",
      "source": [
        "from crewai import LLM\n",
        "\n",
        "llm = LLM (model=f\"ollama/{modelid}\",\n",
        "          base_url=\"http://localhost:11434\")"
      ],
      "metadata": {
        "id": "9Yebbw8odCyl"
      },
      "execution_count": null,
      "outputs": []
    },
    {
      "cell_type": "code",
      "source": [
        "# src/latest_ai_development/crew.py\n",
        "from crewai import Agent, Crew, Process, Task\n",
        "from crewai.project import CrewBase, agent, crew, task\n",
        "from crewai_tools import SerperDevTool\n",
        "\n",
        "@CrewBase\n",
        "class  MyTestCrew():\n",
        "  \"\"\" Crew to test CrewAI\"\"\"\n",
        "\n",
        "  @agent\n",
        "  def researcher(self) -> Agent:\n",
        "     return Agent (\n",
        "         role=\"{topic} Senior Data Researcher\",\n",
        "         goal=\"Uncover cutting-edge developments in {topic}\",\n",
        "         backstory=\"You're a researcher for latest development in {topic}. You are presenting information in a clear and consise manner.\",\n",
        "         verbose=True\n",
        "     )\n",
        "\n",
        "  @agent\n",
        "  def meeting_scheduler(self) -> Agent:\n",
        "    return Agent (\n",
        "         role=\"{topic} Senior Project Manager\",\n",
        "         goal=\"Create a list of topic points for a meeting to discuss {topic}\",\n",
        "         backstory=\"You're a Project Manager who is focussed on the most relevant details. Your are presenting the topics in a clear and short manner to your team members\",\n",
        "         verbose=True\n",
        "    )\n",
        "\n",
        "  @task\n",
        "  def research_task(self) -> Task:\n",
        "    return Task(\n",
        "        agent=\"researcher\",\n",
        "        description=\"Conduct a thorough research about {topic}\",\n",
        "        expected_output=\"A list with 10 bullet points of the most relevant information about {topic}\",\n",
        "    )\n",
        "\n",
        "  @task\n",
        "  def reporting_task(self) -> Task:\n",
        "    return Task(\n",
        "      agent=\"meeting_scheduler\",\n",
        "      description=\"Review the context you got and expand each topic into a full section for a report. Make sure the report is detailed and contains any and all relevant information.\",\n",
        "      expected_output=\"A fully fledge reports with the mains topics. Formatted as markdown without '```'\",\n",
        "      output_file='output/report.md' # This is the file that will be contain the final report.\n",
        "    )\n",
        "\n",
        "  @after_kickoff\n",
        "  def after_kickoff_function(self, result):\n",
        "    print(f\"After kickoff function with result: {result}\")\n",
        "    return result # You can return the result or modify it as needed\n",
        "\n",
        "\n",
        "  @crew\n",
        "  def crew(self) ->Crew:\n",
        "      \"\"\" detects methode that have the @agent and @task decorator\n",
        "        and creates a crew object with all the agents and tasks\n",
        "      \"\"\"\n",
        "      return Crew(\n",
        "          agents=self.agents, # automatic detects factory methods with @agent decorator\n",
        "          tasks=self.taks, # automatic detects factory methods with @task decorator\n",
        "          process = Process.sequential,\n",
        "          verbose=True,\n",
        "      )"
      ],
      "metadata": {
        "id": "ngX8RmOPQNFq"
      },
      "execution_count": null,
      "outputs": []
    },
    {
      "cell_type": "markdown",
      "source": [
        "Now we can kickoff our Crew"
      ],
      "metadata": {
        "id": "dqBpY7sVhnQc"
      }
    },
    {
      "cell_type": "code",
      "source": [
        "inputs = {\n",
        "    'topic': 'AI Agents'\n",
        "  }\n",
        "MyTestCrew().crew().kickoff(inputs=inputs)"
      ],
      "metadata": {
        "id": "KD18aaGshmh0"
      },
      "execution_count": null,
      "outputs": []
    }
  ]
}