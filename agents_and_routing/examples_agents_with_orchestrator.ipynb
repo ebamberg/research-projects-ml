{
  "nbformat": 4,
  "nbformat_minor": 0,
  "metadata": {
    "colab": {
      "provenance": [],
      "gpuType": "T4",
      "authorship_tag": "ABX9TyOxLIExG0+7rYgCrLKdLdJj",
      "include_colab_link": true
    },
    "kernelspec": {
      "name": "python3",
      "display_name": "Python 3"
    },
    "language_info": {
      "name": "python"
    },
    "accelerator": "GPU"
  },
  "cells": [
    {
      "cell_type": "markdown",
      "metadata": {
        "id": "view-in-github",
        "colab_type": "text"
      },
      "source": [
        "<a href=\"https://colab.research.google.com/github/ebamberg/research-projects-ml/blob/main/agents_and_routing/examples_agents_with_orchestrator.ipynb\" target=\"_parent\"><img src=\"https://colab.research.google.com/assets/colab-badge.svg\" alt=\"Open In Colab\"/></a>"
      ]
    },
    {
      "cell_type": "markdown",
      "source": [],
      "metadata": {
        "id": "ittnx9TnwT_y"
      }
    },
    {
      "cell_type": "code",
      "execution_count": 1,
      "metadata": {
        "id": "GCm0uJVC9jvj"
      },
      "outputs": [],
      "source": [
        "!pip install ollama langchain_community --quiet\n",
        "\n",
        "host=\"localhost:11434\"\n",
        "modelid=\"chevalblanc/gpt-4o-mini\"\n",
        "\n",
        "get_ipython().system_raw(\"curl -fsSL https://ollama.com/install.sh | sh\")\n",
        "get_ipython().system_raw(\"ollama serve &\")\n",
        "get_ipython().system_raw(f\"ollama pull {modelid}\")\n"
      ]
    },
    {
      "cell_type": "code",
      "source": [
        "!pip install openai --quiet"
      ],
      "metadata": {
        "id": "VMom2AWiyAdg"
      },
      "execution_count": 2,
      "outputs": []
    },
    {
      "cell_type": "code",
      "source": [
        "get_ipython().system_raw(f\"ollama pull {modelid}\")"
      ],
      "metadata": {
        "id": "z_AAjjHozJOM"
      },
      "execution_count": 3,
      "outputs": []
    },
    {
      "cell_type": "code",
      "source": [
        "from openai import OpenAI\n",
        "\n",
        "\n",
        "llm = OpenAI(\n",
        "        base_url=f\"http://{host}/v1\",\n",
        "        api_key=\"ollama\",  # required, but unused\n",
        "    )\n",
        "\n",
        "\n"
      ],
      "metadata": {
        "id": "yHCElQFQb2XR"
      },
      "execution_count": 4,
      "outputs": []
    },
    {
      "cell_type": "code",
      "source": [
        "from pydantic import Field, BaseModel\n",
        "\n",
        "class Response(BaseModel):\n",
        "   action: str = Field(description=\"the agent to select or \\\"respond_to_user\\\" when there are no agents to select from or there is no next_action\")\n",
        "   input: str = Field(description=\"the input for this agent\")\n",
        "   next_action: str = Field(description=\"next action after this action step\")\n"
      ],
      "metadata": {
        "id": "fNNr0Nek7EkJ"
      },
      "execution_count": 5,
      "outputs": []
    },
    {
      "cell_type": "code",
      "source": [
        "def call(system_prompt: str, message: str, model: str = modelid ) -> str:\n",
        "  completion = llm.chat.completions.parse(\n",
        "      model=modelid,\n",
        "      messages=[\n",
        "          {\"role\": \"system\", \"content\": system_prompt},\n",
        "          {\n",
        "              \"role\": \"user\",\n",
        "              \"content\": message,\n",
        "          },\n",
        "      ],\n",
        "      response_format=Response\n",
        "  )\n",
        "\n",
        "  return completion.choices[0].message.parsed"
      ],
      "metadata": {
        "id": "YkaTeOcP3HHu"
      },
      "execution_count": 7,
      "outputs": []
    },
    {
      "cell_type": "code",
      "source": [
        "def orchestrator(userinput: str, memory: list[str] = []) -> Response:\n",
        "\n",
        "\n",
        "  prompt = \"\"\"\n",
        "                Use the context from memory to plan next steps.\n",
        "                Context:\n",
        "                {context}\n",
        "\n",
        "                You need will use the context provided and the user's input to classify the intent select the appropriate agent.\n",
        "                You will rewrite the input for the agent so that the agent can efficiently execute the task.\n",
        "\n",
        "                Here are the available agents and their descriptions and input schema:\n",
        "\n",
        "               current_time_agent - Provides the current time for a given city's timezone like Asia/Kolkata, America/New_York etc. If no timezone is provided, it returns the local time.\n",
        "               weather_agent - Provides the current weather for a given city.\n",
        "\n",
        "                User Input:\n",
        "                {userinput}\n",
        "\n",
        "                ###Guidelines###\n",
        "                - Sometimes you might have to use multiple agent's to solve user's input. You have to do that in a loop.\n",
        "                - The original userinput could have multiple tasks, you will use the context to understand the previous actions taken and the next steps you should take.\n",
        "                - Read the context, take your time to understand, see if there were many tasks and if you executed them all\n",
        "                - If there are no actions to be taken, then make the action \"respond_to_user\" with your final thoughts combining all previous responses as input.\n",
        "                - Respond with action \"respond_to_user\" only when there are no agents to select from or there is no next_action\n",
        "\n",
        "\n",
        "  \"\"\"\n",
        "\n",
        "  for i in range (0,5):\n",
        "\n",
        "    step = call (\"You are an expert intent classifier.\", prompt.format(userinput=userinput,context=\"\\n\".join(memory)))\n",
        "    print (step)\n",
        "\n",
        "    if step.action == \"current_time_agent\":\n",
        "      memory.append(\"Response from agent was: the current time is 10:00 am\")\n",
        "    if step.action == \"schedule_agent\":\n",
        "      return orchestrator(step.input)\n",
        "    if step.action == \"weather_agent\":\n",
        "      memory.append(\"Response from agent was: The weather in New York is sunny width 39 degress\")\n",
        "    if step.action == \"respond_to_user\":\n",
        "      return step.input\n",
        ""
      ],
      "metadata": {
        "id": "i8hJ06IPVj6s"
      },
      "execution_count": 9,
      "outputs": []
    },
    {
      "cell_type": "code",
      "source": [
        "result = orchestrator (\"What is the current time and weather in New York ?\")\n",
        "result"
      ],
      "metadata": {
        "colab": {
          "base_uri": "https://localhost:8080/",
          "height": 329
        },
        "id": "oTA5eVs7yEa4",
        "outputId": "ee936be9-59bf-4413-9b95-a4dff96da77e"
      },
      "execution_count": 10,
      "outputs": [
        {
          "output_type": "stream",
          "name": "stdout",
          "text": [
            "agent_name='current_time_agent' input='<start of conversation>' next_action='send_agent_input'\n"
          ]
        },
        {
          "output_type": "error",
          "ename": "AttributeError",
          "evalue": "'Response' object has no attribute 'action'",
          "traceback": [
            "\u001b[0;31m---------------------------------------------------------------------------\u001b[0m",
            "\u001b[0;31mAttributeError\u001b[0m                            Traceback (most recent call last)",
            "\u001b[0;32m/tmp/ipython-input-1362523912.py\u001b[0m in \u001b[0;36m<cell line: 0>\u001b[0;34m()\u001b[0m\n\u001b[0;32m----> 1\u001b[0;31m \u001b[0mresult\u001b[0m \u001b[0;34m=\u001b[0m \u001b[0morchestrator\u001b[0m \u001b[0;34m(\u001b[0m\u001b[0;34m\"What is the current time and weather in New York ?\"\u001b[0m\u001b[0;34m)\u001b[0m\u001b[0;34m\u001b[0m\u001b[0;34m\u001b[0m\u001b[0m\n\u001b[0m\u001b[1;32m      2\u001b[0m \u001b[0mresult\u001b[0m\u001b[0;34m\u001b[0m\u001b[0;34m\u001b[0m\u001b[0m\n",
            "\u001b[0;32m/tmp/ipython-input-2653127545.py\u001b[0m in \u001b[0;36morchestrator\u001b[0;34m(userinput, memory)\u001b[0m\n\u001b[1;32m     33\u001b[0m     \u001b[0mprint\u001b[0m \u001b[0;34m(\u001b[0m\u001b[0mstep\u001b[0m\u001b[0;34m)\u001b[0m\u001b[0;34m\u001b[0m\u001b[0;34m\u001b[0m\u001b[0m\n\u001b[1;32m     34\u001b[0m \u001b[0;34m\u001b[0m\u001b[0m\n\u001b[0;32m---> 35\u001b[0;31m     \u001b[0;32mif\u001b[0m \u001b[0mstep\u001b[0m\u001b[0;34m.\u001b[0m\u001b[0maction\u001b[0m \u001b[0;34m==\u001b[0m \u001b[0;34m\"current_time_agent\"\u001b[0m\u001b[0;34m:\u001b[0m\u001b[0;34m\u001b[0m\u001b[0;34m\u001b[0m\u001b[0m\n\u001b[0m\u001b[1;32m     36\u001b[0m       \u001b[0mmemory\u001b[0m\u001b[0;34m.\u001b[0m\u001b[0mappend\u001b[0m\u001b[0;34m(\u001b[0m\u001b[0;34m\"the current time is 10:00 am\"\u001b[0m\u001b[0;34m)\u001b[0m\u001b[0;34m\u001b[0m\u001b[0;34m\u001b[0m\u001b[0m\n\u001b[1;32m     37\u001b[0m     \u001b[0;32mif\u001b[0m \u001b[0mstep\u001b[0m\u001b[0;34m.\u001b[0m\u001b[0maction\u001b[0m \u001b[0;34m==\u001b[0m \u001b[0;34m\"schedule_agent\"\u001b[0m\u001b[0;34m:\u001b[0m\u001b[0;34m\u001b[0m\u001b[0;34m\u001b[0m\u001b[0m\n",
            "\u001b[0;32m/usr/local/lib/python3.11/dist-packages/pydantic/main.py\u001b[0m in \u001b[0;36m__getattr__\u001b[0;34m(self, item)\u001b[0m\n\u001b[1;32m    989\u001b[0m                     \u001b[0;32melse\u001b[0m\u001b[0;34m:\u001b[0m\u001b[0;34m\u001b[0m\u001b[0;34m\u001b[0m\u001b[0m\n\u001b[1;32m    990\u001b[0m                         \u001b[0;31m# this is the current error\u001b[0m\u001b[0;34m\u001b[0m\u001b[0;34m\u001b[0m\u001b[0m\n\u001b[0;32m--> 991\u001b[0;31m                         \u001b[0;32mraise\u001b[0m \u001b[0mAttributeError\u001b[0m\u001b[0;34m(\u001b[0m\u001b[0;34mf'{type(self).__name__!r} object has no attribute {item!r}'\u001b[0m\u001b[0;34m)\u001b[0m\u001b[0;34m\u001b[0m\u001b[0;34m\u001b[0m\u001b[0m\n\u001b[0m\u001b[1;32m    992\u001b[0m \u001b[0;34m\u001b[0m\u001b[0m\n\u001b[1;32m    993\u001b[0m         \u001b[0;32mdef\u001b[0m \u001b[0m__setattr__\u001b[0m\u001b[0;34m(\u001b[0m\u001b[0mself\u001b[0m\u001b[0;34m,\u001b[0m \u001b[0mname\u001b[0m\u001b[0;34m:\u001b[0m \u001b[0mstr\u001b[0m\u001b[0;34m,\u001b[0m \u001b[0mvalue\u001b[0m\u001b[0;34m:\u001b[0m \u001b[0mAny\u001b[0m\u001b[0;34m)\u001b[0m \u001b[0;34m->\u001b[0m \u001b[0;32mNone\u001b[0m\u001b[0;34m:\u001b[0m\u001b[0;34m\u001b[0m\u001b[0;34m\u001b[0m\u001b[0m\n",
            "\u001b[0;31mAttributeError\u001b[0m: 'Response' object has no attribute 'action'"
          ]
        }
      ]
    },
    {
      "cell_type": "code",
      "source": [
        "result = orchestrator (\"Please schedule a date in my calendar starting in 1 hour.\")\n",
        "result"
      ],
      "metadata": {
        "id": "XTAnKLNOt6jM"
      },
      "execution_count": null,
      "outputs": []
    },
    {
      "cell_type": "markdown",
      "source": [
        "\n",
        "\n",
        "\n",
        "\n",
        "\n",
        "\n",
        "\n",
        "\n",
        "\n",
        "\n",
        "\n",
        "A Draft for a first version that used text instead of structured outputs\n",
        "\n",
        "\n",
        "\n"
      ],
      "metadata": {
        "id": "UoM2H_iUxnzJ"
      }
    },
    {
      "cell_type": "code",
      "source": [
        "def orchestrator_text_based(userinput: str) -> str:\n",
        "\n",
        "  response_format = {\"action\":\"\", \"input\":\"\", \"next_action\":\"\"}\n",
        "\n",
        "  prompt = \"\"\"\n",
        "                Use the context from memory to plan next steps.\n",
        "                Context:\n",
        "                []\n",
        "\n",
        "                You are an expert intent classifier.\n",
        "                You need will use the context provided and the user's input to classify the intent select the appropriate agent.\n",
        "                You will rewrite the input for the agent so that the agent can efficiently execute the task.\n",
        "\n",
        "                Here are the available agents and their descriptions:\n",
        "\n",
        "               time_tool_agent - Provides the current time for a given city's timezone like Asia/Kolkata, America/New_York etc. If no timezone is provided, it returns the local time.\n",
        "               calendar_agent - Checks your calendar or schedules a date in your calendar at a given time\n",
        "\n",
        "                User Input:\n",
        "                {userinput}\n",
        "\n",
        "                ###Guidelines###\n",
        "                - Sometimes you might have to use multiple agent's to solve user's input. You have to do that in a loop.\n",
        "                - The original userinput could have multiple tasks, you will use the context to understand the previous actions taken and the next steps you should take.\n",
        "                - Read the context, take your time to understand, see if there were many tasks and if you executed them all\n",
        "                - If there are no actions to be taken, then make the action \"respond_to_user\" with your final thoughts combining all previous responses as input.\n",
        "                - Respond with \"respond_to_user\" only when there are no agents to select from or there is no next_action\n",
        "                - You will return the agent name in the form of {response_format}\n",
        "                - Always return valid JSON like {response_format} and nothing else.\n",
        "  \"\"\"\n",
        "  return call (\"You are an expert intent classifier.\", prompt.format(userinput=userinput, response_format=response_format))"
      ],
      "metadata": {
        "id": "Jcq1kI4bpcR_"
      },
      "execution_count": null,
      "outputs": []
    }
  ]
}