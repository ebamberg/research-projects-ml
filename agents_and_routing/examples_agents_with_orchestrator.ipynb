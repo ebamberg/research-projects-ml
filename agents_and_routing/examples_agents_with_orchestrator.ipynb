{
  "nbformat": 4,
  "nbformat_minor": 0,
  "metadata": {
    "colab": {
      "provenance": [],
      "gpuType": "T4",
      "authorship_tag": "ABX9TyPVH4QJlPJGiuo1TqEuMNhV",
      "include_colab_link": true
    },
    "kernelspec": {
      "name": "python3",
      "display_name": "Python 3"
    },
    "language_info": {
      "name": "python"
    },
    "accelerator": "GPU"
  },
  "cells": [
    {
      "cell_type": "markdown",
      "metadata": {
        "id": "view-in-github",
        "colab_type": "text"
      },
      "source": [
        "<a href=\"https://colab.research.google.com/github/ebamberg/research-projects-ml/blob/main/agents_and_routing/examples_agents_with_orchestrator.ipynb\" target=\"_parent\"><img src=\"https://colab.research.google.com/assets/colab-badge.svg\" alt=\"Open In Colab\"/></a>"
      ]
    },
    {
      "cell_type": "markdown",
      "source": [],
      "metadata": {
        "id": "ittnx9TnwT_y"
      }
    },
    {
      "cell_type": "code",
      "execution_count": 1,
      "metadata": {
        "id": "GCm0uJVC9jvj",
        "colab": {
          "base_uri": "https://localhost:8080/"
        },
        "outputId": "b10e9ebd-a054-4490-abb1-550c8dddef00"
      },
      "outputs": [
        {
          "output_type": "stream",
          "name": "stdout",
          "text": [
            "\u001b[2K   \u001b[90m━━━━━━━━━━━━━━━━━━━━━━━━━━━━━━━━━━━━━━━━\u001b[0m \u001b[32m2.5/2.5 MB\u001b[0m \u001b[31m25.0 MB/s\u001b[0m eta \u001b[36m0:00:00\u001b[0m\n",
            "\u001b[2K   \u001b[90m━━━━━━━━━━━━━━━━━━━━━━━━━━━━━━━━━━━━━━━━\u001b[0m \u001b[32m45.2/45.2 kB\u001b[0m \u001b[31m3.1 MB/s\u001b[0m eta \u001b[36m0:00:00\u001b[0m\n",
            "\u001b[2K   \u001b[90m━━━━━━━━━━━━━━━━━━━━━━━━━━━━━━━━━━━━━━━━\u001b[0m \u001b[32m50.9/50.9 kB\u001b[0m \u001b[31m2.9 MB/s\u001b[0m eta \u001b[36m0:00:00\u001b[0m\n",
            "\u001b[?25h"
          ]
        }
      ],
      "source": [
        "!pip install ollama langchain_community --quiet\n",
        "\n",
        "host=\"localhost:11434\"\n",
        "modelid=\"chevalblanc/gpt-4o-mini\"\n",
        "\n",
        "get_ipython().system_raw(\"curl -fsSL https://ollama.com/install.sh | sh\")\n",
        "get_ipython().system_raw(\"ollama serve &\")\n",
        "get_ipython().system_raw(f\"ollama pull {modelid}\")\n"
      ]
    },
    {
      "cell_type": "code",
      "source": [
        "!pip install openai --quiet"
      ],
      "metadata": {
        "id": "VMom2AWiyAdg"
      },
      "execution_count": 2,
      "outputs": []
    },
    {
      "cell_type": "code",
      "source": [
        "get_ipython().system_raw(f\"ollama pull {modelid}\")"
      ],
      "metadata": {
        "id": "z_AAjjHozJOM"
      },
      "execution_count": 3,
      "outputs": []
    },
    {
      "cell_type": "code",
      "source": [
        "from openai import OpenAI\n",
        "\n",
        "\n",
        "llm = OpenAI(\n",
        "        base_url=f\"http://{host}/v1\",\n",
        "        api_key=\"ollama\",  # required, but unused\n",
        "    )\n",
        "\n",
        "\n"
      ],
      "metadata": {
        "id": "yHCElQFQb2XR"
      },
      "execution_count": 4,
      "outputs": []
    },
    {
      "cell_type": "code",
      "source": [
        "from pydantic import Field, BaseModel\n",
        "\n",
        "class Response(BaseModel):\n",
        "   agent_name: str = Field(description=\"the agent to select or \\\"respond_to_user\\\" when there are no agents to select from or there is no next_action\")\n",
        "   input: str = Field(description=\"the input for this agent\")\n",
        "   next_action: str = Field(description=\"next action after this action step\")\n"
      ],
      "metadata": {
        "id": "fNNr0Nek7EkJ"
      },
      "execution_count": 5,
      "outputs": []
    },
    {
      "cell_type": "code",
      "source": [
        "def call(system_prompt: str, message: str, model: str = modelid ) -> str:\n",
        "  completion = llm.chat.completions.parse(\n",
        "      model=modelid,\n",
        "      messages=[\n",
        "          {\"role\": \"system\", \"content\": system_prompt},\n",
        "          {\n",
        "              \"role\": \"user\",\n",
        "              \"content\": message,\n",
        "          },\n",
        "      ],\n",
        "      response_format=Response\n",
        "  )\n",
        "\n",
        "  return completion.choices[0].message.parsed"
      ],
      "metadata": {
        "id": "YkaTeOcP3HHu"
      },
      "execution_count": 6,
      "outputs": []
    },
    {
      "cell_type": "code",
      "source": [
        "def orchestrator(userinput: str, memory: list[str] = []) -> Response:\n",
        "\n",
        "\n",
        "  prompt = \"\"\"\n",
        "                Use the context from memory to plan next steps.\n",
        "                Context:\n",
        "                {\"\\n\".join(memory)}\n",
        "\n",
        "                You need will use the context provided and the user's input to classify the intent select the appropriate agent.\n",
        "                You will rewrite the input for the agent so that the agent can efficiently execute the task.\n",
        "\n",
        "                Here are the available agents and their descriptions and input schema:\n",
        "\n",
        "               current_time_agent - Provides the current time for a given city's timezone like Asia/Kolkata, America/New_York etc. If no timezone is provided, it returns the local time.\n",
        "               schedule_agent - schedules a date in calendar at a provided time in the users timezone.\n",
        "               weather_agent - Provides the current weather for a given city.\n",
        "\n",
        "                User Input:\n",
        "                {userinput}\n",
        "\n",
        "                ###Guidelines###\n",
        "                - Sometimes you might have to use multiple agent's to solve user's input. You have to do that in a loop.\n",
        "                - The original userinput could have multiple tasks, you will use the context to understand the previous actions taken and the next steps you should take.\n",
        "                - Read the context, take your time to understand, see if there were many tasks and if you executed them all\n",
        "                - If there are no actions to be taken, then make the action \"respond_to_user\" with your final thoughts combining all previous responses as input.\n",
        "                - Respond with action \"respond_to_user\" only when there are no agents to select from or there is no next_action\n",
        "\n",
        "\n",
        "  \"\"\"\n",
        "\n",
        "  while True:\n",
        "    step = call (\"You are an expert intent classifier.\", prompt.format(userinput=userinput,memory=memory))\n",
        "\n",
        "    if step.agent_name == \"current_time_agent\":\n",
        "      memory.append(\"the current time is 10am\")\n",
        "    if step.agent_name == \"schedule_agent\":\n",
        "      return orchestrator(step.input)\n",
        "    if step.agent_name == \"weather_agent\":\n",
        "      memory.append(\"The weather is sunny width 39 degress\")\n",
        "    if step.agent_name == \"respond_to_user\":\n",
        "      return step.input\n",
        ""
      ],
      "metadata": {
        "id": "i8hJ06IPVj6s"
      },
      "execution_count": 11,
      "outputs": []
    },
    {
      "cell_type": "code",
      "source": [
        "result = orchestrator (\"What is the current time and weather in New York ?\")\n",
        "result"
      ],
      "metadata": {
        "colab": {
          "base_uri": "https://localhost:8080/"
        },
        "id": "oTA5eVs7yEa4",
        "outputId": "58024d74-7a2e-4af3-cab1-59129176fad1"
      },
      "execution_count": 9,
      "outputs": [
        {
          "output_type": "execute_result",
          "data": {
            "text/plain": [
              "Response(agent_name='current_time_agent', input='New York', next_action='')"
            ]
          },
          "metadata": {},
          "execution_count": 9
        }
      ]
    },
    {
      "cell_type": "code",
      "source": [
        "result = orchestrator (\"Please schedule a date in my calendar starting in 1 hour.\")\n",
        "result"
      ],
      "metadata": {
        "colab": {
          "base_uri": "https://localhost:8080/"
        },
        "id": "XTAnKLNOt6jM",
        "outputId": "c48a725b-28bb-439c-8c8c-eb7f425d686c"
      },
      "execution_count": 8,
      "outputs": [
        {
          "output_type": "execute_result",
          "data": {
            "text/plain": [
              "Response(agent_name='schedule_agent', input='Please schedule a date in my calendar starting in 1 hour.', next_action='plan_and_schedule')"
            ]
          },
          "metadata": {},
          "execution_count": 8
        }
      ]
    },
    {
      "cell_type": "markdown",
      "source": [
        "\n",
        "\n",
        "\n",
        "\n",
        "\n",
        "\n",
        "\n",
        "\n",
        "\n",
        "\n",
        "\n",
        "A Draft for a first version that used text instead of structured outputs\n",
        "\n",
        "\n",
        "\n"
      ],
      "metadata": {
        "id": "UoM2H_iUxnzJ"
      }
    },
    {
      "cell_type": "code",
      "source": [
        "def orchestrator_text_based(userinput: str) -> str:\n",
        "\n",
        "  response_format = {\"action\":\"\", \"input\":\"\", \"next_action\":\"\"}\n",
        "\n",
        "  prompt = \"\"\"\n",
        "                Use the context from memory to plan next steps.\n",
        "                Context:\n",
        "                []\n",
        "\n",
        "                You are an expert intent classifier.\n",
        "                You need will use the context provided and the user's input to classify the intent select the appropriate agent.\n",
        "                You will rewrite the input for the agent so that the agent can efficiently execute the task.\n",
        "\n",
        "                Here are the available agents and their descriptions:\n",
        "\n",
        "               time_tool_agent - Provides the current time for a given city's timezone like Asia/Kolkata, America/New_York etc. If no timezone is provided, it returns the local time.\n",
        "               calendar_agent - Checks your calendar or schedules a date in your calendar at a given time\n",
        "\n",
        "                User Input:\n",
        "                {userinput}\n",
        "\n",
        "                ###Guidelines###\n",
        "                - Sometimes you might have to use multiple agent's to solve user's input. You have to do that in a loop.\n",
        "                - The original userinput could have multiple tasks, you will use the context to understand the previous actions taken and the next steps you should take.\n",
        "                - Read the context, take your time to understand, see if there were many tasks and if you executed them all\n",
        "                - If there are no actions to be taken, then make the action \"respond_to_user\" with your final thoughts combining all previous responses as input.\n",
        "                - Respond with \"respond_to_user\" only when there are no agents to select from or there is no next_action\n",
        "                - You will return the agent name in the form of {response_format}\n",
        "                - Always return valid JSON like {response_format} and nothing else.\n",
        "  \"\"\"\n",
        "  return call (\"You are an expert intent classifier.\", prompt.format(userinput=userinput, response_format=response_format))"
      ],
      "metadata": {
        "id": "Jcq1kI4bpcR_"
      },
      "execution_count": null,
      "outputs": []
    }
  ]
}