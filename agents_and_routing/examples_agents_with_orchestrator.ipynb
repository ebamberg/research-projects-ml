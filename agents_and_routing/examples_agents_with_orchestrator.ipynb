{
  "nbformat": 4,
  "nbformat_minor": 0,
  "metadata": {
    "colab": {
      "provenance": [],
      "gpuType": "T4",
      "authorship_tag": "ABX9TyOopMbiMWby27Fou5JuVfuV",
      "include_colab_link": true
    },
    "kernelspec": {
      "name": "python3",
      "display_name": "Python 3"
    },
    "language_info": {
      "name": "python"
    },
    "accelerator": "GPU"
  },
  "cells": [
    {
      "cell_type": "markdown",
      "metadata": {
        "id": "view-in-github",
        "colab_type": "text"
      },
      "source": [
        "<a href=\"https://colab.research.google.com/github/ebamberg/research-projects-ml/blob/main/agents_and_routing/examples_agents_with_orchestrator.ipynb\" target=\"_parent\"><img src=\"https://colab.research.google.com/assets/colab-badge.svg\" alt=\"Open In Colab\"/></a>"
      ]
    },
    {
      "cell_type": "markdown",
      "source": [],
      "metadata": {
        "id": "ittnx9TnwT_y"
      }
    },
    {
      "cell_type": "code",
      "execution_count": 3,
      "metadata": {
        "id": "GCm0uJVC9jvj",
        "colab": {
          "base_uri": "https://localhost:8080/"
        },
        "outputId": "6f2566bd-a3d8-4c8e-c9c3-30d0436f5e0c"
      },
      "outputs": [
        {
          "output_type": "stream",
          "name": "stdout",
          "text": [
            "\u001b[?25l   \u001b[90m━━━━━━━━━━━━━━━━━━━━━━━━━━━━━━━━━━━━━━━━\u001b[0m \u001b[32m0.0/2.5 MB\u001b[0m \u001b[31m?\u001b[0m eta \u001b[36m-:--:--\u001b[0m\r\u001b[2K   \u001b[91m━━━━━━━━━━━━━━━━━━━━\u001b[0m\u001b[90m╺\u001b[0m\u001b[90m━━━━━━━━━━━━━━━━━━━\u001b[0m \u001b[32m1.3/2.5 MB\u001b[0m \u001b[31m38.5 MB/s\u001b[0m eta \u001b[36m0:00:01\u001b[0m\r\u001b[2K   \u001b[90m━━━━━━━━━━━━━━━━━━━━━━━━━━━━━━━━━━━━━━━━\u001b[0m \u001b[32m2.5/2.5 MB\u001b[0m \u001b[31m42.3 MB/s\u001b[0m eta \u001b[36m0:00:00\u001b[0m\n",
            "\u001b[?25h\u001b[?25l   \u001b[90m━━━━━━━━━━━━━━━━━━━━━━━━━━━━━━━━━━━━━━━━\u001b[0m \u001b[32m0.0/45.2 kB\u001b[0m \u001b[31m?\u001b[0m eta \u001b[36m-:--:--\u001b[0m\r\u001b[2K   \u001b[90m━━━━━━━━━━━━━━━━━━━━━━━━━━━━━━━━━━━━━━━━\u001b[0m \u001b[32m45.2/45.2 kB\u001b[0m \u001b[31m4.2 MB/s\u001b[0m eta \u001b[36m0:00:00\u001b[0m\n",
            "\u001b[?25h\u001b[?25l   \u001b[90m━━━━━━━━━━━━━━━━━━━━━━━━━━━━━━━━━━━━━━━━\u001b[0m \u001b[32m0.0/50.9 kB\u001b[0m \u001b[31m?\u001b[0m eta \u001b[36m-:--:--\u001b[0m\r\u001b[2K   \u001b[90m━━━━━━━━━━━━━━━━━━━━━━━━━━━━━━━━━━━━━━━━\u001b[0m \u001b[32m50.9/50.9 kB\u001b[0m \u001b[31m5.2 MB/s\u001b[0m eta \u001b[36m0:00:00\u001b[0m\n",
            "\u001b[?25h"
          ]
        }
      ],
      "source": [
        "!pip install ollama langchain_community --quiet\n",
        "!pip install openai --quiet\n",
        "\n",
        "host=\"localhost:11434\"\n",
        "modelid=\"chevalblanc/gpt-4o-mini\"\n",
        "modelid=\"deepseek-r1:14b\"\n",
        "\n",
        "get_ipython().system_raw(\"curl -fsSL https://ollama.com/install.sh | sh\")\n",
        "get_ipython().system_raw(\"ollama serve &\")\n",
        "get_ipython().system_raw(f\"ollama pull {modelid}\")\n"
      ]
    },
    {
      "cell_type": "code",
      "source": [
        "get_ipython().system_raw(f\"ollama pull {modelid}\")"
      ],
      "metadata": {
        "id": "z_AAjjHozJOM"
      },
      "execution_count": 4,
      "outputs": []
    },
    {
      "cell_type": "code",
      "source": [
        "from openai import OpenAI\n",
        "\n",
        "\n",
        "llm = OpenAI(\n",
        "        base_url=f\"http://{host}/v1\",\n",
        "        api_key=\"ollama\",  # required, but unused\n",
        "    )\n",
        "\n",
        "\n"
      ],
      "metadata": {
        "id": "yHCElQFQb2XR"
      },
      "execution_count": 5,
      "outputs": []
    },
    {
      "cell_type": "code",
      "source": [
        "from pydantic import Field, BaseModel\n",
        "\n",
        "class Response(BaseModel):\n",
        "   action: str = Field(description=\"the agent to select or \\\"respond_to_user\\\" when there are no agents to select from or there is no next_action\")\n",
        "   input: str = Field(description=\"the input for this agent\")\n",
        "   next_action: str = Field(description=\"the next agent to call after this agent\")\n"
      ],
      "metadata": {
        "id": "fNNr0Nek7EkJ"
      },
      "execution_count": 6,
      "outputs": []
    },
    {
      "cell_type": "code",
      "source": [
        "def call(system_prompt: str, message: str, model: str = modelid, history: list[dict] = [] ) -> str:\n",
        "  completion = llm.chat.completions.parse(\n",
        "      model=modelid,\n",
        "      messages=[ {\"role\": \"system\", \"content\": system_prompt},]\n",
        "      +history\n",
        "      + [\n",
        "\n",
        "          {\n",
        "              \"role\": \"user\",\n",
        "              \"content\": message,\n",
        "          },\n",
        "      ],\n",
        "      temperature=0.0,\n",
        "      max_tokens=200,\n",
        "      response_format=Response\n",
        "  )\n",
        "\n",
        "  return completion.choices[0].message.parsed"
      ],
      "metadata": {
        "id": "YkaTeOcP3HHu"
      },
      "execution_count": 7,
      "outputs": []
    },
    {
      "cell_type": "code",
      "source": [
        "import json\n",
        "\n",
        "def orchestrator(userinput: str, memory: list[str] = []) -> Response:\n",
        "\n",
        "\n",
        "  prompt = \"\"\"\n",
        "\n",
        "                You are an intelligent agent orchestrator that coordinates between specialized agents to solve complex problems through multi-step planning and execution.\n",
        "\n",
        "                Review chat history for context and previous interactions\n",
        "                Analysise the user's input to classify the intent select the appropriate agent.\n",
        "                Determine which agents are needed and in what order\n",
        "                Call the appropriate agent with specific instructions\n",
        "                Wait for the agent's response\n",
        "                Evaluate the results\n",
        "\n",
        "                You will rewrite the input for the agent so that the agent can efficiently execute the task.\n",
        "\n",
        "                Here are the available agents and their descriptions and input schema:\n",
        "\n",
        "               current_time_agent - Provides the current time for a given city's timezone like Asia/Kolkata, America/New_York etc. If no timezone is provided, it returns the local time.\n",
        "               weather_agent - Provides the current weather for a given city.\n",
        "\n",
        "                User Input:\n",
        "                {userinput}\n",
        "\n",
        "                ###Guidelines###\n",
        "                - Sometimes you might have to use multiple agent's to solve user's input. You have to do that in a loop.\n",
        "                - The original userinput could have multiple tasks, you will use the context to understand the previous actions taken and the next steps you should take.\n",
        "                - Read the context, take your time to understand, see if there were many tasks and if you executed them all\n",
        "                - If there are no actions to be taken, then make the agent \"respond_to_user\" with your final thoughts combining all previous responses as input.\n",
        "                - Respond with agent \"respond_to_user\" when there are no agents to select from or there is no next_action\n",
        "\n",
        "\n",
        "  \"\"\"\n",
        "\n",
        "  for i in range (0,2):\n",
        "\n",
        " #   print (\"\\n\".join(memory))\n",
        "    print (prompt.format(userinput=userinput))\n",
        "    step = call (\"You are an intelligent agent orchestrator that coordinates between specialized agents to solve complex problems through multi-step planning and execution.\", prompt.format(userinput=userinput),history=memory)\n",
        "    print (f\"Orchestrator: {step}\")\n",
        "    memory.append({\"role\": \"assistant\", \"content\": step.model_dump_json()},)\n",
        "    if step.action == \"current_time_agent\":\n",
        "      memory.append({\"role\":\"user\", \"content\" :\"the current time in New York is 10:00AM in the morning\"})\n",
        "    if step.action == \"schedule_agent\":\n",
        "      return orchestrator(step.input)\n",
        "    if step.action == \"weather_agent\":\n",
        "      memory.append({\"role\":\"user\", \"content\" : \"The weather in New York is sunny with 39 degress Celsius\"})\n",
        "    if step.action == \"respond_to_user\":\n",
        "      return step.input\n"
      ],
      "metadata": {
        "id": "TbY6VRY6k9Rv"
      },
      "execution_count": 15,
      "outputs": []
    },
    {
      "cell_type": "code",
      "source": [
        "result = orchestrator (\"What is the current time and weather in New York ?\")\n",
        "result"
      ],
      "metadata": {
        "colab": {
          "base_uri": "https://localhost:8080/"
        },
        "id": "oTA5eVs7yEa4",
        "outputId": "b2ea9dca-adae-4e90-dc0c-aca9f46098e0"
      },
      "execution_count": 16,
      "outputs": [
        {
          "output_type": "stream",
          "name": "stdout",
          "text": [
            "\n",
            "\n",
            "                You are an intelligent agent orchestrator that coordinates between specialized agents to solve complex problems through multi-step planning and execution.\n",
            "\n",
            "                Review chat history for context and previous interactions\n",
            "                Analysise the user's input to classify the intent select the appropriate agent.\n",
            "                Determine which agents are needed and in what order\n",
            "                Call the appropriate agent with specific instructions\n",
            "                Wait for the agent's response\n",
            "                Evaluate the results\n",
            "\n",
            "                You will rewrite the input for the agent so that the agent can efficiently execute the task.\n",
            "\n",
            "                Here are the available agents and their descriptions and input schema:\n",
            "\n",
            "               current_time_agent - Provides the current time for a given city's timezone like Asia/Kolkata, America/New_York etc. If no timezone is provided, it returns the local time.\n",
            "               weather_agent - Provides the current weather for a given city.\n",
            "\n",
            "                User Input:\n",
            "                What is the current time and weather in New York ?\n",
            "\n",
            "                ###Guidelines###\n",
            "                - Sometimes you might have to use multiple agent's to solve user's input. You have to do that in a loop.\n",
            "                - The original userinput could have multiple tasks, you will use the context to understand the previous actions taken and the next steps you should take.\n",
            "                - Read the context, take your time to understand, see if there were many tasks and if you executed them all\n",
            "                - If there are no actions to be taken, then make the agent \"respond_to_user\" with your final thoughts combining all previous responses as input.\n",
            "                - Respond with agent \"respond_to_user\" when there are no agents to select from or there is no next_action\n",
            "\n",
            "\n",
            "  \n",
            "Orchestrator: action='current_time_agent' input='New York' next_action='weather_agent'\n",
            "\n",
            "\n",
            "                You are an intelligent agent orchestrator that coordinates between specialized agents to solve complex problems through multi-step planning and execution.\n",
            "\n",
            "                Review chat history for context and previous interactions\n",
            "                Analysise the user's input to classify the intent select the appropriate agent.\n",
            "                Determine which agents are needed and in what order\n",
            "                Call the appropriate agent with specific instructions\n",
            "                Wait for the agent's response\n",
            "                Evaluate the results\n",
            "\n",
            "                You will rewrite the input for the agent so that the agent can efficiently execute the task.\n",
            "\n",
            "                Here are the available agents and their descriptions and input schema:\n",
            "\n",
            "               current_time_agent - Provides the current time for a given city's timezone like Asia/Kolkata, America/New_York etc. If no timezone is provided, it returns the local time.\n",
            "               weather_agent - Provides the current weather for a given city.\n",
            "\n",
            "                User Input:\n",
            "                What is the current time and weather in New York ?\n",
            "\n",
            "                ###Guidelines###\n",
            "                - Sometimes you might have to use multiple agent's to solve user's input. You have to do that in a loop.\n",
            "                - The original userinput could have multiple tasks, you will use the context to understand the previous actions taken and the next steps you should take.\n",
            "                - Read the context, take your time to understand, see if there were many tasks and if you executed them all\n",
            "                - If there are no actions to be taken, then make the agent \"respond_to_user\" with your final thoughts combining all previous responses as input.\n",
            "                - Respond with agent \"respond_to_user\" when there are no agents to select from or there is no next_action\n",
            "\n",
            "\n",
            "  \n",
            "Orchestrator: action='current_time_agent' input='New York' next_action='weather_agent'\n"
          ]
        }
      ]
    },
    {
      "cell_type": "code",
      "source": [
        "result = orchestrator (\"Please schedule a date in my calendar starting in 1 hour.\")\n",
        "result"
      ],
      "metadata": {
        "id": "XTAnKLNOt6jM",
        "colab": {
          "base_uri": "https://localhost:8080/"
        },
        "outputId": "4cc6fa8b-66d7-4c40-fc23-d6f000f46487"
      },
      "execution_count": 10,
      "outputs": [
        {
          "output_type": "stream",
          "name": "stdout",
          "text": [
            "\n",
            "\n",
            "                You are an expert intent classifier.\n",
            "\n",
            "                You need will use the context provided and the user's input to classify the intent select the appropriate agent.\n",
            "                You will rewrite the input for the agent so that the agent can efficiently execute the task.\n",
            "\n",
            "                Here are the available agents and their descriptions and input schema:\n",
            "\n",
            "               current_time_agent - Provides the current time for a given city's timezone like Asia/Kolkata, America/New_York etc. If no timezone is provided, it returns the local time.\n",
            "               weather_agent - Provides the current weather for a given city.\n",
            "\n",
            "                User Input:\n",
            "                Please schedule a date in my calendar starting in 1 hour.\n",
            "\n",
            "                ###Guidelines###\n",
            "                - Sometimes you might have to use multiple agent's to solve user's input. You have to do that in a loop.\n",
            "                - The original userinput could have multiple tasks, you will use the context to understand the previous actions taken and the next steps you should take.\n",
            "                - Read the context, take your time to understand, see if there were many tasks and if you executed them all\n",
            "                - If there are no actions to be taken, then make the agent \"respond_to_user\" with your final thoughts combining all previous responses as input.\n",
            "                - Respond with agent \"respond_to_user\" when there are no agents to select from or there is no next_action\n",
            "\n",
            "\n",
            "  \n",
            "Orchestrator: action='get_current_time' input='New York' next_action='get_weather'\n",
            "\n",
            "\n",
            "                You are an expert intent classifier.\n",
            "\n",
            "                You need will use the context provided and the user's input to classify the intent select the appropriate agent.\n",
            "                You will rewrite the input for the agent so that the agent can efficiently execute the task.\n",
            "\n",
            "                Here are the available agents and their descriptions and input schema:\n",
            "\n",
            "               current_time_agent - Provides the current time for a given city's timezone like Asia/Kolkata, America/New_York etc. If no timezone is provided, it returns the local time.\n",
            "               weather_agent - Provides the current weather for a given city.\n",
            "\n",
            "                User Input:\n",
            "                Please schedule a date in my calendar starting in 1 hour.\n",
            "\n",
            "                ###Guidelines###\n",
            "                - Sometimes you might have to use multiple agent's to solve user's input. You have to do that in a loop.\n",
            "                - The original userinput could have multiple tasks, you will use the context to understand the previous actions taken and the next steps you should take.\n",
            "                - Read the context, take your time to understand, see if there were many tasks and if you executed them all\n",
            "                - If there are no actions to be taken, then make the agent \"respond_to_user\" with your final thoughts combining all previous responses as input.\n",
            "                - Respond with agent \"respond_to_user\" when there are no agents to select from or there is no next_action\n",
            "\n",
            "\n",
            "  \n",
            "Orchestrator: action='get_current_time' input='New York' next_action='get_weather'\n"
          ]
        }
      ]
    },
    {
      "cell_type": "markdown",
      "source": [
        "\n",
        "\n",
        "\n",
        "\n",
        "\n",
        "\n",
        "\n",
        "\n",
        "\n",
        "\n",
        "\n",
        "A Draft for a first version that used text instead of structured outputs\n",
        "\n",
        "\n",
        "\n"
      ],
      "metadata": {
        "id": "UoM2H_iUxnzJ"
      }
    },
    {
      "cell_type": "code",
      "source": [
        "def orchestrator_text_based(userinput: str) -> str:\n",
        "\n",
        "  response_format = {\"action\":\"\", \"input\":\"\", \"next_action\":\"\"}\n",
        "\n",
        "  prompt = \"\"\"\n",
        "                Use the context from memory to plan next steps.\n",
        "                Context:\n",
        "                []\n",
        "\n",
        "                You are an expert intent classifier.\n",
        "                You need will use the context provided and the user's input to classify the intent select the appropriate agent.\n",
        "                You will rewrite the input for the agent so that the agent can efficiently execute the task.\n",
        "\n",
        "                Here are the available agents and their descriptions:\n",
        "\n",
        "               time_tool_agent - Provides the current time for a given city's timezone like Asia/Kolkata, America/New_York etc. If no timezone is provided, it returns the local time.\n",
        "               calendar_agent - Checks your calendar or schedules a date in your calendar at a given time\n",
        "\n",
        "                User Input:\n",
        "                {userinput}\n",
        "\n",
        "                ###Guidelines###\n",
        "                - Sometimes you might have to use multiple agent's to solve user's input. You have to do that in a loop.\n",
        "                - The original userinput could have multiple tasks, you will use the context to understand the previous actions taken and the next steps you should take.\n",
        "                - Read the context, take your time to understand, see if there were many tasks and if you executed them all\n",
        "                - If there are no actions to be taken, then make the action \"respond_to_user\" with your final thoughts combining all previous responses as input.\n",
        "                - Respond with \"respond_to_user\" only when there are no agents to select from or there is no next_action\n",
        "                - You will return the agent name in the form of {response_format}\n",
        "                - Always return valid JSON like {response_format} and nothing else.\n",
        "  \"\"\"\n",
        "  return call (\"You are an expert intent classifier.\", prompt.format(userinput=userinput, response_format=None))"
      ],
      "metadata": {
        "id": "Jcq1kI4bpcR_"
      },
      "execution_count": 11,
      "outputs": []
    },
    {
      "cell_type": "code",
      "source": [
        "def orchestrator_(userinput: str, memory: list[str] = []) -> Response:\n",
        "\n",
        "\n",
        "  prompt = \"\"\"\n",
        "                Use the context from memory to plan next steps.\n",
        "                Context:\n",
        "                - {context}\n",
        "\n",
        "                You are an expert intent classifier.\n",
        "\n",
        "                You need will use the context provided and the user's input to classify the intent select the appropriate agent.\n",
        "                You will rewrite the input for the agent so that the agent can efficiently execute the task.\n",
        "\n",
        "                Here are the available agents and their descriptions and input schema:\n",
        "\n",
        "               current_time_agent - Provides the current time for a given city's timezone like Asia/Kolkata, America/New_York etc. If no timezone is provided, it returns the local time.\n",
        "               weather_agent - Provides the current weather for a given city.\n",
        "\n",
        "                User Input:\n",
        "                {userinput}\n",
        "\n",
        "                ###Guidelines###\n",
        "                - Sometimes you might have to use multiple agent's to solve user's input. You have to do that in a loop.\n",
        "                - The original userinput could have multiple tasks, you will use the context to understand the previous actions taken and the next steps you should take.\n",
        "                - Read the context, take your time to understand, see if there were many tasks and if you executed them all\n",
        "                - If there are no actions to be taken, then make the agent \"respond_to_user\" with your final thoughts combining all previous responses as input.\n",
        "                - Respond with agent \"respond_to_user\" when there are no agents to select from or there is no next_action\n",
        "\n",
        "\n",
        "  \"\"\"\n",
        "\n",
        "  for i in range (0,2):\n",
        "\n",
        " #   print (\"\\n\".join(memory))\n",
        "    print (prompt.format(userinput=userinput,context=\"\\n - \".join(memory)))\n",
        "    step = call (\"You are an expert intent classifier.\", prompt.format(userinput=userinput,context=\"\\n \\t\\t- \".join(memory)))\n",
        "    print (f\"Orchestrator: {step}\")\n",
        "    memory.append({\"role\": \"assistant\", \"content\": step},)\n",
        "    if step.agent_name == \"current_time_agent\":\n",
        "      memory.append({\"role\":\"user\", \"content\" :\"the current time in New York is 10:00AM in the morning\"})\n",
        "    if step.agent_name == \"schedule_agent\":\n",
        "      return orchestrator(step.input)\n",
        "    if step.agent_name == \"weather_agent\":\n",
        "      memory.append({\"role\":\"user\", \"content\" : \"The weather in New York is sunny with 39 degress Celsius\"})\n",
        "    if step.agent_name == \"respond_to_user\":\n",
        "      return step.input\n"
      ],
      "metadata": {
        "id": "i8hJ06IPVj6s"
      },
      "execution_count": 12,
      "outputs": []
    }
  ]
}