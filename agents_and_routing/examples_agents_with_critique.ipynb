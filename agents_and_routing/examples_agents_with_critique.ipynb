{
  "nbformat": 4,
  "nbformat_minor": 0,
  "metadata": {
    "colab": {
      "provenance": [],
      "gpuType": "T4",
      "authorship_tag": "ABX9TyP7HLfEZ9Y1z0frZSD2K0NE",
      "include_colab_link": true
    },
    "kernelspec": {
      "name": "python3",
      "display_name": "Python 3"
    },
    "language_info": {
      "name": "python"
    },
    "accelerator": "GPU"
  },
  "cells": [
    {
      "cell_type": "markdown",
      "metadata": {
        "id": "view-in-github",
        "colab_type": "text"
      },
      "source": [
        "<a href=\"https://colab.research.google.com/github/ebamberg/research-projects-ml/blob/main/agents_and_routing/examples_agents_with_critique.ipynb\" target=\"_parent\"><img src=\"https://colab.research.google.com/assets/colab-badge.svg\" alt=\"Open In Colab\"/></a>"
      ]
    },
    {
      "cell_type": "markdown",
      "source": [],
      "metadata": {
        "id": "ittnx9TnwT_y"
      }
    },
    {
      "cell_type": "code",
      "execution_count": 9,
      "metadata": {
        "id": "GCm0uJVC9jvj"
      },
      "outputs": [],
      "source": [
        "!pip install ollama langchain_community --quiet\n",
        "\n",
        "host=\"localhost:11434\"\n",
        "modelid=\"llama3.2\"\n",
        "emb_modelid=\"mxbai-embed-large\"\n",
        "\n",
        "get_ipython().system_raw(\"curl -fsSL https://ollama.com/install.sh | sh\")\n",
        "get_ipython().system_raw(\"ollama serve &\")\n",
        "get_ipython().system_raw(f\"ollama pull {modelid}\")\n",
        "get_ipython().system_raw(f\"ollama pull {emb_modelid}\")\n"
      ]
    },
    {
      "cell_type": "code",
      "source": [
        "!pip install openai --quiet"
      ],
      "metadata": {
        "id": "VMom2AWiyAdg"
      },
      "execution_count": 10,
      "outputs": []
    },
    {
      "cell_type": "code",
      "source": [
        "get_ipython().system_raw(f\"ollama pull {modelid}\")"
      ],
      "metadata": {
        "id": "z_AAjjHozJOM"
      },
      "execution_count": 11,
      "outputs": []
    },
    {
      "cell_type": "code",
      "source": [
        "from openai import OpenAI\n",
        "\n",
        "\n",
        "llm = OpenAI(\n",
        "        base_url=f\"http://{host}/v1\",\n",
        "        api_key=\"ollama\",  # required, but unused\n",
        "    )\n",
        "\n",
        "\n"
      ],
      "metadata": {
        "id": "yHCElQFQb2XR"
      },
      "execution_count": 12,
      "outputs": []
    },
    {
      "cell_type": "code",
      "source": [
        "def call(system_prompt: str, message: str) -> str:\n",
        "  completion = llm.chat.completions.create(\n",
        "      model=modelid,\n",
        "      messages=[\n",
        "          {\"role\": \"system\", \"content\": system_prompt},\n",
        "          {\n",
        "              \"role\": \"user\",\n",
        "              \"content\": message,\n",
        "          },\n",
        "      ],\n",
        "  )\n",
        "\n",
        "  return completion.choices[0].message.content"
      ],
      "metadata": {
        "id": "YkaTeOcP3HHu"
      },
      "execution_count": 13,
      "outputs": []
    },
    {
      "cell_type": "code",
      "source": [
        "def marketing_campaign_agent(product : str):\n",
        "  \"\"\"\n",
        "     <PRODUCT>{product}</PRODUCT>\n",
        "\n",
        "     Your task is to create an compelling marketing campaign for the product provided between the <product> tag.\n",
        "  \"\"\"\n",
        "  return call (\"your are a marketing campaign export.\", marketing_campaign_agent.__doc__.format(product=product) )"
      ],
      "metadata": {
        "id": "ODbK4Rp63VTn"
      },
      "execution_count": 14,
      "outputs": []
    },
    {
      "cell_type": "code",
      "source": [
        "def ready_validation_agent(marketing_text : str) -> bool:\n",
        "  \"\"\"\n",
        "\n",
        "    <CONTENT>{text}</CONTENT>\n",
        "    I have asked you to create a marketing text for a product  earlier. You can find the text between the <CONTENT> tags.\n",
        "\n",
        "    Is this the final version of the marketing text and ready to publish or can we improve it?\n",
        "\n",
        "     Your task is to answer with\n",
        "     - TRUE if this is the final version of the marketing text and ready to publish.\n",
        "     - FALSE if this is not the final version of the marketing text and we need to improve it.\n",
        "\n",
        "     Only answer with TRUE or FALSE. add nothing else to your response.\n",
        "\n",
        "    \"\"\"\n",
        "  result = call (\"your are a marketing campaign export.\", ready_validation_agent.__doc__.format(text=marketing_text) )\n",
        "  print (result)\n",
        "  return result.strip().lower() == \"true\""
      ],
      "metadata": {
        "id": "X_-AB92x6ZJ1"
      },
      "execution_count": 18,
      "outputs": []
    },
    {
      "cell_type": "code",
      "source": [
        "def refinements_agent(product : str, marketing_text : str) -> str:\n",
        "  \"\"\"\n",
        "  <PRODUCT>{product}</PRODUCT>\n",
        "\n",
        "  <CONTENT>{text}</CONTENT>\n",
        "\n",
        "  I have asked you to create a marketing text for a product earlier. You can find the text between the <CONTENT> tags.\n",
        "\n",
        "  This marketing text is not final and not yet ready for publishing.\n",
        "\n",
        "  Your task is to refine the marketing text provided betwen the <CONTENT> tag with the follwing refinements. Don't use any other sources.\n",
        "\n",
        "  ### OUTPUT\n",
        "  Please output a  list of improvements you have found.\n",
        "\n",
        "  \"\"\"\n",
        "  return call (\"your are a marketing campaign export.\", refinements_agent.__doc__.format(product=product, text=marketing_text) )"
      ],
      "metadata": {
        "id": "en1xrwVlq4sT"
      },
      "execution_count": 31,
      "outputs": []
    },
    {
      "cell_type": "code",
      "source": [
        "def refine_agent(product : str, marketing_text : str, refinements : str ) -> str:\n",
        "  \"\"\"\n",
        "  <PRODUCT>{product}</PRODUCT>\n",
        "\n",
        "  <CONTENT>{text}</CONTENT>\n",
        "\n",
        "  <REFINE>{refinements}</REFINE>\n",
        "\n",
        "  I have asked you to create a marketing campaign for a product earlier. You can find the markeging campaign between the <CONTENT> tags.\n",
        "\n",
        "  Your task is to add the refinements provided between <REFINE> tags to that marketing campaign .\n",
        "\n",
        "\n",
        "\n",
        "  \"\"\"\n",
        "  return call (\"your are a marketing campaign export.\", refinements_agent.__doc__.format(product=product, text=marketing_text, refinements=refinements) )"
      ],
      "metadata": {
        "id": "m6DhXF9G0_Uf"
      },
      "execution_count": 42,
      "outputs": []
    },
    {
      "cell_type": "code",
      "source": [
        "product = \"iPhone 15\"\n",
        "\n",
        "iteration=1\n",
        "marketing_text = marketing_campaign_agent(product)\n",
        "while not ready_validation_agent(marketing_text) and iteration<5:\n",
        "  print (f\"ITERATION: {iteration}\" )\n",
        "  refinements = refinements_agent(product, marketing_text)\n",
        "  next_text_iteration = refine_agent(product, marketing_text, refinements)\n",
        "  print (refinements)\n",
        "  iteration+=1\n",
        "  marketing_text = next_text_iteration\n",
        ""
      ],
      "metadata": {
        "colab": {
          "base_uri": "https://localhost:8080/",
          "height": 228
        },
        "id": "parsnXE044qC",
        "outputId": "49cb93ae-4b57-4fa5-c82e-e28739dba03d"
      },
      "execution_count": 47,
      "outputs": [
        {
          "output_type": "stream",
          "name": "stdout",
          "text": [
            "FALSE\n"
          ]
        },
        {
          "output_type": "error",
          "ename": "TypeError",
          "evalue": "can only concatenate str (not \"int\") to str",
          "traceback": [
            "\u001b[0;31m---------------------------------------------------------------------------\u001b[0m",
            "\u001b[0;31mTypeError\u001b[0m                                 Traceback (most recent call last)",
            "\u001b[0;32m/tmp/ipython-input-2262825401.py\u001b[0m in \u001b[0;36m<cell line: 0>\u001b[0;34m()\u001b[0m\n\u001b[1;32m      4\u001b[0m \u001b[0mmarketing_text\u001b[0m \u001b[0;34m=\u001b[0m \u001b[0mmarketing_campaign_agent\u001b[0m\u001b[0;34m(\u001b[0m\u001b[0mproduct\u001b[0m\u001b[0;34m)\u001b[0m\u001b[0;34m\u001b[0m\u001b[0;34m\u001b[0m\u001b[0m\n\u001b[1;32m      5\u001b[0m \u001b[0;32mwhile\u001b[0m \u001b[0;32mnot\u001b[0m \u001b[0mready_validation_agent\u001b[0m\u001b[0;34m(\u001b[0m\u001b[0mmarketing_text\u001b[0m\u001b[0;34m)\u001b[0m \u001b[0;32mand\u001b[0m \u001b[0miteration\u001b[0m\u001b[0;34m<\u001b[0m\u001b[0;36m5\u001b[0m\u001b[0;34m:\u001b[0m\u001b[0;34m\u001b[0m\u001b[0;34m\u001b[0m\u001b[0m\n\u001b[0;32m----> 6\u001b[0;31m   \u001b[0mprint\u001b[0m \u001b[0;34m(\u001b[0m\u001b[0;34m\"ITERATION: \"\u001b[0m \u001b[0;34m+\u001b[0m \u001b[0miteration\u001b[0m\u001b[0;34m)\u001b[0m\u001b[0;34m\u001b[0m\u001b[0;34m\u001b[0m\u001b[0m\n\u001b[0m\u001b[1;32m      7\u001b[0m   \u001b[0mrefinements\u001b[0m \u001b[0;34m=\u001b[0m \u001b[0mrefinements_agent\u001b[0m\u001b[0;34m(\u001b[0m\u001b[0mproduct\u001b[0m\u001b[0;34m,\u001b[0m \u001b[0mmarketing_text\u001b[0m\u001b[0;34m)\u001b[0m\u001b[0;34m\u001b[0m\u001b[0;34m\u001b[0m\u001b[0m\n\u001b[1;32m      8\u001b[0m   \u001b[0mnext_text_iteration\u001b[0m \u001b[0;34m=\u001b[0m \u001b[0mrefine_agent\u001b[0m\u001b[0;34m(\u001b[0m\u001b[0mproduct\u001b[0m\u001b[0;34m,\u001b[0m \u001b[0mmarketing_text\u001b[0m\u001b[0;34m,\u001b[0m \u001b[0mrefinements\u001b[0m\u001b[0;34m)\u001b[0m\u001b[0;34m\u001b[0m\u001b[0;34m\u001b[0m\u001b[0m\n",
            "\u001b[0;31mTypeError\u001b[0m: can only concatenate str (not \"int\") to str"
          ]
        }
      ]
    },
    {
      "cell_type": "code",
      "source": [
        "print (next_text_iteration)\n"
      ],
      "metadata": {
        "colab": {
          "base_uri": "https://localhost:8080/"
        },
        "id": "K0eV9F3f3ITA",
        "outputId": "a0ff94cc-154b-4aad-cada-e2ec8ed888e2"
      },
      "execution_count": 44,
      "outputs": [
        {
          "output_type": "stream",
          "name": "stdout",
          "text": [
            "**Refined Marketing Text:**\n",
            "\n",
            "<PRODUCT>iPhone 15</PRODUCT>\n",
            "\n",
            "<CONTENT>\n",
            "**Marketing Campaign: \"Unleash Your Potential\" - iPhone 15 Launch**\n",
            " \n",
            "**Campaign Objective:** Create awareness, generate excitement, and drive sales of iPhone 15 among tech-savvy consumers worldwide.\n",
            "\n",
            "**Target Audience:** Tech enthusiasts, mobile device users, and individuals seeking a premium smartphone experience.\n",
            "\n",
            "**Key Messaging:\n",
            "\n",
            "* Discover the latest innovation from Apple - iPhone 15, empowering you to unlock new possibilities with cutting-edge technology and stunning design.\n",
            "* Unlock your world with iPhone 15, featuring groundbreaking camera capabilities, lightning-fast performance, and an immersive display that redefines mobile entertainment.\n",
            "\n",
            "**Marketing Strategies:**\n",
            "\n",
            "1. **Teaser Campaign:**\n",
            "Release a series of eye-opening ads on social media platforms (Instagram, TikTok, Facebook) showcasing the iPhone 15's innovative features.\n",
            "Create a hashtag (#EmpowerYourWorld) and encourage users to share their own stories, illustrating how the iPhone 15 enables them to push boundaries.\n",
            "\n",
            "2. **Influencer Partnerships:**\n",
            "Partner with influential thought leaders, creative experts, and industry insiders to showcase iPhone 15's capabilities.\n",
            "Collaborate with popular streaming platforms (e.g., YouTube, Twitch) for exclusive content, highlighting the phone's seamless performance and immersive display on-the-go.\n",
            "\n",
            "3. **Event Marketing:**\n",
            "Host a launch event in Cupertino, California, featuring Apple executives, innovators, and influencers.\n",
            "Provide attendees an unparalleled experience with iPhone 15, including hands-on demos and exclusive access to new features that will revolutionize mobile interaction.\n",
            "\n",
            "4. **Experiential Marketing:**\n",
            "Design engaging pop-up experiences (in major cities worldwide) celebrating the iPhone 15's advanced camera capabilities through immersive exhibits.\n",
            "Invite visitors to capture stunning self-portraits using the powerful front-facing camera in our Interactive Selfie Studio.\n",
            "\n",
            "5. **Digital Advertising:**\n",
            "Develop a compelling video showcasing iPhone 15's performance, camera features, and elegant design style.\n",
            "Run targeted social media ads (Facebook, Instagram, Twitter) tailored specifically for tech-savvy users seeking premium mobile experiences.\n",
            "\n",
            "**Promotional Offers:**\n",
            "\n",
            "1. **Launch Day Exclusive:** Offer an exclusive incentive for the first 500 customers pre-ordering iPhone 15 on launch day - receive a complimentary wireless charging pad and premium earbuds bundle.\n",
            "2. **Trade-In Program:** Launch a trade-in campaign targeting current Apple device users, rewarding them with a limited-edition iPhone 15 package featuring high-quality accessories when trading in their existing devices.\n",
            "\n",
            "**Leveraging PR:**\n",
            "Issue press releases highlighting the official launch of iPhone 15 and showcase its groundbreaking attributes to media outlets.\n",
            "Reach out to tech influencers, lifestyle experts, and opinion leaders via email and phone calls for exclusive interviews sharing insights about iPhone 15's transformative features.\n",
            "\n",
            "**Budget Allocation:**\n",
            "\n",
            "1. **Influencer Partnerships (30%): $3 million**\n",
            "2. **Event Marketing (20%): $2 million**\n",
            "3. **Experiential Marketing (15%): $1.5 million**\n",
            "4. **Digital Advertising (15%): $1.5 million**\n",
            "5. **Public Relations (10%): $1 million**\n",
            "6. **Teaser Campaign & Content Creation (10%): $1 million**\n",
            "\n",
            "**Launch Timeline:**\n",
            "\n",
            "\n",
            "Launch Preparation: (Weeks 8 prior to launch)\n",
            "\n",
            "* Release teaser ads\n",
            "* Share iPhone 15 news on social media platforms\n",
            "* Engage influencers using hashtag\n",
            "\n",
            "Launch Day: September 15th\n",
            "\n",
            "* Event marketing and influencer partnerships in action\n",
            "* Experiential pop-up sites open for customers and fans worldwide\n",
            "\n",
            "\n",
            "**Campaign Evaluation and Optimization Post-launch Dates (Weeks 15 - 45 post-launch)**\n",
            "\n",
            "* Performance tracking with Google Analytics, Adobe Audience Manager, email performance results \n",
            "* Monitor campaign ROI and adjust ad spends for better engagement results\n"
          ]
        }
      ]
    },
    {
      "cell_type": "code",
      "source": [
        "print (marketing_text)\n",
        "print (\"###### critique\")\n",
        "print (is_finished)\n",
        "print (refinements)\n",
        "print (\"###### next text iteration\")\n",
        "print (next_text_iteration)"
      ],
      "metadata": {
        "colab": {
          "base_uri": "https://localhost:8080/"
        },
        "id": "4iSgEgej5bWp",
        "outputId": "f0f04af8-23ef-4e23-d453-05eb7fd2c41e"
      },
      "execution_count": 45,
      "outputs": [
        {
          "output_type": "stream",
          "name": "stdout",
          "text": [
            "**Marketing Campaign: \"Empower Your World\" - iPhone 15 Launch**\n",
            "\n",
            "**Campaign Objective:** Drive awareness, generate buzz, and drive sales of iPhone 15 among tech-savvy consumers worldwide.\n",
            "\n",
            "**Target Audience:** Tech enthusiasts, mobile device users, and individuals looking for a premium smartphone experience.\n",
            "\n",
            "**Key Messaging:**\n",
            "\n",
            "* Introducing the latest innovation from Apple - iPhone 15, redefining the smartphone experience with cutting-edge technology and sleek design.\n",
            "* Unlock your world with iPhone 15, featuring groundbreaking camera capabilities, lightning-fast performance, and an immersive display.\n",
            "\n",
            "**Marketing Strategies:**\n",
            "\n",
            "1. **Teaser Campaign:**\n",
            "\t* Release a series of cryptic ads on social media platforms (Instagram, TikTok, Facebook) showcasing a fragmented smartphone interface, hinting at the iPhone 15's advanced features.\n",
            "\t* Create a hashtag (#EmpowerYourWorld) and encourage users to share their own mobile moments, using the iPhone 15 as their device of choice.\n",
            "2. **Influencer Partnerships:**\n",
            "\t* Collaborate with social media influencers, tech reviewers, and content creators to showcase iPhone 15's features and demonstrate its capabilities.\n",
            "\t* Partner with popular streaming platforms (e.g., YouTube, Twitch) for exclusive launch content, highlighting the phone's seamless performance and immersive display.\n",
            "3. **Event Marketing:**\n",
            "\t* Host a global launch event in Cupertino, California, featuring an all-star lineup of Apple executives, tech experts, and influencers.\n",
            "\t* Offer attendees a first-hand experience with iPhone 15, including hands-on demos and exclusive access to new features.\n",
            "4. **Experiential Marketing:**\n",
            "\t* Design immersive pop-up experiences (in major cities worldwide) showcasing the iPhone 15's advanced camera capabilities through interactive exhibits.\n",
            "\t* Create an \"Immersive Selfie\" installation where visitors can capture stunning photos with the help of iPhone 15's advanced front-facing camera.\n",
            "5. **Digital Advertising:**\n",
            "\t* Develop a high-energy video ad, highlighting iPhone 15's performance, camera features, and sleek design.\n",
            "\t* Utilize targeted social media ads (Facebook, Instagram, Twitter) to reach our target audience.\n",
            "\n",
            "**Promotional Offers:**\n",
            "\n",
            "1. **Launch Day Exclusive:** Offer an exclusive offer for the first 500 customers who pre-order iPhone 15 on launch day, including a complimentary wireless charging pad and earbuds.\n",
            "2. ** Trade-In Program:** Encourage existing Apple device users to trade-in their old devices in exchange for a limited-edition iPhone 15 bundle, featuring premium accessories.\n",
            "\n",
            "**Public Relations:**\n",
            "Distribute press releases announcing the official launch of iPhone 15, highlighting its innovative features and design breakthroughs. Execute a comprehensive media outreach effort targeting top-tier tech publications, entertainment outlets, and mainstream news sources.\n",
            "\n",
            "**Budget Allocation:**\n",
            "\n",
            "1. Influencer Partnerships (30%): $3 million\n",
            "2. Event Marketing (20%): $2 million\n",
            "3. Experiential Marketing (15%): $1.5 million\n",
            "4. Digital Advertising (15%): $1.5 million\n",
            "5. Public Relations (10%): $1 million\n",
            "6. Teaser Campaign & Content Creation (10%): $1 million\n",
            "\n",
            "**Timeline:**\n",
            "\n",
            "* 8 weeks prior to launch: Begin campaign activation, including teaser ads and social media promotions.\n",
            "* Launch Day (September 15th): Execute event marketing, influencer partnerships, and experiential activations.\n",
            "* Post-Launch (September 22nd - October 31st): Roll out digital advertising and public relations campaigns.\n",
            "\n",
            "**Tracking Performance:**\n",
            "\n",
            "Monitor campaign metrics using Google Analytics, AdRoll, and social media insights to track website traffic, ad engagement, event attendance, and influencer partnership ROI.\n",
            "###### critique\n",
            "False\n",
            "After carefully reviewing the marketing text between the <CONTENT> tags, I've identified several areas for refinement to enhance its clarity, coherence, and overall impact. Here's a list of suggested improvements:\n",
            "\n",
            "### Output: Refinement Plan\n",
            "\n",
            "1. **Clearer Campaign Objective:** The current objective is somewhat vague. Refine it to focus on \"drive awareness, generate buzz, and increase sales\" among the target audience.\n",
            "2. **Define Target Audience Segments:** Instead of a broad \"tech enthusiasts, mobile device users,\" consider segmenting the audience based on age, income, interests, or behaviors to tailor marketing efforts more effectively.\n",
            "3. **Improve Key Messaging Structure:** The current structure is somewhat disjointed. Reorganize the key messaging into two to three concise bullet points, focusing on the main benefits and unique selling points of iPhone 15.\n",
            "4. **Enhance Marketing Strategies Section:**\n",
            "\t* \"Teaser Campaign\" could be reworded to \"Build Anticipation\": Emphasize that teaser ads create a sense of mystery around iPhone 15.\n",
            "\t* Replace \"Influencer Partnerships\" with \"Empower Ambassadors\": This phrase suggests a more collaborative relationship between Apple and influencers.\n",
            "\t* Instead of \"Experiential Marketing,\" consider \"Immersive Experiences\": Use this term to emphasize the hands-on nature of events and installations.\n",
            "\t* In \"Event Marketing,\" replace \"all-star lineup\" with \"top-tier talent\": Use this more specific phrase to create a better expectation for attendees.\n",
            "5. **Promotional Offers Section:**\n",
            "\t* Simplify launch day offers by providing a clear summary of incentives, such as \"Exclusive Launch Day Offer: Get a complimentary wireless charging pad and earbuds\" instead of listing individual items.\n",
            "6. **Public Relations Section:** Consider adding more specific details about press release distribution channels (e.g., financial Wire, PR Newswire) to ensure maximum coverage reach.\n",
            "7. **Budget Allocation:** Provide a clearer breakdown of costs associated with each marketing strategy (e.g., campaign spend, estimated ROI).\n",
            "8. **Timeline:** Add one week of final preparation and soft launch ads prior to the main campaign kick-off to create some buzz.\n",
            "\n",
            "### Output: Refinement\n",
            "\n",
            "Here is a sample revised output incorporating the suggested improvements:\n",
            "\n",
            "<PRODUCT>iPhone 15</PRODUCT>\n",
            "\n",
            "<CONTENT>\n",
            "\n",
            "**Marketing Campaign:** \"Empower Your World\" - iPhone 15 Launch\n",
            "\n",
            "**Campaign Objective:** Drive awareness, generate buzz, and increase sales of iPhone 15 among tech enthusiasts aged 18-45 with an average income of $100K or more.\n",
            "\n",
            "**Target Audience Segments:**\n",
            "\n",
            "* Tech-savvy individuals interested in smartphone photography\n",
            "* High-income consumers seeking premium devices\n",
            "* Active mobile device users engaged on social media\n",
            "\n",
            "**Key Messaging:**\n",
            "• Experience the latest innovation from Apple - iPhone 15, featuring cutting-edge camera capabilities and sleek design.\n",
            "• Unlock your world with iPhone 15, unlocking a seamless performance, immersive display, and advanced features for mobile enthusiasts.\n",
            "\n",
            "**Marketing Strategies:**\n",
            "\n",
            "1. **Teaser Campaign:** Build Anticipation\n",
            "\t* Release cryptic ads on social media platforms showcasing a fragmented smartphone interface.\n",
            "\t* Encourage users to share their own mobile moments using the hashtag #EmpowerYourWorld.\n",
            "\n",
            "2. **Influencer Partnerships (Empower Ambassadors):** Collaborate with influencers, tech reviewers, and content creators showcasing iPhone 15's features and capabilities.\n",
            "\n",
            "3. **Event Marketing:** Empower Experiences\n",
            "\t* Host a global launch event in Cupertino, California, featuring top-tier talent.\n",
            "\t* Offer hands-on demos and exclusive access to new features for attendees.\n",
            "\n",
            "4. **Experiential Marketing (Immersive Experiences):** Design interactive exhibits showcasing iPhone 15's camera capabilities through pop-up installations.\n",
            "\n",
            "5. **Digital Advertising:** Targeted Ads on Facebook, Instagram, YouTube, and Mobile Platforms\n",
            "\t* Develop a high-energy video ad focusing on iPhone 15's performance, camera features, and sleek design.\n",
            "\t* Utilize targeted social media ads to reach our target audience.\n",
            "\n",
            "**Promotional Offers:**\n",
            "\n",
            "1. Exclusive Launch Day Offer:\n",
            "Get a complimentary wireless charging pad and earbuds when pre-ordering iPhone 15 on launch day (up to the first 500 customers).\n",
            "\n",
            "2. Trade-In Program:\n",
            "Exchange existing Apple devices for an exclusive bundle, featuring premium accessories, limited-time only.\n",
            "\n",
            "**Public Relations:**\n",
            "Distribute press releases announcing the official launch of iPhone 15, focusing on groundbreaking camera capabilities and sleek design breakthroughs.\n",
            "Execute comprehensive media outreach efforts targeting top-tier tech publications, entertainment outlets, mainstream news sources, and key technology review websites.\n",
            "\n",
            "**Budget Allocation:**\n",
            "\n",
            "* Influencer Partnerships (30%): $3 million\n",
            "\t+ Campaign spend: $2.5M\n",
            "\t+ Estimated ROI: 1200%\n",
            "* Event Marketing (20%): $2 million\n",
            "\t+ Venue rental: $500K\n",
            "\t+ Artist fees: $500k\n",
            "* Experiential Marketing (15%): $1.5 million\n",
            "\t+ Exhibit design and installation: $750K\n",
            "\t+ Audiovisual equipment rental: $300k\n",
            "* Digital Advertising (20%): $2 million\n",
            "\t+ Video ad production costs: $400k\n",
            "\t+ Targeted social media campaign costs: $1.6M\n",
            "* Public Relations (10%): $1 million\n",
            "\t+ PR company fees: $750K\n",
            "* Teaser Campaign & Content Creation (5%): $500,000\n",
            "\n",
            "**Timeline:**\n",
            "\n",
            "Week 0-1: Final preparations and soft launch ad rollout.\n",
            "Week 2-4: Launch campaign kicks off, with teaser ads going live on social media platforms.\n",
            "###### next text iteration\n",
            "**Refined Marketing Text:**\n",
            "\n",
            "<PRODUCT>iPhone 15</PRODUCT>\n",
            "\n",
            "<CONTENT>\n",
            "**Marketing Campaign: \"Unleash Your Potential\" - iPhone 15 Launch**\n",
            " \n",
            "**Campaign Objective:** Create awareness, generate excitement, and drive sales of iPhone 15 among tech-savvy consumers worldwide.\n",
            "\n",
            "**Target Audience:** Tech enthusiasts, mobile device users, and individuals seeking a premium smartphone experience.\n",
            "\n",
            "**Key Messaging:\n",
            "\n",
            "* Discover the latest innovation from Apple - iPhone 15, empowering you to unlock new possibilities with cutting-edge technology and stunning design.\n",
            "* Unlock your world with iPhone 15, featuring groundbreaking camera capabilities, lightning-fast performance, and an immersive display that redefines mobile entertainment.\n",
            "\n",
            "**Marketing Strategies:**\n",
            "\n",
            "1. **Teaser Campaign:**\n",
            "Release a series of eye-opening ads on social media platforms (Instagram, TikTok, Facebook) showcasing the iPhone 15's innovative features.\n",
            "Create a hashtag (#EmpowerYourWorld) and encourage users to share their own stories, illustrating how the iPhone 15 enables them to push boundaries.\n",
            "\n",
            "2. **Influencer Partnerships:**\n",
            "Partner with influential thought leaders, creative experts, and industry insiders to showcase iPhone 15's capabilities.\n",
            "Collaborate with popular streaming platforms (e.g., YouTube, Twitch) for exclusive content, highlighting the phone's seamless performance and immersive display on-the-go.\n",
            "\n",
            "3. **Event Marketing:**\n",
            "Host a launch event in Cupertino, California, featuring Apple executives, innovators, and influencers.\n",
            "Provide attendees an unparalleled experience with iPhone 15, including hands-on demos and exclusive access to new features that will revolutionize mobile interaction.\n",
            "\n",
            "4. **Experiential Marketing:**\n",
            "Design engaging pop-up experiences (in major cities worldwide) celebrating the iPhone 15's advanced camera capabilities through immersive exhibits.\n",
            "Invite visitors to capture stunning self-portraits using the powerful front-facing camera in our Interactive Selfie Studio.\n",
            "\n",
            "5. **Digital Advertising:**\n",
            "Develop a compelling video showcasing iPhone 15's performance, camera features, and elegant design style.\n",
            "Run targeted social media ads (Facebook, Instagram, Twitter) tailored specifically for tech-savvy users seeking premium mobile experiences.\n",
            "\n",
            "**Promotional Offers:**\n",
            "\n",
            "1. **Launch Day Exclusive:** Offer an exclusive incentive for the first 500 customers pre-ordering iPhone 15 on launch day - receive a complimentary wireless charging pad and premium earbuds bundle.\n",
            "2. **Trade-In Program:** Launch a trade-in campaign targeting current Apple device users, rewarding them with a limited-edition iPhone 15 package featuring high-quality accessories when trading in their existing devices.\n",
            "\n",
            "**Leveraging PR:**\n",
            "Issue press releases highlighting the official launch of iPhone 15 and showcase its groundbreaking attributes to media outlets.\n",
            "Reach out to tech influencers, lifestyle experts, and opinion leaders via email and phone calls for exclusive interviews sharing insights about iPhone 15's transformative features.\n",
            "\n",
            "**Budget Allocation:**\n",
            "\n",
            "1. **Influencer Partnerships (30%): $3 million**\n",
            "2. **Event Marketing (20%): $2 million**\n",
            "3. **Experiential Marketing (15%): $1.5 million**\n",
            "4. **Digital Advertising (15%): $1.5 million**\n",
            "5. **Public Relations (10%): $1 million**\n",
            "6. **Teaser Campaign & Content Creation (10%): $1 million**\n",
            "\n",
            "**Launch Timeline:**\n",
            "\n",
            "\n",
            "Launch Preparation: (Weeks 8 prior to launch)\n",
            "\n",
            "* Release teaser ads\n",
            "* Share iPhone 15 news on social media platforms\n",
            "* Engage influencers using hashtag\n",
            "\n",
            "Launch Day: September 15th\n",
            "\n",
            "* Event marketing and influencer partnerships in action\n",
            "* Experiential pop-up sites open for customers and fans worldwide\n",
            "\n",
            "\n",
            "**Campaign Evaluation and Optimization Post-launch Dates (Weeks 15 - 45 post-launch)**\n",
            "\n",
            "* Performance tracking with Google Analytics, Adobe Audience Manager, email performance results \n",
            "* Monitor campaign ROI and adjust ad spends for better engagement results\n"
          ]
        }
      ]
    }
  ]
}