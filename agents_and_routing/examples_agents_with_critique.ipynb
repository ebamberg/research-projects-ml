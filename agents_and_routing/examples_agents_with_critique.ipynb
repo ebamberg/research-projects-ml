{
  "nbformat": 4,
  "nbformat_minor": 0,
  "metadata": {
    "colab": {
      "provenance": [],
      "gpuType": "T4",
      "authorship_tag": "ABX9TyNzAIx4oPsz4LXvyH0mT8cX",
      "include_colab_link": true
    },
    "kernelspec": {
      "name": "python3",
      "display_name": "Python 3"
    },
    "language_info": {
      "name": "python"
    },
    "accelerator": "GPU"
  },
  "cells": [
    {
      "cell_type": "markdown",
      "metadata": {
        "id": "view-in-github",
        "colab_type": "text"
      },
      "source": [
        "<a href=\"https://colab.research.google.com/github/ebamberg/research-projects-ml/blob/main/agents_and_routing/examples_agents_with_critique.ipynb\" target=\"_parent\"><img src=\"https://colab.research.google.com/assets/colab-badge.svg\" alt=\"Open In Colab\"/></a>"
      ]
    },
    {
      "cell_type": "markdown",
      "source": [],
      "metadata": {
        "id": "ittnx9TnwT_y"
      }
    },
    {
      "cell_type": "code",
      "execution_count": 9,
      "metadata": {
        "id": "GCm0uJVC9jvj"
      },
      "outputs": [],
      "source": [
        "!pip install ollama langchain_community --quiet\n",
        "\n",
        "host=\"localhost:11434\"\n",
        "modelid=\"llama3.2\"\n",
        "emb_modelid=\"mxbai-embed-large\"\n",
        "\n",
        "get_ipython().system_raw(\"curl -fsSL https://ollama.com/install.sh | sh\")\n",
        "get_ipython().system_raw(\"ollama serve &\")\n",
        "get_ipython().system_raw(f\"ollama pull {modelid}\")\n",
        "get_ipython().system_raw(f\"ollama pull {emb_modelid}\")\n"
      ]
    },
    {
      "cell_type": "code",
      "source": [
        "!pip install openai --quiet"
      ],
      "metadata": {
        "id": "VMom2AWiyAdg"
      },
      "execution_count": 10,
      "outputs": []
    },
    {
      "cell_type": "code",
      "source": [
        "get_ipython().system_raw(f\"ollama pull {modelid}\")"
      ],
      "metadata": {
        "id": "z_AAjjHozJOM"
      },
      "execution_count": 11,
      "outputs": []
    },
    {
      "cell_type": "code",
      "source": [
        "from openai import OpenAI\n",
        "\n",
        "\n",
        "llm = OpenAI(\n",
        "        base_url=f\"http://{host}/v1\",\n",
        "        api_key=\"ollama\",  # required, but unused\n",
        "    )\n",
        "\n",
        "\n"
      ],
      "metadata": {
        "id": "yHCElQFQb2XR"
      },
      "execution_count": 12,
      "outputs": []
    },
    {
      "cell_type": "code",
      "source": [
        "def call(system_prompt: str, message: str) -> str:\n",
        "  completion = llm.chat.completions.create(\n",
        "      model=modelid,\n",
        "      messages=[\n",
        "          {\"role\": \"system\", \"content\": system_prompt},\n",
        "          {\n",
        "              \"role\": \"user\",\n",
        "              \"content\": message,\n",
        "          },\n",
        "      ],\n",
        "  )\n",
        "\n",
        "  return completion.choices[0].message.content"
      ],
      "metadata": {
        "id": "YkaTeOcP3HHu"
      },
      "execution_count": 13,
      "outputs": []
    },
    {
      "cell_type": "code",
      "source": [
        "def marketing_campaign_agent(product : str):\n",
        "  \"\"\"\n",
        "     <PRODUCT>{product}</PRODUCT>\n",
        "\n",
        "     Your task is to create an compelling marketing campaign for the product provided between the <product> tag.\n",
        "  \"\"\"\n",
        "  return call (\"your are a marketing campaign export.\", marketing_campaign_agent.__doc__.format(product=product) )"
      ],
      "metadata": {
        "id": "ODbK4Rp63VTn"
      },
      "execution_count": 14,
      "outputs": []
    },
    {
      "cell_type": "code",
      "source": [
        "def ready_validation_agent(marketing_text : str) -> bool:\n",
        "  \"\"\"\n",
        "\n",
        "    <CONTENT>{text}</CONTENT>\n",
        "    I have asked you to create a marketing text for a product  earlier. You can find the text between the <CONTENT> tags.\n",
        "\n",
        "    Is this the final version of the marketing text and ready to publish or can we improve it?\n",
        "\n",
        "     Your task is to answer with\n",
        "     - TRUE if this is the final version of the marketing text and ready to publish.\n",
        "     - FALSE if this is not the final version of the marketing text and we need to improve it.\n",
        "\n",
        "     Only answer with TRUE or FALSE. add nothing else to your response.\n",
        "\n",
        "    \"\"\"\n",
        "  result = call (\"your are a marketing campaign export.\", ready_validation_agent.__doc__.format(text=marketing_text) )\n",
        "  print (result)\n",
        "  return result.strip().lower() == \"true\""
      ],
      "metadata": {
        "id": "X_-AB92x6ZJ1"
      },
      "execution_count": 15,
      "outputs": []
    },
    {
      "cell_type": "code",
      "source": [
        "def refinements_agent(product : str, marketing_text : str) -> str:\n",
        "  \"\"\"\n",
        "  <PRODUCT>{product}</PRODUCT>\n",
        "\n",
        "  <CONTENT>{text}</CONTENT>\n",
        "\n",
        "  I have asked you to create a marketing text for a product earlier. You can find the text between the <CONTENT> tags.\n",
        "\n",
        "  This marketing text is not final and not yet ready for publishing.\n",
        "\n",
        "  Your task is to analyse the text and think about improvments that we can do the text on order to finalize it.\n",
        "\n",
        "  ### OUTPUT\n",
        "  Please output a  list of improvements you have found.\n",
        "\n",
        "  \"\"\"\n",
        "  return call (\"your are a marketing campaign export.\", refinements_agent.__doc__.format(product=product, text=marketing_text) )"
      ],
      "metadata": {
        "id": "en1xrwVlq4sT"
      },
      "execution_count": 16,
      "outputs": []
    },
    {
      "cell_type": "code",
      "source": [
        "product = \"iPhone 15\"\n",
        "\n",
        "marketing_text = marketing_campaign_agent(product)\n",
        "is_finished = ready_validation_agent(marketing_text)\n",
        "refinements = refinements_agent(product, marketing_text)"
      ],
      "metadata": {
        "colab": {
          "base_uri": "https://localhost:8080/",
          "height": 297
        },
        "id": "parsnXE044qC",
        "outputId": "ccd335e3-1db3-454e-ec7c-78557bd66388"
      },
      "execution_count": 17,
      "outputs": [
        {
          "output_type": "stream",
          "name": "stdout",
          "text": [
            "FALSE\n"
          ]
        },
        {
          "output_type": "error",
          "ename": "NameError",
          "evalue": "name 's' is not defined",
          "traceback": [
            "\u001b[0;31m---------------------------------------------------------------------------\u001b[0m",
            "\u001b[0;31mNameError\u001b[0m                                 Traceback (most recent call last)",
            "\u001b[0;32m/tmp/ipython-input-3195750352.py\u001b[0m in \u001b[0;36m<cell line: 0>\u001b[0;34m()\u001b[0m\n\u001b[1;32m      2\u001b[0m \u001b[0;34m\u001b[0m\u001b[0m\n\u001b[1;32m      3\u001b[0m \u001b[0mmarketing_text\u001b[0m \u001b[0;34m=\u001b[0m \u001b[0mmarketing_campaign_agent\u001b[0m\u001b[0;34m(\u001b[0m\u001b[0mproduct\u001b[0m\u001b[0;34m)\u001b[0m\u001b[0;34m\u001b[0m\u001b[0;34m\u001b[0m\u001b[0m\n\u001b[0;32m----> 4\u001b[0;31m \u001b[0mis_finished\u001b[0m \u001b[0;34m=\u001b[0m \u001b[0mready_validation_agent\u001b[0m\u001b[0;34m(\u001b[0m\u001b[0mmarketing_text\u001b[0m\u001b[0;34m)\u001b[0m\u001b[0;34m\u001b[0m\u001b[0;34m\u001b[0m\u001b[0m\n\u001b[0m\u001b[1;32m      5\u001b[0m \u001b[0mrefinements\u001b[0m \u001b[0;34m=\u001b[0m \u001b[0mrefinements_agent\u001b[0m\u001b[0;34m(\u001b[0m\u001b[0mproduct\u001b[0m\u001b[0;34m,\u001b[0m \u001b[0mmarketing_text\u001b[0m\u001b[0;34m)\u001b[0m\u001b[0;34m\u001b[0m\u001b[0;34m\u001b[0m\u001b[0m\n",
            "\u001b[0;32m/tmp/ipython-input-718944337.py\u001b[0m in \u001b[0;36mready_validation_agent\u001b[0;34m(marketing_text)\u001b[0m\n\u001b[1;32m     16\u001b[0m   \u001b[0mresult\u001b[0m \u001b[0;34m=\u001b[0m \u001b[0mcall\u001b[0m \u001b[0;34m(\u001b[0m\u001b[0;34m\"your are a marketing campaign export.\"\u001b[0m\u001b[0;34m,\u001b[0m \u001b[0mready_validation_agent\u001b[0m\u001b[0;34m.\u001b[0m\u001b[0m__doc__\u001b[0m\u001b[0;34m.\u001b[0m\u001b[0mformat\u001b[0m\u001b[0;34m(\u001b[0m\u001b[0mtext\u001b[0m\u001b[0;34m=\u001b[0m\u001b[0mmarketing_text\u001b[0m\u001b[0;34m)\u001b[0m \u001b[0;34m)\u001b[0m\u001b[0;34m\u001b[0m\u001b[0;34m\u001b[0m\u001b[0m\n\u001b[1;32m     17\u001b[0m   \u001b[0mprint\u001b[0m \u001b[0;34m(\u001b[0m\u001b[0mresult\u001b[0m\u001b[0;34m)\u001b[0m\u001b[0;34m\u001b[0m\u001b[0;34m\u001b[0m\u001b[0m\n\u001b[0;32m---> 18\u001b[0;31m   \u001b[0;32mreturn\u001b[0m \u001b[0ms\u001b[0m\u001b[0;34m.\u001b[0m\u001b[0mstrip\u001b[0m\u001b[0;34m(\u001b[0m\u001b[0;34m)\u001b[0m\u001b[0;34m.\u001b[0m\u001b[0mlower\u001b[0m\u001b[0;34m(\u001b[0m\u001b[0;34m)\u001b[0m \u001b[0;34m==\u001b[0m \u001b[0;34m\"true\"\u001b[0m\u001b[0;34m\u001b[0m\u001b[0;34m\u001b[0m\u001b[0m\n\u001b[0m",
            "\u001b[0;31mNameError\u001b[0m: name 's' is not defined"
          ]
        }
      ]
    },
    {
      "cell_type": "code",
      "source": [
        "marketing_text"
      ],
      "metadata": {
        "id": "4iSgEgej5bWp"
      },
      "execution_count": null,
      "outputs": []
    },
    {
      "cell_type": "code",
      "source": [
        "is_finished\n"
      ],
      "metadata": {
        "id": "dETeKgVg76k4"
      },
      "execution_count": null,
      "outputs": []
    },
    {
      "cell_type": "code",
      "source": [
        "refinements"
      ],
      "metadata": {
        "id": "Dy_RcPmssnZs"
      },
      "execution_count": null,
      "outputs": []
    }
  ]
}