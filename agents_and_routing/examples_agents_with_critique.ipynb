{
  "nbformat": 4,
  "nbformat_minor": 0,
  "metadata": {
    "colab": {
      "provenance": [],
      "gpuType": "T4",
      "authorship_tag": "ABX9TyNdQkSeFb+hjAUWa0ckEwr/",
      "include_colab_link": true
    },
    "kernelspec": {
      "name": "python3",
      "display_name": "Python 3"
    },
    "language_info": {
      "name": "python"
    },
    "accelerator": "GPU"
  },
  "cells": [
    {
      "cell_type": "markdown",
      "metadata": {
        "id": "view-in-github",
        "colab_type": "text"
      },
      "source": [
        "<a href=\"https://colab.research.google.com/github/ebamberg/research-projects-ml/blob/main/agents_and_routing/examples_agents_with_critique.ipynb\" target=\"_parent\"><img src=\"https://colab.research.google.com/assets/colab-badge.svg\" alt=\"Open In Colab\"/></a>"
      ]
    },
    {
      "cell_type": "markdown",
      "source": [],
      "metadata": {
        "id": "ittnx9TnwT_y"
      }
    },
    {
      "cell_type": "code",
      "execution_count": 9,
      "metadata": {
        "id": "GCm0uJVC9jvj"
      },
      "outputs": [],
      "source": [
        "!pip install ollama langchain_community --quiet\n",
        "\n",
        "host=\"localhost:11434\"\n",
        "modelid=\"llama3.2\"\n",
        "emb_modelid=\"mxbai-embed-large\"\n",
        "\n",
        "get_ipython().system_raw(\"curl -fsSL https://ollama.com/install.sh | sh\")\n",
        "get_ipython().system_raw(\"ollama serve &\")\n",
        "get_ipython().system_raw(f\"ollama pull {modelid}\")\n",
        "get_ipython().system_raw(f\"ollama pull {emb_modelid}\")\n"
      ]
    },
    {
      "cell_type": "code",
      "source": [
        "!pip install openai --quiet"
      ],
      "metadata": {
        "id": "VMom2AWiyAdg"
      },
      "execution_count": 10,
      "outputs": []
    },
    {
      "cell_type": "code",
      "source": [
        "get_ipython().system_raw(f\"ollama pull {modelid}\")"
      ],
      "metadata": {
        "id": "z_AAjjHozJOM"
      },
      "execution_count": 11,
      "outputs": []
    },
    {
      "cell_type": "code",
      "source": [
        "from openai import OpenAI\n",
        "\n",
        "\n",
        "llm = OpenAI(\n",
        "        base_url=f\"http://{host}/v1\",\n",
        "        api_key=\"ollama\",  # required, but unused\n",
        "    )\n",
        "\n",
        "\n"
      ],
      "metadata": {
        "id": "yHCElQFQb2XR"
      },
      "execution_count": 12,
      "outputs": []
    },
    {
      "cell_type": "code",
      "source": [
        "def call(system_prompt: str, message: str) -> str:\n",
        "  completion = llm.chat.completions.create(\n",
        "      model=modelid,\n",
        "      messages=[\n",
        "          {\"role\": \"system\", \"content\": system_prompt},\n",
        "          {\n",
        "              \"role\": \"user\",\n",
        "              \"content\": message,\n",
        "          },\n",
        "      ],\n",
        "  )\n",
        "\n",
        "  return completion.choices[0].message.content"
      ],
      "metadata": {
        "id": "YkaTeOcP3HHu"
      },
      "execution_count": 13,
      "outputs": []
    },
    {
      "cell_type": "code",
      "source": [
        "def marketing_campaign_agent(product : str):\n",
        "  \"\"\"\n",
        "     <PRODUCT>{product}</PRODUCT>\n",
        "\n",
        "     Your task is to create an compelling marketing campaign for the product provided between the <product> tag.\n",
        "  \"\"\"\n",
        "  return call (\"your are a marketing campaign export.\", marketing_campaign_agent.__doc__.format(product=product) )"
      ],
      "metadata": {
        "id": "ODbK4Rp63VTn"
      },
      "execution_count": 14,
      "outputs": []
    },
    {
      "cell_type": "code",
      "source": [
        "def ready_validation_agent(marketing_text : str) -> bool:\n",
        "  \"\"\"\n",
        "\n",
        "    <CONTENT>{text}</CONTENT>\n",
        "    I have asked you to create a marketing text for a product  earlier. You can find the text between the <CONTENT> tags.\n",
        "\n",
        "    Is this the final version of the marketing text and ready to publish or can we improve it?\n",
        "\n",
        "     Your task is to answer with\n",
        "     - TRUE if this is the final version of the marketing text and ready to publish.\n",
        "     - FALSE if this is not the final version of the marketing text and we need to improve it.\n",
        "\n",
        "     Only answer with TRUE or FALSE. add nothing else to your response.\n",
        "\n",
        "    \"\"\"\n",
        "  result = call (\"your are a marketing campaign export.\", ready_validation_agent.__doc__.format(text=marketing_text) )\n",
        "  print (result)\n",
        "  return result.strip().lower() == \"true\""
      ],
      "metadata": {
        "id": "X_-AB92x6ZJ1"
      },
      "execution_count": 18,
      "outputs": []
    },
    {
      "cell_type": "code",
      "source": [
        "def refinements_agent(product : str, marketing_text : str) -> str:\n",
        "  \"\"\"\n",
        "  <PRODUCT>{product}</PRODUCT>\n",
        "\n",
        "  <CONTENT>{text}</CONTENT>\n",
        "\n",
        "  I have asked you to create a marketing text for a product earlier. You can find the text between the <CONTENT> tags.\n",
        "\n",
        "  This marketing text is not final and not yet ready for publishing.\n",
        "\n",
        "  Your task is to analyse the text and think about improvments that we can do the text on order to finalize it.\n",
        "\n",
        "  ### OUTPUT\n",
        "  Please output a  list of improvements you have found.\n",
        "\n",
        "  \"\"\"\n",
        "  return call (\"your are a marketing campaign export.\", refinements_agent.__doc__.format(product=product, text=marketing_text) )"
      ],
      "metadata": {
        "id": "en1xrwVlq4sT"
      },
      "execution_count": 16,
      "outputs": []
    },
    {
      "cell_type": "code",
      "source": [
        "def refine_agent(product : str, marketing_text : str, refinements : str ) -> str:\n",
        "  \"\"\"\n",
        "  <PRODUCT>{product}</PRODUCT>\n",
        "\n",
        "  <CONTENT>{text}</CONTENT>\n",
        "\n",
        "  I have asked you to create a marketing text for a product earlier. You can find the text between the <CONTENT> tags.\n",
        "\n",
        "  Your task is to refine the marketing text provided betwen the <CONTENT> tag with the follwing refinements. Don't use any other sources.\n",
        "\n",
        " ### Refinements\n",
        " {refinements}\n",
        "\n",
        "\n",
        "  \"\"\"\n",
        "  return call (\"your are a marketing campaign export.\", refinements_agent.__doc__.format(product=product, text=marketing_text, refinements=refinements) )"
      ],
      "metadata": {
        "id": "m6DhXF9G0_Uf"
      },
      "execution_count": 25,
      "outputs": []
    },
    {
      "cell_type": "code",
      "source": [
        "product = \"iPhone 15\"\n",
        "\n",
        "marketing_text = marketing_campaign_agent(product)\n",
        "is_finished = ready_validation_agent(marketing_text)\n",
        "refinements = refinements_agent(product, marketing_text)\n",
        "next_text_iteration = refine_agent(product, marketing_text, refinements)\n"
      ],
      "metadata": {
        "colab": {
          "base_uri": "https://localhost:8080/"
        },
        "id": "parsnXE044qC",
        "outputId": "6ecb3a5b-e968-46a7-8632-08a3d4ffd1af"
      },
      "execution_count": null,
      "outputs": [
        {
          "output_type": "stream",
          "name": "stdout",
          "text": [
            "FALSE\n"
          ]
        }
      ]
    },
    {
      "cell_type": "code",
      "source": [
        "print (marketing_text)\n",
        "print (\"###### critique\")\n",
        "print (is_finished)\n",
        "print (refinements)\n",
        "print (\"###### next text iteration\")\n",
        "print (next_text_iteration)"
      ],
      "metadata": {
        "colab": {
          "base_uri": "https://localhost:8080/"
        },
        "id": "4iSgEgej5bWp",
        "outputId": "297670db-4aec-4b8a-aa2a-c1bcae5ecf90"
      },
      "execution_count": 27,
      "outputs": [
        {
          "output_type": "stream",
          "name": "stdout",
          "text": [
            "**Marketing Campaign: \"Elevate Your World\"**\n",
            "\n",
            "**Tagline:** Experience the future of smartphones with iPhone 15\n",
            "\n",
            "**Objective:** Create a buzz around the launch of iPhone 15, emphasizing its cutting-edge features and innovative design while appealing to existing customers and new users alike.\n",
            "\n",
            "**Target Audience:**\n",
            "\n",
            "1. Young professionals (25-35 years old)\n",
            "2. Tech-savvy individuals\n",
            "3. Existing iPhone 14 users looking for an upgrade\n",
            "\n",
            "**Key Messaging:**\n",
            "\n",
            "* Unlock a world of endless possibilities with iPhone 15's advanced camera system, fast A17 Bionic chip, and long-lasting battery life.\n",
            "* Experience the innovative MagSafe design, combining style and functionality.\n",
            "* Discover new ways to express yourself with our stunning display and immersive augmented reality capabilities.\n",
            "\n",
            "**Marketing Channels:**\n",
            "\n",
            "1. **Social Media Campaigns:**\n",
            "\t* Facebook:\n",
            "\t\t+ Teaser ad series highlighting iPhone 15's key features\n",
            "\t\t+ Influencer partnerships with popular tech-focused content creators\n",
            "\t* Instagram:\n",
            "\t\t+ Eye-catching visuals showcasing iPhone 15's design and capabilities\n",
            "\t\t+ Interactive quizzes and polls to engage users\n",
            "\t* Twitter:\n",
            "\t\t+ Real-time updates on the launch event featuring special guests, product demos, and behind-the-scenes content\n",
            "2. **Influencer Marketing:**\n",
            "\t* Partner with top tech influencers for exclusive reviews and hands-on experiences\n",
            "3. **Experiential Marketing:**\n",
            "\t* Host immersive event spaces in-store to showcase iPhone 15's capabilities and MagSafe design\n",
            "4. **Digital Advertising:**\n",
            "\t* Billboard ads featuring striking visuals of iPhone 15's display and camera system\n",
            "\t* Online video commercials highlighting the phone's performance, battery life, and sleek design\n",
            "5. **PR and Media Outreach:**\n",
            "\t* Invite media representatives to review iPhone 15 in advance of launch\n",
            "\t* Conduct exclusive press conference with Apple representatives to discuss product features\n",
            "\n",
            "**Content Calendar:**\n",
            "\n",
            "Week 1-2:\n",
            "\n",
            "* Teaser ad series on Facebook and Instagram\n",
            "* Influencer partnerships announcements on Twitter\n",
            "\n",
            "Week 3:\n",
            "\n",
            "* Experiential marketing event opens in-store\n",
            "* Online video commercials premiere on YouTube, Hulu, and other streaming platforms\n",
            "\n",
            "Week 4-5:\n",
            "\n",
            "* Launch day! Host live events, offer exclusive deals to early adopters, and share post-launch content\n",
            "\n",
            "**Media and Promotion:**\n",
            "\n",
            "1. Offer **exclusive deals for first-time iPhone buyers**, such as a free pair of AirPods Pro with pre-orders.\n",
            "2. Provide **early adoption discounts** for customers who upgrade from an older iPhone model.\n",
            "3. **Collaborate with popular streaming services** to offer special features, like enhanced video playback, using iPhone 15.\n",
            "\n",
            "**Budget Allocation:**\n",
            "\n",
            "1. Social Media & Influencer Marketing (30%)\n",
            "2. Experiential Marketing (25%)\n",
            "3. Digital Advertising (20%)\n",
            "4. PR & Media Outreach (10%)\n",
            "5. Content Creation & Distribution (15%)\n",
            "\n",
            "**Timeline:**\n",
            "\n",
            "* Month 1: Launch social media and influencer campaigns\n",
            "* Month 2-3: Roll out experiential marketing events, online ads, and launch day promotions\n",
            "* Month 4-6: Analyze results, optimize campaign performance, and plan for future activations\n",
            "\n",
            "By utilizing these channels and strategies, we can create a powerful marketing effort that builds excitement around the iPhone 15 and positions it as an essential product for anyone looking to experience the best of smartphone technology.\n",
            "###### critique\n",
            "False\n",
            "**Marketing Text Improvements**\n",
            "\n",
            "After analyzing the provided marketing text, I've identified several areas for improvement:\n",
            "\n",
            "1. **Make the tone more concise and clear**: Some sentences are wordy or repetitive. Consider rephrasing to make the content more direct and concise.\n",
            "\n",
            "Example:\n",
            "Original: \"Unlock a world of endless possibilities with iPhone 15's advanced camera system, fast A17 Bionic chip, and long-lasting battery life.\"\n",
            "Improved: \"Experience unlimited possibilities with iPhone 15's cutting-edge camera, fast A17 Bionic chip, and long-lasting battery.\"\n",
            "\n",
            "2. **Use more dynamic language**: The text could benefit from more engaging and vibrant language to match the excitement of the product launch.\n",
            "\n",
            "Example:\n",
            "Original: \"Discover new ways to express yourself with our stunning display\"\n",
            "Improved: \"Amplify your self-expression with iPhone 15's breathtaking display\"\n",
            "\n",
            "3. **Emphasize key benefits**: While the text mentions features, it doesn't explicitly highlight the advantages they offer to customers.\n",
            "\n",
            "Example:\n",
            "Original: \"Experience the future of smartphones with iPhone 15\"\n",
            "Improved: \"Upgrade to a future-proof smartphone with iPhone 15 – enjoy unparalleled performance, improved camera quality, and extended battery life\"\n",
            "\n",
            "4. **Provide clear quantifiable metrics**: Adding specific numbers or statistics can help reinforce the impact of the product's features.\n",
            "\n",
            "Example:\n",
            "Original: \"Fast A17 Bionic chip\"\n",
            "Improved: \"With its lightning-fast A17 Bionic chip, iPhone 15 delivers a seamless performance boost that reduces latency by up to 30% and supports augmented reality capabilities that load in just 1.5 seconds\"\n",
            "\n",
            "5. **Consider alternative channel allocations**: Review the budget allocation to ensure that each category serves a purpose and is feasible given the campaign goals.\n",
            "\n",
            "Example:\n",
            "* Social Media & Influencer Marketing: 35%\n",
            "* Digital Advertising: 20%\n",
            "\t+ Consider reallocation of 15% from social media to digital advertising to optimize for performance\n",
            "\n",
            "6. **Use more specific and impactful visuals**: Emphasize the importance of visual content in the marketing strategy, ensuring that high-quality images and videos showcase iPhone 15's features.\n",
            "\n",
            "Example:\n",
            "Original: \"Eye-catching visuals showcasing iPhone 15's design and capabilities\"\n",
            "Improved: \"Showcase the stunning beauty of iPhone 15 with immersive visuals – highlight advanced camera angles, sleek MagSafe design\"\n",
            "\n",
            "7. **Rephrase \"first-time iPhone buyer\" to \"entry-level user\"**: Make sure language is inclusive and clear.\n",
            "\n",
            "Example:\n",
            "* Offer exclusive deals for entry-level users\n",
            "###### next text iteration\n",
            "After analyzing the provided marketing text, I've identified several potential areas for improvement:\n",
            "\n",
            "**1. Clarify the Unique Selling Proposition (USP):**\n",
            "The campaign focuses on highlighting various features and benefits without explicitly stating what sets iPhone 15 apart from its competitors. Consider adding a clear USP to make the message more compelling.\n",
            "\n",
            "**2. Make the Tagline More Concise:**\n",
            "The current tagline, \"Experience the future of smartphones with iPhone 15,\" is lengthy and might not be remembered as effectively as a shorter, punchier alternative.\n",
            "\n",
            "**3. Reduce Repetition:**\n",
            "Some key messaging points, such as the camera system and long-lasting battery life, are repeated throughout the text. Consider condensing this information to avoid repetition.\n",
            "\n",
            "**4. Enhance Emotional Connection:**\n",
            "While the campaign mentions innovative features and design, it could benefit from a stronger emotional connection with the target audience. Adding a personal story or highlighting how iPhone 15 can improve customers' lives might increase engagement.\n",
            "\n",
            "**5. Amplify Security and Trust Messaging:**\n",
            "The text only briefly mentions security, which is likely a concern for potential buyers. Consider emphasizing the phone's robust security features to alleviate these concerns.\n",
            "\n",
            "**6. Improve Visuals and Sensory Description:**\n",
            "To create a more immersive experience, incorporate descriptive language that appeals to users' senses (e.g., sight, sound, touch). This can help them better visualize and connect with the iPhone 15.\n",
            "\n",
            "**7. Standardize Acronym Usage:**\n",
            "The text uses technical terms like \"MagSafe\" without explaining what they mean for non-experts. Make sure these explanations are conveyed in an accessible way or provide a brief explanation at the beginning of the campaign.\n",
            "\n",
            "Additional suggestions:\n",
            "\n",
            "* Use more active, descriptive verbs to describe products and emotions.\n",
            "* Incorporate social proof, such as customer testimonials or expert reviews, to build credibility.\n",
            "* Utilize humor, empathy, or inspirational language to humanize the brand and connect with diverse audiences.\n",
            "* Consider a clearer distinction between \"key messaging\" points to avoid overlapping information.\n",
            "\n",
            "Here is an updated list that summarizes these improvements:\n",
            "\n",
            "**Marketing Campaign Improvements:**\n",
            "\n",
            "1. Clarify Unique Selling Proposition (USP)\n",
            "2. Make Tagline More Concise\n",
            "3. Reduce Repetition of Key Messaging Points\n",
            "4. Enhance Emotional Connection with Target Audience\n",
            "5. Amplify Security and Trust Messaging\n",
            "6. Incorporate Sensory Description to Create Immersive Experience\n"
          ]
        }
      ]
    }
  ]
}