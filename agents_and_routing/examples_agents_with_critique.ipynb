{
  "nbformat": 4,
  "nbformat_minor": 0,
  "metadata": {
    "colab": {
      "provenance": [],
      "gpuType": "T4",
      "authorship_tag": "ABX9TyO7rP9Hv5OORPHnPViRntdv",
      "include_colab_link": true
    },
    "kernelspec": {
      "name": "python3",
      "display_name": "Python 3"
    },
    "language_info": {
      "name": "python"
    },
    "accelerator": "GPU"
  },
  "cells": [
    {
      "cell_type": "markdown",
      "metadata": {
        "id": "view-in-github",
        "colab_type": "text"
      },
      "source": [
        "<a href=\"https://colab.research.google.com/github/ebamberg/research-projects-ml/blob/main/agents_and_routing/examples_agents_with_critique.ipynb\" target=\"_parent\"><img src=\"https://colab.research.google.com/assets/colab-badge.svg\" alt=\"Open In Colab\"/></a>"
      ]
    },
    {
      "cell_type": "markdown",
      "source": [],
      "metadata": {
        "id": "ittnx9TnwT_y"
      }
    },
    {
      "cell_type": "code",
      "execution_count": null,
      "metadata": {
        "id": "GCm0uJVC9jvj",
        "colab": {
          "base_uri": "https://localhost:8080/"
        },
        "outputId": "d45b6815-6954-46b3-f29e-7eb43bb05a58"
      },
      "outputs": [
        {
          "output_type": "stream",
          "name": "stdout",
          "text": [
            "\u001b[2K   \u001b[90m━━━━━━━━━━━━━━━━━━━━━━━━━━━━━━━━━━━━━━━━\u001b[0m \u001b[32m2.5/2.5 MB\u001b[0m \u001b[31m43.7 MB/s\u001b[0m eta \u001b[36m0:00:00\u001b[0m\n",
            "\u001b[2K   \u001b[90m━━━━━━━━━━━━━━━━━━━━━━━━━━━━━━━━━━━━━━━━\u001b[0m \u001b[32m45.2/45.2 kB\u001b[0m \u001b[31m4.5 MB/s\u001b[0m eta \u001b[36m0:00:00\u001b[0m\n",
            "\u001b[2K   \u001b[90m━━━━━━━━━━━━━━━━━━━━━━━━━━━━━━━━━━━━━━━━\u001b[0m \u001b[32m50.9/50.9 kB\u001b[0m \u001b[31m4.7 MB/s\u001b[0m eta \u001b[36m0:00:00\u001b[0m\n",
            "\u001b[?25h"
          ]
        }
      ],
      "source": [
        "!pip install ollama langchain_community --quiet\n",
        "\n",
        "host=\"localhost:11434\"\n",
        "modelid=\"llama3.2\"\n",
        "emb_modelid=\"mxbai-embed-large\"\n",
        "\n",
        "get_ipython().system_raw(\"curl -fsSL https://ollama.com/install.sh | sh\")\n",
        "get_ipython().system_raw(\"ollama serve &\")\n",
        "get_ipython().system_raw(f\"ollama pull {modelid}\")\n",
        "get_ipython().system_raw(f\"ollama pull {emb_modelid}\")\n"
      ]
    },
    {
      "cell_type": "code",
      "source": [
        "!pip install openai --quiet"
      ],
      "metadata": {
        "id": "VMom2AWiyAdg"
      },
      "execution_count": null,
      "outputs": []
    },
    {
      "cell_type": "code",
      "source": [
        "get_ipython().system_raw(f\"ollama pull {modelid}\")"
      ],
      "metadata": {
        "id": "z_AAjjHozJOM"
      },
      "execution_count": null,
      "outputs": []
    },
    {
      "cell_type": "code",
      "source": [
        "from openai import OpenAI\n",
        "\n",
        "\n",
        "llm = OpenAI(\n",
        "        base_url=f\"http://{host}/v1\",\n",
        "        api_key=\"ollama\",  # required, but unused\n",
        "    )\n",
        "\n",
        "\n"
      ],
      "metadata": {
        "id": "yHCElQFQb2XR"
      },
      "execution_count": null,
      "outputs": []
    },
    {
      "cell_type": "code",
      "source": [
        "def call(system_prompt: str, message: str) -> str:\n",
        "  completion = llm.chat.completions.create(\n",
        "      model=modelid,\n",
        "      messages=[\n",
        "          {\"role\": \"system\", \"content\": system_prompt},\n",
        "          {\n",
        "              \"role\": \"user\",\n",
        "              \"content\": message,\n",
        "          },\n",
        "      ],\n",
        "  )\n",
        "\n",
        "  return completion.choices[0].message.content"
      ],
      "metadata": {
        "id": "YkaTeOcP3HHu"
      },
      "execution_count": null,
      "outputs": []
    },
    {
      "cell_type": "code",
      "source": [
        "def marketing_campaign_agent(product : str):\n",
        "  \"\"\"\n",
        "     <PRODUCT>{product}</PRODUCT>\n",
        "\n",
        "     Your task is to create an compelling marketing campaign for the product provided between the <product> tag.\n",
        "  \"\"\"\n",
        "  return call (\"your are a marketing campaign export.\", marketing_campaign_agent.__doc__.format(product=product) )"
      ],
      "metadata": {
        "id": "ODbK4Rp63VTn"
      },
      "execution_count": null,
      "outputs": []
    },
    {
      "cell_type": "code",
      "source": [
        "def ready_validation_agent(marketing_text : str) -> bool:\n",
        "  \"\"\"\n",
        "     <CONTENT>{text}</CONTENT>\n",
        "\n",
        "    I have asked you to create a marketing text for a product earlier. You can find the text between the <CONTENT> tags.\n",
        "\n",
        "    Is this the final version of the marketing text and ready to publish or can we improve it?\n",
        "\n",
        "     Your task is to answer with\n",
        "     - TRUE if this is the final version of the marketing text and ready to publish.\n",
        "     - FALSE if this is not the final version of the marketing text and we need to improve it.\n",
        "\n",
        "     Only answer with TRUE or FALSE. add nothing else to your response.\n",
        "\n",
        "    \"\"\"\n",
        "  result = call (\"your are a marketing campaign export.\", ready_validation_agent.__doc__.format(text=marketing_text) )\n",
        "  print (result)\n",
        "  return s.strip().lower() == \"true\""
      ],
      "metadata": {
        "id": "X_-AB92x6ZJ1"
      },
      "execution_count": null,
      "outputs": []
    },
    {
      "cell_type": "code",
      "source": [
        "marketing_text = marketing_campaign_agent(\"iPhone 15\")\n",
        "is_finished=ready_validation_agent(marketing_text)"
      ],
      "metadata": {
        "colab": {
          "base_uri": "https://localhost:8080/",
          "height": 280
        },
        "id": "parsnXE044qC",
        "outputId": "87ff481d-2492-4317-8103-7908a22ce3b3"
      },
      "execution_count": null,
      "outputs": [
        {
          "output_type": "error",
          "ename": "NameError",
          "evalue": "name 'FALSE' is not defined",
          "traceback": [
            "\u001b[0;31m---------------------------------------------------------------------------\u001b[0m",
            "\u001b[0;31mNameError\u001b[0m                                 Traceback (most recent call last)",
            "\u001b[0;32m/tmp/ipython-input-38-372825591.py\u001b[0m in \u001b[0;36m<cell line: 0>\u001b[0;34m()\u001b[0m\n\u001b[1;32m      1\u001b[0m \u001b[0mmarketing_text\u001b[0m \u001b[0;34m=\u001b[0m \u001b[0mmarketing_campaign_agent\u001b[0m\u001b[0;34m(\u001b[0m\u001b[0;34m\"iPhone 15\"\u001b[0m\u001b[0;34m)\u001b[0m\u001b[0;34m\u001b[0m\u001b[0;34m\u001b[0m\u001b[0m\n\u001b[0;32m----> 2\u001b[0;31m \u001b[0mis_finished\u001b[0m\u001b[0;34m=\u001b[0m\u001b[0mready_validation_agent\u001b[0m\u001b[0;34m(\u001b[0m\u001b[0mmarketing_text\u001b[0m\u001b[0;34m)\u001b[0m\u001b[0;34m\u001b[0m\u001b[0;34m\u001b[0m\u001b[0m\n\u001b[0m",
            "\u001b[0;32m/tmp/ipython-input-36-2203436784.py\u001b[0m in \u001b[0;36mready_validation_agent\u001b[0;34m(marketing_text)\u001b[0m\n\u001b[1;32m     14\u001b[0m \u001b[0;34m\u001b[0m\u001b[0m\n\u001b[1;32m     15\u001b[0m     \"\"\"\n\u001b[0;32m---> 16\u001b[0;31m   \u001b[0;32mreturn\u001b[0m \u001b[0meval\u001b[0m \u001b[0;34m(\u001b[0m \u001b[0mcall\u001b[0m \u001b[0;34m(\u001b[0m\u001b[0;34m\"your are a marketing campaign export.\"\u001b[0m\u001b[0;34m,\u001b[0m \u001b[0mready_validation_agent\u001b[0m\u001b[0;34m.\u001b[0m\u001b[0m__doc__\u001b[0m\u001b[0;34m.\u001b[0m\u001b[0mformat\u001b[0m\u001b[0;34m(\u001b[0m\u001b[0mtext\u001b[0m\u001b[0;34m=\u001b[0m\u001b[0mmarketing_text\u001b[0m\u001b[0;34m)\u001b[0m \u001b[0;34m)\u001b[0m \u001b[0;34m)\u001b[0m\u001b[0;34m\u001b[0m\u001b[0;34m\u001b[0m\u001b[0m\n\u001b[0m",
            "\u001b[0;32m<string>\u001b[0m in \u001b[0;36m<module>\u001b[0;34m\u001b[0m\n",
            "\u001b[0;31mNameError\u001b[0m: name 'FALSE' is not defined"
          ]
        }
      ]
    },
    {
      "cell_type": "code",
      "source": [
        "marketing_text"
      ],
      "metadata": {
        "colab": {
          "base_uri": "https://localhost:8080/",
          "height": 105
        },
        "id": "4iSgEgej5bWp",
        "outputId": "d8d82c64-c0c7-41b7-b918-39be3739cdc3"
      },
      "execution_count": null,
      "outputs": [
        {
          "output_type": "execute_result",
          "data": {
            "text/plain": [
              "'Here\\'s a comprehensive marketing campaign for the iPhone 15:\\n\\n**Campaign Name:** \"Unlock the Future\"\\n\\n**Objective:** To position the iPhone 15 as the most innovative and desirable smartphone of the year, appealing to tech-savvy customers who crave innovation and excellence.\\n\\n**Target Audience:**\\n\\n* Demographics: Tech enthusiasts aged 18-45\\n* Psychographics: Individuals who value cutting-edge technology, design, and user experience\\n\\n**Key Messages:**\\n\\n1. Experience the future with iPhone 15\\'s revolutionary A17 Bionic chip and advanced camera system.\\n2. Upgrade your mobile life with 5G connectivity, augmented reality capabilities, and AI-powered features.\\n3. Elevate your creativity with a stunning display, impressive battery life, and seamless ecosystem integration.\\n\\n**Marketing Channels:**\\n\\n1. **TV Commercial:** \"Timeless\" - A futuristic-themed ad featuring a time-traveling protagonist discovering the iPhone 15 as the key to unlocking the future.\\n2. **Print Advertisements:** Full-page spreads in top tech magazines, focusing on showcasing the device\\'s technical specifications and design features.\\n3. **Social Media Campaigns:**\\n\\t* Influencer partnerships with popular tech YouTubers and Instagrammers.\\n\\t* Interactive ads highlighting the phone\\'s AI-powered capabilities and camera features.\\n\\t* Live-streamed product demos and \"Unboxing\" experiences on YouTube, TikTok, and Facebook.\\n4. **Experiential Marketing:** Design immersive pop-up installations in key cities, simulating spaces where people can preview and explore the iPhone 15\\'s features.\\n5. **Digital Advertising:**\\n\\t* Targeted online ads (Google Ads, Facebook Ads) highlighting specific product benefits and price points.\\n\\n**PR Strategy:**\\n\\n1. Host a launch event featuring keynote presentations, demos, and hands-on experiences with iPhone 15 experts.\\n2. Offer exclusive interviews and previews to select media outlets and tech reviewers.\\n3. Leverage PR partnerships with influential thought leaders in emerging technologies (AR/VR, AI) for strategic commentary.\\n\\n**Hashtag Campaign:** #UnlockTheFuture\\n\\n**Visual Identity:**\\n\\n1. Logo Design: An updated iPhone 15 icon incorporating bold, futuristic lines.\\n2. Color Scheme: Apple\\'s signature space gray and new metallic blue hue.\\n3. Branding Tagline: \"Innovate Anything\"\\n\\n**Budget Allocation:**\\n\\n1. TV Commercial (30%)\\n2. Print Advertisements (20%)\\n3. Social Media Campaigns (15%)\\n4. Experiential Marketing (10%)\\n5. Digital Advertising (10%)\\n6. PR Strategy and Hashtag Campaigns (5%)\\n\\n**Timeline:**\\n\\nRelease Date: September 2025\\n\\nCampaign Launch Date: July 2025 (with teaser ads 2 months prior)\\n\\nDuration: October 2025 - June 2026\\n\\nLet me know if this campaign aligns with your expectations!'"
            ],
            "application/vnd.google.colaboratory.intrinsic+json": {
              "type": "string"
            }
          },
          "metadata": {},
          "execution_count": 33
        }
      ]
    },
    {
      "cell_type": "code",
      "source": [
        "is_finished\n"
      ],
      "metadata": {
        "id": "dETeKgVg76k4",
        "outputId": "ed74831a-a817-48ad-cf99-a1be5db5198b",
        "colab": {
          "base_uri": "https://localhost:8080/",
          "height": 35
        }
      },
      "execution_count": null,
      "outputs": [
        {
          "output_type": "execute_result",
          "data": {
            "text/plain": [
              "'FALSE'"
            ],
            "application/vnd.google.colaboratory.intrinsic+json": {
              "type": "string"
            }
          },
          "metadata": {},
          "execution_count": 34
        }
      ]
    }
  ]
}