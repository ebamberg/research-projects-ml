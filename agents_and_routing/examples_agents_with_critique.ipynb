{
  "nbformat": 4,
  "nbformat_minor": 0,
  "metadata": {
    "colab": {
      "provenance": [],
      "gpuType": "T4",
      "authorship_tag": "ABX9TyPq3fUkfdpMQjZR9iaX6L/K",
      "include_colab_link": true
    },
    "kernelspec": {
      "name": "python3",
      "display_name": "Python 3"
    },
    "language_info": {
      "name": "python"
    },
    "accelerator": "GPU"
  },
  "cells": [
    {
      "cell_type": "markdown",
      "metadata": {
        "id": "view-in-github",
        "colab_type": "text"
      },
      "source": [
        "<a href=\"https://colab.research.google.com/github/ebamberg/research-projects-ml/blob/main/agents_and_routing/examples_agents_with_critique.ipynb\" target=\"_parent\"><img src=\"https://colab.research.google.com/assets/colab-badge.svg\" alt=\"Open In Colab\"/></a>"
      ]
    },
    {
      "cell_type": "markdown",
      "source": [],
      "metadata": {
        "id": "ittnx9TnwT_y"
      }
    },
    {
      "cell_type": "code",
      "execution_count": 9,
      "metadata": {
        "id": "GCm0uJVC9jvj"
      },
      "outputs": [],
      "source": [
        "!pip install ollama langchain_community --quiet\n",
        "\n",
        "host=\"localhost:11434\"\n",
        "modelid=\"llama3.2\"\n",
        "emb_modelid=\"mxbai-embed-large\"\n",
        "\n",
        "get_ipython().system_raw(\"curl -fsSL https://ollama.com/install.sh | sh\")\n",
        "get_ipython().system_raw(\"ollama serve &\")\n",
        "get_ipython().system_raw(f\"ollama pull {modelid}\")\n",
        "get_ipython().system_raw(f\"ollama pull {emb_modelid}\")\n"
      ]
    },
    {
      "cell_type": "code",
      "source": [
        "!pip install openai --quiet"
      ],
      "metadata": {
        "id": "VMom2AWiyAdg"
      },
      "execution_count": 10,
      "outputs": []
    },
    {
      "cell_type": "code",
      "source": [
        "get_ipython().system_raw(f\"ollama pull {modelid}\")"
      ],
      "metadata": {
        "id": "z_AAjjHozJOM"
      },
      "execution_count": 11,
      "outputs": []
    },
    {
      "cell_type": "code",
      "source": [
        "from openai import OpenAI\n",
        "\n",
        "\n",
        "llm = OpenAI(\n",
        "        base_url=f\"http://{host}/v1\",\n",
        "        api_key=\"ollama\",  # required, but unused\n",
        "    )\n",
        "\n",
        "\n"
      ],
      "metadata": {
        "id": "yHCElQFQb2XR"
      },
      "execution_count": 12,
      "outputs": []
    },
    {
      "cell_type": "code",
      "source": [
        "def call(system_prompt: str, message: str) -> str:\n",
        "  completion = llm.chat.completions.create(\n",
        "      model=modelid,\n",
        "      messages=[\n",
        "          {\"role\": \"system\", \"content\": system_prompt},\n",
        "          {\n",
        "              \"role\": \"user\",\n",
        "              \"content\": message,\n",
        "          },\n",
        "      ],\n",
        "  )\n",
        "\n",
        "  return completion.choices[0].message.content"
      ],
      "metadata": {
        "id": "YkaTeOcP3HHu"
      },
      "execution_count": 13,
      "outputs": []
    },
    {
      "cell_type": "code",
      "source": [
        "def marketing_campaign_agent(product : str):\n",
        "  \"\"\"\n",
        "     <PRODUCT>{product}</PRODUCT>\n",
        "\n",
        "     Your task is to create an compelling marketing campaign for the product provided between the <product> tag.\n",
        "  \"\"\"\n",
        "  return call (\"your are a marketing campaign export.\", marketing_campaign_agent.__doc__.format(product=product) )"
      ],
      "metadata": {
        "id": "ODbK4Rp63VTn"
      },
      "execution_count": 14,
      "outputs": []
    },
    {
      "cell_type": "code",
      "source": [
        "def ready_validation_agent(marketing_text : str) -> bool:\n",
        "  \"\"\"\n",
        "\n",
        "    <CONTENT>{text}</CONTENT>\n",
        "    I have asked you to create a marketing text for a product  earlier. You can find the text between the <CONTENT> tags.\n",
        "\n",
        "    Is this the final version of the marketing text and ready to publish or can we improve it?\n",
        "\n",
        "     Your task is to answer with\n",
        "     - TRUE if this is the final version of the marketing text and ready to publish.\n",
        "     - FALSE if this is not the final version of the marketing text and we need to improve it.\n",
        "\n",
        "     Only answer with TRUE or FALSE. add nothing else to your response.\n",
        "\n",
        "    \"\"\"\n",
        "  result = call (\"your are a marketing campaign export.\", ready_validation_agent.__doc__.format(text=marketing_text) )\n",
        "  print (result)\n",
        "  return result.strip().lower() == \"true\""
      ],
      "metadata": {
        "id": "X_-AB92x6ZJ1"
      },
      "execution_count": 18,
      "outputs": []
    },
    {
      "cell_type": "code",
      "source": [
        "def refinements_agent(product : str, marketing_text : str) -> str:\n",
        "  \"\"\"\n",
        "  <PRODUCT>{product}</PRODUCT>\n",
        "\n",
        "  <CONTENT>{text}</CONTENT>\n",
        "\n",
        "  I have asked you to create a marketing text for a product earlier. You can find the text between the <CONTENT> tags.\n",
        "\n",
        "  This marketing text is not final and not yet ready for publishing.\n",
        "\n",
        "  Your task is to analyse the text and think about improvments that we can do the text on order to finalize it.\n",
        "\n",
        "  ### OUTPUT\n",
        "  Please output a  list of improvements you have found.\n",
        "\n",
        "  \"\"\"\n",
        "  return call (\"your are a marketing campaign export.\", refinements_agent.__doc__.format(product=product, text=marketing_text) )"
      ],
      "metadata": {
        "id": "en1xrwVlq4sT"
      },
      "execution_count": 16,
      "outputs": []
    },
    {
      "cell_type": "code",
      "source": [
        "def refine_agent(product : str, marketing_text : str, refinements : str ) -> str:\n",
        "  \"\"\"\n",
        "  <PRODUCT>{product}</PRODUCT>\n",
        "\n",
        "  <CONTENT>{text}</CONTENT>\n",
        "\n",
        "  I have asked you to create a marketing text for a product earlier. You can find the text between the <CONTENT> tags.\n",
        "\n",
        "  Your task is to refine the marketing text provided betwen the <CONTENT> tag with the follwing refinements. Don't use any other sources.\n",
        "\n",
        " ### Refinements\n",
        " {refinements}\n",
        "\n",
        "\n",
        "  \"\"\"\n",
        "  return call (\"your are a marketing campaign export.\", refinements_agent.__doc__.format(product=product, text=marketing_text, refinements=refinements) )"
      ],
      "metadata": {
        "id": "m6DhXF9G0_Uf",
        "outputId": "83b5153f-f71a-4d41-b61f-b1e35c539d70",
        "colab": {
          "base_uri": "https://localhost:8080/",
          "height": 106
        }
      },
      "execution_count": 24,
      "outputs": [
        {
          "output_type": "error",
          "ename": "SyntaxError",
          "evalue": "incomplete input (ipython-input-2812581431.py, line 1)",
          "traceback": [
            "\u001b[0;36m  File \u001b[0;32m\"/tmp/ipython-input-2812581431.py\"\u001b[0;36m, line \u001b[0;32m1\u001b[0m\n\u001b[0;31m    def refine_agent(product : str, marketing_text : str) -> str:\u001b[0m\n\u001b[0m                                                                 ^\u001b[0m\n\u001b[0;31mSyntaxError\u001b[0m\u001b[0;31m:\u001b[0m incomplete input\n"
          ]
        }
      ]
    },
    {
      "cell_type": "code",
      "source": [
        "product = \"iPhone 15\"\n",
        "\n",
        "marketing_text = marketing_campaign_agent(product)\n",
        "is_finished = ready_validation_agent(marketing_text)\n",
        "refinements = refinements_agent(product, marketing_text)"
      ],
      "metadata": {
        "colab": {
          "base_uri": "https://localhost:8080/"
        },
        "id": "parsnXE044qC",
        "outputId": "b23f0fdb-fb1b-472a-c56e-5bb36491f5d0"
      },
      "execution_count": 19,
      "outputs": [
        {
          "output_type": "stream",
          "name": "stdout",
          "text": [
            "FALSE\n"
          ]
        }
      ]
    },
    {
      "cell_type": "code",
      "source": [
        "print (marketing_text)\n",
        "print (is_finished)\n",
        "print (refinements)"
      ],
      "metadata": {
        "colab": {
          "base_uri": "https://localhost:8080/"
        },
        "id": "4iSgEgej5bWp",
        "outputId": "741ea143-79ba-49b1-c20c-14b882a45020"
      },
      "execution_count": 23,
      "outputs": [
        {
          "output_type": "stream",
          "name": "stdout",
          "text": [
            "**Marketing Campaign: \"Unlock the Future\"**\n",
            "\n",
            "**Product:** iPhone 15\n",
            "\n",
            "**Campaign Objective:** Create buzz and drive sales for the latest flagship iPhone model, highlighting its innovative features, sleek design, and exceptional user experience.\n",
            "\n",
            "**Target Audience:** Tech-savvy individuals aged 18-45 who value premium smartphones, staying ahead of the curve in terms of technology and style.\n",
            "\n",
            "**Marketing Strategy:**\n",
            "\n",
            "1. **Teaser Ad Campaign**\n",
            "\t* Launch a series of eye-catching ads showcasing key features such as:\n",
            "\t\t+ Improved camera capabilities\n",
            "\t\t+ Long-lasting battery life\n",
            "\t\t+ Enhanced augmented reality (AR) capabilities\n",
            "\t\t+ Revolutionary new design\n",
            "\t* Release teaser videos on social media platforms, setting up the excitement for the official launch.\n",
            "2. **Influencer Partnerships**\n",
            "\t* Collaborate with prominent tech influencers and content creators to showcase iPhone 15 features through authentic, unboxing-style reviews.\n",
            "\t* Encourage user-generated content (UGC) by offering exclusive discounts and prizes for iPhone 15 owners who share their experiences on social media using a branded hashtag.\n",
            "3. **Immersive Brand Experience**\n",
            "\t* Host invite-only events in major cities worldwide, where attendees can interact with the iPhone 15 up close, experience its features hands-on, and enjoy special offers on pre-orders.\n",
            "4. **Interactive Online Content**\n",
            "\t* Launch an immersive website dedicated to the iPhone 15, featuring:\n",
            "\t\t+ Interactive visualizations demonstrating new AR capabilities\n",
            "\t\t+ Comprehensive specs comparisons to competing devices\n",
            "\t\t+ Exclusive behind-the-scenes content highlighting design and development processes\n",
            "5. **Media Outreach**\n",
            "\t* Craft a compelling press kit and executive summary for media coverage, emphasizing the iPhone 15's cutting-edge features and significant upgrades over its predecessor.\n",
            "\t* Pitch exclusive interviews with Apple executives and key product managers to generate buzz around launch day.\n",
            "\n",
            "**Creative Assets:**\n",
            "\n",
            "1. Tagline: \"Unlock the Future\"\n",
            "2. Slogan: \"Experience the Evolution\"\n",
            "3. Visual Identity:\n",
            "\t* Main Brand Color Palette: [Apple's signature color #FFC107]\n",
            "\t* Additional Accent Colors: Deep Blues and Yellows to echo Apple's playful brand personality\n",
            "4. Imagery: Aerial shots of iPhones in everyday life, showcasing how they can elevate mobile experiences; dramatic close-ups highlighting camera work, screen display, or AR capabilities\n",
            "\n",
            "**Budget Allocation:**\n",
            "\n",
            "1. Online Advertising (40%)\n",
            "2. Influencer Partnerships & Events (30%)\n",
            "3. Content Creation & Media Outreach (20%)\n",
            "4. Retail Promotions and Bundles (10%)\n",
            "\n",
            "**Performance Metrics:**\n",
            "\n",
            "* Sales figures within the first quarter\n",
            "* Social media engagement metrics (e.g., hashtag usage, user-generated content submissions)\n",
            "* Event attendance and registration rates\n",
            "* Press coverage quality and breadth\n",
            "\n",
            "By executing this comprehensive marketing campaign, Apple will generate significant buzz around iPhone 15's release, generating excitement among tech enthusiasts worldwide.\n",
            "False\n",
            "Here's a list of potential improvements for the marketing text:\n",
            "\n",
            "### Improvements\n",
            "\n",
            "1. **Consistent formatting**:\n",
            "\t* The content and product names should be in bold and italic font respectively to make it clear, whereas `<PRODUCT>` and `<CONTENT>` tags are confusing.\n",
            "2. **Clearer campaign objectives**:\n",
            "\t* Consider expanding on what \"creating buzz\" and \"driving sales\" mean in the context of the iPhone 15 launch campaign.\n",
            "3. **Target audience specificity**:\n",
            "\t* Instead of a broad age range, consider specifying demographic characteristics that define the target audience.\n",
            "4. **More specific metrics**:\n",
            "\t* While social media engagement is mentioned, it would be beneficial to include more concrete metrics such as \"Reach\" and \"Engagement Rate\".\n",
            "5. **Influencer partnership definition**:\n",
            "\t* Clarify how influencers will be selected, compensated, and what content they'll be expected to produce.\n",
            "6. **More detailed budget allocation explanation**:\n",
            "\t* Explain the reasoning behind allocating 40% of the budget to online advertising versus other channels.\n",
            "7. **Performance metrics clarity**:\n",
            "\t* Make it clearer which specific metrics will be used to measure campaign success (e.g., \"First quarter sales increase compared to last year's launch\").\n",
            "8. **More prominent visuals**:\n",
            "\t* While some visual assets are listed, it would be beneficial to incorporate images or links to showcase the branding across different media channels.\n",
            "9. **SEO and keyword optimization**:\n",
            "\t* Incorporate relevant keywords specific to iPhone 15 features (e.g., \"augmented reality capabilities\", \"revolutionary new design\") for better search engine visibility.\n",
            "10. **Tone consistency**:\n",
            "\t* While the tone seems professional, some sentences are worded in a way that feels a bit generic or repetitive (e.g., phrases like \"cutting-edge features\").\n",
            "11. **Specific branding direction**:\n",
            "\t* While Apple's signature color is listed, it would be beneficial to emphasize how this identity will be consistently applied across all promotional materials.\n",
            "12. **Call-to-Action clarity**:\n",
            "\t* Consider adding a clear call-to-action (CTA) for potential customers, such as visiting an official website or store.\n",
            "\n",
            "These improvements can help refine the text, addressing readability, consistency, and accuracy to better communicate the marketing campaign's objectives and strategy.\n"
          ]
        }
      ]
    },
    {
      "cell_type": "code",
      "source": [
        "is_finished\n"
      ],
      "metadata": {
        "id": "dETeKgVg76k4",
        "outputId": "99feb4f5-2493-4ce5-d488-481e8db3b5d9",
        "colab": {
          "base_uri": "https://localhost:8080/"
        }
      },
      "execution_count": 21,
      "outputs": [
        {
          "output_type": "execute_result",
          "data": {
            "text/plain": [
              "False"
            ]
          },
          "metadata": {},
          "execution_count": 21
        }
      ]
    },
    {
      "cell_type": "code",
      "source": [
        "refinements"
      ],
      "metadata": {
        "colab": {
          "base_uri": "https://localhost:8080/",
          "height": 105
        },
        "id": "Dy_RcPmssnZs",
        "outputId": "34807b82-2512-44d5-d5ff-52f73f6d8429"
      },
      "execution_count": 22,
      "outputs": [
        {
          "output_type": "execute_result",
          "data": {
            "text/plain": [
              "'Here\\'s a list of potential improvements for the marketing text:\\n\\n### Improvements\\n\\n1. **Consistent formatting**:\\n\\t* The content and product names should be in bold and italic font respectively to make it clear, whereas `<PRODUCT>` and `<CONTENT>` tags are confusing.\\n2. **Clearer campaign objectives**:\\n\\t* Consider expanding on what \"creating buzz\" and \"driving sales\" mean in the context of the iPhone 15 launch campaign.\\n3. **Target audience specificity**:\\n\\t* Instead of a broad age range, consider specifying demographic characteristics that define the target audience.\\n4. **More specific metrics**:\\n\\t* While social media engagement is mentioned, it would be beneficial to include more concrete metrics such as \"Reach\" and \"Engagement Rate\".\\n5. **Influencer partnership definition**:\\n\\t* Clarify how influencers will be selected, compensated, and what content they\\'ll be expected to produce.\\n6. **More detailed budget allocation explanation**:\\n\\t* Explain the reasoning behind allocating 40% of the budget to online advertising versus other channels.\\n7. **Performance metrics clarity**:\\n\\t* Make it clearer which specific metrics will be used to measure campaign success (e.g., \"First quarter sales increase compared to last year\\'s launch\").\\n8. **More prominent visuals**:\\n\\t* While some visual assets are listed, it would be beneficial to incorporate images or links to showcase the branding across different media channels.\\n9. **SEO and keyword optimization**:\\n\\t* Incorporate relevant keywords specific to iPhone 15 features (e.g., \"augmented reality capabilities\", \"revolutionary new design\") for better search engine visibility.\\n10. **Tone consistency**:\\n\\t* While the tone seems professional, some sentences are worded in a way that feels a bit generic or repetitive (e.g., phrases like \"cutting-edge features\").\\n11. **Specific branding direction**:\\n\\t* While Apple\\'s signature color is listed, it would be beneficial to emphasize how this identity will be consistently applied across all promotional materials.\\n12. **Call-to-Action clarity**:\\n\\t* Consider adding a clear call-to-action (CTA) for potential customers, such as visiting an official website or store.\\n\\nThese improvements can help refine the text, addressing readability, consistency, and accuracy to better communicate the marketing campaign\\'s objectives and strategy.'"
            ],
            "application/vnd.google.colaboratory.intrinsic+json": {
              "type": "string"
            }
          },
          "metadata": {},
          "execution_count": 22
        }
      ]
    }
  ]
}