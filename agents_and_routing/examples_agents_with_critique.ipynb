{
  "nbformat": 4,
  "nbformat_minor": 0,
  "metadata": {
    "colab": {
      "provenance": [],
      "gpuType": "T4",
      "authorship_tag": "ABX9TyPmyDwYLz62pyjfkzpcj44N",
      "include_colab_link": true
    },
    "kernelspec": {
      "name": "python3",
      "display_name": "Python 3"
    },
    "language_info": {
      "name": "python"
    },
    "accelerator": "GPU"
  },
  "cells": [
    {
      "cell_type": "markdown",
      "metadata": {
        "id": "view-in-github",
        "colab_type": "text"
      },
      "source": [
        "<a href=\"https://colab.research.google.com/github/ebamberg/research-projects-ml/blob/main/agents_and_routing/examples_agents_with_critique.ipynb\" target=\"_parent\"><img src=\"https://colab.research.google.com/assets/colab-badge.svg\" alt=\"Open In Colab\"/></a>"
      ]
    },
    {
      "cell_type": "markdown",
      "source": [],
      "metadata": {
        "id": "ittnx9TnwT_y"
      }
    },
    {
      "cell_type": "code",
      "execution_count": null,
      "metadata": {
        "id": "GCm0uJVC9jvj"
      },
      "outputs": [],
      "source": [
        "!pip install ollama langchain_community --quiet\n",
        "\n",
        "host=\"localhost:11434\"\n",
        "modelid=\"gemma3:12b\" # \"llama3.2\"\n",
        "model_2_id=\"deepseek-r1:8b\"\n",
        "\n",
        "get_ipython().system_raw(\"curl -fsSL https://ollama.com/install.sh | sh\")\n",
        "get_ipython().system_raw(\"ollama serve &\")\n",
        "get_ipython().system_raw(f\"ollama pull {modelid}\")\n"
      ]
    },
    {
      "cell_type": "code",
      "source": [
        "!pip install openai --quiet"
      ],
      "metadata": {
        "id": "VMom2AWiyAdg"
      },
      "execution_count": null,
      "outputs": []
    },
    {
      "cell_type": "code",
      "source": [
        "get_ipython().system_raw(f\"ollama pull {modelid}\")\n",
        "get_ipython().system_raw(f\"ollama pull {model_2_id}\")"
      ],
      "metadata": {
        "id": "z_AAjjHozJOM"
      },
      "execution_count": null,
      "outputs": []
    },
    {
      "cell_type": "code",
      "source": [
        "from openai import OpenAI\n",
        "\n",
        "\n",
        "llm = OpenAI(\n",
        "        base_url=f\"http://{host}/v1\",\n",
        "        api_key=\"ollama\",  # required, but unused\n",
        "    )\n",
        "\n",
        "\n"
      ],
      "metadata": {
        "id": "yHCElQFQb2XR"
      },
      "execution_count": null,
      "outputs": []
    },
    {
      "cell_type": "code",
      "source": [
        "def call(system_prompt: str, message: str, model: str = modelid ) -> str:\n",
        "  completion = llm.chat.completions.create(\n",
        "      model=modelid,\n",
        "      messages=[\n",
        "          {\"role\": \"system\", \"content\": system_prompt},\n",
        "          {\n",
        "              \"role\": \"user\",\n",
        "              \"content\": message,\n",
        "          },\n",
        "      ],\n",
        "  )\n",
        "\n",
        "  return completion.choices[0].message.content"
      ],
      "metadata": {
        "id": "YkaTeOcP3HHu"
      },
      "execution_count": null,
      "outputs": []
    },
    {
      "cell_type": "code",
      "source": [
        "def marketing_campaign_agent(product : str):\n",
        "  \"\"\"\n",
        "\n",
        "     Your task is to create an compelling marketing campaign plan for the product.\n",
        "\n",
        "    ## Product Description\n",
        "    {product}\n",
        "\n",
        "     ## Marketing Campaign Plan:L\n",
        "     Your marketing campaign plan:\n",
        "\n",
        "  \"\"\"\n",
        "  return call (\"your are a marketing campaign export.\", marketing_campaign_agent.__doc__.format(product=product) )"
      ],
      "metadata": {
        "id": "ODbK4Rp63VTn"
      },
      "execution_count": null,
      "outputs": []
    },
    {
      "cell_type": "code",
      "source": [
        "def ready_validation_agent(marketing_text : str) -> bool:\n",
        "  \"\"\"\n",
        "\n",
        "  Attached is a product descipription of a new product we are launching.\n",
        "\n",
        "  Also attached is a marketing campaign plan for the product launch.\n",
        "\n",
        "  Your task is to read the marketing campaign plan and assess wether this is good enough to get finalized or wether it would benefit from another revision.\n",
        "\n",
        "  Answer with TRUE or FALSE. add nothing else to your response.\n",
        "\n",
        "  ## Product Description\n",
        "  {product}\n",
        "\n",
        "  ## Marketing Text\n",
        "  {text}\n",
        "\n",
        "  ## Your Assessment\n",
        "  Your Assessment:\n",
        "\n",
        "    \"\"\"\n",
        "  result = call (\"your are a marketing campaign export.\", ready_validation_agent.__doc__.format(product=product, text=marketing_text) , modelid=model_2_id)\n",
        "  print (result)\n",
        "  return result.strip().lower() == \"true\""
      ],
      "metadata": {
        "id": "X_-AB92x6ZJ1"
      },
      "execution_count": null,
      "outputs": []
    },
    {
      "cell_type": "code",
      "source": [
        "def refinements_agent(product : str, marketing_text : str) -> str:\n",
        "  \"\"\"\n",
        "\n",
        "  Attached is a product descipription of a new product we are launching.\n",
        "\n",
        "  Also attached is a draft marketing campaign plan for the product launch.\n",
        "\n",
        "  Provide a critique of this draft marketing plan in preparation of the final version.\n",
        "\n",
        "  ## Product Description\n",
        "  {product}\n",
        "\n",
        "  ## Marketing Text\n",
        "  {text}\n",
        "\n",
        "  ## Critique\n",
        "  Your critique:\n",
        "\n",
        "  \"\"\"\n",
        "  return call (\"your are a marketing campaign export.\", refinements_agent.__doc__.format(product=product, text=marketing_text) )"
      ],
      "metadata": {
        "id": "en1xrwVlq4sT"
      },
      "execution_count": null,
      "outputs": []
    },
    {
      "cell_type": "code",
      "source": [
        "def refine_agent(product : str, marketing_text : str, refinements : str ) -> str:\n",
        "  \"\"\"\n",
        "\n",
        "  Attached are 3 documents\n",
        "    - a product descipription of a new product we are launching.\n",
        "    - a draft marketing campaign plan for the product launch.\n",
        "    - a critique of this draft marketing plan in preparation of the final version\n",
        "\n",
        "  Please write another version of the marketing campaign plan taking into account the feedback in the critique.\n",
        "\n",
        "  ## Product Description\n",
        "  {product}\n",
        "\n",
        "  ## Marketing Text\n",
        "  {text}\n",
        "\n",
        "  ## Critique\n",
        "  {refinements}\n",
        "\n",
        "  ## Final Marketing Text\n",
        "  Your final version of the marketing campaign plan:\n",
        "\n",
        "\n",
        "  \"\"\"\n",
        "  return call (\"your are a marketing campaign export.\", refine_agent.__doc__.format(product=product, text=marketing_text, refinements=refinements) )"
      ],
      "metadata": {
        "id": "m6DhXF9G0_Uf"
      },
      "execution_count": null,
      "outputs": []
    },
    {
      "cell_type": "code",
      "source": [
        "product = \"iPhone 15\"\n",
        "\n",
        "iteration=1\n",
        "marketing_text = marketing_campaign_agent(product)\n",
        "while not ready_validation_agent(marketing_text) and iteration<5:\n",
        "  print (f\"ITERATION: {iteration}\" )\n",
        "  refinements = refinements_agent(product, marketing_text)\n",
        "  next_text_iteration = refine_agent(product, marketing_text, refinements)\n",
        "  print (refinements)\n",
        "  iteration+=1\n",
        "  marketing_text = next_text_iteration\n"
      ],
      "metadata": {
        "id": "parsnXE044qC"
      },
      "execution_count": null,
      "outputs": []
    },
    {
      "cell_type": "code",
      "source": [
        "print (next_text_iteration)\n"
      ],
      "metadata": {
        "id": "K0eV9F3f3ITA"
      },
      "execution_count": null,
      "outputs": []
    },
    {
      "cell_type": "code",
      "source": [
        "print (marketing_text)\n",
        "print (\"###### critique\")\n",
        "print (refinements)\n",
        "print (\"###### next text iteration\")\n",
        "print (next_text_iteration)"
      ],
      "metadata": {
        "id": "4iSgEgej5bWp"
      },
      "execution_count": null,
      "outputs": []
    }
  ]
}