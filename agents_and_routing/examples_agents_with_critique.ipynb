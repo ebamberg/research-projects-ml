{
  "nbformat": 4,
  "nbformat_minor": 0,
  "metadata": {
    "colab": {
      "provenance": [],
      "gpuType": "T4",
      "authorship_tag": "ABX9TyMVom6bpBw6NVFMCPQVlt6w",
      "include_colab_link": true
    },
    "kernelspec": {
      "name": "python3",
      "display_name": "Python 3"
    },
    "language_info": {
      "name": "python"
    },
    "accelerator": "GPU"
  },
  "cells": [
    {
      "cell_type": "markdown",
      "metadata": {
        "id": "view-in-github",
        "colab_type": "text"
      },
      "source": [
        "<a href=\"https://colab.research.google.com/github/ebamberg/research-projects-ml/blob/main/agents_and_routing/examples_agents_with_critique.ipynb\" target=\"_parent\"><img src=\"https://colab.research.google.com/assets/colab-badge.svg\" alt=\"Open In Colab\"/></a>"
      ]
    },
    {
      "cell_type": "markdown",
      "source": [],
      "metadata": {
        "id": "ittnx9TnwT_y"
      }
    },
    {
      "cell_type": "code",
      "execution_count": 1,
      "metadata": {
        "id": "GCm0uJVC9jvj",
        "colab": {
          "base_uri": "https://localhost:8080/"
        },
        "outputId": "d45b6815-6954-46b3-f29e-7eb43bb05a58"
      },
      "outputs": [
        {
          "output_type": "stream",
          "name": "stdout",
          "text": [
            "\u001b[2K   \u001b[90m━━━━━━━━━━━━━━━━━━━━━━━━━━━━━━━━━━━━━━━━\u001b[0m \u001b[32m2.5/2.5 MB\u001b[0m \u001b[31m43.7 MB/s\u001b[0m eta \u001b[36m0:00:00\u001b[0m\n",
            "\u001b[2K   \u001b[90m━━━━━━━━━━━━━━━━━━━━━━━━━━━━━━━━━━━━━━━━\u001b[0m \u001b[32m45.2/45.2 kB\u001b[0m \u001b[31m4.5 MB/s\u001b[0m eta \u001b[36m0:00:00\u001b[0m\n",
            "\u001b[2K   \u001b[90m━━━━━━━━━━━━━━━━━━━━━━━━━━━━━━━━━━━━━━━━\u001b[0m \u001b[32m50.9/50.9 kB\u001b[0m \u001b[31m4.7 MB/s\u001b[0m eta \u001b[36m0:00:00\u001b[0m\n",
            "\u001b[?25h"
          ]
        }
      ],
      "source": [
        "!pip install ollama langchain_community --quiet\n",
        "\n",
        "host=\"localhost:11434\"\n",
        "modelid=\"llama3.2\"\n",
        "emb_modelid=\"mxbai-embed-large\"\n",
        "\n",
        "get_ipython().system_raw(\"curl -fsSL https://ollama.com/install.sh | sh\")\n",
        "get_ipython().system_raw(\"ollama serve &\")\n",
        "get_ipython().system_raw(f\"ollama pull {modelid}\")\n",
        "get_ipython().system_raw(f\"ollama pull {emb_modelid}\")\n"
      ]
    },
    {
      "cell_type": "code",
      "source": [
        "!pip install openai --quiet"
      ],
      "metadata": {
        "id": "VMom2AWiyAdg"
      },
      "execution_count": 4,
      "outputs": []
    },
    {
      "cell_type": "code",
      "source": [
        "get_ipython().system_raw(f\"ollama pull {modelid}\")"
      ],
      "metadata": {
        "id": "z_AAjjHozJOM"
      },
      "execution_count": 9,
      "outputs": []
    },
    {
      "cell_type": "code",
      "source": [
        "from openai import OpenAI\n",
        "\n",
        "\n",
        "llm = OpenAI(\n",
        "        base_url=f\"http://{host}/v1\",\n",
        "        api_key=\"ollama\",  # required, but unused\n",
        "    )\n",
        "\n",
        "\n"
      ],
      "metadata": {
        "id": "yHCElQFQb2XR"
      },
      "execution_count": 10,
      "outputs": []
    },
    {
      "cell_type": "code",
      "source": [
        "completion = llm.chat.completions.create(\n",
        "    model=modelid,\n",
        "    messages=[\n",
        "        {\"role\": \"system\", \"content\": \"Talk like a pirate.\"},\n",
        "        {\n",
        "            \"role\": \"user\",\n",
        "            \"content\": \"How do I check if a Python object is an instance of a class?\",\n",
        "        },\n",
        "    ],\n",
        ")\n",
        "\n",
        "print(completion.choices[0].message.content)"
      ],
      "metadata": {
        "id": "YkaTeOcP3HHu",
        "colab": {
          "base_uri": "https://localhost:8080/"
        },
        "outputId": "a7911ef9-ff0d-461c-ed02-f2ae9707cabb"
      },
      "execution_count": 12,
      "outputs": [
        {
          "output_type": "stream",
          "name": "stdout",
          "text": [
            "You can use the ` isinstance()` function in Python to check if an object is an instance of a class.\n",
            "\n",
            "Here's an example:\n",
            "\n",
            "```python\n",
            "class Animal:\n",
            "    pass\n",
            "\n",
            "class Dog(Animal):\n",
            "    pass\n",
            "\n",
            "my_dog = Dog()\n",
            "print(isinstance(my_dog, Animal))  # Output: True\n",
            "print(isinstance(my_dog, Dog))     # Output: True\n",
            "print(isinstance(my_dog, str))     # Output: False\n",
            "```\n",
            "\n",
            "In this example, `isinstance()` checks if `my_dog` is an instance of either the `Animal` or `Dog` classes. It also returns `False` when checking for instances of other classes like `str`.\n",
            "\n",
            "The general syntax is:\n",
            "\n",
            "```python\n",
            "class_name_obj = isinstance(obj, class)\n",
            "```\n",
            "\n",
            "Where:\n",
            "\n",
            "*   `obj` is the object to be checked.\n",
            "*   `class` is the class you want to check against.\n",
            "\n",
            "Note that if you omit the second argument (the class), `isinstance()` checks if `obj` is an instance of a superclass or any subclass of the given class.\n"
          ]
        }
      ]
    }
  ]
}