{
  "nbformat": 4,
  "nbformat_minor": 0,
  "metadata": {
    "colab": {
      "provenance": [],
      "gpuType": "T4",
      "authorship_tag": "ABX9TyNehEAzG8CRoC6libGm8Xvs",
      "include_colab_link": true
    },
    "kernelspec": {
      "name": "python3",
      "display_name": "Python 3"
    },
    "language_info": {
      "name": "python"
    },
    "accelerator": "GPU"
  },
  "cells": [
    {
      "cell_type": "markdown",
      "metadata": {
        "id": "view-in-github",
        "colab_type": "text"
      },
      "source": [
        "<a href=\"https://colab.research.google.com/github/ebamberg/research-projects-ml/blob/main/agents_and_routing/examples_agents_with_critique.ipynb\" target=\"_parent\"><img src=\"https://colab.research.google.com/assets/colab-badge.svg\" alt=\"Open In Colab\"/></a>"
      ]
    },
    {
      "cell_type": "markdown",
      "source": [],
      "metadata": {
        "id": "ittnx9TnwT_y"
      }
    },
    {
      "cell_type": "code",
      "execution_count": 1,
      "metadata": {
        "id": "GCm0uJVC9jvj",
        "outputId": "5560bbe7-e392-42e2-f5a3-394c728753c9",
        "colab": {
          "base_uri": "https://localhost:8080/"
        }
      },
      "outputs": [
        {
          "output_type": "stream",
          "name": "stdout",
          "text": [
            "\u001b[?25l   \u001b[90m━━━━━━━━━━━━━━━━━━━━━━━━━━━━━━━━━━━━━━━━\u001b[0m \u001b[32m0.0/2.5 MB\u001b[0m \u001b[31m?\u001b[0m eta \u001b[36m-:--:--\u001b[0m\r\u001b[2K   \u001b[91m━━━━━━━\u001b[0m\u001b[90m╺\u001b[0m\u001b[90m━━━━━━━━━━━━━━━━━━━━━━━━━━━━━━━━\u001b[0m \u001b[32m0.5/2.5 MB\u001b[0m \u001b[31m13.7 MB/s\u001b[0m eta \u001b[36m0:00:01\u001b[0m\r\u001b[2K   \u001b[91m━━━━━━━━━━━━━━━━━━━━━━━━━━━━━━━━━━━━━\u001b[0m\u001b[91m╸\u001b[0m\u001b[90m━━\u001b[0m \u001b[32m2.4/2.5 MB\u001b[0m \u001b[31m35.5 MB/s\u001b[0m eta \u001b[36m0:00:01\u001b[0m\r\u001b[2K   \u001b[90m━━━━━━━━━━━━━━━━━━━━━━━━━━━━━━━━━━━━━━━━\u001b[0m \u001b[32m2.5/2.5 MB\u001b[0m \u001b[31m24.5 MB/s\u001b[0m eta \u001b[36m0:00:00\u001b[0m\n",
            "\u001b[2K   \u001b[90m━━━━━━━━━━━━━━━━━━━━━━━━━━━━━━━━━━━━━━━━\u001b[0m \u001b[32m45.2/45.2 kB\u001b[0m \u001b[31m3.2 MB/s\u001b[0m eta \u001b[36m0:00:00\u001b[0m\n",
            "\u001b[2K   \u001b[90m━━━━━━━━━━━━━━━━━━━━━━━━━━━━━━━━━━━━━━━━\u001b[0m \u001b[32m50.9/50.9 kB\u001b[0m \u001b[31m3.1 MB/s\u001b[0m eta \u001b[36m0:00:00\u001b[0m\n",
            "\u001b[?25h"
          ]
        }
      ],
      "source": [
        "!pip install ollama langchain_community --quiet\n",
        "\n",
        "host=\"localhost:11434\"\n",
        "modelid=\"gemma3:12b\" # \"llama3.2\"\n",
        "\n",
        "get_ipython().system_raw(\"curl -fsSL https://ollama.com/install.sh | sh\")\n",
        "get_ipython().system_raw(\"ollama serve &\")\n",
        "get_ipython().system_raw(f\"ollama pull {modelid}\")\n"
      ]
    },
    {
      "cell_type": "code",
      "source": [
        "!pip install openai --quiet"
      ],
      "metadata": {
        "id": "VMom2AWiyAdg"
      },
      "execution_count": 2,
      "outputs": []
    },
    {
      "cell_type": "code",
      "source": [
        "get_ipython().system_raw(f\"ollama pull {modelid}\")"
      ],
      "metadata": {
        "id": "z_AAjjHozJOM"
      },
      "execution_count": 3,
      "outputs": []
    },
    {
      "cell_type": "code",
      "source": [
        "from openai import OpenAI\n",
        "\n",
        "\n",
        "llm = OpenAI(\n",
        "        base_url=f\"http://{host}/v1\",\n",
        "        api_key=\"ollama\",  # required, but unused\n",
        "    )\n",
        "\n",
        "\n"
      ],
      "metadata": {
        "id": "yHCElQFQb2XR"
      },
      "execution_count": 4,
      "outputs": []
    },
    {
      "cell_type": "code",
      "source": [
        "def call(system_prompt: str, message: str) -> str:\n",
        "  completion = llm.chat.completions.create(\n",
        "      model=modelid,\n",
        "      messages=[\n",
        "          {\"role\": \"system\", \"content\": system_prompt},\n",
        "          {\n",
        "              \"role\": \"user\",\n",
        "              \"content\": message,\n",
        "          },\n",
        "      ],\n",
        "  )\n",
        "\n",
        "  return completion.choices[0].message.content"
      ],
      "metadata": {
        "id": "YkaTeOcP3HHu"
      },
      "execution_count": 5,
      "outputs": []
    },
    {
      "cell_type": "code",
      "source": [
        "def marketing_campaign_agent(product : str):\n",
        "  \"\"\"\n",
        "     <PRODUCT>{product}</PRODUCT>\n",
        "\n",
        "     Your task is to create an compelling marketing campaign for the product provided between the <product> tag.\n",
        "  \"\"\"\n",
        "  return call (\"your are a marketing campaign export.\", marketing_campaign_agent.__doc__.format(product=product) )"
      ],
      "metadata": {
        "id": "ODbK4Rp63VTn"
      },
      "execution_count": 6,
      "outputs": []
    },
    {
      "cell_type": "code",
      "source": [
        "def ready_validation_agent(marketing_text : str) -> bool:\n",
        "  \"\"\"\n",
        "\n",
        "    <CONTENT>{text}</CONTENT>\n",
        "    I have asked you to create a marketing text for a product  earlier. You can find the text between the <CONTENT> tags.\n",
        "\n",
        "    Is this the final version of the marketing text and ready to publish or can we improve it?\n",
        "\n",
        "     Your task is to answer with\n",
        "     - TRUE if this is the final version of the marketing text and ready to publish.\n",
        "     - FALSE if this is not the final version of the marketing text and we need to improve it.\n",
        "\n",
        "     Only answer with TRUE or FALSE. add nothing else to your response.\n",
        "\n",
        "    \"\"\"\n",
        "  result = call (\"your are a marketing campaign export.\", ready_validation_agent.__doc__.format(text=marketing_text) )\n",
        "  print (result)\n",
        "  return result.strip().lower() == \"true\""
      ],
      "metadata": {
        "id": "X_-AB92x6ZJ1"
      },
      "execution_count": 7,
      "outputs": []
    },
    {
      "cell_type": "code",
      "source": [
        "def refinements_agent(product : str, marketing_text : str) -> str:\n",
        "  \"\"\"\n",
        "  <PRODUCT>{product}</PRODUCT>\n",
        "\n",
        "  <CONTENT>{text}</CONTENT>\n",
        "\n",
        "  I have asked you to create a marketing text for a product earlier. You can find the text between the <CONTENT> tags.\n",
        "\n",
        "  This marketing text is not final and not yet ready for publishing.\n",
        "\n",
        "  Your task is to refine the marketing text provided betwen the <CONTENT> tag with the follwing refinements. Don't use any other sources.\n",
        "\n",
        "  ### OUTPUT\n",
        "  Please output a  list of improvements you have found.\n",
        "\n",
        "  \"\"\"\n",
        "  return call (\"your are a marketing campaign export.\", refinements_agent.__doc__.format(product=product, text=marketing_text) )"
      ],
      "metadata": {
        "id": "en1xrwVlq4sT"
      },
      "execution_count": 8,
      "outputs": []
    },
    {
      "cell_type": "code",
      "source": [
        "def refine_agent(product : str, marketing_text : str, refinements : str ) -> str:\n",
        "  \"\"\"\n",
        "  <PRODUCT>{product}</PRODUCT>\n",
        "\n",
        "  <CONTENT>{text}</CONTENT>\n",
        "\n",
        "  <REFINE>{refinements}</REFINE>\n",
        "\n",
        "  I have asked you to create a marketing campaign for a product earlier. You can find the marketing campaign between the <CONTENT> tags.\n",
        "\n",
        "  Your task is to add the refinements provided between <REFINE> tags to that marketing campaign .\n",
        "\n",
        "\n",
        "\n",
        "  \"\"\"\n",
        "  return call (\"your are a marketing campaign export.\", refinements_agent.__doc__.format(product=product, text=marketing_text, refinements=refinements) )"
      ],
      "metadata": {
        "id": "m6DhXF9G0_Uf"
      },
      "execution_count": 9,
      "outputs": []
    },
    {
      "cell_type": "code",
      "source": [
        "product = \"iPhone 15\"\n",
        "\n",
        "iteration=1\n",
        "marketing_text = marketing_campaign_agent(product)\n",
        "while not ready_validation_agent(marketing_text) and iteration<5:\n",
        "  print (f\"ITERATION: {iteration}\" )\n",
        "  refinements = refinements_agent(product, marketing_text)\n",
        "  next_text_iteration = refine_agent(product, marketing_text, refinements)\n",
        "  print (refinements)\n",
        "  iteration+=1\n",
        "  marketing_text = next_text_iteration\n"
      ],
      "metadata": {
        "colab": {
          "base_uri": "https://localhost:8080/",
          "height": 418
        },
        "id": "parsnXE044qC",
        "outputId": "d2f7c4ed-9530-496a-dfd5-6aa33a80e86f"
      },
      "execution_count": 10,
      "outputs": [
        {
          "output_type": "stream",
          "name": "stdout",
          "text": [
            "FALSE\n",
            "ITERATION: 1\n"
          ]
        },
        {
          "output_type": "error",
          "ename": "KeyboardInterrupt",
          "evalue": "",
          "traceback": [
            "\u001b[0;31m---------------------------------------------------------------------------\u001b[0m",
            "\u001b[0;31mKeyboardInterrupt\u001b[0m                         Traceback (most recent call last)",
            "\u001b[0;32m/tmp/ipython-input-2156164024.py\u001b[0m in \u001b[0;36m<cell line: 0>\u001b[0;34m()\u001b[0m\n\u001b[1;32m      6\u001b[0m   \u001b[0mprint\u001b[0m \u001b[0;34m(\u001b[0m\u001b[0;34mf\"ITERATION: {iteration}\"\u001b[0m \u001b[0;34m)\u001b[0m\u001b[0;34m\u001b[0m\u001b[0;34m\u001b[0m\u001b[0m\n\u001b[1;32m      7\u001b[0m   \u001b[0mrefinements\u001b[0m \u001b[0;34m=\u001b[0m \u001b[0mrefinements_agent\u001b[0m\u001b[0;34m(\u001b[0m\u001b[0mproduct\u001b[0m\u001b[0;34m,\u001b[0m \u001b[0mmarketing_text\u001b[0m\u001b[0;34m)\u001b[0m\u001b[0;34m\u001b[0m\u001b[0;34m\u001b[0m\u001b[0m\n\u001b[0;32m----> 8\u001b[0;31m   \u001b[0mnext_text_iteration\u001b[0m \u001b[0;34m=\u001b[0m \u001b[0mrefine_agent\u001b[0m\u001b[0;34m(\u001b[0m\u001b[0mproduct\u001b[0m\u001b[0;34m,\u001b[0m \u001b[0mmarketing_text\u001b[0m\u001b[0;34m,\u001b[0m \u001b[0mrefinements\u001b[0m\u001b[0;34m)\u001b[0m\u001b[0;34m\u001b[0m\u001b[0;34m\u001b[0m\u001b[0m\n\u001b[0m\u001b[1;32m      9\u001b[0m   \u001b[0mprint\u001b[0m \u001b[0;34m(\u001b[0m\u001b[0mrefinements\u001b[0m\u001b[0;34m)\u001b[0m\u001b[0;34m\u001b[0m\u001b[0;34m\u001b[0m\u001b[0m\n\u001b[1;32m     10\u001b[0m   \u001b[0miteration\u001b[0m\u001b[0;34m+=\u001b[0m\u001b[0;36m1\u001b[0m\u001b[0;34m\u001b[0m\u001b[0;34m\u001b[0m\u001b[0m\n",
            "\u001b[0;32m/tmp/ipython-input-541100235.py\u001b[0m in \u001b[0;36mrefine_agent\u001b[0;34m(product, marketing_text, refinements)\u001b[0m\n\u001b[1;32m     14\u001b[0m \u001b[0;34m\u001b[0m\u001b[0m\n\u001b[1;32m     15\u001b[0m   \"\"\"\n\u001b[0;32m---> 16\u001b[0;31m   \u001b[0;32mreturn\u001b[0m \u001b[0mcall\u001b[0m \u001b[0;34m(\u001b[0m\u001b[0;34m\"your are a marketing campaign export.\"\u001b[0m\u001b[0;34m,\u001b[0m \u001b[0mrefinements_agent\u001b[0m\u001b[0;34m.\u001b[0m\u001b[0m__doc__\u001b[0m\u001b[0;34m.\u001b[0m\u001b[0mformat\u001b[0m\u001b[0;34m(\u001b[0m\u001b[0mproduct\u001b[0m\u001b[0;34m=\u001b[0m\u001b[0mproduct\u001b[0m\u001b[0;34m,\u001b[0m \u001b[0mtext\u001b[0m\u001b[0;34m=\u001b[0m\u001b[0mmarketing_text\u001b[0m\u001b[0;34m,\u001b[0m \u001b[0mrefinements\u001b[0m\u001b[0;34m=\u001b[0m\u001b[0mrefinements\u001b[0m\u001b[0;34m)\u001b[0m \u001b[0;34m)\u001b[0m\u001b[0;34m\u001b[0m\u001b[0;34m\u001b[0m\u001b[0m\n\u001b[0m",
            "\u001b[0;32m/tmp/ipython-input-2445719032.py\u001b[0m in \u001b[0;36mcall\u001b[0;34m(system_prompt, message)\u001b[0m\n\u001b[1;32m      1\u001b[0m \u001b[0;32mdef\u001b[0m \u001b[0mcall\u001b[0m\u001b[0;34m(\u001b[0m\u001b[0msystem_prompt\u001b[0m\u001b[0;34m:\u001b[0m \u001b[0mstr\u001b[0m\u001b[0;34m,\u001b[0m \u001b[0mmessage\u001b[0m\u001b[0;34m:\u001b[0m \u001b[0mstr\u001b[0m\u001b[0;34m)\u001b[0m \u001b[0;34m->\u001b[0m \u001b[0mstr\u001b[0m\u001b[0;34m:\u001b[0m\u001b[0;34m\u001b[0m\u001b[0;34m\u001b[0m\u001b[0m\n\u001b[0;32m----> 2\u001b[0;31m   completion = llm.chat.completions.create(\n\u001b[0m\u001b[1;32m      3\u001b[0m       \u001b[0mmodel\u001b[0m\u001b[0;34m=\u001b[0m\u001b[0mmodelid\u001b[0m\u001b[0;34m,\u001b[0m\u001b[0;34m\u001b[0m\u001b[0;34m\u001b[0m\u001b[0m\n\u001b[1;32m      4\u001b[0m       messages=[\n\u001b[1;32m      5\u001b[0m           \u001b[0;34m{\u001b[0m\u001b[0;34m\"role\"\u001b[0m\u001b[0;34m:\u001b[0m \u001b[0;34m\"system\"\u001b[0m\u001b[0;34m,\u001b[0m \u001b[0;34m\"content\"\u001b[0m\u001b[0;34m:\u001b[0m \u001b[0msystem_prompt\u001b[0m\u001b[0;34m}\u001b[0m\u001b[0;34m,\u001b[0m\u001b[0;34m\u001b[0m\u001b[0;34m\u001b[0m\u001b[0m\n",
            "\u001b[0;32m/usr/local/lib/python3.11/dist-packages/openai/_utils/_utils.py\u001b[0m in \u001b[0;36mwrapper\u001b[0;34m(*args, **kwargs)\u001b[0m\n\u001b[1;32m    285\u001b[0m                         \u001b[0mmsg\u001b[0m \u001b[0;34m=\u001b[0m \u001b[0;34mf\"Missing required argument: {quote(missing[0])}\"\u001b[0m\u001b[0;34m\u001b[0m\u001b[0;34m\u001b[0m\u001b[0m\n\u001b[1;32m    286\u001b[0m                 \u001b[0;32mraise\u001b[0m \u001b[0mTypeError\u001b[0m\u001b[0;34m(\u001b[0m\u001b[0mmsg\u001b[0m\u001b[0;34m)\u001b[0m\u001b[0;34m\u001b[0m\u001b[0;34m\u001b[0m\u001b[0m\n\u001b[0;32m--> 287\u001b[0;31m             \u001b[0;32mreturn\u001b[0m \u001b[0mfunc\u001b[0m\u001b[0;34m(\u001b[0m\u001b[0;34m*\u001b[0m\u001b[0margs\u001b[0m\u001b[0;34m,\u001b[0m \u001b[0;34m**\u001b[0m\u001b[0mkwargs\u001b[0m\u001b[0;34m)\u001b[0m\u001b[0;34m\u001b[0m\u001b[0;34m\u001b[0m\u001b[0m\n\u001b[0m\u001b[1;32m    288\u001b[0m \u001b[0;34m\u001b[0m\u001b[0m\n\u001b[1;32m    289\u001b[0m         \u001b[0;32mreturn\u001b[0m \u001b[0mwrapper\u001b[0m  \u001b[0;31m# type: ignore\u001b[0m\u001b[0;34m\u001b[0m\u001b[0;34m\u001b[0m\u001b[0m\n",
            "\u001b[0;32m/usr/local/lib/python3.11/dist-packages/openai/resources/chat/completions/completions.py\u001b[0m in \u001b[0;36mcreate\u001b[0;34m(self, messages, model, audio, frequency_penalty, function_call, functions, logit_bias, logprobs, max_completion_tokens, max_tokens, metadata, modalities, n, parallel_tool_calls, prediction, presence_penalty, reasoning_effort, response_format, seed, service_tier, stop, store, stream, stream_options, temperature, tool_choice, tools, top_logprobs, top_p, user, web_search_options, extra_headers, extra_query, extra_body, timeout)\u001b[0m\n\u001b[1;32m   1085\u001b[0m     ) -> ChatCompletion | Stream[ChatCompletionChunk]:\n\u001b[1;32m   1086\u001b[0m         \u001b[0mvalidate_response_format\u001b[0m\u001b[0;34m(\u001b[0m\u001b[0mresponse_format\u001b[0m\u001b[0;34m)\u001b[0m\u001b[0;34m\u001b[0m\u001b[0;34m\u001b[0m\u001b[0m\n\u001b[0;32m-> 1087\u001b[0;31m         return self._post(\n\u001b[0m\u001b[1;32m   1088\u001b[0m             \u001b[0;34m\"/chat/completions\"\u001b[0m\u001b[0;34m,\u001b[0m\u001b[0;34m\u001b[0m\u001b[0;34m\u001b[0m\u001b[0m\n\u001b[1;32m   1089\u001b[0m             body=maybe_transform(\n",
            "\u001b[0;32m/usr/local/lib/python3.11/dist-packages/openai/_base_client.py\u001b[0m in \u001b[0;36mpost\u001b[0;34m(self, path, cast_to, body, options, files, stream, stream_cls)\u001b[0m\n\u001b[1;32m   1254\u001b[0m             \u001b[0mmethod\u001b[0m\u001b[0;34m=\u001b[0m\u001b[0;34m\"post\"\u001b[0m\u001b[0;34m,\u001b[0m \u001b[0murl\u001b[0m\u001b[0;34m=\u001b[0m\u001b[0mpath\u001b[0m\u001b[0;34m,\u001b[0m \u001b[0mjson_data\u001b[0m\u001b[0;34m=\u001b[0m\u001b[0mbody\u001b[0m\u001b[0;34m,\u001b[0m \u001b[0mfiles\u001b[0m\u001b[0;34m=\u001b[0m\u001b[0mto_httpx_files\u001b[0m\u001b[0;34m(\u001b[0m\u001b[0mfiles\u001b[0m\u001b[0;34m)\u001b[0m\u001b[0;34m,\u001b[0m \u001b[0;34m**\u001b[0m\u001b[0moptions\u001b[0m\u001b[0;34m\u001b[0m\u001b[0;34m\u001b[0m\u001b[0m\n\u001b[1;32m   1255\u001b[0m         )\n\u001b[0;32m-> 1256\u001b[0;31m         \u001b[0;32mreturn\u001b[0m \u001b[0mcast\u001b[0m\u001b[0;34m(\u001b[0m\u001b[0mResponseT\u001b[0m\u001b[0;34m,\u001b[0m \u001b[0mself\u001b[0m\u001b[0;34m.\u001b[0m\u001b[0mrequest\u001b[0m\u001b[0;34m(\u001b[0m\u001b[0mcast_to\u001b[0m\u001b[0;34m,\u001b[0m \u001b[0mopts\u001b[0m\u001b[0;34m,\u001b[0m \u001b[0mstream\u001b[0m\u001b[0;34m=\u001b[0m\u001b[0mstream\u001b[0m\u001b[0;34m,\u001b[0m \u001b[0mstream_cls\u001b[0m\u001b[0;34m=\u001b[0m\u001b[0mstream_cls\u001b[0m\u001b[0;34m)\u001b[0m\u001b[0;34m)\u001b[0m\u001b[0;34m\u001b[0m\u001b[0;34m\u001b[0m\u001b[0m\n\u001b[0m\u001b[1;32m   1257\u001b[0m \u001b[0;34m\u001b[0m\u001b[0m\n\u001b[1;32m   1258\u001b[0m     def patch(\n",
            "\u001b[0;32m/usr/local/lib/python3.11/dist-packages/openai/_base_client.py\u001b[0m in \u001b[0;36mrequest\u001b[0;34m(self, cast_to, options, stream, stream_cls)\u001b[0m\n\u001b[1;32m    977\u001b[0m             \u001b[0mresponse\u001b[0m \u001b[0;34m=\u001b[0m \u001b[0;32mNone\u001b[0m\u001b[0;34m\u001b[0m\u001b[0;34m\u001b[0m\u001b[0m\n\u001b[1;32m    978\u001b[0m             \u001b[0;32mtry\u001b[0m\u001b[0;34m:\u001b[0m\u001b[0;34m\u001b[0m\u001b[0;34m\u001b[0m\u001b[0m\n\u001b[0;32m--> 979\u001b[0;31m                 response = self._client.send(\n\u001b[0m\u001b[1;32m    980\u001b[0m                     \u001b[0mrequest\u001b[0m\u001b[0;34m,\u001b[0m\u001b[0;34m\u001b[0m\u001b[0;34m\u001b[0m\u001b[0m\n\u001b[1;32m    981\u001b[0m                     \u001b[0mstream\u001b[0m\u001b[0;34m=\u001b[0m\u001b[0mstream\u001b[0m \u001b[0;32mor\u001b[0m \u001b[0mself\u001b[0m\u001b[0;34m.\u001b[0m\u001b[0m_should_stream_response_body\u001b[0m\u001b[0;34m(\u001b[0m\u001b[0mrequest\u001b[0m\u001b[0;34m=\u001b[0m\u001b[0mrequest\u001b[0m\u001b[0;34m)\u001b[0m\u001b[0;34m,\u001b[0m\u001b[0;34m\u001b[0m\u001b[0;34m\u001b[0m\u001b[0m\n",
            "\u001b[0;32m/usr/local/lib/python3.11/dist-packages/httpx/_client.py\u001b[0m in \u001b[0;36msend\u001b[0;34m(self, request, stream, auth, follow_redirects)\u001b[0m\n\u001b[1;32m    912\u001b[0m         \u001b[0mauth\u001b[0m \u001b[0;34m=\u001b[0m \u001b[0mself\u001b[0m\u001b[0;34m.\u001b[0m\u001b[0m_build_request_auth\u001b[0m\u001b[0;34m(\u001b[0m\u001b[0mrequest\u001b[0m\u001b[0;34m,\u001b[0m \u001b[0mauth\u001b[0m\u001b[0;34m)\u001b[0m\u001b[0;34m\u001b[0m\u001b[0;34m\u001b[0m\u001b[0m\n\u001b[1;32m    913\u001b[0m \u001b[0;34m\u001b[0m\u001b[0m\n\u001b[0;32m--> 914\u001b[0;31m         response = self._send_handling_auth(\n\u001b[0m\u001b[1;32m    915\u001b[0m             \u001b[0mrequest\u001b[0m\u001b[0;34m,\u001b[0m\u001b[0;34m\u001b[0m\u001b[0;34m\u001b[0m\u001b[0m\n\u001b[1;32m    916\u001b[0m             \u001b[0mauth\u001b[0m\u001b[0;34m=\u001b[0m\u001b[0mauth\u001b[0m\u001b[0;34m,\u001b[0m\u001b[0;34m\u001b[0m\u001b[0;34m\u001b[0m\u001b[0m\n",
            "\u001b[0;32m/usr/local/lib/python3.11/dist-packages/httpx/_client.py\u001b[0m in \u001b[0;36m_send_handling_auth\u001b[0;34m(self, request, auth, follow_redirects, history)\u001b[0m\n\u001b[1;32m    940\u001b[0m \u001b[0;34m\u001b[0m\u001b[0m\n\u001b[1;32m    941\u001b[0m             \u001b[0;32mwhile\u001b[0m \u001b[0;32mTrue\u001b[0m\u001b[0;34m:\u001b[0m\u001b[0;34m\u001b[0m\u001b[0;34m\u001b[0m\u001b[0m\n\u001b[0;32m--> 942\u001b[0;31m                 response = self._send_handling_redirects(\n\u001b[0m\u001b[1;32m    943\u001b[0m                     \u001b[0mrequest\u001b[0m\u001b[0;34m,\u001b[0m\u001b[0;34m\u001b[0m\u001b[0;34m\u001b[0m\u001b[0m\n\u001b[1;32m    944\u001b[0m                     \u001b[0mfollow_redirects\u001b[0m\u001b[0;34m=\u001b[0m\u001b[0mfollow_redirects\u001b[0m\u001b[0;34m,\u001b[0m\u001b[0;34m\u001b[0m\u001b[0;34m\u001b[0m\u001b[0m\n",
            "\u001b[0;32m/usr/local/lib/python3.11/dist-packages/httpx/_client.py\u001b[0m in \u001b[0;36m_send_handling_redirects\u001b[0;34m(self, request, follow_redirects, history)\u001b[0m\n\u001b[1;32m    977\u001b[0m                 \u001b[0mhook\u001b[0m\u001b[0;34m(\u001b[0m\u001b[0mrequest\u001b[0m\u001b[0;34m)\u001b[0m\u001b[0;34m\u001b[0m\u001b[0;34m\u001b[0m\u001b[0m\n\u001b[1;32m    978\u001b[0m \u001b[0;34m\u001b[0m\u001b[0m\n\u001b[0;32m--> 979\u001b[0;31m             \u001b[0mresponse\u001b[0m \u001b[0;34m=\u001b[0m \u001b[0mself\u001b[0m\u001b[0;34m.\u001b[0m\u001b[0m_send_single_request\u001b[0m\u001b[0;34m(\u001b[0m\u001b[0mrequest\u001b[0m\u001b[0;34m)\u001b[0m\u001b[0;34m\u001b[0m\u001b[0;34m\u001b[0m\u001b[0m\n\u001b[0m\u001b[1;32m    980\u001b[0m             \u001b[0;32mtry\u001b[0m\u001b[0;34m:\u001b[0m\u001b[0;34m\u001b[0m\u001b[0;34m\u001b[0m\u001b[0m\n\u001b[1;32m    981\u001b[0m                 \u001b[0;32mfor\u001b[0m \u001b[0mhook\u001b[0m \u001b[0;32min\u001b[0m \u001b[0mself\u001b[0m\u001b[0;34m.\u001b[0m\u001b[0m_event_hooks\u001b[0m\u001b[0;34m[\u001b[0m\u001b[0;34m\"response\"\u001b[0m\u001b[0;34m]\u001b[0m\u001b[0;34m:\u001b[0m\u001b[0;34m\u001b[0m\u001b[0;34m\u001b[0m\u001b[0m\n",
            "\u001b[0;32m/usr/local/lib/python3.11/dist-packages/httpx/_client.py\u001b[0m in \u001b[0;36m_send_single_request\u001b[0;34m(self, request)\u001b[0m\n\u001b[1;32m   1012\u001b[0m \u001b[0;34m\u001b[0m\u001b[0m\n\u001b[1;32m   1013\u001b[0m         \u001b[0;32mwith\u001b[0m \u001b[0mrequest_context\u001b[0m\u001b[0;34m(\u001b[0m\u001b[0mrequest\u001b[0m\u001b[0;34m=\u001b[0m\u001b[0mrequest\u001b[0m\u001b[0;34m)\u001b[0m\u001b[0;34m:\u001b[0m\u001b[0;34m\u001b[0m\u001b[0;34m\u001b[0m\u001b[0m\n\u001b[0;32m-> 1014\u001b[0;31m             \u001b[0mresponse\u001b[0m \u001b[0;34m=\u001b[0m \u001b[0mtransport\u001b[0m\u001b[0;34m.\u001b[0m\u001b[0mhandle_request\u001b[0m\u001b[0;34m(\u001b[0m\u001b[0mrequest\u001b[0m\u001b[0;34m)\u001b[0m\u001b[0;34m\u001b[0m\u001b[0;34m\u001b[0m\u001b[0m\n\u001b[0m\u001b[1;32m   1015\u001b[0m \u001b[0;34m\u001b[0m\u001b[0m\n\u001b[1;32m   1016\u001b[0m         \u001b[0;32massert\u001b[0m \u001b[0misinstance\u001b[0m\u001b[0;34m(\u001b[0m\u001b[0mresponse\u001b[0m\u001b[0;34m.\u001b[0m\u001b[0mstream\u001b[0m\u001b[0;34m,\u001b[0m \u001b[0mSyncByteStream\u001b[0m\u001b[0;34m)\u001b[0m\u001b[0;34m\u001b[0m\u001b[0;34m\u001b[0m\u001b[0m\n",
            "\u001b[0;32m/usr/local/lib/python3.11/dist-packages/httpx/_transports/default.py\u001b[0m in \u001b[0;36mhandle_request\u001b[0;34m(self, request)\u001b[0m\n\u001b[1;32m    248\u001b[0m         )\n\u001b[1;32m    249\u001b[0m         \u001b[0;32mwith\u001b[0m \u001b[0mmap_httpcore_exceptions\u001b[0m\u001b[0;34m(\u001b[0m\u001b[0;34m)\u001b[0m\u001b[0;34m:\u001b[0m\u001b[0;34m\u001b[0m\u001b[0;34m\u001b[0m\u001b[0m\n\u001b[0;32m--> 250\u001b[0;31m             \u001b[0mresp\u001b[0m \u001b[0;34m=\u001b[0m \u001b[0mself\u001b[0m\u001b[0;34m.\u001b[0m\u001b[0m_pool\u001b[0m\u001b[0;34m.\u001b[0m\u001b[0mhandle_request\u001b[0m\u001b[0;34m(\u001b[0m\u001b[0mreq\u001b[0m\u001b[0;34m)\u001b[0m\u001b[0;34m\u001b[0m\u001b[0;34m\u001b[0m\u001b[0m\n\u001b[0m\u001b[1;32m    251\u001b[0m \u001b[0;34m\u001b[0m\u001b[0m\n\u001b[1;32m    252\u001b[0m         \u001b[0;32massert\u001b[0m \u001b[0misinstance\u001b[0m\u001b[0;34m(\u001b[0m\u001b[0mresp\u001b[0m\u001b[0;34m.\u001b[0m\u001b[0mstream\u001b[0m\u001b[0;34m,\u001b[0m \u001b[0mtyping\u001b[0m\u001b[0;34m.\u001b[0m\u001b[0mIterable\u001b[0m\u001b[0;34m)\u001b[0m\u001b[0;34m\u001b[0m\u001b[0;34m\u001b[0m\u001b[0m\n",
            "\u001b[0;32m/usr/local/lib/python3.11/dist-packages/httpcore/_sync/connection_pool.py\u001b[0m in \u001b[0;36mhandle_request\u001b[0;34m(self, request)\u001b[0m\n\u001b[1;32m    254\u001b[0m \u001b[0;34m\u001b[0m\u001b[0m\n\u001b[1;32m    255\u001b[0m             \u001b[0mself\u001b[0m\u001b[0;34m.\u001b[0m\u001b[0m_close_connections\u001b[0m\u001b[0;34m(\u001b[0m\u001b[0mclosing\u001b[0m\u001b[0;34m)\u001b[0m\u001b[0;34m\u001b[0m\u001b[0;34m\u001b[0m\u001b[0m\n\u001b[0;32m--> 256\u001b[0;31m             \u001b[0;32mraise\u001b[0m \u001b[0mexc\u001b[0m \u001b[0;32mfrom\u001b[0m \u001b[0;32mNone\u001b[0m\u001b[0;34m\u001b[0m\u001b[0;34m\u001b[0m\u001b[0m\n\u001b[0m\u001b[1;32m    257\u001b[0m \u001b[0;34m\u001b[0m\u001b[0m\n\u001b[1;32m    258\u001b[0m         \u001b[0;31m# Return the response. Note that in this case we still have to manage\u001b[0m\u001b[0;34m\u001b[0m\u001b[0;34m\u001b[0m\u001b[0m\n",
            "\u001b[0;32m/usr/local/lib/python3.11/dist-packages/httpcore/_sync/connection_pool.py\u001b[0m in \u001b[0;36mhandle_request\u001b[0;34m(self, request)\u001b[0m\n\u001b[1;32m    234\u001b[0m                 \u001b[0;32mtry\u001b[0m\u001b[0;34m:\u001b[0m\u001b[0;34m\u001b[0m\u001b[0;34m\u001b[0m\u001b[0m\n\u001b[1;32m    235\u001b[0m                     \u001b[0;31m# Send the request on the assigned connection.\u001b[0m\u001b[0;34m\u001b[0m\u001b[0;34m\u001b[0m\u001b[0m\n\u001b[0;32m--> 236\u001b[0;31m                     response = connection.handle_request(\n\u001b[0m\u001b[1;32m    237\u001b[0m                         \u001b[0mpool_request\u001b[0m\u001b[0;34m.\u001b[0m\u001b[0mrequest\u001b[0m\u001b[0;34m\u001b[0m\u001b[0;34m\u001b[0m\u001b[0m\n\u001b[1;32m    238\u001b[0m                     )\n",
            "\u001b[0;32m/usr/local/lib/python3.11/dist-packages/httpcore/_sync/connection.py\u001b[0m in \u001b[0;36mhandle_request\u001b[0;34m(self, request)\u001b[0m\n\u001b[1;32m    101\u001b[0m             \u001b[0;32mraise\u001b[0m \u001b[0mexc\u001b[0m\u001b[0;34m\u001b[0m\u001b[0;34m\u001b[0m\u001b[0m\n\u001b[1;32m    102\u001b[0m \u001b[0;34m\u001b[0m\u001b[0m\n\u001b[0;32m--> 103\u001b[0;31m         \u001b[0;32mreturn\u001b[0m \u001b[0mself\u001b[0m\u001b[0;34m.\u001b[0m\u001b[0m_connection\u001b[0m\u001b[0;34m.\u001b[0m\u001b[0mhandle_request\u001b[0m\u001b[0;34m(\u001b[0m\u001b[0mrequest\u001b[0m\u001b[0;34m)\u001b[0m\u001b[0;34m\u001b[0m\u001b[0;34m\u001b[0m\u001b[0m\n\u001b[0m\u001b[1;32m    104\u001b[0m \u001b[0;34m\u001b[0m\u001b[0m\n\u001b[1;32m    105\u001b[0m     \u001b[0;32mdef\u001b[0m \u001b[0m_connect\u001b[0m\u001b[0;34m(\u001b[0m\u001b[0mself\u001b[0m\u001b[0;34m,\u001b[0m \u001b[0mrequest\u001b[0m\u001b[0;34m:\u001b[0m \u001b[0mRequest\u001b[0m\u001b[0;34m)\u001b[0m \u001b[0;34m->\u001b[0m \u001b[0mNetworkStream\u001b[0m\u001b[0;34m:\u001b[0m\u001b[0;34m\u001b[0m\u001b[0;34m\u001b[0m\u001b[0m\n",
            "\u001b[0;32m/usr/local/lib/python3.11/dist-packages/httpcore/_sync/http11.py\u001b[0m in \u001b[0;36mhandle_request\u001b[0;34m(self, request)\u001b[0m\n\u001b[1;32m    134\u001b[0m                 \u001b[0;32mwith\u001b[0m \u001b[0mTrace\u001b[0m\u001b[0;34m(\u001b[0m\u001b[0;34m\"response_closed\"\u001b[0m\u001b[0;34m,\u001b[0m \u001b[0mlogger\u001b[0m\u001b[0;34m,\u001b[0m \u001b[0mrequest\u001b[0m\u001b[0;34m)\u001b[0m \u001b[0;32mas\u001b[0m \u001b[0mtrace\u001b[0m\u001b[0;34m:\u001b[0m\u001b[0;34m\u001b[0m\u001b[0;34m\u001b[0m\u001b[0m\n\u001b[1;32m    135\u001b[0m                     \u001b[0mself\u001b[0m\u001b[0;34m.\u001b[0m\u001b[0m_response_closed\u001b[0m\u001b[0;34m(\u001b[0m\u001b[0;34m)\u001b[0m\u001b[0;34m\u001b[0m\u001b[0;34m\u001b[0m\u001b[0m\n\u001b[0;32m--> 136\u001b[0;31m             \u001b[0;32mraise\u001b[0m \u001b[0mexc\u001b[0m\u001b[0;34m\u001b[0m\u001b[0;34m\u001b[0m\u001b[0m\n\u001b[0m\u001b[1;32m    137\u001b[0m \u001b[0;34m\u001b[0m\u001b[0m\n\u001b[1;32m    138\u001b[0m     \u001b[0;31m# Sending the request...\u001b[0m\u001b[0;34m\u001b[0m\u001b[0;34m\u001b[0m\u001b[0m\n",
            "\u001b[0;32m/usr/local/lib/python3.11/dist-packages/httpcore/_sync/http11.py\u001b[0m in \u001b[0;36mhandle_request\u001b[0;34m(self, request)\u001b[0m\n\u001b[1;32m    104\u001b[0m                     \u001b[0mheaders\u001b[0m\u001b[0;34m,\u001b[0m\u001b[0;34m\u001b[0m\u001b[0;34m\u001b[0m\u001b[0m\n\u001b[1;32m    105\u001b[0m                     \u001b[0mtrailing_data\u001b[0m\u001b[0;34m,\u001b[0m\u001b[0;34m\u001b[0m\u001b[0;34m\u001b[0m\u001b[0m\n\u001b[0;32m--> 106\u001b[0;31m                 ) = self._receive_response_headers(**kwargs)\n\u001b[0m\u001b[1;32m    107\u001b[0m                 trace.return_value = (\n\u001b[1;32m    108\u001b[0m                     \u001b[0mhttp_version\u001b[0m\u001b[0;34m,\u001b[0m\u001b[0;34m\u001b[0m\u001b[0;34m\u001b[0m\u001b[0m\n",
            "\u001b[0;32m/usr/local/lib/python3.11/dist-packages/httpcore/_sync/http11.py\u001b[0m in \u001b[0;36m_receive_response_headers\u001b[0;34m(self, request)\u001b[0m\n\u001b[1;32m    175\u001b[0m \u001b[0;34m\u001b[0m\u001b[0m\n\u001b[1;32m    176\u001b[0m         \u001b[0;32mwhile\u001b[0m \u001b[0;32mTrue\u001b[0m\u001b[0;34m:\u001b[0m\u001b[0;34m\u001b[0m\u001b[0;34m\u001b[0m\u001b[0m\n\u001b[0;32m--> 177\u001b[0;31m             \u001b[0mevent\u001b[0m \u001b[0;34m=\u001b[0m \u001b[0mself\u001b[0m\u001b[0;34m.\u001b[0m\u001b[0m_receive_event\u001b[0m\u001b[0;34m(\u001b[0m\u001b[0mtimeout\u001b[0m\u001b[0;34m=\u001b[0m\u001b[0mtimeout\u001b[0m\u001b[0;34m)\u001b[0m\u001b[0;34m\u001b[0m\u001b[0;34m\u001b[0m\u001b[0m\n\u001b[0m\u001b[1;32m    178\u001b[0m             \u001b[0;32mif\u001b[0m \u001b[0misinstance\u001b[0m\u001b[0;34m(\u001b[0m\u001b[0mevent\u001b[0m\u001b[0;34m,\u001b[0m \u001b[0mh11\u001b[0m\u001b[0;34m.\u001b[0m\u001b[0mResponse\u001b[0m\u001b[0;34m)\u001b[0m\u001b[0;34m:\u001b[0m\u001b[0;34m\u001b[0m\u001b[0;34m\u001b[0m\u001b[0m\n\u001b[1;32m    179\u001b[0m                 \u001b[0;32mbreak\u001b[0m\u001b[0;34m\u001b[0m\u001b[0;34m\u001b[0m\u001b[0m\n",
            "\u001b[0;32m/usr/local/lib/python3.11/dist-packages/httpcore/_sync/http11.py\u001b[0m in \u001b[0;36m_receive_event\u001b[0;34m(self, timeout)\u001b[0m\n\u001b[1;32m    215\u001b[0m \u001b[0;34m\u001b[0m\u001b[0m\n\u001b[1;32m    216\u001b[0m             \u001b[0;32mif\u001b[0m \u001b[0mevent\u001b[0m \u001b[0;32mis\u001b[0m \u001b[0mh11\u001b[0m\u001b[0;34m.\u001b[0m\u001b[0mNEED_DATA\u001b[0m\u001b[0;34m:\u001b[0m\u001b[0;34m\u001b[0m\u001b[0;34m\u001b[0m\u001b[0m\n\u001b[0;32m--> 217\u001b[0;31m                 data = self._network_stream.read(\n\u001b[0m\u001b[1;32m    218\u001b[0m                     \u001b[0mself\u001b[0m\u001b[0;34m.\u001b[0m\u001b[0mREAD_NUM_BYTES\u001b[0m\u001b[0;34m,\u001b[0m \u001b[0mtimeout\u001b[0m\u001b[0;34m=\u001b[0m\u001b[0mtimeout\u001b[0m\u001b[0;34m\u001b[0m\u001b[0;34m\u001b[0m\u001b[0m\n\u001b[1;32m    219\u001b[0m                 )\n",
            "\u001b[0;32m/usr/local/lib/python3.11/dist-packages/httpcore/_backends/sync.py\u001b[0m in \u001b[0;36mread\u001b[0;34m(self, max_bytes, timeout)\u001b[0m\n\u001b[1;32m    126\u001b[0m         \u001b[0;32mwith\u001b[0m \u001b[0mmap_exceptions\u001b[0m\u001b[0;34m(\u001b[0m\u001b[0mexc_map\u001b[0m\u001b[0;34m)\u001b[0m\u001b[0;34m:\u001b[0m\u001b[0;34m\u001b[0m\u001b[0;34m\u001b[0m\u001b[0m\n\u001b[1;32m    127\u001b[0m             \u001b[0mself\u001b[0m\u001b[0;34m.\u001b[0m\u001b[0m_sock\u001b[0m\u001b[0;34m.\u001b[0m\u001b[0msettimeout\u001b[0m\u001b[0;34m(\u001b[0m\u001b[0mtimeout\u001b[0m\u001b[0;34m)\u001b[0m\u001b[0;34m\u001b[0m\u001b[0;34m\u001b[0m\u001b[0m\n\u001b[0;32m--> 128\u001b[0;31m             \u001b[0;32mreturn\u001b[0m \u001b[0mself\u001b[0m\u001b[0;34m.\u001b[0m\u001b[0m_sock\u001b[0m\u001b[0;34m.\u001b[0m\u001b[0mrecv\u001b[0m\u001b[0;34m(\u001b[0m\u001b[0mmax_bytes\u001b[0m\u001b[0;34m)\u001b[0m\u001b[0;34m\u001b[0m\u001b[0;34m\u001b[0m\u001b[0m\n\u001b[0m\u001b[1;32m    129\u001b[0m \u001b[0;34m\u001b[0m\u001b[0m\n\u001b[1;32m    130\u001b[0m     \u001b[0;32mdef\u001b[0m \u001b[0mwrite\u001b[0m\u001b[0;34m(\u001b[0m\u001b[0mself\u001b[0m\u001b[0;34m,\u001b[0m \u001b[0mbuffer\u001b[0m\u001b[0;34m:\u001b[0m \u001b[0mbytes\u001b[0m\u001b[0;34m,\u001b[0m \u001b[0mtimeout\u001b[0m\u001b[0;34m:\u001b[0m \u001b[0mfloat\u001b[0m \u001b[0;34m|\u001b[0m \u001b[0;32mNone\u001b[0m \u001b[0;34m=\u001b[0m \u001b[0;32mNone\u001b[0m\u001b[0;34m)\u001b[0m \u001b[0;34m->\u001b[0m \u001b[0;32mNone\u001b[0m\u001b[0;34m:\u001b[0m\u001b[0;34m\u001b[0m\u001b[0;34m\u001b[0m\u001b[0m\n",
            "\u001b[0;31mKeyboardInterrupt\u001b[0m: "
          ]
        }
      ]
    },
    {
      "cell_type": "code",
      "source": [
        "print (next_text_iteration)\n"
      ],
      "metadata": {
        "colab": {
          "base_uri": "https://localhost:8080/"
        },
        "id": "K0eV9F3f3ITA",
        "outputId": "d548f93f-cc31-4003-a553-f6c5532c18db"
      },
      "execution_count": null,
      "outputs": [
        {
          "output_type": "stream",
          "name": "stdout",
          "text": [
            "### Refinement Improvements for iPhone 15 Marketing Text\n",
            "\n",
            "Based on the provided content, I've identified the following refinement suggestions:\n",
            "\n",
            "1. **Clarify the Tagline**:\n",
            "   - Original text: \"Revolutionize Your Mobile Experience with iPhone 15\"\n",
            "   - Suggested revision: \"Experience the Future of Mobile: Introducing iPhone 15\"\n",
            "   The existing tagline is concise but may not fully encapsulate the new device's features.\n",
            "\n",
            "2. **Enhance the Campaign Overview**:\n",
            "   - Original text: \"Experience the future of mobile revolution with iPhone 15. Boosted performance, enhanced camera capabilities, and AI-driven features make this device a game-changer in your daily life.\"\n",
            "   - Suggested revision: \n",
            "     * Enhance clarity by breaking up lengthy sentences.\n",
            "     * Emphasize benefits through words like 'revolutionize' or 'transform.'\n",
            "     - Revised campaign overview:\n",
            "       \"Unleash the Power of iPhone 15. Boosted performance, AI-driven camera capabilities, and intelligent features redefine your mobile experience.\"\n",
            "\n",
            "3. **Simplify Segment Description**:\n",
            "   - Original text: \n",
            "     * \"Aware professionals (25-45) seeking power and efficiency,\n",
            "     * Young adventurers (18-24) looking for seamless connectivity,\"\n",
            "       + Tech-savvy individuals (35-50) who crave innovative camera capabilities.\"\n",
            "   - Suggested revision:\n",
            "     * Make the segments more concise by omitting unnecessary words.\n",
            "     * Consider specific interests or behaviors for deeper segmentation.\n",
            "     - Revised segment description:\n",
            "         \"Find Your Tribe:\n",
            "        25-45 year-old professionals: Work and play on-the-go\n",
            "        Young dreamers (18-24): Connect, explore, create\"\n",
            "        Tech enthusiasts: Capture life's moments with advanced camera capabilities\"\n",
            "\n",
            "4. **Highlight Unique Selling Points**\n",
            "   - Original text: \n",
            "     * \"AI-driven portrait mode\";\n",
            "     * Enhanced camera capabilities for professional-grade photography;\n",
            "     * Lightning-fast performance and improved battery life\"\n",
            "   - Suggested revision:\n",
            "     * Break up bullet points to improve readability.\n",
            "     * Focus on specific key benefits, such as 'Professional-grade images' instead of just saying 'Enhanced camera capabilities'.\n",
            "     - Revised unique selling points:\n",
            "       \"Experience the Exceptional with iPhone 15:\n",
            "\n",
            "        AI-driven Portrait Mode: Unmatched precision for stunning portraits\n",
            "        Professional-grade Images: Capture life's moments like never before\n",
            "        Lightning-Fast Performance & Boosted Battery Life\"\n",
            "\n",
            "5. **Streamline Key Messages**:\n",
            "   - Original text:\n",
            "     * Transform Your Mobile Experience\n",
            "       Immerse yourself in an enhanced AI-driven ecosystem;\n",
            "         Seamless integration with Apple devices and services.\n",
            "     * Powering Your Every Move\n",
            "   - Suggested revision: \n",
            "     * Rephrase messages to make them more dynamic or emotive, while keeping the main ideas intact.\n",
            "     * Consider adding specific benefits that resonate with your audience.\n",
            "     - Revised key messages:\n",
            "        \"Immerse Yourself in Intelligent Perfection\":\n",
            "          Unlock your full potential with iPhone 15\n",
            "           - Supercharged ecosystem for seamless Apple connections\n",
            "      Feel the Empowerment of Every Touch\"\n",
            "     - Advanced Camera Capabilities & Innovative Performance\n",
            "\n",
            "6. **Strengthen Call-to-Action (CTA)**\n",
            "   - Original text: \"Get Exclusive Discounts and Limited-Time Offers by Pre-Ordering iPhone 15!\"\n",
            "   - Suggested revision:\n",
            "     * Emphasize the urgency with specific timeframes, such as \"Exclusively yours when available on October 17th.\"\n",
            "     * Highlight any additional benefits for pre-orders, like enhanced customer support or early device access.\n",
            "     - Revised CTA: \"Unlock Exclusive Perks by Pre-Ordering iPhone 15! Early Access to Limited Time Offers & Priority Tech Support\"\n",
            "\n",
            "7. **Refine Visuals-Inspired Key Messages**:\n",
            "   - Original text remains the same\n",
            "   - Suggested revision: \n",
            "     * Ensure consistency across visuals, messaging, and audience targeting.\n",
            "     * Ensure clear differentiations in visual language, highlighting the core capabilities or innovations of iPhone 15\n",
            "             In AI-driven ecosystem for Apple lovers with cutting tech innovation.\n",
            "\n",
            "8. **Enhance Digital-Focused Key Message**\n",
            "   - Original text:\n",
            "     \"Stay connected, stay powered, and unlock new possibilities on your iPhone 15.\"\n",
            "   - Suggested revision: \n",
            "     * Focus more intensely on contemporary digital aspects (e.g., online activities, communication styles) appealing to your target audience.\n",
            "     * Encouraging seamless experiences at various touchpoints with devices\n",
            "             Unlock your digital potential\n",
            "\n",
            "By refining these suggestions, you have found new ways to enhance the overall marketing strategy of iPhone 15.\n"
          ]
        }
      ]
    },
    {
      "cell_type": "code",
      "source": [
        "print (marketing_text)\n",
        "print (\"###### critique\")\n",
        "print (is_finished)\n",
        "print (refinements)\n",
        "print (\"###### next text iteration\")\n",
        "print (next_text_iteration)"
      ],
      "metadata": {
        "colab": {
          "base_uri": "https://localhost:8080/"
        },
        "id": "4iSgEgej5bWp",
        "outputId": "f0f04af8-23ef-4e23-d453-05eb7fd2c41e"
      },
      "execution_count": null,
      "outputs": [
        {
          "output_type": "stream",
          "name": "stdout",
          "text": [
            "**Marketing Campaign: \"Empower Your World\" - iPhone 15 Launch**\n",
            "\n",
            "**Campaign Objective:** Drive awareness, generate buzz, and drive sales of iPhone 15 among tech-savvy consumers worldwide.\n",
            "\n",
            "**Target Audience:** Tech enthusiasts, mobile device users, and individuals looking for a premium smartphone experience.\n",
            "\n",
            "**Key Messaging:**\n",
            "\n",
            "* Introducing the latest innovation from Apple - iPhone 15, redefining the smartphone experience with cutting-edge technology and sleek design.\n",
            "* Unlock your world with iPhone 15, featuring groundbreaking camera capabilities, lightning-fast performance, and an immersive display.\n",
            "\n",
            "**Marketing Strategies:**\n",
            "\n",
            "1. **Teaser Campaign:**\n",
            "\t* Release a series of cryptic ads on social media platforms (Instagram, TikTok, Facebook) showcasing a fragmented smartphone interface, hinting at the iPhone 15's advanced features.\n",
            "\t* Create a hashtag (#EmpowerYourWorld) and encourage users to share their own mobile moments, using the iPhone 15 as their device of choice.\n",
            "2. **Influencer Partnerships:**\n",
            "\t* Collaborate with social media influencers, tech reviewers, and content creators to showcase iPhone 15's features and demonstrate its capabilities.\n",
            "\t* Partner with popular streaming platforms (e.g., YouTube, Twitch) for exclusive launch content, highlighting the phone's seamless performance and immersive display.\n",
            "3. **Event Marketing:**\n",
            "\t* Host a global launch event in Cupertino, California, featuring an all-star lineup of Apple executives, tech experts, and influencers.\n",
            "\t* Offer attendees a first-hand experience with iPhone 15, including hands-on demos and exclusive access to new features.\n",
            "4. **Experiential Marketing:**\n",
            "\t* Design immersive pop-up experiences (in major cities worldwide) showcasing the iPhone 15's advanced camera capabilities through interactive exhibits.\n",
            "\t* Create an \"Immersive Selfie\" installation where visitors can capture stunning photos with the help of iPhone 15's advanced front-facing camera.\n",
            "5. **Digital Advertising:**\n",
            "\t* Develop a high-energy video ad, highlighting iPhone 15's performance, camera features, and sleek design.\n",
            "\t* Utilize targeted social media ads (Facebook, Instagram, Twitter) to reach our target audience.\n",
            "\n",
            "**Promotional Offers:**\n",
            "\n",
            "1. **Launch Day Exclusive:** Offer an exclusive offer for the first 500 customers who pre-order iPhone 15 on launch day, including a complimentary wireless charging pad and earbuds.\n",
            "2. ** Trade-In Program:** Encourage existing Apple device users to trade-in their old devices in exchange for a limited-edition iPhone 15 bundle, featuring premium accessories.\n",
            "\n",
            "**Public Relations:**\n",
            "Distribute press releases announcing the official launch of iPhone 15, highlighting its innovative features and design breakthroughs. Execute a comprehensive media outreach effort targeting top-tier tech publications, entertainment outlets, and mainstream news sources.\n",
            "\n",
            "**Budget Allocation:**\n",
            "\n",
            "1. Influencer Partnerships (30%): $3 million\n",
            "2. Event Marketing (20%): $2 million\n",
            "3. Experiential Marketing (15%): $1.5 million\n",
            "4. Digital Advertising (15%): $1.5 million\n",
            "5. Public Relations (10%): $1 million\n",
            "6. Teaser Campaign & Content Creation (10%): $1 million\n",
            "\n",
            "**Timeline:**\n",
            "\n",
            "* 8 weeks prior to launch: Begin campaign activation, including teaser ads and social media promotions.\n",
            "* Launch Day (September 15th): Execute event marketing, influencer partnerships, and experiential activations.\n",
            "* Post-Launch (September 22nd - October 31st): Roll out digital advertising and public relations campaigns.\n",
            "\n",
            "**Tracking Performance:**\n",
            "\n",
            "Monitor campaign metrics using Google Analytics, AdRoll, and social media insights to track website traffic, ad engagement, event attendance, and influencer partnership ROI.\n",
            "###### critique\n",
            "False\n",
            "After carefully reviewing the marketing text between the <CONTENT> tags, I've identified several areas for refinement to enhance its clarity, coherence, and overall impact. Here's a list of suggested improvements:\n",
            "\n",
            "### Output: Refinement Plan\n",
            "\n",
            "1. **Clearer Campaign Objective:** The current objective is somewhat vague. Refine it to focus on \"drive awareness, generate buzz, and increase sales\" among the target audience.\n",
            "2. **Define Target Audience Segments:** Instead of a broad \"tech enthusiasts, mobile device users,\" consider segmenting the audience based on age, income, interests, or behaviors to tailor marketing efforts more effectively.\n",
            "3. **Improve Key Messaging Structure:** The current structure is somewhat disjointed. Reorganize the key messaging into two to three concise bullet points, focusing on the main benefits and unique selling points of iPhone 15.\n",
            "4. **Enhance Marketing Strategies Section:**\n",
            "\t* \"Teaser Campaign\" could be reworded to \"Build Anticipation\": Emphasize that teaser ads create a sense of mystery around iPhone 15.\n",
            "\t* Replace \"Influencer Partnerships\" with \"Empower Ambassadors\": This phrase suggests a more collaborative relationship between Apple and influencers.\n",
            "\t* Instead of \"Experiential Marketing,\" consider \"Immersive Experiences\": Use this term to emphasize the hands-on nature of events and installations.\n",
            "\t* In \"Event Marketing,\" replace \"all-star lineup\" with \"top-tier talent\": Use this more specific phrase to create a better expectation for attendees.\n",
            "5. **Promotional Offers Section:**\n",
            "\t* Simplify launch day offers by providing a clear summary of incentives, such as \"Exclusive Launch Day Offer: Get a complimentary wireless charging pad and earbuds\" instead of listing individual items.\n",
            "6. **Public Relations Section:** Consider adding more specific details about press release distribution channels (e.g., financial Wire, PR Newswire) to ensure maximum coverage reach.\n",
            "7. **Budget Allocation:** Provide a clearer breakdown of costs associated with each marketing strategy (e.g., campaign spend, estimated ROI).\n",
            "8. **Timeline:** Add one week of final preparation and soft launch ads prior to the main campaign kick-off to create some buzz.\n",
            "\n",
            "### Output: Refinement\n",
            "\n",
            "Here is a sample revised output incorporating the suggested improvements:\n",
            "\n",
            "<PRODUCT>iPhone 15</PRODUCT>\n",
            "\n",
            "<CONTENT>\n",
            "\n",
            "**Marketing Campaign:** \"Empower Your World\" - iPhone 15 Launch\n",
            "\n",
            "**Campaign Objective:** Drive awareness, generate buzz, and increase sales of iPhone 15 among tech enthusiasts aged 18-45 with an average income of $100K or more.\n",
            "\n",
            "**Target Audience Segments:**\n",
            "\n",
            "* Tech-savvy individuals interested in smartphone photography\n",
            "* High-income consumers seeking premium devices\n",
            "* Active mobile device users engaged on social media\n",
            "\n",
            "**Key Messaging:**\n",
            "• Experience the latest innovation from Apple - iPhone 15, featuring cutting-edge camera capabilities and sleek design.\n",
            "• Unlock your world with iPhone 15, unlocking a seamless performance, immersive display, and advanced features for mobile enthusiasts.\n",
            "\n",
            "**Marketing Strategies:**\n",
            "\n",
            "1. **Teaser Campaign:** Build Anticipation\n",
            "\t* Release cryptic ads on social media platforms showcasing a fragmented smartphone interface.\n",
            "\t* Encourage users to share their own mobile moments using the hashtag #EmpowerYourWorld.\n",
            "\n",
            "2. **Influencer Partnerships (Empower Ambassadors):** Collaborate with influencers, tech reviewers, and content creators showcasing iPhone 15's features and capabilities.\n",
            "\n",
            "3. **Event Marketing:** Empower Experiences\n",
            "\t* Host a global launch event in Cupertino, California, featuring top-tier talent.\n",
            "\t* Offer hands-on demos and exclusive access to new features for attendees.\n",
            "\n",
            "4. **Experiential Marketing (Immersive Experiences):** Design interactive exhibits showcasing iPhone 15's camera capabilities through pop-up installations.\n",
            "\n",
            "5. **Digital Advertising:** Targeted Ads on Facebook, Instagram, YouTube, and Mobile Platforms\n",
            "\t* Develop a high-energy video ad focusing on iPhone 15's performance, camera features, and sleek design.\n",
            "\t* Utilize targeted social media ads to reach our target audience.\n",
            "\n",
            "**Promotional Offers:**\n",
            "\n",
            "1. Exclusive Launch Day Offer:\n",
            "Get a complimentary wireless charging pad and earbuds when pre-ordering iPhone 15 on launch day (up to the first 500 customers).\n",
            "\n",
            "2. Trade-In Program:\n",
            "Exchange existing Apple devices for an exclusive bundle, featuring premium accessories, limited-time only.\n",
            "\n",
            "**Public Relations:**\n",
            "Distribute press releases announcing the official launch of iPhone 15, focusing on groundbreaking camera capabilities and sleek design breakthroughs.\n",
            "Execute comprehensive media outreach efforts targeting top-tier tech publications, entertainment outlets, mainstream news sources, and key technology review websites.\n",
            "\n",
            "**Budget Allocation:**\n",
            "\n",
            "* Influencer Partnerships (30%): $3 million\n",
            "\t+ Campaign spend: $2.5M\n",
            "\t+ Estimated ROI: 1200%\n",
            "* Event Marketing (20%): $2 million\n",
            "\t+ Venue rental: $500K\n",
            "\t+ Artist fees: $500k\n",
            "* Experiential Marketing (15%): $1.5 million\n",
            "\t+ Exhibit design and installation: $750K\n",
            "\t+ Audiovisual equipment rental: $300k\n",
            "* Digital Advertising (20%): $2 million\n",
            "\t+ Video ad production costs: $400k\n",
            "\t+ Targeted social media campaign costs: $1.6M\n",
            "* Public Relations (10%): $1 million\n",
            "\t+ PR company fees: $750K\n",
            "* Teaser Campaign & Content Creation (5%): $500,000\n",
            "\n",
            "**Timeline:**\n",
            "\n",
            "Week 0-1: Final preparations and soft launch ad rollout.\n",
            "Week 2-4: Launch campaign kicks off, with teaser ads going live on social media platforms.\n",
            "###### next text iteration\n",
            "**Refined Marketing Text:**\n",
            "\n",
            "<PRODUCT>iPhone 15</PRODUCT>\n",
            "\n",
            "<CONTENT>\n",
            "**Marketing Campaign: \"Unleash Your Potential\" - iPhone 15 Launch**\n",
            " \n",
            "**Campaign Objective:** Create awareness, generate excitement, and drive sales of iPhone 15 among tech-savvy consumers worldwide.\n",
            "\n",
            "**Target Audience:** Tech enthusiasts, mobile device users, and individuals seeking a premium smartphone experience.\n",
            "\n",
            "**Key Messaging:\n",
            "\n",
            "* Discover the latest innovation from Apple - iPhone 15, empowering you to unlock new possibilities with cutting-edge technology and stunning design.\n",
            "* Unlock your world with iPhone 15, featuring groundbreaking camera capabilities, lightning-fast performance, and an immersive display that redefines mobile entertainment.\n",
            "\n",
            "**Marketing Strategies:**\n",
            "\n",
            "1. **Teaser Campaign:**\n",
            "Release a series of eye-opening ads on social media platforms (Instagram, TikTok, Facebook) showcasing the iPhone 15's innovative features.\n",
            "Create a hashtag (#EmpowerYourWorld) and encourage users to share their own stories, illustrating how the iPhone 15 enables them to push boundaries.\n",
            "\n",
            "2. **Influencer Partnerships:**\n",
            "Partner with influential thought leaders, creative experts, and industry insiders to showcase iPhone 15's capabilities.\n",
            "Collaborate with popular streaming platforms (e.g., YouTube, Twitch) for exclusive content, highlighting the phone's seamless performance and immersive display on-the-go.\n",
            "\n",
            "3. **Event Marketing:**\n",
            "Host a launch event in Cupertino, California, featuring Apple executives, innovators, and influencers.\n",
            "Provide attendees an unparalleled experience with iPhone 15, including hands-on demos and exclusive access to new features that will revolutionize mobile interaction.\n",
            "\n",
            "4. **Experiential Marketing:**\n",
            "Design engaging pop-up experiences (in major cities worldwide) celebrating the iPhone 15's advanced camera capabilities through immersive exhibits.\n",
            "Invite visitors to capture stunning self-portraits using the powerful front-facing camera in our Interactive Selfie Studio.\n",
            "\n",
            "5. **Digital Advertising:**\n",
            "Develop a compelling video showcasing iPhone 15's performance, camera features, and elegant design style.\n",
            "Run targeted social media ads (Facebook, Instagram, Twitter) tailored specifically for tech-savvy users seeking premium mobile experiences.\n",
            "\n",
            "**Promotional Offers:**\n",
            "\n",
            "1. **Launch Day Exclusive:** Offer an exclusive incentive for the first 500 customers pre-ordering iPhone 15 on launch day - receive a complimentary wireless charging pad and premium earbuds bundle.\n",
            "2. **Trade-In Program:** Launch a trade-in campaign targeting current Apple device users, rewarding them with a limited-edition iPhone 15 package featuring high-quality accessories when trading in their existing devices.\n",
            "\n",
            "**Leveraging PR:**\n",
            "Issue press releases highlighting the official launch of iPhone 15 and showcase its groundbreaking attributes to media outlets.\n",
            "Reach out to tech influencers, lifestyle experts, and opinion leaders via email and phone calls for exclusive interviews sharing insights about iPhone 15's transformative features.\n",
            "\n",
            "**Budget Allocation:**\n",
            "\n",
            "1. **Influencer Partnerships (30%): $3 million**\n",
            "2. **Event Marketing (20%): $2 million**\n",
            "3. **Experiential Marketing (15%): $1.5 million**\n",
            "4. **Digital Advertising (15%): $1.5 million**\n",
            "5. **Public Relations (10%): $1 million**\n",
            "6. **Teaser Campaign & Content Creation (10%): $1 million**\n",
            "\n",
            "**Launch Timeline:**\n",
            "\n",
            "\n",
            "Launch Preparation: (Weeks 8 prior to launch)\n",
            "\n",
            "* Release teaser ads\n",
            "* Share iPhone 15 news on social media platforms\n",
            "* Engage influencers using hashtag\n",
            "\n",
            "Launch Day: September 15th\n",
            "\n",
            "* Event marketing and influencer partnerships in action\n",
            "* Experiential pop-up sites open for customers and fans worldwide\n",
            "\n",
            "\n",
            "**Campaign Evaluation and Optimization Post-launch Dates (Weeks 15 - 45 post-launch)**\n",
            "\n",
            "* Performance tracking with Google Analytics, Adobe Audience Manager, email performance results \n",
            "* Monitor campaign ROI and adjust ad spends for better engagement results\n"
          ]
        }
      ]
    }
  ]
}