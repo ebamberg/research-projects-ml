{
  "nbformat": 4,
  "nbformat_minor": 0,
  "metadata": {
    "colab": {
      "provenance": [],
      "gpuType": "T4",
      "authorship_tag": "ABX9TyPAmuydXos01XCwn44LzcTg",
      "include_colab_link": true
    },
    "kernelspec": {
      "name": "python3",
      "display_name": "Python 3"
    },
    "language_info": {
      "name": "python"
    },
    "accelerator": "GPU"
  },
  "cells": [
    {
      "cell_type": "markdown",
      "metadata": {
        "id": "view-in-github",
        "colab_type": "text"
      },
      "source": [
        "<a href=\"https://colab.research.google.com/github/ebamberg/research-projects-ml/blob/main/Document_Management/examples_build_knowledge_graph_with_instructor_framework.ipynb\" target=\"_parent\"><img src=\"https://colab.research.google.com/assets/colab-badge.svg\" alt=\"Open In Colab\"/></a>"
      ]
    },
    {
      "cell_type": "markdown",
      "source": [
        "## Setup projects and dependencies"
      ],
      "metadata": {
        "id": "J0XnM9W4boUo"
      }
    },
    {
      "cell_type": "code",
      "execution_count": 1,
      "metadata": {
        "id": "mnTbWVjq5_B9",
        "colab": {
          "base_uri": "https://localhost:8080/"
        },
        "outputId": "e98c52eb-3a06-4bc5-f476-c52485a11dd4"
      },
      "outputs": [
        {
          "output_type": "stream",
          "name": "stdout",
          "text": [
            "\u001b[2K   \u001b[90m━━━━━━━━━━━━━━━━━━━━━━━━━━━━━━━━━━━━━━━━\u001b[0m \u001b[32m2.5/2.5 MB\u001b[0m \u001b[31m28.2 MB/s\u001b[0m eta \u001b[36m0:00:00\u001b[0m\n",
            "\u001b[2K   \u001b[90m━━━━━━━━━━━━━━━━━━━━━━━━━━━━━━━━━━━━━━━━\u001b[0m \u001b[32m50.8/50.8 kB\u001b[0m \u001b[31m3.0 MB/s\u001b[0m eta \u001b[36m0:00:00\u001b[0m\n",
            "\u001b[?25h"
          ]
        }
      ],
      "source": [
        "!pip install ollama langchain_community  --quiet\n",
        "\n",
        "modelid=\"llama3.1\"\n",
        "emb_modelid=\"mxbai-embed-large\"\n",
        "host=\"localhost:11434\"\n",
        "\n",
        "get_ipython().system_raw(\"curl -fsSL https://ollama.com/install.sh | sh\")\n",
        "get_ipython().system_raw(\"ollama serve &\")\n",
        "get_ipython().system_raw(f\"ollama pull {modelid}\")\n",
        "get_ipython().system_raw(f\"ollama pull {emb_modelid}\")"
      ]
    },
    {
      "cell_type": "code",
      "source": [
        "!pip install instructor --quiet\n",
        "!apt install libgraphviz-dev\n",
        "!pip install pygraphviz\n",
        "\n"
      ],
      "metadata": {
        "id": "StvXnLGC6La3",
        "colab": {
          "base_uri": "https://localhost:8080/"
        },
        "outputId": "555711ff-143b-4114-aa7b-5026592951c7"
      },
      "execution_count": 2,
      "outputs": [
        {
          "output_type": "stream",
          "name": "stdout",
          "text": [
            "\u001b[2K   \u001b[90m━━━━━━━━━━━━━━━━━━━━━━━━━━━━━━━━━━━━━━━━\u001b[0m \u001b[32m71.4/71.4 kB\u001b[0m \u001b[31m3.1 MB/s\u001b[0m eta \u001b[36m0:00:00\u001b[0m\n",
            "Reading package lists... Done\n",
            "Building dependency tree... Done\n",
            "Reading state information... Done\n",
            "The following additional packages will be installed:\n",
            "  libgail-common libgail18 libgtk2.0-0 libgtk2.0-bin libgtk2.0-common libgvc6-plugins-gtk\n",
            "  librsvg2-common libxdot4\n",
            "Suggested packages:\n",
            "  gvfs\n",
            "The following NEW packages will be installed:\n",
            "  libgail-common libgail18 libgraphviz-dev libgtk2.0-0 libgtk2.0-bin libgtk2.0-common\n",
            "  libgvc6-plugins-gtk librsvg2-common libxdot4\n",
            "0 upgraded, 9 newly installed, 0 to remove and 18 not upgraded.\n",
            "Need to get 2,434 kB of archives.\n",
            "After this operation, 7,681 kB of additional disk space will be used.\n",
            "Get:1 http://archive.ubuntu.com/ubuntu jammy-updates/main amd64 libgtk2.0-common all 2.24.33-2ubuntu2.1 [125 kB]\n",
            "Get:2 http://archive.ubuntu.com/ubuntu jammy-updates/main amd64 libgtk2.0-0 amd64 2.24.33-2ubuntu2.1 [2,038 kB]\n",
            "Get:3 http://archive.ubuntu.com/ubuntu jammy-updates/main amd64 libgail18 amd64 2.24.33-2ubuntu2.1 [15.9 kB]\n",
            "Get:4 http://archive.ubuntu.com/ubuntu jammy-updates/main amd64 libgail-common amd64 2.24.33-2ubuntu2.1 [132 kB]\n",
            "Get:5 http://archive.ubuntu.com/ubuntu jammy-updates/universe amd64 libxdot4 amd64 2.42.2-6ubuntu0.1 [16.4 kB]\n",
            "Get:6 http://archive.ubuntu.com/ubuntu jammy-updates/universe amd64 libgvc6-plugins-gtk amd64 2.42.2-6ubuntu0.1 [22.5 kB]\n",
            "Get:7 http://archive.ubuntu.com/ubuntu jammy-updates/universe amd64 libgraphviz-dev amd64 2.42.2-6ubuntu0.1 [58.5 kB]\n",
            "Get:8 http://archive.ubuntu.com/ubuntu jammy-updates/main amd64 libgtk2.0-bin amd64 2.24.33-2ubuntu2.1 [7,936 B]\n",
            "Get:9 http://archive.ubuntu.com/ubuntu jammy-updates/main amd64 librsvg2-common amd64 2.52.5+dfsg-3ubuntu0.2 [17.7 kB]\n",
            "Fetched 2,434 kB in 2s (1,579 kB/s)\n",
            "Selecting previously unselected package libgtk2.0-common.\n",
            "(Reading database ... 124950 files and directories currently installed.)\n",
            "Preparing to unpack .../0-libgtk2.0-common_2.24.33-2ubuntu2.1_all.deb ...\n",
            "Unpacking libgtk2.0-common (2.24.33-2ubuntu2.1) ...\n",
            "Selecting previously unselected package libgtk2.0-0:amd64.\n",
            "Preparing to unpack .../1-libgtk2.0-0_2.24.33-2ubuntu2.1_amd64.deb ...\n",
            "Unpacking libgtk2.0-0:amd64 (2.24.33-2ubuntu2.1) ...\n",
            "Selecting previously unselected package libgail18:amd64.\n",
            "Preparing to unpack .../2-libgail18_2.24.33-2ubuntu2.1_amd64.deb ...\n",
            "Unpacking libgail18:amd64 (2.24.33-2ubuntu2.1) ...\n",
            "Selecting previously unselected package libgail-common:amd64.\n",
            "Preparing to unpack .../3-libgail-common_2.24.33-2ubuntu2.1_amd64.deb ...\n",
            "Unpacking libgail-common:amd64 (2.24.33-2ubuntu2.1) ...\n",
            "Selecting previously unselected package libxdot4:amd64.\n",
            "Preparing to unpack .../4-libxdot4_2.42.2-6ubuntu0.1_amd64.deb ...\n",
            "Unpacking libxdot4:amd64 (2.42.2-6ubuntu0.1) ...\n",
            "Selecting previously unselected package libgvc6-plugins-gtk.\n",
            "Preparing to unpack .../5-libgvc6-plugins-gtk_2.42.2-6ubuntu0.1_amd64.deb ...\n",
            "Unpacking libgvc6-plugins-gtk (2.42.2-6ubuntu0.1) ...\n",
            "Selecting previously unselected package libgraphviz-dev:amd64.\n",
            "Preparing to unpack .../6-libgraphviz-dev_2.42.2-6ubuntu0.1_amd64.deb ...\n",
            "Unpacking libgraphviz-dev:amd64 (2.42.2-6ubuntu0.1) ...\n",
            "Selecting previously unselected package libgtk2.0-bin.\n",
            "Preparing to unpack .../7-libgtk2.0-bin_2.24.33-2ubuntu2.1_amd64.deb ...\n",
            "Unpacking libgtk2.0-bin (2.24.33-2ubuntu2.1) ...\n",
            "Selecting previously unselected package librsvg2-common:amd64.\n",
            "Preparing to unpack .../8-librsvg2-common_2.52.5+dfsg-3ubuntu0.2_amd64.deb ...\n",
            "Unpacking librsvg2-common:amd64 (2.52.5+dfsg-3ubuntu0.2) ...\n",
            "Setting up libxdot4:amd64 (2.42.2-6ubuntu0.1) ...\n",
            "Setting up librsvg2-common:amd64 (2.52.5+dfsg-3ubuntu0.2) ...\n",
            "Setting up libgtk2.0-common (2.24.33-2ubuntu2.1) ...\n",
            "Setting up libgtk2.0-0:amd64 (2.24.33-2ubuntu2.1) ...\n",
            "Setting up libgvc6-plugins-gtk (2.42.2-6ubuntu0.1) ...\n",
            "Setting up libgail18:amd64 (2.24.33-2ubuntu2.1) ...\n",
            "Setting up libgtk2.0-bin (2.24.33-2ubuntu2.1) ...\n",
            "Setting up libgail-common:amd64 (2.24.33-2ubuntu2.1) ...\n",
            "Setting up libgraphviz-dev:amd64 (2.42.2-6ubuntu0.1) ...\n",
            "Processing triggers for libc-bin (2.35-0ubuntu3.8) ...\n",
            "/sbin/ldconfig.real: /usr/local/lib/libur_adapter_level_zero.so.0 is not a symbolic link\n",
            "\n",
            "/sbin/ldconfig.real: /usr/local/lib/libtcm_debug.so.1 is not a symbolic link\n",
            "\n",
            "/sbin/ldconfig.real: /usr/local/lib/libumf.so.0 is not a symbolic link\n",
            "\n",
            "/sbin/ldconfig.real: /usr/local/lib/libtbbbind_2_0.so.3 is not a symbolic link\n",
            "\n",
            "/sbin/ldconfig.real: /usr/local/lib/libur_loader.so.0 is not a symbolic link\n",
            "\n",
            "/sbin/ldconfig.real: /usr/local/lib/libhwloc.so.15 is not a symbolic link\n",
            "\n",
            "/sbin/ldconfig.real: /usr/local/lib/libtbbbind.so.3 is not a symbolic link\n",
            "\n",
            "/sbin/ldconfig.real: /usr/local/lib/libtbbmalloc.so.2 is not a symbolic link\n",
            "\n",
            "/sbin/ldconfig.real: /usr/local/lib/libtbbbind_2_5.so.3 is not a symbolic link\n",
            "\n",
            "/sbin/ldconfig.real: /usr/local/lib/libtbb.so.12 is not a symbolic link\n",
            "\n",
            "/sbin/ldconfig.real: /usr/local/lib/libur_adapter_opencl.so.0 is not a symbolic link\n",
            "\n",
            "/sbin/ldconfig.real: /usr/local/lib/libtbbmalloc_proxy.so.2 is not a symbolic link\n",
            "\n",
            "/sbin/ldconfig.real: /usr/local/lib/libtcm.so.1 is not a symbolic link\n",
            "\n",
            "Processing triggers for man-db (2.10.2-1) ...\n",
            "Processing triggers for libgdk-pixbuf-2.0-0:amd64 (2.42.8+dfsg-1ubuntu0.3) ...\n",
            "Collecting pygraphviz\n",
            "  Downloading pygraphviz-1.14.tar.gz (106 kB)\n",
            "\u001b[2K     \u001b[90m━━━━━━━━━━━━━━━━━━━━━━━━━━━━━━━━━━━━━━━━\u001b[0m \u001b[32m106.0/106.0 kB\u001b[0m \u001b[31m4.8 MB/s\u001b[0m eta \u001b[36m0:00:00\u001b[0m\n",
            "\u001b[?25h  Installing build dependencies ... \u001b[?25l\u001b[?25hdone\n",
            "  Getting requirements to build wheel ... \u001b[?25l\u001b[?25hdone\n",
            "  Preparing metadata (pyproject.toml) ... \u001b[?25l\u001b[?25hdone\n",
            "Building wheels for collected packages: pygraphviz\n",
            "  Building wheel for pygraphviz (pyproject.toml) ... \u001b[?25l\u001b[?25hdone\n",
            "  Created wheel for pygraphviz: filename=pygraphviz-1.14-cp311-cp311-linux_x86_64.whl size=169683 sha256=2fdddce6a39d83a41147c258cabb89e4908d1baffa6a31a9206e53a926ce65d2\n",
            "  Stored in directory: /root/.cache/pip/wheels/9c/5f/df/6fffd2a4353f26dbb0e3672a1baf070c124a1d74a5f9318279\n",
            "Successfully built pygraphviz\n",
            "Installing collected packages: pygraphviz\n",
            "Successfully installed pygraphviz-1.14\n"
          ]
        }
      ]
    },
    {
      "cell_type": "code",
      "source": [
        "\n",
        "import instructor\n",
        "\n",
        "from openai import OpenAI\n",
        "from pydantic import BaseModel, Field\n",
        "from typing import List\n",
        "\n",
        "llm = OpenAI(\n",
        "        base_url=f\"http://{host}/v1\",\n",
        "        api_key=\"ollama\",  # required, but unused\n",
        "    )\n",
        "\n",
        "client = instructor.from_openai(\n",
        "    llm,\n",
        "    mode=instructor.Mode.JSON,\n",
        ")"
      ],
      "metadata": {
        "id": "f_vIWNDV7rbi"
      },
      "execution_count": 3,
      "outputs": []
    },
    {
      "cell_type": "markdown",
      "source": [
        "## create a general knowledge graph"
      ],
      "metadata": {
        "id": "SX9F7oSNbvfU"
      }
    },
    {
      "cell_type": "code",
      "source": [
        "from pydantic import BaseModel, Field\n",
        "from typing import Optional\n",
        "from graphviz import Digraph\n",
        "# from IPython.display import display\n",
        "\n",
        "class Node(BaseModel):\n",
        "    id: int\n",
        "    label: str\n",
        "    color: str = \"black\"\n",
        "    def __hash__(self) -> int:\n",
        "        return hash((id, self.label))\n",
        "\n",
        "class Edge(BaseModel):\n",
        "    source: int\n",
        "    target: int\n",
        "    label: str\n",
        "    color: str = \"black\"\n",
        "    def __hash__(self) -> int:\n",
        "        return hash((self.source, self.target, self.label))\n",
        "\n",
        "\n",
        "class KnowledgeGraph(BaseModel):\n",
        "    nodes: Optional[list[Node]] = Field(..., default_factory=list)  # A list of nodes in the knowledge graph.\n",
        "    edges: Optional[list[Edge]] = Field(..., default_factory=list)  # A list of edges in the knowledge graph.\n",
        "\n",
        "    def update(self, other: \"KnowledgeGraph\") -> \"KnowledgeGraph\":\n",
        "        # This method updates the current graph with the other graph, deduplicating nodes and edges.\n",
        "        return KnowledgeGraph(\n",
        "            nodes=list(set(self.nodes + other.nodes)),  # Combine and deduplicate nodes\n",
        "            edges=list(set(self.edges + other.edges)),  # Combine and deduplicate edges\n",
        "        )\n",
        "\n",
        "    def visualize_knowledge_graph(self):\n",
        "        dot = Digraph(comment=\"Knowledge Graph\")\n",
        "\n",
        "        for node in self.nodes:\n",
        "            dot.node(name=str(node.id), label=node.label, color=node.color)\n",
        "        for edge in self.edges:\n",
        "            dot.edge(str(edge.source), str(edge.target), label=edge.label, color=edge.color)\n",
        "        return dot\n",
        "        # return display(dot)"
      ],
      "metadata": {
        "id": "U_WS8u_x6WCj"
      },
      "execution_count": null,
      "outputs": []
    },
    {
      "cell_type": "code",
      "source": [
        "def generate_simple_graph(input) -> KnowledgeGraph:\n",
        "    return client.chat.completions.create(\n",
        "        model=modelid,\n",
        "        messages=[\n",
        "            {\n",
        "                \"role\": \"user\",\n",
        "                \"content\": f\"Help me understand the following by describing it as small knowledge graph: {input}\",\n",
        "            }\n",
        "        ],\n",
        "        response_model=KnowledgeGraph,\n",
        "    )\n",
        "\n",
        "graph=generate_simple_graph(\"Explain quantum mechanics\").visualize_knowledge_graph()\n",
        "graph"
      ],
      "metadata": {
        "colab": {
          "base_uri": "https://localhost:8080/",
          "height": 312
        },
        "id": "OCUzUYm87CG9",
        "outputId": "d0baaeaa-b893-4ab1-8516-6aed2cd8db0d"
      },
      "execution_count": null,
      "outputs": [
        {
          "output_type": "execute_result",
          "data": {
            "image/svg+xml": "<?xml version=\"1.0\" encoding=\"UTF-8\" standalone=\"no\"?>\n<!DOCTYPE svg PUBLIC \"-//W3C//DTD SVG 1.1//EN\"\n \"http://www.w3.org/Graphics/SVG/1.1/DTD/svg11.dtd\">\n<!-- Generated by graphviz version 2.43.0 (0)\n -->\n<!-- Title: %3 Pages: 1 -->\n<svg width=\"179pt\" height=\"218pt\"\n viewBox=\"0.00 0.00 179.44 218.00\" xmlns=\"http://www.w3.org/2000/svg\" xmlns:xlink=\"http://www.w3.org/1999/xlink\">\n<g id=\"graph0\" class=\"graph\" transform=\"scale(1 1) rotate(0) translate(4 214)\">\n<title>%3</title>\n<polygon fill=\"white\" stroke=\"transparent\" points=\"-4,4 -4,-214 175.44,-214 175.44,4 -4,4\"/>\n<!-- 0 -->\n<g id=\"node1\" class=\"node\">\n<title>0</title>\n<ellipse fill=\"none\" stroke=\"blue\" cx=\"73.44\" cy=\"-192\" rx=\"73.39\" ry=\"18\"/>\n<text text-anchor=\"middle\" x=\"73.44\" y=\"-188.3\" font-family=\"Times,serif\" font-size=\"14.00\">Quantum Physics</text>\n</g>\n<!-- 1 -->\n<g id=\"node2\" class=\"node\">\n<title>1</title>\n<ellipse fill=\"none\" stroke=\"green\" cx=\"73.44\" cy=\"-105\" rx=\"37.09\" ry=\"18\"/>\n<text text-anchor=\"middle\" x=\"73.44\" y=\"-101.3\" font-family=\"Times,serif\" font-size=\"14.00\">History</text>\n</g>\n<!-- 0&#45;&gt;1 -->\n<g id=\"edge1\" class=\"edge\">\n<title>0&#45;&gt;1</title>\n<path fill=\"none\" stroke=\"black\" d=\"M73.44,-173.8C73.44,-162.16 73.44,-146.55 73.44,-133.24\"/>\n<polygon fill=\"black\" stroke=\"black\" points=\"76.94,-133.18 73.44,-123.18 69.94,-133.18 76.94,-133.18\"/>\n<text text-anchor=\"middle\" x=\"122.44\" y=\"-144.8\" font-family=\"Times,serif\" font-size=\"14.00\">Discusses History</text>\n</g>\n<!-- 2 -->\n<g id=\"node3\" class=\"node\">\n<title>2</title>\n<ellipse fill=\"none\" stroke=\"red\" cx=\"73.44\" cy=\"-18\" rx=\"36.29\" ry=\"18\"/>\n<text text-anchor=\"middle\" x=\"73.44\" y=\"-14.3\" font-family=\"Times,serif\" font-size=\"14.00\">Theory</text>\n</g>\n<!-- 1&#45;&gt;2 -->\n<g id=\"edge2\" class=\"edge\">\n<title>1&#45;&gt;2</title>\n<path fill=\"none\" stroke=\"black\" d=\"M73.44,-86.8C73.44,-75.16 73.44,-59.55 73.44,-46.24\"/>\n<polygon fill=\"black\" stroke=\"black\" points=\"76.94,-46.18 73.44,-36.18 69.94,-46.18 76.94,-46.18\"/>\n<text text-anchor=\"middle\" x=\"91.44\" y=\"-57.8\" font-family=\"Times,serif\" font-size=\"14.00\">Led to</text>\n</g>\n</g>\n</svg>\n",
            "text/plain": [
              "<graphviz.graphs.Digraph at 0x782d486245d0>"
            ]
          },
          "metadata": {},
          "execution_count": 17
        }
      ]
    },
    {
      "cell_type": "code",
      "source": [
        "def generate_graph(input: list[str]) -> KnowledgeGraph:\n",
        "    # Initialize an empty KnowledgeGraph\n",
        "    cur_state = KnowledgeGraph()\n",
        "\n",
        "    # Iterate over the input list\n",
        "    for i, inp in enumerate(input):\n",
        "        new_updates = client.chat.completions.create(\n",
        "            model=modelid,\n",
        "            messages=[\n",
        "                {\n",
        "                    \"role\": \"system\",\n",
        "                    \"content\": \"\"\"You are an iterative knowledge graph builder.\n",
        "                    You are given the current state of the graph, and you must append the nodes and edges\n",
        "                    to it Do not procide any duplcates and try to reuse nodes as much as possible.\"\"\",\n",
        "                },\n",
        "                {\n",
        "                    \"role\": \"user\",\n",
        "                    \"content\": f\"\"\"Extract any new nodes and edges from the following:\n",
        "                    # Part {i}/{len(input)} of the input:\n",
        "\n",
        "                    {inp}\"\"\",\n",
        "                },\n",
        "                {\n",
        "                    \"role\": \"user\",\n",
        "                    \"content\": f\"\"\"Here is the current state of the graph:\n",
        "                    {cur_state.model_dump_json(indent=2)}\"\"\",\n",
        "                },\n",
        "            ],\n",
        "            response_model=KnowledgeGraph,\n",
        "        )  # type: ignore\n",
        "\n",
        "        # Update the current state with the new updates\n",
        "        cur_state = cur_state.update(new_updates)\n",
        "\n",
        "        # Draw the current state of the graph\n",
        "        cur_state.visualize_knowledge_graph()\n",
        "\n",
        "    # Return the final state of the KnowledgeGraph\n",
        "    return cur_state\n",
        "\n",
        "text_chunks = [\n",
        "    \"Jason knows a lot about quantum mechanics. He is a physicist. He is a professor\",\n",
        "    \"Professors are smart.\",\n",
        "    \"Sarah knows Jason and is a student of his.\",\n",
        "    \"Sarah is a student at the University of Toronto. and UofT is in Canada.\",\n",
        "]\n",
        "\n",
        "graph: KnowledgeGraph = generate_graph(text_chunks)\n",
        "\n",
        "graph.visualize_knowledge_graph()"
      ],
      "metadata": {
        "id": "r7g_TJgMGN38"
      },
      "execution_count": null,
      "outputs": []
    },
    {
      "cell_type": "markdown",
      "source": [
        "# Extract Persons and Relationship from Story"
      ],
      "metadata": {
        "id": "mWTF_vQ6UMRq"
      }
    },
    {
      "cell_type": "code",
      "source": [
        "get_ipython().system_raw(f\"ollama pull {modelid}\")"
      ],
      "metadata": {
        "id": "61m2dfadewAb"
      },
      "execution_count": 9,
      "outputs": []
    },
    {
      "cell_type": "markdown",
      "source": [
        "### create synthetic data for testing"
      ],
      "metadata": {
        "id": "auRJ0K-BgNEI"
      }
    },
    {
      "cell_type": "code",
      "source": [
        "system = \"Your are a horror thriller novel author who likes to write in the style of Steven King.\"\n",
        "prompt = \"\"\"\n",
        "Write a short and thrilling horror story about a 6 piece family that spend their holiday in a cabin. The story should be between 1000 and 2000 words.\n",
        "\n",
        "The family is a father, a mother, 2 children, aunt , uncle and grandparents.\n",
        "At least one of the characters is a ghost.\n",
        "Mention all the characters and their relationship in the story.\n",
        "\"\"\"\n",
        "story_response=llm.chat.completions.create(model=modelid, messages = [{\"role\":\"system\", \"content\":system},{\"role\":\"user\", \"content\":prompt}])\n",
        "story = story_response.choices[0].message.content\n",
        "story"
      ],
      "metadata": {
        "colab": {
          "base_uri": "https://localhost:8080/",
          "height": 127
        },
        "id": "9BRa02nAU7FB",
        "outputId": "9c84cbb4-9d39-4e58-973a-99dc1f7971b0"
      },
      "execution_count": 51,
      "outputs": [
        {
          "output_type": "execute_result",
          "data": {
            "text/plain": [
              "'**The Isolation of Raven\\'s Peak**\\n\\nIt was supposed to be a relaxing holiday for the Thompson family. A week-long stay at the secluded cabin on Raven\\'s Peak, nestled deep within the heart of the Appalachian mountains. The family had been looking forward to it all year - a chance to reconnect and unplug from the stresses of daily life.\\n\\nJohn, the patriarch, a gruff but lovable man in his late 40s, had brought his wife, Karen, a sweet and nurturing soul, along with their two children, Emily (12) and James (9). John\\'s sister, Rachel, and her husband, Michael, were also part of the family gathering. They were all joined by John and Karen\\'s parents, Henry and Margaret.\\n\\nAs they arrived at the cabin, the group couldn\\'t help but feel a sense of excitement and rejuvenation wash over them. The crisp mountain air, the scent of pine trees, and the sound of the gentle brook nearby set a soothing tone for their stay.\\n\\nHowever, as night began to fall on the first evening, an eerie atmosphere started to take hold. Rachel, who had been acting peculiar all day, mentioned feeling a chill despite the warmth of the cabin. \"I don\\'t feel so good,\" she said, snuggling up by the fire with Michael.\\n\\nAs they settled in for the night, John and Karen retired to their bedroom on the opposite side of the cabin from their children and the rest of the family. Margaret, ever vigilant, watched over Emily and James, who were engrossed in their evening screen time.\\n\\nThe silence was only broken by the occasional sound of an owl hooting outside. That was until Michael let out a blood-curdling scream.\\n\\n\"What\\'s wrong?\" John asked, springing out of bed to rush downstairs.\\n\\n\"It was my mom,\" Rachel whispered tremulously, her eyes wide with fear. \"I saw her standing in front of the kitchen counter.\"\\n\\nHenry and Margaret shared a worried glance. \"It must be just your imagination playing tricks on you, dear,\" Karen reassured, but there was an underlying air of concern.\\n\\nAs they began to investigate, strange noises started echoing through the cabin - creaks, groans, and faint whispers in the dead of night. Emily, already spooked from waking up to a bad dream the previous evening, clung tightly to her mother.\\n\\n\"I saw her again,\" Rachel whispered during breakfast the next morning. \"Standing behind me in the kitchen, staring at me with this...this hate.\"\\n\\nIt was then that Margaret revealed a long-held secret: their mother had passed away under mysterious circumstances 20 years prior while on vacation in these very mountains. Some claimed she\\'d been murdered by a family member; others thought it was a tragic accident involving an unseen force. Whatever the truth, her spirit was said to roam the Raven\\'s Peak cabin.\\n\\nWith every passing day, the occurrences grew more intense and inexplicable. Doors creaked open on their own; items moved from their shelves onto the floor as if pushed by ghostly fingers. Some family members began to suspect Rachel of playing a prank gone wrong or worse - deliberately summoning her mother\\'s spirit for attention.\\n\\nOne rain-soaked night, after a particularly grueling thunderstorm, Henry and Margaret settled in for some quiet time while Rachel and Michael went off to bed early. As the wind howled outside, John joined his brother-in-law and parents in the living room, sharing tales of their childhood adventures.\\n\\nIt was then that Emily approached them, shivering despite her warm coat. \"Don\\'t go outside,\" she whispered urgently. \"Nana is really here now.\"\\n\\nJohn exchanged a worried glance with Karen, but before they could respond, the back door creaked open by itself and Margaret vanished into the darkness.\\n\\nA torrent of screams erupted from within the cabin as family members scrambled to find Henry\\'s missing wife. In the chaos that followed, Michael lunged towards the brook in pursuit of their disappearing grandmother, never to return.\\n\\nWhen morning broke on Raven\\'s Peak, only two remained - John, now beside himself with grief and dread, and his children. Emily, shivering uncontrollably, clung tightly to James as they stood outside the cabin, staring up at the trees swaying ominously in the misty morning air.\\n\\n\"I saw Nana walking towards us,\" Emily whispered, eyes wide with a mix of fear and wonder.\\n\\nJames\\'s gaze followed hers. \"Dad...I think she\\'s coming for us...\"\\n\\nTheir words were cut short by a chilling whisper carried on the wind: \"You should have stayed home...\"\\n\\nIn that moment, John understood. His wife Karen would never leave their bed; Rachel was consumed by her own guilt-ridden past; Henry and Margaret had brought tragedy with them to this remote paradise.\\n\\nRaven\\'s Peak no longer held any secrets for James and Emily. The darkness lurking beneath its surface now threatened everything the family thought it stood for: love, unity, and the fleeting illusion of safety. As they watched in frozen terror, Henry\\'s wife emerged from the darkness - a ghost of vengeance from beyond the grave - forever bound to the cabin on Raven\\'s Peak.'"
            ],
            "application/vnd.google.colaboratory.intrinsic+json": {
              "type": "string"
            }
          },
          "metadata": {},
          "execution_count": 51
        }
      ]
    },
    {
      "cell_type": "markdown",
      "source": [
        "### Our Knowledge Graph Model"
      ],
      "metadata": {
        "id": "CyFhmdS7gUmN"
      }
    },
    {
      "cell_type": "code",
      "source": [
        "from pydantic import BaseModel, Field\n",
        "from typing import Optional\n",
        "\n",
        "class Character(BaseModel):\n",
        "    id: str\n",
        "    name: str = \"unnamed\"\n",
        "    description: str = \"no description\"\n",
        "    def __hash__(self) -> int:\n",
        "        return hash((id, self.name))\n",
        "\n",
        "class Relationship(BaseModel):\n",
        "    id: str\n",
        "    source: str\n",
        "    target: str\n",
        "    label: str = \"unknown relation\"\n",
        "    description: str = \"no description\"\n",
        "    def __hash__(self) -> int:\n",
        "        return hash((self.source, self.target, self.label))\n",
        "\n",
        "class KnowledgeGraph(BaseModel):\n",
        "    nodes: Optional[list[Character]] = Field(..., default_factory=list)\n",
        "    edges: Optional [ list[Relationship] ] = Field(..., default_factory=list)\n"
      ],
      "metadata": {
        "id": "OKguoRsDUYvr"
      },
      "execution_count": 62,
      "outputs": []
    },
    {
      "cell_type": "code",
      "source": [
        "def generate_relationship_graph(input) -> KnowledgeGraph:\n",
        "    return client.chat.completions.create(\n",
        "        model=modelid,\n",
        "        messages=[\n",
        "            {\"role\": \"system\", \"content\": \"You are an knowledge graph builder.\"},\n",
        "            {\n",
        "                \"role\": \"user\",\n",
        "                \"content\": f\"Extract the characters and their relationships from the following story as a knowledge graph. examples for relationships are Dad,Mum, Son, Daughter, Uncle, Aunt. Story: {input}\",\n",
        "            }\n",
        "        ],\n",
        "        response_model=KnowledgeGraph,\n",
        "    )\n",
        "\n",
        "\n",
        "relationships=generate_relationship_graph(story)\n",
        "relationships\n"
      ],
      "metadata": {
        "colab": {
          "base_uri": "https://localhost:8080/"
        },
        "id": "Xf8E8gx8gn5d",
        "outputId": "1498f30f-6606-4832-88f6-25b70012f955"
      },
      "execution_count": 63,
      "outputs": [
        {
          "output_type": "execute_result",
          "data": {
            "text/plain": [
              "KnowledgeGraph(nodes=[], edges=[])"
            ]
          },
          "metadata": {},
          "execution_count": 63
        }
      ]
    },
    {
      "cell_type": "code",
      "source": [
        "from graphviz import Digraph\n",
        "\n",
        "def visualize_relationship_graph(data: KnowledgeGraph):\n",
        "        dot = Digraph(comment=\"Relationships\")\n",
        "\n",
        "        for node in data.nodes:\n",
        "            dot.node(name=str(node.id), label=node.name, color=\"black\")\n",
        "        for edge in data.edges:\n",
        "            dot.edge(str(edge.source), str(edge.target), label=edge.label, color=\"black\")\n",
        "        return dot\n",
        "\n",
        "graph=visualize_relationship_graph(relationships)\n",
        "graph"
      ],
      "metadata": {
        "colab": {
          "base_uri": "https://localhost:8080/",
          "height": 332
        },
        "id": "v32QqlWAl50Y",
        "outputId": "558be67a-dd17-4439-e1f6-bc358674ba78"
      },
      "execution_count": 58,
      "outputs": [
        {
          "output_type": "execute_result",
          "data": {
            "image/svg+xml": "<?xml version=\"1.0\" encoding=\"UTF-8\" standalone=\"no\"?>\n<!DOCTYPE svg PUBLIC \"-//W3C//DTD SVG 1.1//EN\"\n \"http://www.w3.org/Graphics/SVG/1.1/DTD/svg11.dtd\">\n<!-- Generated by graphviz version 2.43.0 (0)\n -->\n<!-- Title: %3 Pages: 1 -->\n<svg width=\"1229pt\" height=\"218pt\"\n viewBox=\"0.00 0.00 1228.54 218.00\" xmlns=\"http://www.w3.org/2000/svg\" xmlns:xlink=\"http://www.w3.org/1999/xlink\">\n<g id=\"graph0\" class=\"graph\" transform=\"scale(1 1) rotate(0) translate(4 214)\">\n<title>%3</title>\n<polygon fill=\"white\" stroke=\"transparent\" points=\"-4,4 -4,-214 1224.54,-214 1224.54,4 -4,4\"/>\n<!-- John&#45;Thompson -->\n<g id=\"node1\" class=\"node\">\n<title>John&#45;Thompson</title>\n<ellipse fill=\"none\" stroke=\"black\" cx=\"67.59\" cy=\"-192\" rx=\"67.69\" ry=\"18\"/>\n<text text-anchor=\"middle\" x=\"67.59\" y=\"-188.3\" font-family=\"Times,serif\" font-size=\"14.00\">John Thompson</text>\n</g>\n<!-- Karen&#45;Thompson -->\n<g id=\"node2\" class=\"node\">\n<title>Karen&#45;Thompson</title>\n<ellipse fill=\"none\" stroke=\"black\" cx=\"325.59\" cy=\"-18\" rx=\"72.29\" ry=\"18\"/>\n<text text-anchor=\"middle\" x=\"325.59\" y=\"-14.3\" font-family=\"Times,serif\" font-size=\"14.00\">Karen Thompson</text>\n</g>\n<!-- Emily&#45;Thompson -->\n<g id=\"node3\" class=\"node\">\n<title>Emily&#45;Thompson</title>\n<ellipse fill=\"none\" stroke=\"black\" cx=\"623.59\" cy=\"-192\" rx=\"72.59\" ry=\"18\"/>\n<text text-anchor=\"middle\" x=\"623.59\" y=\"-188.3\" font-family=\"Times,serif\" font-size=\"14.00\">Emily Thompson</text>\n</g>\n<!-- James&#45;Thompson -->\n<g id=\"node4\" class=\"node\">\n<title>James&#45;Thompson</title>\n<ellipse fill=\"none\" stroke=\"black\" cx=\"225.59\" cy=\"-192\" rx=\"72.59\" ry=\"18\"/>\n<text text-anchor=\"middle\" x=\"225.59\" y=\"-188.3\" font-family=\"Times,serif\" font-size=\"14.00\">James Thompson</text>\n</g>\n<!-- John&#45;Thompson Family -->\n<g id=\"node9\" class=\"node\">\n<title>John&#45;Thompson Family</title>\n<ellipse fill=\"none\" stroke=\"black\" cx=\"325.59\" cy=\"-105\" rx=\"96.38\" ry=\"18\"/>\n<text text-anchor=\"middle\" x=\"325.59\" y=\"-101.3\" font-family=\"Times,serif\" font-size=\"14.00\">John&#45;Thompson Family</text>\n</g>\n<!-- James&#45;Thompson&#45;&gt;John&#45;Thompson Family -->\n<g id=\"edge4\" class=\"edge\">\n<title>James&#45;Thompson&#45;&gt;John&#45;Thompson Family</title>\n<path fill=\"none\" stroke=\"black\" d=\"M220.93,-173.75C219.17,-163.35 218.96,-150.35 225.59,-141 231.24,-133.04 238.85,-126.87 247.35,-122.1\"/>\n<polygon fill=\"black\" stroke=\"black\" points=\"249.06,-125.17 256.5,-117.62 245.98,-118.88 249.06,-125.17\"/>\n<text text-anchor=\"middle\" x=\"304.09\" y=\"-144.8\" font-family=\"Times,serif\" font-size=\"14.00\">Fear of Grandmother&#39;s Spirit</text>\n</g>\n<!-- Rachel&#45;Thompson -->\n<g id=\"node5\" class=\"node\">\n<title>Rachel&#45;Thompson</title>\n<ellipse fill=\"none\" stroke=\"black\" cx=\"789.59\" cy=\"-192\" rx=\"75.29\" ry=\"18\"/>\n<text text-anchor=\"middle\" x=\"789.59\" y=\"-188.3\" font-family=\"Times,serif\" font-size=\"14.00\">Rachel Thompson</text>\n</g>\n<!-- Margaret&#45;Anderson -->\n<g id=\"node8\" class=\"node\">\n<title>Margaret&#45;Anderson</title>\n<ellipse fill=\"none\" stroke=\"black\" cx=\"884.59\" cy=\"-105\" rx=\"79.09\" ry=\"18\"/>\n<text text-anchor=\"middle\" x=\"884.59\" y=\"-101.3\" font-family=\"Times,serif\" font-size=\"14.00\">Margaret Anderson</text>\n</g>\n<!-- Rachel&#45;Thompson&#45;&gt;Margaret&#45;Anderson -->\n<g id=\"edge2\" class=\"edge\">\n<title>Rachel&#45;Thompson&#45;&gt;Margaret&#45;Anderson</title>\n<path fill=\"none\" stroke=\"black\" d=\"M785.4,-173.75C783.9,-163.35 783.96,-150.35 790.59,-141 796.7,-132.39 805.19,-125.9 814.59,-121\"/>\n<polygon fill=\"black\" stroke=\"black\" points=\"816.19,-124.11 823.83,-116.77 813.28,-117.75 816.19,-124.11\"/>\n<text text-anchor=\"middle\" x=\"874.59\" y=\"-144.8\" font-family=\"Times,serif\" font-size=\"14.00\">Mother&#45;Daughter Relationship</text>\n</g>\n<!-- Michael&#45;Thompson -->\n<g id=\"node6\" class=\"node\">\n<title>Michael&#45;Thompson</title>\n<ellipse fill=\"none\" stroke=\"black\" cx=\"1140.59\" cy=\"-192\" rx=\"79.89\" ry=\"18\"/>\n<text text-anchor=\"middle\" x=\"1140.59\" y=\"-188.3\" font-family=\"Times,serif\" font-size=\"14.00\">Michael Thompson</text>\n</g>\n<!-- Henry&#45;McNeil -->\n<g id=\"node7\" class=\"node\">\n<title>Henry&#45;McNeil</title>\n<ellipse fill=\"none\" stroke=\"black\" cx=\"980.59\" cy=\"-192\" rx=\"62.29\" ry=\"18\"/>\n<text text-anchor=\"middle\" x=\"980.59\" y=\"-188.3\" font-family=\"Times,serif\" font-size=\"14.00\">Henry McNeil</text>\n</g>\n<!-- Henry&#45;McNeil&#45;&gt;Margaret&#45;Anderson -->\n<g id=\"edge1\" class=\"edge\">\n<title>Henry&#45;McNeil&#45;&gt;Margaret&#45;Anderson</title>\n<path fill=\"none\" stroke=\"black\" d=\"M976.41,-173.96C973.07,-163.38 967.46,-150.11 958.59,-141 952.4,-134.64 944.82,-129.29 936.9,-124.85\"/>\n<polygon fill=\"black\" stroke=\"black\" points=\"938.37,-121.67 927.88,-120.22 935.17,-127.9 938.37,-121.67\"/>\n<text text-anchor=\"middle\" x=\"1038.09\" y=\"-144.8\" font-family=\"Times,serif\" font-size=\"14.00\">Mother&#45;Son Relationship</text>\n</g>\n<!-- John&#45;Thompson Family&#45;&gt;Karen&#45;Thompson -->\n<g id=\"edge3\" class=\"edge\">\n<title>John&#45;Thompson Family&#45;&gt;Karen&#45;Thompson</title>\n<path fill=\"none\" stroke=\"black\" d=\"M325.59,-86.8C325.59,-75.16 325.59,-59.55 325.59,-46.24\"/>\n<polygon fill=\"black\" stroke=\"black\" points=\"329.09,-46.18 325.59,-36.18 322.09,-46.18 329.09,-46.18\"/>\n<text text-anchor=\"middle\" x=\"366.59\" y=\"-57.8\" font-family=\"Times,serif\" font-size=\"14.00\">Love for Mom</text>\n</g>\n<!-- Margaret&#45;Anderson (ghost) -->\n<g id=\"node10\" class=\"node\">\n<title>Margaret&#45;Anderson (ghost)</title>\n<ellipse fill=\"none\" stroke=\"black\" cx=\"424.59\" cy=\"-192\" rx=\"107.78\" ry=\"18\"/>\n<text text-anchor=\"middle\" x=\"424.59\" y=\"-188.3\" font-family=\"Times,serif\" font-size=\"14.00\">Margaret&#45;Anderson (ghost)</text>\n</g>\n<!-- Margaret&#45;Anderson (ghost)&#45;&gt;John&#45;Thompson Family -->\n<g id=\"edge5\" class=\"edge\">\n<title>Margaret&#45;Anderson (ghost)&#45;&gt;John&#45;Thompson Family</title>\n<path fill=\"none\" stroke=\"black\" d=\"M414.09,-173.86C407.17,-163.5 397.41,-150.5 386.59,-141 380.92,-136.01 374.42,-131.39 367.84,-127.25\"/>\n<polygon fill=\"black\" stroke=\"black\" points=\"369.25,-124.02 358.86,-121.91 365.67,-130.04 369.25,-124.02\"/>\n<text text-anchor=\"middle\" x=\"454.09\" y=\"-144.8\" font-family=\"Times,serif\" font-size=\"14.00\">Ghostly Vengeance</text>\n</g>\n</g>\n</svg>\n",
            "text/plain": [
              "<graphviz.graphs.Digraph at 0x7d76a6d9fa50>"
            ]
          },
          "metadata": {},
          "execution_count": 58
        }
      ]
    }
  ]
}