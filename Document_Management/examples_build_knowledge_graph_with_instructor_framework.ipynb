{
  "nbformat": 4,
  "nbformat_minor": 0,
  "metadata": {
    "colab": {
      "provenance": [],
      "gpuType": "T4",
      "authorship_tag": "ABX9TyOwU4kHeEqmQ5nhq1l4zIYa",
      "include_colab_link": true
    },
    "kernelspec": {
      "name": "python3",
      "display_name": "Python 3"
    },
    "language_info": {
      "name": "python"
    },
    "accelerator": "GPU"
  },
  "cells": [
    {
      "cell_type": "markdown",
      "metadata": {
        "id": "view-in-github",
        "colab_type": "text"
      },
      "source": [
        "<a href=\"https://colab.research.google.com/github/ebamberg/research-projects-ml/blob/main/Document_Management/examples_build_knowledge_graph_with_instructor_framework.ipynb\" target=\"_parent\"><img src=\"https://colab.research.google.com/assets/colab-badge.svg\" alt=\"Open In Colab\"/></a>"
      ]
    },
    {
      "cell_type": "markdown",
      "source": [
        "## Setup projects and dependencies"
      ],
      "metadata": {
        "id": "J0XnM9W4boUo"
      }
    },
    {
      "cell_type": "code",
      "execution_count": 1,
      "metadata": {
        "id": "mnTbWVjq5_B9",
        "colab": {
          "base_uri": "https://localhost:8080/"
        },
        "outputId": "e98c52eb-3a06-4bc5-f476-c52485a11dd4"
      },
      "outputs": [
        {
          "output_type": "stream",
          "name": "stdout",
          "text": [
            "\u001b[2K   \u001b[90m━━━━━━━━━━━━━━━━━━━━━━━━━━━━━━━━━━━━━━━━\u001b[0m \u001b[32m2.5/2.5 MB\u001b[0m \u001b[31m28.2 MB/s\u001b[0m eta \u001b[36m0:00:00\u001b[0m\n",
            "\u001b[2K   \u001b[90m━━━━━━━━━━━━━━━━━━━━━━━━━━━━━━━━━━━━━━━━\u001b[0m \u001b[32m50.8/50.8 kB\u001b[0m \u001b[31m3.0 MB/s\u001b[0m eta \u001b[36m0:00:00\u001b[0m\n",
            "\u001b[?25h"
          ]
        }
      ],
      "source": [
        "!pip install ollama langchain_community  --quiet\n",
        "\n",
        "modelid=\"llama3.1\"\n",
        "emb_modelid=\"mxbai-embed-large\"\n",
        "host=\"localhost:11434\"\n",
        "\n",
        "get_ipython().system_raw(\"curl -fsSL https://ollama.com/install.sh | sh\")\n",
        "get_ipython().system_raw(\"ollama serve &\")\n",
        "get_ipython().system_raw(f\"ollama pull {modelid}\")\n",
        "get_ipython().system_raw(f\"ollama pull {emb_modelid}\")"
      ]
    },
    {
      "cell_type": "code",
      "source": [
        "!pip install instructor --quiet\n",
        "!apt install libgraphviz-dev\n",
        "!pip install pygraphviz\n",
        "\n"
      ],
      "metadata": {
        "id": "StvXnLGC6La3",
        "colab": {
          "base_uri": "https://localhost:8080/"
        },
        "outputId": "555711ff-143b-4114-aa7b-5026592951c7"
      },
      "execution_count": 2,
      "outputs": [
        {
          "output_type": "stream",
          "name": "stdout",
          "text": [
            "\u001b[2K   \u001b[90m━━━━━━━━━━━━━━━━━━━━━━━━━━━━━━━━━━━━━━━━\u001b[0m \u001b[32m71.4/71.4 kB\u001b[0m \u001b[31m3.1 MB/s\u001b[0m eta \u001b[36m0:00:00\u001b[0m\n",
            "Reading package lists... Done\n",
            "Building dependency tree... Done\n",
            "Reading state information... Done\n",
            "The following additional packages will be installed:\n",
            "  libgail-common libgail18 libgtk2.0-0 libgtk2.0-bin libgtk2.0-common libgvc6-plugins-gtk\n",
            "  librsvg2-common libxdot4\n",
            "Suggested packages:\n",
            "  gvfs\n",
            "The following NEW packages will be installed:\n",
            "  libgail-common libgail18 libgraphviz-dev libgtk2.0-0 libgtk2.0-bin libgtk2.0-common\n",
            "  libgvc6-plugins-gtk librsvg2-common libxdot4\n",
            "0 upgraded, 9 newly installed, 0 to remove and 18 not upgraded.\n",
            "Need to get 2,434 kB of archives.\n",
            "After this operation, 7,681 kB of additional disk space will be used.\n",
            "Get:1 http://archive.ubuntu.com/ubuntu jammy-updates/main amd64 libgtk2.0-common all 2.24.33-2ubuntu2.1 [125 kB]\n",
            "Get:2 http://archive.ubuntu.com/ubuntu jammy-updates/main amd64 libgtk2.0-0 amd64 2.24.33-2ubuntu2.1 [2,038 kB]\n",
            "Get:3 http://archive.ubuntu.com/ubuntu jammy-updates/main amd64 libgail18 amd64 2.24.33-2ubuntu2.1 [15.9 kB]\n",
            "Get:4 http://archive.ubuntu.com/ubuntu jammy-updates/main amd64 libgail-common amd64 2.24.33-2ubuntu2.1 [132 kB]\n",
            "Get:5 http://archive.ubuntu.com/ubuntu jammy-updates/universe amd64 libxdot4 amd64 2.42.2-6ubuntu0.1 [16.4 kB]\n",
            "Get:6 http://archive.ubuntu.com/ubuntu jammy-updates/universe amd64 libgvc6-plugins-gtk amd64 2.42.2-6ubuntu0.1 [22.5 kB]\n",
            "Get:7 http://archive.ubuntu.com/ubuntu jammy-updates/universe amd64 libgraphviz-dev amd64 2.42.2-6ubuntu0.1 [58.5 kB]\n",
            "Get:8 http://archive.ubuntu.com/ubuntu jammy-updates/main amd64 libgtk2.0-bin amd64 2.24.33-2ubuntu2.1 [7,936 B]\n",
            "Get:9 http://archive.ubuntu.com/ubuntu jammy-updates/main amd64 librsvg2-common amd64 2.52.5+dfsg-3ubuntu0.2 [17.7 kB]\n",
            "Fetched 2,434 kB in 2s (1,579 kB/s)\n",
            "Selecting previously unselected package libgtk2.0-common.\n",
            "(Reading database ... 124950 files and directories currently installed.)\n",
            "Preparing to unpack .../0-libgtk2.0-common_2.24.33-2ubuntu2.1_all.deb ...\n",
            "Unpacking libgtk2.0-common (2.24.33-2ubuntu2.1) ...\n",
            "Selecting previously unselected package libgtk2.0-0:amd64.\n",
            "Preparing to unpack .../1-libgtk2.0-0_2.24.33-2ubuntu2.1_amd64.deb ...\n",
            "Unpacking libgtk2.0-0:amd64 (2.24.33-2ubuntu2.1) ...\n",
            "Selecting previously unselected package libgail18:amd64.\n",
            "Preparing to unpack .../2-libgail18_2.24.33-2ubuntu2.1_amd64.deb ...\n",
            "Unpacking libgail18:amd64 (2.24.33-2ubuntu2.1) ...\n",
            "Selecting previously unselected package libgail-common:amd64.\n",
            "Preparing to unpack .../3-libgail-common_2.24.33-2ubuntu2.1_amd64.deb ...\n",
            "Unpacking libgail-common:amd64 (2.24.33-2ubuntu2.1) ...\n",
            "Selecting previously unselected package libxdot4:amd64.\n",
            "Preparing to unpack .../4-libxdot4_2.42.2-6ubuntu0.1_amd64.deb ...\n",
            "Unpacking libxdot4:amd64 (2.42.2-6ubuntu0.1) ...\n",
            "Selecting previously unselected package libgvc6-plugins-gtk.\n",
            "Preparing to unpack .../5-libgvc6-plugins-gtk_2.42.2-6ubuntu0.1_amd64.deb ...\n",
            "Unpacking libgvc6-plugins-gtk (2.42.2-6ubuntu0.1) ...\n",
            "Selecting previously unselected package libgraphviz-dev:amd64.\n",
            "Preparing to unpack .../6-libgraphviz-dev_2.42.2-6ubuntu0.1_amd64.deb ...\n",
            "Unpacking libgraphviz-dev:amd64 (2.42.2-6ubuntu0.1) ...\n",
            "Selecting previously unselected package libgtk2.0-bin.\n",
            "Preparing to unpack .../7-libgtk2.0-bin_2.24.33-2ubuntu2.1_amd64.deb ...\n",
            "Unpacking libgtk2.0-bin (2.24.33-2ubuntu2.1) ...\n",
            "Selecting previously unselected package librsvg2-common:amd64.\n",
            "Preparing to unpack .../8-librsvg2-common_2.52.5+dfsg-3ubuntu0.2_amd64.deb ...\n",
            "Unpacking librsvg2-common:amd64 (2.52.5+dfsg-3ubuntu0.2) ...\n",
            "Setting up libxdot4:amd64 (2.42.2-6ubuntu0.1) ...\n",
            "Setting up librsvg2-common:amd64 (2.52.5+dfsg-3ubuntu0.2) ...\n",
            "Setting up libgtk2.0-common (2.24.33-2ubuntu2.1) ...\n",
            "Setting up libgtk2.0-0:amd64 (2.24.33-2ubuntu2.1) ...\n",
            "Setting up libgvc6-plugins-gtk (2.42.2-6ubuntu0.1) ...\n",
            "Setting up libgail18:amd64 (2.24.33-2ubuntu2.1) ...\n",
            "Setting up libgtk2.0-bin (2.24.33-2ubuntu2.1) ...\n",
            "Setting up libgail-common:amd64 (2.24.33-2ubuntu2.1) ...\n",
            "Setting up libgraphviz-dev:amd64 (2.42.2-6ubuntu0.1) ...\n",
            "Processing triggers for libc-bin (2.35-0ubuntu3.8) ...\n",
            "/sbin/ldconfig.real: /usr/local/lib/libur_adapter_level_zero.so.0 is not a symbolic link\n",
            "\n",
            "/sbin/ldconfig.real: /usr/local/lib/libtcm_debug.so.1 is not a symbolic link\n",
            "\n",
            "/sbin/ldconfig.real: /usr/local/lib/libumf.so.0 is not a symbolic link\n",
            "\n",
            "/sbin/ldconfig.real: /usr/local/lib/libtbbbind_2_0.so.3 is not a symbolic link\n",
            "\n",
            "/sbin/ldconfig.real: /usr/local/lib/libur_loader.so.0 is not a symbolic link\n",
            "\n",
            "/sbin/ldconfig.real: /usr/local/lib/libhwloc.so.15 is not a symbolic link\n",
            "\n",
            "/sbin/ldconfig.real: /usr/local/lib/libtbbbind.so.3 is not a symbolic link\n",
            "\n",
            "/sbin/ldconfig.real: /usr/local/lib/libtbbmalloc.so.2 is not a symbolic link\n",
            "\n",
            "/sbin/ldconfig.real: /usr/local/lib/libtbbbind_2_5.so.3 is not a symbolic link\n",
            "\n",
            "/sbin/ldconfig.real: /usr/local/lib/libtbb.so.12 is not a symbolic link\n",
            "\n",
            "/sbin/ldconfig.real: /usr/local/lib/libur_adapter_opencl.so.0 is not a symbolic link\n",
            "\n",
            "/sbin/ldconfig.real: /usr/local/lib/libtbbmalloc_proxy.so.2 is not a symbolic link\n",
            "\n",
            "/sbin/ldconfig.real: /usr/local/lib/libtcm.so.1 is not a symbolic link\n",
            "\n",
            "Processing triggers for man-db (2.10.2-1) ...\n",
            "Processing triggers for libgdk-pixbuf-2.0-0:amd64 (2.42.8+dfsg-1ubuntu0.3) ...\n",
            "Collecting pygraphviz\n",
            "  Downloading pygraphviz-1.14.tar.gz (106 kB)\n",
            "\u001b[2K     \u001b[90m━━━━━━━━━━━━━━━━━━━━━━━━━━━━━━━━━━━━━━━━\u001b[0m \u001b[32m106.0/106.0 kB\u001b[0m \u001b[31m4.8 MB/s\u001b[0m eta \u001b[36m0:00:00\u001b[0m\n",
            "\u001b[?25h  Installing build dependencies ... \u001b[?25l\u001b[?25hdone\n",
            "  Getting requirements to build wheel ... \u001b[?25l\u001b[?25hdone\n",
            "  Preparing metadata (pyproject.toml) ... \u001b[?25l\u001b[?25hdone\n",
            "Building wheels for collected packages: pygraphviz\n",
            "  Building wheel for pygraphviz (pyproject.toml) ... \u001b[?25l\u001b[?25hdone\n",
            "  Created wheel for pygraphviz: filename=pygraphviz-1.14-cp311-cp311-linux_x86_64.whl size=169683 sha256=2fdddce6a39d83a41147c258cabb89e4908d1baffa6a31a9206e53a926ce65d2\n",
            "  Stored in directory: /root/.cache/pip/wheels/9c/5f/df/6fffd2a4353f26dbb0e3672a1baf070c124a1d74a5f9318279\n",
            "Successfully built pygraphviz\n",
            "Installing collected packages: pygraphviz\n",
            "Successfully installed pygraphviz-1.14\n"
          ]
        }
      ]
    },
    {
      "cell_type": "code",
      "source": [
        "\n",
        "import instructor\n",
        "\n",
        "from openai import OpenAI\n",
        "from pydantic import BaseModel, Field\n",
        "from typing import List\n",
        "\n",
        "llm = OpenAI(\n",
        "        base_url=f\"http://{host}/v1\",\n",
        "        api_key=\"ollama\",  # required, but unused\n",
        "    )\n",
        "\n",
        "client = instructor.from_openai(\n",
        "    llm,\n",
        "    mode=instructor.Mode.JSON,\n",
        ")"
      ],
      "metadata": {
        "id": "f_vIWNDV7rbi"
      },
      "execution_count": 3,
      "outputs": []
    },
    {
      "cell_type": "markdown",
      "source": [
        "## create a general knowledge graph"
      ],
      "metadata": {
        "id": "SX9F7oSNbvfU"
      }
    },
    {
      "cell_type": "code",
      "source": [
        "from pydantic import BaseModel, Field\n",
        "from typing import Optional\n",
        "from graphviz import Digraph\n",
        "# from IPython.display import display\n",
        "\n",
        "class Node(BaseModel):\n",
        "    id: int\n",
        "    label: str\n",
        "    color: str = \"black\"\n",
        "    def __hash__(self) -> int:\n",
        "        return hash((id, self.label))\n",
        "\n",
        "class Edge(BaseModel):\n",
        "    source: int\n",
        "    target: int\n",
        "    label: str\n",
        "    color: str = \"black\"\n",
        "    def __hash__(self) -> int:\n",
        "        return hash((self.source, self.target, self.label))\n",
        "\n",
        "\n",
        "class KnowledgeGraph(BaseModel):\n",
        "    nodes: Optional[list[Node]] = Field(..., default_factory=list)  # A list of nodes in the knowledge graph.\n",
        "    edges: Optional[list[Edge]] = Field(..., default_factory=list)  # A list of edges in the knowledge graph.\n",
        "\n",
        "    def update(self, other: \"KnowledgeGraph\") -> \"KnowledgeGraph\":\n",
        "        # This method updates the current graph with the other graph, deduplicating nodes and edges.\n",
        "        return KnowledgeGraph(\n",
        "            nodes=list(set(self.nodes + other.nodes)),  # Combine and deduplicate nodes\n",
        "            edges=list(set(self.edges + other.edges)),  # Combine and deduplicate edges\n",
        "        )\n",
        "\n",
        "    def visualize_knowledge_graph(self):\n",
        "        dot = Digraph(comment=\"Knowledge Graph\")\n",
        "\n",
        "        for node in self.nodes:\n",
        "            dot.node(name=str(node.id), label=node.label, color=node.color)\n",
        "        for edge in self.edges:\n",
        "            dot.edge(str(edge.source), str(edge.target), label=edge.label, color=edge.color)\n",
        "        return dot\n",
        "        # return display(dot)"
      ],
      "metadata": {
        "id": "U_WS8u_x6WCj"
      },
      "execution_count": null,
      "outputs": []
    },
    {
      "cell_type": "code",
      "source": [
        "def generate_simple_graph(input) -> KnowledgeGraph:\n",
        "    return client.chat.completions.create(\n",
        "        model=modelid,\n",
        "        messages=[\n",
        "            {\n",
        "                \"role\": \"user\",\n",
        "                \"content\": f\"Help me understand the following by describing it as small knowledge graph: {input}\",\n",
        "            }\n",
        "        ],\n",
        "        response_model=KnowledgeGraph,\n",
        "    )\n",
        "\n",
        "graph=generate_simple_graph(\"Explain quantum mechanics\").visualize_knowledge_graph()\n",
        "graph"
      ],
      "metadata": {
        "colab": {
          "base_uri": "https://localhost:8080/",
          "height": 312
        },
        "id": "OCUzUYm87CG9",
        "outputId": "d0baaeaa-b893-4ab1-8516-6aed2cd8db0d"
      },
      "execution_count": null,
      "outputs": [
        {
          "output_type": "execute_result",
          "data": {
            "image/svg+xml": "<?xml version=\"1.0\" encoding=\"UTF-8\" standalone=\"no\"?>\n<!DOCTYPE svg PUBLIC \"-//W3C//DTD SVG 1.1//EN\"\n \"http://www.w3.org/Graphics/SVG/1.1/DTD/svg11.dtd\">\n<!-- Generated by graphviz version 2.43.0 (0)\n -->\n<!-- Title: %3 Pages: 1 -->\n<svg width=\"179pt\" height=\"218pt\"\n viewBox=\"0.00 0.00 179.44 218.00\" xmlns=\"http://www.w3.org/2000/svg\" xmlns:xlink=\"http://www.w3.org/1999/xlink\">\n<g id=\"graph0\" class=\"graph\" transform=\"scale(1 1) rotate(0) translate(4 214)\">\n<title>%3</title>\n<polygon fill=\"white\" stroke=\"transparent\" points=\"-4,4 -4,-214 175.44,-214 175.44,4 -4,4\"/>\n<!-- 0 -->\n<g id=\"node1\" class=\"node\">\n<title>0</title>\n<ellipse fill=\"none\" stroke=\"blue\" cx=\"73.44\" cy=\"-192\" rx=\"73.39\" ry=\"18\"/>\n<text text-anchor=\"middle\" x=\"73.44\" y=\"-188.3\" font-family=\"Times,serif\" font-size=\"14.00\">Quantum Physics</text>\n</g>\n<!-- 1 -->\n<g id=\"node2\" class=\"node\">\n<title>1</title>\n<ellipse fill=\"none\" stroke=\"green\" cx=\"73.44\" cy=\"-105\" rx=\"37.09\" ry=\"18\"/>\n<text text-anchor=\"middle\" x=\"73.44\" y=\"-101.3\" font-family=\"Times,serif\" font-size=\"14.00\">History</text>\n</g>\n<!-- 0&#45;&gt;1 -->\n<g id=\"edge1\" class=\"edge\">\n<title>0&#45;&gt;1</title>\n<path fill=\"none\" stroke=\"black\" d=\"M73.44,-173.8C73.44,-162.16 73.44,-146.55 73.44,-133.24\"/>\n<polygon fill=\"black\" stroke=\"black\" points=\"76.94,-133.18 73.44,-123.18 69.94,-133.18 76.94,-133.18\"/>\n<text text-anchor=\"middle\" x=\"122.44\" y=\"-144.8\" font-family=\"Times,serif\" font-size=\"14.00\">Discusses History</text>\n</g>\n<!-- 2 -->\n<g id=\"node3\" class=\"node\">\n<title>2</title>\n<ellipse fill=\"none\" stroke=\"red\" cx=\"73.44\" cy=\"-18\" rx=\"36.29\" ry=\"18\"/>\n<text text-anchor=\"middle\" x=\"73.44\" y=\"-14.3\" font-family=\"Times,serif\" font-size=\"14.00\">Theory</text>\n</g>\n<!-- 1&#45;&gt;2 -->\n<g id=\"edge2\" class=\"edge\">\n<title>1&#45;&gt;2</title>\n<path fill=\"none\" stroke=\"black\" d=\"M73.44,-86.8C73.44,-75.16 73.44,-59.55 73.44,-46.24\"/>\n<polygon fill=\"black\" stroke=\"black\" points=\"76.94,-46.18 73.44,-36.18 69.94,-46.18 76.94,-46.18\"/>\n<text text-anchor=\"middle\" x=\"91.44\" y=\"-57.8\" font-family=\"Times,serif\" font-size=\"14.00\">Led to</text>\n</g>\n</g>\n</svg>\n",
            "text/plain": [
              "<graphviz.graphs.Digraph at 0x782d486245d0>"
            ]
          },
          "metadata": {},
          "execution_count": 17
        }
      ]
    },
    {
      "cell_type": "code",
      "source": [
        "def generate_graph(input: list[str]) -> KnowledgeGraph:\n",
        "    # Initialize an empty KnowledgeGraph\n",
        "    cur_state = KnowledgeGraph()\n",
        "\n",
        "    # Iterate over the input list\n",
        "    for i, inp in enumerate(input):\n",
        "        new_updates = client.chat.completions.create(\n",
        "            model=modelid,\n",
        "            messages=[\n",
        "                {\n",
        "                    \"role\": \"system\",\n",
        "                    \"content\": \"\"\"You are an iterative knowledge graph builder.\n",
        "                    You are given the current state of the graph, and you must append the nodes and edges\n",
        "                    to it Do not procide any duplcates and try to reuse nodes as much as possible.\"\"\",\n",
        "                },\n",
        "                {\n",
        "                    \"role\": \"user\",\n",
        "                    \"content\": f\"\"\"Extract any new nodes and edges from the following:\n",
        "                    # Part {i}/{len(input)} of the input:\n",
        "\n",
        "                    {inp}\"\"\",\n",
        "                },\n",
        "                {\n",
        "                    \"role\": \"user\",\n",
        "                    \"content\": f\"\"\"Here is the current state of the graph:\n",
        "                    {cur_state.model_dump_json(indent=2)}\"\"\",\n",
        "                },\n",
        "            ],\n",
        "            response_model=KnowledgeGraph,\n",
        "        )  # type: ignore\n",
        "\n",
        "        # Update the current state with the new updates\n",
        "        cur_state = cur_state.update(new_updates)\n",
        "\n",
        "        # Draw the current state of the graph\n",
        "        cur_state.visualize_knowledge_graph()\n",
        "\n",
        "    # Return the final state of the KnowledgeGraph\n",
        "    return cur_state\n",
        "\n",
        "text_chunks = [\n",
        "    \"Jason knows a lot about quantum mechanics. He is a physicist. He is a professor\",\n",
        "    \"Professors are smart.\",\n",
        "    \"Sarah knows Jason and is a student of his.\",\n",
        "    \"Sarah is a student at the University of Toronto. and UofT is in Canada.\",\n",
        "]\n",
        "\n",
        "graph: KnowledgeGraph = generate_graph(text_chunks)\n",
        "\n",
        "graph.visualize_knowledge_graph()"
      ],
      "metadata": {
        "id": "r7g_TJgMGN38"
      },
      "execution_count": null,
      "outputs": []
    },
    {
      "cell_type": "markdown",
      "source": [
        "# Extract Persons and Relationship from Story"
      ],
      "metadata": {
        "id": "mWTF_vQ6UMRq"
      }
    },
    {
      "cell_type": "code",
      "source": [
        "get_ipython().system_raw(f\"ollama pull {modelid}\")"
      ],
      "metadata": {
        "id": "61m2dfadewAb"
      },
      "execution_count": 9,
      "outputs": []
    },
    {
      "cell_type": "markdown",
      "source": [
        "### create synthetic data for testing"
      ],
      "metadata": {
        "id": "auRJ0K-BgNEI"
      }
    },
    {
      "cell_type": "code",
      "source": [
        "system = \"Your are a horror thriller novel author who likes to write in the style of Steven King.\"\n",
        "prompt = \"\"\"\n",
        "Write a short and thrilling horror story about a 6 piece family that spend their holiday in a cabin. The story should be between 1000 and 2000 words.\n",
        "\n",
        "The family is a father, a mother, 2 children, aunt , uncle and grandparents.\n",
        "At least one of the characters is a ghost.\n",
        "Mention all the characters and their relationship in the story.\n",
        "\"\"\"\n",
        "story_response=llm.chat.completions.create(model=modelid, messages = [{\"role\":\"system\", \"content\":system},{\"role\":\"user\", \"content\":prompt}])\n",
        "story = story_response.choices[0].message.content\n",
        "story"
      ],
      "metadata": {
        "colab": {
          "base_uri": "https://localhost:8080/",
          "height": 127
        },
        "id": "9BRa02nAU7FB",
        "outputId": "9c84cbb4-9d39-4e58-973a-99dc1f7971b0"
      },
      "execution_count": 51,
      "outputs": [
        {
          "output_type": "execute_result",
          "data": {
            "text/plain": [
              "'**The Isolation of Raven\\'s Peak**\\n\\nIt was supposed to be a relaxing holiday for the Thompson family. A week-long stay at the secluded cabin on Raven\\'s Peak, nestled deep within the heart of the Appalachian mountains. The family had been looking forward to it all year - a chance to reconnect and unplug from the stresses of daily life.\\n\\nJohn, the patriarch, a gruff but lovable man in his late 40s, had brought his wife, Karen, a sweet and nurturing soul, along with their two children, Emily (12) and James (9). John\\'s sister, Rachel, and her husband, Michael, were also part of the family gathering. They were all joined by John and Karen\\'s parents, Henry and Margaret.\\n\\nAs they arrived at the cabin, the group couldn\\'t help but feel a sense of excitement and rejuvenation wash over them. The crisp mountain air, the scent of pine trees, and the sound of the gentle brook nearby set a soothing tone for their stay.\\n\\nHowever, as night began to fall on the first evening, an eerie atmosphere started to take hold. Rachel, who had been acting peculiar all day, mentioned feeling a chill despite the warmth of the cabin. \"I don\\'t feel so good,\" she said, snuggling up by the fire with Michael.\\n\\nAs they settled in for the night, John and Karen retired to their bedroom on the opposite side of the cabin from their children and the rest of the family. Margaret, ever vigilant, watched over Emily and James, who were engrossed in their evening screen time.\\n\\nThe silence was only broken by the occasional sound of an owl hooting outside. That was until Michael let out a blood-curdling scream.\\n\\n\"What\\'s wrong?\" John asked, springing out of bed to rush downstairs.\\n\\n\"It was my mom,\" Rachel whispered tremulously, her eyes wide with fear. \"I saw her standing in front of the kitchen counter.\"\\n\\nHenry and Margaret shared a worried glance. \"It must be just your imagination playing tricks on you, dear,\" Karen reassured, but there was an underlying air of concern.\\n\\nAs they began to investigate, strange noises started echoing through the cabin - creaks, groans, and faint whispers in the dead of night. Emily, already spooked from waking up to a bad dream the previous evening, clung tightly to her mother.\\n\\n\"I saw her again,\" Rachel whispered during breakfast the next morning. \"Standing behind me in the kitchen, staring at me with this...this hate.\"\\n\\nIt was then that Margaret revealed a long-held secret: their mother had passed away under mysterious circumstances 20 years prior while on vacation in these very mountains. Some claimed she\\'d been murdered by a family member; others thought it was a tragic accident involving an unseen force. Whatever the truth, her spirit was said to roam the Raven\\'s Peak cabin.\\n\\nWith every passing day, the occurrences grew more intense and inexplicable. Doors creaked open on their own; items moved from their shelves onto the floor as if pushed by ghostly fingers. Some family members began to suspect Rachel of playing a prank gone wrong or worse - deliberately summoning her mother\\'s spirit for attention.\\n\\nOne rain-soaked night, after a particularly grueling thunderstorm, Henry and Margaret settled in for some quiet time while Rachel and Michael went off to bed early. As the wind howled outside, John joined his brother-in-law and parents in the living room, sharing tales of their childhood adventures.\\n\\nIt was then that Emily approached them, shivering despite her warm coat. \"Don\\'t go outside,\" she whispered urgently. \"Nana is really here now.\"\\n\\nJohn exchanged a worried glance with Karen, but before they could respond, the back door creaked open by itself and Margaret vanished into the darkness.\\n\\nA torrent of screams erupted from within the cabin as family members scrambled to find Henry\\'s missing wife. In the chaos that followed, Michael lunged towards the brook in pursuit of their disappearing grandmother, never to return.\\n\\nWhen morning broke on Raven\\'s Peak, only two remained - John, now beside himself with grief and dread, and his children. Emily, shivering uncontrollably, clung tightly to James as they stood outside the cabin, staring up at the trees swaying ominously in the misty morning air.\\n\\n\"I saw Nana walking towards us,\" Emily whispered, eyes wide with a mix of fear and wonder.\\n\\nJames\\'s gaze followed hers. \"Dad...I think she\\'s coming for us...\"\\n\\nTheir words were cut short by a chilling whisper carried on the wind: \"You should have stayed home...\"\\n\\nIn that moment, John understood. His wife Karen would never leave their bed; Rachel was consumed by her own guilt-ridden past; Henry and Margaret had brought tragedy with them to this remote paradise.\\n\\nRaven\\'s Peak no longer held any secrets for James and Emily. The darkness lurking beneath its surface now threatened everything the family thought it stood for: love, unity, and the fleeting illusion of safety. As they watched in frozen terror, Henry\\'s wife emerged from the darkness - a ghost of vengeance from beyond the grave - forever bound to the cabin on Raven\\'s Peak.'"
            ],
            "application/vnd.google.colaboratory.intrinsic+json": {
              "type": "string"
            }
          },
          "metadata": {},
          "execution_count": 51
        }
      ]
    },
    {
      "cell_type": "markdown",
      "source": [
        "### Our Knowledge Graph Model"
      ],
      "metadata": {
        "id": "CyFhmdS7gUmN"
      }
    },
    {
      "cell_type": "code",
      "source": [
        "from pydantic import BaseModel, Field\n",
        "from typing import Optional\n",
        "\n",
        "class Character(BaseModel):\n",
        "    id: str\n",
        "    name: str = \"unnamed\"\n",
        "    description: str = \"no description\"\n",
        "    def __hash__(self) -> int:\n",
        "        return hash((id, self.name))\n",
        "\n",
        "class Relationship(BaseModel):\n",
        "    id: str\n",
        "    source: str\n",
        "    target: str\n",
        "    label: str = \"unknown relation\"\n",
        "    description: str = \"no description\"\n",
        "    def __hash__(self) -> int:\n",
        "        return hash((self.source, self.target, self.label))\n",
        "\n",
        "class KnowledgeGraph(BaseModel):\n",
        "    nodes: Optional[list[Character]] = Field(..., default_factory=list)\n",
        "    edges: Optional [ list[Relationship] ] = Field(..., default_factory=list)\n"
      ],
      "metadata": {
        "id": "OKguoRsDUYvr"
      },
      "execution_count": 64,
      "outputs": []
    },
    {
      "cell_type": "code",
      "source": [
        "def generate_relationship_graph(input) -> KnowledgeGraph:\n",
        "    return client.chat.completions.create(\n",
        "        model=modelid,\n",
        "        messages=[\n",
        "            {\"role\": \"system\", \"content\": \"You are an knowledge graph builder.\"},\n",
        "            {\n",
        "                \"role\": \"user\",\n",
        "                \"content\": f\"Extract the characters and their relationship from the following story as a knowledge graph. examples a relationship are Dad,Mum, Son, Daughter, Uncle, Aunt. Story: {input}\",\n",
        "            }\n",
        "        ],\n",
        "        response_model=KnowledgeGraph,\n",
        "    )\n",
        "\n",
        "\n",
        "relationships=generate_relationship_graph(story)\n",
        "relationships\n"
      ],
      "metadata": {
        "colab": {
          "base_uri": "https://localhost:8080/"
        },
        "id": "Xf8E8gx8gn5d",
        "outputId": "5a54adf7-2cca-4187-ef58-8382373807c4"
      },
      "execution_count": 65,
      "outputs": [
        {
          "output_type": "execute_result",
          "data": {
            "text/plain": [
              "KnowledgeGraph(nodes=[Character(id='John', name='John Thompson', description='Patriarch, father of Emily and James'), Character(id='Karen', name='Karen Thompson (née Murphy)', description='Mother of Emily and James'), Character(id='Emily', name='Emily Thompson', description='Daughter, age 12'), Character(id='James', name='James Thompson', description='Son, age 9'), Character(id='Rachel', name='Rachel (Thompson) (née Henry)', description=\"John's sister, wife of Michael\"), Character(id='Michael', name='Michael (no last name mentioned)', description='Husband of Rachel'), Character(id='Henry', name='Henry (née Murphy)', description=\"John and Karen's father, husband of Margaret\"), Character(id='Margaret', name='Margaret', description=\"John and Karen's mother who passed away 20 years ago\")], edges=[Relationship(id='Dad-Son', source='John', target='James', label='Father of (Family)', description=\"John is James' father.\"), Relationship(id='Mum-Daughter', source='Karen', target='Emily', label='Mother of (Family)', description=\"Karen is Emily's mother.\"), Relationship(id='Brother-Sister', source='John', target='Rachel', label='Brother/Sister of (Family)', description='John and Rachel are siblings.'), Relationship(id='Uncle-Niece', source='Henry', target='Emily', label='Uncle/Aunt of (Family)', description=\"Henry is Emily's uncle (and step-grandfather).\"), Relationship(id='Grandmother-Grandchildren', source='Margaret', target='John', label='Grandmother of (Family)', description=\"Margaret was John's mother.\")])"
            ]
          },
          "metadata": {},
          "execution_count": 65
        }
      ]
    },
    {
      "cell_type": "code",
      "source": [
        "from graphviz import Digraph\n",
        "\n",
        "def visualize_relationship_graph(data: KnowledgeGraph):\n",
        "        dot = Digraph(comment=\"Relationships\")\n",
        "\n",
        "        for node in data.nodes:\n",
        "            dot.node(name=str(node.id), label=node.name, color=\"black\")\n",
        "        for edge in data.edges:\n",
        "            dot.edge(str(edge.source), str(edge.target), label=edge.label, color=\"black\")\n",
        "        return dot\n",
        "\n",
        "graph=visualize_relationship_graph(relationships)\n",
        "graph"
      ],
      "metadata": {
        "colab": {
          "base_uri": "https://localhost:8080/",
          "height": 312
        },
        "id": "v32QqlWAl50Y",
        "outputId": "8dd2493c-4932-496b-84ad-7d8acabf7744"
      },
      "execution_count": 66,
      "outputs": [
        {
          "output_type": "execute_result",
          "data": {
            "image/svg+xml": "<?xml version=\"1.0\" encoding=\"UTF-8\" standalone=\"no\"?>\n<!DOCTYPE svg PUBLIC \"-//W3C//DTD SVG 1.1//EN\"\n \"http://www.w3.org/Graphics/SVG/1.1/DTD/svg11.dtd\">\n<!-- Generated by graphviz version 2.43.0 (0)\n -->\n<!-- Title: %3 Pages: 1 -->\n<svg width=\"972pt\" height=\"218pt\"\n viewBox=\"0.00 0.00 971.68 218.00\" xmlns=\"http://www.w3.org/2000/svg\" xmlns:xlink=\"http://www.w3.org/1999/xlink\">\n<g id=\"graph0\" class=\"graph\" transform=\"scale(1 1) rotate(0) translate(4 214)\">\n<title>%3</title>\n<polygon fill=\"white\" stroke=\"transparent\" points=\"-4,4 -4,-214 967.68,-214 967.68,4 -4,4\"/>\n<!-- John -->\n<g id=\"node1\" class=\"node\">\n<title>John</title>\n<ellipse fill=\"none\" stroke=\"black\" cx=\"180.79\" cy=\"-105\" rx=\"67.69\" ry=\"18\"/>\n<text text-anchor=\"middle\" x=\"180.79\" y=\"-101.3\" font-family=\"Times,serif\" font-size=\"14.00\">John Thompson</text>\n</g>\n<!-- James -->\n<g id=\"node4\" class=\"node\">\n<title>James</title>\n<ellipse fill=\"none\" stroke=\"black\" cx=\"72.79\" cy=\"-18\" rx=\"72.59\" ry=\"18\"/>\n<text text-anchor=\"middle\" x=\"72.79\" y=\"-14.3\" font-family=\"Times,serif\" font-size=\"14.00\">James Thompson</text>\n</g>\n<!-- John&#45;&gt;James -->\n<g id=\"edge1\" class=\"edge\">\n<title>John&#45;&gt;James</title>\n<path fill=\"none\" stroke=\"black\" d=\"M160.23,-87.81C143.67,-74.78 120.19,-56.31 101.74,-41.78\"/>\n<polygon fill=\"black\" stroke=\"black\" points=\"103.68,-38.85 93.65,-35.42 99.35,-44.35 103.68,-38.85\"/>\n<text text-anchor=\"middle\" x=\"184.79\" y=\"-57.8\" font-family=\"Times,serif\" font-size=\"14.00\">Father of (Family)</text>\n</g>\n<!-- Rachel -->\n<g id=\"node5\" class=\"node\">\n<title>Rachel</title>\n<ellipse fill=\"none\" stroke=\"black\" cx=\"289.79\" cy=\"-18\" rx=\"126.18\" ry=\"18\"/>\n<text text-anchor=\"middle\" x=\"289.79\" y=\"-14.3\" font-family=\"Times,serif\" font-size=\"14.00\">Rachel (Thompson) (née Henry)</text>\n</g>\n<!-- John&#45;&gt;Rachel -->\n<g id=\"edge3\" class=\"edge\">\n<title>John&#45;&gt;Rachel</title>\n<path fill=\"none\" stroke=\"black\" d=\"M209.94,-88.64C219.77,-82.97 230.58,-76.16 239.79,-69 249.44,-61.5 259.15,-52.28 267.41,-43.8\"/>\n<polygon fill=\"black\" stroke=\"black\" points=\"270.19,-45.96 274.54,-36.3 265.11,-41.13 270.19,-45.96\"/>\n<text text-anchor=\"middle\" x=\"328.29\" y=\"-57.8\" font-family=\"Times,serif\" font-size=\"14.00\">Brother/Sister of (Family)</text>\n</g>\n<!-- Karen -->\n<g id=\"node2\" class=\"node\">\n<title>Karen</title>\n<ellipse fill=\"none\" stroke=\"black\" cx=\"366.79\" cy=\"-192\" rx=\"124.28\" ry=\"18\"/>\n<text text-anchor=\"middle\" x=\"366.79\" y=\"-188.3\" font-family=\"Times,serif\" font-size=\"14.00\">Karen Thompson (née Murphy)</text>\n</g>\n<!-- Emily -->\n<g id=\"node3\" class=\"node\">\n<title>Emily</title>\n<ellipse fill=\"none\" stroke=\"black\" cx=\"479.79\" cy=\"-105\" rx=\"72.59\" ry=\"18\"/>\n<text text-anchor=\"middle\" x=\"479.79\" y=\"-101.3\" font-family=\"Times,serif\" font-size=\"14.00\">Emily Thompson</text>\n</g>\n<!-- Karen&#45;&gt;Emily -->\n<g id=\"edge2\" class=\"edge\">\n<title>Karen&#45;&gt;Emily</title>\n<path fill=\"none\" stroke=\"black\" d=\"M389.12,-174.21C406.49,-161.14 430.76,-142.88 449.82,-128.55\"/>\n<polygon fill=\"black\" stroke=\"black\" points=\"452.01,-131.28 457.9,-122.47 447.8,-125.68 452.01,-131.28\"/>\n<text text-anchor=\"middle\" x=\"484.79\" y=\"-144.8\" font-family=\"Times,serif\" font-size=\"14.00\">Mother of (Family)</text>\n</g>\n<!-- Michael -->\n<g id=\"node6\" class=\"node\">\n<title>Michael</title>\n<ellipse fill=\"none\" stroke=\"black\" cx=\"829.79\" cy=\"-192\" rx=\"133.78\" ry=\"18\"/>\n<text text-anchor=\"middle\" x=\"829.79\" y=\"-188.3\" font-family=\"Times,serif\" font-size=\"14.00\">Michael (no last name mentioned)</text>\n</g>\n<!-- Henry -->\n<g id=\"node7\" class=\"node\">\n<title>Henry</title>\n<ellipse fill=\"none\" stroke=\"black\" cx=\"593.79\" cy=\"-192\" rx=\"84.49\" ry=\"18\"/>\n<text text-anchor=\"middle\" x=\"593.79\" y=\"-188.3\" font-family=\"Times,serif\" font-size=\"14.00\">Henry (née Murphy)</text>\n</g>\n<!-- Henry&#45;&gt;Emily -->\n<g id=\"edge4\" class=\"edge\">\n<title>Henry&#45;&gt;Emily</title>\n<path fill=\"none\" stroke=\"black\" d=\"M578.72,-174.06C569.06,-163.78 555.91,-150.79 542.79,-141 535.8,-135.78 527.95,-130.81 520.22,-126.34\"/>\n<polygon fill=\"black\" stroke=\"black\" points=\"521.7,-123.15 511.26,-121.33 518.28,-129.26 521.7,-123.15\"/>\n<text text-anchor=\"middle\" x=\"623.79\" y=\"-144.8\" font-family=\"Times,serif\" font-size=\"14.00\">Uncle/Aunt of (Family)</text>\n</g>\n<!-- Margaret -->\n<g id=\"node8\" class=\"node\">\n<title>Margaret</title>\n<ellipse fill=\"none\" stroke=\"black\" cx=\"180.79\" cy=\"-192\" rx=\"43.59\" ry=\"18\"/>\n<text text-anchor=\"middle\" x=\"180.79\" y=\"-188.3\" font-family=\"Times,serif\" font-size=\"14.00\">Margaret</text>\n</g>\n<!-- Margaret&#45;&gt;John -->\n<g id=\"edge5\" class=\"edge\">\n<title>Margaret&#45;&gt;John</title>\n<path fill=\"none\" stroke=\"black\" d=\"M180.79,-173.8C180.79,-162.16 180.79,-146.55 180.79,-133.24\"/>\n<polygon fill=\"black\" stroke=\"black\" points=\"184.29,-133.18 180.79,-123.18 177.29,-133.18 184.29,-133.18\"/>\n<text text-anchor=\"middle\" x=\"250.79\" y=\"-144.8\" font-family=\"Times,serif\" font-size=\"14.00\">Grandmother of (Family)</text>\n</g>\n</g>\n</svg>\n",
            "text/plain": [
              "<graphviz.graphs.Digraph at 0x7d76a6d22650>"
            ]
          },
          "metadata": {},
          "execution_count": 66
        }
      ]
    }
  ]
}