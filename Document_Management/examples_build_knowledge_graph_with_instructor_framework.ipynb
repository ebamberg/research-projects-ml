{
  "nbformat": 4,
  "nbformat_minor": 0,
  "metadata": {
    "colab": {
      "provenance": [],
      "gpuType": "T4",
      "authorship_tag": "ABX9TyPBOSktP7K/EcmotAnGEh/p",
      "include_colab_link": true
    },
    "kernelspec": {
      "name": "python3",
      "display_name": "Python 3"
    },
    "language_info": {
      "name": "python"
    },
    "accelerator": "GPU"
  },
  "cells": [
    {
      "cell_type": "markdown",
      "metadata": {
        "id": "view-in-github",
        "colab_type": "text"
      },
      "source": [
        "<a href=\"https://colab.research.google.com/github/ebamberg/research-projects-ml/blob/main/Document_Management/examples_build_knowledge_graph_with_instructor_framework.ipynb\" target=\"_parent\"><img src=\"https://colab.research.google.com/assets/colab-badge.svg\" alt=\"Open In Colab\"/></a>"
      ]
    },
    {
      "cell_type": "markdown",
      "source": [
        "## Setup projects and dependencies"
      ],
      "metadata": {
        "id": "J0XnM9W4boUo"
      }
    },
    {
      "cell_type": "code",
      "execution_count": 1,
      "metadata": {
        "id": "mnTbWVjq5_B9",
        "colab": {
          "base_uri": "https://localhost:8080/"
        },
        "outputId": "e98c52eb-3a06-4bc5-f476-c52485a11dd4"
      },
      "outputs": [
        {
          "output_type": "stream",
          "name": "stdout",
          "text": [
            "\u001b[2K   \u001b[90m━━━━━━━━━━━━━━━━━━━━━━━━━━━━━━━━━━━━━━━━\u001b[0m \u001b[32m2.5/2.5 MB\u001b[0m \u001b[31m28.2 MB/s\u001b[0m eta \u001b[36m0:00:00\u001b[0m\n",
            "\u001b[2K   \u001b[90m━━━━━━━━━━━━━━━━━━━━━━━━━━━━━━━━━━━━━━━━\u001b[0m \u001b[32m50.8/50.8 kB\u001b[0m \u001b[31m3.0 MB/s\u001b[0m eta \u001b[36m0:00:00\u001b[0m\n",
            "\u001b[?25h"
          ]
        }
      ],
      "source": [
        "!pip install ollama langchain_community  --quiet\n",
        "\n",
        "modelid=\"llama3.1\"\n",
        "emb_modelid=\"mxbai-embed-large\"\n",
        "host=\"localhost:11434\"\n",
        "\n",
        "get_ipython().system_raw(\"curl -fsSL https://ollama.com/install.sh | sh\")\n",
        "get_ipython().system_raw(\"ollama serve &\")\n",
        "get_ipython().system_raw(f\"ollama pull {modelid}\")\n",
        "get_ipython().system_raw(f\"ollama pull {emb_modelid}\")"
      ]
    },
    {
      "cell_type": "code",
      "source": [
        "!pip install instructor --quiet\n",
        "!apt install libgraphviz-dev\n",
        "!pip install pygraphviz\n",
        "\n"
      ],
      "metadata": {
        "id": "StvXnLGC6La3",
        "colab": {
          "base_uri": "https://localhost:8080/"
        },
        "outputId": "555711ff-143b-4114-aa7b-5026592951c7"
      },
      "execution_count": 2,
      "outputs": [
        {
          "output_type": "stream",
          "name": "stdout",
          "text": [
            "\u001b[2K   \u001b[90m━━━━━━━━━━━━━━━━━━━━━━━━━━━━━━━━━━━━━━━━\u001b[0m \u001b[32m71.4/71.4 kB\u001b[0m \u001b[31m3.1 MB/s\u001b[0m eta \u001b[36m0:00:00\u001b[0m\n",
            "Reading package lists... Done\n",
            "Building dependency tree... Done\n",
            "Reading state information... Done\n",
            "The following additional packages will be installed:\n",
            "  libgail-common libgail18 libgtk2.0-0 libgtk2.0-bin libgtk2.0-common libgvc6-plugins-gtk\n",
            "  librsvg2-common libxdot4\n",
            "Suggested packages:\n",
            "  gvfs\n",
            "The following NEW packages will be installed:\n",
            "  libgail-common libgail18 libgraphviz-dev libgtk2.0-0 libgtk2.0-bin libgtk2.0-common\n",
            "  libgvc6-plugins-gtk librsvg2-common libxdot4\n",
            "0 upgraded, 9 newly installed, 0 to remove and 18 not upgraded.\n",
            "Need to get 2,434 kB of archives.\n",
            "After this operation, 7,681 kB of additional disk space will be used.\n",
            "Get:1 http://archive.ubuntu.com/ubuntu jammy-updates/main amd64 libgtk2.0-common all 2.24.33-2ubuntu2.1 [125 kB]\n",
            "Get:2 http://archive.ubuntu.com/ubuntu jammy-updates/main amd64 libgtk2.0-0 amd64 2.24.33-2ubuntu2.1 [2,038 kB]\n",
            "Get:3 http://archive.ubuntu.com/ubuntu jammy-updates/main amd64 libgail18 amd64 2.24.33-2ubuntu2.1 [15.9 kB]\n",
            "Get:4 http://archive.ubuntu.com/ubuntu jammy-updates/main amd64 libgail-common amd64 2.24.33-2ubuntu2.1 [132 kB]\n",
            "Get:5 http://archive.ubuntu.com/ubuntu jammy-updates/universe amd64 libxdot4 amd64 2.42.2-6ubuntu0.1 [16.4 kB]\n",
            "Get:6 http://archive.ubuntu.com/ubuntu jammy-updates/universe amd64 libgvc6-plugins-gtk amd64 2.42.2-6ubuntu0.1 [22.5 kB]\n",
            "Get:7 http://archive.ubuntu.com/ubuntu jammy-updates/universe amd64 libgraphviz-dev amd64 2.42.2-6ubuntu0.1 [58.5 kB]\n",
            "Get:8 http://archive.ubuntu.com/ubuntu jammy-updates/main amd64 libgtk2.0-bin amd64 2.24.33-2ubuntu2.1 [7,936 B]\n",
            "Get:9 http://archive.ubuntu.com/ubuntu jammy-updates/main amd64 librsvg2-common amd64 2.52.5+dfsg-3ubuntu0.2 [17.7 kB]\n",
            "Fetched 2,434 kB in 2s (1,579 kB/s)\n",
            "Selecting previously unselected package libgtk2.0-common.\n",
            "(Reading database ... 124950 files and directories currently installed.)\n",
            "Preparing to unpack .../0-libgtk2.0-common_2.24.33-2ubuntu2.1_all.deb ...\n",
            "Unpacking libgtk2.0-common (2.24.33-2ubuntu2.1) ...\n",
            "Selecting previously unselected package libgtk2.0-0:amd64.\n",
            "Preparing to unpack .../1-libgtk2.0-0_2.24.33-2ubuntu2.1_amd64.deb ...\n",
            "Unpacking libgtk2.0-0:amd64 (2.24.33-2ubuntu2.1) ...\n",
            "Selecting previously unselected package libgail18:amd64.\n",
            "Preparing to unpack .../2-libgail18_2.24.33-2ubuntu2.1_amd64.deb ...\n",
            "Unpacking libgail18:amd64 (2.24.33-2ubuntu2.1) ...\n",
            "Selecting previously unselected package libgail-common:amd64.\n",
            "Preparing to unpack .../3-libgail-common_2.24.33-2ubuntu2.1_amd64.deb ...\n",
            "Unpacking libgail-common:amd64 (2.24.33-2ubuntu2.1) ...\n",
            "Selecting previously unselected package libxdot4:amd64.\n",
            "Preparing to unpack .../4-libxdot4_2.42.2-6ubuntu0.1_amd64.deb ...\n",
            "Unpacking libxdot4:amd64 (2.42.2-6ubuntu0.1) ...\n",
            "Selecting previously unselected package libgvc6-plugins-gtk.\n",
            "Preparing to unpack .../5-libgvc6-plugins-gtk_2.42.2-6ubuntu0.1_amd64.deb ...\n",
            "Unpacking libgvc6-plugins-gtk (2.42.2-6ubuntu0.1) ...\n",
            "Selecting previously unselected package libgraphviz-dev:amd64.\n",
            "Preparing to unpack .../6-libgraphviz-dev_2.42.2-6ubuntu0.1_amd64.deb ...\n",
            "Unpacking libgraphviz-dev:amd64 (2.42.2-6ubuntu0.1) ...\n",
            "Selecting previously unselected package libgtk2.0-bin.\n",
            "Preparing to unpack .../7-libgtk2.0-bin_2.24.33-2ubuntu2.1_amd64.deb ...\n",
            "Unpacking libgtk2.0-bin (2.24.33-2ubuntu2.1) ...\n",
            "Selecting previously unselected package librsvg2-common:amd64.\n",
            "Preparing to unpack .../8-librsvg2-common_2.52.5+dfsg-3ubuntu0.2_amd64.deb ...\n",
            "Unpacking librsvg2-common:amd64 (2.52.5+dfsg-3ubuntu0.2) ...\n",
            "Setting up libxdot4:amd64 (2.42.2-6ubuntu0.1) ...\n",
            "Setting up librsvg2-common:amd64 (2.52.5+dfsg-3ubuntu0.2) ...\n",
            "Setting up libgtk2.0-common (2.24.33-2ubuntu2.1) ...\n",
            "Setting up libgtk2.0-0:amd64 (2.24.33-2ubuntu2.1) ...\n",
            "Setting up libgvc6-plugins-gtk (2.42.2-6ubuntu0.1) ...\n",
            "Setting up libgail18:amd64 (2.24.33-2ubuntu2.1) ...\n",
            "Setting up libgtk2.0-bin (2.24.33-2ubuntu2.1) ...\n",
            "Setting up libgail-common:amd64 (2.24.33-2ubuntu2.1) ...\n",
            "Setting up libgraphviz-dev:amd64 (2.42.2-6ubuntu0.1) ...\n",
            "Processing triggers for libc-bin (2.35-0ubuntu3.8) ...\n",
            "/sbin/ldconfig.real: /usr/local/lib/libur_adapter_level_zero.so.0 is not a symbolic link\n",
            "\n",
            "/sbin/ldconfig.real: /usr/local/lib/libtcm_debug.so.1 is not a symbolic link\n",
            "\n",
            "/sbin/ldconfig.real: /usr/local/lib/libumf.so.0 is not a symbolic link\n",
            "\n",
            "/sbin/ldconfig.real: /usr/local/lib/libtbbbind_2_0.so.3 is not a symbolic link\n",
            "\n",
            "/sbin/ldconfig.real: /usr/local/lib/libur_loader.so.0 is not a symbolic link\n",
            "\n",
            "/sbin/ldconfig.real: /usr/local/lib/libhwloc.so.15 is not a symbolic link\n",
            "\n",
            "/sbin/ldconfig.real: /usr/local/lib/libtbbbind.so.3 is not a symbolic link\n",
            "\n",
            "/sbin/ldconfig.real: /usr/local/lib/libtbbmalloc.so.2 is not a symbolic link\n",
            "\n",
            "/sbin/ldconfig.real: /usr/local/lib/libtbbbind_2_5.so.3 is not a symbolic link\n",
            "\n",
            "/sbin/ldconfig.real: /usr/local/lib/libtbb.so.12 is not a symbolic link\n",
            "\n",
            "/sbin/ldconfig.real: /usr/local/lib/libur_adapter_opencl.so.0 is not a symbolic link\n",
            "\n",
            "/sbin/ldconfig.real: /usr/local/lib/libtbbmalloc_proxy.so.2 is not a symbolic link\n",
            "\n",
            "/sbin/ldconfig.real: /usr/local/lib/libtcm.so.1 is not a symbolic link\n",
            "\n",
            "Processing triggers for man-db (2.10.2-1) ...\n",
            "Processing triggers for libgdk-pixbuf-2.0-0:amd64 (2.42.8+dfsg-1ubuntu0.3) ...\n",
            "Collecting pygraphviz\n",
            "  Downloading pygraphviz-1.14.tar.gz (106 kB)\n",
            "\u001b[2K     \u001b[90m━━━━━━━━━━━━━━━━━━━━━━━━━━━━━━━━━━━━━━━━\u001b[0m \u001b[32m106.0/106.0 kB\u001b[0m \u001b[31m4.8 MB/s\u001b[0m eta \u001b[36m0:00:00\u001b[0m\n",
            "\u001b[?25h  Installing build dependencies ... \u001b[?25l\u001b[?25hdone\n",
            "  Getting requirements to build wheel ... \u001b[?25l\u001b[?25hdone\n",
            "  Preparing metadata (pyproject.toml) ... \u001b[?25l\u001b[?25hdone\n",
            "Building wheels for collected packages: pygraphviz\n",
            "  Building wheel for pygraphviz (pyproject.toml) ... \u001b[?25l\u001b[?25hdone\n",
            "  Created wheel for pygraphviz: filename=pygraphviz-1.14-cp311-cp311-linux_x86_64.whl size=169683 sha256=2fdddce6a39d83a41147c258cabb89e4908d1baffa6a31a9206e53a926ce65d2\n",
            "  Stored in directory: /root/.cache/pip/wheels/9c/5f/df/6fffd2a4353f26dbb0e3672a1baf070c124a1d74a5f9318279\n",
            "Successfully built pygraphviz\n",
            "Installing collected packages: pygraphviz\n",
            "Successfully installed pygraphviz-1.14\n"
          ]
        }
      ]
    },
    {
      "cell_type": "code",
      "source": [
        "\n",
        "import instructor\n",
        "\n",
        "from openai import OpenAI\n",
        "from pydantic import BaseModel, Field\n",
        "from typing import List\n",
        "\n",
        "llm = OpenAI(\n",
        "        base_url=f\"http://{host}/v1\",\n",
        "        api_key=\"ollama\",  # required, but unused\n",
        "    )\n",
        "\n",
        "client = instructor.from_openai(\n",
        "    llm,\n",
        "    mode=instructor.Mode.JSON,\n",
        ")"
      ],
      "metadata": {
        "id": "f_vIWNDV7rbi"
      },
      "execution_count": 3,
      "outputs": []
    },
    {
      "cell_type": "markdown",
      "source": [
        "## create a general knowledge graph"
      ],
      "metadata": {
        "id": "SX9F7oSNbvfU"
      }
    },
    {
      "cell_type": "code",
      "source": [
        "from pydantic import BaseModel, Field\n",
        "from typing import Optional\n",
        "from graphviz import Digraph\n",
        "# from IPython.display import display\n",
        "\n",
        "class Node(BaseModel):\n",
        "    id: int\n",
        "    label: str\n",
        "    color: str = \"black\"\n",
        "    def __hash__(self) -> int:\n",
        "        return hash((id, self.label))\n",
        "\n",
        "class Edge(BaseModel):\n",
        "    source: int\n",
        "    target: int\n",
        "    label: str\n",
        "    color: str = \"black\"\n",
        "    def __hash__(self) -> int:\n",
        "        return hash((self.source, self.target, self.label))\n",
        "\n",
        "\n",
        "class KnowledgeGraph(BaseModel):\n",
        "    nodes: Optional[list[Node]] = Field(..., default_factory=list)  # A list of nodes in the knowledge graph.\n",
        "    edges: Optional[list[Edge]] = Field(..., default_factory=list)  # A list of edges in the knowledge graph.\n",
        "\n",
        "    def update(self, other: \"KnowledgeGraph\") -> \"KnowledgeGraph\":\n",
        "        # This method updates the current graph with the other graph, deduplicating nodes and edges.\n",
        "        return KnowledgeGraph(\n",
        "            nodes=list(set(self.nodes + other.nodes)),  # Combine and deduplicate nodes\n",
        "            edges=list(set(self.edges + other.edges)),  # Combine and deduplicate edges\n",
        "        )\n",
        "\n",
        "    def visualize_knowledge_graph(self):\n",
        "        dot = Digraph(comment=\"Knowledge Graph\")\n",
        "\n",
        "        for node in self.nodes:\n",
        "            dot.node(name=str(node.id), label=node.label, color=node.color)\n",
        "        for edge in self.edges:\n",
        "            dot.edge(str(edge.source), str(edge.target), label=edge.label, color=edge.color)\n",
        "        return dot\n",
        "        # return display(dot)"
      ],
      "metadata": {
        "id": "U_WS8u_x6WCj"
      },
      "execution_count": null,
      "outputs": []
    },
    {
      "cell_type": "code",
      "source": [
        "def generate_simple_graph(input) -> KnowledgeGraph:\n",
        "    return client.chat.completions.create(\n",
        "        model=modelid,\n",
        "        messages=[\n",
        "            {\n",
        "                \"role\": \"user\",\n",
        "                \"content\": f\"Help me understand the following by describing it as small knowledge graph: {input}\",\n",
        "            }\n",
        "        ],\n",
        "        response_model=KnowledgeGraph,\n",
        "    )\n",
        "\n",
        "graph=generate_simple_graph(\"Explain quantum mechanics\").visualize_knowledge_graph()\n",
        "graph"
      ],
      "metadata": {
        "colab": {
          "base_uri": "https://localhost:8080/",
          "height": 312
        },
        "id": "OCUzUYm87CG9",
        "outputId": "d0baaeaa-b893-4ab1-8516-6aed2cd8db0d"
      },
      "execution_count": null,
      "outputs": [
        {
          "output_type": "execute_result",
          "data": {
            "image/svg+xml": "<?xml version=\"1.0\" encoding=\"UTF-8\" standalone=\"no\"?>\n<!DOCTYPE svg PUBLIC \"-//W3C//DTD SVG 1.1//EN\"\n \"http://www.w3.org/Graphics/SVG/1.1/DTD/svg11.dtd\">\n<!-- Generated by graphviz version 2.43.0 (0)\n -->\n<!-- Title: %3 Pages: 1 -->\n<svg width=\"179pt\" height=\"218pt\"\n viewBox=\"0.00 0.00 179.44 218.00\" xmlns=\"http://www.w3.org/2000/svg\" xmlns:xlink=\"http://www.w3.org/1999/xlink\">\n<g id=\"graph0\" class=\"graph\" transform=\"scale(1 1) rotate(0) translate(4 214)\">\n<title>%3</title>\n<polygon fill=\"white\" stroke=\"transparent\" points=\"-4,4 -4,-214 175.44,-214 175.44,4 -4,4\"/>\n<!-- 0 -->\n<g id=\"node1\" class=\"node\">\n<title>0</title>\n<ellipse fill=\"none\" stroke=\"blue\" cx=\"73.44\" cy=\"-192\" rx=\"73.39\" ry=\"18\"/>\n<text text-anchor=\"middle\" x=\"73.44\" y=\"-188.3\" font-family=\"Times,serif\" font-size=\"14.00\">Quantum Physics</text>\n</g>\n<!-- 1 -->\n<g id=\"node2\" class=\"node\">\n<title>1</title>\n<ellipse fill=\"none\" stroke=\"green\" cx=\"73.44\" cy=\"-105\" rx=\"37.09\" ry=\"18\"/>\n<text text-anchor=\"middle\" x=\"73.44\" y=\"-101.3\" font-family=\"Times,serif\" font-size=\"14.00\">History</text>\n</g>\n<!-- 0&#45;&gt;1 -->\n<g id=\"edge1\" class=\"edge\">\n<title>0&#45;&gt;1</title>\n<path fill=\"none\" stroke=\"black\" d=\"M73.44,-173.8C73.44,-162.16 73.44,-146.55 73.44,-133.24\"/>\n<polygon fill=\"black\" stroke=\"black\" points=\"76.94,-133.18 73.44,-123.18 69.94,-133.18 76.94,-133.18\"/>\n<text text-anchor=\"middle\" x=\"122.44\" y=\"-144.8\" font-family=\"Times,serif\" font-size=\"14.00\">Discusses History</text>\n</g>\n<!-- 2 -->\n<g id=\"node3\" class=\"node\">\n<title>2</title>\n<ellipse fill=\"none\" stroke=\"red\" cx=\"73.44\" cy=\"-18\" rx=\"36.29\" ry=\"18\"/>\n<text text-anchor=\"middle\" x=\"73.44\" y=\"-14.3\" font-family=\"Times,serif\" font-size=\"14.00\">Theory</text>\n</g>\n<!-- 1&#45;&gt;2 -->\n<g id=\"edge2\" class=\"edge\">\n<title>1&#45;&gt;2</title>\n<path fill=\"none\" stroke=\"black\" d=\"M73.44,-86.8C73.44,-75.16 73.44,-59.55 73.44,-46.24\"/>\n<polygon fill=\"black\" stroke=\"black\" points=\"76.94,-46.18 73.44,-36.18 69.94,-46.18 76.94,-46.18\"/>\n<text text-anchor=\"middle\" x=\"91.44\" y=\"-57.8\" font-family=\"Times,serif\" font-size=\"14.00\">Led to</text>\n</g>\n</g>\n</svg>\n",
            "text/plain": [
              "<graphviz.graphs.Digraph at 0x782d486245d0>"
            ]
          },
          "metadata": {},
          "execution_count": 17
        }
      ]
    },
    {
      "cell_type": "code",
      "source": [
        "def generate_graph(input: list[str]) -> KnowledgeGraph:\n",
        "    # Initialize an empty KnowledgeGraph\n",
        "    cur_state = KnowledgeGraph()\n",
        "\n",
        "    # Iterate over the input list\n",
        "    for i, inp in enumerate(input):\n",
        "        new_updates = client.chat.completions.create(\n",
        "            model=modelid,\n",
        "            messages=[\n",
        "                {\n",
        "                    \"role\": \"system\",\n",
        "                    \"content\": \"\"\"You are an iterative knowledge graph builder.\n",
        "                    You are given the current state of the graph, and you must append the nodes and edges\n",
        "                    to it Do not procide any duplcates and try to reuse nodes as much as possible.\"\"\",\n",
        "                },\n",
        "                {\n",
        "                    \"role\": \"user\",\n",
        "                    \"content\": f\"\"\"Extract any new nodes and edges from the following:\n",
        "                    # Part {i}/{len(input)} of the input:\n",
        "\n",
        "                    {inp}\"\"\",\n",
        "                },\n",
        "                {\n",
        "                    \"role\": \"user\",\n",
        "                    \"content\": f\"\"\"Here is the current state of the graph:\n",
        "                    {cur_state.model_dump_json(indent=2)}\"\"\",\n",
        "                },\n",
        "            ],\n",
        "            response_model=KnowledgeGraph,\n",
        "        )  # type: ignore\n",
        "\n",
        "        # Update the current state with the new updates\n",
        "        cur_state = cur_state.update(new_updates)\n",
        "\n",
        "        # Draw the current state of the graph\n",
        "        cur_state.visualize_knowledge_graph()\n",
        "\n",
        "    # Return the final state of the KnowledgeGraph\n",
        "    return cur_state\n",
        "\n",
        "text_chunks = [\n",
        "    \"Jason knows a lot about quantum mechanics. He is a physicist. He is a professor\",\n",
        "    \"Professors are smart.\",\n",
        "    \"Sarah knows Jason and is a student of his.\",\n",
        "    \"Sarah is a student at the University of Toronto. and UofT is in Canada.\",\n",
        "]\n",
        "\n",
        "graph: KnowledgeGraph = generate_graph(text_chunks)\n",
        "\n",
        "graph.visualize_knowledge_graph()"
      ],
      "metadata": {
        "id": "r7g_TJgMGN38"
      },
      "execution_count": null,
      "outputs": []
    },
    {
      "cell_type": "markdown",
      "source": [
        "# Extract Persons and Relationship from Story"
      ],
      "metadata": {
        "id": "mWTF_vQ6UMRq"
      }
    },
    {
      "cell_type": "code",
      "source": [
        "get_ipython().system_raw(f\"ollama pull {modelid}\")"
      ],
      "metadata": {
        "id": "61m2dfadewAb"
      },
      "execution_count": 9,
      "outputs": []
    },
    {
      "cell_type": "markdown",
      "source": [
        "### create synthetic data for testing"
      ],
      "metadata": {
        "id": "auRJ0K-BgNEI"
      }
    },
    {
      "cell_type": "code",
      "source": [
        "system = \"Your are a horror thriller novel author who likes to write in the style of Steven King.\"\n",
        "prompt = \"\"\"\n",
        "Write a short and thrilling horror story about a 6 piece family that spend their holiday in a cabin. The story should be between 500 and 1000 words.\n",
        "\n",
        "The family is a father, a mother, 2 children, aunt , uncle and grandparents.\n",
        "At least one of the characters is a ghost.\n",
        "Mention all the characters and their relationship in the story.\n",
        "\"\"\"\n",
        "story_response=llm.chat.completions.create(model=modelid, messages = [{\"role\":\"system\", \"content\":system},{\"role\":\"user\", \"content\":prompt}])\n",
        "story = story_response.choices[0].message.content\n",
        "story"
      ],
      "metadata": {
        "colab": {
          "base_uri": "https://localhost:8080/",
          "height": 127
        },
        "id": "9BRa02nAU7FB",
        "outputId": "ad7f8662-3334-43e6-f421-1e47ac1725bd"
      },
      "execution_count": 11,
      "outputs": [
        {
          "output_type": "execute_result",
          "data": {
            "text/plain": [
              "'The cabin had been in our family for years, a cozy retreat nestled deep in the woods of rural Maine. My grandfather, George, had built it himself with his own two hands back in the 1950s. It was where we always spent our summer holidays, a time for laughter, good eating, and quality time together.\\n\\nThis year\\'s gathering included my parents, Rick and Sarah; their children, Emily (12) and her brother Ben (9); my aunt Rachel and uncle John; Grandma Helen and Grandpa George; and my own wife and I, Mike and Laura. We had all arrived on a warm summer afternoon, eager to trade in our urban lives for some peace and quiet surrounded by nature.\\n\\nAs we settled in, the kids ran off to explore the woods while their parents carried suitcases and coolers up to the cabin. Aunt Rachel began unpacking in the kitchen, her high-pitched chatter filling the air as she reminisced about past holidays here. Uncle John fiddled with the old generator outside, muttering about needing it to last all week.\\n\\nGrandma Helen busied herself making sandwiches for lunch, while Grandpa George took a seat at the picnic table, puffing on his pipe and watching us with twinkling eyes. My wife and I helped set up the bedrooms, putting our own kids down for their afternoon nap. As we worked, I started to feel an eerie presence lurking just out of sight.\\n\\nThat night, after dinner, we huddled around a campfire deep in the woods, listening to Grandpa George\\'s tales of logging days past. At first, the woods seemed alive and vibrant, full of crickets and fireflies doing their evening dance. As the stars began to twinkle overhead, however, I couldn\\'t shake the feeling that something watched us from just beyond the flickering light.\\n\\nIt wasn\\'t until after bedtime, when Emily began screaming about seeing \"her\" by her bed, that we realized Grandpa George\\'s spirit might not be resting where it should. Her words sent a chill down my spine: \"Mama\\'s here.\"\\n\\nI crept into their rooms to investigate and saw Ben staring at Emily with tears running down his cheek, as if he knew what it was to lose a loved one too soon.\\n\\n\"What is it?\" I asked him softly.\\n\\n\"Mama,\" he whispered. \"She misses us.\"\\n\\nGrandma Helen had gone off to her own bed that evening, complaining of exhaustion after the drive and day\\'s chores. Her absence now raised suspicions – could Grandpa George not be alone in the cabin?\\n\\nAs morning arrived, Uncle John found Grandma Helen missing, leaving only a kitchen window open on our side of the cabin. Then, I distinctly heard faint steps following mine in the night.\\n\\nWith daybreak lit the woods, we began questioning who might have slipped away into this vast wilderness to lose themselves. But only one person should not be here: Grandpa George\\'s still and silent presence haunted each room like an oppressive breath. No doubt it was true – the cabin hadn\\'t just welcomed our living presence – it held another more enduring guest.\\n\\nAt long last, Grandma Helen strolled back into view from deep in the woods, hair disheveled as she dusted grass off her sleeves, a confused expression on her face.\\n\\n\"Where...where have I been?\" she asked us uncertainly.\\n\\nMy mother offered an arm for comfort and helped Helen straighten up. \"It\\'s okay,\" she said reassuringly. \"You just got lost in the woods for a bit.\"\\n\\nI watched those comforting faces and sensed something dark lurking beneath – between, inside of them all now.\\n\\n\"Grandma?\" I ventured gently. \"Tell me. Wasn\\'t there... something else out here?\"\\n\\nEmily had always known her grandma still lived with us.\\n\\nWe heard the hush before we saw it in that silence.\\n\\nIt filled every corner of our minds as if from within ourselves and outside too: Our loved ones weren\\'t the only dead people here at the cabin tonight.'"
            ],
            "application/vnd.google.colaboratory.intrinsic+json": {
              "type": "string"
            }
          },
          "metadata": {},
          "execution_count": 11
        }
      ]
    },
    {
      "cell_type": "markdown",
      "source": [
        "### Our Knowledge Graph Model"
      ],
      "metadata": {
        "id": "CyFhmdS7gUmN"
      }
    },
    {
      "cell_type": "code",
      "source": [
        "from pydantic import BaseModel, Field\n",
        "from typing import Optional\n",
        "\n",
        "class Character(BaseModel):\n",
        "    id: str\n",
        "    name: str\n",
        "    description: str = \"no description\"\n",
        "    def __hash__(self) -> int:\n",
        "        return hash((id, self.name))\n",
        "\n",
        "class Relationship(BaseModel):\n",
        "    id: str\n",
        "    source: str\n",
        "    target: str\n",
        "    label: str\n",
        "    description: str = \"no description\"\n",
        "    def __hash__(self) -> int:\n",
        "        return hash((self.source, self.target, self.label))\n",
        "\n",
        "class KnowledgeGraph(BaseModel):\n",
        "    nodes: Optional[list[Character]] = Field(..., default_factory=list)\n",
        "    edges: Optional [ list[Relationship] ] = Field(..., default_factory=list)\n"
      ],
      "metadata": {
        "id": "OKguoRsDUYvr"
      },
      "execution_count": 32,
      "outputs": []
    },
    {
      "cell_type": "code",
      "source": [
        "def generate_relationship_graph(input) -> KnowledgeGraph:\n",
        "    return client.chat.completions.create(\n",
        "        model=modelid,\n",
        "        messages=[\n",
        "            {\n",
        "                \"role\": \"user\",\n",
        "                \"content\": f\"Extract the characters and their relationships from the following story and describing it as a knowledge graph: {input}\",\n",
        "            }\n",
        "        ],\n",
        "        response_model=KnowledgeGraph,\n",
        "    )\n",
        "\n",
        "\n",
        "relationships=generate_relationship_graph(story)\n",
        "relationships\n"
      ],
      "metadata": {
        "colab": {
          "base_uri": "https://localhost:8080/"
        },
        "id": "Xf8E8gx8gn5d",
        "outputId": "95284c0f-4654-4a49-b03e-bf56d928be4f"
      },
      "execution_count": 33,
      "outputs": [
        {
          "output_type": "execute_result",
          "data": {
            "text/plain": [
              "KnowledgeGraph(nodes=[Character(id='George', name='Grandpa George', description='Built the cabin in the 1950s'), Character(id='Helen', name='Grandma Helen', description=''), Character(id='Rick', name='Dad (Rick)', description=''), Character(id='Sarah', name='Mom (Sarah)', description=''), Character(id='Emily', name='Daughter (Emily)', description=''), Character(id='Ben', name='Son (Ben)', description=''), Character(id='Aunt Rachel', name='Aunt Rachel', description=''), Character(id='Uncle John', name='Uncle John', description='Tinkering with the old generator')], edges=[Relationship(id='George_Helen', source='George', target='Helen', label='Relationship (dead)', description=''), Relationship(id='Rick_Sarah', source='Rick', target='Sarah', label='Marital relationship', description=''), Relationship(id='Rick_Emily', source='Rick', target='Emily', label='Parent-child relationship', description=''), Relationship(id='Rick_Ben', source='Rick', target='Ben', label='Parent-child relationship', description=''), Relationship(id='Sarah_Emily', source='Sarah', target='Emily', label='Parent-child relationship', description=''), Relationship(id='Sarah_Ben', source='Sarah', target='Ben', label='Parent-child relationship', description=''), Relationship(id='Aunt_Rachel_Uncle_John', source='Aunt Rachel', target='Uncle John', label='Marital relationship', description='')])"
            ]
          },
          "metadata": {},
          "execution_count": 33
        }
      ]
    },
    {
      "cell_type": "code",
      "source": [
        "from graphviz import Digraph\n",
        "\n",
        "def visualize_relationship_graph(data: KnowledgeGraph):\n",
        "        dot = Digraph(comment=\"Relationships\")\n",
        "\n",
        "        for node in data.nodes:\n",
        "            dot.node(name=str(node.id), label=node.name, color=\"black\")\n",
        "        for edge in data.edges:\n",
        "            dot.edge(str(edge.source), str(edge.target), label=edge.label, color=\"black\")\n",
        "        return dot\n",
        "\n",
        "graph=visualize_relationship_graph(relationships)\n",
        "graph"
      ],
      "metadata": {
        "colab": {
          "base_uri": "https://localhost:8080/",
          "height": 312
        },
        "id": "v32QqlWAl50Y",
        "outputId": "13f32d83-f7e1-469f-e078-a0dd66692bc9"
      },
      "execution_count": 34,
      "outputs": [
        {
          "output_type": "execute_result",
          "data": {
            "image/svg+xml": "<?xml version=\"1.0\" encoding=\"UTF-8\" standalone=\"no\"?>\n<!DOCTYPE svg PUBLIC \"-//W3C//DTD SVG 1.1//EN\"\n \"http://www.w3.org/Graphics/SVG/1.1/DTD/svg11.dtd\">\n<!-- Generated by graphviz version 2.43.0 (0)\n -->\n<!-- Title: %3 Pages: 1 -->\n<svg width=\"866pt\" height=\"218pt\"\n viewBox=\"0.00 0.00 865.54 218.00\" xmlns=\"http://www.w3.org/2000/svg\" xmlns:xlink=\"http://www.w3.org/1999/xlink\">\n<g id=\"graph0\" class=\"graph\" transform=\"scale(1 1) rotate(0) translate(4 214)\">\n<title>%3</title>\n<polygon fill=\"white\" stroke=\"transparent\" points=\"-4,4 -4,-214 861.54,-214 861.54,4 -4,4\"/>\n<!-- George -->\n<g id=\"node1\" class=\"node\">\n<title>George</title>\n<ellipse fill=\"none\" stroke=\"black\" cx=\"69.54\" cy=\"-192\" rx=\"69.59\" ry=\"18\"/>\n<text text-anchor=\"middle\" x=\"69.54\" y=\"-188.3\" font-family=\"Times,serif\" font-size=\"14.00\">Grandpa George</text>\n</g>\n<!-- Helen -->\n<g id=\"node2\" class=\"node\">\n<title>Helen</title>\n<ellipse fill=\"none\" stroke=\"black\" cx=\"69.54\" cy=\"-105\" rx=\"67.69\" ry=\"18\"/>\n<text text-anchor=\"middle\" x=\"69.54\" y=\"-101.3\" font-family=\"Times,serif\" font-size=\"14.00\">Grandma Helen</text>\n</g>\n<!-- George&#45;&gt;Helen -->\n<g id=\"edge1\" class=\"edge\">\n<title>George&#45;&gt;Helen</title>\n<path fill=\"none\" stroke=\"black\" d=\"M69.54,-173.8C69.54,-162.16 69.54,-146.55 69.54,-133.24\"/>\n<polygon fill=\"black\" stroke=\"black\" points=\"73.04,-133.18 69.54,-123.18 66.04,-133.18 73.04,-133.18\"/>\n<text text-anchor=\"middle\" x=\"123.04\" y=\"-144.8\" font-family=\"Times,serif\" font-size=\"14.00\">Relationship (dead)</text>\n</g>\n<!-- Rick -->\n<g id=\"node3\" class=\"node\">\n<title>Rick</title>\n<ellipse fill=\"none\" stroke=\"black\" cx=\"402.54\" cy=\"-192\" rx=\"50.09\" ry=\"18\"/>\n<text text-anchor=\"middle\" x=\"402.54\" y=\"-188.3\" font-family=\"Times,serif\" font-size=\"14.00\">Dad (Rick)</text>\n</g>\n<!-- Sarah -->\n<g id=\"node4\" class=\"node\">\n<title>Sarah</title>\n<ellipse fill=\"none\" stroke=\"black\" cx=\"402.54\" cy=\"-105\" rx=\"59.29\" ry=\"18\"/>\n<text text-anchor=\"middle\" x=\"402.54\" y=\"-101.3\" font-family=\"Times,serif\" font-size=\"14.00\">Mom (Sarah)</text>\n</g>\n<!-- Rick&#45;&gt;Sarah -->\n<g id=\"edge2\" class=\"edge\">\n<title>Rick&#45;&gt;Sarah</title>\n<path fill=\"none\" stroke=\"black\" d=\"M402.54,-173.8C402.54,-162.16 402.54,-146.55 402.54,-133.24\"/>\n<polygon fill=\"black\" stroke=\"black\" points=\"406.04,-133.18 402.54,-123.18 399.04,-133.18 406.04,-133.18\"/>\n<text text-anchor=\"middle\" x=\"457.04\" y=\"-144.8\" font-family=\"Times,serif\" font-size=\"14.00\">Marital relationship</text>\n</g>\n<!-- Emily -->\n<g id=\"node5\" class=\"node\">\n<title>Emily</title>\n<ellipse fill=\"none\" stroke=\"black\" cx=\"218.54\" cy=\"-18\" rx=\"73.39\" ry=\"18\"/>\n<text text-anchor=\"middle\" x=\"218.54\" y=\"-14.3\" font-family=\"Times,serif\" font-size=\"14.00\">Daughter (Emily)</text>\n</g>\n<!-- Rick&#45;&gt;Emily -->\n<g id=\"edge3\" class=\"edge\">\n<title>Rick&#45;&gt;Emily</title>\n<path fill=\"none\" stroke=\"black\" d=\"M352.75,-189.73C304.92,-185.53 234.98,-170.93 200.54,-123 184.27,-100.34 193.72,-67.85 204.05,-45.24\"/>\n<polygon fill=\"black\" stroke=\"black\" points=\"207.22,-46.73 208.46,-36.21 200.93,-43.66 207.22,-46.73\"/>\n<text text-anchor=\"middle\" x=\"267.54\" y=\"-101.3\" font-family=\"Times,serif\" font-size=\"14.00\">Parent&#45;child relationship</text>\n</g>\n<!-- Ben -->\n<g id=\"node6\" class=\"node\">\n<title>Ben</title>\n<ellipse fill=\"none\" stroke=\"black\" cx=\"470.54\" cy=\"-18\" rx=\"46.59\" ry=\"18\"/>\n<text text-anchor=\"middle\" x=\"470.54\" y=\"-14.3\" font-family=\"Times,serif\" font-size=\"14.00\">Son (Ben)</text>\n</g>\n<!-- Rick&#45;&gt;Ben -->\n<g id=\"edge4\" class=\"edge\">\n<title>Rick&#45;&gt;Ben</title>\n<path fill=\"none\" stroke=\"black\" d=\"M451.05,-187.36C473.76,-183.12 499.32,-174.27 515.54,-156 546.01,-121.69 554.54,-93.71 531.54,-54 527.19,-46.48 520.54,-40.44 513.22,-35.63\"/>\n<polygon fill=\"black\" stroke=\"black\" points=\"514.81,-32.51 504.4,-30.54 511.31,-38.57 514.81,-32.51\"/>\n<text text-anchor=\"middle\" x=\"612.54\" y=\"-101.3\" font-family=\"Times,serif\" font-size=\"14.00\">Parent&#45;child relationship</text>\n</g>\n<!-- Sarah&#45;&gt;Emily -->\n<g id=\"edge5\" class=\"edge\">\n<title>Sarah&#45;&gt;Emily</title>\n<path fill=\"none\" stroke=\"black\" d=\"M356.89,-93.32C314.14,-83.3 256.64,-69.73 255.54,-69 246.35,-62.93 238.61,-53.76 232.63,-44.92\"/>\n<polygon fill=\"black\" stroke=\"black\" points=\"235.51,-42.94 227.23,-36.32 229.58,-46.66 235.51,-42.94\"/>\n<text text-anchor=\"middle\" x=\"322.54\" y=\"-57.8\" font-family=\"Times,serif\" font-size=\"14.00\">Parent&#45;child relationship</text>\n</g>\n<!-- Sarah&#45;&gt;Ben -->\n<g id=\"edge6\" class=\"edge\">\n<title>Sarah&#45;&gt;Ben</title>\n<path fill=\"none\" stroke=\"black\" d=\"M395.84,-87.03C392.93,-76.73 391.41,-63.75 397.54,-54 403.45,-44.62 412.64,-37.7 422.54,-32.61\"/>\n<polygon fill=\"black\" stroke=\"black\" points=\"424.09,-35.75 431.75,-28.43 421.2,-29.37 424.09,-35.75\"/>\n<text text-anchor=\"middle\" x=\"464.54\" y=\"-57.8\" font-family=\"Times,serif\" font-size=\"14.00\">Parent&#45;child relationship</text>\n</g>\n<!-- Aunt Rachel -->\n<g id=\"node7\" class=\"node\">\n<title>Aunt Rachel</title>\n<ellipse fill=\"none\" stroke=\"black\" cx=\"748.54\" cy=\"-192\" rx=\"55.49\" ry=\"18\"/>\n<text text-anchor=\"middle\" x=\"748.54\" y=\"-188.3\" font-family=\"Times,serif\" font-size=\"14.00\">Aunt Rachel</text>\n</g>\n<!-- Uncle John -->\n<g id=\"node8\" class=\"node\">\n<title>Uncle John</title>\n<ellipse fill=\"none\" stroke=\"black\" cx=\"748.54\" cy=\"-105\" rx=\"50.89\" ry=\"18\"/>\n<text text-anchor=\"middle\" x=\"748.54\" y=\"-101.3\" font-family=\"Times,serif\" font-size=\"14.00\">Uncle John</text>\n</g>\n<!-- Aunt Rachel&#45;&gt;Uncle John -->\n<g id=\"edge7\" class=\"edge\">\n<title>Aunt Rachel&#45;&gt;Uncle John</title>\n<path fill=\"none\" stroke=\"black\" d=\"M748.54,-173.8C748.54,-162.16 748.54,-146.55 748.54,-133.24\"/>\n<polygon fill=\"black\" stroke=\"black\" points=\"752.04,-133.18 748.54,-123.18 745.04,-133.18 752.04,-133.18\"/>\n<text text-anchor=\"middle\" x=\"803.04\" y=\"-144.8\" font-family=\"Times,serif\" font-size=\"14.00\">Marital relationship</text>\n</g>\n</g>\n</svg>\n",
            "text/plain": [
              "<graphviz.graphs.Digraph at 0x7d76a6d1d4d0>"
            ]
          },
          "metadata": {},
          "execution_count": 34
        }
      ]
    }
  ]
}