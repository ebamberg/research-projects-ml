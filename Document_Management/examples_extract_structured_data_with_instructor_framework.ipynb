{
  "nbformat": 4,
  "nbformat_minor": 0,
  "metadata": {
    "colab": {
      "provenance": [],
      "authorship_tag": "ABX9TyOcSF0fMN1lZbu/9whx/U/x",
      "include_colab_link": true
    },
    "kernelspec": {
      "name": "python3",
      "display_name": "Python 3"
    },
    "language_info": {
      "name": "python"
    }
  },
  "cells": [
    {
      "cell_type": "markdown",
      "metadata": {
        "id": "view-in-github",
        "colab_type": "text"
      },
      "source": [
        "<a href=\"https://colab.research.google.com/github/ebamberg/research-projects-ml/blob/main/Document_Management/examples_extract_structured_data_with_instructor_framework.ipynb\" target=\"_parent\"><img src=\"https://colab.research.google.com/assets/colab-badge.svg\" alt=\"Open In Colab\"/></a>"
      ]
    },
    {
      "cell_type": "code",
      "execution_count": null,
      "metadata": {
        "id": "KkeSaES_M_Nj"
      },
      "outputs": [],
      "source": [
        "!pip install ollama langchain_community --quiet\n",
        "\n",
        "modelid=\"llama3.1\"\n",
        "emb_modelid=\"mxbai-embed-large\"\n",
        "\n",
        "get_ipython().system_raw(\"curl -fsSL https://ollama.com/install.sh | sh\")\n",
        "get_ipython().system_raw(\"ollama serve &\")\n",
        "get_ipython().system_raw(f\"ollama pull {modelid}\")\n",
        "get_ipython().system_raw(f\"ollama pull {emb_modelid}\")"
      ]
    },
    {
      "cell_type": "code",
      "source": [
        "from openai import OpenAI\n",
        "from pydantic import BaseModel, Field\n",
        "from typing import List\n",
        "\n",
        "import instructor\n",
        "\n",
        "\n",
        "class Character(BaseModel):\n",
        "    name: str\n",
        "    age: int\n",
        "    fact: List[str] = Field(..., description=\"A list of facts about the character\")\n",
        "\n",
        "\n",
        "# enables `response_model` in create call\n",
        "client = instructor.from_openai(\n",
        "    OpenAI(\n",
        "        base_url=\"http://localhost:11434/v1\",\n",
        "        api_key=\"ollama\",  # required, but unused\n",
        "    ),\n",
        "    mode=instructor.Mode.JSON,\n",
        ")\n",
        "\n",
        "resp = client.chat.completions.create(\n",
        "    model=modelid,\n",
        "    messages=[\n",
        "        {\n",
        "            \"role\": \"user\",\n",
        "            \"content\": \"Tell me about the Harry Potter\",\n",
        "        }\n",
        "    ],\n",
        "    response_model=Character,\n",
        ")\n",
        "print(resp.model_dump_json(indent=2))\n",
        "\"\"\"\n",
        "{\n",
        "  \"name\": \"Harry James Potter\",\n",
        "  \"age\": 37,\n",
        "  \"fact\": [\n",
        "    \"He is the chosen one.\",\n",
        "    \"He has a lightning-shaped scar on his forehead.\",\n",
        "    \"He is the son of James and Lily Potter.\",\n",
        "    \"He attended Hogwarts School of Witchcraft and Wizardry.\",\n",
        "    \"He is a skilled wizard and sorcerer.\",\n",
        "    \"He fought against Lord Voldemort and his followers.\",\n",
        "    \"He has a pet owl named Snowy.\"\n",
        "  ]\n",
        "}\n",
        "\"\"\""
      ],
      "metadata": {
        "id": "_tjDvZE8Nga0"
      },
      "execution_count": null,
      "outputs": []
    }
  ]
}